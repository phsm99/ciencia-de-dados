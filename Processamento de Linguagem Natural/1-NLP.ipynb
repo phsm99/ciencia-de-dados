{
  "nbformat": 4,
  "nbformat_minor": 0,
  "metadata": {
    "kernelspec": {
      "display_name": "nlp-class",
      "language": "python",
      "name": "nlp-class"
    },
    "language_info": {
      "codemirror_mode": {
        "name": "ipython",
        "version": 3
      },
      "file_extension": ".py",
      "mimetype": "text/x-python",
      "name": "python",
      "nbconvert_exporter": "python",
      "pygments_lexer": "ipython3",
      "version": "3.6.5"
    },
    "colab": {
      "name": "Prática Aula 1 - NLP.ipynb",
      "provenance": [],
      "collapsed_sections": [
        "-XLXgdESYG-J",
        "wFER3k8KYe-F",
        "kWT1Es2jfrtz"
      ]
    }
  },
  "cells": [
    {
      "cell_type": "code",
      "metadata": {
        "id": "JlY_gfsowtDw",
        "colab": {
          "base_uri": "https://localhost:8080/"
        },
        "outputId": "d5daf78a-5007-465c-8430-f68059c9f6ea"
      },
      "source": [
        "#Bibliotecas que precisam ser instaladas para a prática:\n",
        "!pip install unidecode==1.2.0\n",
        "!pip install wikipedia==1.4.0\n",
        "!pip install spacy==2.2.4\n",
        "!python -m spacy download en\n",
        "!python -m spacy download pt"
      ],
      "execution_count": null,
      "outputs": [
        {
          "output_type": "stream",
          "name": "stdout",
          "text": [
            "Requirement already satisfied: unidecode==1.2.0 in /usr/local/lib/python3.7/dist-packages (1.2.0)\n",
            "Requirement already satisfied: wikipedia==1.4.0 in /usr/local/lib/python3.7/dist-packages (1.4.0)\n",
            "Requirement already satisfied: beautifulsoup4 in /usr/local/lib/python3.7/dist-packages (from wikipedia==1.4.0) (4.6.3)\n",
            "Requirement already satisfied: requests<3.0.0,>=2.0.0 in /usr/local/lib/python3.7/dist-packages (from wikipedia==1.4.0) (2.23.0)\n",
            "Requirement already satisfied: idna<3,>=2.5 in /usr/local/lib/python3.7/dist-packages (from requests<3.0.0,>=2.0.0->wikipedia==1.4.0) (2.10)\n",
            "Requirement already satisfied: chardet<4,>=3.0.2 in /usr/local/lib/python3.7/dist-packages (from requests<3.0.0,>=2.0.0->wikipedia==1.4.0) (3.0.4)\n",
            "Requirement already satisfied: urllib3!=1.25.0,!=1.25.1,<1.26,>=1.21.1 in /usr/local/lib/python3.7/dist-packages (from requests<3.0.0,>=2.0.0->wikipedia==1.4.0) (1.24.3)\n",
            "Requirement already satisfied: certifi>=2017.4.17 in /usr/local/lib/python3.7/dist-packages (from requests<3.0.0,>=2.0.0->wikipedia==1.4.0) (2021.10.8)\n",
            "Requirement already satisfied: spacy==2.2.4 in /usr/local/lib/python3.7/dist-packages (2.2.4)\n",
            "Requirement already satisfied: murmurhash<1.1.0,>=0.28.0 in /usr/local/lib/python3.7/dist-packages (from spacy==2.2.4) (1.0.6)\n",
            "Requirement already satisfied: preshed<3.1.0,>=3.0.2 in /usr/local/lib/python3.7/dist-packages (from spacy==2.2.4) (3.0.6)\n",
            "Requirement already satisfied: numpy>=1.15.0 in /usr/local/lib/python3.7/dist-packages (from spacy==2.2.4) (1.19.5)\n",
            "Requirement already satisfied: thinc==7.4.0 in /usr/local/lib/python3.7/dist-packages (from spacy==2.2.4) (7.4.0)\n",
            "Requirement already satisfied: requests<3.0.0,>=2.13.0 in /usr/local/lib/python3.7/dist-packages (from spacy==2.2.4) (2.23.0)\n",
            "Requirement already satisfied: cymem<2.1.0,>=2.0.2 in /usr/local/lib/python3.7/dist-packages (from spacy==2.2.4) (2.0.6)\n",
            "Requirement already satisfied: tqdm<5.0.0,>=4.38.0 in /usr/local/lib/python3.7/dist-packages (from spacy==2.2.4) (4.62.3)\n",
            "Requirement already satisfied: blis<0.5.0,>=0.4.0 in /usr/local/lib/python3.7/dist-packages (from spacy==2.2.4) (0.4.1)\n",
            "Requirement already satisfied: catalogue<1.1.0,>=0.0.7 in /usr/local/lib/python3.7/dist-packages (from spacy==2.2.4) (1.0.0)\n",
            "Requirement already satisfied: wasabi<1.1.0,>=0.4.0 in /usr/local/lib/python3.7/dist-packages (from spacy==2.2.4) (0.9.0)\n",
            "Requirement already satisfied: setuptools in /usr/local/lib/python3.7/dist-packages (from spacy==2.2.4) (57.4.0)\n",
            "Requirement already satisfied: srsly<1.1.0,>=1.0.2 in /usr/local/lib/python3.7/dist-packages (from spacy==2.2.4) (1.0.5)\n",
            "Requirement already satisfied: plac<1.2.0,>=0.9.6 in /usr/local/lib/python3.7/dist-packages (from spacy==2.2.4) (1.1.3)\n",
            "Requirement already satisfied: importlib-metadata>=0.20 in /usr/local/lib/python3.7/dist-packages (from catalogue<1.1.0,>=0.0.7->spacy==2.2.4) (4.10.1)\n",
            "Requirement already satisfied: zipp>=0.5 in /usr/local/lib/python3.7/dist-packages (from importlib-metadata>=0.20->catalogue<1.1.0,>=0.0.7->spacy==2.2.4) (3.7.0)\n",
            "Requirement already satisfied: typing-extensions>=3.6.4 in /usr/local/lib/python3.7/dist-packages (from importlib-metadata>=0.20->catalogue<1.1.0,>=0.0.7->spacy==2.2.4) (3.10.0.2)\n",
            "Requirement already satisfied: certifi>=2017.4.17 in /usr/local/lib/python3.7/dist-packages (from requests<3.0.0,>=2.13.0->spacy==2.2.4) (2021.10.8)\n",
            "Requirement already satisfied: chardet<4,>=3.0.2 in /usr/local/lib/python3.7/dist-packages (from requests<3.0.0,>=2.13.0->spacy==2.2.4) (3.0.4)\n",
            "Requirement already satisfied: idna<3,>=2.5 in /usr/local/lib/python3.7/dist-packages (from requests<3.0.0,>=2.13.0->spacy==2.2.4) (2.10)\n",
            "Requirement already satisfied: urllib3!=1.25.0,!=1.25.1,<1.26,>=1.21.1 in /usr/local/lib/python3.7/dist-packages (from requests<3.0.0,>=2.13.0->spacy==2.2.4) (1.24.3)\n",
            "Collecting en_core_web_sm==2.2.5\n",
            "  Downloading https://github.com/explosion/spacy-models/releases/download/en_core_web_sm-2.2.5/en_core_web_sm-2.2.5.tar.gz (12.0 MB)\n",
            "\u001b[K     |████████████████████████████████| 12.0 MB 8.6 MB/s \n",
            "\u001b[?25hRequirement already satisfied: spacy>=2.2.2 in /usr/local/lib/python3.7/dist-packages (from en_core_web_sm==2.2.5) (2.2.4)\n",
            "Requirement already satisfied: numpy>=1.15.0 in /usr/local/lib/python3.7/dist-packages (from spacy>=2.2.2->en_core_web_sm==2.2.5) (1.19.5)\n",
            "Requirement already satisfied: cymem<2.1.0,>=2.0.2 in /usr/local/lib/python3.7/dist-packages (from spacy>=2.2.2->en_core_web_sm==2.2.5) (2.0.6)\n",
            "Requirement already satisfied: murmurhash<1.1.0,>=0.28.0 in /usr/local/lib/python3.7/dist-packages (from spacy>=2.2.2->en_core_web_sm==2.2.5) (1.0.6)\n",
            "Requirement already satisfied: setuptools in /usr/local/lib/python3.7/dist-packages (from spacy>=2.2.2->en_core_web_sm==2.2.5) (57.4.0)\n",
            "Requirement already satisfied: preshed<3.1.0,>=3.0.2 in /usr/local/lib/python3.7/dist-packages (from spacy>=2.2.2->en_core_web_sm==2.2.5) (3.0.6)\n",
            "Requirement already satisfied: catalogue<1.1.0,>=0.0.7 in /usr/local/lib/python3.7/dist-packages (from spacy>=2.2.2->en_core_web_sm==2.2.5) (1.0.0)\n",
            "Requirement already satisfied: plac<1.2.0,>=0.9.6 in /usr/local/lib/python3.7/dist-packages (from spacy>=2.2.2->en_core_web_sm==2.2.5) (1.1.3)\n",
            "Requirement already satisfied: tqdm<5.0.0,>=4.38.0 in /usr/local/lib/python3.7/dist-packages (from spacy>=2.2.2->en_core_web_sm==2.2.5) (4.62.3)\n",
            "Requirement already satisfied: srsly<1.1.0,>=1.0.2 in /usr/local/lib/python3.7/dist-packages (from spacy>=2.2.2->en_core_web_sm==2.2.5) (1.0.5)\n",
            "Requirement already satisfied: blis<0.5.0,>=0.4.0 in /usr/local/lib/python3.7/dist-packages (from spacy>=2.2.2->en_core_web_sm==2.2.5) (0.4.1)\n",
            "Requirement already satisfied: wasabi<1.1.0,>=0.4.0 in /usr/local/lib/python3.7/dist-packages (from spacy>=2.2.2->en_core_web_sm==2.2.5) (0.9.0)\n",
            "Requirement already satisfied: requests<3.0.0,>=2.13.0 in /usr/local/lib/python3.7/dist-packages (from spacy>=2.2.2->en_core_web_sm==2.2.5) (2.23.0)\n",
            "Requirement already satisfied: thinc==7.4.0 in /usr/local/lib/python3.7/dist-packages (from spacy>=2.2.2->en_core_web_sm==2.2.5) (7.4.0)\n",
            "Requirement already satisfied: importlib-metadata>=0.20 in /usr/local/lib/python3.7/dist-packages (from catalogue<1.1.0,>=0.0.7->spacy>=2.2.2->en_core_web_sm==2.2.5) (4.10.1)\n",
            "Requirement already satisfied: zipp>=0.5 in /usr/local/lib/python3.7/dist-packages (from importlib-metadata>=0.20->catalogue<1.1.0,>=0.0.7->spacy>=2.2.2->en_core_web_sm==2.2.5) (3.7.0)\n",
            "Requirement already satisfied: typing-extensions>=3.6.4 in /usr/local/lib/python3.7/dist-packages (from importlib-metadata>=0.20->catalogue<1.1.0,>=0.0.7->spacy>=2.2.2->en_core_web_sm==2.2.5) (3.10.0.2)\n",
            "Requirement already satisfied: urllib3!=1.25.0,!=1.25.1,<1.26,>=1.21.1 in /usr/local/lib/python3.7/dist-packages (from requests<3.0.0,>=2.13.0->spacy>=2.2.2->en_core_web_sm==2.2.5) (1.24.3)\n",
            "Requirement already satisfied: idna<3,>=2.5 in /usr/local/lib/python3.7/dist-packages (from requests<3.0.0,>=2.13.0->spacy>=2.2.2->en_core_web_sm==2.2.5) (2.10)\n",
            "Requirement already satisfied: chardet<4,>=3.0.2 in /usr/local/lib/python3.7/dist-packages (from requests<3.0.0,>=2.13.0->spacy>=2.2.2->en_core_web_sm==2.2.5) (3.0.4)\n",
            "Requirement already satisfied: certifi>=2017.4.17 in /usr/local/lib/python3.7/dist-packages (from requests<3.0.0,>=2.13.0->spacy>=2.2.2->en_core_web_sm==2.2.5) (2021.10.8)\n",
            "\u001b[38;5;2m✔ Download and installation successful\u001b[0m\n",
            "You can now load the model via spacy.load('en_core_web_sm')\n",
            "\u001b[38;5;2m✔ Linking successful\u001b[0m\n",
            "/usr/local/lib/python3.7/dist-packages/en_core_web_sm -->\n",
            "/usr/local/lib/python3.7/dist-packages/spacy/data/en\n",
            "You can now load the model via spacy.load('en')\n",
            "Collecting pt_core_news_sm==2.2.5\n",
            "  Downloading https://github.com/explosion/spacy-models/releases/download/pt_core_news_sm-2.2.5/pt_core_news_sm-2.2.5.tar.gz (21.2 MB)\n",
            "\u001b[K     |████████████████████████████████| 21.2 MB 1.2 MB/s \n",
            "\u001b[?25hRequirement already satisfied: spacy>=2.2.2 in /usr/local/lib/python3.7/dist-packages (from pt_core_news_sm==2.2.5) (2.2.4)\n",
            "Requirement already satisfied: plac<1.2.0,>=0.9.6 in /usr/local/lib/python3.7/dist-packages (from spacy>=2.2.2->pt_core_news_sm==2.2.5) (1.1.3)\n",
            "Requirement already satisfied: catalogue<1.1.0,>=0.0.7 in /usr/local/lib/python3.7/dist-packages (from spacy>=2.2.2->pt_core_news_sm==2.2.5) (1.0.0)\n",
            "Requirement already satisfied: srsly<1.1.0,>=1.0.2 in /usr/local/lib/python3.7/dist-packages (from spacy>=2.2.2->pt_core_news_sm==2.2.5) (1.0.5)\n",
            "Requirement already satisfied: blis<0.5.0,>=0.4.0 in /usr/local/lib/python3.7/dist-packages (from spacy>=2.2.2->pt_core_news_sm==2.2.5) (0.4.1)\n",
            "Requirement already satisfied: preshed<3.1.0,>=3.0.2 in /usr/local/lib/python3.7/dist-packages (from spacy>=2.2.2->pt_core_news_sm==2.2.5) (3.0.6)\n",
            "Requirement already satisfied: murmurhash<1.1.0,>=0.28.0 in /usr/local/lib/python3.7/dist-packages (from spacy>=2.2.2->pt_core_news_sm==2.2.5) (1.0.6)\n",
            "Requirement already satisfied: thinc==7.4.0 in /usr/local/lib/python3.7/dist-packages (from spacy>=2.2.2->pt_core_news_sm==2.2.5) (7.4.0)\n",
            "Requirement already satisfied: numpy>=1.15.0 in /usr/local/lib/python3.7/dist-packages (from spacy>=2.2.2->pt_core_news_sm==2.2.5) (1.19.5)\n",
            "Requirement already satisfied: requests<3.0.0,>=2.13.0 in /usr/local/lib/python3.7/dist-packages (from spacy>=2.2.2->pt_core_news_sm==2.2.5) (2.23.0)\n",
            "Requirement already satisfied: wasabi<1.1.0,>=0.4.0 in /usr/local/lib/python3.7/dist-packages (from spacy>=2.2.2->pt_core_news_sm==2.2.5) (0.9.0)\n",
            "Requirement already satisfied: cymem<2.1.0,>=2.0.2 in /usr/local/lib/python3.7/dist-packages (from spacy>=2.2.2->pt_core_news_sm==2.2.5) (2.0.6)\n",
            "Requirement already satisfied: setuptools in /usr/local/lib/python3.7/dist-packages (from spacy>=2.2.2->pt_core_news_sm==2.2.5) (57.4.0)\n",
            "Requirement already satisfied: tqdm<5.0.0,>=4.38.0 in /usr/local/lib/python3.7/dist-packages (from spacy>=2.2.2->pt_core_news_sm==2.2.5) (4.62.3)\n",
            "Requirement already satisfied: importlib-metadata>=0.20 in /usr/local/lib/python3.7/dist-packages (from catalogue<1.1.0,>=0.0.7->spacy>=2.2.2->pt_core_news_sm==2.2.5) (4.10.1)\n",
            "Requirement already satisfied: zipp>=0.5 in /usr/local/lib/python3.7/dist-packages (from importlib-metadata>=0.20->catalogue<1.1.0,>=0.0.7->spacy>=2.2.2->pt_core_news_sm==2.2.5) (3.7.0)\n",
            "Requirement already satisfied: typing-extensions>=3.6.4 in /usr/local/lib/python3.7/dist-packages (from importlib-metadata>=0.20->catalogue<1.1.0,>=0.0.7->spacy>=2.2.2->pt_core_news_sm==2.2.5) (3.10.0.2)\n",
            "Requirement already satisfied: idna<3,>=2.5 in /usr/local/lib/python3.7/dist-packages (from requests<3.0.0,>=2.13.0->spacy>=2.2.2->pt_core_news_sm==2.2.5) (2.10)\n",
            "Requirement already satisfied: chardet<4,>=3.0.2 in /usr/local/lib/python3.7/dist-packages (from requests<3.0.0,>=2.13.0->spacy>=2.2.2->pt_core_news_sm==2.2.5) (3.0.4)\n",
            "Requirement already satisfied: certifi>=2017.4.17 in /usr/local/lib/python3.7/dist-packages (from requests<3.0.0,>=2.13.0->spacy>=2.2.2->pt_core_news_sm==2.2.5) (2021.10.8)\n",
            "Requirement already satisfied: urllib3!=1.25.0,!=1.25.1,<1.26,>=1.21.1 in /usr/local/lib/python3.7/dist-packages (from requests<3.0.0,>=2.13.0->spacy>=2.2.2->pt_core_news_sm==2.2.5) (1.24.3)\n",
            "\u001b[38;5;2m✔ Download and installation successful\u001b[0m\n",
            "You can now load the model via spacy.load('pt_core_news_sm')\n",
            "\u001b[38;5;2m✔ Linking successful\u001b[0m\n",
            "/usr/local/lib/python3.7/dist-packages/pt_core_news_sm -->\n",
            "/usr/local/lib/python3.7/dist-packages/spacy/data/pt\n",
            "You can now load the model via spacy.load('pt')\n"
          ]
        }
      ]
    },
    {
      "cell_type": "markdown",
      "metadata": {
        "id": "eTicnCB6yLNd"
      },
      "source": [
        "# Expressões Regulares"
      ]
    },
    {
      "cell_type": "markdown",
      "metadata": {
        "id": "7Oh3sCHZU2aY"
      },
      "source": [
        "- O Pacote que permite utilizar ER é <b>re</b>\n",
        "- Existem vários métodos para utilizar expressões regulares em python., alguns deles para <b>buscar</b> padrões são:\n",
        "\n",
        "|   Método   |                                      Descrição                                     |\n",
        "|:----------:|:----------------------------------------------------------------------------------:|\n",
        "| match()    | Determina se a RE combina com o início da string.                                  |\n",
        "| search()   | Varre toda a string, procurando qualquer local onde esta RE tem correspondência.   |\n",
        "| findall()  | Encontra todas as substrings onde a RE corresponde, e as retorna como uma lista.   |\n",
        "| finditer() | Encontra todas as substrings onde a RE corresponde, e as retorna como um iterador. |\n",
        "\n",
        "- Métodos para modificar strings:\n",
        "\n",
        "| Método  | Descrição                                                                                            |\n",
        "|---------|------------------------------------------------------------------------------------------------------|\n",
        "| split() | Divide a string em uma lista, dividindo-a onde quer que haja correspondência com a RE                |\n",
        "| sub()   | Encontra todas as substrings que correspondem com a RE e faz a substituição por uma string diferente |\n",
        "| subn()  |  É o mesmo que o método sub(), mas retorna a nova string e o número de substituições                 |\n",
        "\n",
        "\n",
        "Link: https://docs.python.org/pt-br/3.8/howto/regex.html\n",
        "\n",
        "Agora vamos exemplificar cada um desses métodos:"
      ]
    },
    {
      "cell_type": "code",
      "metadata": {
        "id": "VlypLoBCU2aZ"
      },
      "source": [
        "import re"
      ],
      "execution_count": null,
      "outputs": []
    },
    {
      "cell_type": "code",
      "metadata": {
        "id": "31BIABdqU2ae"
      },
      "source": [
        "texto = \"Vamos encontrar Padrões nesta string!! \\nAgora é a nossa primeira prática de NLP!! Vamos aprender a procurar padrões!! \\nBelo Horizonte, 2000-12-01.\""
      ],
      "execution_count": null,
      "outputs": []
    },
    {
      "cell_type": "code",
      "metadata": {
        "id": "TfETR1kbU2ai",
        "colab": {
          "base_uri": "https://localhost:8080/"
        },
        "outputId": "5d2afb60-a4be-4910-cb5e-8803fb046301"
      },
      "source": [
        "print(texto)"
      ],
      "execution_count": null,
      "outputs": [
        {
          "output_type": "stream",
          "name": "stdout",
          "text": [
            "Vamos encontrar Padrões nesta string!! \n",
            "Agora é a nossa primeira prática de NLP!! Vamos aprender a procurar padrões!! \n",
            "Belo Horizonte, 2000-12-01.\n"
          ]
        }
      ]
    },
    {
      "cell_type": "markdown",
      "metadata": {
        "id": "JhDqvmbOU2ap"
      },
      "source": [
        "## Match\n",
        "Determina se a RE combina com o início da string"
      ]
    },
    {
      "cell_type": "code",
      "metadata": {
        "id": "g_a4wIfkU2aq",
        "colab": {
          "base_uri": "https://localhost:8080/"
        },
        "outputId": "1d97a5fc-7fd0-4220-f347-c5a7097e5733"
      },
      "source": [
        "re.match(\"Vamos\", texto)"
      ],
      "execution_count": null,
      "outputs": [
        {
          "output_type": "execute_result",
          "data": {
            "text/plain": [
              "<re.Match object; span=(0, 5), match='Vamos'>"
            ]
          },
          "metadata": {},
          "execution_count": 163
        }
      ]
    },
    {
      "cell_type": "code",
      "metadata": {
        "id": "lP71YRFKU2au"
      },
      "source": [
        "re.match(\"nesta\", texto)"
      ],
      "execution_count": null,
      "outputs": []
    },
    {
      "cell_type": "markdown",
      "metadata": {
        "id": "_BGkJkiyU2ay"
      },
      "source": [
        "é case sensitive"
      ]
    },
    {
      "cell_type": "code",
      "metadata": {
        "id": "pbqBQJDYU2a0"
      },
      "source": [
        "re.match(r\"vamos\", texto)"
      ],
      "execution_count": null,
      "outputs": []
    },
    {
      "cell_type": "markdown",
      "metadata": {
        "id": "0Mjq_-2UU2a4"
      },
      "source": [
        "## Search\n",
        "Varre toda a string, procurando qualquer local onde esta RE tem correspondência"
      ]
    },
    {
      "cell_type": "code",
      "metadata": {
        "id": "S6-yebBWU2a5",
        "colab": {
          "base_uri": "https://localhost:8080/"
        },
        "outputId": "ec9cf2c0-c761-4080-8795-4da065615d56"
      },
      "source": [
        "re.search(\"Vamos\", texto)"
      ],
      "execution_count": null,
      "outputs": [
        {
          "output_type": "execute_result",
          "data": {
            "text/plain": [
              "<re.Match object; span=(0, 5), match='Vamos'>"
            ]
          },
          "metadata": {},
          "execution_count": 166
        }
      ]
    },
    {
      "cell_type": "code",
      "metadata": {
        "id": "lo2a0K_6U2a_",
        "colab": {
          "base_uri": "https://localhost:8080/"
        },
        "outputId": "4d712a36-7842-43c7-fe7a-115c878c2d46"
      },
      "source": [
        "re.search(\"encontrar\", texto)"
      ],
      "execution_count": null,
      "outputs": [
        {
          "output_type": "execute_result",
          "data": {
            "text/plain": [
              "<re.Match object; span=(6, 15), match='encontrar'>"
            ]
          },
          "metadata": {},
          "execution_count": 167
        }
      ]
    },
    {
      "cell_type": "markdown",
      "metadata": {
        "id": "N6aIJco4U2bD"
      },
      "source": [
        "o default é case-sensitive"
      ]
    },
    {
      "cell_type": "code",
      "metadata": {
        "id": "d3sHLl4aU2bE",
        "colab": {
          "base_uri": "https://localhost:8080/"
        },
        "outputId": "8e5a9a3a-2156-4520-b035-1cd024c80bb8"
      },
      "source": [
        "re.search(\"padrões\", texto)"
      ],
      "execution_count": null,
      "outputs": [
        {
          "output_type": "execute_result",
          "data": {
            "text/plain": [
              "<re.Match object; span=(108, 115), match='padrões'>"
            ]
          },
          "metadata": {},
          "execution_count": 168
        }
      ]
    },
    {
      "cell_type": "code",
      "metadata": {
        "id": "5iatywubU2bI",
        "colab": {
          "base_uri": "https://localhost:8080/"
        },
        "outputId": "0fa05f4d-ed30-42d2-dd72-5dd65548510f"
      },
      "source": [
        "re.search(\"Padrões\", texto)"
      ],
      "execution_count": null,
      "outputs": [
        {
          "output_type": "execute_result",
          "data": {
            "text/plain": [
              "<re.Match object; span=(16, 23), match='Padrões'>"
            ]
          },
          "metadata": {},
          "execution_count": 169
        }
      ]
    },
    {
      "cell_type": "markdown",
      "metadata": {
        "id": "erFdznRUU2bN"
      },
      "source": [
        "podemos ignorar case-sensitive"
      ]
    },
    {
      "cell_type": "code",
      "metadata": {
        "id": "OgMA5jnWU2bN",
        "colab": {
          "base_uri": "https://localhost:8080/"
        },
        "outputId": "c398aaf4-92dc-4dd8-bab4-d810ded15174"
      },
      "source": [
        "re.search(\"padrões\", texto, re.IGNORECASE)"
      ],
      "execution_count": null,
      "outputs": [
        {
          "output_type": "execute_result",
          "data": {
            "text/plain": [
              "<re.Match object; span=(16, 23), match='Padrões'>"
            ]
          },
          "metadata": {},
          "execution_count": 170
        }
      ]
    },
    {
      "cell_type": "markdown",
      "metadata": {
        "id": "6SJ-je98U2bR"
      },
      "source": [
        "## Findall\n",
        "Encontra todas as substrings onde a RE corresponde, e as retorna como uma lista"
      ]
    },
    {
      "cell_type": "code",
      "metadata": {
        "id": "gnPd007AU2bS",
        "colab": {
          "base_uri": "https://localhost:8080/"
        },
        "outputId": "615aef10-57c5-4df6-d77b-d26133a838de"
      },
      "source": [
        "re.findall(\"Vamos\", texto)"
      ],
      "execution_count": null,
      "outputs": [
        {
          "output_type": "execute_result",
          "data": {
            "text/plain": [
              "['Vamos', 'Vamos']"
            ]
          },
          "metadata": {},
          "execution_count": 171
        }
      ]
    },
    {
      "cell_type": "code",
      "metadata": {
        "id": "J3GLBWtAU2bW",
        "colab": {
          "base_uri": "https://localhost:8080/"
        },
        "outputId": "14521b5b-9ac5-40e4-cf73-a4a8d38f7469"
      },
      "source": [
        "re.findall(\"padrões\", texto)"
      ],
      "execution_count": null,
      "outputs": [
        {
          "output_type": "execute_result",
          "data": {
            "text/plain": [
              "['padrões']"
            ]
          },
          "metadata": {},
          "execution_count": 172
        }
      ]
    },
    {
      "cell_type": "markdown",
      "metadata": {
        "id": "-Q6Jbd8gU2bZ"
      },
      "source": [
        "re.I é igal re.IGNORECASE"
      ]
    },
    {
      "cell_type": "code",
      "metadata": {
        "id": "-wez1t9UU2ba",
        "colab": {
          "base_uri": "https://localhost:8080/"
        },
        "outputId": "6a1d0490-1674-486c-b5de-a10048058009"
      },
      "source": [
        "re.findall(\"padrões\", texto, re.I)"
      ],
      "execution_count": null,
      "outputs": [
        {
          "output_type": "execute_result",
          "data": {
            "text/plain": [
              "['Padrões', 'padrões']"
            ]
          },
          "metadata": {},
          "execution_count": 173
        }
      ]
    },
    {
      "cell_type": "code",
      "metadata": {
        "id": "jL17r7ThU2be",
        "colab": {
          "base_uri": "https://localhost:8080/"
        },
        "outputId": "551cc270-1dbe-4a39-d5a2-9b6f18f9484c"
      },
      "source": [
        "#quando uso o + o padrão é 1 ou mais. Assim todas string que tem a no meio de outras letras  são retornadas\n",
        "re.findall(r'\\w+a\\w+', texto)"
      ],
      "execution_count": null,
      "outputs": [
        {
          "output_type": "execute_result",
          "data": {
            "text/plain": [
              "['Vamos', 'encontrar', 'Padrões', 'Vamos', 'procurar', 'padrões']"
            ]
          },
          "metadata": {},
          "execution_count": 174
        }
      ]
    },
    {
      "cell_type": "code",
      "metadata": {
        "id": "KeucYfPmU2bi",
        "colab": {
          "base_uri": "https://localhost:8080/"
        },
        "outputId": "7510b880-e944-47c8-e157-fb6630ea21ec"
      },
      "source": [
        "#quando uso o * o padrão é 0 ou mais. Assim todas string que tem a no meio, ou no início ou no fim são retornadas\n",
        "re.findall(r'\\w*a\\w*', texto)"
      ],
      "execution_count": null,
      "outputs": [
        {
          "output_type": "execute_result",
          "data": {
            "text/plain": [
              "['Vamos',\n",
              " 'encontrar',\n",
              " 'Padrões',\n",
              " 'nesta',\n",
              " 'Agora',\n",
              " 'a',\n",
              " 'nossa',\n",
              " 'primeira',\n",
              " 'prática',\n",
              " 'Vamos',\n",
              " 'aprender',\n",
              " 'a',\n",
              " 'procurar',\n",
              " 'padrões']"
            ]
          },
          "metadata": {},
          "execution_count": 175
        }
      ]
    },
    {
      "cell_type": "markdown",
      "metadata": {
        "id": "yeYa3aLHU2bm"
      },
      "source": [
        "## Finditer\n",
        "Encontra todas as substrings onde a RE corresponde, e as retorna como um iterador."
      ]
    },
    {
      "cell_type": "code",
      "metadata": {
        "id": "BLqVK0iHU2bn",
        "colab": {
          "base_uri": "https://localhost:8080/"
        },
        "outputId": "d39d6307-f5e8-44fc-e234-542d2313961e"
      },
      "source": [
        "re.finditer(\"Vamos\", texto)"
      ],
      "execution_count": null,
      "outputs": [
        {
          "output_type": "execute_result",
          "data": {
            "text/plain": [
              "<callable_iterator at 0x7f5a64972e90>"
            ]
          },
          "metadata": {},
          "execution_count": 176
        }
      ]
    },
    {
      "cell_type": "code",
      "metadata": {
        "id": "uHqq1lpvU2br",
        "colab": {
          "base_uri": "https://localhost:8080/"
        },
        "outputId": "b9cf9714-98b9-4439-9508-a81c747ffed1"
      },
      "source": [
        "res = re.finditer(\"Vamos\", texto)\n",
        "[r for r in res]"
      ],
      "execution_count": null,
      "outputs": [
        {
          "output_type": "execute_result",
          "data": {
            "text/plain": [
              "[<re.Match object; span=(0, 5), match='Vamos'>,\n",
              " <re.Match object; span=(82, 87), match='Vamos'>]"
            ]
          },
          "metadata": {},
          "execution_count": 177
        }
      ]
    },
    {
      "cell_type": "code",
      "metadata": {
        "id": "jt6QbQ74U2bu",
        "colab": {
          "base_uri": "https://localhost:8080/"
        },
        "outputId": "1647a9f8-e994-42cf-91eb-0c3e5a0d0b65"
      },
      "source": [
        "re.finditer(\"padrões\", texto)"
      ],
      "execution_count": null,
      "outputs": [
        {
          "output_type": "execute_result",
          "data": {
            "text/plain": [
              "<callable_iterator at 0x7f5a60a522d0>"
            ]
          },
          "metadata": {},
          "execution_count": 178
        }
      ]
    },
    {
      "cell_type": "code",
      "metadata": {
        "id": "lEBIbImMU2bx",
        "colab": {
          "base_uri": "https://localhost:8080/"
        },
        "outputId": "65ac049a-97f2-4255-8310-057c42f3f746"
      },
      "source": [
        "re.finditer(\"padrões\", texto, re.I)"
      ],
      "execution_count": null,
      "outputs": [
        {
          "output_type": "execute_result",
          "data": {
            "text/plain": [
              "<callable_iterator at 0x7f5a612cc910>"
            ]
          },
          "metadata": {},
          "execution_count": 179
        }
      ]
    },
    {
      "cell_type": "markdown",
      "metadata": {
        "id": "B9rzAL9gU2b0"
      },
      "source": [
        "## Split"
      ]
    },
    {
      "cell_type": "code",
      "metadata": {
        "id": "GKgoQoFoU2b1",
        "colab": {
          "base_uri": "https://localhost:8080/"
        },
        "outputId": "1bea69d1-de56-402f-f192-137d126000f6"
      },
      "source": [
        "re.split('\\n',texto)"
      ],
      "execution_count": null,
      "outputs": [
        {
          "output_type": "execute_result",
          "data": {
            "text/plain": [
              "['Vamos encontrar Padrões nesta string!! ',\n",
              " 'Agora é a nossa primeira prática de NLP!! Vamos aprender a procurar padrões!! ',\n",
              " 'Belo Horizonte, 2000-12-01.']"
            ]
          },
          "metadata": {},
          "execution_count": 180
        }
      ]
    },
    {
      "cell_type": "code",
      "metadata": {
        "colab": {
          "base_uri": "https://localhost:8080/"
        },
        "id": "izaWAzUkKS5T",
        "outputId": "ff0bc0ad-a2d4-4b9c-fb9f-1abcc45e9c90"
      },
      "source": [
        "type(texto)"
      ],
      "execution_count": null,
      "outputs": [
        {
          "output_type": "execute_result",
          "data": {
            "text/plain": [
              "str"
            ]
          },
          "metadata": {},
          "execution_count": 181
        }
      ]
    },
    {
      "cell_type": "code",
      "metadata": {
        "id": "_1gB1K_8U2b6",
        "colab": {
          "base_uri": "https://localhost:8080/"
        },
        "outputId": "29130d9a-33c1-420c-d333-d877d5746de5"
      },
      "source": [
        "texto.split(\"\\s+\")"
      ],
      "execution_count": null,
      "outputs": [
        {
          "output_type": "execute_result",
          "data": {
            "text/plain": [
              "['Vamos encontrar Padrões nesta string!! \\nAgora é a nossa primeira prática de NLP!! Vamos aprender a procurar padrões!! \\nBelo Horizonte, 2000-12-01.']"
            ]
          },
          "metadata": {},
          "execution_count": 182
        }
      ]
    },
    {
      "cell_type": "code",
      "metadata": {
        "id": "9J_2KEVLU2cA",
        "colab": {
          "base_uri": "https://localhost:8080/"
        },
        "outputId": "7767d8b8-30f4-411d-d972-4020b0e9e502"
      },
      "source": [
        "(re.split(r'\\s+',texto))"
      ],
      "execution_count": null,
      "outputs": [
        {
          "output_type": "execute_result",
          "data": {
            "text/plain": [
              "['Vamos',\n",
              " 'encontrar',\n",
              " 'Padrões',\n",
              " 'nesta',\n",
              " 'string!!',\n",
              " 'Agora',\n",
              " 'é',\n",
              " 'a',\n",
              " 'nossa',\n",
              " 'primeira',\n",
              " 'prática',\n",
              " 'de',\n",
              " 'NLP!!',\n",
              " 'Vamos',\n",
              " 'aprender',\n",
              " 'a',\n",
              " 'procurar',\n",
              " 'padrões!!',\n",
              " 'Belo',\n",
              " 'Horizonte,',\n",
              " '2000-12-01.']"
            ]
          },
          "metadata": {},
          "execution_count": 183
        }
      ]
    },
    {
      "cell_type": "markdown",
      "metadata": {
        "id": "c5alQqxuU2cD"
      },
      "source": [
        "## Sub"
      ]
    },
    {
      "cell_type": "code",
      "metadata": {
        "id": "BpXFAGB5U2cE",
        "colab": {
          "base_uri": "https://localhost:8080/",
          "height": 35
        },
        "outputId": "7ae14d87-6d49-4fb4-d111-22e079bd999b"
      },
      "source": [
        "re.sub('\\w+a\\w+', 'a-word', texto)"
      ],
      "execution_count": null,
      "outputs": [
        {
          "output_type": "execute_result",
          "data": {
            "application/vnd.google.colaboratory.intrinsic+json": {
              "type": "string"
            },
            "text/plain": [
              "'a-word a-word a-word nesta string!! \\nAgora é a nossa primeira prática de NLP!! a-word aprender a a-word a-word!! \\nBelo Horizonte, 2000-12-01.'"
            ]
          },
          "metadata": {},
          "execution_count": 184
        }
      ]
    },
    {
      "cell_type": "markdown",
      "metadata": {
        "id": "AklOXTO-U2cH"
      },
      "source": [
        "## Subn"
      ]
    },
    {
      "cell_type": "code",
      "metadata": {
        "id": "FKmANFR4U2cI",
        "colab": {
          "base_uri": "https://localhost:8080/"
        },
        "outputId": "97183e24-efe7-445b-83e2-4a4264153192"
      },
      "source": [
        "re.subn('\\w+a\\w+', 'a-word', texto)"
      ],
      "execution_count": null,
      "outputs": [
        {
          "output_type": "execute_result",
          "data": {
            "text/plain": [
              "('a-word a-word a-word nesta string!! \\nAgora é a nossa primeira prática de NLP!! a-word aprender a a-word a-word!! \\nBelo Horizonte, 2000-12-01.',\n",
              " 6)"
            ]
          },
          "metadata": {},
          "execution_count": 185
        }
      ]
    },
    {
      "cell_type": "markdown",
      "metadata": {
        "id": "RxY0r2eoU2cL"
      },
      "source": [
        "## Exercícios"
      ]
    },
    {
      "cell_type": "markdown",
      "metadata": {
        "id": "6m1l9DicU2cM"
      },
      "source": [
        "1. Escreva uma expressão regular para verificar se uma string contém apenas um determinado conjunto de caracteres (neste caso, a-z, A-Z e 0-9)."
      ]
    },
    {
      "cell_type": "code",
      "metadata": {
        "id": "5PhrR9-mU2cM"
      },
      "source": [
        "string1 = \"ABCDEFabcdef123450\"\n",
        "string2 = \"*&%@#!}{\""
      ],
      "execution_count": null,
      "outputs": []
    },
    {
      "cell_type": "code",
      "source": [
        "print(\"String 1: \",bool(re.search(\"[\\w]\",string1)))\n",
        "print(\"String 2: \",bool(re.search(\"[\\w]\",string2)))"
      ],
      "metadata": {
        "colab": {
          "base_uri": "https://localhost:8080/"
        },
        "id": "oNPx9j3kXEVR",
        "outputId": "5e3ee4bb-9369-4c7f-a80c-721b9ecfc304"
      },
      "execution_count": null,
      "outputs": [
        {
          "output_type": "stream",
          "name": "stdout",
          "text": [
            "String 1:  True\n",
            "String 2:  False\n"
          ]
        }
      ]
    },
    {
      "cell_type": "markdown",
      "metadata": {
        "id": "3Eaf2qgHU2cp"
      },
      "source": [
        "2. Escreva um expressão regular que corresponda a uma sequência que tenha um a seguido por um ou mais b's."
      ]
    },
    {
      "cell_type": "code",
      "metadata": {
        "id": "3_PSBygPU2cp"
      },
      "source": [
        "string1 = \"abc\"\n",
        "string2 = \"aacb\"\n",
        "string3 = \"abbc\"\n",
        "string4 = \"bb\""
      ],
      "execution_count": null,
      "outputs": []
    },
    {
      "cell_type": "code",
      "source": [
        "print(\"String 1: \",bool(re.search(\"ab+\",string1)))\n",
        "print(\"String 2: \",bool(re.search(\"ab+\",string2)))\n",
        "print(\"String 3: \",bool(re.search(\"ab+\",string3)))\n",
        "print(\"String 4: \",bool(re.search(\"ab+\",string4)))"
      ],
      "metadata": {
        "colab": {
          "base_uri": "https://localhost:8080/"
        },
        "id": "uKsSvuiUX-Cg",
        "outputId": "d9a8f0fb-5561-46c3-d672-0db3cbb58d60"
      },
      "execution_count": null,
      "outputs": [
        {
          "output_type": "stream",
          "name": "stdout",
          "text": [
            "String 1:  True\n",
            "String 2:  False\n",
            "String 3:  True\n",
            "String 4:  False\n"
          ]
        }
      ]
    },
    {
      "cell_type": "markdown",
      "metadata": {
        "id": "3JCnPVthU2dJ"
      },
      "source": [
        "3. Escreva uma expressão para dividir uma string em letras maiúsculas"
      ]
    },
    {
      "cell_type": "code",
      "metadata": {
        "id": "U7-WhZeTU2dK"
      },
      "source": [
        "string = \"ExercídiosExpressãoRegularAA\""
      ],
      "execution_count": null,
      "outputs": []
    },
    {
      "cell_type": "code",
      "source": [
        "re.findall(\"[A-Z][^A-Z]*\",string)"
      ],
      "metadata": {
        "colab": {
          "base_uri": "https://localhost:8080/"
        },
        "id": "Jb5TRKxaZRgX",
        "outputId": "d2f3b11f-4adf-4c84-b3c9-9bc2aa1e8b63"
      },
      "execution_count": null,
      "outputs": [
        {
          "output_type": "execute_result",
          "data": {
            "text/plain": [
              "['Exercídios', 'Expressão', 'Regular', 'A', 'A']"
            ]
          },
          "metadata": {},
          "execution_count": 191
        }
      ]
    },
    {
      "cell_type": "markdown",
      "metadata": {
        "id": "XenuPdJFU2dS"
      },
      "source": [
        "4. Escreva uma expressão regular para remover a área de parênteses em uma string\n",
        "\n",
        "\n",
        "- Amostra de Entrada: \n",
        "> * [\"example (.br)\", \"w3resource\", \"github (.com)\", \"stackoverflow (.com)\"] </br>\n",
        "* Saída Esperada: \n",
        "> * example\n",
        "> * w3resource\n",
        "> * github\n",
        "> * stackoverflow"
      ]
    },
    {
      "cell_type": "code",
      "metadata": {
        "id": "xLN0qjIqU2dT"
      },
      "source": [
        "strings = [\"example (.br)\", \"w3resource\", \"github (.com)\", \"stackoverflow (.??)\"]"
      ],
      "execution_count": null,
      "outputs": []
    },
    {
      "cell_type": "code",
      "metadata": {
        "id": "RC44DoeLyvvQ",
        "colab": {
          "base_uri": "https://localhost:8080/"
        },
        "outputId": "748dccc8-4626-4032-91b1-3c231e54eac0"
      },
      "source": [
        "[re.sub(\"\\(.+\\)\",'',palavra) for palavra in strings]"
      ],
      "execution_count": null,
      "outputs": [
        {
          "output_type": "execute_result",
          "data": {
            "text/plain": [
              "['example ', 'w3resource', 'github ', 'stackoverflow ']"
            ]
          },
          "metadata": {},
          "execution_count": 193
        }
      ]
    },
    {
      "cell_type": "markdown",
      "metadata": {
        "id": "JqGlZuiSU2dn"
      },
      "source": [
        "5. Recupere todos os \"Twitter\" da string abaixo"
      ]
    },
    {
      "cell_type": "code",
      "metadata": {
        "colab": {
          "base_uri": "https://localhost:8080/",
          "height": 53
        },
        "id": "hO2zXsOfG0w1",
        "outputId": "c6f4dfdb-6ba1-430e-a74d-407d9e02b27a"
      },
      "source": [
        "texto_exemplo_twitter = \"\"\"This is a @test of some cool features that @mi_asd be @use-ful but @don't. look at this email@address.com. @bla! I like #nylas but I don't like to go to this apple.com?a#url. I also don't like the ### comment blocks. But #msft is cool.\"\"\"\n",
        "texto_exemplo_twitter"
      ],
      "execution_count": null,
      "outputs": [
        {
          "output_type": "execute_result",
          "data": {
            "application/vnd.google.colaboratory.intrinsic+json": {
              "type": "string"
            },
            "text/plain": [
              "\"This is a @test of some cool features that @mi_asd be @use-ful but @don't. look at this email@address.com. @bla! I like #nylas but I don't like to go to this apple.com?a#url. I also don't like the ### comment blocks. But #msft is cool.\""
            ]
          },
          "metadata": {},
          "execution_count": 194
        }
      ]
    },
    {
      "cell_type": "code",
      "metadata": {
        "id": "R6ekA4j3yxBY",
        "colab": {
          "base_uri": "https://localhost:8080/"
        },
        "outputId": "447df9ba-66ce-4cc3-e0c7-a3ea62c4d760"
      },
      "source": [
        "re.findall(\"@[\\w]*\",texto_exemplo_twitter)"
      ],
      "execution_count": null,
      "outputs": [
        {
          "output_type": "execute_result",
          "data": {
            "text/plain": [
              "['@test', '@mi_asd', '@use', '@don', '@address', '@bla']"
            ]
          },
          "metadata": {},
          "execution_count": 195
        }
      ]
    },
    {
      "cell_type": "markdown",
      "metadata": {
        "id": "EuRUVjfSQfVb"
      },
      "source": [
        "6. Escreva uma expressão regular para remover as urls do texto:\n",
        "\n",
        "- Para realizar pesquisas de artigos acadêmicos use o Google Scholar: https://scholar.google.com.br/\n",
        "- Sempre mantenha seu linkedin atualizado: https://www.linkedin.com/ "
      ]
    },
    {
      "cell_type": "code",
      "metadata": {
        "id": "rJxuUl9WQZ0-"
      },
      "source": [
        "texto1 = \"Para realizar pesquisas de artigos acadêmicos use o Google Scholar: https://scholar.google.com.br/\"\n",
        "texto2 = \"Sempre mantenha seu linkedin atualizado: https://www.linkedin.com/\""
      ],
      "execution_count": null,
      "outputs": []
    },
    {
      "cell_type": "code",
      "metadata": {
        "id": "aY0jOs_jSK3D",
        "colab": {
          "base_uri": "https://localhost:8080/"
        },
        "outputId": "5fbb15f2-5389-45e3-9a43-728ec16a2d83"
      },
      "source": [
        "print(\"Texto 1: \",re.sub(\"http\\S+\",'',texto1))\n",
        "print(\"Texto 2: \",re.sub(\"http\\S+\",'',texto2))\n"
      ],
      "execution_count": null,
      "outputs": [
        {
          "output_type": "stream",
          "name": "stdout",
          "text": [
            "Texto 1:  Para realizar pesquisas de artigos acadêmicos use o Google Scholar: \n",
            "Texto 2:  Sempre mantenha seu linkedin atualizado: \n"
          ]
        }
      ]
    },
    {
      "cell_type": "markdown",
      "metadata": {
        "id": "waB6jhTSwhYz"
      },
      "source": [
        "# Pré-processamento"
      ]
    },
    {
      "cell_type": "code",
      "metadata": {
        "id": "NUfsnZq9U2du",
        "colab": {
          "base_uri": "https://localhost:8080/"
        },
        "outputId": "3433e143-2a75-4549-d9f6-d23f63aaf310"
      },
      "source": [
        "import nltk\n",
        "import wikipedia\n",
        "import re\n",
        "import spacy\n",
        "from nltk.probability import FreqDist\n",
        "nltk.download(\"stopwords\")\n",
        "nltk.download('punkt')\n",
        "nltk.download('rslp')"
      ],
      "execution_count": null,
      "outputs": [
        {
          "output_type": "stream",
          "name": "stdout",
          "text": [
            "[nltk_data] Downloading package stopwords to /root/nltk_data...\n",
            "[nltk_data]   Package stopwords is already up-to-date!\n",
            "[nltk_data] Downloading package punkt to /root/nltk_data...\n",
            "[nltk_data]   Package punkt is already up-to-date!\n",
            "[nltk_data] Downloading package rslp to /root/nltk_data...\n",
            "[nltk_data]   Package rslp is already up-to-date!\n"
          ]
        },
        {
          "output_type": "execute_result",
          "data": {
            "text/plain": [
              "True"
            ]
          },
          "metadata": {},
          "execution_count": 198
        }
      ]
    },
    {
      "cell_type": "markdown",
      "metadata": {
        "id": "Bl3qVdoaU2dw"
      },
      "source": [
        "## Definindo o corpus\n",
        "\n",
        "Primeiramente, definimos o corpus que iremos trabalhar."
      ]
    },
    {
      "cell_type": "code",
      "metadata": {
        "id": "LObmG0e_U2dx"
      },
      "source": [
        "# Caso o pacote wikipedia não funcione:\n",
        "## Entre no link e faça downaload do arquivo https://drive.google.com/open?id=15R1jcugeM5SoGSPIPyG_6X6F3oMlxSBt\n",
        "## Depois leia com o comando abaixo\n",
        "#file = open(\"pln_wikipedia.txt\", 'r')\n",
        "#file_wiki = file.readlines()\n",
        "#file.close()\n",
        "#corpus = '\\n'.join(file_wiki)"
      ],
      "execution_count": null,
      "outputs": []
    },
    {
      "cell_type": "code",
      "metadata": {
        "id": "kN2IQNv5U2d1"
      },
      "source": [
        "wikipedia.set_lang(\"pt\")"
      ],
      "execution_count": null,
      "outputs": []
    },
    {
      "cell_type": "code",
      "metadata": {
        "id": "EM8TiMU4U2d4"
      },
      "source": [
        "pln = wikipedia.page(\"PLN\")"
      ],
      "execution_count": null,
      "outputs": []
    },
    {
      "cell_type": "code",
      "metadata": {
        "id": "0hGJ6HMtU2d6"
      },
      "source": [
        "corpus = pln.content"
      ],
      "execution_count": null,
      "outputs": []
    },
    {
      "cell_type": "code",
      "metadata": {
        "id": "wEIFtGoxQv5L",
        "colab": {
          "base_uri": "https://localhost:8080/"
        },
        "outputId": "aadb256b-e61e-4921-b976-43a7bf969177"
      },
      "source": [
        "print(corpus)"
      ],
      "execution_count": null,
      "outputs": [
        {
          "output_type": "stream",
          "name": "stdout",
          "text": [
            "Processamento de língua natural (PLN) é uma subárea da ciência da computação, inteligência artificial e da linguística que estuda os problemas da geração e compreensão automática de línguas humanas naturais. Sistemas de geração de língua natural convertem informação de bancos de dados de computadores em linguagem compreensível ao ser humano e sistemas de compreensão de língua natural convertem ocorrências de linguagem humana em representações mais formais, mais facilmente manipuláveis por programas de computador. Alguns desafios do PLN são compreensão de língua natural, fazer com que computadores extraiam sentido de linguagem humana ou natural e geração de língua natural.\n",
            "\n",
            "\n",
            "== História ==\n",
            "A história do PLN começou na década de 1950, quando Alan Turing publicou o artigo \"Computing Machinery and Intelligence\", que propunha o que agora é chamado de teste de Turing como critério de inteligência.\n",
            "Em 1954, a experiência de Georgetown envolveu a tradução automática de mais de sessenta frases russas para o inglês. Os autores afirmaram que dentro de três ou cinco anos a tradução automática seria um problema resolvido. No entanto, os avanços reais foram muito mais lentos do que o previsto e, após o relatório ALPAC em 1966, que constatou que a pesquisa de dez anos não conseguiu satisfazer as expectativas, o financiamento para este estudo em tradução automática foi reduzido drasticamente. Poucas pesquisas em tradução automática foram conduzidas até o final dos anos 80, quando os primeiros sistemas estatísticos de tradução foram desenvolvidos.\n",
            "Alguns sistemas de PLN bem sucedidos desenvolvidos nos anos 60 foram SHRDLU, um sistema de língua natural que trabalhava em \"blocks worlds\" com vocabulário restrito e ELIZA, uma simulação de um psicoterapeuta escrita por Joseph Weizenbaum entre 1964 e 1966. Usando pouca informação sobre o pensamento ou a emoção humana, ELIZA criava, em alguns casos, interações surpreendentemente humanas. Quando o \"paciente\" excedia a base de conhecimento do programa, ELIZA fornecia uma resposta genérica, por exemplo, respondendo a \"Minha cabeça dói\" com \"Por que você diz que sua cabeça dói?\".\n",
            "Durante a década de 1970, muitos programadores começaram a escrever \"ontologias conceituais\", que estruturaram a informação do mundo real em dados compreensíveis por computadores. Exemplos são MARGIE (SCHANK, 1975), SAM (CULLINGFORD, 1978), PAM (WILENSKY, 1978), TaleSpin (MEEHAN, 1976), QUALM (LEHNERT, 1977), Politics (CARBONELL, 1979) e Plot Units (LEHNERT, 1981 ). Neste período, muitos chatterbots foram escritos, como PARRY, Racter e Jabberwacky.\n",
            "Até a década de 1980, a maioria dos sistemas de PLN se baseava em conjuntos complexos de regras manuscritas. A partir do final dos anos 1980, no entanto, houve uma revolução no PLN com a introdução de algoritmos de aprendizagem automática (aprendizado de máquina) para o processamento de linguagem. Isto foi devido tanto ao aumento constante do poder computacional (ver Lei de Moore) quanto à diminuição gradual da dominância das teorias da linguística chomskyanas (como a gramática gerativa), cujos fundamentos teóricos desestimularam o tipo de corpus linguístico que está subjacente à abordagem da aprendizagem automática ao processamento da linguagem.\n",
            "Alguns dos algoritmos de aprendizado de máquinas mais antigos, como as árvores de decisão, produziam sistemas de regras rígidas então semelhantes às regras existentes na escritas à mão. No entanto, a marcação de partes da fala (part-of-speech tagging) introduziu o uso de modelos ocultos de Markov para o PLN e, cada vez mais, a pesquisa se concentrava em modelos estatísticos, que tomam decisões suaves e probabilísticas baseadas na atribuição de pesos reais aos recursos que compõem dados de entrada. Os modelos de linguagem de cache, sobre os quais muitos sistemas de reconhecimento de fala agora dependem, são exemplos de tais modelos estatísticos. Esses modelos são geralmente mais robustos quando dados informações desconhecidas, especialmente entrada que contém erros (como é muito comum para dados do mundo real) e produzem resultados mais confiáveis quando integrados em sistemas maiores que compreendem múltiplas tarefas.\n",
            "Muitos dos sucessos iniciais notáveis ocorreram no campo da tradução automática, devido especialmente ao trabalho de pesquisa da IBM, que desenvolveu modelos estatísticos mais elaborados. Estes sistemas foram capazes de tirar proveito de corpora textuais multilíngues existentes  produzidos pelo Parlamento do Canadá e a União Europeia como resultado de leis que exigem a tradução de todos os processos governamentais em todas as línguas oficiais dos países. No entanto, a maioria dos sistemas dependia de corpora desenvolvido especificamente para tarefas implementadas por esses sistemas, o que era (e muitas vezes continua sendo) uma grande limitação no sucesso dos mesmo. Como resultado, uma grande quantidade de pesquisa passou de quantidades de dados limitadas a métodos de aprendizagem mais eficazes.\n",
            "Pesquisas recentes têm se concentrado cada vez mais em algoritmos de aprendizagem semi-supervisionados e sem supervisão. Esses algoritmos são capazes de aprender com dados que não foram anotados manualmente com as respostas desejadas ou usando uma combinação de dados anotados e não anotados. Geralmente, esta tarefa é muito mais trabalhosa do que a aprendizagem supervisionada e normalmente produz resultados menos precisos para uma quantidade específica de dados de entrada. No entanto, há uma enorme quantidade de dados não anotados disponíveis (incluindo, entre outras coisas, todo o conteúdo da World Wide Web), que muitas vezes pode compensar os resultados inferiores.\n",
            "\n",
            "\n",
            "== Usando a aprendizagem automática (aprendizado de máquina) ==\n",
            "Os algoritmos modernos de PLN baseiam-se na aprendizagem mecânica, especialmente na aprendizagem de máquinas estatísticas. O paradigma da aprendizagem mecânica é diferente do da maioria das tentativas anteriores de processamento da linguagem. Anteriormente, implementações de tarefas de processamento de linguagem envolviam a codificação direta de grandes conjuntos de regras. O paradigma da aprendizagem automática (ou aprendizagem automática) induz a aprendizagem automática de regras através de análises de corpora de exemplos típicos do mundo real ao invés de usar algoritmos gerais de aprendizagem (muitas vezes, embora nem sempre, baseados em inferência estatística). Um corpus (plural \"corpora\") é um conjunto de documentos (ou frases individuais) que foram anotados à mão com os valores corretos a serem aprendidos.\n",
            "Muitas classes diferentes de algoritmos de aprendizado de máquina foram aplicadas a tarefas de PLN. Esses algoritmos tomam como entrada um grande conjunto de \"recursos\" que são gerados a partir de dados de entrada.\n",
            "Alguns dos algoritmos mais usados, como árvores de decisão, produziam sistemas de regras rígidas semelhantes aos sistemas de regras manuscritas mais comuns. No entanto, cada vez mais, a pesquisa tem se concentrado em modelos estatísticos, que tomam decisões flexíveis e probabilísticas baseadas em agregar pesos reais a cada característica de entrada. Tais modelos têm a vantagem de poder expressar a certeza relativa de muitas respostas possíveis diferentes em vez de apenas uma, produzindo resultados mais confiáveis quando esse modelo é incluído como um componente de um sistema maior.\n",
            "Os sistemas baseados em algoritmos de aprendizagem mecânica têm muitas vantagens em relação às regras produzidas manualmente:\n",
            "\n",
            "Os procedimentos de aprendizagem usados durante a aprendizagem da máquina focam-se automaticamente nos casos mais comuns, ao passo que quando se escrevem regras à mão, não é óbvio em que sentido o esforço deve ser dirigido.\n",
            "Os procedimentos de aprendizagem automática podem fazer uso de algoritmos de inferência estatística para produzir modelos que são robustos a entradas não familiares (por exemplo, contendo palavras ou estruturas que não foram vistas antes) e a entradas errôneas (por exemplo, com palavras ou palavras incorretamente omitidas). Geralmente, lidar com essas entradas de forma com regras manuscritas ou sistemas de regras manuscritas que tomam decisões suaves é extremamente trabalhoso, propenso a erros e demorado.\n",
            "Sistemas baseados em aprender automaticamente as regras podem ser mais precisos simplesmente fornecendo mais dados de entrada. No entanto, os sistemas baseados em regras escritas à mão só podem ser tornados mais precisos aumentando a complexidade das regras, o que é uma tarefa muito mais difícil. Em particular, há um limite para a complexidade de sistemas baseados em regras artesanais, para além dos quais os sistemas se tornam cada vez mais incontroláveis. No entanto, a criação de mais dados para entrada em sistemas de aprendizado de máquina requer simplesmente um aumento correspondente no número de horas trabalhadas por humanos, geralmente sem aumentos significativos na complexidade do processo de anotação.O subcampo de PLN dedicado a abordagens de aprendizagem é conhecido como aprendizagem de língua natural (NLL) e sua conferência, a CoNLL, e orgão central, o SIGNLL, são patrocinados pela ACL, reconhecendo também as suas ligações com linguística computacional e aquisição de linguagem. Quando o objetivo da pesquisa de aprendizagem de linguagem computacional é entender mais sobre aquisição de linguagem humana, ou psicolinguística, a NLL sobrepõe-se no campo relacionado de psicolinguística computacional.\n",
            "\n",
            "\n",
            "== Aplicações principais ==\n",
            "A listagem a seguir traz alguns dos trabalhos mais pesquisadas em PLN. Note que alguns deles têm aplicações no mundo real, enquanto outras servem mais frequentemente como tarefas secundárias que são usadas para auxiliar na resolução de tarefas maiores. O que distingue essas tarefas de outras tarefas potenciais e reais de PLN não é apenas o volume de pesquisa dedicado a elas, mas o fato de que para cada uma há tipicamente uma definição de problema bem especificada, uma métrica padrão para avaliar a tarefa, corpora padrão em que a tarefa pode ser avaliada e as competições dedicadas à tarefa específica.\n",
            "Sumarização automática\n",
            "\n",
            "Produz um resumo legível de uma parte do texto. Muitas vezes usado para fornecer resumos de texto de um tipo conhecido, como artigos na seção financeira de um jornal.Resolução de correferência\n",
            "\n",
            "Dada uma frase ou um pedaço maior de texto, determina quais palavras (\"menções\") se referem aos mesmos objetos (\"entidades\"). A resolução da anáfora é um exemplo específico dessa tarefa e está especificamente preocupada em combinar os pronomes com os substantivos ou nomes aos quais eles se referem. A tarefa mais geral da resolução de correferência também inclui a identificação dos chamados \"relacionamentos de ponte\" envolvendo expressões de referência. Por exemplo, numa frase como \"Ele entrou na casa de João pela porta da frente\", \"a porta da frente\" é uma expressão de referência e a relação da ponte a ser identificada é o fato de que a porta a ser referida é a porta da frente de John's (ao invés de alguma outra estrutura que também pode ser referida).Análise do Discurso\n",
            "\n",
            "Esta rubrica inclui uma série de tarefas relacionadas. Uma tarefa é identificar a estrutura discursiva do texto conectado, isto é, a natureza das relações discursivas entre sentenças (por exemplo, elaboração, explicação, contraste). Outra possível tarefa é reconhecer e classificar os atos de fala em um pedaço de texto (por exemplo, pergunta sim-não, pergunta de conteúdo, frase, afirmação, etc).Maquina de tradução\n",
            "\n",
            "Traduzir automaticamente texto de uma linguagem humana para outra. Este é uma das tarefas mais difíceis e faz parte de um tipo de problemas conhecidos como \"AI-complete\", ou seja, exigindo todos os diferentes tipos de conhecimento que os humanos possuem (gramática, semântica, fatos sobre o mundo real, etc) para resolvê-lo adequadamente.Segmentação morfológica\n",
            "\n",
            "Separa palavras em morfemas individuais e identifica classes de morfemas. A dificuldade desta tarefa depende muito da complexidade da morfologia (isto é, da estrutura das palavras) da linguagem que está sendo considerada. O inglês possui uma morfologia bastante simples, especialmente a morfologia flexional, e portanto é possível ignorar esta tarefa inteiramente e simplesmente modelar todas as formas possíveis de uma palavra (por exemplo, \"open, opens, opened, opening\") como palavras separadas. Em línguas como o turco ou o Meitei, uma língua indiana fortemente aglutinada, no entanto, tal abordagem não é possível, uma vez que cada entrada do dicionário tem milhares de formas de palavras possíveis.Reconhecimento de entidade nomeada (NER)\n",
            "\n",
            "Dado um fluxo de texto, determina quais são itens no mapa de texto para nomes próprios, como pessoas ou locais e qual é o tipo de cada nome (por exemplo, pessoa, local, organização). Embora a capitalização possa ajudar a reconhecer entidades nomeadas em idiomas como o inglês, essas informações podem não ajudar a determinar o tipo de entidade nomeada e, em alguns casos, sãos imprecisas ou insuficientes. Por exemplo, a primeira palavra de uma frase também é capitalizada e as entidades nomeadas muitas vezes abrangem várias palavras, com apenas algumas delas são capitalizadas. Além disso, muitas outras linguagens em scripts não-ocidentais (por exemplo, chinês ou árabe) não têm nenhuma capitalização e mesmo as línguas com maiúsculas podem não distinguir nomes. Por exemplo, o alemão capitaliza todos os substantivos, independentemente de se referirem a nomes, e o francês e o espanhol não capitalizam nomes que servem como adjetivos.Geração de língua natural\n",
            "\n",
            "Converte informações de bancos de dados de computador ou intenções semânticas em linguagem humana legível.Compreensão da língua natural\n",
            "\n",
            "Converte pedaços de texto em representações mais formais, como estruturas de lógica de primeira ordem, que são mais fáceis de manipular pelos programas de computador. A compreensão da língua natural envolve a identificação da semântica pretendida a partir da múltipla semântica possível que pode ser derivada de uma expressão de língua natural que geralmente toma a forma de notação organizada de conceitos de linguagens naturais. Entretanto, introdução e criação de linguagem metamodelo e ontologia são eficientes soluções empíricas. Uma formalização explícita da semântica de línguas naturais sem confusões com suposições implícitas como closed-world assumption (CWA) versus open-world assumption ou subjetiva Sim / Não versus objetivo Verdadeiro / Falso é esperada para a construção de uma base de formalização semântica.Reconhecimento óptico de caracteres (OCR)\n",
            "\n",
            "Dada uma imagem que representa o texto impresso, determina o texto correspondente.Marcação de classe gramatical\n",
            "\n",
            "Dada uma sentença, determina a classe gramatical de cada palavra. Muitas palavras, especialmente as comuns, podem servir como múltiplas partes do discurso. Em inglês, por exemplo, \"book\" pode ser um substantivo (\"the book on the table\") ou verbo (\"book a flight\"); \"Set\" pode ser um substantivo, verbo ou adjetivo; E \"out\" pode ser qualquer um de pelo menos cinco diferentes partes da fala. Algumas línguas têm mais ambiguidade do que outras. As línguas com pouca morfologia flexional, como o inglês, são particularmente propensas a tal ambiguidade. O chinês é propenso a tal ambiguidade porque é uma língua tonal durante a verbalização. Tal inflexão não é facilmente transmitida através das entidades empregadas dentro da ortografia para transmitir o significado pretendido.Análise sintática (Parsing)\n",
            "\n",
            "Determina a árvore de análise (análise gramatical) de uma frase. A gramática para as linguagens naturais é ambígua e frases típicas têm múltiplas análises possíveis. Na verdade, surpreendentemente, para uma frase típica pode haver milhares de análises em potencial (a maioria dos quais parecerá completamente absurda para um ser humano).Respostas a perguntas\n",
            "\n",
            "Dada uma questão de linguagem humana, determina sua resposta. As perguntas típicas têm uma resposta correta específica (como \"Qual é o capital do Canadá?\"), mas às vezes perguntas abertas também são consideradas (como \"Qual é o significado da vida?\"). Trabalhos recentes têm analisado questões ainda mais complexas.Extração de relacionamento\n",
            "\n",
            "Identifica as relações entre entidades nomeadas (por exemplo, quem é casado com quem) com base em textos.Quebra de frases (sentence boundary disambiguation)\n",
            "\n",
            "Encontra os limites da frase em um pedaço de texto. Os limites de frases são normalmente marcadas por pontos ou outros sinais de pontuação, mas esses mesmos caracteres podem servir outros propósitos.Análise de subjetividade (sentiment analysis ou opinion mining)\n",
            "\n",
            "Extrai informações subjetivas geralmente de um conjunto de documentos, muitas vezes usando revisões online para determinar a \"polaridade\" sobre objetos específicos. É especialmente útil para identificar tendências da opinião pública nas mídias sociais, para fins de marketing.Reconhecimento de fala\n",
            "\n",
            "Dado um clipe de som de uma pessoa ou pessoas falando, determina a representação textual do discurso. É o oposto da síntese de fala e é uma das áreas mais difíceis, conhecida como \"AI-complete\". Na fala natural quase não há pausas entre palavras sucessivas, por isso a segmentação de fala é uma subtarefa necessária de reconhecimento de fala. Nota-se também que, na maioria das linguagens faladas, os sons que representam letras sucessivas se misturam entre si em um processo denominado coarticulação, de modo que a conversão do sinal analógico em caracteres discretos pode ser um processo muito difícil de ser realizado.Segmentação de fala\n",
            "\n",
            "Dado um clipe de som de uma pessoa ou pessoas falando, separa-o em palavras. Uma subaplicação de reconhecimento de fala e normalmente agrupada com ele.Análise morfológica e reconhecimento de tópicos\n",
            "\n",
            "Dado um pedaço de texto, separa-o em segmentos cada um dos quais é dedicado a um tópico e identifica o tópico do segmento.Análise morfológica e segmentação de palavras\n",
            "\n",
            "Separa um pedaço de texto contínuo em palavras separadas. Para uma língua como o inglês, isso é bastante trivial, uma vez que as palavras são normalmente separadas por espaços. No entanto, algumas línguas escritas como chinês, japonês e tailandês não marcam limites de palavras de tal forma, e nessas línguas segmentação de texto é uma tarefa significativa que requer conhecimento do vocabulário e morfologia das palavras na língua.Desambiguação\n",
            "\n",
            "Muitas palavras têm mais de um significado, assim temos que selecionar o significado que faz mais sentido no contexto. Para este problema, em geral é dada uma lista de palavras e sentidos de palavras associadas de um dicionário ou recurso online, como o WordNet.\n",
            "Em alguns casos, conjuntos de tarefas relacionadas são agrupados em subcampos de PLN que são frequentemente considerados separadamente da PLN como um todo, como os exemplos à seguir:Recuperação de informação (IR)\n",
            "\n",
            "Trata-se de armazenar, pesquisar e recuperar informações. É um campo separado dentro da ciência da computação (mais perto de bancos de dados), mas a IR se baseia em alguns métodos PLN (por exemplo, stemming). Algumas pesquisas e aplicações atuais procuram preencher a lacuna entre IR e PLN.Extração de informação (IE)\n",
            "\n",
            "Trata-se, em geral, da extração de informação semântica a partir do texto. Abrange tarefas como reconhecimento de entidade mencionada, resolução de correferência e de relacionamento de extração, etc.\n",
            "Processamento de voz  Abrange reconhecimento de fala, síntese de fala e tarefas relacionadas.\n",
            "Outras tarefas incluem:\n",
            "Identificação na língua materna\n",
            "Stemização\n",
            "Simplificação do texto\n",
            "Síntese de fala\n",
            "Revisão de texto\n",
            "Pesquisa em língua natural\n",
            "Expansão da consulta\n",
            "Pontuação de ensaio automatizado\n",
            "Truecasing\n",
            "\n",
            "\n",
            "== Estatística ==\n",
            "Artigo principal: Gramática estocástica\n",
            "O processamento estatístico em língua natural utiliza métodos estocásticos, probabilísticos e estatísticos para resolver algumas das dificuldades discutidas acima, especialmente aquelas que surgem porque frases mais longas são muito ambíguas quando processadas com gramáticas realistas, produzindo milhares ou milhões de análises possíveis. Métodos de desambiguação envolvem muitas vezes o uso de corpora e modelos de Markov. O projeto ESPRIT P26 (1984-1988), liderado pelo CSELT, explorou o problema do reconhecimento de fala comparando abordagem baseada em conhecimento e estatística: o resultado escolhido foi um modelo completamente estatístico. Um dos primeiros modelos de compreensão estatística da língua natural foi introduzido em 1991 por Roberto Pieraccini, Esther Levin e Chin-Hui Lee, da Bell Laboratories]. O PLN compreende todas as abordagens quantitativas para processamento automatizado de linguagem, incluindo modelagem probabilística, teoria da informação e álgebra linear. A tecnologia para o PLN estatístico vem principalmente da aprendizagem automática e da mineração de dados, que são campos de inteligência artificial que envolvem o aprendizado a partir de dados.\n",
            "\n",
            "\n",
            "== Avaliação ==\n",
            "O objetivo da avaliação do PLN é uma medida de uma ou mais qualidades de um algoritmo ou de um sistema a fim de determinar se o algoritmo atende às metas dos projetistas ou o sistema de atendimento às necessidades de seus usuários. Investigação na avaliação PLN  tem ganhado atenção, porque a definição de critérios de avaliação é uma forma de especificar precisamente problemas do PLN. Uma métrica de avaliação de PLN em um sistema algorítmico permite a integração da compreensão de linguagem e geração de linguagem. Um conjunto preciso de critérios de avaliação, que pode ser aplicado principalmente a avaliações métricas, podendo permitir que várias equipes comparem suas soluções para um determinado problema do PLN.\n",
            "\n",
            "\n",
            "== Cronologia da avaliação ==\n",
            "Em 1983, iniciou-se o Projecto Esprit P26, que avaliou as Tecnologias da Fala (incluindo tópicos gerais como Sintaxe e Semântica) comparando as abordagens baseadas em regras com as estatísticas.\n",
            "Em 1987, a primeira campanha de avaliação de textos escritos parece ser uma campanha dedicada à compreensão da mensagem (Pallet, 1998).\n",
            "O projeto Parseval / GEIG comparou gramáticas de frase-estrutura (Black 1991).\n",
            "Houve uma série de campanhas no projeto Tipster sobre tarefas como resumo, tradução e pesquisa (Hirschman 1998).\n",
            "Em 1994, na Alemanha, o Morpholympics comparou marcadores morfológicos alemães.\n",
            "As campanhas de Senseval & Romanseval foram realizadas com os objetivos de desambiguação semântica.\n",
            "Em 1996, a campanha Sparkle comparou os analisadores sintáticos em quatro idiomas diferentes (inglês, francês, alemão e italiano).\n",
            "Na França, o projeto Grace comparou um conjunto de 21 marcadores para o francês em 1997 (Adda 1999).\n",
            "Em 2004, durante o projeto Technolangue / Easy, foram comparados 13 analisadores para o francês.\n",
            "A avaliação em larga escala dos analisadores de dependência foi realizada no contexto das tarefas compartilhadas do CoNLL em 2006 e 2007.\n",
            "Na França, no âmbito do projecto ANR-Passage (final de 2007), foram comparados 10 analisadores para o francês.\n",
            "Em Itália, a campanha EVALITA foi realizada em 2007, 2009, 2011 e 2014 para comparar várias ferramentas de PLN e de voz para o site italiano - EVALITA.\n",
            "\n",
            "\n",
            "== Diferentes tipos de avaliação ==\n",
            "Avaliação intrínseca vs. extrínseca\n",
            "A avaliação intrínseca considera um sistema PNL isolado e caracteriza seu desempenho em relação a um resultado padrão-excelência, conforme definido pelos avaliadores. A avaliação extrínseca, também chamada de avaliação em uso, considera o sistema PLN em um cenário mais complexo como um sistema embutido ou uma função precisa para um usuário humano. O desempenho extrínseco do sistema é então caracterizado em termos de utilidade em relação à tarefa global do sistema estranho ou do utilizador humano. Por exemplo, considere um analisador sintático que é baseado na saída de alguma parte do tagger de fala (POS). Uma avaliação intrínseca executaria o marcador POS em dados estruturados e compararia a saída do sistema do marcador POS com a saída padrão ouro. Uma avaliação extrínseca executaria o analisador com algum outro marcador POS e, em seguida, com o marcador POS novo e compara a precisão de análise.\n",
            "Caixa preta vs. Avaliação da caixa de vidro\n",
            "A avaliação em caixa preta requer que alguém execute um sistema PLN em um conjunto de dados de amostra e para medir uma série de parâmetros relacionados com a qualidade do processo, como velocidade, confiabilidade, consumo de recursos e, principalmente, a qualidade do resultado, como a precisão da anotação de dados ou a fidelidade de uma tradução. A avaliação da caixa de vidro examina a concepção do sistema; Os algoritmos que são implementados, os recursos linguísticos que utiliza, como o tamanho do vocabulário ou a expressão definida de cardinalidade. Dada a complexidade dos problemas da PLN, muitas vezes é difícil prever o desempenho apenas com base na avaliação da caixa de vidro; Mas este tipo de avaliação é mais informativo no que diz respeito à análise de erros ou desenvolvimentos futuros de um sistema.\n",
            "Automática vs. avaliação manual\n",
            "Em muitos casos, procedimentos automáticos podem ser definidos para avaliar um sistema de PLN, comparando sua saída com o padrão de excelência. Embora o custo de reproduzir o padrão de excelência possa ser bastante elevado, avaliação automática de bootstrapping sobre os mesmos dados de entrada pode ser repetida quantas vezes for necessário sem custos adicionais desordenados. No entanto, para muitos problemas de PLN a definição precisa de um padrão de excelência é uma tarefa complexa e pode se revelar impossível quando o acordo inter-anotador é insuficiente. A avaliação manual é melhor realizada por juízes humanos instruídos para estimar a qualidade de um sistema, ou mais frequentemente de uma amostra de sua produção, com base em uma série de critérios. Embora, graças à sua competência linguística, os juízes humanos possam ser considerados como a referência para uma série de tarefas de processamento de linguagem, há também uma variação considerável em suas classificações. É por isso que a avaliação automática é, por vezes, referida como avaliação objetiva enquanto a avaliação humana é perspectiva.\n",
            "\n",
            "\n",
            "== Padronização ==\n",
            "Um subcomitê ISO está trabalhando para facilitar a interoperabilidade entre recursos lexicais e programas PLN. O subcomitê faz parte do ISO / TC37 e é chamado ISO / TC37 / SC4. Alguns padrões ISO já estão publicados, mas a maioria deles está em construção, principalmente na representação de léxico (ver LMF), anotação e registro de categoria de dados.\n",
            "\n",
            "\n",
            "== Ferramentas ==\n",
            "Expert System S.p.A.\n",
            "General Architecture for Text Engineering\n",
            "Modular Audio Recognition Framework\n",
            "Natural Language Toolkit (NLTK): uma biblioteca em Python\n",
            "OpenNLP\n",
            "\n",
            "\n",
            "== Veja também ==\n",
            "Mineração de texto biomédica\n",
            "Processo de processamento composto\n",
            "Revisão assistida por computador\n",
            "Linguagem natural controlada\n",
            "Processamento linguístico profundo\n",
            "Auxílio à leitura de línguas estrangeiras\n",
            "Auxílio à escrita em língua estrangeira\n",
            "Tecnologia da linguagem\n",
            "A alocação de Dirichlet Latente (LDA)\n",
            "Indexação semântica latente\n",
            "Lista de ferramentas de processamento de língua natural\n",
            "Mapa de LRE\n",
            "Programação em língua natural\n",
            "Reificação (linguística)\n",
            "Dobradura semântica\n",
            "Sistema de diálogo falado\n",
            "Vetor do Pensamento\n",
            "Pesquisa Transderivacional\n",
            "Word2vec\n",
            "\n",
            "\n",
            "== Referências ==\n",
            "\n",
            "\n",
            "== Leitura adicional ==\n",
            "Steven Bird, Ewan Klein, and Edward Loper (2009). Natural Language Processing with Python. O'Reilly Media. ISBN 978-0-596-51649-9.\n",
            "Daniel Jurafsky and James H. Martin (2008). Speech and Language Processing, 2nd edition. Pearson Prentice Hall. ISBN 978-0-13-187321-6.\n",
            "Christopher D. Manning, Prabhakar Raghavan, and Hinrich Schütze (2008). Introduction to Information Retrieval. Cambridge University Press. ISBN 978-0-521-86571-5. Official html and pdf versions available without charge.\n",
            "Christopher D. Manning and Hinrich Schütze (1999). Foundations of Statistical Natural Language Processing. The MIT Press. ISBN 978-0-262-13360-9.\n",
            "David M. W. Powers and Christopher C. R. Turk (1989). Machine Learning of Natural Language. Springer-Verlag. ISBN 978-0-387-19557-5.\n"
          ]
        }
      ]
    },
    {
      "cell_type": "code",
      "metadata": {
        "id": "EmSdONIGU2d_",
        "colab": {
          "base_uri": "https://localhost:8080/"
        },
        "outputId": "346043aa-055c-440a-ef03-009a55e02168"
      },
      "source": [
        "print(\"O texto que estamos utilizando é da URL\",pln.url)"
      ],
      "execution_count": null,
      "outputs": [
        {
          "output_type": "stream",
          "name": "stdout",
          "text": [
            "O texto que estamos utilizando é da URL https://pt.wikipedia.org/wiki/Processamento_de_linguagem_natural\n"
          ]
        }
      ]
    },
    {
      "cell_type": "code",
      "metadata": {
        "id": "EzO-lVIgU2eC",
        "colab": {
          "base_uri": "https://localhost:8080/"
        },
        "outputId": "03659da0-cc6e-4072-930a-74e7c03e0beb"
      },
      "source": [
        "print(pln.content)"
      ],
      "execution_count": null,
      "outputs": [
        {
          "output_type": "stream",
          "name": "stdout",
          "text": [
            "Processamento de língua natural (PLN) é uma subárea da ciência da computação, inteligência artificial e da linguística que estuda os problemas da geração e compreensão automática de línguas humanas naturais. Sistemas de geração de língua natural convertem informação de bancos de dados de computadores em linguagem compreensível ao ser humano e sistemas de compreensão de língua natural convertem ocorrências de linguagem humana em representações mais formais, mais facilmente manipuláveis por programas de computador. Alguns desafios do PLN são compreensão de língua natural, fazer com que computadores extraiam sentido de linguagem humana ou natural e geração de língua natural.\n",
            "\n",
            "\n",
            "== História ==\n",
            "A história do PLN começou na década de 1950, quando Alan Turing publicou o artigo \"Computing Machinery and Intelligence\", que propunha o que agora é chamado de teste de Turing como critério de inteligência.\n",
            "Em 1954, a experiência de Georgetown envolveu a tradução automática de mais de sessenta frases russas para o inglês. Os autores afirmaram que dentro de três ou cinco anos a tradução automática seria um problema resolvido. No entanto, os avanços reais foram muito mais lentos do que o previsto e, após o relatório ALPAC em 1966, que constatou que a pesquisa de dez anos não conseguiu satisfazer as expectativas, o financiamento para este estudo em tradução automática foi reduzido drasticamente. Poucas pesquisas em tradução automática foram conduzidas até o final dos anos 80, quando os primeiros sistemas estatísticos de tradução foram desenvolvidos.\n",
            "Alguns sistemas de PLN bem sucedidos desenvolvidos nos anos 60 foram SHRDLU, um sistema de língua natural que trabalhava em \"blocks worlds\" com vocabulário restrito e ELIZA, uma simulação de um psicoterapeuta escrita por Joseph Weizenbaum entre 1964 e 1966. Usando pouca informação sobre o pensamento ou a emoção humana, ELIZA criava, em alguns casos, interações surpreendentemente humanas. Quando o \"paciente\" excedia a base de conhecimento do programa, ELIZA fornecia uma resposta genérica, por exemplo, respondendo a \"Minha cabeça dói\" com \"Por que você diz que sua cabeça dói?\".\n",
            "Durante a década de 1970, muitos programadores começaram a escrever \"ontologias conceituais\", que estruturaram a informação do mundo real em dados compreensíveis por computadores. Exemplos são MARGIE (SCHANK, 1975), SAM (CULLINGFORD, 1978), PAM (WILENSKY, 1978), TaleSpin (MEEHAN, 1976), QUALM (LEHNERT, 1977), Politics (CARBONELL, 1979) e Plot Units (LEHNERT, 1981 ). Neste período, muitos chatterbots foram escritos, como PARRY, Racter e Jabberwacky.\n",
            "Até a década de 1980, a maioria dos sistemas de PLN se baseava em conjuntos complexos de regras manuscritas. A partir do final dos anos 1980, no entanto, houve uma revolução no PLN com a introdução de algoritmos de aprendizagem automática (aprendizado de máquina) para o processamento de linguagem. Isto foi devido tanto ao aumento constante do poder computacional (ver Lei de Moore) quanto à diminuição gradual da dominância das teorias da linguística chomskyanas (como a gramática gerativa), cujos fundamentos teóricos desestimularam o tipo de corpus linguístico que está subjacente à abordagem da aprendizagem automática ao processamento da linguagem.\n",
            "Alguns dos algoritmos de aprendizado de máquinas mais antigos, como as árvores de decisão, produziam sistemas de regras rígidas então semelhantes às regras existentes na escritas à mão. No entanto, a marcação de partes da fala (part-of-speech tagging) introduziu o uso de modelos ocultos de Markov para o PLN e, cada vez mais, a pesquisa se concentrava em modelos estatísticos, que tomam decisões suaves e probabilísticas baseadas na atribuição de pesos reais aos recursos que compõem dados de entrada. Os modelos de linguagem de cache, sobre os quais muitos sistemas de reconhecimento de fala agora dependem, são exemplos de tais modelos estatísticos. Esses modelos são geralmente mais robustos quando dados informações desconhecidas, especialmente entrada que contém erros (como é muito comum para dados do mundo real) e produzem resultados mais confiáveis quando integrados em sistemas maiores que compreendem múltiplas tarefas.\n",
            "Muitos dos sucessos iniciais notáveis ocorreram no campo da tradução automática, devido especialmente ao trabalho de pesquisa da IBM, que desenvolveu modelos estatísticos mais elaborados. Estes sistemas foram capazes de tirar proveito de corpora textuais multilíngues existentes  produzidos pelo Parlamento do Canadá e a União Europeia como resultado de leis que exigem a tradução de todos os processos governamentais em todas as línguas oficiais dos países. No entanto, a maioria dos sistemas dependia de corpora desenvolvido especificamente para tarefas implementadas por esses sistemas, o que era (e muitas vezes continua sendo) uma grande limitação no sucesso dos mesmo. Como resultado, uma grande quantidade de pesquisa passou de quantidades de dados limitadas a métodos de aprendizagem mais eficazes.\n",
            "Pesquisas recentes têm se concentrado cada vez mais em algoritmos de aprendizagem semi-supervisionados e sem supervisão. Esses algoritmos são capazes de aprender com dados que não foram anotados manualmente com as respostas desejadas ou usando uma combinação de dados anotados e não anotados. Geralmente, esta tarefa é muito mais trabalhosa do que a aprendizagem supervisionada e normalmente produz resultados menos precisos para uma quantidade específica de dados de entrada. No entanto, há uma enorme quantidade de dados não anotados disponíveis (incluindo, entre outras coisas, todo o conteúdo da World Wide Web), que muitas vezes pode compensar os resultados inferiores.\n",
            "\n",
            "\n",
            "== Usando a aprendizagem automática (aprendizado de máquina) ==\n",
            "Os algoritmos modernos de PLN baseiam-se na aprendizagem mecânica, especialmente na aprendizagem de máquinas estatísticas. O paradigma da aprendizagem mecânica é diferente do da maioria das tentativas anteriores de processamento da linguagem. Anteriormente, implementações de tarefas de processamento de linguagem envolviam a codificação direta de grandes conjuntos de regras. O paradigma da aprendizagem automática (ou aprendizagem automática) induz a aprendizagem automática de regras através de análises de corpora de exemplos típicos do mundo real ao invés de usar algoritmos gerais de aprendizagem (muitas vezes, embora nem sempre, baseados em inferência estatística). Um corpus (plural \"corpora\") é um conjunto de documentos (ou frases individuais) que foram anotados à mão com os valores corretos a serem aprendidos.\n",
            "Muitas classes diferentes de algoritmos de aprendizado de máquina foram aplicadas a tarefas de PLN. Esses algoritmos tomam como entrada um grande conjunto de \"recursos\" que são gerados a partir de dados de entrada.\n",
            "Alguns dos algoritmos mais usados, como árvores de decisão, produziam sistemas de regras rígidas semelhantes aos sistemas de regras manuscritas mais comuns. No entanto, cada vez mais, a pesquisa tem se concentrado em modelos estatísticos, que tomam decisões flexíveis e probabilísticas baseadas em agregar pesos reais a cada característica de entrada. Tais modelos têm a vantagem de poder expressar a certeza relativa de muitas respostas possíveis diferentes em vez de apenas uma, produzindo resultados mais confiáveis quando esse modelo é incluído como um componente de um sistema maior.\n",
            "Os sistemas baseados em algoritmos de aprendizagem mecânica têm muitas vantagens em relação às regras produzidas manualmente:\n",
            "\n",
            "Os procedimentos de aprendizagem usados durante a aprendizagem da máquina focam-se automaticamente nos casos mais comuns, ao passo que quando se escrevem regras à mão, não é óbvio em que sentido o esforço deve ser dirigido.\n",
            "Os procedimentos de aprendizagem automática podem fazer uso de algoritmos de inferência estatística para produzir modelos que são robustos a entradas não familiares (por exemplo, contendo palavras ou estruturas que não foram vistas antes) e a entradas errôneas (por exemplo, com palavras ou palavras incorretamente omitidas). Geralmente, lidar com essas entradas de forma com regras manuscritas ou sistemas de regras manuscritas que tomam decisões suaves é extremamente trabalhoso, propenso a erros e demorado.\n",
            "Sistemas baseados em aprender automaticamente as regras podem ser mais precisos simplesmente fornecendo mais dados de entrada. No entanto, os sistemas baseados em regras escritas à mão só podem ser tornados mais precisos aumentando a complexidade das regras, o que é uma tarefa muito mais difícil. Em particular, há um limite para a complexidade de sistemas baseados em regras artesanais, para além dos quais os sistemas se tornam cada vez mais incontroláveis. No entanto, a criação de mais dados para entrada em sistemas de aprendizado de máquina requer simplesmente um aumento correspondente no número de horas trabalhadas por humanos, geralmente sem aumentos significativos na complexidade do processo de anotação.O subcampo de PLN dedicado a abordagens de aprendizagem é conhecido como aprendizagem de língua natural (NLL) e sua conferência, a CoNLL, e orgão central, o SIGNLL, são patrocinados pela ACL, reconhecendo também as suas ligações com linguística computacional e aquisição de linguagem. Quando o objetivo da pesquisa de aprendizagem de linguagem computacional é entender mais sobre aquisição de linguagem humana, ou psicolinguística, a NLL sobrepõe-se no campo relacionado de psicolinguística computacional.\n",
            "\n",
            "\n",
            "== Aplicações principais ==\n",
            "A listagem a seguir traz alguns dos trabalhos mais pesquisadas em PLN. Note que alguns deles têm aplicações no mundo real, enquanto outras servem mais frequentemente como tarefas secundárias que são usadas para auxiliar na resolução de tarefas maiores. O que distingue essas tarefas de outras tarefas potenciais e reais de PLN não é apenas o volume de pesquisa dedicado a elas, mas o fato de que para cada uma há tipicamente uma definição de problema bem especificada, uma métrica padrão para avaliar a tarefa, corpora padrão em que a tarefa pode ser avaliada e as competições dedicadas à tarefa específica.\n",
            "Sumarização automática\n",
            "\n",
            "Produz um resumo legível de uma parte do texto. Muitas vezes usado para fornecer resumos de texto de um tipo conhecido, como artigos na seção financeira de um jornal.Resolução de correferência\n",
            "\n",
            "Dada uma frase ou um pedaço maior de texto, determina quais palavras (\"menções\") se referem aos mesmos objetos (\"entidades\"). A resolução da anáfora é um exemplo específico dessa tarefa e está especificamente preocupada em combinar os pronomes com os substantivos ou nomes aos quais eles se referem. A tarefa mais geral da resolução de correferência também inclui a identificação dos chamados \"relacionamentos de ponte\" envolvendo expressões de referência. Por exemplo, numa frase como \"Ele entrou na casa de João pela porta da frente\", \"a porta da frente\" é uma expressão de referência e a relação da ponte a ser identificada é o fato de que a porta a ser referida é a porta da frente de John's (ao invés de alguma outra estrutura que também pode ser referida).Análise do Discurso\n",
            "\n",
            "Esta rubrica inclui uma série de tarefas relacionadas. Uma tarefa é identificar a estrutura discursiva do texto conectado, isto é, a natureza das relações discursivas entre sentenças (por exemplo, elaboração, explicação, contraste). Outra possível tarefa é reconhecer e classificar os atos de fala em um pedaço de texto (por exemplo, pergunta sim-não, pergunta de conteúdo, frase, afirmação, etc).Maquina de tradução\n",
            "\n",
            "Traduzir automaticamente texto de uma linguagem humana para outra. Este é uma das tarefas mais difíceis e faz parte de um tipo de problemas conhecidos como \"AI-complete\", ou seja, exigindo todos os diferentes tipos de conhecimento que os humanos possuem (gramática, semântica, fatos sobre o mundo real, etc) para resolvê-lo adequadamente.Segmentação morfológica\n",
            "\n",
            "Separa palavras em morfemas individuais e identifica classes de morfemas. A dificuldade desta tarefa depende muito da complexidade da morfologia (isto é, da estrutura das palavras) da linguagem que está sendo considerada. O inglês possui uma morfologia bastante simples, especialmente a morfologia flexional, e portanto é possível ignorar esta tarefa inteiramente e simplesmente modelar todas as formas possíveis de uma palavra (por exemplo, \"open, opens, opened, opening\") como palavras separadas. Em línguas como o turco ou o Meitei, uma língua indiana fortemente aglutinada, no entanto, tal abordagem não é possível, uma vez que cada entrada do dicionário tem milhares de formas de palavras possíveis.Reconhecimento de entidade nomeada (NER)\n",
            "\n",
            "Dado um fluxo de texto, determina quais são itens no mapa de texto para nomes próprios, como pessoas ou locais e qual é o tipo de cada nome (por exemplo, pessoa, local, organização). Embora a capitalização possa ajudar a reconhecer entidades nomeadas em idiomas como o inglês, essas informações podem não ajudar a determinar o tipo de entidade nomeada e, em alguns casos, sãos imprecisas ou insuficientes. Por exemplo, a primeira palavra de uma frase também é capitalizada e as entidades nomeadas muitas vezes abrangem várias palavras, com apenas algumas delas são capitalizadas. Além disso, muitas outras linguagens em scripts não-ocidentais (por exemplo, chinês ou árabe) não têm nenhuma capitalização e mesmo as línguas com maiúsculas podem não distinguir nomes. Por exemplo, o alemão capitaliza todos os substantivos, independentemente de se referirem a nomes, e o francês e o espanhol não capitalizam nomes que servem como adjetivos.Geração de língua natural\n",
            "\n",
            "Converte informações de bancos de dados de computador ou intenções semânticas em linguagem humana legível.Compreensão da língua natural\n",
            "\n",
            "Converte pedaços de texto em representações mais formais, como estruturas de lógica de primeira ordem, que são mais fáceis de manipular pelos programas de computador. A compreensão da língua natural envolve a identificação da semântica pretendida a partir da múltipla semântica possível que pode ser derivada de uma expressão de língua natural que geralmente toma a forma de notação organizada de conceitos de linguagens naturais. Entretanto, introdução e criação de linguagem metamodelo e ontologia são eficientes soluções empíricas. Uma formalização explícita da semântica de línguas naturais sem confusões com suposições implícitas como closed-world assumption (CWA) versus open-world assumption ou subjetiva Sim / Não versus objetivo Verdadeiro / Falso é esperada para a construção de uma base de formalização semântica.Reconhecimento óptico de caracteres (OCR)\n",
            "\n",
            "Dada uma imagem que representa o texto impresso, determina o texto correspondente.Marcação de classe gramatical\n",
            "\n",
            "Dada uma sentença, determina a classe gramatical de cada palavra. Muitas palavras, especialmente as comuns, podem servir como múltiplas partes do discurso. Em inglês, por exemplo, \"book\" pode ser um substantivo (\"the book on the table\") ou verbo (\"book a flight\"); \"Set\" pode ser um substantivo, verbo ou adjetivo; E \"out\" pode ser qualquer um de pelo menos cinco diferentes partes da fala. Algumas línguas têm mais ambiguidade do que outras. As línguas com pouca morfologia flexional, como o inglês, são particularmente propensas a tal ambiguidade. O chinês é propenso a tal ambiguidade porque é uma língua tonal durante a verbalização. Tal inflexão não é facilmente transmitida através das entidades empregadas dentro da ortografia para transmitir o significado pretendido.Análise sintática (Parsing)\n",
            "\n",
            "Determina a árvore de análise (análise gramatical) de uma frase. A gramática para as linguagens naturais é ambígua e frases típicas têm múltiplas análises possíveis. Na verdade, surpreendentemente, para uma frase típica pode haver milhares de análises em potencial (a maioria dos quais parecerá completamente absurda para um ser humano).Respostas a perguntas\n",
            "\n",
            "Dada uma questão de linguagem humana, determina sua resposta. As perguntas típicas têm uma resposta correta específica (como \"Qual é o capital do Canadá?\"), mas às vezes perguntas abertas também são consideradas (como \"Qual é o significado da vida?\"). Trabalhos recentes têm analisado questões ainda mais complexas.Extração de relacionamento\n",
            "\n",
            "Identifica as relações entre entidades nomeadas (por exemplo, quem é casado com quem) com base em textos.Quebra de frases (sentence boundary disambiguation)\n",
            "\n",
            "Encontra os limites da frase em um pedaço de texto. Os limites de frases são normalmente marcadas por pontos ou outros sinais de pontuação, mas esses mesmos caracteres podem servir outros propósitos.Análise de subjetividade (sentiment analysis ou opinion mining)\n",
            "\n",
            "Extrai informações subjetivas geralmente de um conjunto de documentos, muitas vezes usando revisões online para determinar a \"polaridade\" sobre objetos específicos. É especialmente útil para identificar tendências da opinião pública nas mídias sociais, para fins de marketing.Reconhecimento de fala\n",
            "\n",
            "Dado um clipe de som de uma pessoa ou pessoas falando, determina a representação textual do discurso. É o oposto da síntese de fala e é uma das áreas mais difíceis, conhecida como \"AI-complete\". Na fala natural quase não há pausas entre palavras sucessivas, por isso a segmentação de fala é uma subtarefa necessária de reconhecimento de fala. Nota-se também que, na maioria das linguagens faladas, os sons que representam letras sucessivas se misturam entre si em um processo denominado coarticulação, de modo que a conversão do sinal analógico em caracteres discretos pode ser um processo muito difícil de ser realizado.Segmentação de fala\n",
            "\n",
            "Dado um clipe de som de uma pessoa ou pessoas falando, separa-o em palavras. Uma subaplicação de reconhecimento de fala e normalmente agrupada com ele.Análise morfológica e reconhecimento de tópicos\n",
            "\n",
            "Dado um pedaço de texto, separa-o em segmentos cada um dos quais é dedicado a um tópico e identifica o tópico do segmento.Análise morfológica e segmentação de palavras\n",
            "\n",
            "Separa um pedaço de texto contínuo em palavras separadas. Para uma língua como o inglês, isso é bastante trivial, uma vez que as palavras são normalmente separadas por espaços. No entanto, algumas línguas escritas como chinês, japonês e tailandês não marcam limites de palavras de tal forma, e nessas línguas segmentação de texto é uma tarefa significativa que requer conhecimento do vocabulário e morfologia das palavras na língua.Desambiguação\n",
            "\n",
            "Muitas palavras têm mais de um significado, assim temos que selecionar o significado que faz mais sentido no contexto. Para este problema, em geral é dada uma lista de palavras e sentidos de palavras associadas de um dicionário ou recurso online, como o WordNet.\n",
            "Em alguns casos, conjuntos de tarefas relacionadas são agrupados em subcampos de PLN que são frequentemente considerados separadamente da PLN como um todo, como os exemplos à seguir:Recuperação de informação (IR)\n",
            "\n",
            "Trata-se de armazenar, pesquisar e recuperar informações. É um campo separado dentro da ciência da computação (mais perto de bancos de dados), mas a IR se baseia em alguns métodos PLN (por exemplo, stemming). Algumas pesquisas e aplicações atuais procuram preencher a lacuna entre IR e PLN.Extração de informação (IE)\n",
            "\n",
            "Trata-se, em geral, da extração de informação semântica a partir do texto. Abrange tarefas como reconhecimento de entidade mencionada, resolução de correferência e de relacionamento de extração, etc.\n",
            "Processamento de voz  Abrange reconhecimento de fala, síntese de fala e tarefas relacionadas.\n",
            "Outras tarefas incluem:\n",
            "Identificação na língua materna\n",
            "Stemização\n",
            "Simplificação do texto\n",
            "Síntese de fala\n",
            "Revisão de texto\n",
            "Pesquisa em língua natural\n",
            "Expansão da consulta\n",
            "Pontuação de ensaio automatizado\n",
            "Truecasing\n",
            "\n",
            "\n",
            "== Estatística ==\n",
            "Artigo principal: Gramática estocástica\n",
            "O processamento estatístico em língua natural utiliza métodos estocásticos, probabilísticos e estatísticos para resolver algumas das dificuldades discutidas acima, especialmente aquelas que surgem porque frases mais longas são muito ambíguas quando processadas com gramáticas realistas, produzindo milhares ou milhões de análises possíveis. Métodos de desambiguação envolvem muitas vezes o uso de corpora e modelos de Markov. O projeto ESPRIT P26 (1984-1988), liderado pelo CSELT, explorou o problema do reconhecimento de fala comparando abordagem baseada em conhecimento e estatística: o resultado escolhido foi um modelo completamente estatístico. Um dos primeiros modelos de compreensão estatística da língua natural foi introduzido em 1991 por Roberto Pieraccini, Esther Levin e Chin-Hui Lee, da Bell Laboratories]. O PLN compreende todas as abordagens quantitativas para processamento automatizado de linguagem, incluindo modelagem probabilística, teoria da informação e álgebra linear. A tecnologia para o PLN estatístico vem principalmente da aprendizagem automática e da mineração de dados, que são campos de inteligência artificial que envolvem o aprendizado a partir de dados.\n",
            "\n",
            "\n",
            "== Avaliação ==\n",
            "O objetivo da avaliação do PLN é uma medida de uma ou mais qualidades de um algoritmo ou de um sistema a fim de determinar se o algoritmo atende às metas dos projetistas ou o sistema de atendimento às necessidades de seus usuários. Investigação na avaliação PLN  tem ganhado atenção, porque a definição de critérios de avaliação é uma forma de especificar precisamente problemas do PLN. Uma métrica de avaliação de PLN em um sistema algorítmico permite a integração da compreensão de linguagem e geração de linguagem. Um conjunto preciso de critérios de avaliação, que pode ser aplicado principalmente a avaliações métricas, podendo permitir que várias equipes comparem suas soluções para um determinado problema do PLN.\n",
            "\n",
            "\n",
            "== Cronologia da avaliação ==\n",
            "Em 1983, iniciou-se o Projecto Esprit P26, que avaliou as Tecnologias da Fala (incluindo tópicos gerais como Sintaxe e Semântica) comparando as abordagens baseadas em regras com as estatísticas.\n",
            "Em 1987, a primeira campanha de avaliação de textos escritos parece ser uma campanha dedicada à compreensão da mensagem (Pallet, 1998).\n",
            "O projeto Parseval / GEIG comparou gramáticas de frase-estrutura (Black 1991).\n",
            "Houve uma série de campanhas no projeto Tipster sobre tarefas como resumo, tradução e pesquisa (Hirschman 1998).\n",
            "Em 1994, na Alemanha, o Morpholympics comparou marcadores morfológicos alemães.\n",
            "As campanhas de Senseval & Romanseval foram realizadas com os objetivos de desambiguação semântica.\n",
            "Em 1996, a campanha Sparkle comparou os analisadores sintáticos em quatro idiomas diferentes (inglês, francês, alemão e italiano).\n",
            "Na França, o projeto Grace comparou um conjunto de 21 marcadores para o francês em 1997 (Adda 1999).\n",
            "Em 2004, durante o projeto Technolangue / Easy, foram comparados 13 analisadores para o francês.\n",
            "A avaliação em larga escala dos analisadores de dependência foi realizada no contexto das tarefas compartilhadas do CoNLL em 2006 e 2007.\n",
            "Na França, no âmbito do projecto ANR-Passage (final de 2007), foram comparados 10 analisadores para o francês.\n",
            "Em Itália, a campanha EVALITA foi realizada em 2007, 2009, 2011 e 2014 para comparar várias ferramentas de PLN e de voz para o site italiano - EVALITA.\n",
            "\n",
            "\n",
            "== Diferentes tipos de avaliação ==\n",
            "Avaliação intrínseca vs. extrínseca\n",
            "A avaliação intrínseca considera um sistema PNL isolado e caracteriza seu desempenho em relação a um resultado padrão-excelência, conforme definido pelos avaliadores. A avaliação extrínseca, também chamada de avaliação em uso, considera o sistema PLN em um cenário mais complexo como um sistema embutido ou uma função precisa para um usuário humano. O desempenho extrínseco do sistema é então caracterizado em termos de utilidade em relação à tarefa global do sistema estranho ou do utilizador humano. Por exemplo, considere um analisador sintático que é baseado na saída de alguma parte do tagger de fala (POS). Uma avaliação intrínseca executaria o marcador POS em dados estruturados e compararia a saída do sistema do marcador POS com a saída padrão ouro. Uma avaliação extrínseca executaria o analisador com algum outro marcador POS e, em seguida, com o marcador POS novo e compara a precisão de análise.\n",
            "Caixa preta vs. Avaliação da caixa de vidro\n",
            "A avaliação em caixa preta requer que alguém execute um sistema PLN em um conjunto de dados de amostra e para medir uma série de parâmetros relacionados com a qualidade do processo, como velocidade, confiabilidade, consumo de recursos e, principalmente, a qualidade do resultado, como a precisão da anotação de dados ou a fidelidade de uma tradução. A avaliação da caixa de vidro examina a concepção do sistema; Os algoritmos que são implementados, os recursos linguísticos que utiliza, como o tamanho do vocabulário ou a expressão definida de cardinalidade. Dada a complexidade dos problemas da PLN, muitas vezes é difícil prever o desempenho apenas com base na avaliação da caixa de vidro; Mas este tipo de avaliação é mais informativo no que diz respeito à análise de erros ou desenvolvimentos futuros de um sistema.\n",
            "Automática vs. avaliação manual\n",
            "Em muitos casos, procedimentos automáticos podem ser definidos para avaliar um sistema de PLN, comparando sua saída com o padrão de excelência. Embora o custo de reproduzir o padrão de excelência possa ser bastante elevado, avaliação automática de bootstrapping sobre os mesmos dados de entrada pode ser repetida quantas vezes for necessário sem custos adicionais desordenados. No entanto, para muitos problemas de PLN a definição precisa de um padrão de excelência é uma tarefa complexa e pode se revelar impossível quando o acordo inter-anotador é insuficiente. A avaliação manual é melhor realizada por juízes humanos instruídos para estimar a qualidade de um sistema, ou mais frequentemente de uma amostra de sua produção, com base em uma série de critérios. Embora, graças à sua competência linguística, os juízes humanos possam ser considerados como a referência para uma série de tarefas de processamento de linguagem, há também uma variação considerável em suas classificações. É por isso que a avaliação automática é, por vezes, referida como avaliação objetiva enquanto a avaliação humana é perspectiva.\n",
            "\n",
            "\n",
            "== Padronização ==\n",
            "Um subcomitê ISO está trabalhando para facilitar a interoperabilidade entre recursos lexicais e programas PLN. O subcomitê faz parte do ISO / TC37 e é chamado ISO / TC37 / SC4. Alguns padrões ISO já estão publicados, mas a maioria deles está em construção, principalmente na representação de léxico (ver LMF), anotação e registro de categoria de dados.\n",
            "\n",
            "\n",
            "== Ferramentas ==\n",
            "Expert System S.p.A.\n",
            "General Architecture for Text Engineering\n",
            "Modular Audio Recognition Framework\n",
            "Natural Language Toolkit (NLTK): uma biblioteca em Python\n",
            "OpenNLP\n",
            "\n",
            "\n",
            "== Veja também ==\n",
            "Mineração de texto biomédica\n",
            "Processo de processamento composto\n",
            "Revisão assistida por computador\n",
            "Linguagem natural controlada\n",
            "Processamento linguístico profundo\n",
            "Auxílio à leitura de línguas estrangeiras\n",
            "Auxílio à escrita em língua estrangeira\n",
            "Tecnologia da linguagem\n",
            "A alocação de Dirichlet Latente (LDA)\n",
            "Indexação semântica latente\n",
            "Lista de ferramentas de processamento de língua natural\n",
            "Mapa de LRE\n",
            "Programação em língua natural\n",
            "Reificação (linguística)\n",
            "Dobradura semântica\n",
            "Sistema de diálogo falado\n",
            "Vetor do Pensamento\n",
            "Pesquisa Transderivacional\n",
            "Word2vec\n",
            "\n",
            "\n",
            "== Referências ==\n",
            "\n",
            "\n",
            "== Leitura adicional ==\n",
            "Steven Bird, Ewan Klein, and Edward Loper (2009). Natural Language Processing with Python. O'Reilly Media. ISBN 978-0-596-51649-9.\n",
            "Daniel Jurafsky and James H. Martin (2008). Speech and Language Processing, 2nd edition. Pearson Prentice Hall. ISBN 978-0-13-187321-6.\n",
            "Christopher D. Manning, Prabhakar Raghavan, and Hinrich Schütze (2008). Introduction to Information Retrieval. Cambridge University Press. ISBN 978-0-521-86571-5. Official html and pdf versions available without charge.\n",
            "Christopher D. Manning and Hinrich Schütze (1999). Foundations of Statistical Natural Language Processing. The MIT Press. ISBN 978-0-262-13360-9.\n",
            "David M. W. Powers and Christopher C. R. Turk (1989). Machine Learning of Natural Language. Springer-Verlag. ISBN 978-0-387-19557-5.\n"
          ]
        }
      ]
    },
    {
      "cell_type": "markdown",
      "metadata": {
        "id": "8QdmSASmU2eF"
      },
      "source": [
        "## Tokenização\n",
        "\n",
        "Existem várias formas de realizar tokenização. \n",
        "1. Split()\n",
        "2. Regex\n",
        "3. NLTK\n",
        "4. ..."
      ]
    },
    {
      "cell_type": "markdown",
      "metadata": {
        "id": "vpC8C-NfU2eG"
      },
      "source": [
        "### Split\n",
        "\n",
        "1. Faça utilizando o método abaixo\n",
        "<b> Não esqueça de armazenar o resultado na variável abaixo. </b>\n",
        "\n",
        "```python\n",
        "str.split()\n",
        "```"
      ]
    },
    {
      "cell_type": "code",
      "metadata": {
        "id": "CQWJf8eAU2eG",
        "colab": {
          "base_uri": "https://localhost:8080/"
        },
        "outputId": "04b3eaf3-a58b-4367-cbfe-704ad887761f"
      },
      "source": [
        "tokens_split = str.split(corpus)\n",
        "tokens_split"
      ],
      "execution_count": null,
      "outputs": [
        {
          "output_type": "execute_result",
          "data": {
            "text/plain": [
              "['Processamento',\n",
              " 'de',\n",
              " 'língua',\n",
              " 'natural',\n",
              " '(PLN)',\n",
              " 'é',\n",
              " 'uma',\n",
              " 'subárea',\n",
              " 'da',\n",
              " 'ciência',\n",
              " 'da',\n",
              " 'computação,',\n",
              " 'inteligência',\n",
              " 'artificial',\n",
              " 'e',\n",
              " 'da',\n",
              " 'linguística',\n",
              " 'que',\n",
              " 'estuda',\n",
              " 'os',\n",
              " 'problemas',\n",
              " 'da',\n",
              " 'geração',\n",
              " 'e',\n",
              " 'compreensão',\n",
              " 'automática',\n",
              " 'de',\n",
              " 'línguas',\n",
              " 'humanas',\n",
              " 'naturais.',\n",
              " 'Sistemas',\n",
              " 'de',\n",
              " 'geração',\n",
              " 'de',\n",
              " 'língua',\n",
              " 'natural',\n",
              " 'convertem',\n",
              " 'informação',\n",
              " 'de',\n",
              " 'bancos',\n",
              " 'de',\n",
              " 'dados',\n",
              " 'de',\n",
              " 'computadores',\n",
              " 'em',\n",
              " 'linguagem',\n",
              " 'compreensível',\n",
              " 'ao',\n",
              " 'ser',\n",
              " 'humano',\n",
              " 'e',\n",
              " 'sistemas',\n",
              " 'de',\n",
              " 'compreensão',\n",
              " 'de',\n",
              " 'língua',\n",
              " 'natural',\n",
              " 'convertem',\n",
              " 'ocorrências',\n",
              " 'de',\n",
              " 'linguagem',\n",
              " 'humana',\n",
              " 'em',\n",
              " 'representações',\n",
              " 'mais',\n",
              " 'formais,',\n",
              " 'mais',\n",
              " 'facilmente',\n",
              " 'manipuláveis',\n",
              " 'por',\n",
              " 'programas',\n",
              " 'de',\n",
              " 'computador.',\n",
              " 'Alguns',\n",
              " 'desafios',\n",
              " 'do',\n",
              " 'PLN',\n",
              " 'são',\n",
              " 'compreensão',\n",
              " 'de',\n",
              " 'língua',\n",
              " 'natural,',\n",
              " 'fazer',\n",
              " 'com',\n",
              " 'que',\n",
              " 'computadores',\n",
              " 'extraiam',\n",
              " 'sentido',\n",
              " 'de',\n",
              " 'linguagem',\n",
              " 'humana',\n",
              " 'ou',\n",
              " 'natural',\n",
              " 'e',\n",
              " 'geração',\n",
              " 'de',\n",
              " 'língua',\n",
              " 'natural.',\n",
              " '==',\n",
              " 'História',\n",
              " '==',\n",
              " 'A',\n",
              " 'história',\n",
              " 'do',\n",
              " 'PLN',\n",
              " 'começou',\n",
              " 'na',\n",
              " 'década',\n",
              " 'de',\n",
              " '1950,',\n",
              " 'quando',\n",
              " 'Alan',\n",
              " 'Turing',\n",
              " 'publicou',\n",
              " 'o',\n",
              " 'artigo',\n",
              " '\"Computing',\n",
              " 'Machinery',\n",
              " 'and',\n",
              " 'Intelligence\",',\n",
              " 'que',\n",
              " 'propunha',\n",
              " 'o',\n",
              " 'que',\n",
              " 'agora',\n",
              " 'é',\n",
              " 'chamado',\n",
              " 'de',\n",
              " 'teste',\n",
              " 'de',\n",
              " 'Turing',\n",
              " 'como',\n",
              " 'critério',\n",
              " 'de',\n",
              " 'inteligência.',\n",
              " 'Em',\n",
              " '1954,',\n",
              " 'a',\n",
              " 'experiência',\n",
              " 'de',\n",
              " 'Georgetown',\n",
              " 'envolveu',\n",
              " 'a',\n",
              " 'tradução',\n",
              " 'automática',\n",
              " 'de',\n",
              " 'mais',\n",
              " 'de',\n",
              " 'sessenta',\n",
              " 'frases',\n",
              " 'russas',\n",
              " 'para',\n",
              " 'o',\n",
              " 'inglês.',\n",
              " 'Os',\n",
              " 'autores',\n",
              " 'afirmaram',\n",
              " 'que',\n",
              " 'dentro',\n",
              " 'de',\n",
              " 'três',\n",
              " 'ou',\n",
              " 'cinco',\n",
              " 'anos',\n",
              " 'a',\n",
              " 'tradução',\n",
              " 'automática',\n",
              " 'seria',\n",
              " 'um',\n",
              " 'problema',\n",
              " 'resolvido.',\n",
              " 'No',\n",
              " 'entanto,',\n",
              " 'os',\n",
              " 'avanços',\n",
              " 'reais',\n",
              " 'foram',\n",
              " 'muito',\n",
              " 'mais',\n",
              " 'lentos',\n",
              " 'do',\n",
              " 'que',\n",
              " 'o',\n",
              " 'previsto',\n",
              " 'e,',\n",
              " 'após',\n",
              " 'o',\n",
              " 'relatório',\n",
              " 'ALPAC',\n",
              " 'em',\n",
              " '1966,',\n",
              " 'que',\n",
              " 'constatou',\n",
              " 'que',\n",
              " 'a',\n",
              " 'pesquisa',\n",
              " 'de',\n",
              " 'dez',\n",
              " 'anos',\n",
              " 'não',\n",
              " 'conseguiu',\n",
              " 'satisfazer',\n",
              " 'as',\n",
              " 'expectativas,',\n",
              " 'o',\n",
              " 'financiamento',\n",
              " 'para',\n",
              " 'este',\n",
              " 'estudo',\n",
              " 'em',\n",
              " 'tradução',\n",
              " 'automática',\n",
              " 'foi',\n",
              " 'reduzido',\n",
              " 'drasticamente.',\n",
              " 'Poucas',\n",
              " 'pesquisas',\n",
              " 'em',\n",
              " 'tradução',\n",
              " 'automática',\n",
              " 'foram',\n",
              " 'conduzidas',\n",
              " 'até',\n",
              " 'o',\n",
              " 'final',\n",
              " 'dos',\n",
              " 'anos',\n",
              " '80,',\n",
              " 'quando',\n",
              " 'os',\n",
              " 'primeiros',\n",
              " 'sistemas',\n",
              " 'estatísticos',\n",
              " 'de',\n",
              " 'tradução',\n",
              " 'foram',\n",
              " 'desenvolvidos.',\n",
              " 'Alguns',\n",
              " 'sistemas',\n",
              " 'de',\n",
              " 'PLN',\n",
              " 'bem',\n",
              " 'sucedidos',\n",
              " 'desenvolvidos',\n",
              " 'nos',\n",
              " 'anos',\n",
              " '60',\n",
              " 'foram',\n",
              " 'SHRDLU,',\n",
              " 'um',\n",
              " 'sistema',\n",
              " 'de',\n",
              " 'língua',\n",
              " 'natural',\n",
              " 'que',\n",
              " 'trabalhava',\n",
              " 'em',\n",
              " '\"blocks',\n",
              " 'worlds\"',\n",
              " 'com',\n",
              " 'vocabulário',\n",
              " 'restrito',\n",
              " 'e',\n",
              " 'ELIZA,',\n",
              " 'uma',\n",
              " 'simulação',\n",
              " 'de',\n",
              " 'um',\n",
              " 'psicoterapeuta',\n",
              " 'escrita',\n",
              " 'por',\n",
              " 'Joseph',\n",
              " 'Weizenbaum',\n",
              " 'entre',\n",
              " '1964',\n",
              " 'e',\n",
              " '1966.',\n",
              " 'Usando',\n",
              " 'pouca',\n",
              " 'informação',\n",
              " 'sobre',\n",
              " 'o',\n",
              " 'pensamento',\n",
              " 'ou',\n",
              " 'a',\n",
              " 'emoção',\n",
              " 'humana,',\n",
              " 'ELIZA',\n",
              " 'criava,',\n",
              " 'em',\n",
              " 'alguns',\n",
              " 'casos,',\n",
              " 'interações',\n",
              " 'surpreendentemente',\n",
              " 'humanas.',\n",
              " 'Quando',\n",
              " 'o',\n",
              " '\"paciente\"',\n",
              " 'excedia',\n",
              " 'a',\n",
              " 'base',\n",
              " 'de',\n",
              " 'conhecimento',\n",
              " 'do',\n",
              " 'programa,',\n",
              " 'ELIZA',\n",
              " 'fornecia',\n",
              " 'uma',\n",
              " 'resposta',\n",
              " 'genérica,',\n",
              " 'por',\n",
              " 'exemplo,',\n",
              " 'respondendo',\n",
              " 'a',\n",
              " '\"Minha',\n",
              " 'cabeça',\n",
              " 'dói\"',\n",
              " 'com',\n",
              " '\"Por',\n",
              " 'que',\n",
              " 'você',\n",
              " 'diz',\n",
              " 'que',\n",
              " 'sua',\n",
              " 'cabeça',\n",
              " 'dói?\".',\n",
              " 'Durante',\n",
              " 'a',\n",
              " 'década',\n",
              " 'de',\n",
              " '1970,',\n",
              " 'muitos',\n",
              " 'programadores',\n",
              " 'começaram',\n",
              " 'a',\n",
              " 'escrever',\n",
              " '\"ontologias',\n",
              " 'conceituais\",',\n",
              " 'que',\n",
              " 'estruturaram',\n",
              " 'a',\n",
              " 'informação',\n",
              " 'do',\n",
              " 'mundo',\n",
              " 'real',\n",
              " 'em',\n",
              " 'dados',\n",
              " 'compreensíveis',\n",
              " 'por',\n",
              " 'computadores.',\n",
              " 'Exemplos',\n",
              " 'são',\n",
              " 'MARGIE',\n",
              " '(SCHANK,',\n",
              " '1975),',\n",
              " 'SAM',\n",
              " '(CULLINGFORD,',\n",
              " '1978),',\n",
              " 'PAM',\n",
              " '(WILENSKY,',\n",
              " '1978),',\n",
              " 'TaleSpin',\n",
              " '(MEEHAN,',\n",
              " '1976),',\n",
              " 'QUALM',\n",
              " '(LEHNERT,',\n",
              " '1977),',\n",
              " 'Politics',\n",
              " '(CARBONELL,',\n",
              " '1979)',\n",
              " 'e',\n",
              " 'Plot',\n",
              " 'Units',\n",
              " '(LEHNERT,',\n",
              " '1981',\n",
              " ').',\n",
              " 'Neste',\n",
              " 'período,',\n",
              " 'muitos',\n",
              " 'chatterbots',\n",
              " 'foram',\n",
              " 'escritos,',\n",
              " 'como',\n",
              " 'PARRY,',\n",
              " 'Racter',\n",
              " 'e',\n",
              " 'Jabberwacky.',\n",
              " 'Até',\n",
              " 'a',\n",
              " 'década',\n",
              " 'de',\n",
              " '1980,',\n",
              " 'a',\n",
              " 'maioria',\n",
              " 'dos',\n",
              " 'sistemas',\n",
              " 'de',\n",
              " 'PLN',\n",
              " 'se',\n",
              " 'baseava',\n",
              " 'em',\n",
              " 'conjuntos',\n",
              " 'complexos',\n",
              " 'de',\n",
              " 'regras',\n",
              " 'manuscritas.',\n",
              " 'A',\n",
              " 'partir',\n",
              " 'do',\n",
              " 'final',\n",
              " 'dos',\n",
              " 'anos',\n",
              " '1980,',\n",
              " 'no',\n",
              " 'entanto,',\n",
              " 'houve',\n",
              " 'uma',\n",
              " 'revolução',\n",
              " 'no',\n",
              " 'PLN',\n",
              " 'com',\n",
              " 'a',\n",
              " 'introdução',\n",
              " 'de',\n",
              " 'algoritmos',\n",
              " 'de',\n",
              " 'aprendizagem',\n",
              " 'automática',\n",
              " '(aprendizado',\n",
              " 'de',\n",
              " 'máquina)',\n",
              " 'para',\n",
              " 'o',\n",
              " 'processamento',\n",
              " 'de',\n",
              " 'linguagem.',\n",
              " 'Isto',\n",
              " 'foi',\n",
              " 'devido',\n",
              " 'tanto',\n",
              " 'ao',\n",
              " 'aumento',\n",
              " 'constante',\n",
              " 'do',\n",
              " 'poder',\n",
              " 'computacional',\n",
              " '(ver',\n",
              " 'Lei',\n",
              " 'de',\n",
              " 'Moore)',\n",
              " 'quanto',\n",
              " 'à',\n",
              " 'diminuição',\n",
              " 'gradual',\n",
              " 'da',\n",
              " 'dominância',\n",
              " 'das',\n",
              " 'teorias',\n",
              " 'da',\n",
              " 'linguística',\n",
              " 'chomskyanas',\n",
              " '(como',\n",
              " 'a',\n",
              " 'gramática',\n",
              " 'gerativa),',\n",
              " 'cujos',\n",
              " 'fundamentos',\n",
              " 'teóricos',\n",
              " 'desestimularam',\n",
              " 'o',\n",
              " 'tipo',\n",
              " 'de',\n",
              " 'corpus',\n",
              " 'linguístico',\n",
              " 'que',\n",
              " 'está',\n",
              " 'subjacente',\n",
              " 'à',\n",
              " 'abordagem',\n",
              " 'da',\n",
              " 'aprendizagem',\n",
              " 'automática',\n",
              " 'ao',\n",
              " 'processamento',\n",
              " 'da',\n",
              " 'linguagem.',\n",
              " 'Alguns',\n",
              " 'dos',\n",
              " 'algoritmos',\n",
              " 'de',\n",
              " 'aprendizado',\n",
              " 'de',\n",
              " 'máquinas',\n",
              " 'mais',\n",
              " 'antigos,',\n",
              " 'como',\n",
              " 'as',\n",
              " 'árvores',\n",
              " 'de',\n",
              " 'decisão,',\n",
              " 'produziam',\n",
              " 'sistemas',\n",
              " 'de',\n",
              " 'regras',\n",
              " 'rígidas',\n",
              " 'então',\n",
              " 'semelhantes',\n",
              " 'às',\n",
              " 'regras',\n",
              " 'existentes',\n",
              " 'na',\n",
              " 'escritas',\n",
              " 'à',\n",
              " 'mão.',\n",
              " 'No',\n",
              " 'entanto,',\n",
              " 'a',\n",
              " 'marcação',\n",
              " 'de',\n",
              " 'partes',\n",
              " 'da',\n",
              " 'fala',\n",
              " '(part-of-speech',\n",
              " 'tagging)',\n",
              " 'introduziu',\n",
              " 'o',\n",
              " 'uso',\n",
              " 'de',\n",
              " 'modelos',\n",
              " 'ocultos',\n",
              " 'de',\n",
              " 'Markov',\n",
              " 'para',\n",
              " 'o',\n",
              " 'PLN',\n",
              " 'e,',\n",
              " 'cada',\n",
              " 'vez',\n",
              " 'mais,',\n",
              " 'a',\n",
              " 'pesquisa',\n",
              " 'se',\n",
              " 'concentrava',\n",
              " 'em',\n",
              " 'modelos',\n",
              " 'estatísticos,',\n",
              " 'que',\n",
              " 'tomam',\n",
              " 'decisões',\n",
              " 'suaves',\n",
              " 'e',\n",
              " 'probabilísticas',\n",
              " 'baseadas',\n",
              " 'na',\n",
              " 'atribuição',\n",
              " 'de',\n",
              " 'pesos',\n",
              " 'reais',\n",
              " 'aos',\n",
              " 'recursos',\n",
              " 'que',\n",
              " 'compõem',\n",
              " 'dados',\n",
              " 'de',\n",
              " 'entrada.',\n",
              " 'Os',\n",
              " 'modelos',\n",
              " 'de',\n",
              " 'linguagem',\n",
              " 'de',\n",
              " 'cache,',\n",
              " 'sobre',\n",
              " 'os',\n",
              " 'quais',\n",
              " 'muitos',\n",
              " 'sistemas',\n",
              " 'de',\n",
              " 'reconhecimento',\n",
              " 'de',\n",
              " 'fala',\n",
              " 'agora',\n",
              " 'dependem,',\n",
              " 'são',\n",
              " 'exemplos',\n",
              " 'de',\n",
              " 'tais',\n",
              " 'modelos',\n",
              " 'estatísticos.',\n",
              " 'Esses',\n",
              " 'modelos',\n",
              " 'são',\n",
              " 'geralmente',\n",
              " 'mais',\n",
              " 'robustos',\n",
              " 'quando',\n",
              " 'dados',\n",
              " 'informações',\n",
              " 'desconhecidas,',\n",
              " 'especialmente',\n",
              " 'entrada',\n",
              " 'que',\n",
              " 'contém',\n",
              " 'erros',\n",
              " '(como',\n",
              " 'é',\n",
              " 'muito',\n",
              " 'comum',\n",
              " 'para',\n",
              " 'dados',\n",
              " 'do',\n",
              " 'mundo',\n",
              " 'real)',\n",
              " 'e',\n",
              " 'produzem',\n",
              " 'resultados',\n",
              " 'mais',\n",
              " 'confiáveis',\n",
              " 'quando',\n",
              " 'integrados',\n",
              " 'em',\n",
              " 'sistemas',\n",
              " 'maiores',\n",
              " 'que',\n",
              " 'compreendem',\n",
              " 'múltiplas',\n",
              " 'tarefas.',\n",
              " 'Muitos',\n",
              " 'dos',\n",
              " 'sucessos',\n",
              " 'iniciais',\n",
              " 'notáveis',\n",
              " 'ocorreram',\n",
              " 'no',\n",
              " 'campo',\n",
              " 'da',\n",
              " 'tradução',\n",
              " 'automática,',\n",
              " 'devido',\n",
              " 'especialmente',\n",
              " 'ao',\n",
              " 'trabalho',\n",
              " 'de',\n",
              " 'pesquisa',\n",
              " 'da',\n",
              " 'IBM,',\n",
              " 'que',\n",
              " 'desenvolveu',\n",
              " 'modelos',\n",
              " 'estatísticos',\n",
              " 'mais',\n",
              " 'elaborados.',\n",
              " 'Estes',\n",
              " 'sistemas',\n",
              " 'foram',\n",
              " 'capazes',\n",
              " 'de',\n",
              " 'tirar',\n",
              " 'proveito',\n",
              " 'de',\n",
              " 'corpora',\n",
              " 'textuais',\n",
              " 'multilíngues',\n",
              " 'existentes',\n",
              " 'produzidos',\n",
              " 'pelo',\n",
              " 'Parlamento',\n",
              " 'do',\n",
              " 'Canadá',\n",
              " 'e',\n",
              " 'a',\n",
              " 'União',\n",
              " 'Europeia',\n",
              " 'como',\n",
              " 'resultado',\n",
              " 'de',\n",
              " 'leis',\n",
              " 'que',\n",
              " 'exigem',\n",
              " 'a',\n",
              " 'tradução',\n",
              " 'de',\n",
              " 'todos',\n",
              " 'os',\n",
              " 'processos',\n",
              " 'governamentais',\n",
              " 'em',\n",
              " 'todas',\n",
              " 'as',\n",
              " 'línguas',\n",
              " 'oficiais',\n",
              " 'dos',\n",
              " 'países.',\n",
              " 'No',\n",
              " 'entanto,',\n",
              " 'a',\n",
              " 'maioria',\n",
              " 'dos',\n",
              " 'sistemas',\n",
              " 'dependia',\n",
              " 'de',\n",
              " 'corpora',\n",
              " 'desenvolvido',\n",
              " 'especificamente',\n",
              " 'para',\n",
              " 'tarefas',\n",
              " 'implementadas',\n",
              " 'por',\n",
              " 'esses',\n",
              " 'sistemas,',\n",
              " 'o',\n",
              " 'que',\n",
              " 'era',\n",
              " '(e',\n",
              " 'muitas',\n",
              " 'vezes',\n",
              " 'continua',\n",
              " 'sendo)',\n",
              " 'uma',\n",
              " 'grande',\n",
              " 'limitação',\n",
              " 'no',\n",
              " 'sucesso',\n",
              " 'dos',\n",
              " 'mesmo.',\n",
              " 'Como',\n",
              " 'resultado,',\n",
              " 'uma',\n",
              " 'grande',\n",
              " 'quantidade',\n",
              " 'de',\n",
              " 'pesquisa',\n",
              " 'passou',\n",
              " 'de',\n",
              " 'quantidades',\n",
              " 'de',\n",
              " 'dados',\n",
              " 'limitadas',\n",
              " 'a',\n",
              " 'métodos',\n",
              " 'de',\n",
              " 'aprendizagem',\n",
              " 'mais',\n",
              " 'eficazes.',\n",
              " 'Pesquisas',\n",
              " 'recentes',\n",
              " 'têm',\n",
              " 'se',\n",
              " 'concentrado',\n",
              " 'cada',\n",
              " 'vez',\n",
              " 'mais',\n",
              " 'em',\n",
              " 'algoritmos',\n",
              " 'de',\n",
              " 'aprendizagem',\n",
              " 'semi-supervisionados',\n",
              " 'e',\n",
              " 'sem',\n",
              " 'supervisão.',\n",
              " 'Esses',\n",
              " 'algoritmos',\n",
              " 'são',\n",
              " 'capazes',\n",
              " 'de',\n",
              " 'aprender',\n",
              " 'com',\n",
              " 'dados',\n",
              " 'que',\n",
              " 'não',\n",
              " 'foram',\n",
              " 'anotados',\n",
              " 'manualmente',\n",
              " 'com',\n",
              " 'as',\n",
              " 'respostas',\n",
              " 'desejadas',\n",
              " 'ou',\n",
              " 'usando',\n",
              " 'uma',\n",
              " 'combinação',\n",
              " 'de',\n",
              " 'dados',\n",
              " 'anotados',\n",
              " 'e',\n",
              " 'não',\n",
              " 'anotados.',\n",
              " 'Geralmente,',\n",
              " 'esta',\n",
              " 'tarefa',\n",
              " 'é',\n",
              " 'muito',\n",
              " 'mais',\n",
              " 'trabalhosa',\n",
              " 'do',\n",
              " 'que',\n",
              " 'a',\n",
              " 'aprendizagem',\n",
              " 'supervisionada',\n",
              " 'e',\n",
              " 'normalmente',\n",
              " 'produz',\n",
              " 'resultados',\n",
              " 'menos',\n",
              " 'precisos',\n",
              " 'para',\n",
              " 'uma',\n",
              " 'quantidade',\n",
              " 'específica',\n",
              " 'de',\n",
              " 'dados',\n",
              " 'de',\n",
              " 'entrada.',\n",
              " 'No',\n",
              " 'entanto,',\n",
              " 'há',\n",
              " 'uma',\n",
              " 'enorme',\n",
              " 'quantidade',\n",
              " 'de',\n",
              " 'dados',\n",
              " 'não',\n",
              " 'anotados',\n",
              " 'disponíveis',\n",
              " '(incluindo,',\n",
              " 'entre',\n",
              " 'outras',\n",
              " 'coisas,',\n",
              " 'todo',\n",
              " 'o',\n",
              " 'conteúdo',\n",
              " 'da',\n",
              " 'World',\n",
              " 'Wide',\n",
              " 'Web),',\n",
              " 'que',\n",
              " 'muitas',\n",
              " 'vezes',\n",
              " 'pode',\n",
              " 'compensar',\n",
              " 'os',\n",
              " 'resultados',\n",
              " 'inferiores.',\n",
              " '==',\n",
              " 'Usando',\n",
              " 'a',\n",
              " 'aprendizagem',\n",
              " 'automática',\n",
              " '(aprendizado',\n",
              " 'de',\n",
              " 'máquina)',\n",
              " '==',\n",
              " 'Os',\n",
              " 'algoritmos',\n",
              " 'modernos',\n",
              " 'de',\n",
              " 'PLN',\n",
              " 'baseiam-se',\n",
              " 'na',\n",
              " 'aprendizagem',\n",
              " 'mecânica,',\n",
              " 'especialmente',\n",
              " 'na',\n",
              " 'aprendizagem',\n",
              " 'de',\n",
              " 'máquinas',\n",
              " 'estatísticas.',\n",
              " 'O',\n",
              " 'paradigma',\n",
              " 'da',\n",
              " 'aprendizagem',\n",
              " 'mecânica',\n",
              " 'é',\n",
              " 'diferente',\n",
              " 'do',\n",
              " 'da',\n",
              " 'maioria',\n",
              " 'das',\n",
              " 'tentativas',\n",
              " 'anteriores',\n",
              " 'de',\n",
              " 'processamento',\n",
              " 'da',\n",
              " 'linguagem.',\n",
              " 'Anteriormente,',\n",
              " 'implementações',\n",
              " 'de',\n",
              " 'tarefas',\n",
              " 'de',\n",
              " 'processamento',\n",
              " 'de',\n",
              " 'linguagem',\n",
              " 'envolviam',\n",
              " 'a',\n",
              " 'codificação',\n",
              " 'direta',\n",
              " 'de',\n",
              " 'grandes',\n",
              " 'conjuntos',\n",
              " 'de',\n",
              " 'regras.',\n",
              " 'O',\n",
              " 'paradigma',\n",
              " 'da',\n",
              " 'aprendizagem',\n",
              " 'automática',\n",
              " '(ou',\n",
              " 'aprendizagem',\n",
              " 'automática)',\n",
              " 'induz',\n",
              " 'a',\n",
              " 'aprendizagem',\n",
              " 'automática',\n",
              " 'de',\n",
              " 'regras',\n",
              " 'através',\n",
              " 'de',\n",
              " 'análises',\n",
              " 'de',\n",
              " 'corpora',\n",
              " 'de',\n",
              " 'exemplos',\n",
              " 'típicos',\n",
              " 'do',\n",
              " 'mundo',\n",
              " 'real',\n",
              " 'ao',\n",
              " 'invés',\n",
              " 'de',\n",
              " 'usar',\n",
              " 'algoritmos',\n",
              " 'gerais',\n",
              " 'de',\n",
              " 'aprendizagem',\n",
              " '(muitas',\n",
              " 'vezes,',\n",
              " 'embora',\n",
              " 'nem',\n",
              " 'sempre,',\n",
              " 'baseados',\n",
              " 'em',\n",
              " 'inferência',\n",
              " 'estatística).',\n",
              " 'Um',\n",
              " 'corpus',\n",
              " '(plural',\n",
              " '\"corpora\")',\n",
              " 'é',\n",
              " 'um',\n",
              " 'conjunto',\n",
              " 'de',\n",
              " 'documentos',\n",
              " '(ou',\n",
              " 'frases',\n",
              " 'individuais)',\n",
              " 'que',\n",
              " 'foram',\n",
              " 'anotados',\n",
              " 'à',\n",
              " 'mão',\n",
              " 'com',\n",
              " 'os',\n",
              " 'valores',\n",
              " 'corretos',\n",
              " 'a',\n",
              " 'serem',\n",
              " 'aprendidos.',\n",
              " 'Muitas',\n",
              " 'classes',\n",
              " 'diferentes',\n",
              " 'de',\n",
              " 'algoritmos',\n",
              " 'de',\n",
              " 'aprendizado',\n",
              " 'de',\n",
              " 'máquina',\n",
              " 'foram',\n",
              " 'aplicadas',\n",
              " 'a',\n",
              " 'tarefas',\n",
              " 'de',\n",
              " 'PLN.',\n",
              " 'Esses',\n",
              " 'algoritmos',\n",
              " 'tomam',\n",
              " 'como',\n",
              " 'entrada',\n",
              " 'um',\n",
              " 'grande',\n",
              " 'conjunto',\n",
              " 'de',\n",
              " '\"recursos\"',\n",
              " 'que',\n",
              " 'são',\n",
              " 'gerados',\n",
              " 'a',\n",
              " 'partir',\n",
              " 'de',\n",
              " 'dados',\n",
              " 'de',\n",
              " 'entrada.',\n",
              " ...]"
            ]
          },
          "metadata": {},
          "execution_count": 206
        }
      ]
    },
    {
      "cell_type": "code",
      "metadata": {
        "id": "X-bVBlsfy8ko",
        "colab": {
          "base_uri": "https://localhost:8080/"
        },
        "outputId": "608798d7-4e1e-4a6c-d640-360043c70034"
      },
      "source": [
        "#problema do split é que ele não separa as pontuações.\n",
        "print(len(tokens_split))\n",
        "print(tokens_split)"
      ],
      "execution_count": null,
      "outputs": [
        {
          "output_type": "stream",
          "name": "stdout",
          "text": [
            "4182\n",
            "['Processamento', 'de', 'língua', 'natural', '(PLN)', 'é', 'uma', 'subárea', 'da', 'ciência', 'da', 'computação,', 'inteligência', 'artificial', 'e', 'da', 'linguística', 'que', 'estuda', 'os', 'problemas', 'da', 'geração', 'e', 'compreensão', 'automática', 'de', 'línguas', 'humanas', 'naturais.', 'Sistemas', 'de', 'geração', 'de', 'língua', 'natural', 'convertem', 'informação', 'de', 'bancos', 'de', 'dados', 'de', 'computadores', 'em', 'linguagem', 'compreensível', 'ao', 'ser', 'humano', 'e', 'sistemas', 'de', 'compreensão', 'de', 'língua', 'natural', 'convertem', 'ocorrências', 'de', 'linguagem', 'humana', 'em', 'representações', 'mais', 'formais,', 'mais', 'facilmente', 'manipuláveis', 'por', 'programas', 'de', 'computador.', 'Alguns', 'desafios', 'do', 'PLN', 'são', 'compreensão', 'de', 'língua', 'natural,', 'fazer', 'com', 'que', 'computadores', 'extraiam', 'sentido', 'de', 'linguagem', 'humana', 'ou', 'natural', 'e', 'geração', 'de', 'língua', 'natural.', '==', 'História', '==', 'A', 'história', 'do', 'PLN', 'começou', 'na', 'década', 'de', '1950,', 'quando', 'Alan', 'Turing', 'publicou', 'o', 'artigo', '\"Computing', 'Machinery', 'and', 'Intelligence\",', 'que', 'propunha', 'o', 'que', 'agora', 'é', 'chamado', 'de', 'teste', 'de', 'Turing', 'como', 'critério', 'de', 'inteligência.', 'Em', '1954,', 'a', 'experiência', 'de', 'Georgetown', 'envolveu', 'a', 'tradução', 'automática', 'de', 'mais', 'de', 'sessenta', 'frases', 'russas', 'para', 'o', 'inglês.', 'Os', 'autores', 'afirmaram', 'que', 'dentro', 'de', 'três', 'ou', 'cinco', 'anos', 'a', 'tradução', 'automática', 'seria', 'um', 'problema', 'resolvido.', 'No', 'entanto,', 'os', 'avanços', 'reais', 'foram', 'muito', 'mais', 'lentos', 'do', 'que', 'o', 'previsto', 'e,', 'após', 'o', 'relatório', 'ALPAC', 'em', '1966,', 'que', 'constatou', 'que', 'a', 'pesquisa', 'de', 'dez', 'anos', 'não', 'conseguiu', 'satisfazer', 'as', 'expectativas,', 'o', 'financiamento', 'para', 'este', 'estudo', 'em', 'tradução', 'automática', 'foi', 'reduzido', 'drasticamente.', 'Poucas', 'pesquisas', 'em', 'tradução', 'automática', 'foram', 'conduzidas', 'até', 'o', 'final', 'dos', 'anos', '80,', 'quando', 'os', 'primeiros', 'sistemas', 'estatísticos', 'de', 'tradução', 'foram', 'desenvolvidos.', 'Alguns', 'sistemas', 'de', 'PLN', 'bem', 'sucedidos', 'desenvolvidos', 'nos', 'anos', '60', 'foram', 'SHRDLU,', 'um', 'sistema', 'de', 'língua', 'natural', 'que', 'trabalhava', 'em', '\"blocks', 'worlds\"', 'com', 'vocabulário', 'restrito', 'e', 'ELIZA,', 'uma', 'simulação', 'de', 'um', 'psicoterapeuta', 'escrita', 'por', 'Joseph', 'Weizenbaum', 'entre', '1964', 'e', '1966.', 'Usando', 'pouca', 'informação', 'sobre', 'o', 'pensamento', 'ou', 'a', 'emoção', 'humana,', 'ELIZA', 'criava,', 'em', 'alguns', 'casos,', 'interações', 'surpreendentemente', 'humanas.', 'Quando', 'o', '\"paciente\"', 'excedia', 'a', 'base', 'de', 'conhecimento', 'do', 'programa,', 'ELIZA', 'fornecia', 'uma', 'resposta', 'genérica,', 'por', 'exemplo,', 'respondendo', 'a', '\"Minha', 'cabeça', 'dói\"', 'com', '\"Por', 'que', 'você', 'diz', 'que', 'sua', 'cabeça', 'dói?\".', 'Durante', 'a', 'década', 'de', '1970,', 'muitos', 'programadores', 'começaram', 'a', 'escrever', '\"ontologias', 'conceituais\",', 'que', 'estruturaram', 'a', 'informação', 'do', 'mundo', 'real', 'em', 'dados', 'compreensíveis', 'por', 'computadores.', 'Exemplos', 'são', 'MARGIE', '(SCHANK,', '1975),', 'SAM', '(CULLINGFORD,', '1978),', 'PAM', '(WILENSKY,', '1978),', 'TaleSpin', '(MEEHAN,', '1976),', 'QUALM', '(LEHNERT,', '1977),', 'Politics', '(CARBONELL,', '1979)', 'e', 'Plot', 'Units', '(LEHNERT,', '1981', ').', 'Neste', 'período,', 'muitos', 'chatterbots', 'foram', 'escritos,', 'como', 'PARRY,', 'Racter', 'e', 'Jabberwacky.', 'Até', 'a', 'década', 'de', '1980,', 'a', 'maioria', 'dos', 'sistemas', 'de', 'PLN', 'se', 'baseava', 'em', 'conjuntos', 'complexos', 'de', 'regras', 'manuscritas.', 'A', 'partir', 'do', 'final', 'dos', 'anos', '1980,', 'no', 'entanto,', 'houve', 'uma', 'revolução', 'no', 'PLN', 'com', 'a', 'introdução', 'de', 'algoritmos', 'de', 'aprendizagem', 'automática', '(aprendizado', 'de', 'máquina)', 'para', 'o', 'processamento', 'de', 'linguagem.', 'Isto', 'foi', 'devido', 'tanto', 'ao', 'aumento', 'constante', 'do', 'poder', 'computacional', '(ver', 'Lei', 'de', 'Moore)', 'quanto', 'à', 'diminuição', 'gradual', 'da', 'dominância', 'das', 'teorias', 'da', 'linguística', 'chomskyanas', '(como', 'a', 'gramática', 'gerativa),', 'cujos', 'fundamentos', 'teóricos', 'desestimularam', 'o', 'tipo', 'de', 'corpus', 'linguístico', 'que', 'está', 'subjacente', 'à', 'abordagem', 'da', 'aprendizagem', 'automática', 'ao', 'processamento', 'da', 'linguagem.', 'Alguns', 'dos', 'algoritmos', 'de', 'aprendizado', 'de', 'máquinas', 'mais', 'antigos,', 'como', 'as', 'árvores', 'de', 'decisão,', 'produziam', 'sistemas', 'de', 'regras', 'rígidas', 'então', 'semelhantes', 'às', 'regras', 'existentes', 'na', 'escritas', 'à', 'mão.', 'No', 'entanto,', 'a', 'marcação', 'de', 'partes', 'da', 'fala', '(part-of-speech', 'tagging)', 'introduziu', 'o', 'uso', 'de', 'modelos', 'ocultos', 'de', 'Markov', 'para', 'o', 'PLN', 'e,', 'cada', 'vez', 'mais,', 'a', 'pesquisa', 'se', 'concentrava', 'em', 'modelos', 'estatísticos,', 'que', 'tomam', 'decisões', 'suaves', 'e', 'probabilísticas', 'baseadas', 'na', 'atribuição', 'de', 'pesos', 'reais', 'aos', 'recursos', 'que', 'compõem', 'dados', 'de', 'entrada.', 'Os', 'modelos', 'de', 'linguagem', 'de', 'cache,', 'sobre', 'os', 'quais', 'muitos', 'sistemas', 'de', 'reconhecimento', 'de', 'fala', 'agora', 'dependem,', 'são', 'exemplos', 'de', 'tais', 'modelos', 'estatísticos.', 'Esses', 'modelos', 'são', 'geralmente', 'mais', 'robustos', 'quando', 'dados', 'informações', 'desconhecidas,', 'especialmente', 'entrada', 'que', 'contém', 'erros', '(como', 'é', 'muito', 'comum', 'para', 'dados', 'do', 'mundo', 'real)', 'e', 'produzem', 'resultados', 'mais', 'confiáveis', 'quando', 'integrados', 'em', 'sistemas', 'maiores', 'que', 'compreendem', 'múltiplas', 'tarefas.', 'Muitos', 'dos', 'sucessos', 'iniciais', 'notáveis', 'ocorreram', 'no', 'campo', 'da', 'tradução', 'automática,', 'devido', 'especialmente', 'ao', 'trabalho', 'de', 'pesquisa', 'da', 'IBM,', 'que', 'desenvolveu', 'modelos', 'estatísticos', 'mais', 'elaborados.', 'Estes', 'sistemas', 'foram', 'capazes', 'de', 'tirar', 'proveito', 'de', 'corpora', 'textuais', 'multilíngues', 'existentes', 'produzidos', 'pelo', 'Parlamento', 'do', 'Canadá', 'e', 'a', 'União', 'Europeia', 'como', 'resultado', 'de', 'leis', 'que', 'exigem', 'a', 'tradução', 'de', 'todos', 'os', 'processos', 'governamentais', 'em', 'todas', 'as', 'línguas', 'oficiais', 'dos', 'países.', 'No', 'entanto,', 'a', 'maioria', 'dos', 'sistemas', 'dependia', 'de', 'corpora', 'desenvolvido', 'especificamente', 'para', 'tarefas', 'implementadas', 'por', 'esses', 'sistemas,', 'o', 'que', 'era', '(e', 'muitas', 'vezes', 'continua', 'sendo)', 'uma', 'grande', 'limitação', 'no', 'sucesso', 'dos', 'mesmo.', 'Como', 'resultado,', 'uma', 'grande', 'quantidade', 'de', 'pesquisa', 'passou', 'de', 'quantidades', 'de', 'dados', 'limitadas', 'a', 'métodos', 'de', 'aprendizagem', 'mais', 'eficazes.', 'Pesquisas', 'recentes', 'têm', 'se', 'concentrado', 'cada', 'vez', 'mais', 'em', 'algoritmos', 'de', 'aprendizagem', 'semi-supervisionados', 'e', 'sem', 'supervisão.', 'Esses', 'algoritmos', 'são', 'capazes', 'de', 'aprender', 'com', 'dados', 'que', 'não', 'foram', 'anotados', 'manualmente', 'com', 'as', 'respostas', 'desejadas', 'ou', 'usando', 'uma', 'combinação', 'de', 'dados', 'anotados', 'e', 'não', 'anotados.', 'Geralmente,', 'esta', 'tarefa', 'é', 'muito', 'mais', 'trabalhosa', 'do', 'que', 'a', 'aprendizagem', 'supervisionada', 'e', 'normalmente', 'produz', 'resultados', 'menos', 'precisos', 'para', 'uma', 'quantidade', 'específica', 'de', 'dados', 'de', 'entrada.', 'No', 'entanto,', 'há', 'uma', 'enorme', 'quantidade', 'de', 'dados', 'não', 'anotados', 'disponíveis', '(incluindo,', 'entre', 'outras', 'coisas,', 'todo', 'o', 'conteúdo', 'da', 'World', 'Wide', 'Web),', 'que', 'muitas', 'vezes', 'pode', 'compensar', 'os', 'resultados', 'inferiores.', '==', 'Usando', 'a', 'aprendizagem', 'automática', '(aprendizado', 'de', 'máquina)', '==', 'Os', 'algoritmos', 'modernos', 'de', 'PLN', 'baseiam-se', 'na', 'aprendizagem', 'mecânica,', 'especialmente', 'na', 'aprendizagem', 'de', 'máquinas', 'estatísticas.', 'O', 'paradigma', 'da', 'aprendizagem', 'mecânica', 'é', 'diferente', 'do', 'da', 'maioria', 'das', 'tentativas', 'anteriores', 'de', 'processamento', 'da', 'linguagem.', 'Anteriormente,', 'implementações', 'de', 'tarefas', 'de', 'processamento', 'de', 'linguagem', 'envolviam', 'a', 'codificação', 'direta', 'de', 'grandes', 'conjuntos', 'de', 'regras.', 'O', 'paradigma', 'da', 'aprendizagem', 'automática', '(ou', 'aprendizagem', 'automática)', 'induz', 'a', 'aprendizagem', 'automática', 'de', 'regras', 'através', 'de', 'análises', 'de', 'corpora', 'de', 'exemplos', 'típicos', 'do', 'mundo', 'real', 'ao', 'invés', 'de', 'usar', 'algoritmos', 'gerais', 'de', 'aprendizagem', '(muitas', 'vezes,', 'embora', 'nem', 'sempre,', 'baseados', 'em', 'inferência', 'estatística).', 'Um', 'corpus', '(plural', '\"corpora\")', 'é', 'um', 'conjunto', 'de', 'documentos', '(ou', 'frases', 'individuais)', 'que', 'foram', 'anotados', 'à', 'mão', 'com', 'os', 'valores', 'corretos', 'a', 'serem', 'aprendidos.', 'Muitas', 'classes', 'diferentes', 'de', 'algoritmos', 'de', 'aprendizado', 'de', 'máquina', 'foram', 'aplicadas', 'a', 'tarefas', 'de', 'PLN.', 'Esses', 'algoritmos', 'tomam', 'como', 'entrada', 'um', 'grande', 'conjunto', 'de', '\"recursos\"', 'que', 'são', 'gerados', 'a', 'partir', 'de', 'dados', 'de', 'entrada.', 'Alguns', 'dos', 'algoritmos', 'mais', 'usados,', 'como', 'árvores', 'de', 'decisão,', 'produziam', 'sistemas', 'de', 'regras', 'rígidas', 'semelhantes', 'aos', 'sistemas', 'de', 'regras', 'manuscritas', 'mais', 'comuns.', 'No', 'entanto,', 'cada', 'vez', 'mais,', 'a', 'pesquisa', 'tem', 'se', 'concentrado', 'em', 'modelos', 'estatísticos,', 'que', 'tomam', 'decisões', 'flexíveis', 'e', 'probabilísticas', 'baseadas', 'em', 'agregar', 'pesos', 'reais', 'a', 'cada', 'característica', 'de', 'entrada.', 'Tais', 'modelos', 'têm', 'a', 'vantagem', 'de', 'poder', 'expressar', 'a', 'certeza', 'relativa', 'de', 'muitas', 'respostas', 'possíveis', 'diferentes', 'em', 'vez', 'de', 'apenas', 'uma,', 'produzindo', 'resultados', 'mais', 'confiáveis', 'quando', 'esse', 'modelo', 'é', 'incluído', 'como', 'um', 'componente', 'de', 'um', 'sistema', 'maior.', 'Os', 'sistemas', 'baseados', 'em', 'algoritmos', 'de', 'aprendizagem', 'mecânica', 'têm', 'muitas', 'vantagens', 'em', 'relação', 'às', 'regras', 'produzidas', 'manualmente:', 'Os', 'procedimentos', 'de', 'aprendizagem', 'usados', 'durante', 'a', 'aprendizagem', 'da', 'máquina', 'focam-se', 'automaticamente', 'nos', 'casos', 'mais', 'comuns,', 'ao', 'passo', 'que', 'quando', 'se', 'escrevem', 'regras', 'à', 'mão,', 'não', 'é', 'óbvio', 'em', 'que', 'sentido', 'o', 'esforço', 'deve', 'ser', 'dirigido.', 'Os', 'procedimentos', 'de', 'aprendizagem', 'automática', 'podem', 'fazer', 'uso', 'de', 'algoritmos', 'de', 'inferência', 'estatística', 'para', 'produzir', 'modelos', 'que', 'são', 'robustos', 'a', 'entradas', 'não', 'familiares', '(por', 'exemplo,', 'contendo', 'palavras', 'ou', 'estruturas', 'que', 'não', 'foram', 'vistas', 'antes)', 'e', 'a', 'entradas', 'errôneas', '(por', 'exemplo,', 'com', 'palavras', 'ou', 'palavras', 'incorretamente', 'omitidas).', 'Geralmente,', 'lidar', 'com', 'essas', 'entradas', 'de', 'forma', 'com', 'regras', 'manuscritas', 'ou', 'sistemas', 'de', 'regras', 'manuscritas', 'que', 'tomam', 'decisões', 'suaves', 'é', 'extremamente', 'trabalhoso,', 'propenso', 'a', 'erros', 'e', 'demorado.', 'Sistemas', 'baseados', 'em', 'aprender', 'automaticamente', 'as', 'regras', 'podem', 'ser', 'mais', 'precisos', 'simplesmente', 'fornecendo', 'mais', 'dados', 'de', 'entrada.', 'No', 'entanto,', 'os', 'sistemas', 'baseados', 'em', 'regras', 'escritas', 'à', 'mão', 'só', 'podem', 'ser', 'tornados', 'mais', 'precisos', 'aumentando', 'a', 'complexidade', 'das', 'regras,', 'o', 'que', 'é', 'uma', 'tarefa', 'muito', 'mais', 'difícil.', 'Em', 'particular,', 'há', 'um', 'limite', 'para', 'a', 'complexidade', 'de', 'sistemas', 'baseados', 'em', 'regras', 'artesanais,', 'para', 'além', 'dos', 'quais', 'os', 'sistemas', 'se', 'tornam', 'cada', 'vez', 'mais', 'incontroláveis.', 'No', 'entanto,', 'a', 'criação', 'de', 'mais', 'dados', 'para', 'entrada', 'em', 'sistemas', 'de', 'aprendizado', 'de', 'máquina', 'requer', 'simplesmente', 'um', 'aumento', 'correspondente', 'no', 'número', 'de', 'horas', 'trabalhadas', 'por', 'humanos,', 'geralmente', 'sem', 'aumentos', 'significativos', 'na', 'complexidade', 'do', 'processo', 'de', 'anotação.O', 'subcampo', 'de', 'PLN', 'dedicado', 'a', 'abordagens', 'de', 'aprendizagem', 'é', 'conhecido', 'como', 'aprendizagem', 'de', 'língua', 'natural', '(NLL)', 'e', 'sua', 'conferência,', 'a', 'CoNLL,', 'e', 'orgão', 'central,', 'o', 'SIGNLL,', 'são', 'patrocinados', 'pela', 'ACL,', 'reconhecendo', 'também', 'as', 'suas', 'ligações', 'com', 'linguística', 'computacional', 'e', 'aquisição', 'de', 'linguagem.', 'Quando', 'o', 'objetivo', 'da', 'pesquisa', 'de', 'aprendizagem', 'de', 'linguagem', 'computacional', 'é', 'entender', 'mais', 'sobre', 'aquisição', 'de', 'linguagem', 'humana,', 'ou', 'psicolinguística,', 'a', 'NLL', 'sobrepõe-se', 'no', 'campo', 'relacionado', 'de', 'psicolinguística', 'computacional.', '==', 'Aplicações', 'principais', '==', 'A', 'listagem', 'a', 'seguir', 'traz', 'alguns', 'dos', 'trabalhos', 'mais', 'pesquisadas', 'em', 'PLN.', 'Note', 'que', 'alguns', 'deles', 'têm', 'aplicações', 'no', 'mundo', 'real,', 'enquanto', 'outras', 'servem', 'mais', 'frequentemente', 'como', 'tarefas', 'secundárias', 'que', 'são', 'usadas', 'para', 'auxiliar', 'na', 'resolução', 'de', 'tarefas', 'maiores.', 'O', 'que', 'distingue', 'essas', 'tarefas', 'de', 'outras', 'tarefas', 'potenciais', 'e', 'reais', 'de', 'PLN', 'não', 'é', 'apenas', 'o', 'volume', 'de', 'pesquisa', 'dedicado', 'a', 'elas,', 'mas', 'o', 'fato', 'de', 'que', 'para', 'cada', 'uma', 'há', 'tipicamente', 'uma', 'definição', 'de', 'problema', 'bem', 'especificada,', 'uma', 'métrica', 'padrão', 'para', 'avaliar', 'a', 'tarefa,', 'corpora', 'padrão', 'em', 'que', 'a', 'tarefa', 'pode', 'ser', 'avaliada', 'e', 'as', 'competições', 'dedicadas', 'à', 'tarefa', 'específica.', 'Sumarização', 'automática', 'Produz', 'um', 'resumo', 'legível', 'de', 'uma', 'parte', 'do', 'texto.', 'Muitas', 'vezes', 'usado', 'para', 'fornecer', 'resumos', 'de', 'texto', 'de', 'um', 'tipo', 'conhecido,', 'como', 'artigos', 'na', 'seção', 'financeira', 'de', 'um', 'jornal.Resolução', 'de', 'correferência', 'Dada', 'uma', 'frase', 'ou', 'um', 'pedaço', 'maior', 'de', 'texto,', 'determina', 'quais', 'palavras', '(\"menções\")', 'se', 'referem', 'aos', 'mesmos', 'objetos', '(\"entidades\").', 'A', 'resolução', 'da', 'anáfora', 'é', 'um', 'exemplo', 'específico', 'dessa', 'tarefa', 'e', 'está', 'especificamente', 'preocupada', 'em', 'combinar', 'os', 'pronomes', 'com', 'os', 'substantivos', 'ou', 'nomes', 'aos', 'quais', 'eles', 'se', 'referem.', 'A', 'tarefa', 'mais', 'geral', 'da', 'resolução', 'de', 'correferência', 'também', 'inclui', 'a', 'identificação', 'dos', 'chamados', '\"relacionamentos', 'de', 'ponte\"', 'envolvendo', 'expressões', 'de', 'referência.', 'Por', 'exemplo,', 'numa', 'frase', 'como', '\"Ele', 'entrou', 'na', 'casa', 'de', 'João', 'pela', 'porta', 'da', 'frente\",', '\"a', 'porta', 'da', 'frente\"', 'é', 'uma', 'expressão', 'de', 'referência', 'e', 'a', 'relação', 'da', 'ponte', 'a', 'ser', 'identificada', 'é', 'o', 'fato', 'de', 'que', 'a', 'porta', 'a', 'ser', 'referida', 'é', 'a', 'porta', 'da', 'frente', 'de', \"John's\", '(ao', 'invés', 'de', 'alguma', 'outra', 'estrutura', 'que', 'também', 'pode', 'ser', 'referida).Análise', 'do', 'Discurso', 'Esta', 'rubrica', 'inclui', 'uma', 'série', 'de', 'tarefas', 'relacionadas.', 'Uma', 'tarefa', 'é', 'identificar', 'a', 'estrutura', 'discursiva', 'do', 'texto', 'conectado,', 'isto', 'é,', 'a', 'natureza', 'das', 'relações', 'discursivas', 'entre', 'sentenças', '(por', 'exemplo,', 'elaboração,', 'explicação,', 'contraste).', 'Outra', 'possível', 'tarefa', 'é', 'reconhecer', 'e', 'classificar', 'os', 'atos', 'de', 'fala', 'em', 'um', 'pedaço', 'de', 'texto', '(por', 'exemplo,', 'pergunta', 'sim-não,', 'pergunta', 'de', 'conteúdo,', 'frase,', 'afirmação,', 'etc).Maquina', 'de', 'tradução', 'Traduzir', 'automaticamente', 'texto', 'de', 'uma', 'linguagem', 'humana', 'para', 'outra.', 'Este', 'é', 'uma', 'das', 'tarefas', 'mais', 'difíceis', 'e', 'faz', 'parte', 'de', 'um', 'tipo', 'de', 'problemas', 'conhecidos', 'como', '\"AI-complete\",', 'ou', 'seja,', 'exigindo', 'todos', 'os', 'diferentes', 'tipos', 'de', 'conhecimento', 'que', 'os', 'humanos', 'possuem', '(gramática,', 'semântica,', 'fatos', 'sobre', 'o', 'mundo', 'real,', 'etc)', 'para', 'resolvê-lo', 'adequadamente.Segmentação', 'morfológica', 'Separa', 'palavras', 'em', 'morfemas', 'individuais', 'e', 'identifica', 'classes', 'de', 'morfemas.', 'A', 'dificuldade', 'desta', 'tarefa', 'depende', 'muito', 'da', 'complexidade', 'da', 'morfologia', '(isto', 'é,', 'da', 'estrutura', 'das', 'palavras)', 'da', 'linguagem', 'que', 'está', 'sendo', 'considerada.', 'O', 'inglês', 'possui', 'uma', 'morfologia', 'bastante', 'simples,', 'especialmente', 'a', 'morfologia', 'flexional,', 'e', 'portanto', 'é', 'possível', 'ignorar', 'esta', 'tarefa', 'inteiramente', 'e', 'simplesmente', 'modelar', 'todas', 'as', 'formas', 'possíveis', 'de', 'uma', 'palavra', '(por', 'exemplo,', '\"open,', 'opens,', 'opened,', 'opening\")', 'como', 'palavras', 'separadas.', 'Em', 'línguas', 'como', 'o', 'turco', 'ou', 'o', 'Meitei,', 'uma', 'língua', 'indiana', 'fortemente', 'aglutinada,', 'no', 'entanto,', 'tal', 'abordagem', 'não', 'é', 'possível,', 'uma', 'vez', 'que', 'cada', 'entrada', 'do', 'dicionário', 'tem', 'milhares', 'de', 'formas', 'de', 'palavras', 'possíveis.Reconhecimento', 'de', 'entidade', 'nomeada', '(NER)', 'Dado', 'um', 'fluxo', 'de', 'texto,', 'determina', 'quais', 'são', 'itens', 'no', 'mapa', 'de', 'texto', 'para', 'nomes', 'próprios,', 'como', 'pessoas', 'ou', 'locais', 'e', 'qual', 'é', 'o', 'tipo', 'de', 'cada', 'nome', '(por', 'exemplo,', 'pessoa,', 'local,', 'organização).', 'Embora', 'a', 'capitalização', 'possa', 'ajudar', 'a', 'reconhecer', 'entidades', 'nomeadas', 'em', 'idiomas', 'como', 'o', 'inglês,', 'essas', 'informações', 'podem', 'não', 'ajudar', 'a', 'determinar', 'o', 'tipo', 'de', 'entidade', 'nomeada', 'e,', 'em', 'alguns', 'casos,', 'sãos', 'imprecisas', 'ou', 'insuficientes.', 'Por', 'exemplo,', 'a', 'primeira', 'palavra', 'de', 'uma', 'frase', 'também', 'é', 'capitalizada', 'e', 'as', 'entidades', 'nomeadas', 'muitas', 'vezes', 'abrangem', 'várias', 'palavras,', 'com', 'apenas', 'algumas', 'delas', 'são', 'capitalizadas.', 'Além', 'disso,', 'muitas', 'outras', 'linguagens', 'em', 'scripts', 'não-ocidentais', '(por', 'exemplo,', 'chinês', 'ou', 'árabe)', 'não', 'têm', 'nenhuma', 'capitalização', 'e', 'mesmo', 'as', 'línguas', 'com', 'maiúsculas', 'podem', 'não', 'distinguir', 'nomes.', 'Por', 'exemplo,', 'o', 'alemão', 'capitaliza', 'todos', 'os', 'substantivos,', 'independentemente', 'de', 'se', 'referirem', 'a', 'nomes,', 'e', 'o', 'francês', 'e', 'o', 'espanhol', 'não', 'capitalizam', 'nomes', 'que', 'servem', 'como', 'adjetivos.Geração', 'de', 'língua', 'natural', 'Converte', 'informações', 'de', 'bancos', 'de', 'dados', 'de', 'computador', 'ou', 'intenções', 'semânticas', 'em', 'linguagem', 'humana', 'legível.Compreensão', 'da', 'língua', 'natural', 'Converte', 'pedaços', 'de', 'texto', 'em', 'representações', 'mais', 'formais,', 'como', 'estruturas', 'de', 'lógica', 'de', 'primeira', 'ordem,', 'que', 'são', 'mais', 'fáceis', 'de', 'manipular', 'pelos', 'programas', 'de', 'computador.', 'A', 'compreensão', 'da', 'língua', 'natural', 'envolve', 'a', 'identificação', 'da', 'semântica', 'pretendida', 'a', 'partir', 'da', 'múltipla', 'semântica', 'possível', 'que', 'pode', 'ser', 'derivada', 'de', 'uma', 'expressão', 'de', 'língua', 'natural', 'que', 'geralmente', 'toma', 'a', 'forma', 'de', 'notação', 'organizada', 'de', 'conceitos', 'de', 'linguagens', 'naturais.', 'Entretanto,', 'introdução', 'e', 'criação', 'de', 'linguagem', 'metamodelo', 'e', 'ontologia', 'são', 'eficientes', 'soluções', 'empíricas.', 'Uma', 'formalização', 'explícita', 'da', 'semântica', 'de', 'línguas', 'naturais', 'sem', 'confusões', 'com', 'suposições', 'implícitas', 'como', 'closed-world', 'assumption', '(CWA)', 'versus', 'open-world', 'assumption', 'ou', 'subjetiva', 'Sim', '/', 'Não', 'versus', 'objetivo', 'Verdadeiro', '/', 'Falso', 'é', 'esperada', 'para', 'a', 'construção', 'de', 'uma', 'base', 'de', 'formalização', 'semântica.Reconhecimento', 'óptico', 'de', 'caracteres', '(OCR)', 'Dada', 'uma', 'imagem', 'que', 'representa', 'o', 'texto', 'impresso,', 'determina', 'o', 'texto', 'correspondente.Marcação', 'de', 'classe', 'gramatical', 'Dada', 'uma', 'sentença,', 'determina', 'a', 'classe', 'gramatical', 'de', 'cada', 'palavra.', 'Muitas', 'palavras,', 'especialmente', 'as', 'comuns,', 'podem', 'servir', 'como', 'múltiplas', 'partes', 'do', 'discurso.', 'Em', 'inglês,', 'por', 'exemplo,', '\"book\"', 'pode', 'ser', 'um', 'substantivo', '(\"the', 'book', 'on', 'the', 'table\")', 'ou', 'verbo', '(\"book', 'a', 'flight\");', '\"Set\"', 'pode', 'ser', 'um', 'substantivo,', 'verbo', 'ou', 'adjetivo;', 'E', '\"out\"', 'pode', 'ser', 'qualquer', 'um', 'de', 'pelo', 'menos', 'cinco', 'diferentes', 'partes', 'da', 'fala.', 'Algumas', 'línguas', 'têm', 'mais', 'ambiguidade', 'do', 'que', 'outras.', 'As', 'línguas', 'com', 'pouca', 'morfologia', 'flexional,', 'como', 'o', 'inglês,', 'são', 'particularmente', 'propensas', 'a', 'tal', 'ambiguidade.', 'O', 'chinês', 'é', 'propenso', 'a', 'tal', 'ambiguidade', 'porque', 'é', 'uma', 'língua', 'tonal', 'durante', 'a', 'verbalização.', 'Tal', 'inflexão', 'não', 'é', 'facilmente', 'transmitida', 'através', 'das', 'entidades', 'empregadas', 'dentro', 'da', 'ortografia', 'para', 'transmitir', 'o', 'significado', 'pretendido.Análise', 'sintática', '(Parsing)', 'Determina', 'a', 'árvore', 'de', 'análise', '(análise', 'gramatical)', 'de', 'uma', 'frase.', 'A', 'gramática', 'para', 'as', 'linguagens', 'naturais', 'é', 'ambígua', 'e', 'frases', 'típicas', 'têm', 'múltiplas', 'análises', 'possíveis.', 'Na', 'verdade,', 'surpreendentemente,', 'para', 'uma', 'frase', 'típica', 'pode', 'haver', 'milhares', 'de', 'análises', 'em', 'potencial', '(a', 'maioria', 'dos', 'quais', 'parecerá', 'completamente', 'absurda', 'para', 'um', 'ser', 'humano).Respostas', 'a', 'perguntas', 'Dada', 'uma', 'questão', 'de', 'linguagem', 'humana,', 'determina', 'sua', 'resposta.', 'As', 'perguntas', 'típicas', 'têm', 'uma', 'resposta', 'correta', 'específica', '(como', '\"Qual', 'é', 'o', 'capital', 'do', 'Canadá?\"),', 'mas', 'às', 'vezes', 'perguntas', 'abertas', 'também', 'são', 'consideradas', '(como', '\"Qual', 'é', 'o', 'significado', 'da', 'vida?\").', 'Trabalhos', 'recentes', 'têm', 'analisado', 'questões', 'ainda', 'mais', 'complexas.Extração', 'de', 'relacionamento', 'Identifica', 'as', 'relações', 'entre', 'entidades', 'nomeadas', '(por', 'exemplo,', 'quem', 'é', 'casado', 'com', 'quem)', 'com', 'base', 'em', 'textos.Quebra', 'de', 'frases', '(sentence', 'boundary', 'disambiguation)', 'Encontra', 'os', 'limites', 'da', 'frase', 'em', 'um', 'pedaço', 'de', 'texto.', 'Os', 'limites', 'de', 'frases', 'são', 'normalmente', 'marcadas', 'por', 'pontos', 'ou', 'outros', 'sinais', 'de', 'pontuação,', 'mas', 'esses', 'mesmos', 'caracteres', 'podem', 'servir', 'outros', 'propósitos.Análise', 'de', 'subjetividade', '(sentiment', 'analysis', 'ou', 'opinion', 'mining)', 'Extrai', 'informações', 'subjetivas', 'geralmente', 'de', 'um', 'conjunto', 'de', 'documentos,', 'muitas', 'vezes', 'usando', 'revisões', 'online', 'para', 'determinar', 'a', '\"polaridade\"', 'sobre', 'objetos', 'específicos.', 'É', 'especialmente', 'útil', 'para', 'identificar', 'tendências', 'da', 'opinião', 'pública', 'nas', 'mídias', 'sociais,', 'para', 'fins', 'de', 'marketing.Reconhecimento', 'de', 'fala', 'Dado', 'um', 'clipe', 'de', 'som', 'de', 'uma', 'pessoa', 'ou', 'pessoas', 'falando,', 'determina', 'a', 'representação', 'textual', 'do', 'discurso.', 'É', 'o', 'oposto', 'da', 'síntese', 'de', 'fala', 'e', 'é', 'uma', 'das', 'áreas', 'mais', 'difíceis,', 'conhecida', 'como', '\"AI-complete\".', 'Na', 'fala', 'natural', 'quase', 'não', 'há', 'pausas', 'entre', 'palavras', 'sucessivas,', 'por', 'isso', 'a', 'segmentação', 'de', 'fala', 'é', 'uma', 'subtarefa', 'necessária', 'de', 'reconhecimento', 'de', 'fala.', 'Nota-se', 'também', 'que,', 'na', 'maioria', 'das', 'linguagens', 'faladas,', 'os', 'sons', 'que', 'representam', 'letras', 'sucessivas', 'se', 'misturam', 'entre', 'si', 'em', 'um', 'processo', 'denominado', 'coarticulação,', 'de', 'modo', 'que', 'a', 'conversão', 'do', 'sinal', 'analógico', 'em', 'caracteres', 'discretos', 'pode', 'ser', 'um', 'processo', 'muito', 'difícil', 'de', 'ser', 'realizado.Segmentação', 'de', 'fala', 'Dado', 'um', 'clipe', 'de', 'som', 'de', 'uma', 'pessoa', 'ou', 'pessoas', 'falando,', 'separa-o', 'em', 'palavras.', 'Uma', 'subaplicação', 'de', 'reconhecimento', 'de', 'fala', 'e', 'normalmente', 'agrupada', 'com', 'ele.Análise', 'morfológica', 'e', 'reconhecimento', 'de', 'tópicos', 'Dado', 'um', 'pedaço', 'de', 'texto,', 'separa-o', 'em', 'segmentos', 'cada', 'um', 'dos', 'quais', 'é', 'dedicado', 'a', 'um', 'tópico', 'e', 'identifica', 'o', 'tópico', 'do', 'segmento.Análise', 'morfológica', 'e', 'segmentação', 'de', 'palavras', 'Separa', 'um', 'pedaço', 'de', 'texto', 'contínuo', 'em', 'palavras', 'separadas.', 'Para', 'uma', 'língua', 'como', 'o', 'inglês,', 'isso', 'é', 'bastante', 'trivial,', 'uma', 'vez', 'que', 'as', 'palavras', 'são', 'normalmente', 'separadas', 'por', 'espaços.', 'No', 'entanto,', 'algumas', 'línguas', 'escritas', 'como', 'chinês,', 'japonês', 'e', 'tailandês', 'não', 'marcam', 'limites', 'de', 'palavras', 'de', 'tal', 'forma,', 'e', 'nessas', 'línguas', 'segmentação', 'de', 'texto', 'é', 'uma', 'tarefa', 'significativa', 'que', 'requer', 'conhecimento', 'do', 'vocabulário', 'e', 'morfologia', 'das', 'palavras', 'na', 'língua.Desambiguação', 'Muitas', 'palavras', 'têm', 'mais', 'de', 'um', 'significado,', 'assim', 'temos', 'que', 'selecionar', 'o', 'significado', 'que', 'faz', 'mais', 'sentido', 'no', 'contexto.', 'Para', 'este', 'problema,', 'em', 'geral', 'é', 'dada', 'uma', 'lista', 'de', 'palavras', 'e', 'sentidos', 'de', 'palavras', 'associadas', 'de', 'um', 'dicionário', 'ou', 'recurso', 'online,', 'como', 'o', 'WordNet.', 'Em', 'alguns', 'casos,', 'conjuntos', 'de', 'tarefas', 'relacionadas', 'são', 'agrupados', 'em', 'subcampos', 'de', 'PLN', 'que', 'são', 'frequentemente', 'considerados', 'separadamente', 'da', 'PLN', 'como', 'um', 'todo,', 'como', 'os', 'exemplos', 'à', 'seguir:Recuperação', 'de', 'informação', '(IR)', 'Trata-se', 'de', 'armazenar,', 'pesquisar', 'e', 'recuperar', 'informações.', 'É', 'um', 'campo', 'separado', 'dentro', 'da', 'ciência', 'da', 'computação', '(mais', 'perto', 'de', 'bancos', 'de', 'dados),', 'mas', 'a', 'IR', 'se', 'baseia', 'em', 'alguns', 'métodos', 'PLN', '(por', 'exemplo,', 'stemming).', 'Algumas', 'pesquisas', 'e', 'aplicações', 'atuais', 'procuram', 'preencher', 'a', 'lacuna', 'entre', 'IR', 'e', 'PLN.Extração', 'de', 'informação', '(IE)', 'Trata-se,', 'em', 'geral,', 'da', 'extração', 'de', 'informação', 'semântica', 'a', 'partir', 'do', 'texto.', 'Abrange', 'tarefas', 'como', 'reconhecimento', 'de', 'entidade', 'mencionada,', 'resolução', 'de', 'correferência', 'e', 'de', 'relacionamento', 'de', 'extração,', 'etc.', 'Processamento', 'de', 'voz', 'Abrange', 'reconhecimento', 'de', 'fala,', 'síntese', 'de', 'fala', 'e', 'tarefas', 'relacionadas.', 'Outras', 'tarefas', 'incluem:', 'Identificação', 'na', 'língua', 'materna', 'Stemização', 'Simplificação', 'do', 'texto', 'Síntese', 'de', 'fala', 'Revisão', 'de', 'texto', 'Pesquisa', 'em', 'língua', 'natural', 'Expansão', 'da', 'consulta', 'Pontuação', 'de', 'ensaio', 'automatizado', 'Truecasing', '==', 'Estatística', '==', 'Artigo', 'principal:', 'Gramática', 'estocástica', 'O', 'processamento', 'estatístico', 'em', 'língua', 'natural', 'utiliza', 'métodos', 'estocásticos,', 'probabilísticos', 'e', 'estatísticos', 'para', 'resolver', 'algumas', 'das', 'dificuldades', 'discutidas', 'acima,', 'especialmente', 'aquelas', 'que', 'surgem', 'porque', 'frases', 'mais', 'longas', 'são', 'muito', 'ambíguas', 'quando', 'processadas', 'com', 'gramáticas', 'realistas,', 'produzindo', 'milhares', 'ou', 'milhões', 'de', 'análises', 'possíveis.', 'Métodos', 'de', 'desambiguação', 'envolvem', 'muitas', 'vezes', 'o', 'uso', 'de', 'corpora', 'e', 'modelos', 'de', 'Markov.', 'O', 'projeto', 'ESPRIT', 'P26', '(1984-1988),', 'liderado', 'pelo', 'CSELT,', 'explorou', 'o', 'problema', 'do', 'reconhecimento', 'de', 'fala', 'comparando', 'abordagem', 'baseada', 'em', 'conhecimento', 'e', 'estatística:', 'o', 'resultado', 'escolhido', 'foi', 'um', 'modelo', 'completamente', 'estatístico.', 'Um', 'dos', 'primeiros', 'modelos', 'de', 'compreensão', 'estatística', 'da', 'língua', 'natural', 'foi', 'introduzido', 'em', '1991', 'por', 'Roberto', 'Pieraccini,', 'Esther', 'Levin', 'e', 'Chin-Hui', 'Lee,', 'da', 'Bell', 'Laboratories].', 'O', 'PLN', 'compreende', 'todas', 'as', 'abordagens', 'quantitativas', 'para', 'processamento', 'automatizado', 'de', 'linguagem,', 'incluindo', 'modelagem', 'probabilística,', 'teoria', 'da', 'informação', 'e', 'álgebra', 'linear.', 'A', 'tecnologia', 'para', 'o', 'PLN', 'estatístico', 'vem', 'principalmente', 'da', 'aprendizagem', 'automática', 'e', 'da', 'mineração', 'de', 'dados,', 'que', 'são', 'campos', 'de', 'inteligência', 'artificial', 'que', 'envolvem', 'o', 'aprendizado', 'a', 'partir', 'de', 'dados.', '==', 'Avaliação', '==', 'O', 'objetivo', 'da', 'avaliação', 'do', 'PLN', 'é', 'uma', 'medida', 'de', 'uma', 'ou', 'mais', 'qualidades', 'de', 'um', 'algoritmo', 'ou', 'de', 'um', 'sistema', 'a', 'fim', 'de', 'determinar', 'se', 'o', 'algoritmo', 'atende', 'às', 'metas', 'dos', 'projetistas', 'ou', 'o', 'sistema', 'de', 'atendimento', 'às', 'necessidades', 'de', 'seus', 'usuários.', 'Investigação', 'na', 'avaliação', 'PLN', 'tem', 'ganhado', 'atenção,', 'porque', 'a', 'definição', 'de', 'critérios', 'de', 'avaliação', 'é', 'uma', 'forma', 'de', 'especificar', 'precisamente', 'problemas', 'do', 'PLN.', 'Uma', 'métrica', 'de', 'avaliação', 'de', 'PLN', 'em', 'um', 'sistema', 'algorítmico', 'permite', 'a', 'integração', 'da', 'compreensão', 'de', 'linguagem', 'e', 'geração', 'de', 'linguagem.', 'Um', 'conjunto', 'preciso', 'de', 'critérios', 'de', 'avaliação,', 'que', 'pode', 'ser', 'aplicado', 'principalmente', 'a', 'avaliações', 'métricas,', 'podendo', 'permitir', 'que', 'várias', 'equipes', 'comparem', 'suas', 'soluções', 'para', 'um', 'determinado', 'problema', 'do', 'PLN.', '==', 'Cronologia', 'da', 'avaliação', '==', 'Em', '1983,', 'iniciou-se', 'o', 'Projecto', 'Esprit', 'P26,', 'que', 'avaliou', 'as', 'Tecnologias', 'da', 'Fala', '(incluindo', 'tópicos', 'gerais', 'como', 'Sintaxe', 'e', 'Semântica)', 'comparando', 'as', 'abordagens', 'baseadas', 'em', 'regras', 'com', 'as', 'estatísticas.', 'Em', '1987,', 'a', 'primeira', 'campanha', 'de', 'avaliação', 'de', 'textos', 'escritos', 'parece', 'ser', 'uma', 'campanha', 'dedicada', 'à', 'compreensão', 'da', 'mensagem', '(Pallet,', '1998).', 'O', 'projeto', 'Parseval', '/', 'GEIG', 'comparou', 'gramáticas', 'de', 'frase-estrutura', '(Black', '1991).', 'Houve', 'uma', 'série', 'de', 'campanhas', 'no', 'projeto', 'Tipster', 'sobre', 'tarefas', 'como', 'resumo,', 'tradução', 'e', 'pesquisa', '(Hirschman', '1998).', 'Em', '1994,', 'na', 'Alemanha,', 'o', 'Morpholympics', 'comparou', 'marcadores', 'morfológicos', 'alemães.', 'As', 'campanhas', 'de', 'Senseval', '&', 'Romanseval', 'foram', 'realizadas', 'com', 'os', 'objetivos', 'de', 'desambiguação', 'semântica.', 'Em', '1996,', 'a', 'campanha', 'Sparkle', 'comparou', 'os', 'analisadores', 'sintáticos', 'em', 'quatro', 'idiomas', 'diferentes', '(inglês,', 'francês,', 'alemão', 'e', 'italiano).', 'Na', 'França,', 'o', 'projeto', 'Grace', 'comparou', 'um', 'conjunto', 'de', '21', 'marcadores', 'para', 'o', 'francês', 'em', '1997', '(Adda', '1999).', 'Em', '2004,', 'durante', 'o', 'projeto', 'Technolangue', '/', 'Easy,', 'foram', 'comparados', '13', 'analisadores', 'para', 'o', 'francês.', 'A', 'avaliação', 'em', 'larga', 'escala', 'dos', 'analisadores', 'de', 'dependência', 'foi', 'realizada', 'no', 'contexto', 'das', 'tarefas', 'compartilhadas', 'do', 'CoNLL', 'em', '2006', 'e', '2007.', 'Na', 'França,', 'no', 'âmbito', 'do', 'projecto', 'ANR-Passage', '(final', 'de', '2007),', 'foram', 'comparados', '10', 'analisadores', 'para', 'o', 'francês.', 'Em', 'Itália,', 'a', 'campanha', 'EVALITA', 'foi', 'realizada', 'em', '2007,', '2009,', '2011', 'e', '2014', 'para', 'comparar', 'várias', 'ferramentas', 'de', 'PLN', 'e', 'de', 'voz', 'para', 'o', 'site', 'italiano', '-', 'EVALITA.', '==', 'Diferentes', 'tipos', 'de', 'avaliação', '==', 'Avaliação', 'intrínseca', 'vs.', 'extrínseca', 'A', 'avaliação', 'intrínseca', 'considera', 'um', 'sistema', 'PNL', 'isolado', 'e', 'caracteriza', 'seu', 'desempenho', 'em', 'relação', 'a', 'um', 'resultado', 'padrão-excelência,', 'conforme', 'definido', 'pelos', 'avaliadores.', 'A', 'avaliação', 'extrínseca,', 'também', 'chamada', 'de', 'avaliação', 'em', 'uso,', 'considera', 'o', 'sistema', 'PLN', 'em', 'um', 'cenário', 'mais', 'complexo', 'como', 'um', 'sistema', 'embutido', 'ou', 'uma', 'função', 'precisa', 'para', 'um', 'usuário', 'humano.', 'O', 'desempenho', 'extrínseco', 'do', 'sistema', 'é', 'então', 'caracterizado', 'em', 'termos', 'de', 'utilidade', 'em', 'relação', 'à', 'tarefa', 'global', 'do', 'sistema', 'estranho', 'ou', 'do', 'utilizador', 'humano.', 'Por', 'exemplo,', 'considere', 'um', 'analisador', 'sintático', 'que', 'é', 'baseado', 'na', 'saída', 'de', 'alguma', 'parte', 'do', 'tagger', 'de', 'fala', '(POS).', 'Uma', 'avaliação', 'intrínseca', 'executaria', 'o', 'marcador', 'POS', 'em', 'dados', 'estruturados', 'e', 'compararia', 'a', 'saída', 'do', 'sistema', 'do', 'marcador', 'POS', 'com', 'a', 'saída', 'padrão', 'ouro.', 'Uma', 'avaliação', 'extrínseca', 'executaria', 'o', 'analisador', 'com', 'algum', 'outro', 'marcador', 'POS', 'e,', 'em', 'seguida,', 'com', 'o', 'marcador', 'POS', 'novo', 'e', 'compara', 'a', 'precisão', 'de', 'análise.', 'Caixa', 'preta', 'vs.', 'Avaliação', 'da', 'caixa', 'de', 'vidro', 'A', 'avaliação', 'em', 'caixa', 'preta', 'requer', 'que', 'alguém', 'execute', 'um', 'sistema', 'PLN', 'em', 'um', 'conjunto', 'de', 'dados', 'de', 'amostra', 'e', 'para', 'medir', 'uma', 'série', 'de', 'parâmetros', 'relacionados', 'com', 'a', 'qualidade', 'do', 'processo,', 'como', 'velocidade,', 'confiabilidade,', 'consumo', 'de', 'recursos', 'e,', 'principalmente,', 'a', 'qualidade', 'do', 'resultado,', 'como', 'a', 'precisão', 'da', 'anotação', 'de', 'dados', 'ou', 'a', 'fidelidade', 'de', 'uma', 'tradução.', 'A', 'avaliação', 'da', 'caixa', 'de', 'vidro', 'examina', 'a', 'concepção', 'do', 'sistema;', 'Os', 'algoritmos', 'que', 'são', 'implementados,', 'os', 'recursos', 'linguísticos', 'que', 'utiliza,', 'como', 'o', 'tamanho', 'do', 'vocabulário', 'ou', 'a', 'expressão', 'definida', 'de', 'cardinalidade.', 'Dada', 'a', 'complexidade', 'dos', 'problemas', 'da', 'PLN,', 'muitas', 'vezes', 'é', 'difícil', 'prever', 'o', 'desempenho', 'apenas', 'com', 'base', 'na', 'avaliação', 'da', 'caixa', 'de', 'vidro;', 'Mas', 'este', 'tipo', 'de', 'avaliação', 'é', 'mais', 'informativo', 'no', 'que', 'diz', 'respeito', 'à', 'análise', 'de', 'erros', 'ou', 'desenvolvimentos', 'futuros', 'de', 'um', 'sistema.', 'Automática', 'vs.', 'avaliação', 'manual', 'Em', 'muitos', 'casos,', 'procedimentos', 'automáticos', 'podem', 'ser', 'definidos', 'para', 'avaliar', 'um', 'sistema', 'de', 'PLN,', 'comparando', 'sua', 'saída', 'com', 'o', 'padrão', 'de', 'excelência.', 'Embora', 'o', 'custo', 'de', 'reproduzir', 'o', 'padrão', 'de', 'excelência', 'possa', 'ser', 'bastante', 'elevado,', 'avaliação', 'automática', 'de', 'bootstrapping', 'sobre', 'os', 'mesmos', 'dados', 'de', 'entrada', 'pode', 'ser', 'repetida', 'quantas', 'vezes', 'for', 'necessário', 'sem', 'custos', 'adicionais', 'desordenados.', 'No', 'entanto,', 'para', 'muitos', 'problemas', 'de', 'PLN', 'a', 'definição', 'precisa', 'de', 'um', 'padrão', 'de', 'excelência', 'é', 'uma', 'tarefa', 'complexa', 'e', 'pode', 'se', 'revelar', 'impossível', 'quando', 'o', 'acordo', 'inter-anotador', 'é', 'insuficiente.', 'A', 'avaliação', 'manual', 'é', 'melhor', 'realizada', 'por', 'juízes', 'humanos', 'instruídos', 'para', 'estimar', 'a', 'qualidade', 'de', 'um', 'sistema,', 'ou', 'mais', 'frequentemente', 'de', 'uma', 'amostra', 'de', 'sua', 'produção,', 'com', 'base', 'em', 'uma', 'série', 'de', 'critérios.', 'Embora,', 'graças', 'à', 'sua', 'competência', 'linguística,', 'os', 'juízes', 'humanos', 'possam', 'ser', 'considerados', 'como', 'a', 'referência', 'para', 'uma', 'série', 'de', 'tarefas', 'de', 'processamento', 'de', 'linguagem,', 'há', 'também', 'uma', 'variação', 'considerável', 'em', 'suas', 'classificações.', 'É', 'por', 'isso', 'que', 'a', 'avaliação', 'automática', 'é,', 'por', 'vezes,', 'referida', 'como', 'avaliação', 'objetiva', 'enquanto', 'a', 'avaliação', 'humana', 'é', 'perspectiva.', '==', 'Padronização', '==', 'Um', 'subcomitê', 'ISO', 'está', 'trabalhando', 'para', 'facilitar', 'a', 'interoperabilidade', 'entre', 'recursos', 'lexicais', 'e', 'programas', 'PLN.', 'O', 'subcomitê', 'faz', 'parte', 'do', 'ISO', '/', 'TC37', 'e', 'é', 'chamado', 'ISO', '/', 'TC37', '/', 'SC4.', 'Alguns', 'padrões', 'ISO', 'já', 'estão', 'publicados,', 'mas', 'a', 'maioria', 'deles', 'está', 'em', 'construção,', 'principalmente', 'na', 'representação', 'de', 'léxico', '(ver', 'LMF),', 'anotação', 'e', 'registro', 'de', 'categoria', 'de', 'dados.', '==', 'Ferramentas', '==', 'Expert', 'System', 'S.p.A.', 'General', 'Architecture', 'for', 'Text', 'Engineering', 'Modular', 'Audio', 'Recognition', 'Framework', 'Natural', 'Language', 'Toolkit', '(NLTK):', 'uma', 'biblioteca', 'em', 'Python', 'OpenNLP', '==', 'Veja', 'também', '==', 'Mineração', 'de', 'texto', 'biomédica', 'Processo', 'de', 'processamento', 'composto', 'Revisão', 'assistida', 'por', 'computador', 'Linguagem', 'natural', 'controlada', 'Processamento', 'linguístico', 'profundo', 'Auxílio', 'à', 'leitura', 'de', 'línguas', 'estrangeiras', 'Auxílio', 'à', 'escrita', 'em', 'língua', 'estrangeira', 'Tecnologia', 'da', 'linguagem', 'A', 'alocação', 'de', 'Dirichlet', 'Latente', '(LDA)', 'Indexação', 'semântica', 'latente', 'Lista', 'de', 'ferramentas', 'de', 'processamento', 'de', 'língua', 'natural', 'Mapa', 'de', 'LRE', 'Programação', 'em', 'língua', 'natural', 'Reificação', '(linguística)', 'Dobradura', 'semântica', 'Sistema', 'de', 'diálogo', 'falado', 'Vetor', 'do', 'Pensamento', 'Pesquisa', 'Transderivacional', 'Word2vec', '==', 'Referências', '==', '==', 'Leitura', 'adicional', '==', 'Steven', 'Bird,', 'Ewan', 'Klein,', 'and', 'Edward', 'Loper', '(2009).', 'Natural', 'Language', 'Processing', 'with', 'Python.', \"O'Reilly\", 'Media.', 'ISBN', '978-0-596-51649-9.', 'Daniel', 'Jurafsky', 'and', 'James', 'H.', 'Martin', '(2008).', 'Speech', 'and', 'Language', 'Processing,', '2nd', 'edition.', 'Pearson', 'Prentice', 'Hall.', 'ISBN', '978-0-13-187321-6.', 'Christopher', 'D.', 'Manning,', 'Prabhakar', 'Raghavan,', 'and', 'Hinrich', 'Schütze', '(2008).', 'Introduction', 'to', 'Information', 'Retrieval.', 'Cambridge', 'University', 'Press.', 'ISBN', '978-0-521-86571-5.', 'Official', 'html', 'and', 'pdf', 'versions', 'available', 'without', 'charge.', 'Christopher', 'D.', 'Manning', 'and', 'Hinrich', 'Schütze', '(1999).', 'Foundations', 'of', 'Statistical', 'Natural', 'Language', 'Processing.', 'The', 'MIT', 'Press.', 'ISBN', '978-0-262-13360-9.', 'David', 'M.', 'W.', 'Powers', 'and', 'Christopher', 'C.', 'R.', 'Turk', '(1989).', 'Machine', 'Learning', 'of', 'Natural', 'Language.', 'Springer-Verlag.', 'ISBN', '978-0-387-19557-5.']\n"
          ]
        }
      ]
    },
    {
      "cell_type": "markdown",
      "metadata": {
        "id": "Evq4lIQNU2eM"
      },
      "source": [
        "### Regex\n",
        "\n",
        "2. Faça utilizando o método abaixo\n",
        "<b> Não esqueça de armazenar o resultado na variável abaixo. </b>\n",
        "\n",
        "```python\n",
        "re.findall(r\"\\w+(?:'\\w+)?|[^\\w\\s]\", corpus)\n",
        "```"
      ]
    },
    {
      "cell_type": "code",
      "metadata": {
        "id": "gJOBqy-DU2eM"
      },
      "source": [
        "tokens_regex = re.findall(r\"\\w+(?:'\\w+)?|[^\\w\\s]\", corpus)"
      ],
      "execution_count": null,
      "outputs": []
    },
    {
      "cell_type": "code",
      "metadata": {
        "id": "ndyhqasjy-Qw",
        "colab": {
          "base_uri": "https://localhost:8080/"
        },
        "outputId": "ac00baea-c9ca-4123-ab72-e13eb5d5236d"
      },
      "source": [
        "#Regex\n",
        "print(len(tokens_regex))\n",
        "print(tokens_regex)"
      ],
      "execution_count": null,
      "outputs": [
        {
          "output_type": "stream",
          "name": "stdout",
          "text": [
            "4954\n",
            "['Processamento', 'de', 'língua', 'natural', '(', 'PLN', ')', 'é', 'uma', 'subárea', 'da', 'ciência', 'da', 'computação', ',', 'inteligência', 'artificial', 'e', 'da', 'linguística', 'que', 'estuda', 'os', 'problemas', 'da', 'geração', 'e', 'compreensão', 'automática', 'de', 'línguas', 'humanas', 'naturais', '.', 'Sistemas', 'de', 'geração', 'de', 'língua', 'natural', 'convertem', 'informação', 'de', 'bancos', 'de', 'dados', 'de', 'computadores', 'em', 'linguagem', 'compreensível', 'ao', 'ser', 'humano', 'e', 'sistemas', 'de', 'compreensão', 'de', 'língua', 'natural', 'convertem', 'ocorrências', 'de', 'linguagem', 'humana', 'em', 'representações', 'mais', 'formais', ',', 'mais', 'facilmente', 'manipuláveis', 'por', 'programas', 'de', 'computador', '.', 'Alguns', 'desafios', 'do', 'PLN', 'são', 'compreensão', 'de', 'língua', 'natural', ',', 'fazer', 'com', 'que', 'computadores', 'extraiam', 'sentido', 'de', 'linguagem', 'humana', 'ou', 'natural', 'e', 'geração', 'de', 'língua', 'natural', '.', '=', '=', 'História', '=', '=', 'A', 'história', 'do', 'PLN', 'começou', 'na', 'década', 'de', '1950', ',', 'quando', 'Alan', 'Turing', 'publicou', 'o', 'artigo', '\"', 'Computing', 'Machinery', 'and', 'Intelligence', '\"', ',', 'que', 'propunha', 'o', 'que', 'agora', 'é', 'chamado', 'de', 'teste', 'de', 'Turing', 'como', 'critério', 'de', 'inteligência', '.', 'Em', '1954', ',', 'a', 'experiência', 'de', 'Georgetown', 'envolveu', 'a', 'tradução', 'automática', 'de', 'mais', 'de', 'sessenta', 'frases', 'russas', 'para', 'o', 'inglês', '.', 'Os', 'autores', 'afirmaram', 'que', 'dentro', 'de', 'três', 'ou', 'cinco', 'anos', 'a', 'tradução', 'automática', 'seria', 'um', 'problema', 'resolvido', '.', 'No', 'entanto', ',', 'os', 'avanços', 'reais', 'foram', 'muito', 'mais', 'lentos', 'do', 'que', 'o', 'previsto', 'e', ',', 'após', 'o', 'relatório', 'ALPAC', 'em', '1966', ',', 'que', 'constatou', 'que', 'a', 'pesquisa', 'de', 'dez', 'anos', 'não', 'conseguiu', 'satisfazer', 'as', 'expectativas', ',', 'o', 'financiamento', 'para', 'este', 'estudo', 'em', 'tradução', 'automática', 'foi', 'reduzido', 'drasticamente', '.', 'Poucas', 'pesquisas', 'em', 'tradução', 'automática', 'foram', 'conduzidas', 'até', 'o', 'final', 'dos', 'anos', '80', ',', 'quando', 'os', 'primeiros', 'sistemas', 'estatísticos', 'de', 'tradução', 'foram', 'desenvolvidos', '.', 'Alguns', 'sistemas', 'de', 'PLN', 'bem', 'sucedidos', 'desenvolvidos', 'nos', 'anos', '60', 'foram', 'SHRDLU', ',', 'um', 'sistema', 'de', 'língua', 'natural', 'que', 'trabalhava', 'em', '\"', 'blocks', 'worlds', '\"', 'com', 'vocabulário', 'restrito', 'e', 'ELIZA', ',', 'uma', 'simulação', 'de', 'um', 'psicoterapeuta', 'escrita', 'por', 'Joseph', 'Weizenbaum', 'entre', '1964', 'e', '1966', '.', 'Usando', 'pouca', 'informação', 'sobre', 'o', 'pensamento', 'ou', 'a', 'emoção', 'humana', ',', 'ELIZA', 'criava', ',', 'em', 'alguns', 'casos', ',', 'interações', 'surpreendentemente', 'humanas', '.', 'Quando', 'o', '\"', 'paciente', '\"', 'excedia', 'a', 'base', 'de', 'conhecimento', 'do', 'programa', ',', 'ELIZA', 'fornecia', 'uma', 'resposta', 'genérica', ',', 'por', 'exemplo', ',', 'respondendo', 'a', '\"', 'Minha', 'cabeça', 'dói', '\"', 'com', '\"', 'Por', 'que', 'você', 'diz', 'que', 'sua', 'cabeça', 'dói', '?', '\"', '.', 'Durante', 'a', 'década', 'de', '1970', ',', 'muitos', 'programadores', 'começaram', 'a', 'escrever', '\"', 'ontologias', 'conceituais', '\"', ',', 'que', 'estruturaram', 'a', 'informação', 'do', 'mundo', 'real', 'em', 'dados', 'compreensíveis', 'por', 'computadores', '.', 'Exemplos', 'são', 'MARGIE', '(', 'SCHANK', ',', '1975', ')', ',', 'SAM', '(', 'CULLINGFORD', ',', '1978', ')', ',', 'PAM', '(', 'WILENSKY', ',', '1978', ')', ',', 'TaleSpin', '(', 'MEEHAN', ',', '1976', ')', ',', 'QUALM', '(', 'LEHNERT', ',', '1977', ')', ',', 'Politics', '(', 'CARBONELL', ',', '1979', ')', 'e', 'Plot', 'Units', '(', 'LEHNERT', ',', '1981', ')', '.', 'Neste', 'período', ',', 'muitos', 'chatterbots', 'foram', 'escritos', ',', 'como', 'PARRY', ',', 'Racter', 'e', 'Jabberwacky', '.', 'Até', 'a', 'década', 'de', '1980', ',', 'a', 'maioria', 'dos', 'sistemas', 'de', 'PLN', 'se', 'baseava', 'em', 'conjuntos', 'complexos', 'de', 'regras', 'manuscritas', '.', 'A', 'partir', 'do', 'final', 'dos', 'anos', '1980', ',', 'no', 'entanto', ',', 'houve', 'uma', 'revolução', 'no', 'PLN', 'com', 'a', 'introdução', 'de', 'algoritmos', 'de', 'aprendizagem', 'automática', '(', 'aprendizado', 'de', 'máquina', ')', 'para', 'o', 'processamento', 'de', 'linguagem', '.', 'Isto', 'foi', 'devido', 'tanto', 'ao', 'aumento', 'constante', 'do', 'poder', 'computacional', '(', 'ver', 'Lei', 'de', 'Moore', ')', 'quanto', 'à', 'diminuição', 'gradual', 'da', 'dominância', 'das', 'teorias', 'da', 'linguística', 'chomskyanas', '(', 'como', 'a', 'gramática', 'gerativa', ')', ',', 'cujos', 'fundamentos', 'teóricos', 'desestimularam', 'o', 'tipo', 'de', 'corpus', 'linguístico', 'que', 'está', 'subjacente', 'à', 'abordagem', 'da', 'aprendizagem', 'automática', 'ao', 'processamento', 'da', 'linguagem', '.', 'Alguns', 'dos', 'algoritmos', 'de', 'aprendizado', 'de', 'máquinas', 'mais', 'antigos', ',', 'como', 'as', 'árvores', 'de', 'decisão', ',', 'produziam', 'sistemas', 'de', 'regras', 'rígidas', 'então', 'semelhantes', 'às', 'regras', 'existentes', 'na', 'escritas', 'à', 'mão', '.', 'No', 'entanto', ',', 'a', 'marcação', 'de', 'partes', 'da', 'fala', '(', 'part', '-', 'of', '-', 'speech', 'tagging', ')', 'introduziu', 'o', 'uso', 'de', 'modelos', 'ocultos', 'de', 'Markov', 'para', 'o', 'PLN', 'e', ',', 'cada', 'vez', 'mais', ',', 'a', 'pesquisa', 'se', 'concentrava', 'em', 'modelos', 'estatísticos', ',', 'que', 'tomam', 'decisões', 'suaves', 'e', 'probabilísticas', 'baseadas', 'na', 'atribuição', 'de', 'pesos', 'reais', 'aos', 'recursos', 'que', 'compõem', 'dados', 'de', 'entrada', '.', 'Os', 'modelos', 'de', 'linguagem', 'de', 'cache', ',', 'sobre', 'os', 'quais', 'muitos', 'sistemas', 'de', 'reconhecimento', 'de', 'fala', 'agora', 'dependem', ',', 'são', 'exemplos', 'de', 'tais', 'modelos', 'estatísticos', '.', 'Esses', 'modelos', 'são', 'geralmente', 'mais', 'robustos', 'quando', 'dados', 'informações', 'desconhecidas', ',', 'especialmente', 'entrada', 'que', 'contém', 'erros', '(', 'como', 'é', 'muito', 'comum', 'para', 'dados', 'do', 'mundo', 'real', ')', 'e', 'produzem', 'resultados', 'mais', 'confiáveis', 'quando', 'integrados', 'em', 'sistemas', 'maiores', 'que', 'compreendem', 'múltiplas', 'tarefas', '.', 'Muitos', 'dos', 'sucessos', 'iniciais', 'notáveis', 'ocorreram', 'no', 'campo', 'da', 'tradução', 'automática', ',', 'devido', 'especialmente', 'ao', 'trabalho', 'de', 'pesquisa', 'da', 'IBM', ',', 'que', 'desenvolveu', 'modelos', 'estatísticos', 'mais', 'elaborados', '.', 'Estes', 'sistemas', 'foram', 'capazes', 'de', 'tirar', 'proveito', 'de', 'corpora', 'textuais', 'multilíngues', 'existentes', 'produzidos', 'pelo', 'Parlamento', 'do', 'Canadá', 'e', 'a', 'União', 'Europeia', 'como', 'resultado', 'de', 'leis', 'que', 'exigem', 'a', 'tradução', 'de', 'todos', 'os', 'processos', 'governamentais', 'em', 'todas', 'as', 'línguas', 'oficiais', 'dos', 'países', '.', 'No', 'entanto', ',', 'a', 'maioria', 'dos', 'sistemas', 'dependia', 'de', 'corpora', 'desenvolvido', 'especificamente', 'para', 'tarefas', 'implementadas', 'por', 'esses', 'sistemas', ',', 'o', 'que', 'era', '(', 'e', 'muitas', 'vezes', 'continua', 'sendo', ')', 'uma', 'grande', 'limitação', 'no', 'sucesso', 'dos', 'mesmo', '.', 'Como', 'resultado', ',', 'uma', 'grande', 'quantidade', 'de', 'pesquisa', 'passou', 'de', 'quantidades', 'de', 'dados', 'limitadas', 'a', 'métodos', 'de', 'aprendizagem', 'mais', 'eficazes', '.', 'Pesquisas', 'recentes', 'têm', 'se', 'concentrado', 'cada', 'vez', 'mais', 'em', 'algoritmos', 'de', 'aprendizagem', 'semi', '-', 'supervisionados', 'e', 'sem', 'supervisão', '.', 'Esses', 'algoritmos', 'são', 'capazes', 'de', 'aprender', 'com', 'dados', 'que', 'não', 'foram', 'anotados', 'manualmente', 'com', 'as', 'respostas', 'desejadas', 'ou', 'usando', 'uma', 'combinação', 'de', 'dados', 'anotados', 'e', 'não', 'anotados', '.', 'Geralmente', ',', 'esta', 'tarefa', 'é', 'muito', 'mais', 'trabalhosa', 'do', 'que', 'a', 'aprendizagem', 'supervisionada', 'e', 'normalmente', 'produz', 'resultados', 'menos', 'precisos', 'para', 'uma', 'quantidade', 'específica', 'de', 'dados', 'de', 'entrada', '.', 'No', 'entanto', ',', 'há', 'uma', 'enorme', 'quantidade', 'de', 'dados', 'não', 'anotados', 'disponíveis', '(', 'incluindo', ',', 'entre', 'outras', 'coisas', ',', 'todo', 'o', 'conteúdo', 'da', 'World', 'Wide', 'Web', ')', ',', 'que', 'muitas', 'vezes', 'pode', 'compensar', 'os', 'resultados', 'inferiores', '.', '=', '=', 'Usando', 'a', 'aprendizagem', 'automática', '(', 'aprendizado', 'de', 'máquina', ')', '=', '=', 'Os', 'algoritmos', 'modernos', 'de', 'PLN', 'baseiam', '-', 'se', 'na', 'aprendizagem', 'mecânica', ',', 'especialmente', 'na', 'aprendizagem', 'de', 'máquinas', 'estatísticas', '.', 'O', 'paradigma', 'da', 'aprendizagem', 'mecânica', 'é', 'diferente', 'do', 'da', 'maioria', 'das', 'tentativas', 'anteriores', 'de', 'processamento', 'da', 'linguagem', '.', 'Anteriormente', ',', 'implementações', 'de', 'tarefas', 'de', 'processamento', 'de', 'linguagem', 'envolviam', 'a', 'codificação', 'direta', 'de', 'grandes', 'conjuntos', 'de', 'regras', '.', 'O', 'paradigma', 'da', 'aprendizagem', 'automática', '(', 'ou', 'aprendizagem', 'automática', ')', 'induz', 'a', 'aprendizagem', 'automática', 'de', 'regras', 'através', 'de', 'análises', 'de', 'corpora', 'de', 'exemplos', 'típicos', 'do', 'mundo', 'real', 'ao', 'invés', 'de', 'usar', 'algoritmos', 'gerais', 'de', 'aprendizagem', '(', 'muitas', 'vezes', ',', 'embora', 'nem', 'sempre', ',', 'baseados', 'em', 'inferência', 'estatística', ')', '.', 'Um', 'corpus', '(', 'plural', '\"', 'corpora', '\"', ')', 'é', 'um', 'conjunto', 'de', 'documentos', '(', 'ou', 'frases', 'individuais', ')', 'que', 'foram', 'anotados', 'à', 'mão', 'com', 'os', 'valores', 'corretos', 'a', 'serem', 'aprendidos', '.', 'Muitas', 'classes', 'diferentes', 'de', 'algoritmos', 'de', 'aprendizado', 'de', 'máquina', 'foram', 'aplicadas', 'a', 'tarefas', 'de', 'PLN', '.', 'Esses', 'algoritmos', 'tomam', 'como', 'entrada', 'um', 'grande', 'conjunto', 'de', '\"', 'recursos', '\"', 'que', 'são', 'gerados', 'a', 'partir', 'de', 'dados', 'de', 'entrada', '.', 'Alguns', 'dos', 'algoritmos', 'mais', 'usados', ',', 'como', 'árvores', 'de', 'decisão', ',', 'produziam', 'sistemas', 'de', 'regras', 'rígidas', 'semelhantes', 'aos', 'sistemas', 'de', 'regras', 'manuscritas', 'mais', 'comuns', '.', 'No', 'entanto', ',', 'cada', 'vez', 'mais', ',', 'a', 'pesquisa', 'tem', 'se', 'concentrado', 'em', 'modelos', 'estatísticos', ',', 'que', 'tomam', 'decisões', 'flexíveis', 'e', 'probabilísticas', 'baseadas', 'em', 'agregar', 'pesos', 'reais', 'a', 'cada', 'característica', 'de', 'entrada', '.', 'Tais', 'modelos', 'têm', 'a', 'vantagem', 'de', 'poder', 'expressar', 'a', 'certeza', 'relativa', 'de', 'muitas', 'respostas', 'possíveis', 'diferentes', 'em', 'vez', 'de', 'apenas', 'uma', ',', 'produzindo', 'resultados', 'mais', 'confiáveis', 'quando', 'esse', 'modelo', 'é', 'incluído', 'como', 'um', 'componente', 'de', 'um', 'sistema', 'maior', '.', 'Os', 'sistemas', 'baseados', 'em', 'algoritmos', 'de', 'aprendizagem', 'mecânica', 'têm', 'muitas', 'vantagens', 'em', 'relação', 'às', 'regras', 'produzidas', 'manualmente', ':', 'Os', 'procedimentos', 'de', 'aprendizagem', 'usados', 'durante', 'a', 'aprendizagem', 'da', 'máquina', 'focam', '-', 'se', 'automaticamente', 'nos', 'casos', 'mais', 'comuns', ',', 'ao', 'passo', 'que', 'quando', 'se', 'escrevem', 'regras', 'à', 'mão', ',', 'não', 'é', 'óbvio', 'em', 'que', 'sentido', 'o', 'esforço', 'deve', 'ser', 'dirigido', '.', 'Os', 'procedimentos', 'de', 'aprendizagem', 'automática', 'podem', 'fazer', 'uso', 'de', 'algoritmos', 'de', 'inferência', 'estatística', 'para', 'produzir', 'modelos', 'que', 'são', 'robustos', 'a', 'entradas', 'não', 'familiares', '(', 'por', 'exemplo', ',', 'contendo', 'palavras', 'ou', 'estruturas', 'que', 'não', 'foram', 'vistas', 'antes', ')', 'e', 'a', 'entradas', 'errôneas', '(', 'por', 'exemplo', ',', 'com', 'palavras', 'ou', 'palavras', 'incorretamente', 'omitidas', ')', '.', 'Geralmente', ',', 'lidar', 'com', 'essas', 'entradas', 'de', 'forma', 'com', 'regras', 'manuscritas', 'ou', 'sistemas', 'de', 'regras', 'manuscritas', 'que', 'tomam', 'decisões', 'suaves', 'é', 'extremamente', 'trabalhoso', ',', 'propenso', 'a', 'erros', 'e', 'demorado', '.', 'Sistemas', 'baseados', 'em', 'aprender', 'automaticamente', 'as', 'regras', 'podem', 'ser', 'mais', 'precisos', 'simplesmente', 'fornecendo', 'mais', 'dados', 'de', 'entrada', '.', 'No', 'entanto', ',', 'os', 'sistemas', 'baseados', 'em', 'regras', 'escritas', 'à', 'mão', 'só', 'podem', 'ser', 'tornados', 'mais', 'precisos', 'aumentando', 'a', 'complexidade', 'das', 'regras', ',', 'o', 'que', 'é', 'uma', 'tarefa', 'muito', 'mais', 'difícil', '.', 'Em', 'particular', ',', 'há', 'um', 'limite', 'para', 'a', 'complexidade', 'de', 'sistemas', 'baseados', 'em', 'regras', 'artesanais', ',', 'para', 'além', 'dos', 'quais', 'os', 'sistemas', 'se', 'tornam', 'cada', 'vez', 'mais', 'incontroláveis', '.', 'No', 'entanto', ',', 'a', 'criação', 'de', 'mais', 'dados', 'para', 'entrada', 'em', 'sistemas', 'de', 'aprendizado', 'de', 'máquina', 'requer', 'simplesmente', 'um', 'aumento', 'correspondente', 'no', 'número', 'de', 'horas', 'trabalhadas', 'por', 'humanos', ',', 'geralmente', 'sem', 'aumentos', 'significativos', 'na', 'complexidade', 'do', 'processo', 'de', 'anotação', '.', 'O', 'subcampo', 'de', 'PLN', 'dedicado', 'a', 'abordagens', 'de', 'aprendizagem', 'é', 'conhecido', 'como', 'aprendizagem', 'de', 'língua', 'natural', '(', 'NLL', ')', 'e', 'sua', 'conferência', ',', 'a', 'CoNLL', ',', 'e', 'orgão', 'central', ',', 'o', 'SIGNLL', ',', 'são', 'patrocinados', 'pela', 'ACL', ',', 'reconhecendo', 'também', 'as', 'suas', 'ligações', 'com', 'linguística', 'computacional', 'e', 'aquisição', 'de', 'linguagem', '.', 'Quando', 'o', 'objetivo', 'da', 'pesquisa', 'de', 'aprendizagem', 'de', 'linguagem', 'computacional', 'é', 'entender', 'mais', 'sobre', 'aquisição', 'de', 'linguagem', 'humana', ',', 'ou', 'psicolinguística', ',', 'a', 'NLL', 'sobrepõe', '-', 'se', 'no', 'campo', 'relacionado', 'de', 'psicolinguística', 'computacional', '.', '=', '=', 'Aplicações', 'principais', '=', '=', 'A', 'listagem', 'a', 'seguir', 'traz', 'alguns', 'dos', 'trabalhos', 'mais', 'pesquisadas', 'em', 'PLN', '.', 'Note', 'que', 'alguns', 'deles', 'têm', 'aplicações', 'no', 'mundo', 'real', ',', 'enquanto', 'outras', 'servem', 'mais', 'frequentemente', 'como', 'tarefas', 'secundárias', 'que', 'são', 'usadas', 'para', 'auxiliar', 'na', 'resolução', 'de', 'tarefas', 'maiores', '.', 'O', 'que', 'distingue', 'essas', 'tarefas', 'de', 'outras', 'tarefas', 'potenciais', 'e', 'reais', 'de', 'PLN', 'não', 'é', 'apenas', 'o', 'volume', 'de', 'pesquisa', 'dedicado', 'a', 'elas', ',', 'mas', 'o', 'fato', 'de', 'que', 'para', 'cada', 'uma', 'há', 'tipicamente', 'uma', 'definição', 'de', 'problema', 'bem', 'especificada', ',', 'uma', 'métrica', 'padrão', 'para', 'avaliar', 'a', 'tarefa', ',', 'corpora', 'padrão', 'em', 'que', 'a', 'tarefa', 'pode', 'ser', 'avaliada', 'e', 'as', 'competições', 'dedicadas', 'à', 'tarefa', 'específica', '.', 'Sumarização', 'automática', 'Produz', 'um', 'resumo', 'legível', 'de', 'uma', 'parte', 'do', 'texto', '.', 'Muitas', 'vezes', 'usado', 'para', 'fornecer', 'resumos', 'de', 'texto', 'de', 'um', 'tipo', 'conhecido', ',', 'como', 'artigos', 'na', 'seção', 'financeira', 'de', 'um', 'jornal', '.', 'Resolução', 'de', 'correferência', 'Dada', 'uma', 'frase', 'ou', 'um', 'pedaço', 'maior', 'de', 'texto', ',', 'determina', 'quais', 'palavras', '(', '\"', 'menções', '\"', ')', 'se', 'referem', 'aos', 'mesmos', 'objetos', '(', '\"', 'entidades', '\"', ')', '.', 'A', 'resolução', 'da', 'anáfora', 'é', 'um', 'exemplo', 'específico', 'dessa', 'tarefa', 'e', 'está', 'especificamente', 'preocupada', 'em', 'combinar', 'os', 'pronomes', 'com', 'os', 'substantivos', 'ou', 'nomes', 'aos', 'quais', 'eles', 'se', 'referem', '.', 'A', 'tarefa', 'mais', 'geral', 'da', 'resolução', 'de', 'correferência', 'também', 'inclui', 'a', 'identificação', 'dos', 'chamados', '\"', 'relacionamentos', 'de', 'ponte', '\"', 'envolvendo', 'expressões', 'de', 'referência', '.', 'Por', 'exemplo', ',', 'numa', 'frase', 'como', '\"', 'Ele', 'entrou', 'na', 'casa', 'de', 'João', 'pela', 'porta', 'da', 'frente', '\"', ',', '\"', 'a', 'porta', 'da', 'frente', '\"', 'é', 'uma', 'expressão', 'de', 'referência', 'e', 'a', 'relação', 'da', 'ponte', 'a', 'ser', 'identificada', 'é', 'o', 'fato', 'de', 'que', 'a', 'porta', 'a', 'ser', 'referida', 'é', 'a', 'porta', 'da', 'frente', 'de', \"John's\", '(', 'ao', 'invés', 'de', 'alguma', 'outra', 'estrutura', 'que', 'também', 'pode', 'ser', 'referida', ')', '.', 'Análise', 'do', 'Discurso', 'Esta', 'rubrica', 'inclui', 'uma', 'série', 'de', 'tarefas', 'relacionadas', '.', 'Uma', 'tarefa', 'é', 'identificar', 'a', 'estrutura', 'discursiva', 'do', 'texto', 'conectado', ',', 'isto', 'é', ',', 'a', 'natureza', 'das', 'relações', 'discursivas', 'entre', 'sentenças', '(', 'por', 'exemplo', ',', 'elaboração', ',', 'explicação', ',', 'contraste', ')', '.', 'Outra', 'possível', 'tarefa', 'é', 'reconhecer', 'e', 'classificar', 'os', 'atos', 'de', 'fala', 'em', 'um', 'pedaço', 'de', 'texto', '(', 'por', 'exemplo', ',', 'pergunta', 'sim', '-', 'não', ',', 'pergunta', 'de', 'conteúdo', ',', 'frase', ',', 'afirmação', ',', 'etc', ')', '.', 'Maquina', 'de', 'tradução', 'Traduzir', 'automaticamente', 'texto', 'de', 'uma', 'linguagem', 'humana', 'para', 'outra', '.', 'Este', 'é', 'uma', 'das', 'tarefas', 'mais', 'difíceis', 'e', 'faz', 'parte', 'de', 'um', 'tipo', 'de', 'problemas', 'conhecidos', 'como', '\"', 'AI', '-', 'complete', '\"', ',', 'ou', 'seja', ',', 'exigindo', 'todos', 'os', 'diferentes', 'tipos', 'de', 'conhecimento', 'que', 'os', 'humanos', 'possuem', '(', 'gramática', ',', 'semântica', ',', 'fatos', 'sobre', 'o', 'mundo', 'real', ',', 'etc', ')', 'para', 'resolvê', '-', 'lo', 'adequadamente', '.', 'Segmentação', 'morfológica', 'Separa', 'palavras', 'em', 'morfemas', 'individuais', 'e', 'identifica', 'classes', 'de', 'morfemas', '.', 'A', 'dificuldade', 'desta', 'tarefa', 'depende', 'muito', 'da', 'complexidade', 'da', 'morfologia', '(', 'isto', 'é', ',', 'da', 'estrutura', 'das', 'palavras', ')', 'da', 'linguagem', 'que', 'está', 'sendo', 'considerada', '.', 'O', 'inglês', 'possui', 'uma', 'morfologia', 'bastante', 'simples', ',', 'especialmente', 'a', 'morfologia', 'flexional', ',', 'e', 'portanto', 'é', 'possível', 'ignorar', 'esta', 'tarefa', 'inteiramente', 'e', 'simplesmente', 'modelar', 'todas', 'as', 'formas', 'possíveis', 'de', 'uma', 'palavra', '(', 'por', 'exemplo', ',', '\"', 'open', ',', 'opens', ',', 'opened', ',', 'opening', '\"', ')', 'como', 'palavras', 'separadas', '.', 'Em', 'línguas', 'como', 'o', 'turco', 'ou', 'o', 'Meitei', ',', 'uma', 'língua', 'indiana', 'fortemente', 'aglutinada', ',', 'no', 'entanto', ',', 'tal', 'abordagem', 'não', 'é', 'possível', ',', 'uma', 'vez', 'que', 'cada', 'entrada', 'do', 'dicionário', 'tem', 'milhares', 'de', 'formas', 'de', 'palavras', 'possíveis', '.', 'Reconhecimento', 'de', 'entidade', 'nomeada', '(', 'NER', ')', 'Dado', 'um', 'fluxo', 'de', 'texto', ',', 'determina', 'quais', 'são', 'itens', 'no', 'mapa', 'de', 'texto', 'para', 'nomes', 'próprios', ',', 'como', 'pessoas', 'ou', 'locais', 'e', 'qual', 'é', 'o', 'tipo', 'de', 'cada', 'nome', '(', 'por', 'exemplo', ',', 'pessoa', ',', 'local', ',', 'organização', ')', '.', 'Embora', 'a', 'capitalização', 'possa', 'ajudar', 'a', 'reconhecer', 'entidades', 'nomeadas', 'em', 'idiomas', 'como', 'o', 'inglês', ',', 'essas', 'informações', 'podem', 'não', 'ajudar', 'a', 'determinar', 'o', 'tipo', 'de', 'entidade', 'nomeada', 'e', ',', 'em', 'alguns', 'casos', ',', 'sãos', 'imprecisas', 'ou', 'insuficientes', '.', 'Por', 'exemplo', ',', 'a', 'primeira', 'palavra', 'de', 'uma', 'frase', 'também', 'é', 'capitalizada', 'e', 'as', 'entidades', 'nomeadas', 'muitas', 'vezes', 'abrangem', 'várias', 'palavras', ',', 'com', 'apenas', 'algumas', 'delas', 'são', 'capitalizadas', '.', 'Além', 'disso', ',', 'muitas', 'outras', 'linguagens', 'em', 'scripts', 'não', '-', 'ocidentais', '(', 'por', 'exemplo', ',', 'chinês', 'ou', 'árabe', ')', 'não', 'têm', 'nenhuma', 'capitalização', 'e', 'mesmo', 'as', 'línguas', 'com', 'maiúsculas', 'podem', 'não', 'distinguir', 'nomes', '.', 'Por', 'exemplo', ',', 'o', 'alemão', 'capitaliza', 'todos', 'os', 'substantivos', ',', 'independentemente', 'de', 'se', 'referirem', 'a', 'nomes', ',', 'e', 'o', 'francês', 'e', 'o', 'espanhol', 'não', 'capitalizam', 'nomes', 'que', 'servem', 'como', 'adjetivos', '.', 'Geração', 'de', 'língua', 'natural', 'Converte', 'informações', 'de', 'bancos', 'de', 'dados', 'de', 'computador', 'ou', 'intenções', 'semânticas', 'em', 'linguagem', 'humana', 'legível', '.', 'Compreensão', 'da', 'língua', 'natural', 'Converte', 'pedaços', 'de', 'texto', 'em', 'representações', 'mais', 'formais', ',', 'como', 'estruturas', 'de', 'lógica', 'de', 'primeira', 'ordem', ',', 'que', 'são', 'mais', 'fáceis', 'de', 'manipular', 'pelos', 'programas', 'de', 'computador', '.', 'A', 'compreensão', 'da', 'língua', 'natural', 'envolve', 'a', 'identificação', 'da', 'semântica', 'pretendida', 'a', 'partir', 'da', 'múltipla', 'semântica', 'possível', 'que', 'pode', 'ser', 'derivada', 'de', 'uma', 'expressão', 'de', 'língua', 'natural', 'que', 'geralmente', 'toma', 'a', 'forma', 'de', 'notação', 'organizada', 'de', 'conceitos', 'de', 'linguagens', 'naturais', '.', 'Entretanto', ',', 'introdução', 'e', 'criação', 'de', 'linguagem', 'metamodelo', 'e', 'ontologia', 'são', 'eficientes', 'soluções', 'empíricas', '.', 'Uma', 'formalização', 'explícita', 'da', 'semântica', 'de', 'línguas', 'naturais', 'sem', 'confusões', 'com', 'suposições', 'implícitas', 'como', 'closed', '-', 'world', 'assumption', '(', 'CWA', ')', 'versus', 'open', '-', 'world', 'assumption', 'ou', 'subjetiva', 'Sim', '/', 'Não', 'versus', 'objetivo', 'Verdadeiro', '/', 'Falso', 'é', 'esperada', 'para', 'a', 'construção', 'de', 'uma', 'base', 'de', 'formalização', 'semântica', '.', 'Reconhecimento', 'óptico', 'de', 'caracteres', '(', 'OCR', ')', 'Dada', 'uma', 'imagem', 'que', 'representa', 'o', 'texto', 'impresso', ',', 'determina', 'o', 'texto', 'correspondente', '.', 'Marcação', 'de', 'classe', 'gramatical', 'Dada', 'uma', 'sentença', ',', 'determina', 'a', 'classe', 'gramatical', 'de', 'cada', 'palavra', '.', 'Muitas', 'palavras', ',', 'especialmente', 'as', 'comuns', ',', 'podem', 'servir', 'como', 'múltiplas', 'partes', 'do', 'discurso', '.', 'Em', 'inglês', ',', 'por', 'exemplo', ',', '\"', 'book', '\"', 'pode', 'ser', 'um', 'substantivo', '(', '\"', 'the', 'book', 'on', 'the', 'table', '\"', ')', 'ou', 'verbo', '(', '\"', 'book', 'a', 'flight', '\"', ')', ';', '\"', 'Set', '\"', 'pode', 'ser', 'um', 'substantivo', ',', 'verbo', 'ou', 'adjetivo', ';', 'E', '\"', 'out', '\"', 'pode', 'ser', 'qualquer', 'um', 'de', 'pelo', 'menos', 'cinco', 'diferentes', 'partes', 'da', 'fala', '.', 'Algumas', 'línguas', 'têm', 'mais', 'ambiguidade', 'do', 'que', 'outras', '.', 'As', 'línguas', 'com', 'pouca', 'morfologia', 'flexional', ',', 'como', 'o', 'inglês', ',', 'são', 'particularmente', 'propensas', 'a', 'tal', 'ambiguidade', '.', 'O', 'chinês', 'é', 'propenso', 'a', 'tal', 'ambiguidade', 'porque', 'é', 'uma', 'língua', 'tonal', 'durante', 'a', 'verbalização', '.', 'Tal', 'inflexão', 'não', 'é', 'facilmente', 'transmitida', 'através', 'das', 'entidades', 'empregadas', 'dentro', 'da', 'ortografia', 'para', 'transmitir', 'o', 'significado', 'pretendido', '.', 'Análise', 'sintática', '(', 'Parsing', ')', 'Determina', 'a', 'árvore', 'de', 'análise', '(', 'análise', 'gramatical', ')', 'de', 'uma', 'frase', '.', 'A', 'gramática', 'para', 'as', 'linguagens', 'naturais', 'é', 'ambígua', 'e', 'frases', 'típicas', 'têm', 'múltiplas', 'análises', 'possíveis', '.', 'Na', 'verdade', ',', 'surpreendentemente', ',', 'para', 'uma', 'frase', 'típica', 'pode', 'haver', 'milhares', 'de', 'análises', 'em', 'potencial', '(', 'a', 'maioria', 'dos', 'quais', 'parecerá', 'completamente', 'absurda', 'para', 'um', 'ser', 'humano', ')', '.', 'Respostas', 'a', 'perguntas', 'Dada', 'uma', 'questão', 'de', 'linguagem', 'humana', ',', 'determina', 'sua', 'resposta', '.', 'As', 'perguntas', 'típicas', 'têm', 'uma', 'resposta', 'correta', 'específica', '(', 'como', '\"', 'Qual', 'é', 'o', 'capital', 'do', 'Canadá', '?', '\"', ')', ',', 'mas', 'às', 'vezes', 'perguntas', 'abertas', 'também', 'são', 'consideradas', '(', 'como', '\"', 'Qual', 'é', 'o', 'significado', 'da', 'vida', '?', '\"', ')', '.', 'Trabalhos', 'recentes', 'têm', 'analisado', 'questões', 'ainda', 'mais', 'complexas', '.', 'Extração', 'de', 'relacionamento', 'Identifica', 'as', 'relações', 'entre', 'entidades', 'nomeadas', '(', 'por', 'exemplo', ',', 'quem', 'é', 'casado', 'com', 'quem', ')', 'com', 'base', 'em', 'textos', '.', 'Quebra', 'de', 'frases', '(', 'sentence', 'boundary', 'disambiguation', ')', 'Encontra', 'os', 'limites', 'da', 'frase', 'em', 'um', 'pedaço', 'de', 'texto', '.', 'Os', 'limites', 'de', 'frases', 'são', 'normalmente', 'marcadas', 'por', 'pontos', 'ou', 'outros', 'sinais', 'de', 'pontuação', ',', 'mas', 'esses', 'mesmos', 'caracteres', 'podem', 'servir', 'outros', 'propósitos', '.', 'Análise', 'de', 'subjetividade', '(', 'sentiment', 'analysis', 'ou', 'opinion', 'mining', ')', 'Extrai', 'informações', 'subjetivas', 'geralmente', 'de', 'um', 'conjunto', 'de', 'documentos', ',', 'muitas', 'vezes', 'usando', 'revisões', 'online', 'para', 'determinar', 'a', '\"', 'polaridade', '\"', 'sobre', 'objetos', 'específicos', '.', 'É', 'especialmente', 'útil', 'para', 'identificar', 'tendências', 'da', 'opinião', 'pública', 'nas', 'mídias', 'sociais', ',', 'para', 'fins', 'de', 'marketing', '.', 'Reconhecimento', 'de', 'fala', 'Dado', 'um', 'clipe', 'de', 'som', 'de', 'uma', 'pessoa', 'ou', 'pessoas', 'falando', ',', 'determina', 'a', 'representação', 'textual', 'do', 'discurso', '.', 'É', 'o', 'oposto', 'da', 'síntese', 'de', 'fala', 'e', 'é', 'uma', 'das', 'áreas', 'mais', 'difíceis', ',', 'conhecida', 'como', '\"', 'AI', '-', 'complete', '\"', '.', 'Na', 'fala', 'natural', 'quase', 'não', 'há', 'pausas', 'entre', 'palavras', 'sucessivas', ',', 'por', 'isso', 'a', 'segmentação', 'de', 'fala', 'é', 'uma', 'subtarefa', 'necessária', 'de', 'reconhecimento', 'de', 'fala', '.', 'Nota', '-', 'se', 'também', 'que', ',', 'na', 'maioria', 'das', 'linguagens', 'faladas', ',', 'os', 'sons', 'que', 'representam', 'letras', 'sucessivas', 'se', 'misturam', 'entre', 'si', 'em', 'um', 'processo', 'denominado', 'coarticulação', ',', 'de', 'modo', 'que', 'a', 'conversão', 'do', 'sinal', 'analógico', 'em', 'caracteres', 'discretos', 'pode', 'ser', 'um', 'processo', 'muito', 'difícil', 'de', 'ser', 'realizado', '.', 'Segmentação', 'de', 'fala', 'Dado', 'um', 'clipe', 'de', 'som', 'de', 'uma', 'pessoa', 'ou', 'pessoas', 'falando', ',', 'separa', '-', 'o', 'em', 'palavras', '.', 'Uma', 'subaplicação', 'de', 'reconhecimento', 'de', 'fala', 'e', 'normalmente', 'agrupada', 'com', 'ele', '.', 'Análise', 'morfológica', 'e', 'reconhecimento', 'de', 'tópicos', 'Dado', 'um', 'pedaço', 'de', 'texto', ',', 'separa', '-', 'o', 'em', 'segmentos', 'cada', 'um', 'dos', 'quais', 'é', 'dedicado', 'a', 'um', 'tópico', 'e', 'identifica', 'o', 'tópico', 'do', 'segmento', '.', 'Análise', 'morfológica', 'e', 'segmentação', 'de', 'palavras', 'Separa', 'um', 'pedaço', 'de', 'texto', 'contínuo', 'em', 'palavras', 'separadas', '.', 'Para', 'uma', 'língua', 'como', 'o', 'inglês', ',', 'isso', 'é', 'bastante', 'trivial', ',', 'uma', 'vez', 'que', 'as', 'palavras', 'são', 'normalmente', 'separadas', 'por', 'espaços', '.', 'No', 'entanto', ',', 'algumas', 'línguas', 'escritas', 'como', 'chinês', ',', 'japonês', 'e', 'tailandês', 'não', 'marcam', 'limites', 'de', 'palavras', 'de', 'tal', 'forma', ',', 'e', 'nessas', 'línguas', 'segmentação', 'de', 'texto', 'é', 'uma', 'tarefa', 'significativa', 'que', 'requer', 'conhecimento', 'do', 'vocabulário', 'e', 'morfologia', 'das', 'palavras', 'na', 'língua', '.', 'Desambiguação', 'Muitas', 'palavras', 'têm', 'mais', 'de', 'um', 'significado', ',', 'assim', 'temos', 'que', 'selecionar', 'o', 'significado', 'que', 'faz', 'mais', 'sentido', 'no', 'contexto', '.', 'Para', 'este', 'problema', ',', 'em', 'geral', 'é', 'dada', 'uma', 'lista', 'de', 'palavras', 'e', 'sentidos', 'de', 'palavras', 'associadas', 'de', 'um', 'dicionário', 'ou', 'recurso', 'online', ',', 'como', 'o', 'WordNet', '.', 'Em', 'alguns', 'casos', ',', 'conjuntos', 'de', 'tarefas', 'relacionadas', 'são', 'agrupados', 'em', 'subcampos', 'de', 'PLN', 'que', 'são', 'frequentemente', 'considerados', 'separadamente', 'da', 'PLN', 'como', 'um', 'todo', ',', 'como', 'os', 'exemplos', 'à', 'seguir', ':', 'Recuperação', 'de', 'informação', '(', 'IR', ')', 'Trata', '-', 'se', 'de', 'armazenar', ',', 'pesquisar', 'e', 'recuperar', 'informações', '.', 'É', 'um', 'campo', 'separado', 'dentro', 'da', 'ciência', 'da', 'computação', '(', 'mais', 'perto', 'de', 'bancos', 'de', 'dados', ')', ',', 'mas', 'a', 'IR', 'se', 'baseia', 'em', 'alguns', 'métodos', 'PLN', '(', 'por', 'exemplo', ',', 'stemming', ')', '.', 'Algumas', 'pesquisas', 'e', 'aplicações', 'atuais', 'procuram', 'preencher', 'a', 'lacuna', 'entre', 'IR', 'e', 'PLN', '.', 'Extração', 'de', 'informação', '(', 'IE', ')', 'Trata', '-', 'se', ',', 'em', 'geral', ',', 'da', 'extração', 'de', 'informação', 'semântica', 'a', 'partir', 'do', 'texto', '.', 'Abrange', 'tarefas', 'como', 'reconhecimento', 'de', 'entidade', 'mencionada', ',', 'resolução', 'de', 'correferência', 'e', 'de', 'relacionamento', 'de', 'extração', ',', 'etc', '.', 'Processamento', 'de', 'voz', 'Abrange', 'reconhecimento', 'de', 'fala', ',', 'síntese', 'de', 'fala', 'e', 'tarefas', 'relacionadas', '.', 'Outras', 'tarefas', 'incluem', ':', 'Identificação', 'na', 'língua', 'materna', 'Stemização', 'Simplificação', 'do', 'texto', 'Síntese', 'de', 'fala', 'Revisão', 'de', 'texto', 'Pesquisa', 'em', 'língua', 'natural', 'Expansão', 'da', 'consulta', 'Pontuação', 'de', 'ensaio', 'automatizado', 'Truecasing', '=', '=', 'Estatística', '=', '=', 'Artigo', 'principal', ':', 'Gramática', 'estocástica', 'O', 'processamento', 'estatístico', 'em', 'língua', 'natural', 'utiliza', 'métodos', 'estocásticos', ',', 'probabilísticos', 'e', 'estatísticos', 'para', 'resolver', 'algumas', 'das', 'dificuldades', 'discutidas', 'acima', ',', 'especialmente', 'aquelas', 'que', 'surgem', 'porque', 'frases', 'mais', 'longas', 'são', 'muito', 'ambíguas', 'quando', 'processadas', 'com', 'gramáticas', 'realistas', ',', 'produzindo', 'milhares', 'ou', 'milhões', 'de', 'análises', 'possíveis', '.', 'Métodos', 'de', 'desambiguação', 'envolvem', 'muitas', 'vezes', 'o', 'uso', 'de', 'corpora', 'e', 'modelos', 'de', 'Markov', '.', 'O', 'projeto', 'ESPRIT', 'P26', '(', '1984', '-', '1988', ')', ',', 'liderado', 'pelo', 'CSELT', ',', 'explorou', 'o', 'problema', 'do', 'reconhecimento', 'de', 'fala', 'comparando', 'abordagem', 'baseada', 'em', 'conhecimento', 'e', 'estatística', ':', 'o', 'resultado', 'escolhido', 'foi', 'um', 'modelo', 'completamente', 'estatístico', '.', 'Um', 'dos', 'primeiros', 'modelos', 'de', 'compreensão', 'estatística', 'da', 'língua', 'natural', 'foi', 'introduzido', 'em', '1991', 'por', 'Roberto', 'Pieraccini', ',', 'Esther', 'Levin', 'e', 'Chin', '-', 'Hui', 'Lee', ',', 'da', 'Bell', 'Laboratories', ']', '.', 'O', 'PLN', 'compreende', 'todas', 'as', 'abordagens', 'quantitativas', 'para', 'processamento', 'automatizado', 'de', 'linguagem', ',', 'incluindo', 'modelagem', 'probabilística', ',', 'teoria', 'da', 'informação', 'e', 'álgebra', 'linear', '.', 'A', 'tecnologia', 'para', 'o', 'PLN', 'estatístico', 'vem', 'principalmente', 'da', 'aprendizagem', 'automática', 'e', 'da', 'mineração', 'de', 'dados', ',', 'que', 'são', 'campos', 'de', 'inteligência', 'artificial', 'que', 'envolvem', 'o', 'aprendizado', 'a', 'partir', 'de', 'dados', '.', '=', '=', 'Avaliação', '=', '=', 'O', 'objetivo', 'da', 'avaliação', 'do', 'PLN', 'é', 'uma', 'medida', 'de', 'uma', 'ou', 'mais', 'qualidades', 'de', 'um', 'algoritmo', 'ou', 'de', 'um', 'sistema', 'a', 'fim', 'de', 'determinar', 'se', 'o', 'algoritmo', 'atende', 'às', 'metas', 'dos', 'projetistas', 'ou', 'o', 'sistema', 'de', 'atendimento', 'às', 'necessidades', 'de', 'seus', 'usuários', '.', 'Investigação', 'na', 'avaliação', 'PLN', 'tem', 'ganhado', 'atenção', ',', 'porque', 'a', 'definição', 'de', 'critérios', 'de', 'avaliação', 'é', 'uma', 'forma', 'de', 'especificar', 'precisamente', 'problemas', 'do', 'PLN', '.', 'Uma', 'métrica', 'de', 'avaliação', 'de', 'PLN', 'em', 'um', 'sistema', 'algorítmico', 'permite', 'a', 'integração', 'da', 'compreensão', 'de', 'linguagem', 'e', 'geração', 'de', 'linguagem', '.', 'Um', 'conjunto', 'preciso', 'de', 'critérios', 'de', 'avaliação', ',', 'que', 'pode', 'ser', 'aplicado', 'principalmente', 'a', 'avaliações', 'métricas', ',', 'podendo', 'permitir', 'que', 'várias', 'equipes', 'comparem', 'suas', 'soluções', 'para', 'um', 'determinado', 'problema', 'do', 'PLN', '.', '=', '=', 'Cronologia', 'da', 'avaliação', '=', '=', 'Em', '1983', ',', 'iniciou', '-', 'se', 'o', 'Projecto', 'Esprit', 'P26', ',', 'que', 'avaliou', 'as', 'Tecnologias', 'da', 'Fala', '(', 'incluindo', 'tópicos', 'gerais', 'como', 'Sintaxe', 'e', 'Semântica', ')', 'comparando', 'as', 'abordagens', 'baseadas', 'em', 'regras', 'com', 'as', 'estatísticas', '.', 'Em', '1987', ',', 'a', 'primeira', 'campanha', 'de', 'avaliação', 'de', 'textos', 'escritos', 'parece', 'ser', 'uma', 'campanha', 'dedicada', 'à', 'compreensão', 'da', 'mensagem', '(', 'Pallet', ',', '1998', ')', '.', 'O', 'projeto', 'Parseval', '/', 'GEIG', 'comparou', 'gramáticas', 'de', 'frase', '-', 'estrutura', '(', 'Black', '1991', ')', '.', 'Houve', 'uma', 'série', 'de', 'campanhas', 'no', 'projeto', 'Tipster', 'sobre', 'tarefas', 'como', 'resumo', ',', 'tradução', 'e', 'pesquisa', '(', 'Hirschman', '1998', ')', '.', 'Em', '1994', ',', 'na', 'Alemanha', ',', 'o', 'Morpholympics', 'comparou', 'marcadores', 'morfológicos', 'alemães', '.', 'As', 'campanhas', 'de', 'Senseval', '&', 'Romanseval', 'foram', 'realizadas', 'com', 'os', 'objetivos', 'de', 'desambiguação', 'semântica', '.', 'Em', '1996', ',', 'a', 'campanha', 'Sparkle', 'comparou', 'os', 'analisadores', 'sintáticos', 'em', 'quatro', 'idiomas', 'diferentes', '(', 'inglês', ',', 'francês', ',', 'alemão', 'e', 'italiano', ')', '.', 'Na', 'França', ',', 'o', 'projeto', 'Grace', 'comparou', 'um', 'conjunto', 'de', '21', 'marcadores', 'para', 'o', 'francês', 'em', '1997', '(', 'Adda', '1999', ')', '.', 'Em', '2004', ',', 'durante', 'o', 'projeto', 'Technolangue', '/', 'Easy', ',', 'foram', 'comparados', '13', 'analisadores', 'para', 'o', 'francês', '.', 'A', 'avaliação', 'em', 'larga', 'escala', 'dos', 'analisadores', 'de', 'dependência', 'foi', 'realizada', 'no', 'contexto', 'das', 'tarefas', 'compartilhadas', 'do', 'CoNLL', 'em', '2006', 'e', '2007', '.', 'Na', 'França', ',', 'no', 'âmbito', 'do', 'projecto', 'ANR', '-', 'Passage', '(', 'final', 'de', '2007', ')', ',', 'foram', 'comparados', '10', 'analisadores', 'para', 'o', 'francês', '.', 'Em', 'Itália', ',', 'a', 'campanha', 'EVALITA', 'foi', 'realizada', 'em', '2007', ',', '2009', ',', '2011', 'e', '2014', 'para', 'comparar', 'várias', 'ferramentas', 'de', 'PLN', 'e', 'de', 'voz', 'para', 'o', 'site', 'italiano', '-', 'EVALITA', '.', '=', '=', 'Diferentes', 'tipos', 'de', 'avaliação', '=', '=', 'Avaliação', 'intrínseca', 'vs', '.', 'extrínseca', 'A', 'avaliação', 'intrínseca', 'considera', 'um', 'sistema', 'PNL', 'isolado', 'e', 'caracteriza', 'seu', 'desempenho', 'em', 'relação', 'a', 'um', 'resultado', 'padrão', '-', 'excelência', ',', 'conforme', 'definido', 'pelos', 'avaliadores', '.', 'A', 'avaliação', 'extrínseca', ',', 'também', 'chamada', 'de', 'avaliação', 'em', 'uso', ',', 'considera', 'o', 'sistema', 'PLN', 'em', 'um', 'cenário', 'mais', 'complexo', 'como', 'um', 'sistema', 'embutido', 'ou', 'uma', 'função', 'precisa', 'para', 'um', 'usuário', 'humano', '.', 'O', 'desempenho', 'extrínseco', 'do', 'sistema', 'é', 'então', 'caracterizado', 'em', 'termos', 'de', 'utilidade', 'em', 'relação', 'à', 'tarefa', 'global', 'do', 'sistema', 'estranho', 'ou', 'do', 'utilizador', 'humano', '.', 'Por', 'exemplo', ',', 'considere', 'um', 'analisador', 'sintático', 'que', 'é', 'baseado', 'na', 'saída', 'de', 'alguma', 'parte', 'do', 'tagger', 'de', 'fala', '(', 'POS', ')', '.', 'Uma', 'avaliação', 'intrínseca', 'executaria', 'o', 'marcador', 'POS', 'em', 'dados', 'estruturados', 'e', 'compararia', 'a', 'saída', 'do', 'sistema', 'do', 'marcador', 'POS', 'com', 'a', 'saída', 'padrão', 'ouro', '.', 'Uma', 'avaliação', 'extrínseca', 'executaria', 'o', 'analisador', 'com', 'algum', 'outro', 'marcador', 'POS', 'e', ',', 'em', 'seguida', ',', 'com', 'o', 'marcador', 'POS', 'novo', 'e', 'compara', 'a', 'precisão', 'de', 'análise', '.', 'Caixa', 'preta', 'vs', '.', 'Avaliação', 'da', 'caixa', 'de', 'vidro', 'A', 'avaliação', 'em', 'caixa', 'preta', 'requer', 'que', 'alguém', 'execute', 'um', 'sistema', 'PLN', 'em', 'um', 'conjunto', 'de', 'dados', 'de', 'amostra', 'e', 'para', 'medir', 'uma', 'série', 'de', 'parâmetros', 'relacionados', 'com', 'a', 'qualidade', 'do', 'processo', ',', 'como', 'velocidade', ',', 'confiabilidade', ',', 'consumo', 'de', 'recursos', 'e', ',', 'principalmente', ',', 'a', 'qualidade', 'do', 'resultado', ',', 'como', 'a', 'precisão', 'da', 'anotação', 'de', 'dados', 'ou', 'a', 'fidelidade', 'de', 'uma', 'tradução', '.', 'A', 'avaliação', 'da', 'caixa', 'de', 'vidro', 'examina', 'a', 'concepção', 'do', 'sistema', ';', 'Os', 'algoritmos', 'que', 'são', 'implementados', ',', 'os', 'recursos', 'linguísticos', 'que', 'utiliza', ',', 'como', 'o', 'tamanho', 'do', 'vocabulário', 'ou', 'a', 'expressão', 'definida', 'de', 'cardinalidade', '.', 'Dada', 'a', 'complexidade', 'dos', 'problemas', 'da', 'PLN', ',', 'muitas', 'vezes', 'é', 'difícil', 'prever', 'o', 'desempenho', 'apenas', 'com', 'base', 'na', 'avaliação', 'da', 'caixa', 'de', 'vidro', ';', 'Mas', 'este', 'tipo', 'de', 'avaliação', 'é', 'mais', 'informativo', 'no', 'que', 'diz', 'respeito', 'à', 'análise', 'de', 'erros', 'ou', 'desenvolvimentos', 'futuros', 'de', 'um', 'sistema', '.', 'Automática', 'vs', '.', 'avaliação', 'manual', 'Em', 'muitos', 'casos', ',', 'procedimentos', 'automáticos', 'podem', 'ser', 'definidos', 'para', 'avaliar', 'um', 'sistema', 'de', 'PLN', ',', 'comparando', 'sua', 'saída', 'com', 'o', 'padrão', 'de', 'excelência', '.', 'Embora', 'o', 'custo', 'de', 'reproduzir', 'o', 'padrão', 'de', 'excelência', 'possa', 'ser', 'bastante', 'elevado', ',', 'avaliação', 'automática', 'de', 'bootstrapping', 'sobre', 'os', 'mesmos', 'dados', 'de', 'entrada', 'pode', 'ser', 'repetida', 'quantas', 'vezes', 'for', 'necessário', 'sem', 'custos', 'adicionais', 'desordenados', '.', 'No', 'entanto', ',', 'para', 'muitos', 'problemas', 'de', 'PLN', 'a', 'definição', 'precisa', 'de', 'um', 'padrão', 'de', 'excelência', 'é', 'uma', 'tarefa', 'complexa', 'e', 'pode', 'se', 'revelar', 'impossível', 'quando', 'o', 'acordo', 'inter', '-', 'anotador', 'é', 'insuficiente', '.', 'A', 'avaliação', 'manual', 'é', 'melhor', 'realizada', 'por', 'juízes', 'humanos', 'instruídos', 'para', 'estimar', 'a', 'qualidade', 'de', 'um', 'sistema', ',', 'ou', 'mais', 'frequentemente', 'de', 'uma', 'amostra', 'de', 'sua', 'produção', ',', 'com', 'base', 'em', 'uma', 'série', 'de', 'critérios', '.', 'Embora', ',', 'graças', 'à', 'sua', 'competência', 'linguística', ',', 'os', 'juízes', 'humanos', 'possam', 'ser', 'considerados', 'como', 'a', 'referência', 'para', 'uma', 'série', 'de', 'tarefas', 'de', 'processamento', 'de', 'linguagem', ',', 'há', 'também', 'uma', 'variação', 'considerável', 'em', 'suas', 'classificações', '.', 'É', 'por', 'isso', 'que', 'a', 'avaliação', 'automática', 'é', ',', 'por', 'vezes', ',', 'referida', 'como', 'avaliação', 'objetiva', 'enquanto', 'a', 'avaliação', 'humana', 'é', 'perspectiva', '.', '=', '=', 'Padronização', '=', '=', 'Um', 'subcomitê', 'ISO', 'está', 'trabalhando', 'para', 'facilitar', 'a', 'interoperabilidade', 'entre', 'recursos', 'lexicais', 'e', 'programas', 'PLN', '.', 'O', 'subcomitê', 'faz', 'parte', 'do', 'ISO', '/', 'TC37', 'e', 'é', 'chamado', 'ISO', '/', 'TC37', '/', 'SC4', '.', 'Alguns', 'padrões', 'ISO', 'já', 'estão', 'publicados', ',', 'mas', 'a', 'maioria', 'deles', 'está', 'em', 'construção', ',', 'principalmente', 'na', 'representação', 'de', 'léxico', '(', 'ver', 'LMF', ')', ',', 'anotação', 'e', 'registro', 'de', 'categoria', 'de', 'dados', '.', '=', '=', 'Ferramentas', '=', '=', 'Expert', 'System', 'S', '.', 'p', '.', 'A', '.', 'General', 'Architecture', 'for', 'Text', 'Engineering', 'Modular', 'Audio', 'Recognition', 'Framework', 'Natural', 'Language', 'Toolkit', '(', 'NLTK', ')', ':', 'uma', 'biblioteca', 'em', 'Python', 'OpenNLP', '=', '=', 'Veja', 'também', '=', '=', 'Mineração', 'de', 'texto', 'biomédica', 'Processo', 'de', 'processamento', 'composto', 'Revisão', 'assistida', 'por', 'computador', 'Linguagem', 'natural', 'controlada', 'Processamento', 'linguístico', 'profundo', 'Auxílio', 'à', 'leitura', 'de', 'línguas', 'estrangeiras', 'Auxílio', 'à', 'escrita', 'em', 'língua', 'estrangeira', 'Tecnologia', 'da', 'linguagem', 'A', 'alocação', 'de', 'Dirichlet', 'Latente', '(', 'LDA', ')', 'Indexação', 'semântica', 'latente', 'Lista', 'de', 'ferramentas', 'de', 'processamento', 'de', 'língua', 'natural', 'Mapa', 'de', 'LRE', 'Programação', 'em', 'língua', 'natural', 'Reificação', '(', 'linguística', ')', 'Dobradura', 'semântica', 'Sistema', 'de', 'diálogo', 'falado', 'Vetor', 'do', 'Pensamento', 'Pesquisa', 'Transderivacional', 'Word2vec', '=', '=', 'Referências', '=', '=', '=', '=', 'Leitura', 'adicional', '=', '=', 'Steven', 'Bird', ',', 'Ewan', 'Klein', ',', 'and', 'Edward', 'Loper', '(', '2009', ')', '.', 'Natural', 'Language', 'Processing', 'with', 'Python', '.', \"O'Reilly\", 'Media', '.', 'ISBN', '978', '-', '0', '-', '596', '-', '51649', '-', '9', '.', 'Daniel', 'Jurafsky', 'and', 'James', 'H', '.', 'Martin', '(', '2008', ')', '.', 'Speech', 'and', 'Language', 'Processing', ',', '2nd', 'edition', '.', 'Pearson', 'Prentice', 'Hall', '.', 'ISBN', '978', '-', '0', '-', '13', '-', '187321', '-', '6', '.', 'Christopher', 'D', '.', 'Manning', ',', 'Prabhakar', 'Raghavan', ',', 'and', 'Hinrich', 'Schütze', '(', '2008', ')', '.', 'Introduction', 'to', 'Information', 'Retrieval', '.', 'Cambridge', 'University', 'Press', '.', 'ISBN', '978', '-', '0', '-', '521', '-', '86571', '-', '5', '.', 'Official', 'html', 'and', 'pdf', 'versions', 'available', 'without', 'charge', '.', 'Christopher', 'D', '.', 'Manning', 'and', 'Hinrich', 'Schütze', '(', '1999', ')', '.', 'Foundations', 'of', 'Statistical', 'Natural', 'Language', 'Processing', '.', 'The', 'MIT', 'Press', '.', 'ISBN', '978', '-', '0', '-', '262', '-', '13360', '-', '9', '.', 'David', 'M', '.', 'W', '.', 'Powers', 'and', 'Christopher', 'C', '.', 'R', '.', 'Turk', '(', '1989', ')', '.', 'Machine', 'Learning', 'of', 'Natural', 'Language', '.', 'Springer', '-', 'Verlag', '.', 'ISBN', '978', '-', '0', '-', '387', '-', '19557', '-', '5', '.']\n"
          ]
        }
      ]
    },
    {
      "cell_type": "markdown",
      "metadata": {
        "id": "GWrk8Rm0U2eS"
      },
      "source": [
        "### NLTK\n",
        "\n",
        "3. Faça utilizando o método abaixo.\n",
        "<b> Não esqueça de armazenar o resultado na variável abaixo. </b>\n",
        "\n",
        "```python\n",
        "nltk.word_tokenize(corpus, language='portuguese')\n",
        "```"
      ]
    },
    {
      "cell_type": "code",
      "metadata": {
        "id": "zHqORP70U2eT"
      },
      "source": [
        "tokens_nltk = nltk.word_tokenize(corpus, language='portuguese')"
      ],
      "execution_count": null,
      "outputs": []
    },
    {
      "cell_type": "code",
      "metadata": {
        "id": "Yv0IFwBSzTum",
        "colab": {
          "base_uri": "https://localhost:8080/"
        },
        "outputId": "c08c56a8-7033-472d-a74f-0327d32602da"
      },
      "source": [
        "#Regex\n",
        "print(len(tokens_nltk))\n",
        "print(tokens_nltk)"
      ],
      "execution_count": null,
      "outputs": [
        {
          "output_type": "stream",
          "name": "stdout",
          "text": [
            "4789\n",
            "['Processamento', 'de', 'língua', 'natural', '(', 'PLN', ')', 'é', 'uma', 'subárea', 'da', 'ciência', 'da', 'computação', ',', 'inteligência', 'artificial', 'e', 'da', 'linguística', 'que', 'estuda', 'os', 'problemas', 'da', 'geração', 'e', 'compreensão', 'automática', 'de', 'línguas', 'humanas', 'naturais', '.', 'Sistemas', 'de', 'geração', 'de', 'língua', 'natural', 'convertem', 'informação', 'de', 'bancos', 'de', 'dados', 'de', 'computadores', 'em', 'linguagem', 'compreensível', 'ao', 'ser', 'humano', 'e', 'sistemas', 'de', 'compreensão', 'de', 'língua', 'natural', 'convertem', 'ocorrências', 'de', 'linguagem', 'humana', 'em', 'representações', 'mais', 'formais', ',', 'mais', 'facilmente', 'manipuláveis', 'por', 'programas', 'de', 'computador', '.', 'Alguns', 'desafios', 'do', 'PLN', 'são', 'compreensão', 'de', 'língua', 'natural', ',', 'fazer', 'com', 'que', 'computadores', 'extraiam', 'sentido', 'de', 'linguagem', 'humana', 'ou', 'natural', 'e', 'geração', 'de', 'língua', 'natural', '.', '==', 'História', '==', 'A', 'história', 'do', 'PLN', 'começou', 'na', 'década', 'de', '1950', ',', 'quando', 'Alan', 'Turing', 'publicou', 'o', 'artigo', '``', 'Computing', 'Machinery', 'and', 'Intelligence', \"''\", ',', 'que', 'propunha', 'o', 'que', 'agora', 'é', 'chamado', 'de', 'teste', 'de', 'Turing', 'como', 'critério', 'de', 'inteligência', '.', 'Em', '1954', ',', 'a', 'experiência', 'de', 'Georgetown', 'envolveu', 'a', 'tradução', 'automática', 'de', 'mais', 'de', 'sessenta', 'frases', 'russas', 'para', 'o', 'inglês', '.', 'Os', 'autores', 'afirmaram', 'que', 'dentro', 'de', 'três', 'ou', 'cinco', 'anos', 'a', 'tradução', 'automática', 'seria', 'um', 'problema', 'resolvido', '.', 'No', 'entanto', ',', 'os', 'avanços', 'reais', 'foram', 'muito', 'mais', 'lentos', 'do', 'que', 'o', 'previsto', 'e', ',', 'após', 'o', 'relatório', 'ALPAC', 'em', '1966', ',', 'que', 'constatou', 'que', 'a', 'pesquisa', 'de', 'dez', 'anos', 'não', 'conseguiu', 'satisfazer', 'as', 'expectativas', ',', 'o', 'financiamento', 'para', 'este', 'estudo', 'em', 'tradução', 'automática', 'foi', 'reduzido', 'drasticamente', '.', 'Poucas', 'pesquisas', 'em', 'tradução', 'automática', 'foram', 'conduzidas', 'até', 'o', 'final', 'dos', 'anos', '80', ',', 'quando', 'os', 'primeiros', 'sistemas', 'estatísticos', 'de', 'tradução', 'foram', 'desenvolvidos', '.', 'Alguns', 'sistemas', 'de', 'PLN', 'bem', 'sucedidos', 'desenvolvidos', 'nos', 'anos', '60', 'foram', 'SHRDLU', ',', 'um', 'sistema', 'de', 'língua', 'natural', 'que', 'trabalhava', 'em', '``', 'blocks', 'worlds', \"''\", 'com', 'vocabulário', 'restrito', 'e', 'ELIZA', ',', 'uma', 'simulação', 'de', 'um', 'psicoterapeuta', 'escrita', 'por', 'Joseph', 'Weizenbaum', 'entre', '1964', 'e', '1966', '.', 'Usando', 'pouca', 'informação', 'sobre', 'o', 'pensamento', 'ou', 'a', 'emoção', 'humana', ',', 'ELIZA', 'criava', ',', 'em', 'alguns', 'casos', ',', 'interações', 'surpreendentemente', 'humanas', '.', 'Quando', 'o', '``', 'paciente', \"''\", 'excedia', 'a', 'base', 'de', 'conhecimento', 'do', 'programa', ',', 'ELIZA', 'fornecia', 'uma', 'resposta', 'genérica', ',', 'por', 'exemplo', ',', 'respondendo', 'a', '``', 'Minha', 'cabeça', 'dói', \"''\", 'com', '``', 'Por', 'que', 'você', 'diz', 'que', 'sua', 'cabeça', 'dói', '?', \"''\", '.', 'Durante', 'a', 'década', 'de', '1970', ',', 'muitos', 'programadores', 'começaram', 'a', 'escrever', '``', 'ontologias', 'conceituais', \"''\", ',', 'que', 'estruturaram', 'a', 'informação', 'do', 'mundo', 'real', 'em', 'dados', 'compreensíveis', 'por', 'computadores', '.', 'Exemplos', 'são', 'MARGIE', '(', 'SCHANK', ',', '1975', ')', ',', 'SAM', '(', 'CULLINGFORD', ',', '1978', ')', ',', 'PAM', '(', 'WILENSKY', ',', '1978', ')', ',', 'TaleSpin', '(', 'MEEHAN', ',', '1976', ')', ',', 'QUALM', '(', 'LEHNERT', ',', '1977', ')', ',', 'Politics', '(', 'CARBONELL', ',', '1979', ')', 'e', 'Plot', 'Units', '(', 'LEHNERT', ',', '1981', ')', '.', 'Neste', 'período', ',', 'muitos', 'chatterbots', 'foram', 'escritos', ',', 'como', 'PARRY', ',', 'Racter', 'e', 'Jabberwacky', '.', 'Até', 'a', 'década', 'de', '1980', ',', 'a', 'maioria', 'dos', 'sistemas', 'de', 'PLN', 'se', 'baseava', 'em', 'conjuntos', 'complexos', 'de', 'regras', 'manuscritas', '.', 'A', 'partir', 'do', 'final', 'dos', 'anos', '1980', ',', 'no', 'entanto', ',', 'houve', 'uma', 'revolução', 'no', 'PLN', 'com', 'a', 'introdução', 'de', 'algoritmos', 'de', 'aprendizagem', 'automática', '(', 'aprendizado', 'de', 'máquina', ')', 'para', 'o', 'processamento', 'de', 'linguagem', '.', 'Isto', 'foi', 'devido', 'tanto', 'ao', 'aumento', 'constante', 'do', 'poder', 'computacional', '(', 'ver', 'Lei', 'de', 'Moore', ')', 'quanto', 'à', 'diminuição', 'gradual', 'da', 'dominância', 'das', 'teorias', 'da', 'linguística', 'chomskyanas', '(', 'como', 'a', 'gramática', 'gerativa', ')', ',', 'cujos', 'fundamentos', 'teóricos', 'desestimularam', 'o', 'tipo', 'de', 'corpus', 'linguístico', 'que', 'está', 'subjacente', 'à', 'abordagem', 'da', 'aprendizagem', 'automática', 'ao', 'processamento', 'da', 'linguagem', '.', 'Alguns', 'dos', 'algoritmos', 'de', 'aprendizado', 'de', 'máquinas', 'mais', 'antigos', ',', 'como', 'as', 'árvores', 'de', 'decisão', ',', 'produziam', 'sistemas', 'de', 'regras', 'rígidas', 'então', 'semelhantes', 'às', 'regras', 'existentes', 'na', 'escritas', 'à', 'mão', '.', 'No', 'entanto', ',', 'a', 'marcação', 'de', 'partes', 'da', 'fala', '(', 'part-of-speech', 'tagging', ')', 'introduziu', 'o', 'uso', 'de', 'modelos', 'ocultos', 'de', 'Markov', 'para', 'o', 'PLN', 'e', ',', 'cada', 'vez', 'mais', ',', 'a', 'pesquisa', 'se', 'concentrava', 'em', 'modelos', 'estatísticos', ',', 'que', 'tomam', 'decisões', 'suaves', 'e', 'probabilísticas', 'baseadas', 'na', 'atribuição', 'de', 'pesos', 'reais', 'aos', 'recursos', 'que', 'compõem', 'dados', 'de', 'entrada', '.', 'Os', 'modelos', 'de', 'linguagem', 'de', 'cache', ',', 'sobre', 'os', 'quais', 'muitos', 'sistemas', 'de', 'reconhecimento', 'de', 'fala', 'agora', 'dependem', ',', 'são', 'exemplos', 'de', 'tais', 'modelos', 'estatísticos', '.', 'Esses', 'modelos', 'são', 'geralmente', 'mais', 'robustos', 'quando', 'dados', 'informações', 'desconhecidas', ',', 'especialmente', 'entrada', 'que', 'contém', 'erros', '(', 'como', 'é', 'muito', 'comum', 'para', 'dados', 'do', 'mundo', 'real', ')', 'e', 'produzem', 'resultados', 'mais', 'confiáveis', 'quando', 'integrados', 'em', 'sistemas', 'maiores', 'que', 'compreendem', 'múltiplas', 'tarefas', '.', 'Muitos', 'dos', 'sucessos', 'iniciais', 'notáveis', 'ocorreram', 'no', 'campo', 'da', 'tradução', 'automática', ',', 'devido', 'especialmente', 'ao', 'trabalho', 'de', 'pesquisa', 'da', 'IBM', ',', 'que', 'desenvolveu', 'modelos', 'estatísticos', 'mais', 'elaborados', '.', 'Estes', 'sistemas', 'foram', 'capazes', 'de', 'tirar', 'proveito', 'de', 'corpora', 'textuais', 'multilíngues', 'existentes', 'produzidos', 'pelo', 'Parlamento', 'do', 'Canadá', 'e', 'a', 'União', 'Europeia', 'como', 'resultado', 'de', 'leis', 'que', 'exigem', 'a', 'tradução', 'de', 'todos', 'os', 'processos', 'governamentais', 'em', 'todas', 'as', 'línguas', 'oficiais', 'dos', 'países', '.', 'No', 'entanto', ',', 'a', 'maioria', 'dos', 'sistemas', 'dependia', 'de', 'corpora', 'desenvolvido', 'especificamente', 'para', 'tarefas', 'implementadas', 'por', 'esses', 'sistemas', ',', 'o', 'que', 'era', '(', 'e', 'muitas', 'vezes', 'continua', 'sendo', ')', 'uma', 'grande', 'limitação', 'no', 'sucesso', 'dos', 'mesmo', '.', 'Como', 'resultado', ',', 'uma', 'grande', 'quantidade', 'de', 'pesquisa', 'passou', 'de', 'quantidades', 'de', 'dados', 'limitadas', 'a', 'métodos', 'de', 'aprendizagem', 'mais', 'eficazes', '.', 'Pesquisas', 'recentes', 'têm', 'se', 'concentrado', 'cada', 'vez', 'mais', 'em', 'algoritmos', 'de', 'aprendizagem', 'semi-supervisionados', 'e', 'sem', 'supervisão', '.', 'Esses', 'algoritmos', 'são', 'capazes', 'de', 'aprender', 'com', 'dados', 'que', 'não', 'foram', 'anotados', 'manualmente', 'com', 'as', 'respostas', 'desejadas', 'ou', 'usando', 'uma', 'combinação', 'de', 'dados', 'anotados', 'e', 'não', 'anotados', '.', 'Geralmente', ',', 'esta', 'tarefa', 'é', 'muito', 'mais', 'trabalhosa', 'do', 'que', 'a', 'aprendizagem', 'supervisionada', 'e', 'normalmente', 'produz', 'resultados', 'menos', 'precisos', 'para', 'uma', 'quantidade', 'específica', 'de', 'dados', 'de', 'entrada', '.', 'No', 'entanto', ',', 'há', 'uma', 'enorme', 'quantidade', 'de', 'dados', 'não', 'anotados', 'disponíveis', '(', 'incluindo', ',', 'entre', 'outras', 'coisas', ',', 'todo', 'o', 'conteúdo', 'da', 'World', 'Wide', 'Web', ')', ',', 'que', 'muitas', 'vezes', 'pode', 'compensar', 'os', 'resultados', 'inferiores', '.', '==', 'Usando', 'a', 'aprendizagem', 'automática', '(', 'aprendizado', 'de', 'máquina', ')', '==', 'Os', 'algoritmos', 'modernos', 'de', 'PLN', 'baseiam-se', 'na', 'aprendizagem', 'mecânica', ',', 'especialmente', 'na', 'aprendizagem', 'de', 'máquinas', 'estatísticas', '.', 'O', 'paradigma', 'da', 'aprendizagem', 'mecânica', 'é', 'diferente', 'do', 'da', 'maioria', 'das', 'tentativas', 'anteriores', 'de', 'processamento', 'da', 'linguagem', '.', 'Anteriormente', ',', 'implementações', 'de', 'tarefas', 'de', 'processamento', 'de', 'linguagem', 'envolviam', 'a', 'codificação', 'direta', 'de', 'grandes', 'conjuntos', 'de', 'regras', '.', 'O', 'paradigma', 'da', 'aprendizagem', 'automática', '(', 'ou', 'aprendizagem', 'automática', ')', 'induz', 'a', 'aprendizagem', 'automática', 'de', 'regras', 'através', 'de', 'análises', 'de', 'corpora', 'de', 'exemplos', 'típicos', 'do', 'mundo', 'real', 'ao', 'invés', 'de', 'usar', 'algoritmos', 'gerais', 'de', 'aprendizagem', '(', 'muitas', 'vezes', ',', 'embora', 'nem', 'sempre', ',', 'baseados', 'em', 'inferência', 'estatística', ')', '.', 'Um', 'corpus', '(', 'plural', '``', 'corpora', \"''\", ')', 'é', 'um', 'conjunto', 'de', 'documentos', '(', 'ou', 'frases', 'individuais', ')', 'que', 'foram', 'anotados', 'à', 'mão', 'com', 'os', 'valores', 'corretos', 'a', 'serem', 'aprendidos', '.', 'Muitas', 'classes', 'diferentes', 'de', 'algoritmos', 'de', 'aprendizado', 'de', 'máquina', 'foram', 'aplicadas', 'a', 'tarefas', 'de', 'PLN', '.', 'Esses', 'algoritmos', 'tomam', 'como', 'entrada', 'um', 'grande', 'conjunto', 'de', '``', 'recursos', \"''\", 'que', 'são', 'gerados', 'a', 'partir', 'de', 'dados', 'de', 'entrada', '.', 'Alguns', 'dos', 'algoritmos', 'mais', 'usados', ',', 'como', 'árvores', 'de', 'decisão', ',', 'produziam', 'sistemas', 'de', 'regras', 'rígidas', 'semelhantes', 'aos', 'sistemas', 'de', 'regras', 'manuscritas', 'mais', 'comuns', '.', 'No', 'entanto', ',', 'cada', 'vez', 'mais', ',', 'a', 'pesquisa', 'tem', 'se', 'concentrado', 'em', 'modelos', 'estatísticos', ',', 'que', 'tomam', 'decisões', 'flexíveis', 'e', 'probabilísticas', 'baseadas', 'em', 'agregar', 'pesos', 'reais', 'a', 'cada', 'característica', 'de', 'entrada', '.', 'Tais', 'modelos', 'têm', 'a', 'vantagem', 'de', 'poder', 'expressar', 'a', 'certeza', 'relativa', 'de', 'muitas', 'respostas', 'possíveis', 'diferentes', 'em', 'vez', 'de', 'apenas', 'uma', ',', 'produzindo', 'resultados', 'mais', 'confiáveis', 'quando', 'esse', 'modelo', 'é', 'incluído', 'como', 'um', 'componente', 'de', 'um', 'sistema', 'maior', '.', 'Os', 'sistemas', 'baseados', 'em', 'algoritmos', 'de', 'aprendizagem', 'mecânica', 'têm', 'muitas', 'vantagens', 'em', 'relação', 'às', 'regras', 'produzidas', 'manualmente', ':', 'Os', 'procedimentos', 'de', 'aprendizagem', 'usados', 'durante', 'a', 'aprendizagem', 'da', 'máquina', 'focam-se', 'automaticamente', 'nos', 'casos', 'mais', 'comuns', ',', 'ao', 'passo', 'que', 'quando', 'se', 'escrevem', 'regras', 'à', 'mão', ',', 'não', 'é', 'óbvio', 'em', 'que', 'sentido', 'o', 'esforço', 'deve', 'ser', 'dirigido', '.', 'Os', 'procedimentos', 'de', 'aprendizagem', 'automática', 'podem', 'fazer', 'uso', 'de', 'algoritmos', 'de', 'inferência', 'estatística', 'para', 'produzir', 'modelos', 'que', 'são', 'robustos', 'a', 'entradas', 'não', 'familiares', '(', 'por', 'exemplo', ',', 'contendo', 'palavras', 'ou', 'estruturas', 'que', 'não', 'foram', 'vistas', 'antes', ')', 'e', 'a', 'entradas', 'errôneas', '(', 'por', 'exemplo', ',', 'com', 'palavras', 'ou', 'palavras', 'incorretamente', 'omitidas', ')', '.', 'Geralmente', ',', 'lidar', 'com', 'essas', 'entradas', 'de', 'forma', 'com', 'regras', 'manuscritas', 'ou', 'sistemas', 'de', 'regras', 'manuscritas', 'que', 'tomam', 'decisões', 'suaves', 'é', 'extremamente', 'trabalhoso', ',', 'propenso', 'a', 'erros', 'e', 'demorado', '.', 'Sistemas', 'baseados', 'em', 'aprender', 'automaticamente', 'as', 'regras', 'podem', 'ser', 'mais', 'precisos', 'simplesmente', 'fornecendo', 'mais', 'dados', 'de', 'entrada', '.', 'No', 'entanto', ',', 'os', 'sistemas', 'baseados', 'em', 'regras', 'escritas', 'à', 'mão', 'só', 'podem', 'ser', 'tornados', 'mais', 'precisos', 'aumentando', 'a', 'complexidade', 'das', 'regras', ',', 'o', 'que', 'é', 'uma', 'tarefa', 'muito', 'mais', 'difícil', '.', 'Em', 'particular', ',', 'há', 'um', 'limite', 'para', 'a', 'complexidade', 'de', 'sistemas', 'baseados', 'em', 'regras', 'artesanais', ',', 'para', 'além', 'dos', 'quais', 'os', 'sistemas', 'se', 'tornam', 'cada', 'vez', 'mais', 'incontroláveis', '.', 'No', 'entanto', ',', 'a', 'criação', 'de', 'mais', 'dados', 'para', 'entrada', 'em', 'sistemas', 'de', 'aprendizado', 'de', 'máquina', 'requer', 'simplesmente', 'um', 'aumento', 'correspondente', 'no', 'número', 'de', 'horas', 'trabalhadas', 'por', 'humanos', ',', 'geralmente', 'sem', 'aumentos', 'significativos', 'na', 'complexidade', 'do', 'processo', 'de', 'anotação.O', 'subcampo', 'de', 'PLN', 'dedicado', 'a', 'abordagens', 'de', 'aprendizagem', 'é', 'conhecido', 'como', 'aprendizagem', 'de', 'língua', 'natural', '(', 'NLL', ')', 'e', 'sua', 'conferência', ',', 'a', 'CoNLL', ',', 'e', 'orgão', 'central', ',', 'o', 'SIGNLL', ',', 'são', 'patrocinados', 'pela', 'ACL', ',', 'reconhecendo', 'também', 'as', 'suas', 'ligações', 'com', 'linguística', 'computacional', 'e', 'aquisição', 'de', 'linguagem', '.', 'Quando', 'o', 'objetivo', 'da', 'pesquisa', 'de', 'aprendizagem', 'de', 'linguagem', 'computacional', 'é', 'entender', 'mais', 'sobre', 'aquisição', 'de', 'linguagem', 'humana', ',', 'ou', 'psicolinguística', ',', 'a', 'NLL', 'sobrepõe-se', 'no', 'campo', 'relacionado', 'de', 'psicolinguística', 'computacional', '.', '==', 'Aplicações', 'principais', '==', 'A', 'listagem', 'a', 'seguir', 'traz', 'alguns', 'dos', 'trabalhos', 'mais', 'pesquisadas', 'em', 'PLN', '.', 'Note', 'que', 'alguns', 'deles', 'têm', 'aplicações', 'no', 'mundo', 'real', ',', 'enquanto', 'outras', 'servem', 'mais', 'frequentemente', 'como', 'tarefas', 'secundárias', 'que', 'são', 'usadas', 'para', 'auxiliar', 'na', 'resolução', 'de', 'tarefas', 'maiores', '.', 'O', 'que', 'distingue', 'essas', 'tarefas', 'de', 'outras', 'tarefas', 'potenciais', 'e', 'reais', 'de', 'PLN', 'não', 'é', 'apenas', 'o', 'volume', 'de', 'pesquisa', 'dedicado', 'a', 'elas', ',', 'mas', 'o', 'fato', 'de', 'que', 'para', 'cada', 'uma', 'há', 'tipicamente', 'uma', 'definição', 'de', 'problema', 'bem', 'especificada', ',', 'uma', 'métrica', 'padrão', 'para', 'avaliar', 'a', 'tarefa', ',', 'corpora', 'padrão', 'em', 'que', 'a', 'tarefa', 'pode', 'ser', 'avaliada', 'e', 'as', 'competições', 'dedicadas', 'à', 'tarefa', 'específica', '.', 'Sumarização', 'automática', 'Produz', 'um', 'resumo', 'legível', 'de', 'uma', 'parte', 'do', 'texto', '.', 'Muitas', 'vezes', 'usado', 'para', 'fornecer', 'resumos', 'de', 'texto', 'de', 'um', 'tipo', 'conhecido', ',', 'como', 'artigos', 'na', 'seção', 'financeira', 'de', 'um', 'jornal.Resolução', 'de', 'correferência', 'Dada', 'uma', 'frase', 'ou', 'um', 'pedaço', 'maior', 'de', 'texto', ',', 'determina', 'quais', 'palavras', '(', '``', 'menções', \"''\", ')', 'se', 'referem', 'aos', 'mesmos', 'objetos', '(', '``', 'entidades', \"''\", ')', '.', 'A', 'resolução', 'da', 'anáfora', 'é', 'um', 'exemplo', 'específico', 'dessa', 'tarefa', 'e', 'está', 'especificamente', 'preocupada', 'em', 'combinar', 'os', 'pronomes', 'com', 'os', 'substantivos', 'ou', 'nomes', 'aos', 'quais', 'eles', 'se', 'referem', '.', 'A', 'tarefa', 'mais', 'geral', 'da', 'resolução', 'de', 'correferência', 'também', 'inclui', 'a', 'identificação', 'dos', 'chamados', '``', 'relacionamentos', 'de', 'ponte', \"''\", 'envolvendo', 'expressões', 'de', 'referência', '.', 'Por', 'exemplo', ',', 'numa', 'frase', 'como', '``', 'Ele', 'entrou', 'na', 'casa', 'de', 'João', 'pela', 'porta', 'da', 'frente', \"''\", ',', '``', 'a', 'porta', 'da', 'frente', \"''\", 'é', 'uma', 'expressão', 'de', 'referência', 'e', 'a', 'relação', 'da', 'ponte', 'a', 'ser', 'identificada', 'é', 'o', 'fato', 'de', 'que', 'a', 'porta', 'a', 'ser', 'referida', 'é', 'a', 'porta', 'da', 'frente', 'de', 'John', \"'s\", '(', 'ao', 'invés', 'de', 'alguma', 'outra', 'estrutura', 'que', 'também', 'pode', 'ser', 'referida', ')', '.Análise', 'do', 'Discurso', 'Esta', 'rubrica', 'inclui', 'uma', 'série', 'de', 'tarefas', 'relacionadas', '.', 'Uma', 'tarefa', 'é', 'identificar', 'a', 'estrutura', 'discursiva', 'do', 'texto', 'conectado', ',', 'isto', 'é', ',', 'a', 'natureza', 'das', 'relações', 'discursivas', 'entre', 'sentenças', '(', 'por', 'exemplo', ',', 'elaboração', ',', 'explicação', ',', 'contraste', ')', '.', 'Outra', 'possível', 'tarefa', 'é', 'reconhecer', 'e', 'classificar', 'os', 'atos', 'de', 'fala', 'em', 'um', 'pedaço', 'de', 'texto', '(', 'por', 'exemplo', ',', 'pergunta', 'sim-não', ',', 'pergunta', 'de', 'conteúdo', ',', 'frase', ',', 'afirmação', ',', 'etc', ')', '.Maquina', 'de', 'tradução', 'Traduzir', 'automaticamente', 'texto', 'de', 'uma', 'linguagem', 'humana', 'para', 'outra', '.', 'Este', 'é', 'uma', 'das', 'tarefas', 'mais', 'difíceis', 'e', 'faz', 'parte', 'de', 'um', 'tipo', 'de', 'problemas', 'conhecidos', 'como', '``', 'AI-complete', \"''\", ',', 'ou', 'seja', ',', 'exigindo', 'todos', 'os', 'diferentes', 'tipos', 'de', 'conhecimento', 'que', 'os', 'humanos', 'possuem', '(', 'gramática', ',', 'semântica', ',', 'fatos', 'sobre', 'o', 'mundo', 'real', ',', 'etc', ')', 'para', 'resolvê-lo', 'adequadamente.Segmentação', 'morfológica', 'Separa', 'palavras', 'em', 'morfemas', 'individuais', 'e', 'identifica', 'classes', 'de', 'morfemas', '.', 'A', 'dificuldade', 'desta', 'tarefa', 'depende', 'muito', 'da', 'complexidade', 'da', 'morfologia', '(', 'isto', 'é', ',', 'da', 'estrutura', 'das', 'palavras', ')', 'da', 'linguagem', 'que', 'está', 'sendo', 'considerada', '.', 'O', 'inglês', 'possui', 'uma', 'morfologia', 'bastante', 'simples', ',', 'especialmente', 'a', 'morfologia', 'flexional', ',', 'e', 'portanto', 'é', 'possível', 'ignorar', 'esta', 'tarefa', 'inteiramente', 'e', 'simplesmente', 'modelar', 'todas', 'as', 'formas', 'possíveis', 'de', 'uma', 'palavra', '(', 'por', 'exemplo', ',', '``', 'open', ',', 'opens', ',', 'opened', ',', 'opening', \"''\", ')', 'como', 'palavras', 'separadas', '.', 'Em', 'línguas', 'como', 'o', 'turco', 'ou', 'o', 'Meitei', ',', 'uma', 'língua', 'indiana', 'fortemente', 'aglutinada', ',', 'no', 'entanto', ',', 'tal', 'abordagem', 'não', 'é', 'possível', ',', 'uma', 'vez', 'que', 'cada', 'entrada', 'do', 'dicionário', 'tem', 'milhares', 'de', 'formas', 'de', 'palavras', 'possíveis.Reconhecimento', 'de', 'entidade', 'nomeada', '(', 'NER', ')', 'Dado', 'um', 'fluxo', 'de', 'texto', ',', 'determina', 'quais', 'são', 'itens', 'no', 'mapa', 'de', 'texto', 'para', 'nomes', 'próprios', ',', 'como', 'pessoas', 'ou', 'locais', 'e', 'qual', 'é', 'o', 'tipo', 'de', 'cada', 'nome', '(', 'por', 'exemplo', ',', 'pessoa', ',', 'local', ',', 'organização', ')', '.', 'Embora', 'a', 'capitalização', 'possa', 'ajudar', 'a', 'reconhecer', 'entidades', 'nomeadas', 'em', 'idiomas', 'como', 'o', 'inglês', ',', 'essas', 'informações', 'podem', 'não', 'ajudar', 'a', 'determinar', 'o', 'tipo', 'de', 'entidade', 'nomeada', 'e', ',', 'em', 'alguns', 'casos', ',', 'sãos', 'imprecisas', 'ou', 'insuficientes', '.', 'Por', 'exemplo', ',', 'a', 'primeira', 'palavra', 'de', 'uma', 'frase', 'também', 'é', 'capitalizada', 'e', 'as', 'entidades', 'nomeadas', 'muitas', 'vezes', 'abrangem', 'várias', 'palavras', ',', 'com', 'apenas', 'algumas', 'delas', 'são', 'capitalizadas', '.', 'Além', 'disso', ',', 'muitas', 'outras', 'linguagens', 'em', 'scripts', 'não-ocidentais', '(', 'por', 'exemplo', ',', 'chinês', 'ou', 'árabe', ')', 'não', 'têm', 'nenhuma', 'capitalização', 'e', 'mesmo', 'as', 'línguas', 'com', 'maiúsculas', 'podem', 'não', 'distinguir', 'nomes', '.', 'Por', 'exemplo', ',', 'o', 'alemão', 'capitaliza', 'todos', 'os', 'substantivos', ',', 'independentemente', 'de', 'se', 'referirem', 'a', 'nomes', ',', 'e', 'o', 'francês', 'e', 'o', 'espanhol', 'não', 'capitalizam', 'nomes', 'que', 'servem', 'como', 'adjetivos.Geração', 'de', 'língua', 'natural', 'Converte', 'informações', 'de', 'bancos', 'de', 'dados', 'de', 'computador', 'ou', 'intenções', 'semânticas', 'em', 'linguagem', 'humana', 'legível.Compreensão', 'da', 'língua', 'natural', 'Converte', 'pedaços', 'de', 'texto', 'em', 'representações', 'mais', 'formais', ',', 'como', 'estruturas', 'de', 'lógica', 'de', 'primeira', 'ordem', ',', 'que', 'são', 'mais', 'fáceis', 'de', 'manipular', 'pelos', 'programas', 'de', 'computador', '.', 'A', 'compreensão', 'da', 'língua', 'natural', 'envolve', 'a', 'identificação', 'da', 'semântica', 'pretendida', 'a', 'partir', 'da', 'múltipla', 'semântica', 'possível', 'que', 'pode', 'ser', 'derivada', 'de', 'uma', 'expressão', 'de', 'língua', 'natural', 'que', 'geralmente', 'toma', 'a', 'forma', 'de', 'notação', 'organizada', 'de', 'conceitos', 'de', 'linguagens', 'naturais', '.', 'Entretanto', ',', 'introdução', 'e', 'criação', 'de', 'linguagem', 'metamodelo', 'e', 'ontologia', 'são', 'eficientes', 'soluções', 'empíricas', '.', 'Uma', 'formalização', 'explícita', 'da', 'semântica', 'de', 'línguas', 'naturais', 'sem', 'confusões', 'com', 'suposições', 'implícitas', 'como', 'closed-world', 'assumption', '(', 'CWA', ')', 'versus', 'open-world', 'assumption', 'ou', 'subjetiva', 'Sim', '/', 'Não', 'versus', 'objetivo', 'Verdadeiro', '/', 'Falso', 'é', 'esperada', 'para', 'a', 'construção', 'de', 'uma', 'base', 'de', 'formalização', 'semântica.Reconhecimento', 'óptico', 'de', 'caracteres', '(', 'OCR', ')', 'Dada', 'uma', 'imagem', 'que', 'representa', 'o', 'texto', 'impresso', ',', 'determina', 'o', 'texto', 'correspondente.Marcação', 'de', 'classe', 'gramatical', 'Dada', 'uma', 'sentença', ',', 'determina', 'a', 'classe', 'gramatical', 'de', 'cada', 'palavra', '.', 'Muitas', 'palavras', ',', 'especialmente', 'as', 'comuns', ',', 'podem', 'servir', 'como', 'múltiplas', 'partes', 'do', 'discurso', '.', 'Em', 'inglês', ',', 'por', 'exemplo', ',', '``', 'book', \"''\", 'pode', 'ser', 'um', 'substantivo', '(', '``', 'the', 'book', 'on', 'the', 'table', \"''\", ')', 'ou', 'verbo', '(', '``', 'book', 'a', 'flight', \"''\", ')', ';', '``', 'Set', \"''\", 'pode', 'ser', 'um', 'substantivo', ',', 'verbo', 'ou', 'adjetivo', ';', 'E', '``', 'out', \"''\", 'pode', 'ser', 'qualquer', 'um', 'de', 'pelo', 'menos', 'cinco', 'diferentes', 'partes', 'da', 'fala', '.', 'Algumas', 'línguas', 'têm', 'mais', 'ambiguidade', 'do', 'que', 'outras', '.', 'As', 'línguas', 'com', 'pouca', 'morfologia', 'flexional', ',', 'como', 'o', 'inglês', ',', 'são', 'particularmente', 'propensas', 'a', 'tal', 'ambiguidade', '.', 'O', 'chinês', 'é', 'propenso', 'a', 'tal', 'ambiguidade', 'porque', 'é', 'uma', 'língua', 'tonal', 'durante', 'a', 'verbalização', '.', 'Tal', 'inflexão', 'não', 'é', 'facilmente', 'transmitida', 'através', 'das', 'entidades', 'empregadas', 'dentro', 'da', 'ortografia', 'para', 'transmitir', 'o', 'significado', 'pretendido.Análise', 'sintática', '(', 'Parsing', ')', 'Determina', 'a', 'árvore', 'de', 'análise', '(', 'análise', 'gramatical', ')', 'de', 'uma', 'frase', '.', 'A', 'gramática', 'para', 'as', 'linguagens', 'naturais', 'é', 'ambígua', 'e', 'frases', 'típicas', 'têm', 'múltiplas', 'análises', 'possíveis', '.', 'Na', 'verdade', ',', 'surpreendentemente', ',', 'para', 'uma', 'frase', 'típica', 'pode', 'haver', 'milhares', 'de', 'análises', 'em', 'potencial', '(', 'a', 'maioria', 'dos', 'quais', 'parecerá', 'completamente', 'absurda', 'para', 'um', 'ser', 'humano', ')', '.Respostas', 'a', 'perguntas', 'Dada', 'uma', 'questão', 'de', 'linguagem', 'humana', ',', 'determina', 'sua', 'resposta', '.', 'As', 'perguntas', 'típicas', 'têm', 'uma', 'resposta', 'correta', 'específica', '(', 'como', '``', 'Qual', 'é', 'o', 'capital', 'do', 'Canadá', '?', '``', ')', ',', 'mas', 'às', 'vezes', 'perguntas', 'abertas', 'também', 'são', 'consideradas', '(', 'como', '``', 'Qual', 'é', 'o', 'significado', 'da', 'vida', '?', \"''\", ')', '.', 'Trabalhos', 'recentes', 'têm', 'analisado', 'questões', 'ainda', 'mais', 'complexas.Extração', 'de', 'relacionamento', 'Identifica', 'as', 'relações', 'entre', 'entidades', 'nomeadas', '(', 'por', 'exemplo', ',', 'quem', 'é', 'casado', 'com', 'quem', ')', 'com', 'base', 'em', 'textos.Quebra', 'de', 'frases', '(', 'sentence', 'boundary', 'disambiguation', ')', 'Encontra', 'os', 'limites', 'da', 'frase', 'em', 'um', 'pedaço', 'de', 'texto', '.', 'Os', 'limites', 'de', 'frases', 'são', 'normalmente', 'marcadas', 'por', 'pontos', 'ou', 'outros', 'sinais', 'de', 'pontuação', ',', 'mas', 'esses', 'mesmos', 'caracteres', 'podem', 'servir', 'outros', 'propósitos.Análise', 'de', 'subjetividade', '(', 'sentiment', 'analysis', 'ou', 'opinion', 'mining', ')', 'Extrai', 'informações', 'subjetivas', 'geralmente', 'de', 'um', 'conjunto', 'de', 'documentos', ',', 'muitas', 'vezes', 'usando', 'revisões', 'online', 'para', 'determinar', 'a', '``', 'polaridade', \"''\", 'sobre', 'objetos', 'específicos', '.', 'É', 'especialmente', 'útil', 'para', 'identificar', 'tendências', 'da', 'opinião', 'pública', 'nas', 'mídias', 'sociais', ',', 'para', 'fins', 'de', 'marketing.Reconhecimento', 'de', 'fala', 'Dado', 'um', 'clipe', 'de', 'som', 'de', 'uma', 'pessoa', 'ou', 'pessoas', 'falando', ',', 'determina', 'a', 'representação', 'textual', 'do', 'discurso', '.', 'É', 'o', 'oposto', 'da', 'síntese', 'de', 'fala', 'e', 'é', 'uma', 'das', 'áreas', 'mais', 'difíceis', ',', 'conhecida', 'como', '``', 'AI-complete', \"''\", '.', 'Na', 'fala', 'natural', 'quase', 'não', 'há', 'pausas', 'entre', 'palavras', 'sucessivas', ',', 'por', 'isso', 'a', 'segmentação', 'de', 'fala', 'é', 'uma', 'subtarefa', 'necessária', 'de', 'reconhecimento', 'de', 'fala', '.', 'Nota-se', 'também', 'que', ',', 'na', 'maioria', 'das', 'linguagens', 'faladas', ',', 'os', 'sons', 'que', 'representam', 'letras', 'sucessivas', 'se', 'misturam', 'entre', 'si', 'em', 'um', 'processo', 'denominado', 'coarticulação', ',', 'de', 'modo', 'que', 'a', 'conversão', 'do', 'sinal', 'analógico', 'em', 'caracteres', 'discretos', 'pode', 'ser', 'um', 'processo', 'muito', 'difícil', 'de', 'ser', 'realizado.Segmentação', 'de', 'fala', 'Dado', 'um', 'clipe', 'de', 'som', 'de', 'uma', 'pessoa', 'ou', 'pessoas', 'falando', ',', 'separa-o', 'em', 'palavras', '.', 'Uma', 'subaplicação', 'de', 'reconhecimento', 'de', 'fala', 'e', 'normalmente', 'agrupada', 'com', 'ele.Análise', 'morfológica', 'e', 'reconhecimento', 'de', 'tópicos', 'Dado', 'um', 'pedaço', 'de', 'texto', ',', 'separa-o', 'em', 'segmentos', 'cada', 'um', 'dos', 'quais', 'é', 'dedicado', 'a', 'um', 'tópico', 'e', 'identifica', 'o', 'tópico', 'do', 'segmento.Análise', 'morfológica', 'e', 'segmentação', 'de', 'palavras', 'Separa', 'um', 'pedaço', 'de', 'texto', 'contínuo', 'em', 'palavras', 'separadas', '.', 'Para', 'uma', 'língua', 'como', 'o', 'inglês', ',', 'isso', 'é', 'bastante', 'trivial', ',', 'uma', 'vez', 'que', 'as', 'palavras', 'são', 'normalmente', 'separadas', 'por', 'espaços', '.', 'No', 'entanto', ',', 'algumas', 'línguas', 'escritas', 'como', 'chinês', ',', 'japonês', 'e', 'tailandês', 'não', 'marcam', 'limites', 'de', 'palavras', 'de', 'tal', 'forma', ',', 'e', 'nessas', 'línguas', 'segmentação', 'de', 'texto', 'é', 'uma', 'tarefa', 'significativa', 'que', 'requer', 'conhecimento', 'do', 'vocabulário', 'e', 'morfologia', 'das', 'palavras', 'na', 'língua.Desambiguação', 'Muitas', 'palavras', 'têm', 'mais', 'de', 'um', 'significado', ',', 'assim', 'temos', 'que', 'selecionar', 'o', 'significado', 'que', 'faz', 'mais', 'sentido', 'no', 'contexto', '.', 'Para', 'este', 'problema', ',', 'em', 'geral', 'é', 'dada', 'uma', 'lista', 'de', 'palavras', 'e', 'sentidos', 'de', 'palavras', 'associadas', 'de', 'um', 'dicionário', 'ou', 'recurso', 'online', ',', 'como', 'o', 'WordNet', '.', 'Em', 'alguns', 'casos', ',', 'conjuntos', 'de', 'tarefas', 'relacionadas', 'são', 'agrupados', 'em', 'subcampos', 'de', 'PLN', 'que', 'são', 'frequentemente', 'considerados', 'separadamente', 'da', 'PLN', 'como', 'um', 'todo', ',', 'como', 'os', 'exemplos', 'à', 'seguir', ':', 'Recuperação', 'de', 'informação', '(', 'IR', ')', 'Trata-se', 'de', 'armazenar', ',', 'pesquisar', 'e', 'recuperar', 'informações', '.', 'É', 'um', 'campo', 'separado', 'dentro', 'da', 'ciência', 'da', 'computação', '(', 'mais', 'perto', 'de', 'bancos', 'de', 'dados', ')', ',', 'mas', 'a', 'IR', 'se', 'baseia', 'em', 'alguns', 'métodos', 'PLN', '(', 'por', 'exemplo', ',', 'stemming', ')', '.', 'Algumas', 'pesquisas', 'e', 'aplicações', 'atuais', 'procuram', 'preencher', 'a', 'lacuna', 'entre', 'IR', 'e', 'PLN.Extração', 'de', 'informação', '(', 'IE', ')', 'Trata-se', ',', 'em', 'geral', ',', 'da', 'extração', 'de', 'informação', 'semântica', 'a', 'partir', 'do', 'texto', '.', 'Abrange', 'tarefas', 'como', 'reconhecimento', 'de', 'entidade', 'mencionada', ',', 'resolução', 'de', 'correferência', 'e', 'de', 'relacionamento', 'de', 'extração', ',', 'etc', '.', 'Processamento', 'de', 'voz', 'Abrange', 'reconhecimento', 'de', 'fala', ',', 'síntese', 'de', 'fala', 'e', 'tarefas', 'relacionadas', '.', 'Outras', 'tarefas', 'incluem', ':', 'Identificação', 'na', 'língua', 'materna', 'Stemização', 'Simplificação', 'do', 'texto', 'Síntese', 'de', 'fala', 'Revisão', 'de', 'texto', 'Pesquisa', 'em', 'língua', 'natural', 'Expansão', 'da', 'consulta', 'Pontuação', 'de', 'ensaio', 'automatizado', 'Truecasing', '==', 'Estatística', '==', 'Artigo', 'principal', ':', 'Gramática', 'estocástica', 'O', 'processamento', 'estatístico', 'em', 'língua', 'natural', 'utiliza', 'métodos', 'estocásticos', ',', 'probabilísticos', 'e', 'estatísticos', 'para', 'resolver', 'algumas', 'das', 'dificuldades', 'discutidas', 'acima', ',', 'especialmente', 'aquelas', 'que', 'surgem', 'porque', 'frases', 'mais', 'longas', 'são', 'muito', 'ambíguas', 'quando', 'processadas', 'com', 'gramáticas', 'realistas', ',', 'produzindo', 'milhares', 'ou', 'milhões', 'de', 'análises', 'possíveis', '.', 'Métodos', 'de', 'desambiguação', 'envolvem', 'muitas', 'vezes', 'o', 'uso', 'de', 'corpora', 'e', 'modelos', 'de', 'Markov', '.', 'O', 'projeto', 'ESPRIT', 'P26', '(', '1984-1988', ')', ',', 'liderado', 'pelo', 'CSELT', ',', 'explorou', 'o', 'problema', 'do', 'reconhecimento', 'de', 'fala', 'comparando', 'abordagem', 'baseada', 'em', 'conhecimento', 'e', 'estatística', ':', 'o', 'resultado', 'escolhido', 'foi', 'um', 'modelo', 'completamente', 'estatístico', '.', 'Um', 'dos', 'primeiros', 'modelos', 'de', 'compreensão', 'estatística', 'da', 'língua', 'natural', 'foi', 'introduzido', 'em', '1991', 'por', 'Roberto', 'Pieraccini', ',', 'Esther', 'Levin', 'e', 'Chin-Hui', 'Lee', ',', 'da', 'Bell', 'Laboratories', ']', '.', 'O', 'PLN', 'compreende', 'todas', 'as', 'abordagens', 'quantitativas', 'para', 'processamento', 'automatizado', 'de', 'linguagem', ',', 'incluindo', 'modelagem', 'probabilística', ',', 'teoria', 'da', 'informação', 'e', 'álgebra', 'linear', '.', 'A', 'tecnologia', 'para', 'o', 'PLN', 'estatístico', 'vem', 'principalmente', 'da', 'aprendizagem', 'automática', 'e', 'da', 'mineração', 'de', 'dados', ',', 'que', 'são', 'campos', 'de', 'inteligência', 'artificial', 'que', 'envolvem', 'o', 'aprendizado', 'a', 'partir', 'de', 'dados', '.', '==', 'Avaliação', '==', 'O', 'objetivo', 'da', 'avaliação', 'do', 'PLN', 'é', 'uma', 'medida', 'de', 'uma', 'ou', 'mais', 'qualidades', 'de', 'um', 'algoritmo', 'ou', 'de', 'um', 'sistema', 'a', 'fim', 'de', 'determinar', 'se', 'o', 'algoritmo', 'atende', 'às', 'metas', 'dos', 'projetistas', 'ou', 'o', 'sistema', 'de', 'atendimento', 'às', 'necessidades', 'de', 'seus', 'usuários', '.', 'Investigação', 'na', 'avaliação', 'PLN', 'tem', 'ganhado', 'atenção', ',', 'porque', 'a', 'definição', 'de', 'critérios', 'de', 'avaliação', 'é', 'uma', 'forma', 'de', 'especificar', 'precisamente', 'problemas', 'do', 'PLN', '.', 'Uma', 'métrica', 'de', 'avaliação', 'de', 'PLN', 'em', 'um', 'sistema', 'algorítmico', 'permite', 'a', 'integração', 'da', 'compreensão', 'de', 'linguagem', 'e', 'geração', 'de', 'linguagem', '.', 'Um', 'conjunto', 'preciso', 'de', 'critérios', 'de', 'avaliação', ',', 'que', 'pode', 'ser', 'aplicado', 'principalmente', 'a', 'avaliações', 'métricas', ',', 'podendo', 'permitir', 'que', 'várias', 'equipes', 'comparem', 'suas', 'soluções', 'para', 'um', 'determinado', 'problema', 'do', 'PLN', '.', '==', 'Cronologia', 'da', 'avaliação', '==', 'Em', '1983', ',', 'iniciou-se', 'o', 'Projecto', 'Esprit', 'P26', ',', 'que', 'avaliou', 'as', 'Tecnologias', 'da', 'Fala', '(', 'incluindo', 'tópicos', 'gerais', 'como', 'Sintaxe', 'e', 'Semântica', ')', 'comparando', 'as', 'abordagens', 'baseadas', 'em', 'regras', 'com', 'as', 'estatísticas', '.', 'Em', '1987', ',', 'a', 'primeira', 'campanha', 'de', 'avaliação', 'de', 'textos', 'escritos', 'parece', 'ser', 'uma', 'campanha', 'dedicada', 'à', 'compreensão', 'da', 'mensagem', '(', 'Pallet', ',', '1998', ')', '.', 'O', 'projeto', 'Parseval', '/', 'GEIG', 'comparou', 'gramáticas', 'de', 'frase-estrutura', '(', 'Black', '1991', ')', '.', 'Houve', 'uma', 'série', 'de', 'campanhas', 'no', 'projeto', 'Tipster', 'sobre', 'tarefas', 'como', 'resumo', ',', 'tradução', 'e', 'pesquisa', '(', 'Hirschman', '1998', ')', '.', 'Em', '1994', ',', 'na', 'Alemanha', ',', 'o', 'Morpholympics', 'comparou', 'marcadores', 'morfológicos', 'alemães', '.', 'As', 'campanhas', 'de', 'Senseval', '&', 'Romanseval', 'foram', 'realizadas', 'com', 'os', 'objetivos', 'de', 'desambiguação', 'semântica', '.', 'Em', '1996', ',', 'a', 'campanha', 'Sparkle', 'comparou', 'os', 'analisadores', 'sintáticos', 'em', 'quatro', 'idiomas', 'diferentes', '(', 'inglês', ',', 'francês', ',', 'alemão', 'e', 'italiano', ')', '.', 'Na', 'França', ',', 'o', 'projeto', 'Grace', 'comparou', 'um', 'conjunto', 'de', '21', 'marcadores', 'para', 'o', 'francês', 'em', '1997', '(', 'Adda', '1999', ')', '.', 'Em', '2004', ',', 'durante', 'o', 'projeto', 'Technolangue', '/', 'Easy', ',', 'foram', 'comparados', '13', 'analisadores', 'para', 'o', 'francês', '.', 'A', 'avaliação', 'em', 'larga', 'escala', 'dos', 'analisadores', 'de', 'dependência', 'foi', 'realizada', 'no', 'contexto', 'das', 'tarefas', 'compartilhadas', 'do', 'CoNLL', 'em', '2006', 'e', '2007', '.', 'Na', 'França', ',', 'no', 'âmbito', 'do', 'projecto', 'ANR-Passage', '(', 'final', 'de', '2007', ')', ',', 'foram', 'comparados', '10', 'analisadores', 'para', 'o', 'francês', '.', 'Em', 'Itália', ',', 'a', 'campanha', 'EVALITA', 'foi', 'realizada', 'em', '2007', ',', '2009', ',', '2011', 'e', '2014', 'para', 'comparar', 'várias', 'ferramentas', 'de', 'PLN', 'e', 'de', 'voz', 'para', 'o', 'site', 'italiano', '-', 'EVALITA', '.', '==', 'Diferentes', 'tipos', 'de', 'avaliação', '==', 'Avaliação', 'intrínseca', 'vs.', 'extrínseca', 'A', 'avaliação', 'intrínseca', 'considera', 'um', 'sistema', 'PNL', 'isolado', 'e', 'caracteriza', 'seu', 'desempenho', 'em', 'relação', 'a', 'um', 'resultado', 'padrão-excelência', ',', 'conforme', 'definido', 'pelos', 'avaliadores', '.', 'A', 'avaliação', 'extrínseca', ',', 'também', 'chamada', 'de', 'avaliação', 'em', 'uso', ',', 'considera', 'o', 'sistema', 'PLN', 'em', 'um', 'cenário', 'mais', 'complexo', 'como', 'um', 'sistema', 'embutido', 'ou', 'uma', 'função', 'precisa', 'para', 'um', 'usuário', 'humano', '.', 'O', 'desempenho', 'extrínseco', 'do', 'sistema', 'é', 'então', 'caracterizado', 'em', 'termos', 'de', 'utilidade', 'em', 'relação', 'à', 'tarefa', 'global', 'do', 'sistema', 'estranho', 'ou', 'do', 'utilizador', 'humano', '.', 'Por', 'exemplo', ',', 'considere', 'um', 'analisador', 'sintático', 'que', 'é', 'baseado', 'na', 'saída', 'de', 'alguma', 'parte', 'do', 'tagger', 'de', 'fala', '(', 'POS', ')', '.', 'Uma', 'avaliação', 'intrínseca', 'executaria', 'o', 'marcador', 'POS', 'em', 'dados', 'estruturados', 'e', 'compararia', 'a', 'saída', 'do', 'sistema', 'do', 'marcador', 'POS', 'com', 'a', 'saída', 'padrão', 'ouro', '.', 'Uma', 'avaliação', 'extrínseca', 'executaria', 'o', 'analisador', 'com', 'algum', 'outro', 'marcador', 'POS', 'e', ',', 'em', 'seguida', ',', 'com', 'o', 'marcador', 'POS', 'novo', 'e', 'compara', 'a', 'precisão', 'de', 'análise', '.', 'Caixa', 'preta', 'vs', '.', 'Avaliação', 'da', 'caixa', 'de', 'vidro', 'A', 'avaliação', 'em', 'caixa', 'preta', 'requer', 'que', 'alguém', 'execute', 'um', 'sistema', 'PLN', 'em', 'um', 'conjunto', 'de', 'dados', 'de', 'amostra', 'e', 'para', 'medir', 'uma', 'série', 'de', 'parâmetros', 'relacionados', 'com', 'a', 'qualidade', 'do', 'processo', ',', 'como', 'velocidade', ',', 'confiabilidade', ',', 'consumo', 'de', 'recursos', 'e', ',', 'principalmente', ',', 'a', 'qualidade', 'do', 'resultado', ',', 'como', 'a', 'precisão', 'da', 'anotação', 'de', 'dados', 'ou', 'a', 'fidelidade', 'de', 'uma', 'tradução', '.', 'A', 'avaliação', 'da', 'caixa', 'de', 'vidro', 'examina', 'a', 'concepção', 'do', 'sistema', ';', 'Os', 'algoritmos', 'que', 'são', 'implementados', ',', 'os', 'recursos', 'linguísticos', 'que', 'utiliza', ',', 'como', 'o', 'tamanho', 'do', 'vocabulário', 'ou', 'a', 'expressão', 'definida', 'de', 'cardinalidade', '.', 'Dada', 'a', 'complexidade', 'dos', 'problemas', 'da', 'PLN', ',', 'muitas', 'vezes', 'é', 'difícil', 'prever', 'o', 'desempenho', 'apenas', 'com', 'base', 'na', 'avaliação', 'da', 'caixa', 'de', 'vidro', ';', 'Mas', 'este', 'tipo', 'de', 'avaliação', 'é', 'mais', 'informativo', 'no', 'que', 'diz', 'respeito', 'à', 'análise', 'de', 'erros', 'ou', 'desenvolvimentos', 'futuros', 'de', 'um', 'sistema', '.', 'Automática', 'vs.', 'avaliação', 'manual', 'Em', 'muitos', 'casos', ',', 'procedimentos', 'automáticos', 'podem', 'ser', 'definidos', 'para', 'avaliar', 'um', 'sistema', 'de', 'PLN', ',', 'comparando', 'sua', 'saída', 'com', 'o', 'padrão', 'de', 'excelência', '.', 'Embora', 'o', 'custo', 'de', 'reproduzir', 'o', 'padrão', 'de', 'excelência', 'possa', 'ser', 'bastante', 'elevado', ',', 'avaliação', 'automática', 'de', 'bootstrapping', 'sobre', 'os', 'mesmos', 'dados', 'de', 'entrada', 'pode', 'ser', 'repetida', 'quantas', 'vezes', 'for', 'necessário', 'sem', 'custos', 'adicionais', 'desordenados', '.', 'No', 'entanto', ',', 'para', 'muitos', 'problemas', 'de', 'PLN', 'a', 'definição', 'precisa', 'de', 'um', 'padrão', 'de', 'excelência', 'é', 'uma', 'tarefa', 'complexa', 'e', 'pode', 'se', 'revelar', 'impossível', 'quando', 'o', 'acordo', 'inter-anotador', 'é', 'insuficiente', '.', 'A', 'avaliação', 'manual', 'é', 'melhor', 'realizada', 'por', 'juízes', 'humanos', 'instruídos', 'para', 'estimar', 'a', 'qualidade', 'de', 'um', 'sistema', ',', 'ou', 'mais', 'frequentemente', 'de', 'uma', 'amostra', 'de', 'sua', 'produção', ',', 'com', 'base', 'em', 'uma', 'série', 'de', 'critérios', '.', 'Embora', ',', 'graças', 'à', 'sua', 'competência', 'linguística', ',', 'os', 'juízes', 'humanos', 'possam', 'ser', 'considerados', 'como', 'a', 'referência', 'para', 'uma', 'série', 'de', 'tarefas', 'de', 'processamento', 'de', 'linguagem', ',', 'há', 'também', 'uma', 'variação', 'considerável', 'em', 'suas', 'classificações', '.', 'É', 'por', 'isso', 'que', 'a', 'avaliação', 'automática', 'é', ',', 'por', 'vezes', ',', 'referida', 'como', 'avaliação', 'objetiva', 'enquanto', 'a', 'avaliação', 'humana', 'é', 'perspectiva', '.', '==', 'Padronização', '==', 'Um', 'subcomitê', 'ISO', 'está', 'trabalhando', 'para', 'facilitar', 'a', 'interoperabilidade', 'entre', 'recursos', 'lexicais', 'e', 'programas', 'PLN', '.', 'O', 'subcomitê', 'faz', 'parte', 'do', 'ISO', '/', 'TC37', 'e', 'é', 'chamado', 'ISO', '/', 'TC37', '/', 'SC4', '.', 'Alguns', 'padrões', 'ISO', 'já', 'estão', 'publicados', ',', 'mas', 'a', 'maioria', 'deles', 'está', 'em', 'construção', ',', 'principalmente', 'na', 'representação', 'de', 'léxico', '(', 'ver', 'LMF', ')', ',', 'anotação', 'e', 'registro', 'de', 'categoria', 'de', 'dados', '.', '==', 'Ferramentas', '==', 'Expert', 'System', 'S.p.A', '.', 'General', 'Architecture', 'for', 'Text', 'Engineering', 'Modular', 'Audio', 'Recognition', 'Framework', 'Natural', 'Language', 'Toolkit', '(', 'NLTK', ')', ':', 'uma', 'biblioteca', 'em', 'Python', 'OpenNLP', '==', 'Veja', 'também', '==', 'Mineração', 'de', 'texto', 'biomédica', 'Processo', 'de', 'processamento', 'composto', 'Revisão', 'assistida', 'por', 'computador', 'Linguagem', 'natural', 'controlada', 'Processamento', 'linguístico', 'profundo', 'Auxílio', 'à', 'leitura', 'de', 'línguas', 'estrangeiras', 'Auxílio', 'à', 'escrita', 'em', 'língua', 'estrangeira', 'Tecnologia', 'da', 'linguagem', 'A', 'alocação', 'de', 'Dirichlet', 'Latente', '(', 'LDA', ')', 'Indexação', 'semântica', 'latente', 'Lista', 'de', 'ferramentas', 'de', 'processamento', 'de', 'língua', 'natural', 'Mapa', 'de', 'LRE', 'Programação', 'em', 'língua', 'natural', 'Reificação', '(', 'linguística', ')', 'Dobradura', 'semântica', 'Sistema', 'de', 'diálogo', 'falado', 'Vetor', 'do', 'Pensamento', 'Pesquisa', 'Transderivacional', 'Word2vec', '==', 'Referências', '==', '==', 'Leitura', 'adicional', '==', 'Steven', 'Bird', ',', 'Ewan', 'Klein', ',', 'and', 'Edward', 'Loper', '(', '2009', ')', '.', 'Natural', 'Language', 'Processing', 'with', 'Python', '.', \"O'Reilly\", 'Media', '.', 'ISBN', '978-0-596-51649-9', '.', 'Daniel', 'Jurafsky', 'and', 'James', 'H.', 'Martin', '(', '2008', ')', '.', 'Speech', 'and', 'Language', 'Processing', ',', '2nd', 'edition', '.', 'Pearson', 'Prentice', 'Hall', '.', 'ISBN', '978-0-13-187321-6', '.', 'Christopher', 'D.', 'Manning', ',', 'Prabhakar', 'Raghavan', ',', 'and', 'Hinrich', 'Schütze', '(', '2008', ')', '.', 'Introduction', 'to', 'Information', 'Retrieval', '.', 'Cambridge', 'University', 'Press', '.', 'ISBN', '978-0-521-86571-5', '.', 'Official', 'html', 'and', 'pdf', 'versions', 'available', 'without', 'charge', '.', 'Christopher', 'D.', 'Manning', 'and', 'Hinrich', 'Schütze', '(', '1999', ')', '.', 'Foundations', 'of', 'Statistical', 'Natural', 'Language', 'Processing', '.', 'The', 'MIT', 'Press', '.', 'ISBN', '978-0-262-13360-9', '.', 'David', 'M', '.', 'W.', 'Powers', 'and', 'Christopher', 'C', '.', 'R.', 'Turk', '(', '1989', ')', '.', 'Machine', 'Learning', 'of', 'Natural', 'Language', '.', 'Springer-Verlag', '.', 'ISBN', '978-0-387-19557-5', '.']\n"
          ]
        }
      ]
    },
    {
      "cell_type": "code",
      "metadata": {
        "id": "xufxGJpPU2eX"
      },
      "source": [
        "def plot_frequencia_tokens(tokens):\n",
        "    fd_words = FreqDist(tokens)\n",
        "    fd_words.plot(20)"
      ],
      "execution_count": null,
      "outputs": []
    },
    {
      "cell_type": "markdown",
      "metadata": {
        "id": "fXdTpsjVU2eZ"
      },
      "source": [
        "### Plot das tokenizações\n",
        "\n",
        "4. Plote o resultado de cada uma das tokenizações. \n",
        "Utilize o método <b> plot_frequencia_tokens() </b> para plotar o gráfico.\n",
        "Também imprima o tamanho de cada tokenização"
      ]
    },
    {
      "cell_type": "code",
      "metadata": {
        "id": "CBWNHwLNzWPV",
        "colab": {
          "base_uri": "https://localhost:8080/",
          "height": 310
        },
        "outputId": "58b804ac-8313-4f8a-d168-6dc9e65a2c70"
      },
      "source": [
        "print(\"tokens_regex\")\n",
        "plot_frequencia_tokens(tokens_regex)"
      ],
      "execution_count": null,
      "outputs": [
        {
          "output_type": "stream",
          "name": "stdout",
          "text": [
            "tokens_regex\n"
          ]
        },
        {
          "output_type": "display_data",
          "data": {
            "image/png": "[encoded data removed]",
            "text/plain": [
              "<Figure size 432x288 with 1 Axes>"
            ]
          },
          "metadata": {
            "needs_background": "light"
          }
        }
      ]
    },
    {
      "cell_type": "code",
      "source": [
        "print(\"tokens_nltk\")\n",
        "plot_frequencia_tokens(tokens_nltk)"
      ],
      "metadata": {
        "colab": {
          "base_uri": "https://localhost:8080/",
          "height": 313
        },
        "id": "TP6txncGlXOY",
        "outputId": "23c8af90-7328-4033-e0df-f4c2b58fe3f2"
      },
      "execution_count": null,
      "outputs": [
        {
          "output_type": "stream",
          "name": "stdout",
          "text": [
            "tokens_nltk\n"
          ]
        },
        {
          "output_type": "display_data",
          "data": {
            "image/png": "[encoded data removed]",
            "text/plain": [
              "<Figure size 432x288 with 1 Axes>"
            ]
          },
          "metadata": {
            "needs_background": "light"
          }
        }
      ]
    },
    {
      "cell_type": "markdown",
      "metadata": {
        "id": "JUOm1pgjU2ek"
      },
      "source": [
        "Como foi possível observar, existem variações nas tokenizações realizadas. \n",
        "A que gerou mais tokens foi a que utilizou regex.\n",
        "Por isso iremos utilizá-la a partir deste ponto.\n",
        "Utilize o resultado de <b> tokens_regex</b>."
      ]
    },
    {
      "cell_type": "markdown",
      "metadata": {
        "id": "GXN6naHeU2ek"
      },
      "source": [
        "## Capitalização\n",
        "\n",
        "5. Traforme todos os tokens para minúsculo utilizando a função abaixo:\n",
        "\n",
        "```python\n",
        "str.lower()\n",
        "```"
      ]
    },
    {
      "cell_type": "code",
      "metadata": {
        "id": "KgAOuq1sU2el",
        "colab": {
          "base_uri": "https://localhost:8080/"
        },
        "outputId": "a4a4bee4-3d9e-4b7c-81d9-bd0078720639"
      },
      "source": [
        "tokens = [tok.lower() for tok in tokens_regex]\n",
        "tokens"
      ],
      "execution_count": null,
      "outputs": [
        {
          "output_type": "execute_result",
          "data": {
            "text/plain": [
              "['processamento',\n",
              " 'de',\n",
              " 'língua',\n",
              " 'natural',\n",
              " '(',\n",
              " 'pln',\n",
              " ')',\n",
              " 'é',\n",
              " 'uma',\n",
              " 'subárea',\n",
              " 'da',\n",
              " 'ciência',\n",
              " 'da',\n",
              " 'computação',\n",
              " ',',\n",
              " 'inteligência',\n",
              " 'artificial',\n",
              " 'e',\n",
              " 'da',\n",
              " 'linguística',\n",
              " 'que',\n",
              " 'estuda',\n",
              " 'os',\n",
              " 'problemas',\n",
              " 'da',\n",
              " 'geração',\n",
              " 'e',\n",
              " 'compreensão',\n",
              " 'automática',\n",
              " 'de',\n",
              " 'línguas',\n",
              " 'humanas',\n",
              " 'naturais',\n",
              " '.',\n",
              " 'sistemas',\n",
              " 'de',\n",
              " 'geração',\n",
              " 'de',\n",
              " 'língua',\n",
              " 'natural',\n",
              " 'convertem',\n",
              " 'informação',\n",
              " 'de',\n",
              " 'bancos',\n",
              " 'de',\n",
              " 'dados',\n",
              " 'de',\n",
              " 'computadores',\n",
              " 'em',\n",
              " 'linguagem',\n",
              " 'compreensível',\n",
              " 'ao',\n",
              " 'ser',\n",
              " 'humano',\n",
              " 'e',\n",
              " 'sistemas',\n",
              " 'de',\n",
              " 'compreensão',\n",
              " 'de',\n",
              " 'língua',\n",
              " 'natural',\n",
              " 'convertem',\n",
              " 'ocorrências',\n",
              " 'de',\n",
              " 'linguagem',\n",
              " 'humana',\n",
              " 'em',\n",
              " 'representações',\n",
              " 'mais',\n",
              " 'formais',\n",
              " ',',\n",
              " 'mais',\n",
              " 'facilmente',\n",
              " 'manipuláveis',\n",
              " 'por',\n",
              " 'programas',\n",
              " 'de',\n",
              " 'computador',\n",
              " '.',\n",
              " 'alguns',\n",
              " 'desafios',\n",
              " 'do',\n",
              " 'pln',\n",
              " 'são',\n",
              " 'compreensão',\n",
              " 'de',\n",
              " 'língua',\n",
              " 'natural',\n",
              " ',',\n",
              " 'fazer',\n",
              " 'com',\n",
              " 'que',\n",
              " 'computadores',\n",
              " 'extraiam',\n",
              " 'sentido',\n",
              " 'de',\n",
              " 'linguagem',\n",
              " 'humana',\n",
              " 'ou',\n",
              " 'natural',\n",
              " 'e',\n",
              " 'geração',\n",
              " 'de',\n",
              " 'língua',\n",
              " 'natural',\n",
              " '.',\n",
              " '=',\n",
              " '=',\n",
              " 'história',\n",
              " '=',\n",
              " '=',\n",
              " 'a',\n",
              " 'história',\n",
              " 'do',\n",
              " 'pln',\n",
              " 'começou',\n",
              " 'na',\n",
              " 'década',\n",
              " 'de',\n",
              " '1950',\n",
              " ',',\n",
              " 'quando',\n",
              " 'alan',\n",
              " 'turing',\n",
              " 'publicou',\n",
              " 'o',\n",
              " 'artigo',\n",
              " '\"',\n",
              " 'computing',\n",
              " 'machinery',\n",
              " 'and',\n",
              " 'intelligence',\n",
              " '\"',\n",
              " ',',\n",
              " 'que',\n",
              " 'propunha',\n",
              " 'o',\n",
              " 'que',\n",
              " 'agora',\n",
              " 'é',\n",
              " 'chamado',\n",
              " 'de',\n",
              " 'teste',\n",
              " 'de',\n",
              " 'turing',\n",
              " 'como',\n",
              " 'critério',\n",
              " 'de',\n",
              " 'inteligência',\n",
              " '.',\n",
              " 'em',\n",
              " '1954',\n",
              " ',',\n",
              " 'a',\n",
              " 'experiência',\n",
              " 'de',\n",
              " 'georgetown',\n",
              " 'envolveu',\n",
              " 'a',\n",
              " 'tradução',\n",
              " 'automática',\n",
              " 'de',\n",
              " 'mais',\n",
              " 'de',\n",
              " 'sessenta',\n",
              " 'frases',\n",
              " 'russas',\n",
              " 'para',\n",
              " 'o',\n",
              " 'inglês',\n",
              " '.',\n",
              " 'os',\n",
              " 'autores',\n",
              " 'afirmaram',\n",
              " 'que',\n",
              " 'dentro',\n",
              " 'de',\n",
              " 'três',\n",
              " 'ou',\n",
              " 'cinco',\n",
              " 'anos',\n",
              " 'a',\n",
              " 'tradução',\n",
              " 'automática',\n",
              " 'seria',\n",
              " 'um',\n",
              " 'problema',\n",
              " 'resolvido',\n",
              " '.',\n",
              " 'no',\n",
              " 'entanto',\n",
              " ',',\n",
              " 'os',\n",
              " 'avanços',\n",
              " 'reais',\n",
              " 'foram',\n",
              " 'muito',\n",
              " 'mais',\n",
              " 'lentos',\n",
              " 'do',\n",
              " 'que',\n",
              " 'o',\n",
              " 'previsto',\n",
              " 'e',\n",
              " ',',\n",
              " 'após',\n",
              " 'o',\n",
              " 'relatório',\n",
              " 'alpac',\n",
              " 'em',\n",
              " '1966',\n",
              " ',',\n",
              " 'que',\n",
              " 'constatou',\n",
              " 'que',\n",
              " 'a',\n",
              " 'pesquisa',\n",
              " 'de',\n",
              " 'dez',\n",
              " 'anos',\n",
              " 'não',\n",
              " 'conseguiu',\n",
              " 'satisfazer',\n",
              " 'as',\n",
              " 'expectativas',\n",
              " ',',\n",
              " 'o',\n",
              " 'financiamento',\n",
              " 'para',\n",
              " 'este',\n",
              " 'estudo',\n",
              " 'em',\n",
              " 'tradução',\n",
              " 'automática',\n",
              " 'foi',\n",
              " 'reduzido',\n",
              " 'drasticamente',\n",
              " '.',\n",
              " 'poucas',\n",
              " 'pesquisas',\n",
              " 'em',\n",
              " 'tradução',\n",
              " 'automática',\n",
              " 'foram',\n",
              " 'conduzidas',\n",
              " 'até',\n",
              " 'o',\n",
              " 'final',\n",
              " 'dos',\n",
              " 'anos',\n",
              " '80',\n",
              " ',',\n",
              " 'quando',\n",
              " 'os',\n",
              " 'primeiros',\n",
              " 'sistemas',\n",
              " 'estatísticos',\n",
              " 'de',\n",
              " 'tradução',\n",
              " 'foram',\n",
              " 'desenvolvidos',\n",
              " '.',\n",
              " 'alguns',\n",
              " 'sistemas',\n",
              " 'de',\n",
              " 'pln',\n",
              " 'bem',\n",
              " 'sucedidos',\n",
              " 'desenvolvidos',\n",
              " 'nos',\n",
              " 'anos',\n",
              " '60',\n",
              " 'foram',\n",
              " 'shrdlu',\n",
              " ',',\n",
              " 'um',\n",
              " 'sistema',\n",
              " 'de',\n",
              " 'língua',\n",
              " 'natural',\n",
              " 'que',\n",
              " 'trabalhava',\n",
              " 'em',\n",
              " '\"',\n",
              " 'blocks',\n",
              " 'worlds',\n",
              " '\"',\n",
              " 'com',\n",
              " 'vocabulário',\n",
              " 'restrito',\n",
              " 'e',\n",
              " 'eliza',\n",
              " ',',\n",
              " 'uma',\n",
              " 'simulação',\n",
              " 'de',\n",
              " 'um',\n",
              " 'psicoterapeuta',\n",
              " 'escrita',\n",
              " 'por',\n",
              " 'joseph',\n",
              " 'weizenbaum',\n",
              " 'entre',\n",
              " '1964',\n",
              " 'e',\n",
              " '1966',\n",
              " '.',\n",
              " 'usando',\n",
              " 'pouca',\n",
              " 'informação',\n",
              " 'sobre',\n",
              " 'o',\n",
              " 'pensamento',\n",
              " 'ou',\n",
              " 'a',\n",
              " 'emoção',\n",
              " 'humana',\n",
              " ',',\n",
              " 'eliza',\n",
              " 'criava',\n",
              " ',',\n",
              " 'em',\n",
              " 'alguns',\n",
              " 'casos',\n",
              " ',',\n",
              " 'interações',\n",
              " 'surpreendentemente',\n",
              " 'humanas',\n",
              " '.',\n",
              " 'quando',\n",
              " 'o',\n",
              " '\"',\n",
              " 'paciente',\n",
              " '\"',\n",
              " 'excedia',\n",
              " 'a',\n",
              " 'base',\n",
              " 'de',\n",
              " 'conhecimento',\n",
              " 'do',\n",
              " 'programa',\n",
              " ',',\n",
              " 'eliza',\n",
              " 'fornecia',\n",
              " 'uma',\n",
              " 'resposta',\n",
              " 'genérica',\n",
              " ',',\n",
              " 'por',\n",
              " 'exemplo',\n",
              " ',',\n",
              " 'respondendo',\n",
              " 'a',\n",
              " '\"',\n",
              " 'minha',\n",
              " 'cabeça',\n",
              " 'dói',\n",
              " '\"',\n",
              " 'com',\n",
              " '\"',\n",
              " 'por',\n",
              " 'que',\n",
              " 'você',\n",
              " 'diz',\n",
              " 'que',\n",
              " 'sua',\n",
              " 'cabeça',\n",
              " 'dói',\n",
              " '?',\n",
              " '\"',\n",
              " '.',\n",
              " 'durante',\n",
              " 'a',\n",
              " 'década',\n",
              " 'de',\n",
              " '1970',\n",
              " ',',\n",
              " 'muitos',\n",
              " 'programadores',\n",
              " 'começaram',\n",
              " 'a',\n",
              " 'escrever',\n",
              " '\"',\n",
              " 'ontologias',\n",
              " 'conceituais',\n",
              " '\"',\n",
              " ',',\n",
              " 'que',\n",
              " 'estruturaram',\n",
              " 'a',\n",
              " 'informação',\n",
              " 'do',\n",
              " 'mundo',\n",
              " 'real',\n",
              " 'em',\n",
              " 'dados',\n",
              " 'compreensíveis',\n",
              " 'por',\n",
              " 'computadores',\n",
              " '.',\n",
              " 'exemplos',\n",
              " 'são',\n",
              " 'margie',\n",
              " '(',\n",
              " 'schank',\n",
              " ',',\n",
              " '1975',\n",
              " ')',\n",
              " ',',\n",
              " 'sam',\n",
              " '(',\n",
              " 'cullingford',\n",
              " ',',\n",
              " '1978',\n",
              " ')',\n",
              " ',',\n",
              " 'pam',\n",
              " '(',\n",
              " 'wilensky',\n",
              " ',',\n",
              " '1978',\n",
              " ')',\n",
              " ',',\n",
              " 'talespin',\n",
              " '(',\n",
              " 'meehan',\n",
              " ',',\n",
              " '1976',\n",
              " ')',\n",
              " ',',\n",
              " 'qualm',\n",
              " '(',\n",
              " 'lehnert',\n",
              " ',',\n",
              " '1977',\n",
              " ')',\n",
              " ',',\n",
              " 'politics',\n",
              " '(',\n",
              " 'carbonell',\n",
              " ',',\n",
              " '1979',\n",
              " ')',\n",
              " 'e',\n",
              " 'plot',\n",
              " 'units',\n",
              " '(',\n",
              " 'lehnert',\n",
              " ',',\n",
              " '1981',\n",
              " ')',\n",
              " '.',\n",
              " 'neste',\n",
              " 'período',\n",
              " ',',\n",
              " 'muitos',\n",
              " 'chatterbots',\n",
              " 'foram',\n",
              " 'escritos',\n",
              " ',',\n",
              " 'como',\n",
              " 'parry',\n",
              " ',',\n",
              " 'racter',\n",
              " 'e',\n",
              " 'jabberwacky',\n",
              " '.',\n",
              " 'até',\n",
              " 'a',\n",
              " 'década',\n",
              " 'de',\n",
              " '1980',\n",
              " ',',\n",
              " 'a',\n",
              " 'maioria',\n",
              " 'dos',\n",
              " 'sistemas',\n",
              " 'de',\n",
              " 'pln',\n",
              " 'se',\n",
              " 'baseava',\n",
              " 'em',\n",
              " 'conjuntos',\n",
              " 'complexos',\n",
              " 'de',\n",
              " 'regras',\n",
              " 'manuscritas',\n",
              " '.',\n",
              " 'a',\n",
              " 'partir',\n",
              " 'do',\n",
              " 'final',\n",
              " 'dos',\n",
              " 'anos',\n",
              " '1980',\n",
              " ',',\n",
              " 'no',\n",
              " 'entanto',\n",
              " ',',\n",
              " 'houve',\n",
              " 'uma',\n",
              " 'revolução',\n",
              " 'no',\n",
              " 'pln',\n",
              " 'com',\n",
              " 'a',\n",
              " 'introdução',\n",
              " 'de',\n",
              " 'algoritmos',\n",
              " 'de',\n",
              " 'aprendizagem',\n",
              " 'automática',\n",
              " '(',\n",
              " 'aprendizado',\n",
              " 'de',\n",
              " 'máquina',\n",
              " ')',\n",
              " 'para',\n",
              " 'o',\n",
              " 'processamento',\n",
              " 'de',\n",
              " 'linguagem',\n",
              " '.',\n",
              " 'isto',\n",
              " 'foi',\n",
              " 'devido',\n",
              " 'tanto',\n",
              " 'ao',\n",
              " 'aumento',\n",
              " 'constante',\n",
              " 'do',\n",
              " 'poder',\n",
              " 'computacional',\n",
              " '(',\n",
              " 'ver',\n",
              " 'lei',\n",
              " 'de',\n",
              " 'moore',\n",
              " ')',\n",
              " 'quanto',\n",
              " 'à',\n",
              " 'diminuição',\n",
              " 'gradual',\n",
              " 'da',\n",
              " 'dominância',\n",
              " 'das',\n",
              " 'teorias',\n",
              " 'da',\n",
              " 'linguística',\n",
              " 'chomskyanas',\n",
              " '(',\n",
              " 'como',\n",
              " 'a',\n",
              " 'gramática',\n",
              " 'gerativa',\n",
              " ')',\n",
              " ',',\n",
              " 'cujos',\n",
              " 'fundamentos',\n",
              " 'teóricos',\n",
              " 'desestimularam',\n",
              " 'o',\n",
              " 'tipo',\n",
              " 'de',\n",
              " 'corpus',\n",
              " 'linguístico',\n",
              " 'que',\n",
              " 'está',\n",
              " 'subjacente',\n",
              " 'à',\n",
              " 'abordagem',\n",
              " 'da',\n",
              " 'aprendizagem',\n",
              " 'automática',\n",
              " 'ao',\n",
              " 'processamento',\n",
              " 'da',\n",
              " 'linguagem',\n",
              " '.',\n",
              " 'alguns',\n",
              " 'dos',\n",
              " 'algoritmos',\n",
              " 'de',\n",
              " 'aprendizado',\n",
              " 'de',\n",
              " 'máquinas',\n",
              " 'mais',\n",
              " 'antigos',\n",
              " ',',\n",
              " 'como',\n",
              " 'as',\n",
              " 'árvores',\n",
              " 'de',\n",
              " 'decisão',\n",
              " ',',\n",
              " 'produziam',\n",
              " 'sistemas',\n",
              " 'de',\n",
              " 'regras',\n",
              " 'rígidas',\n",
              " 'então',\n",
              " 'semelhantes',\n",
              " 'às',\n",
              " 'regras',\n",
              " 'existentes',\n",
              " 'na',\n",
              " 'escritas',\n",
              " 'à',\n",
              " 'mão',\n",
              " '.',\n",
              " 'no',\n",
              " 'entanto',\n",
              " ',',\n",
              " 'a',\n",
              " 'marcação',\n",
              " 'de',\n",
              " 'partes',\n",
              " 'da',\n",
              " 'fala',\n",
              " '(',\n",
              " 'part',\n",
              " '-',\n",
              " 'of',\n",
              " '-',\n",
              " 'speech',\n",
              " 'tagging',\n",
              " ')',\n",
              " 'introduziu',\n",
              " 'o',\n",
              " 'uso',\n",
              " 'de',\n",
              " 'modelos',\n",
              " 'ocultos',\n",
              " 'de',\n",
              " 'markov',\n",
              " 'para',\n",
              " 'o',\n",
              " 'pln',\n",
              " 'e',\n",
              " ',',\n",
              " 'cada',\n",
              " 'vez',\n",
              " 'mais',\n",
              " ',',\n",
              " 'a',\n",
              " 'pesquisa',\n",
              " 'se',\n",
              " 'concentrava',\n",
              " 'em',\n",
              " 'modelos',\n",
              " 'estatísticos',\n",
              " ',',\n",
              " 'que',\n",
              " 'tomam',\n",
              " 'decisões',\n",
              " 'suaves',\n",
              " 'e',\n",
              " 'probabilísticas',\n",
              " 'baseadas',\n",
              " 'na',\n",
              " 'atribuição',\n",
              " 'de',\n",
              " 'pesos',\n",
              " 'reais',\n",
              " 'aos',\n",
              " 'recursos',\n",
              " 'que',\n",
              " 'compõem',\n",
              " 'dados',\n",
              " 'de',\n",
              " 'entrada',\n",
              " '.',\n",
              " 'os',\n",
              " 'modelos',\n",
              " 'de',\n",
              " 'linguagem',\n",
              " 'de',\n",
              " 'cache',\n",
              " ',',\n",
              " 'sobre',\n",
              " 'os',\n",
              " 'quais',\n",
              " 'muitos',\n",
              " 'sistemas',\n",
              " 'de',\n",
              " 'reconhecimento',\n",
              " 'de',\n",
              " 'fala',\n",
              " 'agora',\n",
              " 'dependem',\n",
              " ',',\n",
              " 'são',\n",
              " 'exemplos',\n",
              " 'de',\n",
              " 'tais',\n",
              " 'modelos',\n",
              " 'estatísticos',\n",
              " '.',\n",
              " 'esses',\n",
              " 'modelos',\n",
              " 'são',\n",
              " 'geralmente',\n",
              " 'mais',\n",
              " 'robustos',\n",
              " 'quando',\n",
              " 'dados',\n",
              " 'informações',\n",
              " 'desconhecidas',\n",
              " ',',\n",
              " 'especialmente',\n",
              " 'entrada',\n",
              " 'que',\n",
              " 'contém',\n",
              " 'erros',\n",
              " '(',\n",
              " 'como',\n",
              " 'é',\n",
              " 'muito',\n",
              " 'comum',\n",
              " 'para',\n",
              " 'dados',\n",
              " 'do',\n",
              " 'mundo',\n",
              " 'real',\n",
              " ')',\n",
              " 'e',\n",
              " 'produzem',\n",
              " 'resultados',\n",
              " 'mais',\n",
              " 'confiáveis',\n",
              " 'quando',\n",
              " 'integrados',\n",
              " 'em',\n",
              " 'sistemas',\n",
              " 'maiores',\n",
              " 'que',\n",
              " 'compreendem',\n",
              " 'múltiplas',\n",
              " 'tarefas',\n",
              " '.',\n",
              " 'muitos',\n",
              " 'dos',\n",
              " 'sucessos',\n",
              " 'iniciais',\n",
              " 'notáveis',\n",
              " 'ocorreram',\n",
              " 'no',\n",
              " 'campo',\n",
              " 'da',\n",
              " 'tradução',\n",
              " 'automática',\n",
              " ',',\n",
              " 'devido',\n",
              " 'especialmente',\n",
              " 'ao',\n",
              " 'trabalho',\n",
              " 'de',\n",
              " 'pesquisa',\n",
              " 'da',\n",
              " 'ibm',\n",
              " ',',\n",
              " 'que',\n",
              " 'desenvolveu',\n",
              " 'modelos',\n",
              " 'estatísticos',\n",
              " 'mais',\n",
              " 'elaborados',\n",
              " '.',\n",
              " 'estes',\n",
              " 'sistemas',\n",
              " 'foram',\n",
              " 'capazes',\n",
              " 'de',\n",
              " 'tirar',\n",
              " 'proveito',\n",
              " 'de',\n",
              " 'corpora',\n",
              " 'textuais',\n",
              " 'multilíngues',\n",
              " 'existentes',\n",
              " 'produzidos',\n",
              " 'pelo',\n",
              " 'parlamento',\n",
              " 'do',\n",
              " 'canadá',\n",
              " 'e',\n",
              " 'a',\n",
              " 'união',\n",
              " 'europeia',\n",
              " 'como',\n",
              " 'resultado',\n",
              " 'de',\n",
              " 'leis',\n",
              " 'que',\n",
              " 'exigem',\n",
              " 'a',\n",
              " 'tradução',\n",
              " 'de',\n",
              " 'todos',\n",
              " 'os',\n",
              " 'processos',\n",
              " 'governamentais',\n",
              " 'em',\n",
              " 'todas',\n",
              " 'as',\n",
              " 'línguas',\n",
              " 'oficiais',\n",
              " 'dos',\n",
              " 'países',\n",
              " '.',\n",
              " 'no',\n",
              " 'entanto',\n",
              " ',',\n",
              " 'a',\n",
              " 'maioria',\n",
              " 'dos',\n",
              " 'sistemas',\n",
              " 'dependia',\n",
              " 'de',\n",
              " 'corpora',\n",
              " 'desenvolvido',\n",
              " 'especificamente',\n",
              " 'para',\n",
              " 'tarefas',\n",
              " 'implementadas',\n",
              " 'por',\n",
              " 'esses',\n",
              " 'sistemas',\n",
              " ',',\n",
              " 'o',\n",
              " 'que',\n",
              " 'era',\n",
              " '(',\n",
              " 'e',\n",
              " 'muitas',\n",
              " 'vezes',\n",
              " 'continua',\n",
              " 'sendo',\n",
              " ')',\n",
              " 'uma',\n",
              " 'grande',\n",
              " 'limitação',\n",
              " 'no',\n",
              " 'sucesso',\n",
              " 'dos',\n",
              " 'mesmo',\n",
              " '.',\n",
              " 'como',\n",
              " 'resultado',\n",
              " ',',\n",
              " 'uma',\n",
              " 'grande',\n",
              " 'quantidade',\n",
              " 'de',\n",
              " 'pesquisa',\n",
              " 'passou',\n",
              " 'de',\n",
              " 'quantidades',\n",
              " 'de',\n",
              " 'dados',\n",
              " 'limitadas',\n",
              " 'a',\n",
              " 'métodos',\n",
              " 'de',\n",
              " 'aprendizagem',\n",
              " 'mais',\n",
              " 'eficazes',\n",
              " '.',\n",
              " 'pesquisas',\n",
              " 'recentes',\n",
              " 'têm',\n",
              " 'se',\n",
              " 'concentrado',\n",
              " 'cada',\n",
              " 'vez',\n",
              " 'mais',\n",
              " 'em',\n",
              " 'algoritmos',\n",
              " 'de',\n",
              " 'aprendizagem',\n",
              " 'semi',\n",
              " '-',\n",
              " 'supervisionados',\n",
              " 'e',\n",
              " 'sem',\n",
              " 'supervisão',\n",
              " '.',\n",
              " 'esses',\n",
              " 'algoritmos',\n",
              " 'são',\n",
              " 'capazes',\n",
              " 'de',\n",
              " 'aprender',\n",
              " 'com',\n",
              " 'dados',\n",
              " 'que',\n",
              " 'não',\n",
              " 'foram',\n",
              " 'anotados',\n",
              " 'manualmente',\n",
              " 'com',\n",
              " 'as',\n",
              " 'respostas',\n",
              " 'desejadas',\n",
              " 'ou',\n",
              " 'usando',\n",
              " 'uma',\n",
              " 'combinação',\n",
              " 'de',\n",
              " 'dados',\n",
              " 'anotados',\n",
              " 'e',\n",
              " 'não',\n",
              " 'anotados',\n",
              " '.',\n",
              " 'geralmente',\n",
              " ',',\n",
              " 'esta',\n",
              " 'tarefa',\n",
              " 'é',\n",
              " 'muito',\n",
              " 'mais',\n",
              " 'trabalhosa',\n",
              " 'do',\n",
              " 'que',\n",
              " 'a',\n",
              " 'aprendizagem',\n",
              " 'supervisionada',\n",
              " 'e',\n",
              " 'normalmente',\n",
              " 'produz',\n",
              " 'resultados',\n",
              " 'menos',\n",
              " 'precisos',\n",
              " 'para',\n",
              " 'uma',\n",
              " 'quantidade',\n",
              " 'específica',\n",
              " 'de',\n",
              " 'dados',\n",
              " 'de',\n",
              " 'entrada',\n",
              " '.',\n",
              " 'no',\n",
              " 'entanto',\n",
              " ',',\n",
              " 'há',\n",
              " 'uma',\n",
              " 'enorme',\n",
              " 'quantidade',\n",
              " 'de',\n",
              " 'dados',\n",
              " 'não',\n",
              " 'anotados',\n",
              " 'disponíveis',\n",
              " '(',\n",
              " 'incluindo',\n",
              " ',',\n",
              " 'entre',\n",
              " 'outras',\n",
              " 'coisas',\n",
              " ',',\n",
              " 'todo',\n",
              " 'o',\n",
              " 'conteúdo',\n",
              " 'da',\n",
              " 'world',\n",
              " 'wide',\n",
              " 'web',\n",
              " ')',\n",
              " ',',\n",
              " 'que',\n",
              " 'muitas',\n",
              " 'vezes',\n",
              " 'pode',\n",
              " 'compensar',\n",
              " 'os',\n",
              " 'resultados',\n",
              " 'inferiores',\n",
              " '.',\n",
              " '=',\n",
              " '=',\n",
              " 'usando',\n",
              " 'a',\n",
              " 'aprendizagem',\n",
              " 'automática',\n",
              " '(',\n",
              " 'aprendizado',\n",
              " 'de',\n",
              " 'máquina',\n",
              " ')',\n",
              " '=',\n",
              " '=',\n",
              " 'os',\n",
              " 'algoritmos',\n",
              " 'modernos',\n",
              " 'de',\n",
              " 'pln',\n",
              " 'baseiam',\n",
              " '-',\n",
              " ...]"
            ]
          },
          "metadata": {},
          "execution_count": 215
        }
      ]
    },
    {
      "cell_type": "markdown",
      "metadata": {
        "id": "GT44nJ72U2en"
      },
      "source": [
        " <b> <span style=\"color:red\"> Lembre de utilizar a VARIÁVEL que contém o resultado da transformação anterior </span> </b>"
      ]
    },
    {
      "cell_type": "markdown",
      "metadata": {
        "id": "NNBDXkVGU2en"
      },
      "source": [
        "## Remoção Stopwords\n",
        "\n",
        "6. remova todas as stopwords retornadas pelo pacote NLTK da lista de tokens.\n",
        "\n",
        "```python\n",
        "portugues_stops = stopwords.words('portuguese')\n",
        "```\n",
        "\n",
        "Note que a variável \"portugues_stops\" é uma lista de palavras."
      ]
    },
    {
      "cell_type": "code",
      "metadata": {
        "id": "-vkUCUv2U2en"
      },
      "source": [
        "from nltk.corpus import stopwords"
      ],
      "execution_count": null,
      "outputs": []
    },
    {
      "cell_type": "code",
      "metadata": {
        "id": "Uakn0ba1zaWQ"
      },
      "source": [
        "portugues_stops = stopwords.words('portuguese')"
      ],
      "execution_count": null,
      "outputs": []
    },
    {
      "cell_type": "code",
      "metadata": {
        "id": "7vG30zABU2ew"
      },
      "source": [
        "tokens_sem_stop = [word for word in tokens_nltk if not word in portugues_stops]"
      ],
      "execution_count": null,
      "outputs": []
    },
    {
      "cell_type": "code",
      "source": [
        "len(tokens_sem_stop)"
      ],
      "metadata": {
        "colab": {
          "base_uri": "https://localhost:8080/"
        },
        "id": "ZduG2rRuoCFv",
        "outputId": "2ee935e6-eff4-43af-c77e-2862f19b509f"
      },
      "execution_count": null,
      "outputs": [
        {
          "output_type": "execute_result",
          "data": {
            "text/plain": [
              "3281"
            ]
          },
          "metadata": {},
          "execution_count": 219
        }
      ]
    },
    {
      "cell_type": "markdown",
      "metadata": {
        "id": "PpsE73A3U2ey"
      },
      "source": [
        "## Remoção Números\n",
        "\n",
        "7. remova todos os números, utilizando uma regex\n",
        "\n",
        "```python\n",
        "re.sub(__,__,__)\n",
        "```"
      ]
    },
    {
      "cell_type": "code",
      "source": [
        "tokens_sem_numbers_sub =  [re.sub(\"\\d\",'',word) for word in tokens_sem_stop]\n",
        "len(tokens_sem_numbers_sub)"
      ],
      "metadata": {
        "colab": {
          "base_uri": "https://localhost:8080/"
        },
        "id": "NpQbeX7vpi53",
        "outputId": "2a1e5df7-0519-4925-9e72-1c4f419f7ad5"
      },
      "execution_count": null,
      "outputs": [
        {
          "output_type": "execute_result",
          "data": {
            "text/plain": [
              "3281"
            ]
          },
          "metadata": {},
          "execution_count": 220
        }
      ]
    },
    {
      "cell_type": "code",
      "metadata": {
        "id": "93QZ-mbOU2ez",
        "colab": {
          "base_uri": "https://localhost:8080/"
        },
        "outputId": "53439f65-4a43-4513-9759-369ad9d762d9"
      },
      "source": [
        "#Dúvida professora: O re.sub na verdade não deixa o ('') no array?\n",
        "tokens_sem_numbers = [word for word in tokens_sem_stop if not re.search(\"\\d\",word)]\n",
        "len(tokens_sem_numbers)"
      ],
      "execution_count": null,
      "outputs": [
        {
          "output_type": "execute_result",
          "data": {
            "text/plain": [
              "3225"
            ]
          },
          "metadata": {},
          "execution_count": 221
        }
      ]
    },
    {
      "cell_type": "markdown",
      "metadata": {
        "id": "ZAziUGgxU2e0"
      },
      "source": [
        "## Remoção Pontuação\n",
        "\n",
        "8. remova todas as pontruações retornadas pelo pacote string da lista de tokens.\n",
        "\n",
        "```python\n",
        "string.punctuation\n",
        "```"
      ]
    },
    {
      "cell_type": "code",
      "metadata": {
        "id": "T-26diOVU2e2"
      },
      "source": [
        "import string"
      ],
      "execution_count": null,
      "outputs": []
    },
    {
      "cell_type": "code",
      "metadata": {
        "id": "Qsrwi6PmU2e3",
        "colab": {
          "base_uri": "https://localhost:8080/",
          "height": 35
        },
        "outputId": "9906b76c-2448-4130-dcbe-c1ad04b0809f"
      },
      "source": [
        "string.punctuation"
      ],
      "execution_count": null,
      "outputs": [
        {
          "output_type": "execute_result",
          "data": {
            "application/vnd.google.colaboratory.intrinsic+json": {
              "type": "string"
            },
            "text/plain": [
              "'!\"#$%&\\'()*+,-./:;<=>?@[\\\\]^_`{|}~'"
            ]
          },
          "metadata": {},
          "execution_count": 223
        }
      ]
    },
    {
      "cell_type": "code",
      "metadata": {
        "id": "-JPCj-lXU2e6",
        "colab": {
          "base_uri": "https://localhost:8080/"
        },
        "outputId": "ed5d6d61-64e0-4529-9052-db41d5ed523d"
      },
      "source": [
        "tokens_sem_punction = [word for word in tokens_sem_numbers if not re.search(f\"[{string.punctuation}]\",word)]\n",
        "len(tokens_sem_punction)"
      ],
      "execution_count": null,
      "outputs": [
        {
          "output_type": "execute_result",
          "data": {
            "text/plain": [
              "2534"
            ]
          },
          "metadata": {},
          "execution_count": 224
        }
      ]
    },
    {
      "cell_type": "markdown",
      "metadata": {
        "id": "SM-c--fZU2fB"
      },
      "source": [
        "## Remoção Acentos\n",
        "\n",
        "9. remova todos os acentos utilizando a função abaixo:\n",
        "\n",
        "```python\n",
        "unidecode(str)\n",
        "```"
      ]
    },
    {
      "cell_type": "code",
      "metadata": {
        "id": "-m2wSusXU2fB"
      },
      "source": [
        "from unidecode import unidecode"
      ],
      "execution_count": null,
      "outputs": []
    },
    {
      "cell_type": "code",
      "metadata": {
        "id": "H1q1I-UhU2fD"
      },
      "source": [
        "tokens_sem_acentos = [unidecode(word) for word in tokens_sem_punction]"
      ],
      "execution_count": null,
      "outputs": []
    },
    {
      "cell_type": "markdown",
      "metadata": {
        "id": "YdD-DyW-U2fF"
      },
      "source": [
        "10. Plote a frequência dos tokens sem acentos. Utilize o método plot_frequencia_tokens() para plotar o gráfico. Também imprima o tamanho desta lista. "
      ]
    },
    {
      "cell_type": "code",
      "metadata": {
        "id": "NkQFX2o1zhRa",
        "colab": {
          "base_uri": "https://localhost:8080/",
          "height": 358
        },
        "outputId": "4cbdcd0c-2479-4f98-dedb-82012e6bc105"
      },
      "source": [
        "print(\"Tamanho tokens sem acentos: \",len(tokens_sem_acentos))\n",
        "plot_frequencia_tokens(tokens_sem_acentos)"
      ],
      "execution_count": null,
      "outputs": [
        {
          "output_type": "stream",
          "name": "stdout",
          "text": [
            "Tamanho tokens sem acentos:  2534\n"
          ]
        },
        {
          "output_type": "display_data",
          "data": {
            "image/png": "[encoded data removed]",
            "text/plain": [
              "<Figure size 432x288 with 1 Axes>"
            ]
          },
          "metadata": {
            "needs_background": "light"
          }
        }
      ]
    },
    {
      "cell_type": "markdown",
      "metadata": {
        "id": "N0B2VMc2U2fM"
      },
      "source": [
        "## Stemming\n",
        "\n",
        "Iremos utilizar o stemming da biblioteca NLTK. O algoritmo disponível para este procedimento em portugês é o RSLPStemmer.\n",
        "\n",
        "```python\n",
        "stemmer = nltk.stem.RSLPStemmer()\n",
        "```\n",
        "\n",
        "11. Aplique o stemmer em cada elemento da lista de tokens.\n"
      ]
    },
    {
      "cell_type": "code",
      "metadata": {
        "id": "HgOlhUGfzjLd"
      },
      "source": [
        "stemmer = nltk.stem.RSLPStemmer()"
      ],
      "execution_count": null,
      "outputs": []
    },
    {
      "cell_type": "code",
      "source": [
        "tokens_stem = [stemmer.stem(word) for word in tokens_sem_acentos]"
      ],
      "metadata": {
        "id": "HpwDbCBItBAg"
      },
      "execution_count": null,
      "outputs": []
    },
    {
      "cell_type": "markdown",
      "metadata": {
        "id": "PE9SWw5BU2fS"
      },
      "source": [
        "12.  Plote a frequência dos tokens após o processo de stemming. Utilize o método plot_frequencia_tokens() para plotar o gráfico. Também imprima o tamanho desta lista. "
      ]
    },
    {
      "cell_type": "code",
      "metadata": {
        "id": "YrYyawTqzmeN",
        "colab": {
          "base_uri": "https://localhost:8080/",
          "height": 329
        },
        "outputId": "1b3c5004-e6db-4fd5-8581-b216944e7232"
      },
      "source": [
        "print(\"Tamanho tokens stem: \",len(tokens_stem))\n",
        "plot_frequencia_tokens(tokens_stem)"
      ],
      "execution_count": null,
      "outputs": [
        {
          "output_type": "stream",
          "name": "stdout",
          "text": [
            "Tamanho tokens stem:  2534\n"
          ]
        },
        {
          "output_type": "display_data",
          "data": {
            "image/png": "[encoded data removed]",
            "text/plain": [
              "<Figure size 432x288 with 1 Axes>"
            ]
          },
          "metadata": {
            "needs_background": "light"
          }
        }
      ]
    },
    {
      "cell_type": "markdown",
      "metadata": {
        "id": "vRj0sT4oU2fV"
      },
      "source": [
        "## Lemmatization\n",
        "13. Aplique a lematização\n",
        "a biblitoteca NLTK não possui lematização para português.\n",
        "Mas a scpaCy possui."
      ]
    },
    {
      "cell_type": "code",
      "metadata": {
        "id": "x-oXoWovWrbt"
      },
      "source": [
        "import pt_core_news_sm"
      ],
      "execution_count": null,
      "outputs": []
    },
    {
      "cell_type": "code",
      "metadata": {
        "id": "QFpQrNXQU2fV"
      },
      "source": [
        "#carrega o modelo para português\n",
        "nlp = pt_core_news_sm.load()"
      ],
      "execution_count": null,
      "outputs": []
    },
    {
      "cell_type": "markdown",
      "metadata": {
        "id": "hBslXKwlU2fY"
      },
      "source": [
        "A primeira etapa para executar a lematização é transformar a lista de tokens para uma string. \n",
        "Utilize a variável de tokens: <b> tokens_sem_punction </b>.\n",
        "Você pode executar a <b> lematização </b> com acentos ou sem acentos. Funciona da mesma forma.\n",
        "\n",
        "Dica: utilize o método join para isto:\n",
        "\n",
        "```python\n",
        "str.join(list)\n",
        "\n",
        "```"
      ]
    },
    {
      "cell_type": "code",
      "metadata": {
        "id": "DAo25jkFU2fY"
      },
      "source": [
        "#str_tokens = ' '.join(tokens_sem_punction)\n",
        "str_tokens = ' '.join(tokens_sem_acentos)"
      ],
      "execution_count": null,
      "outputs": []
    },
    {
      "cell_type": "markdown",
      "metadata": {
        "id": "aNTknXsLU2fb"
      },
      "source": [
        "Depois carregue a string de tokens (<b>str_tokens</b>) no modelo <b> nlp </b>, carregado em um dos passos anteriores.\n",
        "\n",
        "```python\n",
        "doc = nlp(str_tokens)\n",
        "```"
      ]
    },
    {
      "cell_type": "code",
      "metadata": {
        "id": "BchCPaZTU2fb"
      },
      "source": [
        "doc = nlp(str_tokens)"
      ],
      "execution_count": null,
      "outputs": []
    },
    {
      "cell_type": "markdown",
      "metadata": {
        "id": "9uXzFRLWU2fd"
      },
      "source": [
        "Verifique o tipo da variável <b> doc </b>.\n",
        "Observe que é do tipo spacy.tokens.doc.Doc"
      ]
    },
    {
      "cell_type": "code",
      "metadata": {
        "id": "cnxBJgCiU2fd",
        "colab": {
          "base_uri": "https://localhost:8080/"
        },
        "outputId": "a5eec42d-4ccf-4421-8d14-5072410f4226"
      },
      "source": [
        "type(doc)"
      ],
      "execution_count": null,
      "outputs": [
        {
          "output_type": "execute_result",
          "data": {
            "text/plain": [
              "spacy.tokens.doc.Doc"
            ]
          },
          "metadata": {},
          "execution_count": 235
        }
      ]
    },
    {
      "cell_type": "markdown",
      "metadata": {
        "id": "MU495FKpU2ff"
      },
      "source": [
        "Como tipo da variável doc é do tipo spacy.tokens.doc.Doc.\n",
        "Apenas é preciso iterar em cada token e retornar o atributo <b> lemma_</b>"
      ]
    },
    {
      "cell_type": "code",
      "metadata": {
        "id": "0jOWhl2WU2fg"
      },
      "source": [
        "token_lemm = [token.lemma_ for token in doc]"
      ],
      "execution_count": null,
      "outputs": []
    },
    {
      "cell_type": "code",
      "metadata": {
        "id": "lAcNhp-OU2fh",
        "colab": {
          "base_uri": "https://localhost:8080/"
        },
        "outputId": "6748b810-ae9d-41c4-b645-59ed21ce1db9"
      },
      "source": [
        "len(token_lemm)"
      ],
      "execution_count": null,
      "outputs": [
        {
          "output_type": "execute_result",
          "data": {
            "text/plain": [
              "2538"
            ]
          },
          "metadata": {},
          "execution_count": 237
        }
      ]
    },
    {
      "cell_type": "markdown",
      "metadata": {
        "id": "EOUMZMmuU2fm"
      },
      "source": [
        "14.  Plote a frequência dos tokens após o processo de lematização. Utilize o método plot_frequencia_tokens() para plotar o gráfico. Também imprima o tamanho desta lista. "
      ]
    },
    {
      "cell_type": "code",
      "metadata": {
        "id": "i_bQAPvqzp-k",
        "colab": {
          "base_uri": "https://localhost:8080/",
          "height": 362
        },
        "outputId": "44b1c87c-24f7-4668-b2d3-ed13e0128dcb"
      },
      "source": [
        "print(\"Tamanho tokens lemm: \",len(token_lemm))\n",
        "plot_frequencia_tokens(token_lemm)"
      ],
      "execution_count": null,
      "outputs": [
        {
          "output_type": "stream",
          "name": "stdout",
          "text": [
            "Tamanho tokens lemm:  2538\n"
          ]
        },
        {
          "output_type": "display_data",
          "data": {
            "image/png": "[encoded data removed]",
            "text/plain": [
              "<Figure size 432x288 with 1 Axes>"
            ]
          },
          "metadata": {
            "needs_background": "light"
          }
        }
      ]
    },
    {
      "cell_type": "markdown",
      "metadata": {
        "id": "-XLXgdESYG-J"
      },
      "source": [
        "# Extra: Outras bibliotecas para pré-processamento"
      ]
    },
    {
      "cell_type": "markdown",
      "metadata": {
        "id": "wFER3k8KYe-F"
      },
      "source": [
        "## Texhero\n",
        "\n",
        "https://texthero.org/"
      ]
    },
    {
      "cell_type": "code",
      "metadata": {
        "id": "rcyWSM2vYLW3",
        "colab": {
          "base_uri": "https://localhost:8080/"
        },
        "outputId": "71625430-577a-48f1-aaff-f18b1d794a08"
      },
      "source": [
        "!pip install texthero==1.0.9"
      ],
      "execution_count": null,
      "outputs": [
        {
          "output_type": "stream",
          "name": "stdout",
          "text": [
            "Requirement already satisfied: texthero==1.0.9 in /usr/local/lib/python3.7/dist-packages (1.0.9)\n",
            "Requirement already satisfied: plotly>=4.2.0 in /usr/local/lib/python3.7/dist-packages (from texthero==1.0.9) (5.5.0)\n",
            "Requirement already satisfied: unidecode>=1.1.1 in /usr/local/lib/python3.7/dist-packages (from texthero==1.0.9) (1.2.0)\n",
            "Requirement already satisfied: nltk>=3.3 in /usr/local/lib/python3.7/dist-packages (from texthero==1.0.9) (3.7)\n",
            "Requirement already satisfied: pandas>=1.0.2 in /usr/local/lib/python3.7/dist-packages (from texthero==1.0.9) (1.3.5)\n",
            "Requirement already satisfied: numpy>=1.17 in /usr/local/lib/python3.7/dist-packages (from texthero==1.0.9) (1.19.5)\n",
            "Requirement already satisfied: scikit-learn>=0.22 in /usr/local/lib/python3.7/dist-packages (from texthero==1.0.9) (1.0.2)\n",
            "Requirement already satisfied: gensim>=3.6.0 in /usr/local/lib/python3.7/dist-packages (from texthero==1.0.9) (3.6.0)\n",
            "Requirement already satisfied: wordcloud>=1.5.0 in /usr/local/lib/python3.7/dist-packages (from texthero==1.0.9) (1.5.0)\n",
            "Requirement already satisfied: tqdm>=4.3 in /usr/local/lib/python3.7/dist-packages (from texthero==1.0.9) (4.62.3)\n",
            "Requirement already satisfied: spacy>=2.2.2 in /usr/local/lib/python3.7/dist-packages (from texthero==1.0.9) (2.2.4)\n",
            "Requirement already satisfied: matplotlib>=3.1.0 in /usr/local/lib/python3.7/dist-packages (from texthero==1.0.9) (3.2.2)\n",
            "Requirement already satisfied: scipy>=0.18.1 in /usr/local/lib/python3.7/dist-packages (from gensim>=3.6.0->texthero==1.0.9) (1.4.1)\n",
            "Requirement already satisfied: six>=1.5.0 in /usr/local/lib/python3.7/dist-packages (from gensim>=3.6.0->texthero==1.0.9) (1.15.0)\n",
            "Requirement already satisfied: smart-open>=1.2.1 in /usr/local/lib/python3.7/dist-packages (from gensim>=3.6.0->texthero==1.0.9) (5.2.1)\n",
            "Requirement already satisfied: pyparsing!=2.0.4,!=2.1.2,!=2.1.6,>=2.0.1 in /usr/local/lib/python3.7/dist-packages (from matplotlib>=3.1.0->texthero==1.0.9) (3.0.7)\n",
            "Requirement already satisfied: cycler>=0.10 in /usr/local/lib/python3.7/dist-packages (from matplotlib>=3.1.0->texthero==1.0.9) (0.11.0)\n",
            "Requirement already satisfied: kiwisolver>=1.0.1 in /usr/local/lib/python3.7/dist-packages (from matplotlib>=3.1.0->texthero==1.0.9) (1.3.2)\n",
            "Requirement already satisfied: python-dateutil>=2.1 in /usr/local/lib/python3.7/dist-packages (from matplotlib>=3.1.0->texthero==1.0.9) (2.8.2)\n",
            "Requirement already satisfied: joblib in /usr/local/lib/python3.7/dist-packages (from nltk>=3.3->texthero==1.0.9) (1.1.0)\n",
            "Requirement already satisfied: click in /usr/local/lib/python3.7/dist-packages (from nltk>=3.3->texthero==1.0.9) (7.1.2)\n",
            "Requirement already satisfied: regex>=2021.8.3 in /usr/local/lib/python3.7/dist-packages (from nltk>=3.3->texthero==1.0.9) (2022.1.18)\n",
            "Requirement already satisfied: pytz>=2017.3 in /usr/local/lib/python3.7/dist-packages (from pandas>=1.0.2->texthero==1.0.9) (2018.9)\n",
            "Requirement already satisfied: tenacity>=6.2.0 in /usr/local/lib/python3.7/dist-packages (from plotly>=4.2.0->texthero==1.0.9) (8.0.1)\n",
            "Requirement already satisfied: threadpoolctl>=2.0.0 in /usr/local/lib/python3.7/dist-packages (from scikit-learn>=0.22->texthero==1.0.9) (3.1.0)\n",
            "Requirement already satisfied: srsly<1.1.0,>=1.0.2 in /usr/local/lib/python3.7/dist-packages (from spacy>=2.2.2->texthero==1.0.9) (1.0.5)\n",
            "Requirement already satisfied: murmurhash<1.1.0,>=0.28.0 in /usr/local/lib/python3.7/dist-packages (from spacy>=2.2.2->texthero==1.0.9) (1.0.6)\n",
            "Requirement already satisfied: cymem<2.1.0,>=2.0.2 in /usr/local/lib/python3.7/dist-packages (from spacy>=2.2.2->texthero==1.0.9) (2.0.6)\n",
            "Requirement already satisfied: wasabi<1.1.0,>=0.4.0 in /usr/local/lib/python3.7/dist-packages (from spacy>=2.2.2->texthero==1.0.9) (0.9.0)\n",
            "Requirement already satisfied: requests<3.0.0,>=2.13.0 in /usr/local/lib/python3.7/dist-packages (from spacy>=2.2.2->texthero==1.0.9) (2.23.0)\n",
            "Requirement already satisfied: setuptools in /usr/local/lib/python3.7/dist-packages (from spacy>=2.2.2->texthero==1.0.9) (57.4.0)\n",
            "Requirement already satisfied: preshed<3.1.0,>=3.0.2 in /usr/local/lib/python3.7/dist-packages (from spacy>=2.2.2->texthero==1.0.9) (3.0.6)\n",
            "Requirement already satisfied: catalogue<1.1.0,>=0.0.7 in /usr/local/lib/python3.7/dist-packages (from spacy>=2.2.2->texthero==1.0.9) (1.0.0)\n",
            "Requirement already satisfied: blis<0.5.0,>=0.4.0 in /usr/local/lib/python3.7/dist-packages (from spacy>=2.2.2->texthero==1.0.9) (0.4.1)\n",
            "Requirement already satisfied: plac<1.2.0,>=0.9.6 in /usr/local/lib/python3.7/dist-packages (from spacy>=2.2.2->texthero==1.0.9) (1.1.3)\n",
            "Requirement already satisfied: thinc==7.4.0 in /usr/local/lib/python3.7/dist-packages (from spacy>=2.2.2->texthero==1.0.9) (7.4.0)\n",
            "Requirement already satisfied: importlib-metadata>=0.20 in /usr/local/lib/python3.7/dist-packages (from catalogue<1.1.0,>=0.0.7->spacy>=2.2.2->texthero==1.0.9) (4.10.1)\n",
            "Requirement already satisfied: zipp>=0.5 in /usr/local/lib/python3.7/dist-packages (from importlib-metadata>=0.20->catalogue<1.1.0,>=0.0.7->spacy>=2.2.2->texthero==1.0.9) (3.7.0)\n",
            "Requirement already satisfied: typing-extensions>=3.6.4 in /usr/local/lib/python3.7/dist-packages (from importlib-metadata>=0.20->catalogue<1.1.0,>=0.0.7->spacy>=2.2.2->texthero==1.0.9) (3.10.0.2)\n",
            "Requirement already satisfied: idna<3,>=2.5 in /usr/local/lib/python3.7/dist-packages (from requests<3.0.0,>=2.13.0->spacy>=2.2.2->texthero==1.0.9) (2.10)\n",
            "Requirement already satisfied: certifi>=2017.4.17 in /usr/local/lib/python3.7/dist-packages (from requests<3.0.0,>=2.13.0->spacy>=2.2.2->texthero==1.0.9) (2021.10.8)\n",
            "Requirement already satisfied: chardet<4,>=3.0.2 in /usr/local/lib/python3.7/dist-packages (from requests<3.0.0,>=2.13.0->spacy>=2.2.2->texthero==1.0.9) (3.0.4)\n",
            "Requirement already satisfied: urllib3!=1.25.0,!=1.25.1,<1.26,>=1.21.1 in /usr/local/lib/python3.7/dist-packages (from requests<3.0.0,>=2.13.0->spacy>=2.2.2->texthero==1.0.9) (1.24.3)\n",
            "Requirement already satisfied: pillow in /usr/local/lib/python3.7/dist-packages (from wordcloud>=1.5.0->texthero==1.0.9) (7.1.2)\n"
          ]
        }
      ]
    },
    {
      "cell_type": "code",
      "metadata": {
        "id": "1PUyIqqga_e4"
      },
      "source": [
        "import texthero as hero\n",
        "import pandas as pd"
      ],
      "execution_count": null,
      "outputs": []
    },
    {
      "cell_type": "code",
      "metadata": {
        "id": "gQJUm1hNYn9w"
      },
      "source": [
        "texto = \\\n",
        "\"\"\"A história      do PLN (Processamento de linguagem Natural) começou na década de 1950, quando Alan Turing publicou o artigo Computing Machinery and Intelligence. \n",
        "Fonte: https://pt.wikipedia.org/wiki/Processamento_de_linguagem_natural \"\"\""
      ],
      "execution_count": null,
      "outputs": []
    },
    {
      "cell_type": "code",
      "metadata": {
        "colab": {
          "base_uri": "https://localhost:8080/",
          "height": 53
        },
        "id": "c0AY96x7ZO9G",
        "outputId": "8ce7c130-9513-4de7-95ae-b9b5e6fad5a6"
      },
      "source": [
        "texto"
      ],
      "execution_count": null,
      "outputs": [
        {
          "output_type": "execute_result",
          "data": {
            "application/vnd.google.colaboratory.intrinsic+json": {
              "type": "string"
            },
            "text/plain": [
              "'A história      do PLN (Processamento de linguagem Natural) começou na década de 1950, quando Alan Turing publicou o artigo Computing Machinery and Intelligence. \\nFonte: https://pt.wikipedia.org/wiki/Processamento_de_linguagem_natural '"
            ]
          },
          "metadata": {},
          "execution_count": 242
        }
      ]
    },
    {
      "cell_type": "code",
      "metadata": {
        "id": "uM3NUA3UbFqR"
      },
      "source": [
        "texto = pd.Series(texto)"
      ],
      "execution_count": null,
      "outputs": []
    },
    {
      "cell_type": "code",
      "metadata": {
        "colab": {
          "base_uri": "https://localhost:8080/"
        },
        "id": "AHHOhON2dMbm",
        "outputId": "931a8d09-d8e7-494b-b914-247b45ced8ad"
      },
      "source": [
        "#Aplica tokenização\n",
        "hero.tokenize(texto).values[0]"
      ],
      "execution_count": null,
      "outputs": [
        {
          "output_type": "stream",
          "name": "stderr",
          "text": [
            "/usr/local/lib/python3.7/dist-packages/texthero/preprocessing.py:598: FutureWarning: The default value of regex will change from True to False in a future version.\n",
            "  return s.str.replace(pattern, r\"\\2 \\3 \\4 \\5\").str.split()\n"
          ]
        },
        {
          "output_type": "execute_result",
          "data": {
            "text/plain": [
              "['A',\n",
              " 'história',\n",
              " 'do',\n",
              " 'PLN',\n",
              " '(',\n",
              " 'Processamento',\n",
              " 'de',\n",
              " 'linguagem',\n",
              " 'Natural',\n",
              " ')',\n",
              " 'começou',\n",
              " 'na',\n",
              " 'década',\n",
              " 'de',\n",
              " '1950',\n",
              " ',',\n",
              " 'quando',\n",
              " 'Alan',\n",
              " 'Turing',\n",
              " 'publicou',\n",
              " 'o',\n",
              " 'artigo',\n",
              " 'Computing',\n",
              " 'Machinery',\n",
              " 'and',\n",
              " 'Intelligence',\n",
              " '.',\n",
              " 'Fonte',\n",
              " ':',\n",
              " 'https',\n",
              " ':',\n",
              " '/',\n",
              " '/',\n",
              " 'pt.wikipedia.org/wiki/Processamento',\n",
              " '_',\n",
              " 'de',\n",
              " '_',\n",
              " 'linguagem',\n",
              " '_',\n",
              " 'natural']"
            ]
          },
          "metadata": {},
          "execution_count": 244
        }
      ]
    },
    {
      "cell_type": "code",
      "metadata": {
        "colab": {
          "base_uri": "https://localhost:8080/",
          "height": 87
        },
        "id": "woEW8go1awYr",
        "outputId": "a6ed4bc7-caba-4bfa-a630-a786b93e346e"
      },
      "source": [
        "#Remove numeros\n",
        "hero.remove_digits(texto).values[0]"
      ],
      "execution_count": null,
      "outputs": [
        {
          "output_type": "stream",
          "name": "stderr",
          "text": [
            "/usr/local/lib/python3.7/dist-packages/texthero/preprocessing.py:72: FutureWarning: The default value of regex will change from True to False in a future version.\n",
            "  return input.str.replace(pattern, symbols)\n"
          ]
        },
        {
          "output_type": "execute_result",
          "data": {
            "application/vnd.google.colaboratory.intrinsic+json": {
              "type": "string"
            },
            "text/plain": [
              "'A história      do PLN (Processamento de linguagem Natural) começou na década de  , quando Alan Turing publicou o artigo Computing Machinery and Intelligence. \\nFonte: https://pt.wikipedia.org/wiki/Processamento_de_linguagem_natural '"
            ]
          },
          "metadata": {},
          "execution_count": 245
        }
      ]
    },
    {
      "cell_type": "code",
      "metadata": {
        "colab": {
          "base_uri": "https://localhost:8080/",
          "height": 87
        },
        "id": "Y4Snd94tbAKg",
        "outputId": "5b66c3ec-e9b8-482b-8596-135c10f7f3dd"
      },
      "source": [
        "#Remove pontuação\n",
        "hero.remove_punctuation(texto).values[0]"
      ],
      "execution_count": null,
      "outputs": [
        {
          "output_type": "stream",
          "name": "stderr",
          "text": [
            "/usr/local/lib/python3.7/dist-packages/texthero/preprocessing.py:131: FutureWarning: The default value of regex will change from True to False in a future version.\n",
            "  return input.str.replace(rf\"([{string.punctuation}])+\", symbol)\n"
          ]
        },
        {
          "output_type": "execute_result",
          "data": {
            "application/vnd.google.colaboratory.intrinsic+json": {
              "type": "string"
            },
            "text/plain": [
              "'A história      do PLN  Processamento de linguagem Natural  começou na década de 1950  quando Alan Turing publicou o artigo Computing Machinery and Intelligence  \\nFonte  https pt wikipedia org wiki Processamento de linguagem natural '"
            ]
          },
          "metadata": {},
          "execution_count": 246
        }
      ]
    },
    {
      "cell_type": "code",
      "metadata": {
        "colab": {
          "base_uri": "https://localhost:8080/",
          "height": 192
        },
        "id": "N_LnU83Nbqvi",
        "outputId": "57620f33-eb7c-42b6-ff94-494b6446d9b6"
      },
      "source": [
        "#Remove parênteses\n",
        "hero.remove_brackets(texto).values[0]"
      ],
      "execution_count": null,
      "outputs": [
        {
          "output_type": "stream",
          "name": "stderr",
          "text": [
            "/usr/local/lib/python3.7/dist-packages/texthero/preprocessing.py:447: FutureWarning: The default value of regex will change from True to False in a future version.\n",
            "  return s.str.replace(r\"\\([^()]*\\)\", \"\")\n",
            "/usr/local/lib/python3.7/dist-packages/texthero/preprocessing.py:469: FutureWarning: The default value of regex will change from True to False in a future version.\n",
            "  return s.str.replace(r\"\\{[^{}]*\\}\", \"\")\n",
            "/usr/local/lib/python3.7/dist-packages/texthero/preprocessing.py:493: FutureWarning: The default value of regex will change from True to False in a future version.\n",
            "  return s.str.replace(r\"\\[[^\\[\\]]*\\]\", \"\")\n",
            "/usr/local/lib/python3.7/dist-packages/texthero/preprocessing.py:516: FutureWarning: The default value of regex will change from True to False in a future version.\n",
            "  return s.str.replace(r\"<[^<>]*>\", \"\")\n"
          ]
        },
        {
          "output_type": "execute_result",
          "data": {
            "application/vnd.google.colaboratory.intrinsic+json": {
              "type": "string"
            },
            "text/plain": [
              "'A história      do PLN  começou na década de 1950, quando Alan Turing publicou o artigo Computing Machinery and Intelligence. \\nFonte: https://pt.wikipedia.org/wiki/Processamento_de_linguagem_natural '"
            ]
          },
          "metadata": {},
          "execution_count": 247
        }
      ]
    },
    {
      "cell_type": "code",
      "metadata": {
        "colab": {
          "base_uri": "https://localhost:8080/",
          "height": 53
        },
        "id": "v4neqZ-_b2z4",
        "outputId": "53cc3416-bb4b-4372-d94e-b39af4e8a073"
      },
      "source": [
        "#Remove espaços em brancos\n",
        "hero.remove_whitespace(texto).values[0]"
      ],
      "execution_count": null,
      "outputs": [
        {
          "output_type": "execute_result",
          "data": {
            "application/vnd.google.colaboratory.intrinsic+json": {
              "type": "string"
            },
            "text/plain": [
              "'A história do PLN (Processamento de linguagem Natural) começou na década de 1950, quando Alan Turing publicou o artigo Computing Machinery and Intelligence. Fonte: https://pt.wikipedia.org/wiki/Processamento_de_linguagem_natural'"
            ]
          },
          "metadata": {},
          "execution_count": 248
        }
      ]
    },
    {
      "cell_type": "code",
      "metadata": {
        "colab": {
          "base_uri": "https://localhost:8080/",
          "height": 53
        },
        "id": "JnhY3alVbzV-",
        "outputId": "ad2202f7-3f47-4290-b69a-1f7b19dadbf1"
      },
      "source": [
        "#Remove stopwords\n",
        "portugues_stops = stopwords.words('portuguese')\n",
        "hero.remove_stopwords(texto, portugues_stops).values[0]"
      ],
      "execution_count": null,
      "outputs": [
        {
          "output_type": "execute_result",
          "data": {
            "application/vnd.google.colaboratory.intrinsic+json": {
              "type": "string"
            },
            "text/plain": [
              "'A história       PLN (Processamento  linguagem Natural) começou  década  1950,  Alan Turing publicou  artigo Computing Machinery and Intelligence. \\nFonte: https://pt.wikipedia.org/wiki/Processamento_de_linguagem_natural '"
            ]
          },
          "metadata": {},
          "execution_count": 249
        }
      ]
    },
    {
      "cell_type": "code",
      "metadata": {
        "colab": {
          "base_uri": "https://localhost:8080/",
          "height": 70
        },
        "id": "3y0S3_GkcHoc",
        "outputId": "374cc53c-59cc-4ba0-f814-5ef997549b18"
      },
      "source": [
        "#Remove URL\n",
        "hero.remove_urls(texto).values[0]"
      ],
      "execution_count": null,
      "outputs": [
        {
          "output_type": "stream",
          "name": "stderr",
          "text": [
            "/usr/local/lib/python3.7/dist-packages/texthero/preprocessing.py:664: FutureWarning: The default value of regex will change from True to False in a future version.\n",
            "  return s.str.replace(pattern, symbol)\n"
          ]
        },
        {
          "output_type": "execute_result",
          "data": {
            "application/vnd.google.colaboratory.intrinsic+json": {
              "type": "string"
            },
            "text/plain": [
              "'A história      do PLN (Processamento de linguagem Natural) começou na década de 1950, quando Alan Turing publicou o artigo Computing Machinery and Intelligence. \\nFonte:   '"
            ]
          },
          "metadata": {},
          "execution_count": 250
        }
      ]
    },
    {
      "cell_type": "markdown",
      "metadata": {
        "id": "kWT1Es2jfrtz"
      },
      "source": [
        "## Clean-Text\n",
        "\n",
        "https://github.com/jfilter/clean-text"
      ]
    },
    {
      "cell_type": "code",
      "metadata": {
        "colab": {
          "base_uri": "https://localhost:8080/"
        },
        "id": "SjstQC5Ef75_",
        "outputId": "4220d4f1-ef1f-4bd1-d33e-8e103e4195a0"
      },
      "source": [
        "!pip install clean-text==0.4.0"
      ],
      "execution_count": null,
      "outputs": [
        {
          "output_type": "stream",
          "name": "stdout",
          "text": [
            "Collecting clean-text==0.4.0\n",
            "  Downloading clean_text-0.4.0-py3-none-any.whl (9.8 kB)\n",
            "Collecting emoji\n",
            "  Downloading emoji-1.6.3.tar.gz (174 kB)\n",
            "\u001b[K     |████████████████████████████████| 174 kB 12.4 MB/s \n",
            "\u001b[?25hCollecting ftfy<7.0,>=6.0\n",
            "  Downloading ftfy-6.1.1-py3-none-any.whl (53 kB)\n",
            "\u001b[K     |████████████████████████████████| 53 kB 1.5 MB/s \n",
            "\u001b[?25hRequirement already satisfied: wcwidth>=0.2.5 in /usr/local/lib/python3.7/dist-packages (from ftfy<7.0,>=6.0->clean-text==0.4.0) (0.2.5)\n",
            "Building wheels for collected packages: emoji\n",
            "  Building wheel for emoji (setup.py) ... \u001b[?25l\u001b[?25hdone\n",
            "  Created wheel for emoji: filename=emoji-1.6.3-py3-none-any.whl size=170298 sha256=06f99deb4611c28400446140a1e094da4d165dcebf2c306723ddcea4a90575ed\n",
            "  Stored in directory: /root/.cache/pip/wheels/03/8b/d7/ad579fbef83c287215c0caab60fb0ae0f30c4d7ce5f580eade\n",
            "Successfully built emoji\n",
            "Installing collected packages: ftfy, emoji, clean-text\n",
            "Successfully installed clean-text-0.4.0 emoji-1.6.3 ftfy-6.1.1\n"
          ]
        }
      ]
    },
    {
      "cell_type": "code",
      "metadata": {
        "id": "8DHK-hLigByp"
      },
      "source": [
        "from cleantext import clean"
      ],
      "execution_count": null,
      "outputs": []
    },
    {
      "cell_type": "code",
      "metadata": {
        "id": "Zf042_kqgFBW"
      },
      "source": [
        "texto = \\\n",
        "\"\"\"A história      do PLN (Processamento de linguagem Natural) começou na década de 1950, quando Alan Turing publicou o artigo Computing Machinery and Intelligence. \n",
        "Fonte: https://pt.wikipedia.org/wiki/Processamento_de_linguagem_natural \"\"\""
      ],
      "execution_count": null,
      "outputs": []
    },
    {
      "cell_type": "code",
      "metadata": {
        "colab": {
          "base_uri": "https://localhost:8080/",
          "height": 35
        },
        "id": "9LJ_H-Xtftge",
        "outputId": "4c0fb525-0142-4890-e6dc-c2d1d6605a02"
      },
      "source": [
        "clean(texto,\n",
        "    fix_unicode=True,              \n",
        "    to_ascii=True,                 \n",
        "    lower=True,                    \n",
        "    no_line_breaks=False,\n",
        "    no_urls=True,\n",
        "    no_emails=False,     \n",
        "    no_phone_numbers=False,\n",
        "    no_numbers=True,      \n",
        "    no_digits=True,       \n",
        "    no_currency_symbols=False, \n",
        "    no_punct=True,          \n",
        "    replace_with_punct=\"\",\n",
        "    replace_with_url=\"<URL>\",\n",
        "    replace_with_email=\"<EMAIL>\",\n",
        "    replace_with_phone_number=\"<PHONE>\",\n",
        "    replace_with_number=\"<NUMBER>\",\n",
        "    replace_with_digit=\"0\",\n",
        "    replace_with_currency_symbol=\"<CUR>\",\n",
        "    lang=\"pt\"\n",
        ")"
      ],
      "execution_count": null,
      "outputs": [
        {
          "output_type": "execute_result",
          "data": {
            "application/vnd.google.colaboratory.intrinsic+json": {
              "type": "string"
            },
            "text/plain": [
              "'a historia do pln processamento de linguagem natural comecou na decada de <number> quando alan turing publicou o artigo computing machinery and intelligence\\nfonte <url>'"
            ]
          },
          "metadata": {},
          "execution_count": 254
        }
      ]
    },
    {
      "cell_type": "code",
      "metadata": {
        "id": "fyB4E4U0F8Nf"
      },
      "source": [
        ""
      ],
      "execution_count": null,
      "outputs": []
    }
  ]
}
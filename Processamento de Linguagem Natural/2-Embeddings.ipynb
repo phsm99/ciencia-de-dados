{
  "nbformat": 4,
  "nbformat_minor": 0,
  "metadata": {
    "kernelspec": {
      "display_name": "Python 3",
      "language": "python",
      "name": "python3"
    },
    "language_info": {
      "codemirror_mode": {
        "name": "ipython",
        "version": 3
      },
      "file_extension": ".py",
      "mimetype": "text/x-python",
      "name": "python",
      "nbconvert_exporter": "python",
      "pygments_lexer": "ipython3",
      "version": "3.6.5"
    },
    "colab": {
      "name": "Aula  2 - PLN Embeddings.ipynb",
      "provenance": [],
      "collapsed_sections": []
    }
  },
  "cells": [
    {
      "cell_type": "code",
      "metadata": {
        "collapsed": true,
        "id": "TfMtJgRJAC2s",
        "colab": {
          "base_uri": "https://localhost:8080/"
        },
        "outputId": "5d465409-37e8-4ae1-fcab-9dfad01e7276"
      },
      "source": [
        "!pip install nltk==3.5\n",
        "!pip install gensim\n",
        "!pip install umap-learn\n",
        "!pip install wikipedia\n",
        "!pip install unidecode"
      ],
      "execution_count": 1,
      "outputs": [
        {
          "output_type": "stream",
          "name": "stdout",
          "text": [
            "Collecting nltk==3.5\n",
            "  Downloading nltk-3.5.zip (1.4 MB)\n",
            "\u001b[?25l\r\u001b[K     |▎                               | 10 kB 18.7 MB/s eta 0:00:01\r\u001b[K     |▌                               | 20 kB 25.4 MB/s eta 0:00:01\r\u001b[K     |▊                               | 30 kB 20.5 MB/s eta 0:00:01\r\u001b[K     |█                               | 40 kB 13.3 MB/s eta 0:00:01\r\u001b[K     |█▏                              | 51 kB 7.1 MB/s eta 0:00:01\r\u001b[K     |█▍                              | 61 kB 8.2 MB/s eta 0:00:01\r\u001b[K     |█▋                              | 71 kB 7.8 MB/s eta 0:00:01\r\u001b[K     |█▉                              | 81 kB 6.0 MB/s eta 0:00:01\r\u001b[K     |██                              | 92 kB 6.7 MB/s eta 0:00:01\r\u001b[K     |██▎                             | 102 kB 7.2 MB/s eta 0:00:01\r\u001b[K     |██▌                             | 112 kB 7.2 MB/s eta 0:00:01\r\u001b[K     |██▊                             | 122 kB 7.2 MB/s eta 0:00:01\r\u001b[K     |███                             | 133 kB 7.2 MB/s eta 0:00:01\r\u001b[K     |███▏                            | 143 kB 7.2 MB/s eta 0:00:01\r\u001b[K     |███▍                            | 153 kB 7.2 MB/s eta 0:00:01\r\u001b[K     |███▋                            | 163 kB 7.2 MB/s eta 0:00:01\r\u001b[K     |███▉                            | 174 kB 7.2 MB/s eta 0:00:01\r\u001b[K     |████▏                           | 184 kB 7.2 MB/s eta 0:00:01\r\u001b[K     |████▍                           | 194 kB 7.2 MB/s eta 0:00:01\r\u001b[K     |████▋                           | 204 kB 7.2 MB/s eta 0:00:01\r\u001b[K     |████▉                           | 215 kB 7.2 MB/s eta 0:00:01\r\u001b[K     |█████                           | 225 kB 7.2 MB/s eta 0:00:01\r\u001b[K     |█████▎                          | 235 kB 7.2 MB/s eta 0:00:01\r\u001b[K     |█████▌                          | 245 kB 7.2 MB/s eta 0:00:01\r\u001b[K     |█████▊                          | 256 kB 7.2 MB/s eta 0:00:01\r\u001b[K     |██████                          | 266 kB 7.2 MB/s eta 0:00:01\r\u001b[K     |██████▏                         | 276 kB 7.2 MB/s eta 0:00:01\r\u001b[K     |██████▍                         | 286 kB 7.2 MB/s eta 0:00:01\r\u001b[K     |██████▋                         | 296 kB 7.2 MB/s eta 0:00:01\r\u001b[K     |██████▉                         | 307 kB 7.2 MB/s eta 0:00:01\r\u001b[K     |███████                         | 317 kB 7.2 MB/s eta 0:00:01\r\u001b[K     |███████▎                        | 327 kB 7.2 MB/s eta 0:00:01\r\u001b[K     |███████▌                        | 337 kB 7.2 MB/s eta 0:00:01\r\u001b[K     |███████▊                        | 348 kB 7.2 MB/s eta 0:00:01\r\u001b[K     |████████                        | 358 kB 7.2 MB/s eta 0:00:01\r\u001b[K     |████████▎                       | 368 kB 7.2 MB/s eta 0:00:01\r\u001b[K     |████████▌                       | 378 kB 7.2 MB/s eta 0:00:01\r\u001b[K     |████████▊                       | 389 kB 7.2 MB/s eta 0:00:01\r\u001b[K     |█████████                       | 399 kB 7.2 MB/s eta 0:00:01\r\u001b[K     |█████████▏                      | 409 kB 7.2 MB/s eta 0:00:01\r\u001b[K     |█████████▍                      | 419 kB 7.2 MB/s eta 0:00:01\r\u001b[K     |█████████▋                      | 430 kB 7.2 MB/s eta 0:00:01\r\u001b[K     |█████████▉                      | 440 kB 7.2 MB/s eta 0:00:01\r\u001b[K     |██████████                      | 450 kB 7.2 MB/s eta 0:00:01\r\u001b[K     |██████████▎                     | 460 kB 7.2 MB/s eta 0:00:01\r\u001b[K     |██████████▌                     | 471 kB 7.2 MB/s eta 0:00:01\r\u001b[K     |██████████▊                     | 481 kB 7.2 MB/s eta 0:00:01\r\u001b[K     |███████████                     | 491 kB 7.2 MB/s eta 0:00:01\r\u001b[K     |███████████▏                    | 501 kB 7.2 MB/s eta 0:00:01\r\u001b[K     |███████████▍                    | 512 kB 7.2 MB/s eta 0:00:01\r\u001b[K     |███████████▋                    | 522 kB 7.2 MB/s eta 0:00:01\r\u001b[K     |███████████▉                    | 532 kB 7.2 MB/s eta 0:00:01\r\u001b[K     |████████████▏                   | 542 kB 7.2 MB/s eta 0:00:01\r\u001b[K     |████████████▍                   | 552 kB 7.2 MB/s eta 0:00:01\r\u001b[K     |████████████▋                   | 563 kB 7.2 MB/s eta 0:00:01\r\u001b[K     |████████████▉                   | 573 kB 7.2 MB/s eta 0:00:01\r\u001b[K     |█████████████                   | 583 kB 7.2 MB/s eta 0:00:01\r\u001b[K     |█████████████▎                  | 593 kB 7.2 MB/s eta 0:00:01\r\u001b[K     |█████████████▌                  | 604 kB 7.2 MB/s eta 0:00:01\r\u001b[K     |█████████████▊                  | 614 kB 7.2 MB/s eta 0:00:01\r\u001b[K     |██████████████                  | 624 kB 7.2 MB/s eta 0:00:01\r\u001b[K     |██████████████▏                 | 634 kB 7.2 MB/s eta 0:00:01\r\u001b[K     |██████████████▍                 | 645 kB 7.2 MB/s eta 0:00:01\r\u001b[K     |██████████████▋                 | 655 kB 7.2 MB/s eta 0:00:01\r\u001b[K     |██████████████▉                 | 665 kB 7.2 MB/s eta 0:00:01\r\u001b[K     |███████████████                 | 675 kB 7.2 MB/s eta 0:00:01\r\u001b[K     |███████████████▎                | 686 kB 7.2 MB/s eta 0:00:01\r\u001b[K     |███████████████▌                | 696 kB 7.2 MB/s eta 0:00:01\r\u001b[K     |███████████████▊                | 706 kB 7.2 MB/s eta 0:00:01\r\u001b[K     |████████████████                | 716 kB 7.2 MB/s eta 0:00:01\r\u001b[K     |████████████████▎               | 727 kB 7.2 MB/s eta 0:00:01\r\u001b[K     |████████████████▌               | 737 kB 7.2 MB/s eta 0:00:01\r\u001b[K     |████████████████▊               | 747 kB 7.2 MB/s eta 0:00:01\r\u001b[K     |█████████████████               | 757 kB 7.2 MB/s eta 0:00:01\r\u001b[K     |█████████████████▏              | 768 kB 7.2 MB/s eta 0:00:01\r\u001b[K     |█████████████████▍              | 778 kB 7.2 MB/s eta 0:00:01\r\u001b[K     |█████████████████▋              | 788 kB 7.2 MB/s eta 0:00:01\r\u001b[K     |█████████████████▉              | 798 kB 7.2 MB/s eta 0:00:01\r\u001b[K     |██████████████████              | 808 kB 7.2 MB/s eta 0:00:01\r\u001b[K     |██████████████████▎             | 819 kB 7.2 MB/s eta 0:00:01\r\u001b[K     |██████████████████▌             | 829 kB 7.2 MB/s eta 0:00:01\r\u001b[K     |██████████████████▊             | 839 kB 7.2 MB/s eta 0:00:01\r\u001b[K     |███████████████████             | 849 kB 7.2 MB/s eta 0:00:01\r\u001b[K     |███████████████████▏            | 860 kB 7.2 MB/s eta 0:00:01\r\u001b[K     |███████████████████▍            | 870 kB 7.2 MB/s eta 0:00:01\r\u001b[K     |███████████████████▋            | 880 kB 7.2 MB/s eta 0:00:01\r\u001b[K     |███████████████████▉            | 890 kB 7.2 MB/s eta 0:00:01\r\u001b[K     |████████████████████▏           | 901 kB 7.2 MB/s eta 0:00:01\r\u001b[K     |████████████████████▍           | 911 kB 7.2 MB/s eta 0:00:01\r\u001b[K     |████████████████████▋           | 921 kB 7.2 MB/s eta 0:00:01\r\u001b[K     |████████████████████▉           | 931 kB 7.2 MB/s eta 0:00:01\r\u001b[K     |█████████████████████           | 942 kB 7.2 MB/s eta 0:00:01\r\u001b[K     |█████████████████████▎          | 952 kB 7.2 MB/s eta 0:00:01\r\u001b[K     |█████████████████████▌          | 962 kB 7.2 MB/s eta 0:00:01\r\u001b[K     |█████████████████████▊          | 972 kB 7.2 MB/s eta 0:00:01\r\u001b[K     |██████████████████████          | 983 kB 7.2 MB/s eta 0:00:01\r\u001b[K     |██████████████████████▏         | 993 kB 7.2 MB/s eta 0:00:01\r\u001b[K     |██████████████████████▍         | 1.0 MB 7.2 MB/s eta 0:00:01\r\u001b[K     |██████████████████████▋         | 1.0 MB 7.2 MB/s eta 0:00:01\r\u001b[K     |██████████████████████▉         | 1.0 MB 7.2 MB/s eta 0:00:01\r\u001b[K     |███████████████████████         | 1.0 MB 7.2 MB/s eta 0:00:01\r\u001b[K     |███████████████████████▎        | 1.0 MB 7.2 MB/s eta 0:00:01\r\u001b[K     |███████████████████████▌        | 1.1 MB 7.2 MB/s eta 0:00:01\r\u001b[K     |███████████████████████▊        | 1.1 MB 7.2 MB/s eta 0:00:01\r\u001b[K     |████████████████████████        | 1.1 MB 7.2 MB/s eta 0:00:01\r\u001b[K     |████████████████████████▎       | 1.1 MB 7.2 MB/s eta 0:00:01\r\u001b[K     |████████████████████████▌       | 1.1 MB 7.2 MB/s eta 0:00:01\r\u001b[K     |████████████████████████▊       | 1.1 MB 7.2 MB/s eta 0:00:01\r\u001b[K     |█████████████████████████       | 1.1 MB 7.2 MB/s eta 0:00:01\r\u001b[K     |█████████████████████████▏      | 1.1 MB 7.2 MB/s eta 0:00:01\r\u001b[K     |█████████████████████████▍      | 1.1 MB 7.2 MB/s eta 0:00:01\r\u001b[K     |█████████████████████████▋      | 1.1 MB 7.2 MB/s eta 0:00:01\r\u001b[K     |█████████████████████████▉      | 1.2 MB 7.2 MB/s eta 0:00:01\r\u001b[K     |██████████████████████████      | 1.2 MB 7.2 MB/s eta 0:00:01\r\u001b[K     |██████████████████████████▎     | 1.2 MB 7.2 MB/s eta 0:00:01\r\u001b[K     |██████████████████████████▌     | 1.2 MB 7.2 MB/s eta 0:00:01\r\u001b[K     |██████████████████████████▊     | 1.2 MB 7.2 MB/s eta 0:00:01\r\u001b[K     |███████████████████████████     | 1.2 MB 7.2 MB/s eta 0:00:01\r\u001b[K     |███████████████████████████▏    | 1.2 MB 7.2 MB/s eta 0:00:01\r\u001b[K     |███████████████████████████▍    | 1.2 MB 7.2 MB/s eta 0:00:01\r\u001b[K     |███████████████████████████▋    | 1.2 MB 7.2 MB/s eta 0:00:01\r\u001b[K     |███████████████████████████▉    | 1.2 MB 7.2 MB/s eta 0:00:01\r\u001b[K     |████████████████████████████▏   | 1.3 MB 7.2 MB/s eta 0:00:01\r\u001b[K     |████████████████████████████▍   | 1.3 MB 7.2 MB/s eta 0:00:01\r\u001b[K     |████████████████████████████▋   | 1.3 MB 7.2 MB/s eta 0:00:01\r\u001b[K     |████████████████████████████▉   | 1.3 MB 7.2 MB/s eta 0:00:01\r\u001b[K     |█████████████████████████████   | 1.3 MB 7.2 MB/s eta 0:00:01\r\u001b[K     |█████████████████████████████▎  | 1.3 MB 7.2 MB/s eta 0:00:01\r\u001b[K     |█████████████████████████████▌  | 1.3 MB 7.2 MB/s eta 0:00:01\r\u001b[K     |█████████████████████████████▊  | 1.3 MB 7.2 MB/s eta 0:00:01\r\u001b[K     |██████████████████████████████  | 1.3 MB 7.2 MB/s eta 0:00:01\r\u001b[K     |██████████████████████████████▏ | 1.4 MB 7.2 MB/s eta 0:00:01\r\u001b[K     |██████████████████████████████▍ | 1.4 MB 7.2 MB/s eta 0:00:01\r\u001b[K     |██████████████████████████████▋ | 1.4 MB 7.2 MB/s eta 0:00:01\r\u001b[K     |██████████████████████████████▉ | 1.4 MB 7.2 MB/s eta 0:00:01\r\u001b[K     |███████████████████████████████ | 1.4 MB 7.2 MB/s eta 0:00:01\r\u001b[K     |███████████████████████████████▎| 1.4 MB 7.2 MB/s eta 0:00:01\r\u001b[K     |███████████████████████████████▌| 1.4 MB 7.2 MB/s eta 0:00:01\r\u001b[K     |███████████████████████████████▊| 1.4 MB 7.2 MB/s eta 0:00:01\r\u001b[K     |████████████████████████████████| 1.4 MB 7.2 MB/s \n",
            "\u001b[?25hRequirement already satisfied: click in /usr/local/lib/python3.7/dist-packages (from nltk==3.5) (7.1.2)\n",
            "Requirement already satisfied: joblib in /usr/local/lib/python3.7/dist-packages (from nltk==3.5) (1.1.0)\n",
            "Requirement already satisfied: regex in /usr/local/lib/python3.7/dist-packages (from nltk==3.5) (2019.12.20)\n",
            "Requirement already satisfied: tqdm in /usr/local/lib/python3.7/dist-packages (from nltk==3.5) (4.62.3)\n",
            "Building wheels for collected packages: nltk\n",
            "  Building wheel for nltk (setup.py) ... \u001b[?25l\u001b[?25hdone\n",
            "  Created wheel for nltk: filename=nltk-3.5-py3-none-any.whl size=1434691 sha256=526a2a973ba1495ffc287be29a31ff96d425e0a8db066959c74705074357129b\n",
            "  Stored in directory: /root/.cache/pip/wheels/45/6c/46/a1865e7ba706b3817f5d1b2ff7ce8996aabdd0d03d47ba0266\n",
            "Successfully built nltk\n",
            "Installing collected packages: nltk\n",
            "  Attempting uninstall: nltk\n",
            "    Found existing installation: nltk 3.2.5\n",
            "    Uninstalling nltk-3.2.5:\n",
            "      Successfully uninstalled nltk-3.2.5\n",
            "Successfully installed nltk-3.5\n",
            "Requirement already satisfied: gensim in /usr/local/lib/python3.7/dist-packages (3.6.0)\n",
            "Requirement already satisfied: numpy>=1.11.3 in /usr/local/lib/python3.7/dist-packages (from gensim) (1.21.5)\n",
            "Requirement already satisfied: scipy>=0.18.1 in /usr/local/lib/python3.7/dist-packages (from gensim) (1.4.1)\n",
            "Requirement already satisfied: smart-open>=1.2.1 in /usr/local/lib/python3.7/dist-packages (from gensim) (5.2.1)\n",
            "Requirement already satisfied: six>=1.5.0 in /usr/local/lib/python3.7/dist-packages (from gensim) (1.15.0)\n",
            "Collecting umap-learn\n",
            "  Downloading umap-learn-0.5.2.tar.gz (86 kB)\n",
            "\u001b[K     |████████████████████████████████| 86 kB 3.2 MB/s \n",
            "\u001b[?25hRequirement already satisfied: numpy>=1.17 in /usr/local/lib/python3.7/dist-packages (from umap-learn) (1.21.5)\n",
            "Requirement already satisfied: scikit-learn>=0.22 in /usr/local/lib/python3.7/dist-packages (from umap-learn) (1.0.2)\n",
            "Requirement already satisfied: scipy>=1.0 in /usr/local/lib/python3.7/dist-packages (from umap-learn) (1.4.1)\n",
            "Requirement already satisfied: numba>=0.49 in /usr/local/lib/python3.7/dist-packages (from umap-learn) (0.51.2)\n",
            "Collecting pynndescent>=0.5\n",
            "  Downloading pynndescent-0.5.6.tar.gz (1.1 MB)\n",
            "\u001b[K     |████████████████████████████████| 1.1 MB 16.2 MB/s \n",
            "\u001b[?25hRequirement already satisfied: tqdm in /usr/local/lib/python3.7/dist-packages (from umap-learn) (4.62.3)\n",
            "Requirement already satisfied: llvmlite<0.35,>=0.34.0.dev0 in /usr/local/lib/python3.7/dist-packages (from numba>=0.49->umap-learn) (0.34.0)\n",
            "Requirement already satisfied: setuptools in /usr/local/lib/python3.7/dist-packages (from numba>=0.49->umap-learn) (57.4.0)\n",
            "Requirement already satisfied: joblib>=0.11 in /usr/local/lib/python3.7/dist-packages (from pynndescent>=0.5->umap-learn) (1.1.0)\n",
            "Requirement already satisfied: threadpoolctl>=2.0.0 in /usr/local/lib/python3.7/dist-packages (from scikit-learn>=0.22->umap-learn) (3.1.0)\n",
            "Building wheels for collected packages: umap-learn, pynndescent\n",
            "  Building wheel for umap-learn (setup.py) ... \u001b[?25l\u001b[?25hdone\n",
            "  Created wheel for umap-learn: filename=umap_learn-0.5.2-py3-none-any.whl size=82708 sha256=fe0e1248a4e52298e4f97d74261a035d375afa4f586d0411bff3e97e00b036f1\n",
            "  Stored in directory: /root/.cache/pip/wheels/84/1b/c6/aaf68a748122632967cef4dffef68224eb16798b6793257d82\n",
            "  Building wheel for pynndescent (setup.py) ... \u001b[?25l\u001b[?25hdone\n",
            "  Created wheel for pynndescent: filename=pynndescent-0.5.6-py3-none-any.whl size=53943 sha256=79359e6455852d47c0e4d64acfe1f89dcc2e995030a5bf39b866cf0da8c268c0\n",
            "  Stored in directory: /root/.cache/pip/wheels/03/f1/56/f80d72741e400345b5a5b50ec3d929aca581bf45e0225d5c50\n",
            "Successfully built umap-learn pynndescent\n",
            "Installing collected packages: pynndescent, umap-learn\n",
            "Successfully installed pynndescent-0.5.6 umap-learn-0.5.2\n",
            "Collecting wikipedia\n",
            "  Downloading wikipedia-1.4.0.tar.gz (27 kB)\n",
            "Requirement already satisfied: beautifulsoup4 in /usr/local/lib/python3.7/dist-packages (from wikipedia) (4.6.3)\n",
            "Requirement already satisfied: requests<3.0.0,>=2.0.0 in /usr/local/lib/python3.7/dist-packages (from wikipedia) (2.23.0)\n",
            "Requirement already satisfied: urllib3!=1.25.0,!=1.25.1,<1.26,>=1.21.1 in /usr/local/lib/python3.7/dist-packages (from requests<3.0.0,>=2.0.0->wikipedia) (1.24.3)\n",
            "Requirement already satisfied: certifi>=2017.4.17 in /usr/local/lib/python3.7/dist-packages (from requests<3.0.0,>=2.0.0->wikipedia) (2021.10.8)\n",
            "Requirement already satisfied: idna<3,>=2.5 in /usr/local/lib/python3.7/dist-packages (from requests<3.0.0,>=2.0.0->wikipedia) (2.10)\n",
            "Requirement already satisfied: chardet<4,>=3.0.2 in /usr/local/lib/python3.7/dist-packages (from requests<3.0.0,>=2.0.0->wikipedia) (3.0.4)\n",
            "Building wheels for collected packages: wikipedia\n",
            "  Building wheel for wikipedia (setup.py) ... \u001b[?25l\u001b[?25hdone\n",
            "  Created wheel for wikipedia: filename=wikipedia-1.4.0-py3-none-any.whl size=11695 sha256=0c13d5902f1dbf0eb6d07bbe9fb4addfff6d3e2d20a8789080e70ee8d72c14c1\n",
            "  Stored in directory: /root/.cache/pip/wheels/15/93/6d/5b2c68b8a64c7a7a04947b4ed6d89fb557dcc6bc27d1d7f3ba\n",
            "Successfully built wikipedia\n",
            "Installing collected packages: wikipedia\n",
            "Successfully installed wikipedia-1.4.0\n",
            "Collecting unidecode\n",
            "  Downloading Unidecode-1.3.3-py3-none-any.whl (235 kB)\n",
            "\u001b[K     |████████████████████████████████| 235 kB 7.9 MB/s \n",
            "\u001b[?25hInstalling collected packages: unidecode\n",
            "Successfully installed unidecode-1.3.3\n"
          ]
        }
      ]
    },
    {
      "cell_type": "code",
      "metadata": {
        "id": "A6V8u14WAC26",
        "colab": {
          "base_uri": "https://localhost:8080/"
        },
        "outputId": "fee3953c-35b3-491d-f9cc-73fce04fd94f"
      },
      "source": [
        "import re\n",
        "import nltk\n",
        "nltk.download('stopwords')\n",
        "from nltk.util import ngrams\n",
        "from nltk.corpus import stopwords\n",
        "import wikipedia\n",
        "import string\n",
        "from unidecode import unidecode\n",
        "from nltk.tokenize import sent_tokenize\n",
        "from sklearn.feature_extraction.text import TfidfVectorizer\n",
        "from sklearn.feature_extraction.text import CountVectorizer\n",
        "import pandas as pd\n",
        "import urllib.request\n",
        "import bz2\n",
        "import gensim\n",
        "import warnings\n",
        "import numpy as np\n",
        "from gensim.models import word2vec\n",
        "from sklearn.manifold import TSNE\n",
        "from sklearn.decomposition import PCA\n",
        "import umap\n",
        "warnings.filterwarnings('ignore')\n",
        "\n",
        "import matplotlib.pyplot as plt\n",
        "%matplotlib inline"
      ],
      "execution_count": 54,
      "outputs": [
        {
          "output_type": "stream",
          "name": "stderr",
          "text": [
            "[nltk_data] Downloading package stopwords to /root/nltk_data...\n",
            "[nltk_data]   Package stopwords is already up-to-date!\n"
          ]
        }
      ]
    },
    {
      "cell_type": "markdown",
      "metadata": {
        "id": "X2ZMw4zfAC3A"
      },
      "source": [
        "# Definição do Corpus"
      ]
    },
    {
      "cell_type": "markdown",
      "metadata": {
        "id": "Fumti3IlAC3B"
      },
      "source": [
        "## Base"
      ]
    },
    {
      "cell_type": "code",
      "metadata": {
        "id": "JhMedbmMAC3C"
      },
      "source": [
        "wikipedia.set_lang(\"pt\")\n",
        "bh = wikipedia.page(\"Belo Horizonte\")"
      ],
      "execution_count": 3,
      "outputs": []
    },
    {
      "cell_type": "code",
      "metadata": {
        "id": "eJ1WHOADAC3G"
      },
      "source": [
        "corpus = bh.content"
      ],
      "execution_count": 4,
      "outputs": []
    },
    {
      "cell_type": "markdown",
      "metadata": {
        "id": "TxnmUk2NAC3M"
      },
      "source": [
        "Selecionamos algumas frases do corpus de BH da wikipedia.\n",
        "\n",
        "Conside a lista abaixo como nosso corpus de documentos. Cada elemento da lista, considere como um único documento."
      ]
    },
    {
      "cell_type": "code",
      "metadata": {
        "id": "Pd4pTiK0AC3M"
      },
      "source": [
        "documentos = \\\n",
        "[\"Belo Horizonte é um município brasileiro e a capital do estado de Minas Gerais\",\n",
        "\"A populacao de Belo Horizonte é estimada em 2 501 576 habitantes, conforme estimativas do Instituto Brasileiro de Geografia e Estatística\",\n",
        "\"Belo Horizonte já foi indicada pelo Population Crisis Commitee, da ONU, como a metrópole com melhor qualidade de vida na América Latina\",\n",
        "\"Belo Horizonte é mundialmente conhecida e exerce significativa influência nacional e até internacional, seja do ponto de vista cultural, econômico ou político\",\n",
        "\"Belo Horizonte é a capital do segundo estado mais populoso do Brasil, Minas Gerais\"]"
      ],
      "execution_count": 5,
      "outputs": []
    },
    {
      "cell_type": "markdown",
      "metadata": {
        "id": "G1vjVVoYAC3T"
      },
      "source": [
        "## Preprocessamento"
      ]
    },
    {
      "cell_type": "markdown",
      "metadata": {
        "id": "V_MuzVllAC3U"
      },
      "source": [
        "<b> Atividade </b>\n",
        "\n",
        "1) Escreva uma método que realiza o pré-processamento da lista de <b>documentos</b>.\n",
        "\n",
        "O método deve, para cada documento:\n",
        "- tokenizar cada palavra\n",
        "- remover stopwords\n",
        "- remover números\n",
        "- remover pontuções\n",
        "- remover acentos"
      ]
    },
    {
      "cell_type": "code",
      "metadata": {
        "id": "tsfgYeVIa9PX"
      },
      "source": [
        "def pre_processamento_texto(corpus):\n",
        "  print(\"Documento\")\n",
        "  print(\"#tokenizacao\")\n",
        "  corpus_alt = re.findall(r\"\\w+(?:'\\w+)?|[^\\w\\s]\",corpus)\n",
        "  #lowcase\n",
        "  corpus_alt = [t.lower() for t in corpus_alt]\n",
        "  print(\"remove stopwords\")\n",
        "  portuguese_stops = stopwords.words('portuguese')\n",
        "  corpus_alt = [t for t in corpus_alt if t not in portuguese_stops]\n",
        "  print(\"remove numeros\")\n",
        "  corpus_alt = [re.sub(r'\\d','',t) for t in corpus_alt]\n",
        "  print(\"remove pontuação\")\n",
        "  corpus_alt = [t for t in corpus_alt if t not in string.punctuation]\n",
        "  print(\"remove acentos\")\n",
        "  corpus_alt = [unidecode(t) for t in corpus_alt]\n",
        "\n",
        "  return corpus_alt"
      ],
      "execution_count": 6,
      "outputs": []
    },
    {
      "cell_type": "code",
      "source": [
        "documentos_pre_processados = [pre_processamento_texto(frase) for frase in documentos]"
      ],
      "metadata": {
        "colab": {
          "base_uri": "https://localhost:8080/"
        },
        "id": "McxWLb0hoEhc",
        "outputId": "dc371170-5a18-485d-a3b0-02919d00d605"
      },
      "execution_count": 7,
      "outputs": [
        {
          "output_type": "stream",
          "name": "stdout",
          "text": [
            "Documento\n",
            "#tokenizacao\n",
            "remove stopwords\n",
            "remove numeros\n",
            "remove pontuação\n",
            "remove acentos\n",
            "Documento\n",
            "#tokenizacao\n",
            "remove stopwords\n",
            "remove numeros\n",
            "remove pontuação\n",
            "remove acentos\n",
            "Documento\n",
            "#tokenizacao\n",
            "remove stopwords\n",
            "remove numeros\n",
            "remove pontuação\n",
            "remove acentos\n",
            "Documento\n",
            "#tokenizacao\n",
            "remove stopwords\n",
            "remove numeros\n",
            "remove pontuação\n",
            "remove acentos\n",
            "Documento\n",
            "#tokenizacao\n",
            "remove stopwords\n",
            "remove numeros\n",
            "remove pontuação\n",
            "remove acentos\n"
          ]
        }
      ]
    },
    {
      "cell_type": "markdown",
      "metadata": {
        "id": "O9fbyAieAC3j"
      },
      "source": [
        "# Representação Textual"
      ]
    },
    {
      "cell_type": "markdown",
      "metadata": {
        "id": "Bxy--9uzAC3x"
      },
      "source": [
        "### Phrases - Gensim\n",
        "\n",
        "Forma mais inteligente de calcular os bigrams. Ela calcula os bigramas levando em consideração a frequência do par das palavaras em todos os documentos.\n",
        "Para isso ele treina um modelo e depois aplica no corpus.\n",
        "\n",
        "```python\n",
        "#treinamento bigrams\n",
        "model_corpus_phrases = gensim.models.Phrases(corpus_processado, min_count=1)\n",
        "#calulando os bigrams do corpus processado\n",
        "bigram_corpus = model_corpus_phrases[corpus_processado]\n",
        "```\n",
        "\n",
        "<b> Atividade </b>\n",
        "\n",
        "2) Faça um código que treine os bigrams, sendo que o <b>min_count = 1</b>. \n",
        "O <b>min_count</b> é a contagem mínima que aquele par de palavras deve aparecer junto para considerarmos com um token. Teste também com outros valores de mim_count. Depois imprima os bigramas de cada documento.\n",
        "Use o corpus_processado."
      ]
    },
    {
      "cell_type": "code",
      "metadata": {
        "id": "JArQt0OPa_8J"
      },
      "source": [
        "# treinamento bigrams\n",
        "model_corpus_phrases = gensim.models.Phrases(documentos_pre_processados, min_count=1)\n",
        "# calulando os bigrams do corpus processado\n",
        "bigram_corpus = model_corpus_phrases[documentos_pre_processados]"
      ],
      "execution_count": 8,
      "outputs": []
    },
    {
      "cell_type": "markdown",
      "metadata": {
        "id": "jFHut-GWAC4L"
      },
      "source": [
        "## TD-IDF\n",
        "\n",
        "Dica de leitura: https://kavita-ganesan.com/tfidftransformer-tfidfvectorizer-usage-differences/#.XklQxnVKj7c\n",
        "\n",
        "Para representar o texto com TF-IDF utilizamos o TfidfVectorizer. A seguir apresentamos instruções sobre como utilizá-lo.\n",
        "\n",
        "```python\n",
        "#primeiro criamos o objeto\n",
        "vect = TfidfVectorizer()\n",
        "vect #aqui você pode observa todos os parâmetros que o objeto possui\n",
        "## Existem alguns parâmetros, opcionais, que podemos informar para uma possível melhora do nosso modelo. Por exemplo:\n",
        "### inclui 1-grams e 2-grams\n",
        "vect.set_params(ngram_range=(1, 2))\n",
        "### ignora termos que a aparecem em mais de 50% dos documentoss\n",
        "vect.set_params(max_df=0.5)\n",
        "### só considero termos que aparecem em ao menos 2 documentos\n",
        "vect.set_params(min_df=2)\n",
        "\n",
        "#depois aplicamos fit_transform para transformar o texto em números\n",
        "docs_tdidf = vect.fit_transform(docs)\n",
        "\n",
        "#o docs_tdidf é uma matriz com os números que representam cada um dos textos. \n",
        "## Conseguimos verificar a dimensão desta matriz:\n",
        "print(docs_tdidf.shape)\n",
        "\n",
        "#Para visualizar as features capturadas pelo TF-IDF utilize:\n",
        "print(vect.get_feature_names())\n",
        "#Para visualizar os vetores correspondentes a cada palavara utilize:\n",
        "df = pd.DataFrame(docs_tdidf.T.todense(), index=vect.get_feature_names(), columns=[\"doc\"+str(i+1) for i in range(0,len(docs))])\n",
        "df\n",
        "```"
      ]
    },
    {
      "cell_type": "markdown",
      "metadata": {
        "id": "jZD0n75gAC4M"
      },
      "source": [
        "<b> Atividade: </b>\n",
        "\n",
        "3) Faça o TDIFTVectorizer nos documentos da variável <b>documentos</b> sem alterar nenhum parâmetro. "
      ]
    },
    {
      "cell_type": "code",
      "metadata": {
        "id": "d6WMh8XBbClS"
      },
      "source": [
        "# primeiro criamos o objeto\n",
        "vect = TfidfVectorizer()\n",
        "vect #aqui você pode observa todos os parâmetros que o objeto possui\n",
        "## Existem alguns parâmetros, opcionais, que podemos informar para uma possível melhora do nosso modelo. Por exemplo:\n",
        "### inclui 1-grams e 2-grams\n",
        "vect.set_params(ngram_range=(1, 2))\n",
        "### ignora termos que a aparecem em mais de 50% dos documentoss\n",
        "vect.set_params(max_df=0.5)\n",
        "### só considero termos que aparecem em ao menos 2 documentos\n",
        "vect.set_params(min_df=2)\n",
        "\n",
        "# depois aplicamos fit_transform para transformar o texto em números\n",
        "docs_tfidf = vect.fit_transform(documentos)"
      ],
      "execution_count": 9,
      "outputs": []
    },
    {
      "cell_type": "markdown",
      "metadata": {
        "id": "AbTCuJzIAC4o"
      },
      "source": [
        "<b> Atividade </b>\n",
        "\n",
        "4) Imprima o shape do resultado da atividade 4"
      ]
    },
    {
      "cell_type": "code",
      "metadata": {
        "id": "mOL6Ajq9bD_C",
        "colab": {
          "base_uri": "https://localhost:8080/"
        },
        "outputId": "f05ce654-432f-4a5b-ad63-0f891d1abd3c"
      },
      "source": [
        "print(docs_tfidf.shape)"
      ],
      "execution_count": 10,
      "outputs": [
        {
          "output_type": "stream",
          "name": "stdout",
          "text": [
            "(5, 7)\n"
          ]
        }
      ]
    },
    {
      "cell_type": "markdown",
      "metadata": {
        "id": "vQfYws4lAC4t"
      },
      "source": [
        "<b> Atividade </b>\n",
        "\n",
        "5) Imprima as features capturadas em 4."
      ]
    },
    {
      "cell_type": "code",
      "metadata": {
        "id": "eDrMtITzbEw2",
        "colab": {
          "base_uri": "https://localhost:8080/"
        },
        "outputId": "b390e9ea-2830-42e5-99ba-669ec17fd8ed"
      },
      "source": [
        "print(vect.get_feature_names())"
      ],
      "execution_count": 11,
      "outputs": [
        {
          "output_type": "stream",
          "name": "stdout",
          "text": [
            "['brasileiro', 'capital', 'capital do', 'estado', 'gerais', 'minas', 'minas gerais']\n"
          ]
        }
      ]
    },
    {
      "cell_type": "markdown",
      "metadata": {
        "id": "6kcdd6_IAC4x"
      },
      "source": [
        "6) Imprima os vetores correspondentes a cada palavra de cada documento."
      ]
    },
    {
      "cell_type": "code",
      "metadata": {
        "id": "Oa9LfGTsbLoO",
        "colab": {
          "base_uri": "https://localhost:8080/",
          "height": 269
        },
        "outputId": "2f881f8a-189b-481c-fb3a-e4b216487973"
      },
      "source": [
        "df = pd.DataFrame(docs_tfidf.T.todense(), index=vect.get_feature_names(), columns=[\"doc\"+str(i+1) for i in range(0,len(documentos))])\n",
        "df"
      ],
      "execution_count": 12,
      "outputs": [
        {
          "output_type": "execute_result",
          "data": {
            "text/html": [
              "\n",
              "  <div id=\"df-b3e5eca6-03fc-4ab2-9ad1-be5f6b8bdbf5\">\n",
              "    <div class=\"colab-df-container\">\n",
              "      <div>\n",
              "<style scoped>\n",
              "    .dataframe tbody tr th:only-of-type {\n",
              "        vertical-align: middle;\n",
              "    }\n",
              "\n",
              "    .dataframe tbody tr th {\n",
              "        vertical-align: top;\n",
              "    }\n",
              "\n",
              "    .dataframe thead th {\n",
              "        text-align: right;\n",
              "    }\n",
              "</style>\n",
              "<table border=\"1\" class=\"dataframe\">\n",
              "  <thead>\n",
              "    <tr style=\"text-align: right;\">\n",
              "      <th></th>\n",
              "      <th>doc1</th>\n",
              "      <th>doc2</th>\n",
              "      <th>doc3</th>\n",
              "      <th>doc4</th>\n",
              "      <th>doc5</th>\n",
              "    </tr>\n",
              "  </thead>\n",
              "  <tbody>\n",
              "    <tr>\n",
              "      <th>brasileiro</th>\n",
              "      <td>0.377964</td>\n",
              "      <td>1.0</td>\n",
              "      <td>0.0</td>\n",
              "      <td>0.0</td>\n",
              "      <td>0.000000</td>\n",
              "    </tr>\n",
              "    <tr>\n",
              "      <th>capital</th>\n",
              "      <td>0.377964</td>\n",
              "      <td>0.0</td>\n",
              "      <td>0.0</td>\n",
              "      <td>0.0</td>\n",
              "      <td>0.408248</td>\n",
              "    </tr>\n",
              "    <tr>\n",
              "      <th>capital do</th>\n",
              "      <td>0.377964</td>\n",
              "      <td>0.0</td>\n",
              "      <td>0.0</td>\n",
              "      <td>0.0</td>\n",
              "      <td>0.408248</td>\n",
              "    </tr>\n",
              "    <tr>\n",
              "      <th>estado</th>\n",
              "      <td>0.377964</td>\n",
              "      <td>0.0</td>\n",
              "      <td>0.0</td>\n",
              "      <td>0.0</td>\n",
              "      <td>0.408248</td>\n",
              "    </tr>\n",
              "    <tr>\n",
              "      <th>gerais</th>\n",
              "      <td>0.377964</td>\n",
              "      <td>0.0</td>\n",
              "      <td>0.0</td>\n",
              "      <td>0.0</td>\n",
              "      <td>0.408248</td>\n",
              "    </tr>\n",
              "    <tr>\n",
              "      <th>minas</th>\n",
              "      <td>0.377964</td>\n",
              "      <td>0.0</td>\n",
              "      <td>0.0</td>\n",
              "      <td>0.0</td>\n",
              "      <td>0.408248</td>\n",
              "    </tr>\n",
              "    <tr>\n",
              "      <th>minas gerais</th>\n",
              "      <td>0.377964</td>\n",
              "      <td>0.0</td>\n",
              "      <td>0.0</td>\n",
              "      <td>0.0</td>\n",
              "      <td>0.408248</td>\n",
              "    </tr>\n",
              "  </tbody>\n",
              "</table>\n",
              "</div>\n",
              "      <button class=\"colab-df-convert\" onclick=\"convertToInteractive('df-b3e5eca6-03fc-4ab2-9ad1-be5f6b8bdbf5')\"\n",
              "              title=\"Convert this dataframe to an interactive table.\"\n",
              "              style=\"display:none;\">\n",
              "        \n",
              "  <svg xmlns=\"http://www.w3.org/2000/svg\" height=\"24px\"viewBox=\"0 0 24 24\"\n",
              "       width=\"24px\">\n",
              "    <path d=\"M0 0h24v24H0V0z\" fill=\"none\"/>\n",
              "    <path d=\"M18.56 5.44l.94 2.06.94-2.06 2.06-.94-2.06-.94-.94-2.06-.94 2.06-2.06.94zm-11 1L8.5 8.5l.94-2.06 2.06-.94-2.06-.94L8.5 2.5l-.94 2.06-2.06.94zm10 10l.94 2.06.94-2.06 2.06-.94-2.06-.94-.94-2.06-.94 2.06-2.06.94z\"/><path d=\"M17.41 7.96l-1.37-1.37c-.4-.4-.92-.59-1.43-.59-.52 0-1.04.2-1.43.59L10.3 9.45l-7.72 7.72c-.78.78-.78 2.05 0 2.83L4 21.41c.39.39.9.59 1.41.59.51 0 1.02-.2 1.41-.59l7.78-7.78 2.81-2.81c.8-.78.8-2.07 0-2.86zM5.41 20L4 18.59l7.72-7.72 1.47 1.35L5.41 20z\"/>\n",
              "  </svg>\n",
              "      </button>\n",
              "      \n",
              "  <style>\n",
              "    .colab-df-container {\n",
              "      display:flex;\n",
              "      flex-wrap:wrap;\n",
              "      gap: 12px;\n",
              "    }\n",
              "\n",
              "    .colab-df-convert {\n",
              "      background-color: #E8F0FE;\n",
              "      border: none;\n",
              "      border-radius: 50%;\n",
              "      cursor: pointer;\n",
              "      display: none;\n",
              "      fill: #1967D2;\n",
              "      height: 32px;\n",
              "      padding: 0 0 0 0;\n",
              "      width: 32px;\n",
              "    }\n",
              "\n",
              "    .colab-df-convert:hover {\n",
              "      background-color: #E2EBFA;\n",
              "      box-shadow: 0px 1px 2px rgba(60, 64, 67, 0.3), 0px 1px 3px 1px rgba(60, 64, 67, 0.15);\n",
              "      fill: #174EA6;\n",
              "    }\n",
              "\n",
              "    [theme=dark] .colab-df-convert {\n",
              "      background-color: #3B4455;\n",
              "      fill: #D2E3FC;\n",
              "    }\n",
              "\n",
              "    [theme=dark] .colab-df-convert:hover {\n",
              "      background-color: #434B5C;\n",
              "      box-shadow: 0px 1px 3px 1px rgba(0, 0, 0, 0.15);\n",
              "      filter: drop-shadow(0px 1px 2px rgba(0, 0, 0, 0.3));\n",
              "      fill: #FFFFFF;\n",
              "    }\n",
              "  </style>\n",
              "\n",
              "      <script>\n",
              "        const buttonEl =\n",
              "          document.querySelector('#df-b3e5eca6-03fc-4ab2-9ad1-be5f6b8bdbf5 button.colab-df-convert');\n",
              "        buttonEl.style.display =\n",
              "          google.colab.kernel.accessAllowed ? 'block' : 'none';\n",
              "\n",
              "        async function convertToInteractive(key) {\n",
              "          const element = document.querySelector('#df-b3e5eca6-03fc-4ab2-9ad1-be5f6b8bdbf5');\n",
              "          const dataTable =\n",
              "            await google.colab.kernel.invokeFunction('convertToInteractive',\n",
              "                                                     [key], {});\n",
              "          if (!dataTable) return;\n",
              "\n",
              "          const docLinkHtml = 'Like what you see? Visit the ' +\n",
              "            '<a target=\"_blank\" href=https://colab.research.google.com/notebooks/data_table.ipynb>data table notebook</a>'\n",
              "            + ' to learn more about interactive tables.';\n",
              "          element.innerHTML = '';\n",
              "          dataTable['output_type'] = 'display_data';\n",
              "          await google.colab.output.renderOutput(dataTable, element);\n",
              "          const docLink = document.createElement('div');\n",
              "          docLink.innerHTML = docLinkHtml;\n",
              "          element.appendChild(docLink);\n",
              "        }\n",
              "      </script>\n",
              "    </div>\n",
              "  </div>\n",
              "  "
            ],
            "text/plain": [
              "                  doc1  doc2  doc3  doc4      doc5\n",
              "brasileiro    0.377964   1.0   0.0   0.0  0.000000\n",
              "capital       0.377964   0.0   0.0   0.0  0.408248\n",
              "capital do    0.377964   0.0   0.0   0.0  0.408248\n",
              "estado        0.377964   0.0   0.0   0.0  0.408248\n",
              "gerais        0.377964   0.0   0.0   0.0  0.408248\n",
              "minas         0.377964   0.0   0.0   0.0  0.408248\n",
              "minas gerais  0.377964   0.0   0.0   0.0  0.408248"
            ]
          },
          "metadata": {},
          "execution_count": 12
        }
      ]
    },
    {
      "cell_type": "markdown",
      "metadata": {
        "id": "FF-ZevNeAC4-"
      },
      "source": [
        "## Bag of Words\n",
        "\n",
        "Para representar o bag of words utilizamos o CountVectorizer\n",
        "\n",
        "```python\n",
        "#primeiro criamos o objeto\n",
        "vect_bag = CountVectorizer(binary=True) #se binary = False -> ocorre a contagem da frequência em que a palavra aparece\n",
        "vect_bag #imprime os parâmetros\n",
        "\n",
        "```\n",
        "\n",
        "<b> Atividade </b>\n",
        "\n",
        "7) Faça o CountVectorizer nos documentos da variável <b>documentos</b> considerando binary = True"
      ]
    },
    {
      "cell_type": "code",
      "metadata": {
        "id": "2z8_t3vabNMi"
      },
      "source": [
        "vect_bag = CountVectorizer(binary=True) #se binary = False -> ocorre a contagem da frequência em que a palavra aparece\n",
        "vect_bag\n",
        "vect_bow = vect_bag.fit_transform(documentos)\n"
      ],
      "execution_count": 13,
      "outputs": []
    },
    {
      "cell_type": "code",
      "source": [
        "vect_bow.todense()"
      ],
      "metadata": {
        "colab": {
          "base_uri": "https://localhost:8080/"
        },
        "id": "Me_yvBoXq2k_",
        "outputId": "60d9cdda-a295-497a-84cb-016f8145e3b5"
      },
      "execution_count": 14,
      "outputs": [
        {
          "output_type": "execute_result",
          "data": {
            "text/plain": [
              "matrix([[0, 0, 0, 0, 1, 0, 1, 1, 0, 0, 0, 0, 0, 0, 0, 0, 1, 1, 0, 0, 1,\n",
              "         0, 0, 0, 0, 0, 0, 1, 0, 1, 0, 0, 0, 0, 0, 0, 0, 0, 0, 1, 0, 1,\n",
              "         0, 0, 0, 0, 0, 0, 0, 0, 0, 0, 0, 0, 0, 0, 1, 0, 0],\n",
              "        [1, 1, 0, 0, 1, 0, 1, 0, 0, 0, 0, 1, 0, 0, 0, 0, 1, 1, 0, 1, 0,\n",
              "         1, 1, 1, 0, 0, 1, 0, 1, 1, 0, 0, 1, 0, 0, 0, 0, 0, 0, 0, 0, 0,\n",
              "         0, 0, 0, 0, 0, 0, 0, 1, 0, 0, 0, 0, 0, 0, 0, 0, 0],\n",
              "        [0, 0, 1, 0, 1, 0, 0, 0, 1, 1, 1, 0, 0, 1, 0, 1, 1, 0, 0, 0, 0,\n",
              "         0, 0, 0, 0, 1, 0, 0, 0, 1, 1, 0, 0, 0, 1, 1, 0, 1, 1, 0, 0, 0,\n",
              "         1, 0, 1, 0, 1, 0, 0, 0, 1, 0, 1, 0, 0, 0, 0, 1, 0],\n",
              "        [0, 0, 0, 1, 1, 0, 0, 0, 0, 0, 0, 0, 1, 0, 1, 0, 1, 1, 1, 0, 0,\n",
              "         0, 0, 0, 1, 0, 0, 0, 0, 1, 0, 1, 0, 1, 0, 0, 0, 0, 0, 0, 1, 0,\n",
              "         0, 1, 0, 1, 0, 1, 1, 0, 0, 0, 0, 0, 1, 1, 0, 0, 1],\n",
              "        [0, 0, 0, 0, 1, 1, 0, 1, 0, 0, 0, 0, 0, 0, 0, 0, 0, 1, 0, 0, 1,\n",
              "         0, 0, 0, 0, 0, 0, 1, 0, 1, 0, 0, 0, 0, 0, 0, 1, 0, 0, 1, 0, 0,\n",
              "         0, 0, 0, 0, 0, 0, 0, 0, 0, 1, 0, 1, 0, 0, 0, 0, 0]])"
            ]
          },
          "metadata": {},
          "execution_count": 14
        }
      ]
    },
    {
      "cell_type": "markdown",
      "metadata": {
        "id": "z0ZNTXLWAC5I"
      },
      "source": [
        "<b> Atividade </b>\n",
        "\n",
        "8) Imprima o índice correspondente a cada token da lista retornada por vect_bag.get_feature_names()"
      ]
    },
    {
      "cell_type": "code",
      "metadata": {
        "id": "2t8GJUMKbQF7",
        "colab": {
          "base_uri": "https://localhost:8080/"
        },
        "outputId": "f6995c45-4897-411f-d347-462a3a22579b"
      },
      "source": [
        "print(vect_bag.get_feature_names())"
      ],
      "execution_count": 15,
      "outputs": [
        {
          "output_type": "stream",
          "name": "stdout",
          "text": [
            "['501', '576', 'américa', 'até', 'belo', 'brasil', 'brasileiro', 'capital', 'com', 'commitee', 'como', 'conforme', 'conhecida', 'crisis', 'cultural', 'da', 'de', 'do', 'econômico', 'em', 'estado', 'estatística', 'estimada', 'estimativas', 'exerce', 'foi', 'geografia', 'gerais', 'habitantes', 'horizonte', 'indicada', 'influência', 'instituto', 'internacional', 'já', 'latina', 'mais', 'melhor', 'metrópole', 'minas', 'mundialmente', 'município', 'na', 'nacional', 'onu', 'ou', 'pelo', 'político', 'ponto', 'populacao', 'population', 'populoso', 'qualidade', 'segundo', 'seja', 'significativa', 'um', 'vida', 'vista']\n"
          ]
        }
      ]
    },
    {
      "cell_type": "code",
      "source": [
        "pd.DataFrame(vect_bow.todense().T, index=vect_bag.get_feature_names()).T"
      ],
      "metadata": {
        "colab": {
          "base_uri": "https://localhost:8080/",
          "height": 270
        },
        "id": "gaC3CO-crS24",
        "outputId": "b495e586-a66e-4124-a25d-944d89d6cb12"
      },
      "execution_count": 16,
      "outputs": [
        {
          "output_type": "execute_result",
          "data": {
            "text/html": [
              "\n",
              "  <div id=\"df-18cfd3e1-189e-4b2e-8360-380260cbcbd7\">\n",
              "    <div class=\"colab-df-container\">\n",
              "      <div>\n",
              "<style scoped>\n",
              "    .dataframe tbody tr th:only-of-type {\n",
              "        vertical-align: middle;\n",
              "    }\n",
              "\n",
              "    .dataframe tbody tr th {\n",
              "        vertical-align: top;\n",
              "    }\n",
              "\n",
              "    .dataframe thead th {\n",
              "        text-align: right;\n",
              "    }\n",
              "</style>\n",
              "<table border=\"1\" class=\"dataframe\">\n",
              "  <thead>\n",
              "    <tr style=\"text-align: right;\">\n",
              "      <th></th>\n",
              "      <th>501</th>\n",
              "      <th>576</th>\n",
              "      <th>américa</th>\n",
              "      <th>até</th>\n",
              "      <th>belo</th>\n",
              "      <th>brasil</th>\n",
              "      <th>brasileiro</th>\n",
              "      <th>capital</th>\n",
              "      <th>com</th>\n",
              "      <th>commitee</th>\n",
              "      <th>como</th>\n",
              "      <th>conforme</th>\n",
              "      <th>conhecida</th>\n",
              "      <th>crisis</th>\n",
              "      <th>cultural</th>\n",
              "      <th>da</th>\n",
              "      <th>de</th>\n",
              "      <th>do</th>\n",
              "      <th>econômico</th>\n",
              "      <th>em</th>\n",
              "      <th>estado</th>\n",
              "      <th>estatística</th>\n",
              "      <th>estimada</th>\n",
              "      <th>estimativas</th>\n",
              "      <th>exerce</th>\n",
              "      <th>foi</th>\n",
              "      <th>geografia</th>\n",
              "      <th>gerais</th>\n",
              "      <th>habitantes</th>\n",
              "      <th>horizonte</th>\n",
              "      <th>indicada</th>\n",
              "      <th>influência</th>\n",
              "      <th>instituto</th>\n",
              "      <th>internacional</th>\n",
              "      <th>já</th>\n",
              "      <th>latina</th>\n",
              "      <th>mais</th>\n",
              "      <th>melhor</th>\n",
              "      <th>metrópole</th>\n",
              "      <th>minas</th>\n",
              "      <th>mundialmente</th>\n",
              "      <th>município</th>\n",
              "      <th>na</th>\n",
              "      <th>nacional</th>\n",
              "      <th>onu</th>\n",
              "      <th>ou</th>\n",
              "      <th>pelo</th>\n",
              "      <th>político</th>\n",
              "      <th>ponto</th>\n",
              "      <th>populacao</th>\n",
              "      <th>population</th>\n",
              "      <th>populoso</th>\n",
              "      <th>qualidade</th>\n",
              "      <th>segundo</th>\n",
              "      <th>seja</th>\n",
              "      <th>significativa</th>\n",
              "      <th>um</th>\n",
              "      <th>vida</th>\n",
              "      <th>vista</th>\n",
              "    </tr>\n",
              "  </thead>\n",
              "  <tbody>\n",
              "    <tr>\n",
              "      <th>0</th>\n",
              "      <td>0</td>\n",
              "      <td>0</td>\n",
              "      <td>0</td>\n",
              "      <td>0</td>\n",
              "      <td>1</td>\n",
              "      <td>0</td>\n",
              "      <td>1</td>\n",
              "      <td>1</td>\n",
              "      <td>0</td>\n",
              "      <td>0</td>\n",
              "      <td>0</td>\n",
              "      <td>0</td>\n",
              "      <td>0</td>\n",
              "      <td>0</td>\n",
              "      <td>0</td>\n",
              "      <td>0</td>\n",
              "      <td>1</td>\n",
              "      <td>1</td>\n",
              "      <td>0</td>\n",
              "      <td>0</td>\n",
              "      <td>1</td>\n",
              "      <td>0</td>\n",
              "      <td>0</td>\n",
              "      <td>0</td>\n",
              "      <td>0</td>\n",
              "      <td>0</td>\n",
              "      <td>0</td>\n",
              "      <td>1</td>\n",
              "      <td>0</td>\n",
              "      <td>1</td>\n",
              "      <td>0</td>\n",
              "      <td>0</td>\n",
              "      <td>0</td>\n",
              "      <td>0</td>\n",
              "      <td>0</td>\n",
              "      <td>0</td>\n",
              "      <td>0</td>\n",
              "      <td>0</td>\n",
              "      <td>0</td>\n",
              "      <td>1</td>\n",
              "      <td>0</td>\n",
              "      <td>1</td>\n",
              "      <td>0</td>\n",
              "      <td>0</td>\n",
              "      <td>0</td>\n",
              "      <td>0</td>\n",
              "      <td>0</td>\n",
              "      <td>0</td>\n",
              "      <td>0</td>\n",
              "      <td>0</td>\n",
              "      <td>0</td>\n",
              "      <td>0</td>\n",
              "      <td>0</td>\n",
              "      <td>0</td>\n",
              "      <td>0</td>\n",
              "      <td>0</td>\n",
              "      <td>1</td>\n",
              "      <td>0</td>\n",
              "      <td>0</td>\n",
              "    </tr>\n",
              "    <tr>\n",
              "      <th>1</th>\n",
              "      <td>1</td>\n",
              "      <td>1</td>\n",
              "      <td>0</td>\n",
              "      <td>0</td>\n",
              "      <td>1</td>\n",
              "      <td>0</td>\n",
              "      <td>1</td>\n",
              "      <td>0</td>\n",
              "      <td>0</td>\n",
              "      <td>0</td>\n",
              "      <td>0</td>\n",
              "      <td>1</td>\n",
              "      <td>0</td>\n",
              "      <td>0</td>\n",
              "      <td>0</td>\n",
              "      <td>0</td>\n",
              "      <td>1</td>\n",
              "      <td>1</td>\n",
              "      <td>0</td>\n",
              "      <td>1</td>\n",
              "      <td>0</td>\n",
              "      <td>1</td>\n",
              "      <td>1</td>\n",
              "      <td>1</td>\n",
              "      <td>0</td>\n",
              "      <td>0</td>\n",
              "      <td>1</td>\n",
              "      <td>0</td>\n",
              "      <td>1</td>\n",
              "      <td>1</td>\n",
              "      <td>0</td>\n",
              "      <td>0</td>\n",
              "      <td>1</td>\n",
              "      <td>0</td>\n",
              "      <td>0</td>\n",
              "      <td>0</td>\n",
              "      <td>0</td>\n",
              "      <td>0</td>\n",
              "      <td>0</td>\n",
              "      <td>0</td>\n",
              "      <td>0</td>\n",
              "      <td>0</td>\n",
              "      <td>0</td>\n",
              "      <td>0</td>\n",
              "      <td>0</td>\n",
              "      <td>0</td>\n",
              "      <td>0</td>\n",
              "      <td>0</td>\n",
              "      <td>0</td>\n",
              "      <td>1</td>\n",
              "      <td>0</td>\n",
              "      <td>0</td>\n",
              "      <td>0</td>\n",
              "      <td>0</td>\n",
              "      <td>0</td>\n",
              "      <td>0</td>\n",
              "      <td>0</td>\n",
              "      <td>0</td>\n",
              "      <td>0</td>\n",
              "    </tr>\n",
              "    <tr>\n",
              "      <th>2</th>\n",
              "      <td>0</td>\n",
              "      <td>0</td>\n",
              "      <td>1</td>\n",
              "      <td>0</td>\n",
              "      <td>1</td>\n",
              "      <td>0</td>\n",
              "      <td>0</td>\n",
              "      <td>0</td>\n",
              "      <td>1</td>\n",
              "      <td>1</td>\n",
              "      <td>1</td>\n",
              "      <td>0</td>\n",
              "      <td>0</td>\n",
              "      <td>1</td>\n",
              "      <td>0</td>\n",
              "      <td>1</td>\n",
              "      <td>1</td>\n",
              "      <td>0</td>\n",
              "      <td>0</td>\n",
              "      <td>0</td>\n",
              "      <td>0</td>\n",
              "      <td>0</td>\n",
              "      <td>0</td>\n",
              "      <td>0</td>\n",
              "      <td>0</td>\n",
              "      <td>1</td>\n",
              "      <td>0</td>\n",
              "      <td>0</td>\n",
              "      <td>0</td>\n",
              "      <td>1</td>\n",
              "      <td>1</td>\n",
              "      <td>0</td>\n",
              "      <td>0</td>\n",
              "      <td>0</td>\n",
              "      <td>1</td>\n",
              "      <td>1</td>\n",
              "      <td>0</td>\n",
              "      <td>1</td>\n",
              "      <td>1</td>\n",
              "      <td>0</td>\n",
              "      <td>0</td>\n",
              "      <td>0</td>\n",
              "      <td>1</td>\n",
              "      <td>0</td>\n",
              "      <td>1</td>\n",
              "      <td>0</td>\n",
              "      <td>1</td>\n",
              "      <td>0</td>\n",
              "      <td>0</td>\n",
              "      <td>0</td>\n",
              "      <td>1</td>\n",
              "      <td>0</td>\n",
              "      <td>1</td>\n",
              "      <td>0</td>\n",
              "      <td>0</td>\n",
              "      <td>0</td>\n",
              "      <td>0</td>\n",
              "      <td>1</td>\n",
              "      <td>0</td>\n",
              "    </tr>\n",
              "    <tr>\n",
              "      <th>3</th>\n",
              "      <td>0</td>\n",
              "      <td>0</td>\n",
              "      <td>0</td>\n",
              "      <td>1</td>\n",
              "      <td>1</td>\n",
              "      <td>0</td>\n",
              "      <td>0</td>\n",
              "      <td>0</td>\n",
              "      <td>0</td>\n",
              "      <td>0</td>\n",
              "      <td>0</td>\n",
              "      <td>0</td>\n",
              "      <td>1</td>\n",
              "      <td>0</td>\n",
              "      <td>1</td>\n",
              "      <td>0</td>\n",
              "      <td>1</td>\n",
              "      <td>1</td>\n",
              "      <td>1</td>\n",
              "      <td>0</td>\n",
              "      <td>0</td>\n",
              "      <td>0</td>\n",
              "      <td>0</td>\n",
              "      <td>0</td>\n",
              "      <td>1</td>\n",
              "      <td>0</td>\n",
              "      <td>0</td>\n",
              "      <td>0</td>\n",
              "      <td>0</td>\n",
              "      <td>1</td>\n",
              "      <td>0</td>\n",
              "      <td>1</td>\n",
              "      <td>0</td>\n",
              "      <td>1</td>\n",
              "      <td>0</td>\n",
              "      <td>0</td>\n",
              "      <td>0</td>\n",
              "      <td>0</td>\n",
              "      <td>0</td>\n",
              "      <td>0</td>\n",
              "      <td>1</td>\n",
              "      <td>0</td>\n",
              "      <td>0</td>\n",
              "      <td>1</td>\n",
              "      <td>0</td>\n",
              "      <td>1</td>\n",
              "      <td>0</td>\n",
              "      <td>1</td>\n",
              "      <td>1</td>\n",
              "      <td>0</td>\n",
              "      <td>0</td>\n",
              "      <td>0</td>\n",
              "      <td>0</td>\n",
              "      <td>0</td>\n",
              "      <td>1</td>\n",
              "      <td>1</td>\n",
              "      <td>0</td>\n",
              "      <td>0</td>\n",
              "      <td>1</td>\n",
              "    </tr>\n",
              "    <tr>\n",
              "      <th>4</th>\n",
              "      <td>0</td>\n",
              "      <td>0</td>\n",
              "      <td>0</td>\n",
              "      <td>0</td>\n",
              "      <td>1</td>\n",
              "      <td>1</td>\n",
              "      <td>0</td>\n",
              "      <td>1</td>\n",
              "      <td>0</td>\n",
              "      <td>0</td>\n",
              "      <td>0</td>\n",
              "      <td>0</td>\n",
              "      <td>0</td>\n",
              "      <td>0</td>\n",
              "      <td>0</td>\n",
              "      <td>0</td>\n",
              "      <td>0</td>\n",
              "      <td>1</td>\n",
              "      <td>0</td>\n",
              "      <td>0</td>\n",
              "      <td>1</td>\n",
              "      <td>0</td>\n",
              "      <td>0</td>\n",
              "      <td>0</td>\n",
              "      <td>0</td>\n",
              "      <td>0</td>\n",
              "      <td>0</td>\n",
              "      <td>1</td>\n",
              "      <td>0</td>\n",
              "      <td>1</td>\n",
              "      <td>0</td>\n",
              "      <td>0</td>\n",
              "      <td>0</td>\n",
              "      <td>0</td>\n",
              "      <td>0</td>\n",
              "      <td>0</td>\n",
              "      <td>1</td>\n",
              "      <td>0</td>\n",
              "      <td>0</td>\n",
              "      <td>1</td>\n",
              "      <td>0</td>\n",
              "      <td>0</td>\n",
              "      <td>0</td>\n",
              "      <td>0</td>\n",
              "      <td>0</td>\n",
              "      <td>0</td>\n",
              "      <td>0</td>\n",
              "      <td>0</td>\n",
              "      <td>0</td>\n",
              "      <td>0</td>\n",
              "      <td>0</td>\n",
              "      <td>1</td>\n",
              "      <td>0</td>\n",
              "      <td>1</td>\n",
              "      <td>0</td>\n",
              "      <td>0</td>\n",
              "      <td>0</td>\n",
              "      <td>0</td>\n",
              "      <td>0</td>\n",
              "    </tr>\n",
              "  </tbody>\n",
              "</table>\n",
              "</div>\n",
              "      <button class=\"colab-df-convert\" onclick=\"convertToInteractive('df-18cfd3e1-189e-4b2e-8360-380260cbcbd7')\"\n",
              "              title=\"Convert this dataframe to an interactive table.\"\n",
              "              style=\"display:none;\">\n",
              "        \n",
              "  <svg xmlns=\"http://www.w3.org/2000/svg\" height=\"24px\"viewBox=\"0 0 24 24\"\n",
              "       width=\"24px\">\n",
              "    <path d=\"M0 0h24v24H0V0z\" fill=\"none\"/>\n",
              "    <path d=\"M18.56 5.44l.94 2.06.94-2.06 2.06-.94-2.06-.94-.94-2.06-.94 2.06-2.06.94zm-11 1L8.5 8.5l.94-2.06 2.06-.94-2.06-.94L8.5 2.5l-.94 2.06-2.06.94zm10 10l.94 2.06.94-2.06 2.06-.94-2.06-.94-.94-2.06-.94 2.06-2.06.94z\"/><path d=\"M17.41 7.96l-1.37-1.37c-.4-.4-.92-.59-1.43-.59-.52 0-1.04.2-1.43.59L10.3 9.45l-7.72 7.72c-.78.78-.78 2.05 0 2.83L4 21.41c.39.39.9.59 1.41.59.51 0 1.02-.2 1.41-.59l7.78-7.78 2.81-2.81c.8-.78.8-2.07 0-2.86zM5.41 20L4 18.59l7.72-7.72 1.47 1.35L5.41 20z\"/>\n",
              "  </svg>\n",
              "      </button>\n",
              "      \n",
              "  <style>\n",
              "    .colab-df-container {\n",
              "      display:flex;\n",
              "      flex-wrap:wrap;\n",
              "      gap: 12px;\n",
              "    }\n",
              "\n",
              "    .colab-df-convert {\n",
              "      background-color: #E8F0FE;\n",
              "      border: none;\n",
              "      border-radius: 50%;\n",
              "      cursor: pointer;\n",
              "      display: none;\n",
              "      fill: #1967D2;\n",
              "      height: 32px;\n",
              "      padding: 0 0 0 0;\n",
              "      width: 32px;\n",
              "    }\n",
              "\n",
              "    .colab-df-convert:hover {\n",
              "      background-color: #E2EBFA;\n",
              "      box-shadow: 0px 1px 2px rgba(60, 64, 67, 0.3), 0px 1px 3px 1px rgba(60, 64, 67, 0.15);\n",
              "      fill: #174EA6;\n",
              "    }\n",
              "\n",
              "    [theme=dark] .colab-df-convert {\n",
              "      background-color: #3B4455;\n",
              "      fill: #D2E3FC;\n",
              "    }\n",
              "\n",
              "    [theme=dark] .colab-df-convert:hover {\n",
              "      background-color: #434B5C;\n",
              "      box-shadow: 0px 1px 3px 1px rgba(0, 0, 0, 0.15);\n",
              "      filter: drop-shadow(0px 1px 2px rgba(0, 0, 0, 0.3));\n",
              "      fill: #FFFFFF;\n",
              "    }\n",
              "  </style>\n",
              "\n",
              "      <script>\n",
              "        const buttonEl =\n",
              "          document.querySelector('#df-18cfd3e1-189e-4b2e-8360-380260cbcbd7 button.colab-df-convert');\n",
              "        buttonEl.style.display =\n",
              "          google.colab.kernel.accessAllowed ? 'block' : 'none';\n",
              "\n",
              "        async function convertToInteractive(key) {\n",
              "          const element = document.querySelector('#df-18cfd3e1-189e-4b2e-8360-380260cbcbd7');\n",
              "          const dataTable =\n",
              "            await google.colab.kernel.invokeFunction('convertToInteractive',\n",
              "                                                     [key], {});\n",
              "          if (!dataTable) return;\n",
              "\n",
              "          const docLinkHtml = 'Like what you see? Visit the ' +\n",
              "            '<a target=\"_blank\" href=https://colab.research.google.com/notebooks/data_table.ipynb>data table notebook</a>'\n",
              "            + ' to learn more about interactive tables.';\n",
              "          element.innerHTML = '';\n",
              "          dataTable['output_type'] = 'display_data';\n",
              "          await google.colab.output.renderOutput(dataTable, element);\n",
              "          const docLink = document.createElement('div');\n",
              "          docLink.innerHTML = docLinkHtml;\n",
              "          element.appendChild(docLink);\n",
              "        }\n",
              "      </script>\n",
              "    </div>\n",
              "  </div>\n",
              "  "
            ],
            "text/plain": [
              "   501  576  américa  até  belo  ...  seja  significativa  um  vida  vista\n",
              "0    0    0        0    0     1  ...     0              0   1     0      0\n",
              "1    1    1        0    0     1  ...     0              0   0     0      0\n",
              "2    0    0        1    0     1  ...     0              0   0     1      0\n",
              "3    0    0        0    1     1  ...     1              1   0     0      1\n",
              "4    0    0        0    0     1  ...     0              0   0     0      0\n",
              "\n",
              "[5 rows x 59 columns]"
            ]
          },
          "metadata": {},
          "execution_count": 16
        }
      ]
    },
    {
      "cell_type": "markdown",
      "metadata": {
        "id": "LbLt5-LiAC5v"
      },
      "source": [
        "## Embedding"
      ]
    },
    {
      "cell_type": "markdown",
      "metadata": {
        "id": "3nmucJX2AC5v"
      },
      "source": [
        "### Utilizando um embedding treinado"
      ]
    },
    {
      "cell_type": "markdown",
      "metadata": {
        "id": "cf94ykmVAC5w"
      },
      "source": [
        "<b> Atividade </b>\n",
        "\n",
        "9) Faça download do seguinte arquivo, realize a leitura deste arquivo e carregue o modelo: \n",
        "https://drive.google.com/file/d/1f5sNZcV8LDam4zxbHnkm472r3r8D_UpX/view?usp=sharing\n",
        "\n",
        "Depois suba no seu drive e carregue,\n",
        "\n",
        "obs.: como o embedding é pesado, demora um pouco para carregar, cerca de 4 minutos."
      ]
    },
    {
      "cell_type": "code",
      "metadata": {
        "colab": {
          "base_uri": "https://localhost:8080/"
        },
        "id": "4VepWYTrPt65",
        "outputId": "0d542bf8-894f-4bd0-d964-84b33de511e5"
      },
      "source": [
        "#opção 1 -> montar o drive no colab e acessar o arquivo de embedding do drive\n",
        "from google.colab import drive\n",
        "drive.mount('/content/drive')\n",
        "\n",
        "#opção 2 -> fazer download e fazer upload por aqui\n",
        "#from google.colab import files\n",
        "#uploaded = files.upload()"
      ],
      "execution_count": 17,
      "outputs": [
        {
          "output_type": "stream",
          "name": "stdout",
          "text": [
            "Mounted at /content/drive\n"
          ]
        }
      ]
    },
    {
      "cell_type": "code",
      "metadata": {
        "id": "S5thOv6AAC50",
        "colab": {
          "base_uri": "https://localhost:8080/"
        },
        "outputId": "6642d015-6869-4603-862e-4984601ffa54"
      },
      "source": [
        "%%time\n",
        "# carregar\n",
        "##na variável path coloque o caminho do embedding baixado:\n",
        "path = \"/content/drive/MyDrive/Pós-Graduação/PLN/ptwiki_20180420_100d.txt.bz2\"\n",
        "word_vectors = gensim.models.KeyedVectors.load_word2vec_format(path, binary=False)"
      ],
      "execution_count": 18,
      "outputs": [
        {
          "output_type": "stream",
          "name": "stdout",
          "text": [
            "CPU times: user 2min 19s, sys: 1.29 s, total: 2min 21s\n",
            "Wall time: 2min 23s\n"
          ]
        }
      ]
    },
    {
      "cell_type": "markdown",
      "metadata": {
        "id": "y7OvGRFIAC55"
      },
      "source": [
        "<b> Atividade </b>\n",
        "\n",
        "10) Imprima os vetores das palavras \"nlp\" e \"computacao\"\n",
        "\n",
        "```python\n",
        "#exemplo de retorno do vetor\n",
        "word_vectors[__]\n",
        "```"
      ]
    },
    {
      "cell_type": "code",
      "metadata": {
        "id": "c_UyaYIUAC59",
        "colab": {
          "base_uri": "https://localhost:8080/"
        },
        "outputId": "1bfc7ed4-fa44-4bcf-80b4-75c8461b1700"
      },
      "source": [
        "print(\"nlp: \", word_vectors[\"nlp\"])\n",
        "print(\"computacao: \", word_vectors[\"computacao\"])\n"
      ],
      "execution_count": 19,
      "outputs": [
        {
          "output_type": "stream",
          "name": "stdout",
          "text": [
            "nlp:  [ 0.8528  0.1094 -0.0296 -0.0458 -0.2029 -0.1839 -0.2012 -0.111  -0.0315\n",
            "  0.1895 -0.2194 -0.3496 -0.1319 -0.1594  0.1549 -0.493   0.1897 -0.296\n",
            "  0.0026  0.2015  0.0215  0.2946 -0.2024  0.3931  0.143   0.0667 -0.4868\n",
            "  0.048  -0.1028  0.2372  0.2042 -0.8025 -0.1221  0.475  -0.2997  0.219\n",
            "  0.1232 -0.2118  0.5402 -0.0768  0.2253  0.1285 -0.6157  0.1777  0.0306\n",
            " -0.1094 -0.1649 -0.386  -0.2692  0.3149  0.0391 -0.0821 -0.2238  0.033\n",
            "  0.5032  0.0836  0.1834 -0.2009 -0.0722 -0.1744  0.3946 -0.0792 -0.0863\n",
            "  0.3813  0.5876 -0.4447 -0.5435  0.1528 -0.1012 -0.0967 -0.2621  0.4737\n",
            "  0.3235 -1.1013 -0.0789  0.1945 -0.1304 -0.0379  0.899   0.0398  0.2908\n",
            " -0.4276 -0.0641 -0.3841  0.354   0.4139  0.1076 -0.3439 -0.1474 -0.1215\n",
            "  0.4359 -0.1563  0.2577  0.4333  0.2003 -0.4064 -0.818   0.0812 -0.2554\n",
            " -0.48  ]\n",
            "computacao:  [ 0.5076 -0.2598  0.0993  0.1021 -0.2076 -0.2745  0.0104  0.0107  0.0151\n",
            "  0.2485 -0.2933  0.1184 -0.4087 -0.0381  0.0528 -0.2312  0.1387  0.1144\n",
            "  0.0291  0.164  -0.0941  0.1045 -0.1874  0.0116  0.1133 -0.11   -0.0607\n",
            "  0.047  -0.0259  0.4073  0.1337 -0.3197  0.0559  0.2985 -0.0571 -0.2967\n",
            "  0.0675  0.1016  0.4049 -0.347   0.1782 -0.2004 -0.1565 -0.0758  0.3695\n",
            "  0.0918 -0.0197 -0.4832 -0.5214  0.124   0.3514  0.1103  0.0646 -0.0722\n",
            "  0.2532 -0.0997 -0.0581 -0.0238 -0.164  -0.0828  0.5997 -0.1605  0.0169\n",
            "  0.3451  0.3026 -0.0841 -0.1699  0.2674  0.0184 -0.1471 -0.218  -0.0565\n",
            " -0.1998 -0.3754 -0.1754  0.1689 -0.2062  0.2613  0.1208 -0.217   0.1932\n",
            " -0.3372 -0.119  -0.1323 -0.4022  0.0883  0.1728 -0.2999 -0.0619  0.3041\n",
            "  0.1596 -0.2037  0.1473 -0.0561  0.1435 -0.0683 -0.2464 -0.0562  0.0109\n",
            "  0.0419]\n"
          ]
        }
      ]
    },
    {
      "cell_type": "code",
      "metadata": {
        "id": "uWL_yba-bXIh"
      },
      "source": [
        ""
      ],
      "execution_count": 19,
      "outputs": []
    },
    {
      "cell_type": "markdown",
      "metadata": {
        "id": "rkeSO-BJAC6B"
      },
      "source": [
        "<b> Similaridade de Vetores </b> \n",
        "\n",
        "No gensim é possível realizar a similaridade utilizando o seguinte método:\n",
        "\n",
        "```python\n",
        "word_vectors.most_similar(___)\n",
        "```\n",
        "\n",
        "<b> Atividade </b>\n",
        "\n",
        "11) Verifique a similaridade das seguintes palavras: elizabete, raiva, segunda, dois, computação."
      ]
    },
    {
      "cell_type": "code",
      "metadata": {
        "id": "Fzy1VhXcbcee",
        "colab": {
          "base_uri": "https://localhost:8080/"
        },
        "outputId": "37a78721-d0fa-4229-c37c-9f80e47ff022"
      },
      "source": [
        "print(\"elizabete:\",word_vectors.most_similar(\"elizabete\"))\n",
        "print(\"raiva:\",word_vectors.most_similar(\"raiva\"))\n",
        "print(\"segunda:\",word_vectors.most_similar(\"segunda\"))\n",
        "print(\"dois:\",word_vectors.most_similar(\"dois\"))\n",
        "print(\"computação:\",word_vectors.most_similar(\"computação\"))"
      ],
      "execution_count": 20,
      "outputs": [
        {
          "output_type": "stream",
          "name": "stdout",
          "text": [
            "elizabete: [('joana', 0.7828384041786194), ('elídia', 0.7808018922805786), ('arcângela', 0.7692556381225586), ('maria', 0.7659809589385986), ('felisbela', 0.7649518847465515), ('andreza', 0.7636873722076416), ('thomazia', 0.7636217474937439), ('francisca', 0.7602137327194214), ('eleonora', 0.7596681118011475), ('deodata', 0.7594977617263794)]\n",
            "raiva: [('medo', 0.8303433656692505), ('frustração', 0.8079831600189209), ('desespero', 0.8039345741271973), ('tristeza', 0.800615668296814), ('remorso', 0.7922823429107666), ('desgosto', 0.7901228666305542), ('inveja', 0.781806468963623), ('ciúmes', 0.7798185348510742), ('ódio', 0.776374101638794), ('repugnância', 0.7657582759857178)]\n",
            "segunda: [('primeira', 0.8965903520584106), ('quarta', 0.8717238903045654), ('terceira', 0.8408156037330627), ('última', 0.8141331672668457), ('sétima', 0.807178258895874), ('sexta', 0.7998778820037842), ('décima', 0.7983245849609375), ('penúltima', 0.7719092965126038), ('nona', 0.7675511240959167), ('oitava', 0.7670223712921143)]\n",
            "dois: [('três', 0.8804982304573059), ('quatro', 0.8787742257118225), ('seis', 0.844917893409729), ('cinco', 0.8440984487533569), ('oito', 0.8346582651138306), ('ambos', 0.82096266746521), ('nove', 0.8060351014137268), ('vários', 0.8052262663841248), ('os', 0.8016588091850281), ('sete', 0.7854640483856201)]\n",
            "computação: [('computacional', 0.8587305545806885), ('informática', 0.8066875338554382), ('microeletrônica', 0.7903156280517578), ('bioinspirada', 0.7866970300674438), ('computacionais', 0.7839764356613159), ('biomatemática', 0.7749572992324829), ('ubicomp', 0.7651089429855347), ('lamce', 0.7647029757499695), ('imecc', 0.7626293897628784), ('bioinformática', 0.7598603963851929)]\n"
          ]
        }
      ]
    },
    {
      "cell_type": "markdown",
      "metadata": {
        "id": "_Tc5XIJIAC6W"
      },
      "source": [
        "elizabete<b> Operação Vetorial</b>\n",
        "\n",
        "Na aula teórica, estudamos sobre as operação entre os vetores. \n",
        "Agora vamos ver na prática:\n",
        "\n",
        "```python\n",
        "#exemplo:\n",
        "word_vectors.wv.most_similar(positive=['mulher', 'rei'], negative=['homem'], topn=10)\n",
        "```\n",
        "\n",
        "<b>Atividade</b>\n",
        "\n",
        "12) Execute o exemplo acima em uma célula e repita para os seguintes cenários:\n",
        "\n",
        "- menino, menina, homem\n",
        "- caminhada, andar, correr\n",
        "- filho, filha, irmã\n",
        "- pai, mãe, avô\n",
        "\n",
        "<b> Reflita </b> as palavras similares fazem sentido?"
      ]
    },
    {
      "cell_type": "code",
      "metadata": {
        "id": "Upx2n9h9bhKm",
        "colab": {
          "base_uri": "https://localhost:8080/"
        },
        "outputId": "d23e3d05-3b05-4a07-d3a8-be78f43b70e4"
      },
      "source": [
        "print(word_vectors.wv.most_similar(positive=['menino', 'menina'], negative=['homem'], topn=10))\n",
        "print(word_vectors.wv.most_similar(positive=['caminhada', 'andar'], negative=['correr'], topn=10))\n",
        "print(word_vectors.wv.most_similar(positive=['filho', 'filha'], negative=['irmã'], topn=10))\n",
        "print(word_vectors.wv.most_similar(positive=['pai', 'mãe'], negative=['avô'], topn=10))\n"
      ],
      "execution_count": 21,
      "outputs": [
        {
          "output_type": "stream",
          "name": "stdout",
          "text": [
            "[('garotinha', 0.746025800704956), ('criança', 0.7124738693237305), ('izildinha', 0.6914386749267578), ('garota', 0.6765151619911194), ('órfã', 0.6759505271911621), ('filhinha', 0.6749870777130127), ('avó', 0.6711723804473877), ('babá', 0.6623851656913757), ('irmãzinha', 0.6621854305267334), ('moça', 0.6594897508621216)]\n",
            "[('caminhadas', 0.618974506855011), ('pavimento', 0.606018602848053), ('passeio', 0.6024052500724792), ('piquenique', 0.598796546459198), ('sala', 0.5944793224334717), ('terraço', 0.5920617580413818), ('rampa', 0.5885153412818909), ('passarela', 0.5874667167663574), ('climatizada', 0.5863767862319946), ('calçadão', 0.5852184295654297)]\n",
            "[('bisneto', 0.851236879825592), ('neto', 0.8316095471382141), ('primogênito', 0.8290099501609802), ('bisavô', 0.822635293006897), ('sobrinho', 0.8176089525222778), ('avô', 0.816977858543396), ('sogro', 0.8009151220321655), ('pai', 0.799014687538147), ('primogénito', 0.785844624042511), ('genro', 0.7755304574966431)]\n",
            "[('avó', 0.8150790929794312), ('adotiva', 0.8064451813697815), ('irmã', 0.7990934252738953), ('esposa', 0.7982308268547058), ('madrasta', 0.7841061353683472), ('tia', 0.7805376052856445), ('falecida', 0.7775087356567383), ('eutímia', 0.7673025727272034), ('superprotegida', 0.7659645676612854), ('consternada', 0.7656985521316528)]\n"
          ]
        }
      ]
    },
    {
      "cell_type": "code",
      "source": [
        "#As palavras respostas fazem sentido pois de certo modo estão relacionadas com as palavras passadas como entrada "
      ],
      "metadata": {
        "id": "U4tvaATxHWrq"
      },
      "execution_count": 22,
      "outputs": []
    },
    {
      "cell_type": "markdown",
      "metadata": {
        "id": "bEGWYtn4AC7P"
      },
      "source": [
        "### Treinando seu embedding\n",
        "\n",
        "Aqui vamos utilizar o corpus machado. São textos/contos escritos por Machado de Assis.\n",
        "Esse corpus é diponibilizado pelo NLTK."
      ]
    },
    {
      "cell_type": "code",
      "metadata": {
        "id": "Rdmp3F3OTl0B"
      },
      "source": [
        "from nltk.corpus import machado"
      ],
      "execution_count": 23,
      "outputs": []
    },
    {
      "cell_type": "code",
      "metadata": {
        "id": "PDebqiPkLE3h",
        "colab": {
          "base_uri": "https://localhost:8080/"
        },
        "outputId": "7f2c500f-451f-40cd-ebc7-5ec098659a2c"
      },
      "source": [
        "import nltk\n",
        "from nltk.corpus import machado\n",
        "nltk.download('punkt')\n",
        "nltk.download('machado')"
      ],
      "execution_count": 24,
      "outputs": [
        {
          "output_type": "stream",
          "name": "stderr",
          "text": [
            "[nltk_data] Downloading package punkt to /root/nltk_data...\n",
            "[nltk_data]   Unzipping tokenizers/punkt.zip.\n",
            "[nltk_data] Downloading package machado to /root/nltk_data...\n"
          ]
        },
        {
          "output_type": "execute_result",
          "data": {
            "text/plain": [
              "True"
            ]
          },
          "metadata": {},
          "execution_count": 24
        }
      ]
    },
    {
      "cell_type": "code",
      "metadata": {
        "id": "EXFpVSHcRACL"
      },
      "source": [
        "raw_casmurro = machado.raw('contos/macn001.txt')"
      ],
      "execution_count": 25,
      "outputs": []
    },
    {
      "cell_type": "markdown",
      "metadata": {
        "id": "XHribhOLAC7m"
      },
      "source": [
        "O método ''machado_sents()'' retorna todo o texto quebrado pelas setenças e já tokenizado.\n",
        "\n",
        "As sentenças são separadas pelo \"\\n\". Dentro de cada sentença, divide os tokens separadas pelo espaço."
      ]
    },
    {
      "cell_type": "code",
      "metadata": {
        "id": "r15rrg-qAC7m",
        "colab": {
          "base_uri": "https://localhost:8080/"
        },
        "outputId": "ef425b6f-654d-4fea-8cb1-1c3522ede90d"
      },
      "source": [
        "machado_sents = machado.sents()\n",
        "print(machado_sents)"
      ],
      "execution_count": 26,
      "outputs": [
        {
          "output_type": "stream",
          "name": "stdout",
          "text": [
            "[['Conto', ',', 'Contos', 'Fluminenses', ',', '1870'], ['Contos', 'Fluminenses'], ...]\n"
          ]
        }
      ]
    },
    {
      "cell_type": "markdown",
      "metadata": {
        "id": "Ek1UIrtOAC7s"
      },
      "source": [
        "Vamos relizar um pré-processamento mínimo nos dados. Lembrando que: o pré-processamento é impotatíssimo no resultado final.\n",
        "\n",
        "<b> Atividade </b>\n",
        "\n",
        "13) Aplique as técnicas abaixo no documento <b> machado_sents</b>: \n",
        "\n",
        "- lower\n",
        "- remoção pontuações"
      ]
    },
    {
      "cell_type": "code",
      "source": [
        "%%time \n",
        "texto_machado_limpo = [ [palavra.lower() for palavra in sentenca if palavra not in string.punctuation] for sentenca in machado_sents]\n",
        "texto_machado_limpo"
      ],
      "metadata": {
        "colab": {
          "base_uri": "https://localhost:8080/"
        },
        "id": "eX9881ouLgrL",
        "outputId": "762690ec-529f-45a3-dc94-9000e3f84e86"
      },
      "execution_count": 27,
      "outputs": [
        {
          "output_type": "stream",
          "name": "stdout",
          "text": [
            "CPU times: user 11.4 s, sys: 269 ms, total: 11.6 s\n",
            "Wall time: 11.6 s\n"
          ]
        }
      ]
    },
    {
      "cell_type": "code",
      "source": [
        "texto_machado_limpo[0]"
      ],
      "metadata": {
        "colab": {
          "base_uri": "https://localhost:8080/"
        },
        "id": "-93GcdjLMXKM",
        "outputId": "97b5162a-6921-4274-857d-e70bc5702d76"
      },
      "execution_count": 28,
      "outputs": [
        {
          "output_type": "execute_result",
          "data": {
            "text/plain": [
              "['conto', 'contos', 'fluminenses', '1870']"
            ]
          },
          "metadata": {},
          "execution_count": 28
        }
      ]
    },
    {
      "cell_type": "markdown",
      "metadata": {
        "id": "RhJKgQwTAC72"
      },
      "source": [
        "<b> Treinando o embedding </b> \n",
        "\n",
        "Para treinar os embeddings existem alguns parâmetros, vide exemplo abaixo:\n",
        "\n",
        "```python\n",
        "#Alguns parâmetros:\n",
        "## size -> dimensão vetor\n",
        "## min_count -> ignora todas palavras cuja frequência mínima é menor que este\n",
        "## workers -> quantas threads serão utilizadas para treinar o modelo\n",
        "## seed -> seed para geração do numero aleatório. \n",
        "## sg -> 1 para skip-gram; caso contrário CBOW.\n",
        "## window -> contexto, Distância máxima entre a palavra atual e a prevista em uma frase. O default é 5.\n",
        "model = word2vec.Word2Vec(text_preproc, min_count=10, workers=4, seed=123, sg=1, size=300, window=5)\n",
        "```\n",
        "\n",
        "<b> Atividade </b>\n",
        "\n",
        "14) Gere os embeddings com o texto processado do documento de Machado de Assis.\n"
      ]
    },
    {
      "cell_type": "code",
      "metadata": {
        "id": "-M_AZkXtbrM5"
      },
      "source": [
        "model = word2vec.Word2Vec(texto_machado_limpo, min_count=10, workers=4, seed=123, sg=1, size=300, window=5)\n"
      ],
      "execution_count": 29,
      "outputs": []
    },
    {
      "cell_type": "markdown",
      "metadata": {
        "id": "tvhul62-AC79"
      },
      "source": [
        "\n",
        "<b> Atividade </b>\n",
        "\n",
        "15) Faça os itens abaixo:\n",
        "\n",
        "- Verifique o vetor de embeddings da variável \"dom\"\n",
        "- Verifique a similaridade entre \"mulher\" e \"homem\"\n",
        "- Verifique a similaridade entre \"dom\" e \"casmurro\""
      ]
    },
    {
      "cell_type": "code",
      "metadata": {
        "id": "TZonLVIcbuaF",
        "colab": {
          "base_uri": "https://localhost:8080/"
        },
        "outputId": "7c29e1d5-dd3a-4915-87fb-b74d9b7dea61"
      },
      "source": [
        "print(model[\"dom\"])\n",
        "print(model[\"dom\"].shape)"
      ],
      "execution_count": 30,
      "outputs": [
        {
          "output_type": "stream",
          "name": "stdout",
          "text": [
            "[ 2.81130169e-02  6.22368604e-02 -1.05532520e-01  6.33088648e-02\n",
            "  8.60319808e-02 -2.79095583e-02 -4.07151505e-02  1.01635411e-01\n",
            "  1.89305127e-01 -6.45595044e-02 -2.25485228e-02  3.36854346e-02\n",
            "  2.36442268e-01  2.31494442e-01 -3.44652683e-02  5.59320003e-02\n",
            "  5.04081286e-02  2.83032916e-02 -1.81595609e-01  6.72265980e-03\n",
            "  6.08069673e-02  3.18789035e-02  1.10426925e-01  7.43197426e-02\n",
            "  2.82093119e-02 -2.76626628e-02  7.66484216e-02 -8.82800967e-02\n",
            "  8.85807052e-02 -2.35511988e-01  9.63529348e-02 -1.15038253e-01\n",
            " -7.68657774e-02  1.94098800e-02  4.06796820e-02 -1.16190359e-01\n",
            " -1.81068089e-02 -1.83733791e-01 -1.90165997e-01 -1.55584976e-01\n",
            " -2.65013576e-01  1.06080890e-01 -1.32576585e-01 -1.08114272e-01\n",
            " -1.04971536e-01  3.76361273e-02  1.49117991e-01  8.61570332e-03\n",
            " -1.99578375e-01  1.74757428e-02 -1.34750813e-01  6.69038370e-02\n",
            " -1.34766459e-01  9.43898782e-03  1.31926477e-01 -1.58334896e-01\n",
            " -1.22813150e-01 -5.17066568e-02 -4.34162980e-03  1.57822728e-01\n",
            "  2.69730967e-02 -9.49096009e-02  8.52614418e-02 -3.52440290e-02\n",
            " -4.28017341e-02 -4.71533574e-02 -1.74616724e-01 -2.70424075e-02\n",
            " -1.59077644e-01  2.05418766e-02  1.07440107e-01 -4.70323972e-02\n",
            "  4.38535661e-02  2.55775498e-03  2.04529613e-02  5.66932410e-02\n",
            " -1.71210766e-01  7.00381920e-02  2.45257523e-02  1.50635317e-01\n",
            " -5.41147590e-03 -1.05057679e-01  9.94266048e-02 -2.98997104e-01\n",
            " -1.85042694e-02 -1.66093886e-01 -2.06840020e-02  7.40725324e-02\n",
            " -2.53957748e-01 -2.25878097e-02  1.82168990e-01  1.85363933e-01\n",
            "  5.53489942e-03  8.85715634e-02  6.45186156e-02  1.54638186e-01\n",
            " -1.37021750e-01  1.11621715e-01 -2.06448995e-02 -2.57379502e-01\n",
            " -9.49359089e-02  2.11444721e-01  6.52909428e-02  1.25751317e-01\n",
            "  1.32515326e-01 -2.62738198e-01 -3.26474726e-01 -1.02918886e-03\n",
            " -9.18940827e-02 -6.78163618e-02  7.37325335e-03  4.53364886e-02\n",
            "  1.09436311e-01 -1.39681891e-01  1.21093705e-01 -1.49667099e-01\n",
            " -4.90410328e-02  7.07316324e-02  2.19758227e-02 -2.09088683e-01\n",
            "  5.47284037e-02  6.50035962e-02  3.03435862e-01 -7.55161270e-02\n",
            "  2.52265669e-02  1.56775594e-01 -1.38398156e-01 -3.95199321e-02\n",
            "  6.37133121e-02 -1.21260233e-01 -2.85383947e-02  1.92927923e-02\n",
            " -3.47046293e-02  4.49119583e-02 -2.21526474e-02 -4.83315205e-04\n",
            "  1.45401552e-01  2.21432745e-01  6.13892823e-02  3.90360900e-03\n",
            " -1.43822655e-01  1.05042361e-01 -1.63493276e-01 -2.74794281e-01\n",
            " -9.98934433e-02  8.29165056e-02  4.01178971e-02 -7.95743465e-02\n",
            "  1.58631057e-01  5.19554168e-02 -7.66979009e-02  1.47958864e-02\n",
            " -1.79861233e-01  2.03454956e-01 -4.91105728e-02 -9.49514136e-02\n",
            " -4.31176042e-03 -1.89435799e-02 -4.58808430e-02 -1.51526004e-01\n",
            "  6.47098050e-02 -6.32209354e-04 -1.80700943e-01 -2.42257670e-01\n",
            " -1.43373371e-04  6.16321601e-02 -8.68242159e-02  8.97379592e-02\n",
            " -3.08358036e-02  1.22368522e-01  1.83317512e-01  8.22566897e-02\n",
            "  1.74469054e-01  1.86585397e-01  1.32172957e-01  2.85633713e-01\n",
            " -1.40106425e-01 -2.19896838e-01 -8.96434337e-02 -1.49009600e-02\n",
            " -1.76349267e-01 -2.77385056e-01  7.04434933e-03 -1.60261661e-01\n",
            " -7.40087628e-02 -1.94418713e-01 -9.64812636e-02  8.13382864e-02\n",
            " -1.69460520e-01  9.24796611e-03  1.19532995e-01 -6.24308363e-02\n",
            "  4.96699214e-02  2.36418098e-01 -2.70910207e-02 -8.29890296e-02\n",
            "  1.44376352e-01  4.79004160e-02 -6.34960011e-02 -1.06645271e-01\n",
            " -1.19980507e-01 -4.16673645e-02 -1.84787497e-01  1.17159978e-01\n",
            "  6.85108528e-02 -4.16577458e-02  4.66660634e-02 -2.87261307e-01\n",
            "  6.85339347e-02  2.03440949e-01  3.80101129e-02  2.12110505e-02\n",
            "  2.51325488e-01  2.73610204e-01 -4.23380435e-01 -1.09954379e-01\n",
            " -1.08185127e-01 -5.92284882e-03  9.50074345e-02  6.50878549e-02\n",
            " -1.91213433e-02  1.55970499e-01 -2.90288944e-02  2.63311177e-01\n",
            " -7.80531615e-02 -2.11078376e-01 -2.13108376e-01  1.23634070e-01\n",
            "  5.35792392e-03 -6.35397360e-02  7.34822676e-02  3.53500731e-02\n",
            "  9.87014640e-03 -1.16701797e-01 -2.34639272e-02  4.59305719e-02\n",
            "  1.70073181e-01  6.78908899e-02 -1.00655735e-01  3.37831050e-01\n",
            " -6.82959706e-02 -5.68022504e-02  2.00813748e-02  1.68373391e-01\n",
            "  8.04750100e-02 -1.22735120e-01 -3.86365540e-02  3.75475269e-03\n",
            "  2.14118548e-02 -6.92674369e-02  1.40301898e-01 -1.38045415e-01\n",
            " -1.51859343e-01 -6.27112463e-02 -1.39452890e-01  7.50799924e-02\n",
            " -1.95261955e-01  1.40364006e-01  9.06484760e-03 -6.16561957e-02\n",
            "  1.32863387e-01 -1.18429773e-03  1.32743642e-01 -1.00577332e-01\n",
            " -4.34868410e-02 -1.33833379e-01  4.97697257e-02 -7.07131773e-02\n",
            "  1.90843940e-02  2.47462578e-02  1.26142099e-01 -3.77644598e-02\n",
            "  1.86399128e-02 -3.81471738e-02  2.32723188e-02 -1.49725616e-01\n",
            "  3.03798504e-02 -6.30424097e-02  5.20415651e-03  5.76886609e-02\n",
            "  6.67798007e-03  1.29650310e-01  7.44658522e-03  3.38317379e-02\n",
            "  8.69839415e-02  4.41868789e-04  1.67470098e-01 -1.02424994e-01\n",
            " -6.46456406e-02 -8.66317526e-02 -1.63845778e-01 -1.04047731e-01\n",
            " -1.87534705e-01  3.26682106e-02 -6.17335811e-02 -1.54258981e-01\n",
            " -1.04720648e-02 -3.36317688e-01  1.21119656e-01  1.74376070e-01]\n",
            "(300,)\n"
          ]
        }
      ]
    },
    {
      "cell_type": "code",
      "source": [
        "print(\"Similaridade mulher e homem: \",model.similarity(\"mulher\",\"homem\"))\n",
        "print(\"Similaridade dom e casmurro: \",model.similarity(\"dom\",\"casmurro\"))"
      ],
      "metadata": {
        "colab": {
          "base_uri": "https://localhost:8080/"
        },
        "id": "Lq4OUrVlPj5B",
        "outputId": "dfbc77bb-6969-4802-e079-fffed4d6154b"
      },
      "execution_count": 31,
      "outputs": [
        {
          "output_type": "stream",
          "name": "stdout",
          "text": [
            "Similaridade mulher e homem:  0.4193292\n",
            "Similaridade dom e casmurro:  0.6784538\n"
          ]
        }
      ]
    },
    {
      "cell_type": "markdown",
      "metadata": {
        "id": "gzTUg-IaAC8K"
      },
      "source": [
        "<b> Salvando o modelo</b>"
      ]
    },
    {
      "cell_type": "code",
      "metadata": {
        "id": "VB9agjQYAC8L"
      },
      "source": [
        "model.wv.save_word2vec_format('model_TESTE.bin', binary=True)"
      ],
      "execution_count": 32,
      "outputs": []
    },
    {
      "cell_type": "markdown",
      "metadata": {
        "id": "xMjXdQ13AC8P"
      },
      "source": [
        "<b> Atividade </b>\n",
        "\n",
        "Dada as seguintes palavras:\n",
        "\n",
        "foi, relógio, amor, raiva, brasil.\n",
        "\n",
        "16) Escreva um método que retorne uma lista com as 5 palavras similares de cada uma das listadas anteriormente.\n",
        "Imprima a lista das palavras similares, incluindo a palavra origem."
      ]
    },
    {
      "cell_type": "code",
      "metadata": {
        "id": "e5d6DypjbyE9",
        "colab": {
          "base_uri": "https://localhost:8080/"
        },
        "outputId": "587a8a37-ccbe-476b-e8b0-bbb58b4e9b41"
      },
      "source": [
        "similiar_foi = model.most_similar(\"foi\",topn=5)\n",
        "similiar_relogio = model.most_similar(\"relógio\",topn=5)\n",
        "similiar_amor = model.most_similar(\"amor\",topn=5)\n",
        "similiar_raiva = model.most_similar(\"raiva\",topn=5)\n",
        "similiar_brasil = model.most_similar(\"brasil\",topn=5)\n",
        "\n",
        "print(\"Similaridade 'foi': \", similiar_foi)\n",
        "print(\"Similaridade 'relógio': \", similiar_relogio)\n",
        "print(\"Similaridade 'amor': \", similiar_amor)\n",
        "print(\"Similaridade 'raiva': \", similiar_raiva)\n",
        "print(\"Similaridade 'brasil': \", similiar_brasil)"
      ],
      "execution_count": 33,
      "outputs": [
        {
          "output_type": "stream",
          "name": "stdout",
          "text": [
            "Similaridade 'foi':  [('fui', 0.5556420087814331), ('correu', 0.5340918898582458), ('serviu', 0.5338103771209717), ('seguiu', 0.5236458778381348), ('obteve', 0.5061323642730713)]\n",
            "Similaridade 'relógio':  [('embrulho', 0.7494984269142151), ('sapato', 0.7360186576843262), ('revólver', 0.728304386138916), ('paletó', 0.7176345586776733), ('charuto', 0.7137769460678101)]\n",
            "Similaridade 'amor':  [('ciúme', 0.6950008869171143), ('orgulho', 0.6633248329162598), ('arrependimento', 0.6564425230026245), ('casto', 0.6364181637763977), ('afeto', 0.6355516910552979)]\n",
            "Similaridade 'raiva':  [('morder', 0.8401992321014404), ('impaciência', 0.8388074636459351), ('mordia', 0.8304884433746338), ('amargura', 0.8156095147132874), ('assobiar', 0.7937184572219849)]\n",
            "Similaridade 'brasil':  [('município', 0.8018879890441895), ('méxico', 0.7977259159088135), ('cruzeiro', 0.77750563621521), ('maranhão', 0.7724354863166809), ('sul', 0.7698863744735718)]\n"
          ]
        }
      ]
    },
    {
      "cell_type": "markdown",
      "metadata": {
        "id": "sX5yNDdNAC8n"
      },
      "source": [
        "### Visualização"
      ]
    },
    {
      "cell_type": "markdown",
      "metadata": {
        "id": "q_8sL0sOAC8o"
      },
      "source": [
        "Para a visualização dos embeddings iremos  construir um array com todas as palavras retornadas anteriormente.\n",
        "\n",
        "<b> Atividade </b>\n",
        "\n",
        "17) Primeiro, gere uma única lista com todas as palavras retornadas anteriomente. O array deve ter tamanho 30."
      ]
    },
    {
      "cell_type": "code",
      "source": [
        "#Professora, tamanho 30? Era pra ser top6 no most_similar então?"
      ],
      "metadata": {
        "id": "tJSP0xxhSW6B"
      },
      "execution_count": 34,
      "outputs": []
    },
    {
      "cell_type": "code",
      "metadata": {
        "id": "V2mnmx59AC8o",
        "colab": {
          "base_uri": "https://localhost:8080/"
        },
        "outputId": "076a28f7-021f-4959-cf67-72343911c1da"
      },
      "source": [
        "all_words = [\"foi\", \"relógio\", \"amor\", \"raiva\", \"brasil\"]\n",
        "[all_words.append(tupla[0]) for tupla in similiar_foi]\n",
        "[all_words.append(tupla[0]) for tupla in similiar_relogio]\n",
        "[all_words.append(tupla[0]) for tupla in similiar_amor]\n",
        "[all_words.append(tupla[0]) for tupla in similiar_raiva]\n",
        "[all_words.append(tupla[0]) for tupla in similiar_brasil]\n",
        "\n",
        "all_words"
      ],
      "execution_count": 45,
      "outputs": [
        {
          "output_type": "execute_result",
          "data": {
            "text/plain": [
              "['foi',\n",
              " 'relógio',\n",
              " 'amor',\n",
              " 'raiva',\n",
              " 'brasil',\n",
              " 'fui',\n",
              " 'correu',\n",
              " 'serviu',\n",
              " 'seguiu',\n",
              " 'obteve',\n",
              " 'embrulho',\n",
              " 'sapato',\n",
              " 'revólver',\n",
              " 'paletó',\n",
              " 'charuto',\n",
              " 'ciúme',\n",
              " 'orgulho',\n",
              " 'arrependimento',\n",
              " 'casto',\n",
              " 'afeto',\n",
              " 'morder',\n",
              " 'impaciência',\n",
              " 'mordia',\n",
              " 'amargura',\n",
              " 'assobiar',\n",
              " 'município',\n",
              " 'méxico',\n",
              " 'cruzeiro',\n",
              " 'maranhão',\n",
              " 'sul']"
            ]
          },
          "metadata": {},
          "execution_count": 45
        }
      ]
    },
    {
      "cell_type": "markdown",
      "metadata": {
        "id": "IhO4tuvyAC8w"
      },
      "source": [
        "18) O código abaixo gera um array com todos os embeddings das palavras anteriores. Este array terá dimensão (30,300)"
      ]
    },
    {
      "cell_type": "code",
      "metadata": {
        "id": "2T4mDJ_cAC8x",
        "colab": {
          "base_uri": "https://localhost:8080/"
        },
        "outputId": "05f4baf3-282d-469e-9923-8b01c9010cb5"
      },
      "source": [
        "array_embeddings = np.empty((0,300), dtype='f')\n",
        "for w in all_words:\n",
        "    array_embeddings = np.append(array_embeddings, np.array([model[w]]), axis=0)\n",
        "print(array_embeddings.shape)"
      ],
      "execution_count": 46,
      "outputs": [
        {
          "output_type": "stream",
          "name": "stdout",
          "text": [
            "(30, 300)\n"
          ]
        }
      ]
    },
    {
      "cell_type": "markdown",
      "metadata": {
        "id": "2YjvhwhEAC85"
      },
      "source": [
        "<b>Dica: </b> Use a função abaixo para plotar o array 2D que será gerado com o método PCA, TSNE e UMAP"
      ]
    },
    {
      "cell_type": "code",
      "metadata": {
        "id": "stqEUCMSAC86"
      },
      "source": [
        "def plot_embedding_2d(array_2d, all_words, words_seed):\n",
        "    fig, ax = plt.subplots(1, 1, figsize=(12, 8))\n",
        "    for (x, y), w in zip(array_2d, all_words):\n",
        "        ax.scatter(x, y, c='red' if w in words_seed else 'blue')\n",
        "        ax.annotate(w,\n",
        "                     xy=(x, y),\n",
        "                     xytext=(5, 2),\n",
        "                     textcoords='offset points',\n",
        "                     ha='right',\n",
        "                     va='bottom')"
      ],
      "execution_count": 37,
      "outputs": []
    },
    {
      "cell_type": "markdown",
      "metadata": {
        "id": "dPvF4mqEAC89"
      },
      "source": [
        "#### PCA\n",
        "\n",
        "<b> É uma ténica que existe a mais de século. É rápido, determinístico e linear. Essa linearidade limita sua utilidade em domínios complexos, como linguagem natural ou imagens, onde a estrutura não linear. </b>\n",
        "\n",
        "Mais informações: https://medium.com/towards-artificial-intelligence/machine-learning-dimensionality-reduction-via-principal-component-analysis-1bdc77462831\n",
        "\n",
        "\n",
        "<b> Atividade </b>\n",
        "\n",
        "19) Gere a visualização dos embeddings anteriores utilizando o PCA para reduzir a dimensionalidade.\n",
        "\n",
        "Exemplo do PCA:\n",
        "\n",
        "```python\n",
        "#uso de PCA\n",
        "pca = PCA(n_components=2)\n",
        "pca_result = pca.fit_transform(array_embeddings)\n",
        "```"
      ]
    },
    {
      "cell_type": "code",
      "metadata": {
        "id": "Q_cir8Hjb97F",
        "colab": {
          "base_uri": "https://localhost:8080/"
        },
        "outputId": "5ff9b126-536f-4611-e69d-67cbda0582fe"
      },
      "source": [
        "pca = PCA(n_components=2)\n",
        "pca_result = pca.fit_transform(array_embeddings)\n",
        "pca_result.shape"
      ],
      "execution_count": 47,
      "outputs": [
        {
          "output_type": "execute_result",
          "data": {
            "text/plain": [
              "(30, 2)"
            ]
          },
          "metadata": {},
          "execution_count": 47
        }
      ]
    },
    {
      "cell_type": "code",
      "source": [
        "plot_embedding_2d(pca_result,all_words,[\"foi\", \"relógio\", \"amor\", \"raiva\", \"brasil\"])"
      ],
      "metadata": {
        "colab": {
          "base_uri": "https://localhost:8080/",
          "height": 483
        },
        "id": "Zib_TXDhTuKq",
        "outputId": "a2f67531-8750-45f8-c681-ad8a2b41d915"
      },
      "execution_count": 48,
      "outputs": [
        {
          "output_type": "display_data",
          "data": {
            "image/png": "[encoded data removed]",
            "text/plain": [
              "<Figure size 864x576 with 1 Axes>"
            ]
          },
          "metadata": {
            "needs_background": "light"
          }
        }
      ]
    },
    {
      "cell_type": "markdown",
      "metadata": {
        "id": "DiydMeXhAC9G"
      },
      "source": [
        "#### TSNE\n",
        "<b> Uma técnica mais recente que captura estrutura não linear é o t-SNE, que significa distribuição estocástica de embedding viziznhos em t ( t-distributed Stochastic Neighbor Embedding). \n",
        "É uma ótima técnica para capturar a estrutura não linear em dados de alta dimensão(pelo menos em nível local). Isto é, dois pontos que são próximos no espaço de alta dimensão a probabilidade de estarem próximos em uma dimensão baixa é alta. </b>\n",
        "\n",
        "Mais informações: https://medium.com/@garora039/dimensionality-reduction-using-t-sne-effectively-cabb2cd519b\n",
        "\n",
        "<b> Atividade </b>\n",
        "\n",
        "20) Gere a visualização dos embeddings anteriores utilizando o TSNE para reduzir a dimensionalidade.\n",
        "\n",
        "Exemplo do TSNE:\n",
        "\n",
        "```python\n",
        "#uso de TSNE\n",
        "tsne = TSNE(n_components=2, random_state=0, perplexity=4)\n",
        "tsne_result =  tsne.fit_transform(array_embeddings)\n",
        "```"
      ]
    },
    {
      "cell_type": "code",
      "metadata": {
        "id": "V4AMZ2UZcDQa",
        "colab": {
          "base_uri": "https://localhost:8080/"
        },
        "outputId": "c12c0ee1-59cf-4872-8f5b-674ab2f4603a"
      },
      "source": [
        "tsne = TSNE(n_components=2, random_state=0, perplexity=4)\n",
        "tsne_result =  tsne.fit_transform(array_embeddings)\n",
        "tsne_result.shape"
      ],
      "execution_count": 49,
      "outputs": [
        {
          "output_type": "execute_result",
          "data": {
            "text/plain": [
              "(30, 2)"
            ]
          },
          "metadata": {},
          "execution_count": 49
        }
      ]
    },
    {
      "cell_type": "code",
      "source": [
        "plot_embedding_2d(tsne_result,all_words,[\"foi\", \"relógio\", \"amor\", \"raiva\", \"brasil\"])"
      ],
      "metadata": {
        "colab": {
          "base_uri": "https://localhost:8080/",
          "height": 483
        },
        "id": "KfW9zM16VYrv",
        "outputId": "6ae3fd8e-0f92-40ee-bf2c-476199a231c7"
      },
      "execution_count": 52,
      "outputs": [
        {
          "output_type": "display_data",
          "data": {
            "image/png": "[encoded data removed]",
            "text/plain": [
              "<Figure size 864x576 with 1 Axes>"
            ]
          },
          "metadata": {
            "needs_background": "light"
          }
        }
      ]
    },
    {
      "cell_type": "markdown",
      "metadata": {
        "id": "5mpCJ_VjAC9P"
      },
      "source": [
        "#### UMAP\n",
        "\n",
        "<b> Técnica super nova!! Foi lançada em 2018! Observe que o resultado do UMAP com o TSNE é semelhante. Mas existem várias vantagens do UMAP, por exemplo: é mais rápido que o t-SNE; ele captura melhor a estrutura global </b>\n",
        "\n",
        "Mais informações: https://medium.com/@dan.allison/dimensionality-reduction-with-umap-b081837354dd\n",
        "\n",
        "<b> Atividade </b>\n",
        "\n",
        "21) Gere a visualização dos embeddings anteriores utilizando o UMAP para reduzir a dimensionalidade.\n",
        "\n",
        "Exemplo do UMAP:\n",
        "\n",
        "```python\n",
        "#uso de TSNE\n",
        "umap = umap.UMAP()\n",
        "umap_result =  umap.fit_transform(array_embeddings)\n",
        "```"
      ]
    },
    {
      "cell_type": "code",
      "metadata": {
        "id": "X5L1MYnGcGHl",
        "colab": {
          "base_uri": "https://localhost:8080/"
        },
        "outputId": "2eafab06-61d8-423b-d620-590925808d90"
      },
      "source": [
        "umap = umap.UMAP()\n",
        "umap_result =  umap.fit_transform(array_embeddings)\n",
        "umap_result.shape"
      ],
      "execution_count": 56,
      "outputs": [
        {
          "output_type": "execute_result",
          "data": {
            "text/plain": [
              "(30, 2)"
            ]
          },
          "metadata": {},
          "execution_count": 56
        }
      ]
    },
    {
      "cell_type": "code",
      "metadata": {
        "id": "ANms6_aWbG6D",
        "colab": {
          "base_uri": "https://localhost:8080/",
          "height": 483
        },
        "outputId": "4cb71f65-446c-471c-8e04-c2a406b6487f"
      },
      "source": [
        "plot_embedding_2d(umap_result,all_words,[\"foi\", \"relógio\", \"amor\", \"raiva\", \"brasil\"])"
      ],
      "execution_count": 57,
      "outputs": [
        {
          "output_type": "display_data",
          "data": {
            "image/png": "[encoded data removed]",
            "text/plain": [
              "<Figure size 864x576 with 1 Axes>"
            ]
          },
          "metadata": {
            "needs_background": "light"
          }
        }
      ]
    },
    {
      "cell_type": "code",
      "source": [
        "# No meu ponto de vista a melhor técnica de visualização foi TSNE"
      ],
      "metadata": {
        "id": "NpOAr0ijWm0b"
      },
      "execution_count": 44,
      "outputs": []
    }
  ]
}
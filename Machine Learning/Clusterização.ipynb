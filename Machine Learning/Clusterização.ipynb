{
  "nbformat": 4,
  "nbformat_minor": 0,
  "metadata": {
    "colab": {
      "name": "ML -Atividade Prática - Clusterização",
      "provenance": [],
      "collapsed_sections": []
    },
    "kernelspec": {
      "name": "python3",
      "display_name": "Python 3"
    },
    "language_info": {
      "name": "python"
    }
  },
  "cells": [
    {
      "cell_type": "code",
      "execution_count": 1,
      "metadata": {
        "id": "qoX-LWdLHyQF"
      },
      "outputs": [],
      "source": [
        "import numpy as np\n",
        "import matplotlib.pyplot as plt\n",
        "import pandas as pd\n",
        "from sklearn.cluster import KMeans\n",
        "from sklearn.metrics import silhouette_score,davies_bouldin_score\n"
      ]
    },
    {
      "cell_type": "markdown",
      "source": [
        "#Obtenção do dataset"
      ],
      "metadata": {
        "id": "B3yo78meOC5j"
      }
    },
    {
      "cell_type": "code",
      "source": [
        "download_url = 'https://drive.google.com/uc?export=download&id='\n",
        "url_drive_file = 'https://docs.google.com/spreadsheets/d/1ojgXmCtLpsIqs6pSQTyfewy5UlDy1ajI/edit#gid=1963201087'\n",
        "\n",
        "download_path = download_url + url_drive_file.split('/')[-2]\n",
        "\n",
        "dados_saude = pd.read_excel(download_path, \n",
        "                           \n",
        "                sheet_name = 'Plan1',\n",
        "                 header=0)\n",
        "\n",
        "dados_saude.head()\n"
      ],
      "metadata": {
        "colab": {
          "base_uri": "https://localhost:8080/",
          "height": 206
        },
        "id": "YYD6peXHIATy",
        "outputId": "59b26cbb-671e-4242-857b-abc3aab3735d"
      },
      "execution_count": 2,
      "outputs": [
        {
          "output_type": "execute_result",
          "data": {
            "text/html": [
              "<div>\n",
              "<style scoped>\n",
              "    .dataframe tbody tr th:only-of-type {\n",
              "        vertical-align: middle;\n",
              "    }\n",
              "\n",
              "    .dataframe tbody tr th {\n",
              "        vertical-align: top;\n",
              "    }\n",
              "\n",
              "    .dataframe thead th {\n",
              "        text-align: right;\n",
              "    }\n",
              "</style>\n",
              "<table border=\"1\" class=\"dataframe\">\n",
              "  <thead>\n",
              "    <tr style=\"text-align: right;\">\n",
              "      <th></th>\n",
              "      <th>Peso</th>\n",
              "      <th>Colesterol</th>\n",
              "      <th>Genero</th>\n",
              "    </tr>\n",
              "  </thead>\n",
              "  <tbody>\n",
              "    <tr>\n",
              "      <th>0</th>\n",
              "      <td>102</td>\n",
              "      <td>111</td>\n",
              "      <td>1</td>\n",
              "    </tr>\n",
              "    <tr>\n",
              "      <th>1</th>\n",
              "      <td>115</td>\n",
              "      <td>135</td>\n",
              "      <td>1</td>\n",
              "    </tr>\n",
              "    <tr>\n",
              "      <th>2</th>\n",
              "      <td>115</td>\n",
              "      <td>136</td>\n",
              "      <td>1</td>\n",
              "    </tr>\n",
              "    <tr>\n",
              "      <th>3</th>\n",
              "      <td>140</td>\n",
              "      <td>167</td>\n",
              "      <td>0</td>\n",
              "    </tr>\n",
              "    <tr>\n",
              "      <th>4</th>\n",
              "      <td>130</td>\n",
              "      <td>158</td>\n",
              "      <td>1</td>\n",
              "    </tr>\n",
              "  </tbody>\n",
              "</table>\n",
              "</div>"
            ],
            "text/plain": [
              "   Peso  Colesterol  Genero\n",
              "0   102         111       1\n",
              "1   115         135       1\n",
              "2   115         136       1\n",
              "3   140         167       0\n",
              "4   130         158       1"
            ]
          },
          "metadata": {},
          "execution_count": 2
        }
      ]
    },
    {
      "cell_type": "markdown",
      "source": [
        "#Criação e execução do modelo com 2 grupos"
      ],
      "metadata": {
        "id": "3aaL6VqiOGaQ"
      }
    },
    {
      "cell_type": "markdown",
      "source": [
        "##Modelo"
      ],
      "metadata": {
        "id": "hJmlg2O2PGKZ"
      }
    },
    {
      "cell_type": "code",
      "source": [
        "kmeans_2 = KMeans(n_clusters=2, random_state=170)\n",
        "y_pred =  kmeans_2.fit_predict(dados_saude)\n"
      ],
      "metadata": {
        "id": "DltMu0fxIWTq"
      },
      "execution_count": 3,
      "outputs": []
    },
    {
      "cell_type": "code",
      "source": [
        "dados_saude['cluster'] = y_pred\n",
        "dados_saude"
      ],
      "metadata": {
        "colab": {
          "base_uri": "https://localhost:8080/",
          "height": 424
        },
        "id": "vsa5luuULySG",
        "outputId": "990bb072-ad68-46b3-cf46-bf6e370a0212"
      },
      "execution_count": 4,
      "outputs": [
        {
          "output_type": "execute_result",
          "data": {
            "text/html": [
              "<div>\n",
              "<style scoped>\n",
              "    .dataframe tbody tr th:only-of-type {\n",
              "        vertical-align: middle;\n",
              "    }\n",
              "\n",
              "    .dataframe tbody tr th {\n",
              "        vertical-align: top;\n",
              "    }\n",
              "\n",
              "    .dataframe thead th {\n",
              "        text-align: right;\n",
              "    }\n",
              "</style>\n",
              "<table border=\"1\" class=\"dataframe\">\n",
              "  <thead>\n",
              "    <tr style=\"text-align: right;\">\n",
              "      <th></th>\n",
              "      <th>Peso</th>\n",
              "      <th>Colesterol</th>\n",
              "      <th>Genero</th>\n",
              "      <th>cluster</th>\n",
              "    </tr>\n",
              "  </thead>\n",
              "  <tbody>\n",
              "    <tr>\n",
              "      <th>0</th>\n",
              "      <td>102</td>\n",
              "      <td>111</td>\n",
              "      <td>1</td>\n",
              "      <td>1</td>\n",
              "    </tr>\n",
              "    <tr>\n",
              "      <th>1</th>\n",
              "      <td>115</td>\n",
              "      <td>135</td>\n",
              "      <td>1</td>\n",
              "      <td>1</td>\n",
              "    </tr>\n",
              "    <tr>\n",
              "      <th>2</th>\n",
              "      <td>115</td>\n",
              "      <td>136</td>\n",
              "      <td>1</td>\n",
              "      <td>1</td>\n",
              "    </tr>\n",
              "    <tr>\n",
              "      <th>3</th>\n",
              "      <td>140</td>\n",
              "      <td>167</td>\n",
              "      <td>0</td>\n",
              "      <td>1</td>\n",
              "    </tr>\n",
              "    <tr>\n",
              "      <th>4</th>\n",
              "      <td>130</td>\n",
              "      <td>158</td>\n",
              "      <td>1</td>\n",
              "      <td>1</td>\n",
              "    </tr>\n",
              "    <tr>\n",
              "      <th>...</th>\n",
              "      <td>...</td>\n",
              "      <td>...</td>\n",
              "      <td>...</td>\n",
              "      <td>...</td>\n",
              "    </tr>\n",
              "    <tr>\n",
              "      <th>542</th>\n",
              "      <td>172</td>\n",
              "      <td>207</td>\n",
              "      <td>1</td>\n",
              "      <td>0</td>\n",
              "    </tr>\n",
              "    <tr>\n",
              "      <th>543</th>\n",
              "      <td>129</td>\n",
              "      <td>157</td>\n",
              "      <td>1</td>\n",
              "      <td>1</td>\n",
              "    </tr>\n",
              "    <tr>\n",
              "      <th>544</th>\n",
              "      <td>107</td>\n",
              "      <td>115</td>\n",
              "      <td>1</td>\n",
              "      <td>1</td>\n",
              "    </tr>\n",
              "    <tr>\n",
              "      <th>545</th>\n",
              "      <td>117</td>\n",
              "      <td>147</td>\n",
              "      <td>1</td>\n",
              "      <td>1</td>\n",
              "    </tr>\n",
              "    <tr>\n",
              "      <th>546</th>\n",
              "      <td>148</td>\n",
              "      <td>176</td>\n",
              "      <td>1</td>\n",
              "      <td>0</td>\n",
              "    </tr>\n",
              "  </tbody>\n",
              "</table>\n",
              "<p>547 rows × 4 columns</p>\n",
              "</div>"
            ],
            "text/plain": [
              "     Peso  Colesterol  Genero  cluster\n",
              "0     102         111       1        1\n",
              "1     115         135       1        1\n",
              "2     115         136       1        1\n",
              "3     140         167       0        1\n",
              "4     130         158       1        1\n",
              "..    ...         ...     ...      ...\n",
              "542   172         207       1        0\n",
              "543   129         157       1        1\n",
              "544   107         115       1        1\n",
              "545   117         147       1        1\n",
              "546   148         176       1        0\n",
              "\n",
              "[547 rows x 4 columns]"
            ]
          },
          "metadata": {},
          "execution_count": 4
        }
      ]
    },
    {
      "cell_type": "markdown",
      "source": [
        "##Preparação para visualização\n"
      ],
      "metadata": {
        "id": "DQacqIwIMVWM"
      }
    },
    {
      "cell_type": "code",
      "source": [
        "Cluster_0 = dados_saude[dados_saude.cluster == 0]\n",
        "Cluster_1 = dados_saude[dados_saude.cluster == 1]"
      ],
      "metadata": {
        "id": "-K5drZBzMXGz"
      },
      "execution_count": 5,
      "outputs": []
    },
    {
      "cell_type": "code",
      "source": [
        "kplot = plt.axes(projection='3d')\n",
        "xline = np.linspace(0, 15, 1000)\n",
        "yline = np.linspace(0, 15, 1000)\n",
        "zline = np.linspace(0, 15, 1000)\n",
        "kplot.plot3D(xline, yline, zline, 'black')\n",
        "# Data for three-dimensional scattered points\n",
        "kplot.scatter3D(Cluster_0.Peso, Cluster_0.Colesterol, Cluster_0.Genero, c='red', label = 'Cluster 0')\n",
        "kplot.scatter3D(Cluster_1.Peso, Cluster_1.Colesterol, Cluster_1.Genero,c ='green', label = 'Cluster 1')\n",
        "plt.scatter(kmeans_2.cluster_centers_[:,0], kmeans_2.cluster_centers_[:,1], color = 'indigo', s = 200)\n",
        "plt.legend()\n",
        "plt.title(\"Visualização grupos\")\n",
        "plt.show()"
      ],
      "metadata": {
        "colab": {
          "base_uri": "https://localhost:8080/",
          "height": 248
        },
        "id": "ejcptTdIJqK-",
        "outputId": "b4b53074-bdc4-45ae-ffba-c0a6ba2e04b8"
      },
      "execution_count": 6,
      "outputs": [
        {
          "output_type": "display_data",
          "data": {
            "image/png": "[encoded data removed]",
            "text/plain": [
              "<Figure size 432x288 with 1 Axes>"
            ]
          },
          "metadata": {
            "needs_background": "light"
          }
        }
      ]
    },
    {
      "cell_type": "markdown",
      "source": [
        "##Metricas"
      ],
      "metadata": {
        "id": "ucFBnOOGN7SU"
      }
    },
    {
      "cell_type": "code",
      "source": [
        "score = silhouette_score(dados_saude,y_pred)\n",
        "print(f'Silhueta Index: {score}')\n",
        "davies_bouldin = davies_bouldin_score(dados_saude,y_pred) \n",
        "print(f'Davies-Bouldin: {davies_bouldin}')"
      ],
      "metadata": {
        "colab": {
          "base_uri": "https://localhost:8080/"
        },
        "id": "hYmCJL4fNMU1",
        "outputId": "7fbb4eac-2cb6-4841-9032-4f65e9d1affa"
      },
      "execution_count": 7,
      "outputs": [
        {
          "output_type": "stream",
          "name": "stdout",
          "text": [
            "Silhueta Index: 0.6314415693998991\n",
            "Davies-Bouldin: 0.49308902399191124\n"
          ]
        }
      ]
    },
    {
      "cell_type": "markdown",
      "source": [
        "\n",
        "#Criação do modelo com 4 clusters\n",
        "\n",
        "\n",
        "\n",
        "\n",
        "\n"
      ],
      "metadata": {
        "id": "6cwXfEquOLqW"
      }
    },
    {
      "cell_type": "markdown",
      "source": [
        "##Modelo"
      ],
      "metadata": {
        "id": "pwaMszwXPEA0"
      }
    },
    {
      "cell_type": "code",
      "source": [
        "kmeans_4 = KMeans(n_clusters=4, random_state=170)\n",
        "y_pred =  kmeans_4.fit_predict(dados_saude)"
      ],
      "metadata": {
        "id": "iv6T7gzVO1pK"
      },
      "execution_count": 8,
      "outputs": []
    },
    {
      "cell_type": "code",
      "source": [
        "dados_saude['cluster'] = y_pred\n",
        "dados_saude"
      ],
      "metadata": {
        "colab": {
          "base_uri": "https://localhost:8080/",
          "height": 424
        },
        "id": "coXh4_Y3O5ff",
        "outputId": "24c2176d-a508-41da-96ec-01a5897a722b"
      },
      "execution_count": 9,
      "outputs": [
        {
          "output_type": "execute_result",
          "data": {
            "text/html": [
              "<div>\n",
              "<style scoped>\n",
              "    .dataframe tbody tr th:only-of-type {\n",
              "        vertical-align: middle;\n",
              "    }\n",
              "\n",
              "    .dataframe tbody tr th {\n",
              "        vertical-align: top;\n",
              "    }\n",
              "\n",
              "    .dataframe thead th {\n",
              "        text-align: right;\n",
              "    }\n",
              "</style>\n",
              "<table border=\"1\" class=\"dataframe\">\n",
              "  <thead>\n",
              "    <tr style=\"text-align: right;\">\n",
              "      <th></th>\n",
              "      <th>Peso</th>\n",
              "      <th>Colesterol</th>\n",
              "      <th>Genero</th>\n",
              "      <th>cluster</th>\n",
              "    </tr>\n",
              "  </thead>\n",
              "  <tbody>\n",
              "    <tr>\n",
              "      <th>0</th>\n",
              "      <td>102</td>\n",
              "      <td>111</td>\n",
              "      <td>1</td>\n",
              "      <td>3</td>\n",
              "    </tr>\n",
              "    <tr>\n",
              "      <th>1</th>\n",
              "      <td>115</td>\n",
              "      <td>135</td>\n",
              "      <td>1</td>\n",
              "      <td>3</td>\n",
              "    </tr>\n",
              "    <tr>\n",
              "      <th>2</th>\n",
              "      <td>115</td>\n",
              "      <td>136</td>\n",
              "      <td>1</td>\n",
              "      <td>3</td>\n",
              "    </tr>\n",
              "    <tr>\n",
              "      <th>3</th>\n",
              "      <td>140</td>\n",
              "      <td>167</td>\n",
              "      <td>0</td>\n",
              "      <td>1</td>\n",
              "    </tr>\n",
              "    <tr>\n",
              "      <th>4</th>\n",
              "      <td>130</td>\n",
              "      <td>158</td>\n",
              "      <td>1</td>\n",
              "      <td>1</td>\n",
              "    </tr>\n",
              "    <tr>\n",
              "      <th>...</th>\n",
              "      <td>...</td>\n",
              "      <td>...</td>\n",
              "      <td>...</td>\n",
              "      <td>...</td>\n",
              "    </tr>\n",
              "    <tr>\n",
              "      <th>542</th>\n",
              "      <td>172</td>\n",
              "      <td>207</td>\n",
              "      <td>1</td>\n",
              "      <td>0</td>\n",
              "    </tr>\n",
              "    <tr>\n",
              "      <th>543</th>\n",
              "      <td>129</td>\n",
              "      <td>157</td>\n",
              "      <td>1</td>\n",
              "      <td>1</td>\n",
              "    </tr>\n",
              "    <tr>\n",
              "      <th>544</th>\n",
              "      <td>107</td>\n",
              "      <td>115</td>\n",
              "      <td>1</td>\n",
              "      <td>3</td>\n",
              "    </tr>\n",
              "    <tr>\n",
              "      <th>545</th>\n",
              "      <td>117</td>\n",
              "      <td>147</td>\n",
              "      <td>1</td>\n",
              "      <td>1</td>\n",
              "    </tr>\n",
              "    <tr>\n",
              "      <th>546</th>\n",
              "      <td>148</td>\n",
              "      <td>176</td>\n",
              "      <td>1</td>\n",
              "      <td>2</td>\n",
              "    </tr>\n",
              "  </tbody>\n",
              "</table>\n",
              "<p>547 rows × 4 columns</p>\n",
              "</div>"
            ],
            "text/plain": [
              "     Peso  Colesterol  Genero  cluster\n",
              "0     102         111       1        3\n",
              "1     115         135       1        3\n",
              "2     115         136       1        3\n",
              "3     140         167       0        1\n",
              "4     130         158       1        1\n",
              "..    ...         ...     ...      ...\n",
              "542   172         207       1        0\n",
              "543   129         157       1        1\n",
              "544   107         115       1        3\n",
              "545   117         147       1        1\n",
              "546   148         176       1        2\n",
              "\n",
              "[547 rows x 4 columns]"
            ]
          },
          "metadata": {},
          "execution_count": 9
        }
      ]
    },
    {
      "cell_type": "markdown",
      "source": [
        "##Preparação para visualização\n"
      ],
      "metadata": {
        "id": "2G0Q2SnFPBuy"
      }
    },
    {
      "cell_type": "code",
      "source": [
        "Cluster_0 = dados_saude[dados_saude.cluster == 0]\n",
        "Cluster_1 = dados_saude[dados_saude.cluster == 1]\n",
        "Cluster_2 = dados_saude[dados_saude.cluster == 2]\n",
        "Cluster_3 = dados_saude[dados_saude.cluster == 3]"
      ],
      "metadata": {
        "id": "1VrHn0vCPP3v"
      },
      "execution_count": 10,
      "outputs": []
    },
    {
      "cell_type": "code",
      "source": [
        "kplot = plt.axes(projection='3d')\n",
        "xline = np.linspace(0, 15, 1000)\n",
        "yline = np.linspace(0, 15, 1000)\n",
        "zline = np.linspace(0, 15, 1000)\n",
        "kplot.plot3D(xline, yline, zline, 'black')\n",
        "# Data for three-dimensional scattered points\n",
        "kplot.scatter3D(Cluster_0.Peso, Cluster_0.Colesterol, Cluster_0.Genero, c='red', label = 'Cluster 0')\n",
        "kplot.scatter3D(Cluster_1.Peso, Cluster_1.Colesterol, Cluster_1.Genero,c ='green', label = 'Cluster 1')\n",
        "kplot.scatter3D(Cluster_2.Peso, Cluster_2.Colesterol, Cluster_2.Genero,c ='blue', label = 'Cluster 2')\n",
        "kplot.scatter3D(Cluster_3.Peso, Cluster_3.Colesterol, Cluster_3.Genero,c ='yellow', label = 'Cluster 3')\n",
        "plt.scatter(kmeans_4.cluster_centers_[:,0], kmeans_4.cluster_centers_[:,1], color = 'indigo', s = 200)\n",
        "plt.legend()\n",
        "plt.title(\"Visualização grupos\")\n",
        "plt.show()"
      ],
      "metadata": {
        "colab": {
          "base_uri": "https://localhost:8080/",
          "height": 248
        },
        "id": "2eeP32o4PQI0",
        "outputId": "1cc7598b-7390-4c24-b2c2-1bf7982e9779"
      },
      "execution_count": 11,
      "outputs": [
        {
          "output_type": "display_data",
          "data": {
            "image/png": "[encoded data removed]",
            "text/plain": [
              "<Figure size 432x288 with 1 Axes>"
            ]
          },
          "metadata": {
            "needs_background": "light"
          }
        }
      ]
    },
    {
      "cell_type": "markdown",
      "source": [
        "##Metricas"
      ],
      "metadata": {
        "id": "j_YOekgIQQ2G"
      }
    },
    {
      "cell_type": "code",
      "source": [
        "score = silhouette_score(dados_saude,y_pred)\n",
        "print(f'Silhueta Index: {score}')\n",
        "\n",
        "davies_bouldin = davies_bouldin_score(dados_saude,y_pred) \n",
        "print(f'Davies-Bouldin: {davies_bouldin}')"
      ],
      "metadata": {
        "colab": {
          "base_uri": "https://localhost:8080/"
        },
        "id": "CD3qosOAQTWp",
        "outputId": "5309c7bb-7524-4afe-db97-8dc80d593e03"
      },
      "execution_count": 12,
      "outputs": [
        {
          "output_type": "stream",
          "name": "stdout",
          "text": [
            "Silhueta Index: 0.5721424260672539\n",
            "Davies-Bouldin: 0.5113026199154969\n"
          ]
        }
      ]
    },
    {
      "cell_type": "markdown",
      "source": [
        "#Avaliação Final"
      ],
      "metadata": {
        "id": "hhrFq1TJQd5h"
      }
    },
    {
      "cell_type": "code",
      "source": [
        "print('Informações Cluster 0')\n",
        "Cluster_0.describe()"
      ],
      "metadata": {
        "colab": {
          "base_uri": "https://localhost:8080/",
          "height": 318
        },
        "id": "HdxqOAlwQyEO",
        "outputId": "e3774c8a-cbb5-4ffb-cf48-9a4ce6c80e56"
      },
      "execution_count": 13,
      "outputs": [
        {
          "output_type": "stream",
          "name": "stdout",
          "text": [
            "Informações Cluster 0\n"
          ]
        },
        {
          "output_type": "execute_result",
          "data": {
            "text/html": [
              "<div>\n",
              "<style scoped>\n",
              "    .dataframe tbody tr th:only-of-type {\n",
              "        vertical-align: middle;\n",
              "    }\n",
              "\n",
              "    .dataframe tbody tr th {\n",
              "        vertical-align: top;\n",
              "    }\n",
              "\n",
              "    .dataframe thead th {\n",
              "        text-align: right;\n",
              "    }\n",
              "</style>\n",
              "<table border=\"1\" class=\"dataframe\">\n",
              "  <thead>\n",
              "    <tr style=\"text-align: right;\">\n",
              "      <th></th>\n",
              "      <th>Peso</th>\n",
              "      <th>Colesterol</th>\n",
              "      <th>Genero</th>\n",
              "      <th>cluster</th>\n",
              "    </tr>\n",
              "  </thead>\n",
              "  <tbody>\n",
              "    <tr>\n",
              "      <th>count</th>\n",
              "      <td>154.000000</td>\n",
              "      <td>154.000000</td>\n",
              "      <td>154.000000</td>\n",
              "      <td>154.0</td>\n",
              "    </tr>\n",
              "    <tr>\n",
              "      <th>mean</th>\n",
              "      <td>184.318182</td>\n",
              "      <td>218.915584</td>\n",
              "      <td>0.590909</td>\n",
              "      <td>0.0</td>\n",
              "    </tr>\n",
              "    <tr>\n",
              "      <th>std</th>\n",
              "      <td>9.809096</td>\n",
              "      <td>8.190502</td>\n",
              "      <td>0.493270</td>\n",
              "      <td>0.0</td>\n",
              "    </tr>\n",
              "    <tr>\n",
              "      <th>min</th>\n",
              "      <td>167.000000</td>\n",
              "      <td>204.000000</td>\n",
              "      <td>0.000000</td>\n",
              "      <td>0.0</td>\n",
              "    </tr>\n",
              "    <tr>\n",
              "      <th>25%</th>\n",
              "      <td>176.250000</td>\n",
              "      <td>212.250000</td>\n",
              "      <td>0.000000</td>\n",
              "      <td>0.0</td>\n",
              "    </tr>\n",
              "    <tr>\n",
              "      <th>50%</th>\n",
              "      <td>183.500000</td>\n",
              "      <td>220.000000</td>\n",
              "      <td>1.000000</td>\n",
              "      <td>0.0</td>\n",
              "    </tr>\n",
              "    <tr>\n",
              "      <th>75%</th>\n",
              "      <td>191.000000</td>\n",
              "      <td>225.000000</td>\n",
              "      <td>1.000000</td>\n",
              "      <td>0.0</td>\n",
              "    </tr>\n",
              "    <tr>\n",
              "      <th>max</th>\n",
              "      <td>203.000000</td>\n",
              "      <td>235.000000</td>\n",
              "      <td>1.000000</td>\n",
              "      <td>0.0</td>\n",
              "    </tr>\n",
              "  </tbody>\n",
              "</table>\n",
              "</div>"
            ],
            "text/plain": [
              "             Peso  Colesterol      Genero  cluster\n",
              "count  154.000000  154.000000  154.000000    154.0\n",
              "mean   184.318182  218.915584    0.590909      0.0\n",
              "std      9.809096    8.190502    0.493270      0.0\n",
              "min    167.000000  204.000000    0.000000      0.0\n",
              "25%    176.250000  212.250000    0.000000      0.0\n",
              "50%    183.500000  220.000000    1.000000      0.0\n",
              "75%    191.000000  225.000000    1.000000      0.0\n",
              "max    203.000000  235.000000    1.000000      0.0"
            ]
          },
          "metadata": {},
          "execution_count": 13
        }
      ]
    },
    {
      "cell_type": "code",
      "source": [
        "media_peso = Cluster_0['Peso'].mean()\n",
        "media_colesterol = Cluster_0['Colesterol'].mean()\n",
        "max_peso = Cluster_0['Peso'].max()\n",
        "max_colesterol = Cluster_0['Colesterol'].max()\n",
        "print('Individuos no grupo 0 tem colesterol médio em {:.2f} e peso médio em {:.2f}.'.format(media_colesterol,media_peso))\n",
        "print(f'O maior colesterol é {max_colesterol} e o maior peso é {max_peso}  ')"
      ],
      "metadata": {
        "colab": {
          "base_uri": "https://localhost:8080/"
        },
        "id": "spyzq4DRVgHn",
        "outputId": "67aa8da0-e683-4ac4-da94-f69d8661b640"
      },
      "execution_count": 14,
      "outputs": [
        {
          "output_type": "stream",
          "name": "stdout",
          "text": [
            "Individuos no grupo 0 tem colesterol médio em 218.92 e peso médio em 184.32.\n",
            "O maior colesterol é 235 e o maior peso é 203  \n"
          ]
        }
      ]
    },
    {
      "cell_type": "code",
      "source": [
        "print('Informações Cluster 1')\n",
        "Cluster_1.describe()"
      ],
      "metadata": {
        "colab": {
          "base_uri": "https://localhost:8080/",
          "height": 318
        },
        "id": "rrhpMgEsQ9_t",
        "outputId": "9fedc954-4b94-4dfb-fdc2-524df25a5496"
      },
      "execution_count": 15,
      "outputs": [
        {
          "output_type": "stream",
          "name": "stdout",
          "text": [
            "Informações Cluster 1\n"
          ]
        },
        {
          "output_type": "execute_result",
          "data": {
            "text/html": [
              "<div>\n",
              "<style scoped>\n",
              "    .dataframe tbody tr th:only-of-type {\n",
              "        vertical-align: middle;\n",
              "    }\n",
              "\n",
              "    .dataframe tbody tr th {\n",
              "        vertical-align: top;\n",
              "    }\n",
              "\n",
              "    .dataframe thead th {\n",
              "        text-align: right;\n",
              "    }\n",
              "</style>\n",
              "<table border=\"1\" class=\"dataframe\">\n",
              "  <thead>\n",
              "    <tr style=\"text-align: right;\">\n",
              "      <th></th>\n",
              "      <th>Peso</th>\n",
              "      <th>Colesterol</th>\n",
              "      <th>Genero</th>\n",
              "      <th>cluster</th>\n",
              "    </tr>\n",
              "  </thead>\n",
              "  <tbody>\n",
              "    <tr>\n",
              "      <th>count</th>\n",
              "      <td>135.000000</td>\n",
              "      <td>135.000000</td>\n",
              "      <td>135.000000</td>\n",
              "      <td>135.0</td>\n",
              "    </tr>\n",
              "    <tr>\n",
              "      <th>mean</th>\n",
              "      <td>127.725926</td>\n",
              "      <td>154.385185</td>\n",
              "      <td>0.459259</td>\n",
              "      <td>1.0</td>\n",
              "    </tr>\n",
              "    <tr>\n",
              "      <th>std</th>\n",
              "      <td>7.010046</td>\n",
              "      <td>9.823050</td>\n",
              "      <td>0.500193</td>\n",
              "      <td>0.0</td>\n",
              "    </tr>\n",
              "    <tr>\n",
              "      <th>min</th>\n",
              "      <td>115.000000</td>\n",
              "      <td>138.000000</td>\n",
              "      <td>0.000000</td>\n",
              "      <td>1.0</td>\n",
              "    </tr>\n",
              "    <tr>\n",
              "      <th>25%</th>\n",
              "      <td>122.000000</td>\n",
              "      <td>145.500000</td>\n",
              "      <td>0.000000</td>\n",
              "      <td>1.0</td>\n",
              "    </tr>\n",
              "    <tr>\n",
              "      <th>50%</th>\n",
              "      <td>128.000000</td>\n",
              "      <td>155.000000</td>\n",
              "      <td>0.000000</td>\n",
              "      <td>1.0</td>\n",
              "    </tr>\n",
              "    <tr>\n",
              "      <th>75%</th>\n",
              "      <td>134.000000</td>\n",
              "      <td>163.000000</td>\n",
              "      <td>1.000000</td>\n",
              "      <td>1.0</td>\n",
              "    </tr>\n",
              "    <tr>\n",
              "      <th>max</th>\n",
              "      <td>142.000000</td>\n",
              "      <td>171.000000</td>\n",
              "      <td>1.000000</td>\n",
              "      <td>1.0</td>\n",
              "    </tr>\n",
              "  </tbody>\n",
              "</table>\n",
              "</div>"
            ],
            "text/plain": [
              "             Peso  Colesterol      Genero  cluster\n",
              "count  135.000000  135.000000  135.000000    135.0\n",
              "mean   127.725926  154.385185    0.459259      1.0\n",
              "std      7.010046    9.823050    0.500193      0.0\n",
              "min    115.000000  138.000000    0.000000      1.0\n",
              "25%    122.000000  145.500000    0.000000      1.0\n",
              "50%    128.000000  155.000000    0.000000      1.0\n",
              "75%    134.000000  163.000000    1.000000      1.0\n",
              "max    142.000000  171.000000    1.000000      1.0"
            ]
          },
          "metadata": {},
          "execution_count": 15
        }
      ]
    },
    {
      "cell_type": "code",
      "source": [
        "media_peso = Cluster_1['Peso'].mean()\n",
        "media_colesterol = Cluster_1['Colesterol'].mean()\n",
        "max_peso = Cluster_1['Peso'].max()\n",
        "max_colesterol = Cluster_1['Colesterol'].max()\n",
        "print('Individuos no grupo 1 tem colesterol médio em {:.2f} e peso médio em {:.2f}.'.format(media_colesterol,media_peso))\n",
        "print(f'O maior colesterol é {max_colesterol} e o maior peso é {max_peso}  ')"
      ],
      "metadata": {
        "colab": {
          "base_uri": "https://localhost:8080/"
        },
        "id": "Oc7KEkELW-yR",
        "outputId": "e7d388f5-a072-4927-cde7-acd630be17d3"
      },
      "execution_count": 16,
      "outputs": [
        {
          "output_type": "stream",
          "name": "stdout",
          "text": [
            "Individuos no grupo 1 tem colesterol médio em 154.39 e peso médio em 127.73.\n",
            "O maior colesterol é 171 e o maior peso é 142  \n"
          ]
        }
      ]
    },
    {
      "cell_type": "code",
      "source": [
        "print('Informações Cluster 2')\n",
        "Cluster_2.describe()"
      ],
      "metadata": {
        "colab": {
          "base_uri": "https://localhost:8080/",
          "height": 318
        },
        "id": "kNE7pASRRAMq",
        "outputId": "1837c6b1-b17a-41ac-986d-11f8eb72a819"
      },
      "execution_count": 17,
      "outputs": [
        {
          "output_type": "stream",
          "name": "stdout",
          "text": [
            "Informações Cluster 2\n"
          ]
        },
        {
          "output_type": "execute_result",
          "data": {
            "text/html": [
              "<div>\n",
              "<style scoped>\n",
              "    .dataframe tbody tr th:only-of-type {\n",
              "        vertical-align: middle;\n",
              "    }\n",
              "\n",
              "    .dataframe tbody tr th {\n",
              "        vertical-align: top;\n",
              "    }\n",
              "\n",
              "    .dataframe thead th {\n",
              "        text-align: right;\n",
              "    }\n",
              "</style>\n",
              "<table border=\"1\" class=\"dataframe\">\n",
              "  <thead>\n",
              "    <tr style=\"text-align: right;\">\n",
              "      <th></th>\n",
              "      <th>Peso</th>\n",
              "      <th>Colesterol</th>\n",
              "      <th>Genero</th>\n",
              "      <th>cluster</th>\n",
              "    </tr>\n",
              "  </thead>\n",
              "  <tbody>\n",
              "    <tr>\n",
              "      <th>count</th>\n",
              "      <td>118.000000</td>\n",
              "      <td>118.000000</td>\n",
              "      <td>118.000000</td>\n",
              "      <td>118.0</td>\n",
              "    </tr>\n",
              "    <tr>\n",
              "      <th>mean</th>\n",
              "      <td>152.093220</td>\n",
              "      <td>185.906780</td>\n",
              "      <td>0.440678</td>\n",
              "      <td>2.0</td>\n",
              "    </tr>\n",
              "    <tr>\n",
              "      <th>std</th>\n",
              "      <td>6.967553</td>\n",
              "      <td>9.949434</td>\n",
              "      <td>0.498586</td>\n",
              "      <td>0.0</td>\n",
              "    </tr>\n",
              "    <tr>\n",
              "      <th>min</th>\n",
              "      <td>140.000000</td>\n",
              "      <td>168.000000</td>\n",
              "      <td>0.000000</td>\n",
              "      <td>2.0</td>\n",
              "    </tr>\n",
              "    <tr>\n",
              "      <th>25%</th>\n",
              "      <td>147.000000</td>\n",
              "      <td>177.000000</td>\n",
              "      <td>0.000000</td>\n",
              "      <td>2.0</td>\n",
              "    </tr>\n",
              "    <tr>\n",
              "      <th>50%</th>\n",
              "      <td>152.000000</td>\n",
              "      <td>187.500000</td>\n",
              "      <td>0.000000</td>\n",
              "      <td>2.0</td>\n",
              "    </tr>\n",
              "    <tr>\n",
              "      <th>75%</th>\n",
              "      <td>157.000000</td>\n",
              "      <td>194.000000</td>\n",
              "      <td>1.000000</td>\n",
              "      <td>2.0</td>\n",
              "    </tr>\n",
              "    <tr>\n",
              "      <th>max</th>\n",
              "      <td>169.000000</td>\n",
              "      <td>204.000000</td>\n",
              "      <td>1.000000</td>\n",
              "      <td>2.0</td>\n",
              "    </tr>\n",
              "  </tbody>\n",
              "</table>\n",
              "</div>"
            ],
            "text/plain": [
              "             Peso  Colesterol      Genero  cluster\n",
              "count  118.000000  118.000000  118.000000    118.0\n",
              "mean   152.093220  185.906780    0.440678      2.0\n",
              "std      6.967553    9.949434    0.498586      0.0\n",
              "min    140.000000  168.000000    0.000000      2.0\n",
              "25%    147.000000  177.000000    0.000000      2.0\n",
              "50%    152.000000  187.500000    0.000000      2.0\n",
              "75%    157.000000  194.000000    1.000000      2.0\n",
              "max    169.000000  204.000000    1.000000      2.0"
            ]
          },
          "metadata": {},
          "execution_count": 17
        }
      ]
    },
    {
      "cell_type": "code",
      "source": [
        "media_peso = Cluster_2['Peso'].mean()\n",
        "media_colesterol = Cluster_2['Colesterol'].mean()\n",
        "max_peso = Cluster_2['Peso'].max()\n",
        "max_colesterol = Cluster_2['Colesterol'].max()\n",
        "print('Individuos no grupo 2 tem colesterol médio em {:.2f} e peso médio em {:.2f}.'.format(media_colesterol,media_peso))\n",
        "print(f'O maior colesterol é {max_colesterol} e o maior peso é {max_peso}  ')"
      ],
      "metadata": {
        "colab": {
          "base_uri": "https://localhost:8080/"
        },
        "id": "7nOGxnHKXAiC",
        "outputId": "0c4e604e-9ba1-4b02-caa7-429f7cf00f4e"
      },
      "execution_count": 18,
      "outputs": [
        {
          "output_type": "stream",
          "name": "stdout",
          "text": [
            "Individuos no grupo 2 tem colesterol médio em 185.91 e peso médio em 152.09.\n",
            "O maior colesterol é 204 e o maior peso é 169  \n"
          ]
        }
      ]
    },
    {
      "cell_type": "code",
      "source": [
        "print('Informações Cluster 3')\n",
        "Cluster_3.describe()"
      ],
      "metadata": {
        "colab": {
          "base_uri": "https://localhost:8080/",
          "height": 318
        },
        "id": "4t-pvvpsRCFG",
        "outputId": "8526545f-128c-4837-be04-d88a81d30cfe"
      },
      "execution_count": 19,
      "outputs": [
        {
          "output_type": "stream",
          "name": "stdout",
          "text": [
            "Informações Cluster 3\n"
          ]
        },
        {
          "output_type": "execute_result",
          "data": {
            "text/html": [
              "<div>\n",
              "<style scoped>\n",
              "    .dataframe tbody tr th:only-of-type {\n",
              "        vertical-align: middle;\n",
              "    }\n",
              "\n",
              "    .dataframe tbody tr th {\n",
              "        vertical-align: top;\n",
              "    }\n",
              "\n",
              "    .dataframe thead th {\n",
              "        text-align: right;\n",
              "    }\n",
              "</style>\n",
              "<table border=\"1\" class=\"dataframe\">\n",
              "  <thead>\n",
              "    <tr style=\"text-align: right;\">\n",
              "      <th></th>\n",
              "      <th>Peso</th>\n",
              "      <th>Colesterol</th>\n",
              "      <th>Genero</th>\n",
              "      <th>cluster</th>\n",
              "    </tr>\n",
              "  </thead>\n",
              "  <tbody>\n",
              "    <tr>\n",
              "      <th>count</th>\n",
              "      <td>140.000000</td>\n",
              "      <td>140.000000</td>\n",
              "      <td>140.000000</td>\n",
              "      <td>140.0</td>\n",
              "    </tr>\n",
              "    <tr>\n",
              "      <th>mean</th>\n",
              "      <td>106.850000</td>\n",
              "      <td>119.535714</td>\n",
              "      <td>0.542857</td>\n",
              "      <td>3.0</td>\n",
              "    </tr>\n",
              "    <tr>\n",
              "      <th>std</th>\n",
              "      <td>6.168993</td>\n",
              "      <td>10.138899</td>\n",
              "      <td>0.499949</td>\n",
              "      <td>0.0</td>\n",
              "    </tr>\n",
              "    <tr>\n",
              "      <th>min</th>\n",
              "      <td>95.000000</td>\n",
              "      <td>102.000000</td>\n",
              "      <td>0.000000</td>\n",
              "      <td>3.0</td>\n",
              "    </tr>\n",
              "    <tr>\n",
              "      <th>25%</th>\n",
              "      <td>101.750000</td>\n",
              "      <td>110.000000</td>\n",
              "      <td>0.000000</td>\n",
              "      <td>3.0</td>\n",
              "    </tr>\n",
              "    <tr>\n",
              "      <th>50%</th>\n",
              "      <td>107.000000</td>\n",
              "      <td>120.000000</td>\n",
              "      <td>1.000000</td>\n",
              "      <td>3.0</td>\n",
              "    </tr>\n",
              "    <tr>\n",
              "      <th>75%</th>\n",
              "      <td>112.000000</td>\n",
              "      <td>128.250000</td>\n",
              "      <td>1.000000</td>\n",
              "      <td>3.0</td>\n",
              "    </tr>\n",
              "    <tr>\n",
              "      <th>max</th>\n",
              "      <td>118.000000</td>\n",
              "      <td>138.000000</td>\n",
              "      <td>1.000000</td>\n",
              "      <td>3.0</td>\n",
              "    </tr>\n",
              "  </tbody>\n",
              "</table>\n",
              "</div>"
            ],
            "text/plain": [
              "             Peso  Colesterol      Genero  cluster\n",
              "count  140.000000  140.000000  140.000000    140.0\n",
              "mean   106.850000  119.535714    0.542857      3.0\n",
              "std      6.168993   10.138899    0.499949      0.0\n",
              "min     95.000000  102.000000    0.000000      3.0\n",
              "25%    101.750000  110.000000    0.000000      3.0\n",
              "50%    107.000000  120.000000    1.000000      3.0\n",
              "75%    112.000000  128.250000    1.000000      3.0\n",
              "max    118.000000  138.000000    1.000000      3.0"
            ]
          },
          "metadata": {},
          "execution_count": 19
        }
      ]
    },
    {
      "cell_type": "code",
      "source": [
        "media_peso = Cluster_3['Peso'].mean()\n",
        "media_colesterol = Cluster_3['Colesterol'].mean()\n",
        "max_peso = Cluster_3['Peso'].max()\n",
        "max_colesterol = Cluster_3['Colesterol'].max()\n",
        "print('Individuos no grupo 3 tem colesterol médio em {:.2f} e peso médio em {:.2f}.'.format(media_colesterol,media_peso))\n",
        "print(f'O maior colesterol é {max_colesterol} e o maior peso é {max_peso}  ')"
      ],
      "metadata": {
        "colab": {
          "base_uri": "https://localhost:8080/"
        },
        "id": "sB-nIMhQXFLO",
        "outputId": "6faa3723-d0a7-4c38-f149-1e3c001411bb"
      },
      "execution_count": 20,
      "outputs": [
        {
          "output_type": "stream",
          "name": "stdout",
          "text": [
            "Individuos no grupo 3 tem colesterol médio em 119.54 e peso médio em 106.85.\n",
            "O maior colesterol é 138 e o maior peso é 118  \n"
          ]
        }
      ]
    }
  ]
}
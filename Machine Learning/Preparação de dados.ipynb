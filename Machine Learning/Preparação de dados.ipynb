{
  "nbformat": 4,
  "nbformat_minor": 0,
  "metadata": {
    "colab": {
      "name": "ML - Aula II - Exercício Prático I",
      "provenance": []
    },
    "kernelspec": {
      "name": "python3",
      "display_name": "Python 3"
    },
    "language_info": {
      "name": "python"
    }
  },
  "cells": [
    {
      "cell_type": "markdown",
      "metadata": {
        "id": "igl6l9v8MfsO"
      },
      "source": [
        "#Curso: Pós graduação em Ciência de dados e Big Data - 2021\n",
        "#Matéria: Machine Learning\n",
        "#Aluno: Pedro Martins"
      ]
    },
    {
      "cell_type": "code",
      "metadata": {
        "id": "jGcVA9WX6rYI"
      },
      "source": [
        "import numpy as np\n",
        "import pandas as pd\n",
        "import matplotlib.pyplot as plt\n"
      ],
      "execution_count": null,
      "outputs": []
    },
    {
      "cell_type": "code",
      "metadata": {
        "colab": {
          "base_uri": "https://localhost:8080/",
          "height": 221
        },
        "id": "JOzdTOf56MCF",
        "outputId": "60c65a04-4c18-4074-c43e-b86468031520"
      },
      "source": [
        "download_url = 'https://drive.google.com/uc?export=download&id='\n",
        "url_drive_file = 'https://docs.google.com/spreadsheets/d/1V02vVWFAmxMAA7Wq_ghVLc7Qix1SC9i6/edit#gid=1729128232'\n",
        "\n",
        "download_path = download_url + url_drive_file.split('/')[-2]\n",
        "\n",
        "automoveis = pd.read_excel(download_path, \n",
        "                           \n",
        "                sheet_name = 'Plan1',\n",
        "                 header=0)\n",
        "\n",
        "automoveis.head()"
      ],
      "execution_count": null,
      "outputs": [
        {
          "output_type": "execute_result",
          "data": {
            "text/html": [
              "<div>\n",
              "<style scoped>\n",
              "    .dataframe tbody tr th:only-of-type {\n",
              "        vertical-align: middle;\n",
              "    }\n",
              "\n",
              "    .dataframe tbody tr th {\n",
              "        vertical-align: top;\n",
              "    }\n",
              "\n",
              "    .dataframe thead th {\n",
              "        text-align: right;\n",
              "    }\n",
              "</style>\n",
              "<table border=\"1\" class=\"dataframe\">\n",
              "  <thead>\n",
              "    <tr style=\"text-align: right;\">\n",
              "      <th></th>\n",
              "      <th>Fabricante</th>\n",
              "      <th>Combustível</th>\n",
              "      <th>Portas</th>\n",
              "      <th>Estilo Chassis</th>\n",
              "      <th>Tração</th>\n",
              "      <th>Comprimento</th>\n",
              "      <th>Largura</th>\n",
              "      <th>Altura</th>\n",
              "      <th>Tipo de motor</th>\n",
              "      <th>Número de cilindros</th>\n",
              "      <th>Tamanho do motor</th>\n",
              "      <th>Tipo de injeção</th>\n",
              "      <th>Potência (HP)</th>\n",
              "      <th>Pico RPM</th>\n",
              "      <th>Preço</th>\n",
              "    </tr>\n",
              "  </thead>\n",
              "  <tbody>\n",
              "    <tr>\n",
              "      <th>0</th>\n",
              "      <td>alfa-romeo</td>\n",
              "      <td>gas</td>\n",
              "      <td>2.0</td>\n",
              "      <td>conversível</td>\n",
              "      <td>traseira</td>\n",
              "      <td>168,80</td>\n",
              "      <td>64,10</td>\n",
              "      <td>48,80</td>\n",
              "      <td>dohc</td>\n",
              "      <td>4</td>\n",
              "      <td>130,00</td>\n",
              "      <td>mpfi</td>\n",
              "      <td>111,00</td>\n",
              "      <td>5000,00</td>\n",
              "      <td>13495,00</td>\n",
              "    </tr>\n",
              "    <tr>\n",
              "      <th>1</th>\n",
              "      <td>alfa-romeo</td>\n",
              "      <td>gas</td>\n",
              "      <td>2.0</td>\n",
              "      <td>conversível</td>\n",
              "      <td>traseira</td>\n",
              "      <td>168,80</td>\n",
              "      <td>64,10</td>\n",
              "      <td>48,80</td>\n",
              "      <td>dohc</td>\n",
              "      <td>4</td>\n",
              "      <td>130,00</td>\n",
              "      <td>mpfi</td>\n",
              "      <td>111,00</td>\n",
              "      <td>5000,00</td>\n",
              "      <td>16500,00</td>\n",
              "    </tr>\n",
              "    <tr>\n",
              "      <th>2</th>\n",
              "      <td>alfa-romeo</td>\n",
              "      <td>gas</td>\n",
              "      <td>2.0</td>\n",
              "      <td>hatch</td>\n",
              "      <td>traseira</td>\n",
              "      <td>171,20</td>\n",
              "      <td>65,50</td>\n",
              "      <td>52,40</td>\n",
              "      <td>ohcv</td>\n",
              "      <td>6</td>\n",
              "      <td>152,00</td>\n",
              "      <td>mpfi</td>\n",
              "      <td>154,00</td>\n",
              "      <td>5000,00</td>\n",
              "      <td>16500,00</td>\n",
              "    </tr>\n",
              "    <tr>\n",
              "      <th>3</th>\n",
              "      <td>audi</td>\n",
              "      <td>gas</td>\n",
              "      <td>4.0</td>\n",
              "      <td>sedan</td>\n",
              "      <td>dianteira</td>\n",
              "      <td>176,60</td>\n",
              "      <td>66,20</td>\n",
              "      <td>54,30</td>\n",
              "      <td>ohc</td>\n",
              "      <td>4</td>\n",
              "      <td>109,00</td>\n",
              "      <td>mpfi</td>\n",
              "      <td>102,00</td>\n",
              "      <td>5500,00</td>\n",
              "      <td>13950,00</td>\n",
              "    </tr>\n",
              "    <tr>\n",
              "      <th>4</th>\n",
              "      <td>audi</td>\n",
              "      <td>gas</td>\n",
              "      <td>4.0</td>\n",
              "      <td>sedan</td>\n",
              "      <td>4x4</td>\n",
              "      <td>176,60</td>\n",
              "      <td>66,40</td>\n",
              "      <td>54,30</td>\n",
              "      <td>ohc</td>\n",
              "      <td>5</td>\n",
              "      <td>136,00</td>\n",
              "      <td>mpfi</td>\n",
              "      <td>115,00</td>\n",
              "      <td>5500,00</td>\n",
              "      <td>17450,00</td>\n",
              "    </tr>\n",
              "  </tbody>\n",
              "</table>\n",
              "</div>"
            ],
            "text/plain": [
              "   Fabricante Combustível  Portas  ... Potência (HP) Pico RPM     Preço\n",
              "0  alfa-romeo         gas     2.0  ...        111,00  5000,00  13495,00\n",
              "1  alfa-romeo         gas     2.0  ...        111,00  5000,00  16500,00\n",
              "2  alfa-romeo         gas     2.0  ...        154,00  5000,00  16500,00\n",
              "3        audi         gas     4.0  ...        102,00  5500,00  13950,00\n",
              "4        audi         gas     4.0  ...        115,00  5500,00  17450,00\n",
              "\n",
              "[5 rows x 15 columns]"
            ]
          },
          "metadata": {},
          "execution_count": 210
        }
      ]
    },
    {
      "cell_type": "code",
      "metadata": {
        "colab": {
          "base_uri": "https://localhost:8080/"
        },
        "id": "3SVnomzy7QBY",
        "outputId": "27047958-1086-4e08-c908-3eb7e0a2fdf3"
      },
      "source": [
        "automoveis.info()"
      ],
      "execution_count": null,
      "outputs": [
        {
          "output_type": "stream",
          "name": "stdout",
          "text": [
            "<class 'pandas.core.frame.DataFrame'>\n",
            "RangeIndex: 205 entries, 0 to 204\n",
            "Data columns (total 15 columns):\n",
            " #   Column               Non-Null Count  Dtype  \n",
            "---  ------               --------------  -----  \n",
            " 0   Fabricante           203 non-null    object \n",
            " 1   Combustível          200 non-null    object \n",
            " 2   Portas               203 non-null    float64\n",
            " 3   Estilo Chassis       205 non-null    object \n",
            " 4   Tração               205 non-null    object \n",
            " 5   Comprimento          205 non-null    object \n",
            " 6   Largura              205 non-null    object \n",
            " 7   Altura               205 non-null    object \n",
            " 8   Tipo de motor        205 non-null    object \n",
            " 9   Número de cilindros  205 non-null    object \n",
            " 10  Tamanho do motor     205 non-null    object \n",
            " 11  Tipo de injeção      205 non-null    object \n",
            " 12  Potência (HP)        205 non-null    object \n",
            " 13  Pico RPM             205 non-null    object \n",
            " 14  Preço                205 non-null    object \n",
            "dtypes: float64(1), object(14)\n",
            "memory usage: 24.1+ KB\n"
          ]
        }
      ]
    },
    {
      "cell_type": "code",
      "metadata": {
        "colab": {
          "base_uri": "https://localhost:8080/"
        },
        "id": "RF7Bx9yF7lma",
        "outputId": "c5e09acf-91a9-4011-8513-8e8474997464"
      },
      "source": [
        "automoveis.shape"
      ],
      "execution_count": null,
      "outputs": [
        {
          "output_type": "execute_result",
          "data": {
            "text/plain": [
              "(205, 15)"
            ]
          },
          "metadata": {},
          "execution_count": 212
        }
      ]
    },
    {
      "cell_type": "code",
      "metadata": {
        "colab": {
          "base_uri": "https://localhost:8080/"
        },
        "id": "KHaqNQXP7o8Y",
        "outputId": "d4887c7f-be79-4d1f-8c8f-9b47824579ec"
      },
      "source": [
        "automoveis.columns"
      ],
      "execution_count": null,
      "outputs": [
        {
          "output_type": "execute_result",
          "data": {
            "text/plain": [
              "Index(['Fabricante', 'Combustível', 'Portas', 'Estilo Chassis', 'Tração',\n",
              "       'Comprimento', 'Largura', 'Altura', 'Tipo de motor',\n",
              "       'Número de cilindros', 'Tamanho do motor', 'Tipo de injeção',\n",
              "       'Potência (HP)', 'Pico RPM', 'Preço'],\n",
              "      dtype='object')"
            ]
          },
          "metadata": {},
          "execution_count": 213
        }
      ]
    },
    {
      "cell_type": "code",
      "metadata": {
        "colab": {
          "base_uri": "https://localhost:8080/"
        },
        "id": "BazzzPYr_D7l",
        "outputId": "cb677573-671e-43b0-afbb-11e06b6de4dc"
      },
      "source": [
        "automoveis.info()"
      ],
      "execution_count": null,
      "outputs": [
        {
          "output_type": "stream",
          "name": "stdout",
          "text": [
            "<class 'pandas.core.frame.DataFrame'>\n",
            "RangeIndex: 205 entries, 0 to 204\n",
            "Data columns (total 15 columns):\n",
            " #   Column               Non-Null Count  Dtype  \n",
            "---  ------               --------------  -----  \n",
            " 0   Fabricante           203 non-null    object \n",
            " 1   Combustível          200 non-null    object \n",
            " 2   Portas               203 non-null    float64\n",
            " 3   Estilo Chassis       205 non-null    object \n",
            " 4   Tração               205 non-null    object \n",
            " 5   Comprimento          205 non-null    object \n",
            " 6   Largura              205 non-null    object \n",
            " 7   Altura               205 non-null    object \n",
            " 8   Tipo de motor        205 non-null    object \n",
            " 9   Número de cilindros  205 non-null    object \n",
            " 10  Tamanho do motor     205 non-null    object \n",
            " 11  Tipo de injeção      205 non-null    object \n",
            " 12  Potência (HP)        205 non-null    object \n",
            " 13  Pico RPM             205 non-null    object \n",
            " 14  Preço                205 non-null    object \n",
            "dtypes: float64(1), object(14)\n",
            "memory usage: 24.1+ KB\n"
          ]
        }
      ]
    },
    {
      "cell_type": "code",
      "metadata": {
        "colab": {
          "base_uri": "https://localhost:8080/",
          "height": 297
        },
        "id": "__SJXONU7qoJ",
        "outputId": "1e2ce83a-f6c2-4cb2-9c30-6edc1a27201a"
      },
      "source": [
        "#dados numericos\n",
        "automoveis.describe()"
      ],
      "execution_count": null,
      "outputs": [
        {
          "output_type": "execute_result",
          "data": {
            "text/html": [
              "<div>\n",
              "<style scoped>\n",
              "    .dataframe tbody tr th:only-of-type {\n",
              "        vertical-align: middle;\n",
              "    }\n",
              "\n",
              "    .dataframe tbody tr th {\n",
              "        vertical-align: top;\n",
              "    }\n",
              "\n",
              "    .dataframe thead th {\n",
              "        text-align: right;\n",
              "    }\n",
              "</style>\n",
              "<table border=\"1\" class=\"dataframe\">\n",
              "  <thead>\n",
              "    <tr style=\"text-align: right;\">\n",
              "      <th></th>\n",
              "      <th>Portas</th>\n",
              "    </tr>\n",
              "  </thead>\n",
              "  <tbody>\n",
              "    <tr>\n",
              "      <th>count</th>\n",
              "      <td>203.000000</td>\n",
              "    </tr>\n",
              "    <tr>\n",
              "      <th>mean</th>\n",
              "      <td>3.123153</td>\n",
              "    </tr>\n",
              "    <tr>\n",
              "      <th>std</th>\n",
              "      <td>0.994841</td>\n",
              "    </tr>\n",
              "    <tr>\n",
              "      <th>min</th>\n",
              "      <td>2.000000</td>\n",
              "    </tr>\n",
              "    <tr>\n",
              "      <th>25%</th>\n",
              "      <td>2.000000</td>\n",
              "    </tr>\n",
              "    <tr>\n",
              "      <th>50%</th>\n",
              "      <td>4.000000</td>\n",
              "    </tr>\n",
              "    <tr>\n",
              "      <th>75%</th>\n",
              "      <td>4.000000</td>\n",
              "    </tr>\n",
              "    <tr>\n",
              "      <th>max</th>\n",
              "      <td>4.000000</td>\n",
              "    </tr>\n",
              "  </tbody>\n",
              "</table>\n",
              "</div>"
            ],
            "text/plain": [
              "           Portas\n",
              "count  203.000000\n",
              "mean     3.123153\n",
              "std      0.994841\n",
              "min      2.000000\n",
              "25%      2.000000\n",
              "50%      4.000000\n",
              "75%      4.000000\n",
              "max      4.000000"
            ]
          },
          "metadata": {},
          "execution_count": 215
        }
      ]
    },
    {
      "cell_type": "code",
      "metadata": {
        "colab": {
          "base_uri": "https://localhost:8080/",
          "height": 173
        },
        "id": "sppdfqaa7uCX",
        "outputId": "45909a9f-88e3-49b6-9229-2fe78d124b1a"
      },
      "source": [
        "#dados categoricos\n",
        "automoveis.select_dtypes(include='object').describe()"
      ],
      "execution_count": null,
      "outputs": [
        {
          "output_type": "execute_result",
          "data": {
            "text/html": [
              "<div>\n",
              "<style scoped>\n",
              "    .dataframe tbody tr th:only-of-type {\n",
              "        vertical-align: middle;\n",
              "    }\n",
              "\n",
              "    .dataframe tbody tr th {\n",
              "        vertical-align: top;\n",
              "    }\n",
              "\n",
              "    .dataframe thead th {\n",
              "        text-align: right;\n",
              "    }\n",
              "</style>\n",
              "<table border=\"1\" class=\"dataframe\">\n",
              "  <thead>\n",
              "    <tr style=\"text-align: right;\">\n",
              "      <th></th>\n",
              "      <th>Fabricante</th>\n",
              "      <th>Combustível</th>\n",
              "      <th>Estilo Chassis</th>\n",
              "      <th>Tração</th>\n",
              "      <th>Comprimento</th>\n",
              "      <th>Largura</th>\n",
              "      <th>Altura</th>\n",
              "      <th>Tipo de motor</th>\n",
              "      <th>Número de cilindros</th>\n",
              "      <th>Tamanho do motor</th>\n",
              "      <th>Tipo de injeção</th>\n",
              "      <th>Potência (HP)</th>\n",
              "      <th>Pico RPM</th>\n",
              "      <th>Preço</th>\n",
              "    </tr>\n",
              "  </thead>\n",
              "  <tbody>\n",
              "    <tr>\n",
              "      <th>count</th>\n",
              "      <td>203</td>\n",
              "      <td>200</td>\n",
              "      <td>205</td>\n",
              "      <td>205</td>\n",
              "      <td>205</td>\n",
              "      <td>205</td>\n",
              "      <td>205</td>\n",
              "      <td>205</td>\n",
              "      <td>205</td>\n",
              "      <td>205</td>\n",
              "      <td>205</td>\n",
              "      <td>205</td>\n",
              "      <td>205</td>\n",
              "      <td>205</td>\n",
              "    </tr>\n",
              "    <tr>\n",
              "      <th>unique</th>\n",
              "      <td>22</td>\n",
              "      <td>2</td>\n",
              "      <td>5</td>\n",
              "      <td>3</td>\n",
              "      <td>75</td>\n",
              "      <td>44</td>\n",
              "      <td>49</td>\n",
              "      <td>7</td>\n",
              "      <td>7</td>\n",
              "      <td>44</td>\n",
              "      <td>8</td>\n",
              "      <td>60</td>\n",
              "      <td>25</td>\n",
              "      <td>187</td>\n",
              "    </tr>\n",
              "    <tr>\n",
              "      <th>top</th>\n",
              "      <td>toyota</td>\n",
              "      <td>gas</td>\n",
              "      <td>sedan</td>\n",
              "      <td>dianteira</td>\n",
              "      <td>157,30</td>\n",
              "      <td>63,80</td>\n",
              "      <td>50,80</td>\n",
              "      <td>ohc</td>\n",
              "      <td>4</td>\n",
              "      <td>92,00</td>\n",
              "      <td>mpfi</td>\n",
              "      <td>68,00</td>\n",
              "      <td>5500,00</td>\n",
              "      <td>13207,13</td>\n",
              "    </tr>\n",
              "    <tr>\n",
              "      <th>freq</th>\n",
              "      <td>32</td>\n",
              "      <td>180</td>\n",
              "      <td>96</td>\n",
              "      <td>120</td>\n",
              "      <td>15</td>\n",
              "      <td>24</td>\n",
              "      <td>14</td>\n",
              "      <td>148</td>\n",
              "      <td>159</td>\n",
              "      <td>15</td>\n",
              "      <td>94</td>\n",
              "      <td>19</td>\n",
              "      <td>37</td>\n",
              "      <td>4</td>\n",
              "    </tr>\n",
              "  </tbody>\n",
              "</table>\n",
              "</div>"
            ],
            "text/plain": [
              "       Fabricante Combustível Estilo Chassis  ... Potência (HP) Pico RPM     Preço\n",
              "count         203         200            205  ...           205      205       205\n",
              "unique         22           2              5  ...            60       25       187\n",
              "top        toyota         gas          sedan  ...         68,00  5500,00  13207,13\n",
              "freq           32         180             96  ...            19       37         4\n",
              "\n",
              "[4 rows x 14 columns]"
            ]
          },
          "metadata": {},
          "execution_count": 216
        }
      ]
    },
    {
      "cell_type": "markdown",
      "metadata": {
        "id": "KAnbX8yaEpE4"
      },
      "source": [
        "#Remoção de linhas"
      ]
    },
    {
      "cell_type": "markdown",
      "metadata": {
        "id": "kqc2Ba7lHNc2"
      },
      "source": [
        "###Remoção de linhas onde portas é nulo\n",
        "Nesse passo removi duas linhas que tinham valor de porta nulo. Decidi fazer isso pois não consegui pensar em um valor para preencher o campo e porque são apenas duas linhas.\n"
      ]
    },
    {
      "cell_type": "code",
      "metadata": {
        "colab": {
          "base_uri": "https://localhost:8080/",
          "height": 128
        },
        "id": "UHxUTFi_I-wM",
        "outputId": "e9805b9e-6fe6-431d-cfdf-9e36d8044ddb"
      },
      "source": [
        "automoveis[automoveis['Portas'].isnull()]"
      ],
      "execution_count": null,
      "outputs": [
        {
          "output_type": "execute_result",
          "data": {
            "text/html": [
              "<div>\n",
              "<style scoped>\n",
              "    .dataframe tbody tr th:only-of-type {\n",
              "        vertical-align: middle;\n",
              "    }\n",
              "\n",
              "    .dataframe tbody tr th {\n",
              "        vertical-align: top;\n",
              "    }\n",
              "\n",
              "    .dataframe thead th {\n",
              "        text-align: right;\n",
              "    }\n",
              "</style>\n",
              "<table border=\"1\" class=\"dataframe\">\n",
              "  <thead>\n",
              "    <tr style=\"text-align: right;\">\n",
              "      <th></th>\n",
              "      <th>Fabricante</th>\n",
              "      <th>Combustível</th>\n",
              "      <th>Portas</th>\n",
              "      <th>Estilo Chassis</th>\n",
              "      <th>Tração</th>\n",
              "      <th>Comprimento</th>\n",
              "      <th>Largura</th>\n",
              "      <th>Altura</th>\n",
              "      <th>Tipo de motor</th>\n",
              "      <th>Número de cilindros</th>\n",
              "      <th>Tamanho do motor</th>\n",
              "      <th>Tipo de injeção</th>\n",
              "      <th>Potência (HP)</th>\n",
              "      <th>Pico RPM</th>\n",
              "      <th>Preço</th>\n",
              "    </tr>\n",
              "  </thead>\n",
              "  <tbody>\n",
              "    <tr>\n",
              "      <th>26</th>\n",
              "      <td>dodge</td>\n",
              "      <td>gas</td>\n",
              "      <td>NaN</td>\n",
              "      <td>sedan</td>\n",
              "      <td>dianteira</td>\n",
              "      <td>157,30</td>\n",
              "      <td>63,80</td>\n",
              "      <td>50,60</td>\n",
              "      <td>ohc</td>\n",
              "      <td>4</td>\n",
              "      <td>98,00</td>\n",
              "      <td>mpfi</td>\n",
              "      <td>102,00</td>\n",
              "      <td>5500,00</td>\n",
              "      <td>8558,00</td>\n",
              "    </tr>\n",
              "    <tr>\n",
              "      <th>61</th>\n",
              "      <td>mazda</td>\n",
              "      <td>diesel</td>\n",
              "      <td>NaN</td>\n",
              "      <td>sedan</td>\n",
              "      <td>dianteira</td>\n",
              "      <td>177,80</td>\n",
              "      <td>66,50</td>\n",
              "      <td>55,50</td>\n",
              "      <td>ohc</td>\n",
              "      <td>4</td>\n",
              "      <td>122,00</td>\n",
              "      <td>idi</td>\n",
              "      <td>64,00</td>\n",
              "      <td>4650,00</td>\n",
              "      <td>10795,00</td>\n",
              "    </tr>\n",
              "  </tbody>\n",
              "</table>\n",
              "</div>"
            ],
            "text/plain": [
              "   Fabricante Combustível  Portas  ... Potência (HP) Pico RPM     Preço\n",
              "26      dodge         gas     NaN  ...        102,00  5500,00   8558,00\n",
              "61      mazda      diesel     NaN  ...         64,00  4650,00  10795,00\n",
              "\n",
              "[2 rows x 15 columns]"
            ]
          },
          "metadata": {},
          "execution_count": 217
        }
      ]
    },
    {
      "cell_type": "code",
      "metadata": {
        "colab": {
          "base_uri": "https://localhost:8080/"
        },
        "id": "-nYMQQY_Hp5h",
        "outputId": "2a0a0b0e-a591-4456-c2d0-c01366877e0c"
      },
      "source": [
        "automoveis['Portas'].unique()"
      ],
      "execution_count": null,
      "outputs": [
        {
          "output_type": "execute_result",
          "data": {
            "text/plain": [
              "array([ 2.,  4., nan])"
            ]
          },
          "metadata": {},
          "execution_count": 218
        }
      ]
    },
    {
      "cell_type": "code",
      "metadata": {
        "id": "RDoTWbYeEtiR"
      },
      "source": [
        "automoveis = automoveis[automoveis['Portas'].notna()] "
      ],
      "execution_count": null,
      "outputs": []
    },
    {
      "cell_type": "markdown",
      "metadata": {
        "id": "dgEJZUJxHvfe"
      },
      "source": [
        "###Remoção de linhas onde combustível é nulo\n",
        "Nesse passo removi duas linhas que tinham valor de porta nulo. Decidi fazer isso pois não consegui pensar em um valor para preencher o campo e porque são apenas 5 linhas.\n"
      ]
    },
    {
      "cell_type": "code",
      "metadata": {
        "colab": {
          "base_uri": "https://localhost:8080/",
          "height": 221
        },
        "id": "3O-yD4YvIrU7",
        "outputId": "dbd0d06d-67b3-45ff-c1ee-ed2a8a4f871c"
      },
      "source": [
        "automoveis[automoveis['Combustível'].isnull()]"
      ],
      "execution_count": null,
      "outputs": [
        {
          "output_type": "execute_result",
          "data": {
            "text/html": [
              "<div>\n",
              "<style scoped>\n",
              "    .dataframe tbody tr th:only-of-type {\n",
              "        vertical-align: middle;\n",
              "    }\n",
              "\n",
              "    .dataframe tbody tr th {\n",
              "        vertical-align: top;\n",
              "    }\n",
              "\n",
              "    .dataframe thead th {\n",
              "        text-align: right;\n",
              "    }\n",
              "</style>\n",
              "<table border=\"1\" class=\"dataframe\">\n",
              "  <thead>\n",
              "    <tr style=\"text-align: right;\">\n",
              "      <th></th>\n",
              "      <th>Fabricante</th>\n",
              "      <th>Combustível</th>\n",
              "      <th>Portas</th>\n",
              "      <th>Estilo Chassis</th>\n",
              "      <th>Tração</th>\n",
              "      <th>Comprimento</th>\n",
              "      <th>Largura</th>\n",
              "      <th>Altura</th>\n",
              "      <th>Tipo de motor</th>\n",
              "      <th>Número de cilindros</th>\n",
              "      <th>Tamanho do motor</th>\n",
              "      <th>Tipo de injeção</th>\n",
              "      <th>Potência (HP)</th>\n",
              "      <th>Pico RPM</th>\n",
              "      <th>Preço</th>\n",
              "    </tr>\n",
              "  </thead>\n",
              "  <tbody>\n",
              "    <tr>\n",
              "      <th>117</th>\n",
              "      <td>plymouth</td>\n",
              "      <td>NaN</td>\n",
              "      <td>2.0</td>\n",
              "      <td>hatch</td>\n",
              "      <td>dianteira</td>\n",
              "      <td>157,30</td>\n",
              "      <td>63,80</td>\n",
              "      <td>50,80</td>\n",
              "      <td>ohc</td>\n",
              "      <td>4</td>\n",
              "      <td>98,00</td>\n",
              "      <td>spdi</td>\n",
              "      <td>102,00</td>\n",
              "      <td>5500,00</td>\n",
              "      <td>7957,00</td>\n",
              "    </tr>\n",
              "    <tr>\n",
              "      <th>118</th>\n",
              "      <td>plymouth</td>\n",
              "      <td>NaN</td>\n",
              "      <td>4.0</td>\n",
              "      <td>hatch</td>\n",
              "      <td>dianteira</td>\n",
              "      <td>157,30</td>\n",
              "      <td>63,80</td>\n",
              "      <td>50,60</td>\n",
              "      <td>ohc</td>\n",
              "      <td>4</td>\n",
              "      <td>90,00</td>\n",
              "      <td>2bbl</td>\n",
              "      <td>68,00</td>\n",
              "      <td>5500,00</td>\n",
              "      <td>6229,00</td>\n",
              "    </tr>\n",
              "    <tr>\n",
              "      <th>119</th>\n",
              "      <td>plymouth</td>\n",
              "      <td>NaN</td>\n",
              "      <td>4.0</td>\n",
              "      <td>sedan</td>\n",
              "      <td>dianteira</td>\n",
              "      <td>167,30</td>\n",
              "      <td>63,80</td>\n",
              "      <td>50,80</td>\n",
              "      <td>ohc</td>\n",
              "      <td>4</td>\n",
              "      <td>90,00</td>\n",
              "      <td>2bbl</td>\n",
              "      <td>68,00</td>\n",
              "      <td>5500,00</td>\n",
              "      <td>6692,00</td>\n",
              "    </tr>\n",
              "    <tr>\n",
              "      <th>125</th>\n",
              "      <td>porsche</td>\n",
              "      <td>NaN</td>\n",
              "      <td>2.0</td>\n",
              "      <td>hardtop</td>\n",
              "      <td>traseira</td>\n",
              "      <td>168,90</td>\n",
              "      <td>65,00</td>\n",
              "      <td>51,60</td>\n",
              "      <td>ohcf</td>\n",
              "      <td>6</td>\n",
              "      <td>194,00</td>\n",
              "      <td>mpfi</td>\n",
              "      <td>207,00</td>\n",
              "      <td>5900,00</td>\n",
              "      <td>34028,00</td>\n",
              "    </tr>\n",
              "    <tr>\n",
              "      <th>139</th>\n",
              "      <td>subaru</td>\n",
              "      <td>NaN</td>\n",
              "      <td>4.0</td>\n",
              "      <td>sedan</td>\n",
              "      <td>dianteira</td>\n",
              "      <td>172,00</td>\n",
              "      <td>65,40</td>\n",
              "      <td>52,50</td>\n",
              "      <td>ohcf</td>\n",
              "      <td>4</td>\n",
              "      <td>108,00</td>\n",
              "      <td>2bbl</td>\n",
              "      <td>82,00</td>\n",
              "      <td>4800,00</td>\n",
              "      <td>7126,00</td>\n",
              "    </tr>\n",
              "  </tbody>\n",
              "</table>\n",
              "</div>"
            ],
            "text/plain": [
              "    Fabricante Combustível  Portas  ... Potência (HP) Pico RPM     Preço\n",
              "117   plymouth         NaN     2.0  ...        102,00  5500,00   7957,00\n",
              "118   plymouth         NaN     4.0  ...         68,00  5500,00   6229,00\n",
              "119   plymouth         NaN     4.0  ...         68,00  5500,00   6692,00\n",
              "125    porsche         NaN     2.0  ...        207,00  5900,00  34028,00\n",
              "139     subaru         NaN     4.0  ...         82,00  4800,00   7126,00\n",
              "\n",
              "[5 rows x 15 columns]"
            ]
          },
          "metadata": {},
          "execution_count": 220
        }
      ]
    },
    {
      "cell_type": "code",
      "metadata": {
        "colab": {
          "base_uri": "https://localhost:8080/"
        },
        "id": "ctBY1KlBHXlX",
        "outputId": "0b89f6aa-f22d-4618-f0b5-95cb3838dd74"
      },
      "source": [
        "automoveis['Combustível'].unique()"
      ],
      "execution_count": null,
      "outputs": [
        {
          "output_type": "execute_result",
          "data": {
            "text/plain": [
              "array(['gas', 'diesel', nan], dtype=object)"
            ]
          },
          "metadata": {},
          "execution_count": 221
        }
      ]
    },
    {
      "cell_type": "code",
      "metadata": {
        "id": "2imdrNv_H0YQ"
      },
      "source": [
        "automoveis = automoveis[automoveis['Combustível'].notna()] "
      ],
      "execution_count": null,
      "outputs": []
    },
    {
      "cell_type": "markdown",
      "metadata": {
        "id": "7030m4Q1IH7a"
      },
      "source": [
        "###Remoção de linhas onde Fabricante é nulo\n",
        "Nesse passo removi duas linhas que tinham valor de porta nulo. Decidi fazer isso pois não consegui pensar em um valor para preencher o campo e porque são apenas duas linhas.\n"
      ]
    },
    {
      "cell_type": "code",
      "metadata": {
        "colab": {
          "base_uri": "https://localhost:8080/",
          "height": 128
        },
        "id": "cGAqvS3AJFZK",
        "outputId": "68350564-5b02-4b4e-cfb4-c016f67c84ae"
      },
      "source": [
        "automoveis[automoveis['Fabricante'].isnull()]"
      ],
      "execution_count": null,
      "outputs": [
        {
          "output_type": "execute_result",
          "data": {
            "text/html": [
              "<div>\n",
              "<style scoped>\n",
              "    .dataframe tbody tr th:only-of-type {\n",
              "        vertical-align: middle;\n",
              "    }\n",
              "\n",
              "    .dataframe tbody tr th {\n",
              "        vertical-align: top;\n",
              "    }\n",
              "\n",
              "    .dataframe thead th {\n",
              "        text-align: right;\n",
              "    }\n",
              "</style>\n",
              "<table border=\"1\" class=\"dataframe\">\n",
              "  <thead>\n",
              "    <tr style=\"text-align: right;\">\n",
              "      <th></th>\n",
              "      <th>Fabricante</th>\n",
              "      <th>Combustível</th>\n",
              "      <th>Portas</th>\n",
              "      <th>Estilo Chassis</th>\n",
              "      <th>Tração</th>\n",
              "      <th>Comprimento</th>\n",
              "      <th>Largura</th>\n",
              "      <th>Altura</th>\n",
              "      <th>Tipo de motor</th>\n",
              "      <th>Número de cilindros</th>\n",
              "      <th>Tamanho do motor</th>\n",
              "      <th>Tipo de injeção</th>\n",
              "      <th>Potência (HP)</th>\n",
              "      <th>Pico RPM</th>\n",
              "      <th>Preço</th>\n",
              "    </tr>\n",
              "  </thead>\n",
              "  <tbody>\n",
              "    <tr>\n",
              "      <th>203</th>\n",
              "      <td>NaN</td>\n",
              "      <td>gas</td>\n",
              "      <td>4.0</td>\n",
              "      <td>sedan</td>\n",
              "      <td>traseira</td>\n",
              "      <td>176,80</td>\n",
              "      <td>64,80</td>\n",
              "      <td>54,30</td>\n",
              "      <td>ohc</td>\n",
              "      <td>6</td>\n",
              "      <td>164,00</td>\n",
              "      <td>mpfi</td>\n",
              "      <td>121,00</td>\n",
              "      <td>4250,00</td>\n",
              "      <td>21105,00</td>\n",
              "    </tr>\n",
              "    <tr>\n",
              "      <th>204</th>\n",
              "      <td>NaN</td>\n",
              "      <td>gas</td>\n",
              "      <td>2.0</td>\n",
              "      <td>hatch</td>\n",
              "      <td>traseira</td>\n",
              "      <td>169,00</td>\n",
              "      <td>65,70</td>\n",
              "      <td>49,60</td>\n",
              "      <td>rotor</td>\n",
              "      <td>2</td>\n",
              "      <td>70,00</td>\n",
              "      <td>4bbl</td>\n",
              "      <td>101,00</td>\n",
              "      <td>6000,00</td>\n",
              "      <td>10945,00</td>\n",
              "    </tr>\n",
              "  </tbody>\n",
              "</table>\n",
              "</div>"
            ],
            "text/plain": [
              "    Fabricante Combustível  Portas  ... Potência (HP) Pico RPM     Preço\n",
              "203        NaN         gas     4.0  ...        121,00  4250,00  21105,00\n",
              "204        NaN         gas     2.0  ...        101,00  6000,00  10945,00\n",
              "\n",
              "[2 rows x 15 columns]"
            ]
          },
          "metadata": {},
          "execution_count": 223
        }
      ]
    },
    {
      "cell_type": "code",
      "metadata": {
        "colab": {
          "base_uri": "https://localhost:8080/"
        },
        "id": "dVcumxGrH42R",
        "outputId": "f080d60c-7419-4977-c19a-ced3b9cd8f88"
      },
      "source": [
        "automoveis['Fabricante'].unique()"
      ],
      "execution_count": null,
      "outputs": [
        {
          "output_type": "execute_result",
          "data": {
            "text/plain": [
              "array(['alfa-romeo', 'audi', 'bmw', 'chevrolet', 'dodge', 'honda',\n",
              "       'isuzu', 'jaguar', 'mazda', 'mercedes-benz', 'mercury',\n",
              "       'mitsubishi', 'nissan', 'peugot', 'plymouth', 'porsche', 'renault',\n",
              "       'saab', 'subaru', 'toyota', 'volkswagen', 'volvo', nan],\n",
              "      dtype=object)"
            ]
          },
          "metadata": {},
          "execution_count": 224
        }
      ]
    },
    {
      "cell_type": "code",
      "metadata": {
        "id": "z0e9wm-dISix"
      },
      "source": [
        "automoveis = automoveis[automoveis['Fabricante'].notna()] "
      ],
      "execution_count": null,
      "outputs": []
    },
    {
      "cell_type": "code",
      "metadata": {
        "colab": {
          "base_uri": "https://localhost:8080/"
        },
        "id": "k8Di2wES_c86",
        "outputId": "7660de9b-d440-4c2a-f1db-a9de0207cb15"
      },
      "source": [
        "automoveis.info()"
      ],
      "execution_count": null,
      "outputs": [
        {
          "output_type": "stream",
          "name": "stdout",
          "text": [
            "<class 'pandas.core.frame.DataFrame'>\n",
            "Int64Index: 196 entries, 0 to 202\n",
            "Data columns (total 15 columns):\n",
            " #   Column               Non-Null Count  Dtype  \n",
            "---  ------               --------------  -----  \n",
            " 0   Fabricante           196 non-null    object \n",
            " 1   Combustível          196 non-null    object \n",
            " 2   Portas               196 non-null    float64\n",
            " 3   Estilo Chassis       196 non-null    object \n",
            " 4   Tração               196 non-null    object \n",
            " 5   Comprimento          196 non-null    float64\n",
            " 6   Largura              196 non-null    float64\n",
            " 7   Altura               196 non-null    float64\n",
            " 8   Tipo de motor        196 non-null    object \n",
            " 9   Número de cilindros  196 non-null    object \n",
            " 10  Tamanho do motor     196 non-null    object \n",
            " 11  Tipo de injeção      196 non-null    object \n",
            " 12  Potência (HP)        196 non-null    object \n",
            " 13  Pico RPM             196 non-null    object \n",
            " 14  Preço                196 non-null    object \n",
            "dtypes: float64(4), object(11)\n",
            "memory usage: 24.5+ KB\n"
          ]
        }
      ]
    },
    {
      "cell_type": "markdown",
      "metadata": {
        "id": "a8OszS15MApr"
      },
      "source": [
        "###Importante!\n",
        "Professor, não consegui pensar em nenhuma forma que fizesse sentido de preenchimento dos campos nulos. Portanto, removi todas as linhas com registros nulos rsrs."
      ]
    },
    {
      "cell_type": "markdown",
      "metadata": {
        "id": "74c-Fb5zANc4"
      },
      "source": [
        "#Alteração de tipos de campo"
      ]
    },
    {
      "cell_type": "markdown",
      "metadata": {
        "id": "VcSJby-bKczW"
      },
      "source": [
        "###Alteração da coluna Preço para float\n",
        "Nesse passo foi necessário fazer a alteração do campo para float"
      ]
    },
    {
      "cell_type": "code",
      "metadata": {
        "id": "4sgDs8j2-Rf5"
      },
      "source": [
        "automoveis['Comprimento'] = automoveis['Comprimento'].str.replace(',', '.').astype(float)\n",
        "automoveis['Largura'] = automoveis['Largura'].str.replace(',', '.').astype(float)\n",
        "automoveis['Altura'] = automoveis['Altura'].str.replace(',', '.').astype(float)"
      ],
      "execution_count": null,
      "outputs": []
    },
    {
      "cell_type": "markdown",
      "metadata": {
        "id": "Ql7Nli3RCwcg"
      },
      "source": [
        "###Alteração da coluna Número de cilindros para int\n",
        "\n",
        "Nesse passo fiz a alteração do valor por extenso para número e alterei o tipo da coluna"
      ]
    },
    {
      "cell_type": "code",
      "metadata": {
        "colab": {
          "base_uri": "https://localhost:8080/"
        },
        "id": "Sl8VsQvV-0cL",
        "outputId": "bd61d0c1-00c7-45cb-ff33-0ea9a3360712"
      },
      "source": [
        "automoveis['Número de cilindros'].unique()"
      ],
      "execution_count": null,
      "outputs": [
        {
          "output_type": "execute_result",
          "data": {
            "text/plain": [
              "array([4, 6, 5, 3, 'doze', 2, 'oito'], dtype=object)"
            ]
          },
          "metadata": {},
          "execution_count": 228
        }
      ]
    },
    {
      "cell_type": "code",
      "metadata": {
        "id": "jUfBSbGLAcsI"
      },
      "source": [
        "automoveis.loc[automoveis['Número de cilindros'] == 'doze','Número de cilindros'] = 12\n",
        "automoveis.loc[automoveis['Número de cilindros'] == 'oito','Número de cilindros'] = 8"
      ],
      "execution_count": null,
      "outputs": []
    },
    {
      "cell_type": "code",
      "metadata": {
        "colab": {
          "base_uri": "https://localhost:8080/"
        },
        "id": "Ad2Mf8HdCA-m",
        "outputId": "7826b806-d35b-4858-8bf5-eff54e48e255"
      },
      "source": [
        "automoveis['Número de cilindros'].unique()"
      ],
      "execution_count": null,
      "outputs": [
        {
          "output_type": "execute_result",
          "data": {
            "text/plain": [
              "array([4, 6, 5, 3, 12, 2, 8], dtype=object)"
            ]
          },
          "metadata": {},
          "execution_count": 230
        }
      ]
    },
    {
      "cell_type": "code",
      "metadata": {
        "id": "jYW9U_csCDsa"
      },
      "source": [
        "automoveis['Número de cilindros'] = automoveis['Número de cilindros'].astype(int)"
      ],
      "execution_count": null,
      "outputs": []
    },
    {
      "cell_type": "markdown",
      "metadata": {
        "id": "Tj4ehyDNDLV7"
      },
      "source": [
        "###Alteração da coluna Tamanho do motor para int\n",
        "Nesse passo foi necessário fazer a alteração do campo para float e depois int"
      ]
    },
    {
      "cell_type": "code",
      "metadata": {
        "colab": {
          "base_uri": "https://localhost:8080/"
        },
        "id": "teI30Yn7Ckrc",
        "outputId": "a078f3fa-70f5-4f43-937d-a126fb4e09cd"
      },
      "source": [
        "automoveis['Tamanho do motor'].unique()"
      ],
      "execution_count": null,
      "outputs": [
        {
          "output_type": "execute_result",
          "data": {
            "text/plain": [
              "array(['130,00', '152,00', '109,00', '136,00', '131,00', '108,00',\n",
              "       '164,00', '209,00', '61,00', '90,00', '98,00', '122,00', '156,00',\n",
              "       '92,00', '79,00', '110,00', '111,00', '119,00', '258,00', '326,00',\n",
              "       '91,00', '70,00', '80,00', '140,00', '134,00', '183,00', '234,00',\n",
              "       '308,00', '304,00', '97,00', '103,00', '120,00', '181,00',\n",
              "       '151,00', '194,00', '203,00', '132,00', '121,00', '146,00',\n",
              "       '171,00', '161,00', '141,00', '173,00', '145,00'], dtype=object)"
            ]
          },
          "metadata": {},
          "execution_count": 232
        }
      ]
    },
    {
      "cell_type": "code",
      "metadata": {
        "id": "0P8OASK3DSeF"
      },
      "source": [
        "automoveis['Tamanho do motor'] = automoveis['Tamanho do motor'].str.replace(',', '.').astype(float).astype(int)"
      ],
      "execution_count": null,
      "outputs": []
    },
    {
      "cell_type": "markdown",
      "metadata": {
        "id": "Tg5a5Pw5Jjw1"
      },
      "source": [
        "###Alteração da coluna Pico RPM para float\n",
        "Nesse passo foi necessário fazer a alteração do campo para float"
      ]
    },
    {
      "cell_type": "code",
      "metadata": {
        "colab": {
          "base_uri": "https://localhost:8080/"
        },
        "id": "bS3Qsl-0JaIs",
        "outputId": "9f70bae9-2b6c-4483-996c-97508b9c26a3"
      },
      "source": [
        "automoveis['Pico RPM'].unique()"
      ],
      "execution_count": null,
      "outputs": [
        {
          "output_type": "execute_result",
          "data": {
            "text/plain": [
              "array(['5000,00', '5500,00', 580000, '4250,00', '5400,00', '5100,00',\n",
              "       '4800,00', '6000,00', '5800,00', '4750,00', '4200,00', '4350,00',\n",
              "       '4500,00', '5200,00', '4150,00', '5600,00', '5900,00', '5750,00',\n",
              "       '5125,37', '5250,00', '4900,00', '4400,00', '6600,00', '5300,00'],\n",
              "      dtype=object)"
            ]
          },
          "metadata": {},
          "execution_count": 234
        }
      ]
    },
    {
      "cell_type": "code",
      "metadata": {
        "id": "18LFxyb9JmwN"
      },
      "source": [
        "automoveis['Pico RPM'] = automoveis['Pico RPM'].str.replace(',', '.').astype(float)"
      ],
      "execution_count": null,
      "outputs": []
    },
    {
      "cell_type": "markdown",
      "metadata": {
        "id": "4quIZo9sJ-wc"
      },
      "source": [
        "###Alteração da coluna Preço para float\n",
        "Nesse passo foi necessário fazer a alteração do campo para float"
      ]
    },
    {
      "cell_type": "code",
      "metadata": {
        "id": "jF1V_MNAKFF0"
      },
      "source": [
        "automoveis['Preço'] = automoveis['Preço'].str.replace(',', '.').astype(float)"
      ],
      "execution_count": null,
      "outputs": []
    },
    {
      "cell_type": "markdown",
      "metadata": {
        "id": "_shrBzm2KwN6"
      },
      "source": [
        "###Alteração da coluna Portas para int\n",
        "Nesse passo foi necessário fazer a alteração do campo para int"
      ]
    },
    {
      "cell_type": "code",
      "metadata": {
        "id": "KDdSllLoK0ZA"
      },
      "source": [
        "automoveis['Portas'] = automoveis['Portas'].astype(int)"
      ],
      "execution_count": null,
      "outputs": []
    },
    {
      "cell_type": "markdown",
      "metadata": {
        "id": "t7wcZLFFK-dh"
      },
      "source": [
        "###Alteração da coluna Potência para float\n",
        "Nesse passo foi necessário fazer a alteração do campo para int"
      ]
    },
    {
      "cell_type": "code",
      "metadata": {
        "colab": {
          "base_uri": "https://localhost:8080/"
        },
        "id": "M_mrH1JWK-EZ",
        "outputId": "5dc8b5b9-466b-46f1-8ccd-545e367d0090"
      },
      "source": [
        "automoveis['Potência (HP)'].unique()"
      ],
      "execution_count": null,
      "outputs": [
        {
          "output_type": "execute_result",
          "data": {
            "text/plain": [
              "array(['111,00', '154,00', '102,00', '115,00', '110,00', '140,00',\n",
              "       '160,00', '101,00', '121,00', '182,00', '48,00', '70,00', '68,00',\n",
              "       '88,00', '145,00', '58,00', '76,00', '60,00', '86,00', '100,00',\n",
              "       '78,00', '90,00', '176,00', '262,00', '135,00', '84,00', '120,00',\n",
              "       '72,00', '123,00', '155,00', '184,00', '175,00', '116,00', '69,00',\n",
              "       '55,00', '97,00', '152,00', '200,00', '95,00', '142,00', '143,00',\n",
              "       '207,00', '288,00', '104,26', '73,00', '82,00', '94,00', '62,00',\n",
              "       '56,00', '112,00', '92,00', '161,00', '156,00', '52,00', '85,00',\n",
              "       '114,00', '162,00', '134,00', '106,00'], dtype=object)"
            ]
          },
          "metadata": {},
          "execution_count": 238
        }
      ]
    },
    {
      "cell_type": "code",
      "metadata": {
        "id": "2oNxmXOvLNYh"
      },
      "source": [
        "automoveis['Potência (HP)'] = automoveis['Potência (HP)'].str.replace(',', '.').astype(float).astype(int)"
      ],
      "execution_count": null,
      "outputs": []
    },
    {
      "cell_type": "markdown",
      "metadata": {
        "id": "exhQIHxuCPWS"
      },
      "source": [
        "#Preparação de dados finalizada"
      ]
    },
    {
      "cell_type": "code",
      "metadata": {
        "colab": {
          "base_uri": "https://localhost:8080/"
        },
        "id": "dsZ5acSmCKaz",
        "outputId": "21e2f032-3e05-4ffe-f332-b18a65c38314"
      },
      "source": [
        "automoveis.info()"
      ],
      "execution_count": null,
      "outputs": [
        {
          "output_type": "stream",
          "name": "stdout",
          "text": [
            "<class 'pandas.core.frame.DataFrame'>\n",
            "Int64Index: 196 entries, 0 to 202\n",
            "Data columns (total 15 columns):\n",
            " #   Column               Non-Null Count  Dtype  \n",
            "---  ------               --------------  -----  \n",
            " 0   Fabricante           196 non-null    object \n",
            " 1   Combustível          196 non-null    object \n",
            " 2   Portas               196 non-null    int64  \n",
            " 3   Estilo Chassis       196 non-null    object \n",
            " 4   Tração               196 non-null    object \n",
            " 5   Comprimento          196 non-null    float64\n",
            " 6   Largura              196 non-null    float64\n",
            " 7   Altura               196 non-null    float64\n",
            " 8   Tipo de motor        196 non-null    object \n",
            " 9   Número de cilindros  196 non-null    int64  \n",
            " 10  Tamanho do motor     196 non-null    int64  \n",
            " 11  Tipo de injeção      196 non-null    object \n",
            " 12  Potência (HP)        196 non-null    int64  \n",
            " 13  Pico RPM             194 non-null    float64\n",
            " 14  Preço                196 non-null    float64\n",
            "dtypes: float64(5), int64(4), object(6)\n",
            "memory usage: 24.5+ KB\n"
          ]
        }
      ]
    },
    {
      "cell_type": "code",
      "metadata": {
        "colab": {
          "base_uri": "https://localhost:8080/",
          "height": 221
        },
        "id": "ZnwMhVrzCUnX",
        "outputId": "dc890914-7101-44d0-d638-9e9c66d563f5"
      },
      "source": [
        "automoveis.head()"
      ],
      "execution_count": null,
      "outputs": [
        {
          "output_type": "execute_result",
          "data": {
            "text/html": [
              "<div>\n",
              "<style scoped>\n",
              "    .dataframe tbody tr th:only-of-type {\n",
              "        vertical-align: middle;\n",
              "    }\n",
              "\n",
              "    .dataframe tbody tr th {\n",
              "        vertical-align: top;\n",
              "    }\n",
              "\n",
              "    .dataframe thead th {\n",
              "        text-align: right;\n",
              "    }\n",
              "</style>\n",
              "<table border=\"1\" class=\"dataframe\">\n",
              "  <thead>\n",
              "    <tr style=\"text-align: right;\">\n",
              "      <th></th>\n",
              "      <th>Fabricante</th>\n",
              "      <th>Combustível</th>\n",
              "      <th>Portas</th>\n",
              "      <th>Estilo Chassis</th>\n",
              "      <th>Tração</th>\n",
              "      <th>Comprimento</th>\n",
              "      <th>Largura</th>\n",
              "      <th>Altura</th>\n",
              "      <th>Tipo de motor</th>\n",
              "      <th>Número de cilindros</th>\n",
              "      <th>Tamanho do motor</th>\n",
              "      <th>Tipo de injeção</th>\n",
              "      <th>Potência (HP)</th>\n",
              "      <th>Pico RPM</th>\n",
              "      <th>Preço</th>\n",
              "    </tr>\n",
              "  </thead>\n",
              "  <tbody>\n",
              "    <tr>\n",
              "      <th>0</th>\n",
              "      <td>alfa-romeo</td>\n",
              "      <td>gas</td>\n",
              "      <td>2</td>\n",
              "      <td>conversível</td>\n",
              "      <td>traseira</td>\n",
              "      <td>168.8</td>\n",
              "      <td>64.1</td>\n",
              "      <td>48.8</td>\n",
              "      <td>dohc</td>\n",
              "      <td>4</td>\n",
              "      <td>130</td>\n",
              "      <td>mpfi</td>\n",
              "      <td>111</td>\n",
              "      <td>5000.0</td>\n",
              "      <td>13495.0</td>\n",
              "    </tr>\n",
              "    <tr>\n",
              "      <th>1</th>\n",
              "      <td>alfa-romeo</td>\n",
              "      <td>gas</td>\n",
              "      <td>2</td>\n",
              "      <td>conversível</td>\n",
              "      <td>traseira</td>\n",
              "      <td>168.8</td>\n",
              "      <td>64.1</td>\n",
              "      <td>48.8</td>\n",
              "      <td>dohc</td>\n",
              "      <td>4</td>\n",
              "      <td>130</td>\n",
              "      <td>mpfi</td>\n",
              "      <td>111</td>\n",
              "      <td>5000.0</td>\n",
              "      <td>16500.0</td>\n",
              "    </tr>\n",
              "    <tr>\n",
              "      <th>2</th>\n",
              "      <td>alfa-romeo</td>\n",
              "      <td>gas</td>\n",
              "      <td>2</td>\n",
              "      <td>hatch</td>\n",
              "      <td>traseira</td>\n",
              "      <td>171.2</td>\n",
              "      <td>65.5</td>\n",
              "      <td>52.4</td>\n",
              "      <td>ohcv</td>\n",
              "      <td>6</td>\n",
              "      <td>152</td>\n",
              "      <td>mpfi</td>\n",
              "      <td>154</td>\n",
              "      <td>5000.0</td>\n",
              "      <td>16500.0</td>\n",
              "    </tr>\n",
              "    <tr>\n",
              "      <th>3</th>\n",
              "      <td>audi</td>\n",
              "      <td>gas</td>\n",
              "      <td>4</td>\n",
              "      <td>sedan</td>\n",
              "      <td>dianteira</td>\n",
              "      <td>176.6</td>\n",
              "      <td>66.2</td>\n",
              "      <td>54.3</td>\n",
              "      <td>ohc</td>\n",
              "      <td>4</td>\n",
              "      <td>109</td>\n",
              "      <td>mpfi</td>\n",
              "      <td>102</td>\n",
              "      <td>5500.0</td>\n",
              "      <td>13950.0</td>\n",
              "    </tr>\n",
              "    <tr>\n",
              "      <th>4</th>\n",
              "      <td>audi</td>\n",
              "      <td>gas</td>\n",
              "      <td>4</td>\n",
              "      <td>sedan</td>\n",
              "      <td>4x4</td>\n",
              "      <td>176.6</td>\n",
              "      <td>66.4</td>\n",
              "      <td>54.3</td>\n",
              "      <td>ohc</td>\n",
              "      <td>5</td>\n",
              "      <td>136</td>\n",
              "      <td>mpfi</td>\n",
              "      <td>115</td>\n",
              "      <td>5500.0</td>\n",
              "      <td>17450.0</td>\n",
              "    </tr>\n",
              "  </tbody>\n",
              "</table>\n",
              "</div>"
            ],
            "text/plain": [
              "   Fabricante Combustível  Portas  ... Potência (HP) Pico RPM    Preço\n",
              "0  alfa-romeo         gas       2  ...           111   5000.0  13495.0\n",
              "1  alfa-romeo         gas       2  ...           111   5000.0  16500.0\n",
              "2  alfa-romeo         gas       2  ...           154   5000.0  16500.0\n",
              "3        audi         gas       4  ...           102   5500.0  13950.0\n",
              "4        audi         gas       4  ...           115   5500.0  17450.0\n",
              "\n",
              "[5 rows x 15 columns]"
            ]
          },
          "metadata": {},
          "execution_count": 241
        }
      ]
    }
  ]
}
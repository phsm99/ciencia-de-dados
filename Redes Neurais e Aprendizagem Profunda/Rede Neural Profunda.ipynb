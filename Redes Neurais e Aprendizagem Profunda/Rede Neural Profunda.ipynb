{
  "nbformat": 4,
  "nbformat_minor": 0,
  "metadata": {
    "colab": {
      "name": "Atividade-Pratica-3.ipynb",
      "provenance": [],
      "collapsed_sections": []
    },
    "kernelspec": {
      "name": "python3",
      "display_name": "Python 3"
    }
  },
  "cells": [
    {
      "cell_type": "markdown",
      "metadata": {
        "id": "_xocq-HtrU8W"
      },
      "source": [
        "# Atividade 03: Implementando uma Rede Neural Profunda\n",
        "\n",
        "Nesta atividade, você irá treinar uma rede neural profunda para realizar classificação de imagens, e irá testá-la utilizando o dataset CIFAR-10.\n",
        "\n",
        "Nesta atividade, você irá:\n",
        "\n",
        "- testar implementação de **camada afim** (tranformação linear) \n",
        "- testar implementação de **camada ReLU**\n",
        "- testar implementação de camadas combinadas (Afim + ReLU)  \n",
        "- testar duas **funções de perda** (**loss functions**): *SVM (hinge) loss* e *Softmax loss*\n",
        "- testar a implementação modular de uma rede de duas camadas: `TwoLayerNet`\n",
        "- testar a implementação modular de um classe para treinamento: `Solver`\n",
        "- **treinar** o modelo de rede de duas camadas `TwoLayerNet` utilizando a classe `Solver` e visualizar os resultados de perda e acurácia do treinamento\n",
        "- testar implementação de **batch normalization**\n",
        "- testar implementação de **dropout**\n",
        "- testar a implementação modular de uma rede profunda (de múltiplas camadas): `FullyConnectedNet`\n",
        "- **treinar** o modelo de rede profunda `FullyConnectedNet` utilizando a classe `Solver` e diferentes regras de atualização\n",
        "- **explorar o impacto** de *batch normalization* no treinamento de um modelo de rede profunda\n",
        "- **explorar o impacto** de *dropout* no treinamento de um modelo de rede profunda\n"
      ]
    },
    {
      "cell_type": "markdown",
      "metadata": {
        "id": "4W9Ecy6XDLhr"
      },
      "source": [
        "## Abordagem modular \n",
        "\n",
        "Na atividade anterior, você treinou e testou uma rede neural de duas camadas completamente conectadas sobre a base de dados CIFAR-10. A implementação era simples porém não era modular, visto que a perda e o gradiente foram calculados em uma única função `monolítica`. Isto é viável para uma rede simples de duas camadas, mas seria impraticável na medida que os modelos se tornem maiores. A forma ideal seria construir redes por meio de um projeto mais modular em que fosse possível implementar diferentes tipos de camadas de modo isolado e então combiná-las em novos modelos com diferentes arquiteturas.\n",
        "\n",
        "Nessa atividade, você irá construir redes completamente conectadas usando uma abordagem mais modular. Para cada camada, você irá utilizar uma função denominada `forward` e outra `backward`. A função `forward` irá receber as entradas, pesos e demais parâmetros e retornará, além da saída, um objeto `cache` contendo os dados necessários para realização do *backward pass*, como no seguinte exemplo:\n",
        "\n",
        "```python\n",
        "def layer_forward(x, w):\n",
        "  \"\"\" Recebe entradas x e pesos w \"\"\"\n",
        "  # Realiza alguns cálculos ...\n",
        "  z = # ... produz alguns resultados intermediários\n",
        "  # Realiza mais alguns cálculos ...\n",
        "  out = # gera a saída\n",
        "   \n",
        "  cache = (x, w, z, out) # Guarda valores necessários para o cálculo de gradientes\n",
        "   \n",
        "  return out, cache\n",
        "```\n",
        "\n",
        "O *backward pass* irá receber como entrada as derivadas *upstream* e o objeto `cache` e irá retornar os gradientes em relação as entradas e pesos, como no seguinte exemplo:\n",
        "\n",
        "```python\n",
        "def layer_backward(dout, cache):\n",
        "  \"\"\"\n",
        "  Recebe derivada da perda em relação às saídas e o objeto cache\n",
        "  e calcula as derivadas em relação às entradas.\n",
        "  \"\"\"\n",
        "  # Recupera valores guardados a partir do objeto cache\n",
        "  x, w, z, out = cache\n",
        "  \n",
        "  # Usa valores para cálculo das derivadas\n",
        "  dx = # Derivadas da perda em relação a x\n",
        "  dw = # Derivadas da perda em relação a w\n",
        "  \n",
        "  return dx, dw\n",
        "```\n",
        "\n",
        "Depois de analisar e testar a implementação de uma série de camadas dessa forma, você será capaz de facilmente combiná-las para construir modelos com diferentes arquiteturas.\n",
        "\n",
        "Além de treinar e testar redes completamente conectadas com profundidade arbitrária, você irá também explorar diferentes regras de atualização para otimização, além de utilizar *Dropout* como técnica para regularização e *Batch normalization* como ferramenta para tornar mais eficiente a otimização de redes profundas.\n",
        "  "
      ]
    },
    {
      "cell_type": "markdown",
      "metadata": {
        "id": "ef9_YhzcLHTY"
      },
      "source": [
        "## Preparação para usar o *Colaboratory*\n",
        "\n",
        "Caso você deseje usar o *Colaborabory*, execute os comandos da célula a seguir para conseguir acessar os arquivos em uma conta do **Google Drive**.\n"
      ]
    },
    {
      "cell_type": "code",
      "metadata": {
        "id": "kzynBb0jLHxc",
        "colab": {
          "base_uri": "https://localhost:8080/"
        },
        "outputId": "154f8b83-0e0e-4130-e92f-8350ae506a87"
      },
      "source": [
        "from google.colab import drive\n",
        "drive.mount('/content/drive/')"
      ],
      "execution_count": null,
      "outputs": [
        {
          "output_type": "stream",
          "name": "stdout",
          "text": [
            "Mounted at /content/drive/\n"
          ]
        }
      ]
    },
    {
      "cell_type": "markdown",
      "metadata": {
        "id": "6fOr9nVLMWeM"
      },
      "source": [
        "Além disso, você talvez deseje trabalhar um subdiretório (ou pasta) específico, por exemplo `Pratica3`.  Esse diretório (ou pasta) já deve ter sido criado e conter o ***notebook*** dessa prática.\n",
        "\n",
        "Sendo assim, utilize as instruções na próxima célula para alterar o diretório corrente para esse subdiretório (alterando o nome do subdiretório, se for o caso)."
      ]
    },
    {
      "cell_type": "code",
      "metadata": {
        "id": "0jVoCqmCNf-3",
        "colab": {
          "base_uri": "https://localhost:8080/",
          "height": 183
        },
        "outputId": "33b21a92-6679-4789-d8f4-9dce7913b31b"
      },
      "source": [
        "import os\n",
        "os.chdir(\"drive/My Drive/Pratica3\")"
      ],
      "execution_count": null,
      "outputs": [
        {
          "output_type": "error",
          "ename": "FileNotFoundError",
          "evalue": "ignored",
          "traceback": [
            "\u001b[0;31m---------------------------------------------------------------------------\u001b[0m",
            "\u001b[0;31mFileNotFoundError\u001b[0m                         Traceback (most recent call last)",
            "\u001b[0;32m<ipython-input-2-17effd02fd76>\u001b[0m in \u001b[0;36m<module>\u001b[0;34m()\u001b[0m\n\u001b[1;32m      1\u001b[0m \u001b[0;32mimport\u001b[0m \u001b[0mos\u001b[0m\u001b[0;34m\u001b[0m\u001b[0;34m\u001b[0m\u001b[0m\n\u001b[0;32m----> 2\u001b[0;31m \u001b[0mos\u001b[0m\u001b[0;34m.\u001b[0m\u001b[0mchdir\u001b[0m\u001b[0;34m(\u001b[0m\u001b[0;34m\"drive/My Drive/Pratica3\"\u001b[0m\u001b[0;34m)\u001b[0m\u001b[0;34m\u001b[0m\u001b[0;34m\u001b[0m\u001b[0m\n\u001b[0m",
            "\u001b[0;31mFileNotFoundError\u001b[0m: [Errno 2] No such file or directory: 'drive/My Drive/Pratica3'"
          ]
        }
      ]
    },
    {
      "cell_type": "markdown",
      "metadata": {
        "id": "fh1-o9BsV9Gs"
      },
      "source": [
        "## Código de inicialização e configuração básica\n",
        "\n",
        "Execute a célula a seguir para garantir a importação de alguns recursos básicos, bem como a inicialização/configuração para exibição correta de gráficos. "
      ]
    },
    {
      "cell_type": "code",
      "metadata": {
        "id": "w7juBZMhDLht"
      },
      "source": [
        "# Executa algum código de inicialização desse notebook.\n",
        "\n",
        "from __future__ import print_function\n",
        "import time\n",
        "import numpy as np\n",
        "import matplotlib.pyplot as plt\n",
        "\n",
        "%matplotlib inline\n",
        "plt.rcParams['figure.figsize'] = (10.0, 8.0) # fixa tamanho default para as plotagens\n",
        "plt.rcParams['image.interpolation'] = 'nearest'\n",
        "plt.rcParams['image.cmap'] = 'gray'\n",
        "\n",
        "%load_ext autoreload\n",
        "%autoreload 2\n",
        "\n",
        "def rel_error(x, y):\n",
        "  \"\"\" returna erro relativo \"\"\"\n",
        "  return np.max(np.abs(x - y) / (np.maximum(1e-8, np.abs(x) + np.abs(y))))"
      ],
      "execution_count": null,
      "outputs": []
    },
    {
      "cell_type": "markdown",
      "metadata": {
        "id": "fOeWxU98Ui2D"
      },
      "source": [
        "## Obtendo o conjunto de dados CIFAR-10\n",
        "\n",
        "Nesta atividade, você irá desenvolver uma rede neural para realizar classificação de imagens e irá testá-la utilizando o dataset CIFAR-10. \n",
        "\n",
        "Para tando, você deve obter as imagens dessa base de dados executando a célula a seguir.\n",
        "\n",
        "**OBS: Você só precisar realizar esta etapa uma vez!** Caso você já a tenha feito anteriormente e está retornando para continuar a execução dessa prática, não será necessário que se faça a recuperação das imagens novamente. Para verificar se os dados da base estão disponíveis, basta checar a existência do subdiretório `cifar-10-batches-py` no diretório corrente."
      ]
    },
    {
      "cell_type": "code",
      "metadata": {
        "id": "c3IhEhY4t3Ph",
        "colab": {
          "base_uri": "https://localhost:8080/"
        },
        "outputId": "7b24cbba-48de-4df7-8663-18f530d93796"
      },
      "source": [
        "!wget http://www.cs.toronto.edu/~kriz/cifar-10-python.tar.gz\n",
        "!tar -xzvf cifar-10-python.tar.gz\n",
        "!rm cifar-10-python.tar.gz"
      ],
      "execution_count": null,
      "outputs": [
        {
          "output_type": "stream",
          "name": "stdout",
          "text": [
            "--2021-12-22 01:27:11--  http://www.cs.toronto.edu/~kriz/cifar-10-python.tar.gz\n",
            "Resolving www.cs.toronto.edu (www.cs.toronto.edu)... 128.100.3.30\n",
            "Connecting to www.cs.toronto.edu (www.cs.toronto.edu)|128.100.3.30|:80... connected.\n",
            "HTTP request sent, awaiting response... 200 OK\n",
            "Length: 170498071 (163M) [application/x-gzip]\n",
            "Saving to: ‘cifar-10-python.tar.gz’\n",
            "\n",
            "cifar-10-python.tar 100%[===================>] 162.60M  90.9MB/s    in 1.8s    \n",
            "\n",
            "2021-12-22 01:27:12 (90.9 MB/s) - ‘cifar-10-python.tar.gz’ saved [170498071/170498071]\n",
            "\n",
            "cifar-10-batches-py/\n",
            "cifar-10-batches-py/data_batch_4\n",
            "cifar-10-batches-py/readme.html\n",
            "cifar-10-batches-py/test_batch\n",
            "cifar-10-batches-py/data_batch_3\n",
            "cifar-10-batches-py/batches.meta\n",
            "cifar-10-batches-py/data_batch_2\n",
            "cifar-10-batches-py/data_batch_5\n",
            "cifar-10-batches-py/data_batch_1\n"
          ]
        }
      ]
    },
    {
      "cell_type": "markdown",
      "metadata": {
        "id": "Xu8QyBnut5ES"
      },
      "source": [
        "Execute o código da célula abaixo para se realizar o carregamento dos dados a partir dos arquivos armazenados no diretório `cifar-10-batches-py`.\n",
        "\n",
        "**OBS: Isso sempre deve ser feito a cada nova inicialização desse *notebook*.**"
      ]
    },
    {
      "cell_type": "code",
      "metadata": {
        "id": "ltbjBXfoDLhy",
        "colab": {
          "base_uri": "https://localhost:8080/"
        },
        "outputId": "9ec85ddf-0f4d-4305-d162-d47c3974c50a"
      },
      "source": [
        "# Carrega os dados brutos da base CIFAR-10.\n",
        "# Para tanto, você deve ter feito o download de http://www.cs.toronto.edu/~kriz/cifar-10-python.tar.gz\n",
        "# e descompactado no diretório 'cifar-10-batches-py'\n",
        "\n",
        "from __future__ import print_function\n",
        "\n",
        "from builtins import range\n",
        "from six.moves import cPickle as pickle\n",
        "import numpy as np\n",
        "import os\n",
        "import platform\n",
        "\n",
        "def load_pickle(f):\n",
        "    version = platform.python_version_tuple()\n",
        "    if version[0] == '2':\n",
        "        return  pickle.load(f)\n",
        "    elif version[0] == '3':\n",
        "        return  pickle.load(f, encoding='latin1')\n",
        "    raise ValueError(\"invalid python version: {}\".format(version))\n",
        "\n",
        "def load_CIFAR_batch(filename):\n",
        "    \"\"\" carrega um unico lote do dataset cifar \"\"\"\n",
        "    with open(filename, 'rb') as f:\n",
        "        datadict = load_pickle(f)\n",
        "        X = datadict['data']\n",
        "        Y = datadict['labels']\n",
        "        X = X.reshape(10000, 3, 32, 32).transpose(0,2,3,1).astype(\"float\")\n",
        "        Y = np.array(Y)\n",
        "        return X, Y\n",
        "\n",
        "def load_CIFAR10(ROOT):\n",
        "    \"\"\" carrega todo o dataset cifar \"\"\"\n",
        "    xs = []\n",
        "    ys = []\n",
        "    for b in range(1,6):\n",
        "        f = os.path.join(ROOT, 'data_batch_%d' % (b, ))\n",
        "        X, Y = load_CIFAR_batch(f)\n",
        "        xs.append(X)\n",
        "        ys.append(Y)\n",
        "    Xtr = np.concatenate(xs)\n",
        "    Ytr = np.concatenate(ys)\n",
        "    del X, Y\n",
        "    Xte, Yte = load_CIFAR_batch(os.path.join(ROOT, 'test_batch'))\n",
        "    return Xtr, Ytr, Xte, Yte\n",
        "\n",
        "\n",
        "def get_CIFAR10_data(num_training=49000, num_validation=1000, num_test=1000,\n",
        "                     subtract_mean=True):\n",
        "    \"\"\"\n",
        "    Carrega o dataset CIFAR-10 a partir do disco e realiza pré-processamento para prepará-lo\n",
        "    para uso com classificadores. \n",
        "    \"\"\"\n",
        "    # Carrega dados brutos do dataset CIFAR-10\n",
        "    cifar10_dir = 'cifar-10-batches-py'\n",
        "    X_train, y_train, X_test, y_test = load_CIFAR10(cifar10_dir)\n",
        "\n",
        "    # Subamostragem de dados\n",
        "    mask = list(range(num_training, num_training + num_validation))\n",
        "    X_val = X_train[mask]\n",
        "    y_val = y_train[mask]\n",
        "    mask = list(range(num_training))\n",
        "    X_train = X_train[mask]\n",
        "    y_train = y_train[mask]\n",
        "    mask = list(range(num_test))\n",
        "    X_test = X_test[mask]\n",
        "    y_test = y_test[mask]\n",
        "\n",
        "    # Normalização de dados: subtração de imagem media\n",
        "    if subtract_mean:\n",
        "        mean_image = np.mean(X_train, axis=0)\n",
        "        X_train -= mean_image\n",
        "        X_val -= mean_image\n",
        "        X_test -= mean_image\n",
        "\n",
        "    # Transposição de modo que canais venham primeiro\n",
        "    X_train = X_train.transpose(0, 3, 1, 2).copy()\n",
        "    X_val = X_val.transpose(0, 3, 1, 2).copy()\n",
        "    X_test = X_test.transpose(0, 3, 1, 2).copy()\n",
        "\n",
        "    # Empacota dados em um dicionario\n",
        "    return {\n",
        "      'X_train': X_train, 'y_train': y_train,\n",
        "      'X_val': X_val, 'y_val': y_val,\n",
        "      'X_test': X_test, 'y_test': y_test,\n",
        "    }\n",
        "\n",
        "data = get_CIFAR10_data()\n",
        "for k, v in list(data.items()):\n",
        "  print(('%s: ' % k, v.shape))"
      ],
      "execution_count": null,
      "outputs": [
        {
          "output_type": "stream",
          "name": "stdout",
          "text": [
            "('X_train: ', (49000, 3, 32, 32))\n",
            "('y_train: ', (49000,))\n",
            "('X_val: ', (1000, 3, 32, 32))\n",
            "('y_val: ', (1000,))\n",
            "('X_test: ', (1000, 3, 32, 32))\n",
            "('y_test: ', (1000,))\n"
          ]
        }
      ]
    },
    {
      "cell_type": "markdown",
      "metadata": {
        "id": "iT8pp4ATDLh2"
      },
      "source": [
        "# Camada Afim: *foward pass*\n",
        "\n",
        "Uma camada afim (ou polinomial do primeiro grau) realiza uma transformações lineares seguidas de  translações, isto é, $\\mathbb{x}\\; \\mathbb{w} + \\mathbb{b}$. \n",
        "\n",
        "Analise a implementação da função `affine_forward` na célula a seguir.\n"
      ]
    },
    {
      "cell_type": "code",
      "metadata": {
        "id": "hINXRJFOW1xM"
      },
      "source": [
        "def affine_forward(x, w, b):\n",
        "    \"\"\"\n",
        "    Computa o forward pass para uma camada afim.\n",
        "\n",
        "    A entrada x possui dimensoes (N, d_1, ..., d_k) e comtem um minibatch de N\n",
        "    amostras, em que cada amostra x[i] possui dimensoes (d_1, ..., d_k).\n",
        "    Cada entrada será redimensionada em um vetor de dimensão D = d_1 * ... * d_k, e\n",
        "    então este será transformado no vetor de saida de dimensão M.\n",
        "\n",
        "    Entradas:\n",
        "    - x: Um vetor numpy contendo dados de entrada, com dimensoes (N, d_1, ..., d_k)\n",
        "    - w: Um vetor numpy de pesoes, com dimensoes (D, M)\n",
        "    - b: Um vetor numpy de termos independentes (vieses), dimensão (M,)\n",
        "\n",
        "    Retorna:\n",
        "    - out: saida, com dimensoes (N, M)\n",
        "    - cache: (x, w, b)\n",
        "    \"\"\"\n",
        "\n",
        "    ###########################################################################\n",
        "    xaux = np.reshape(x, (x.shape[0], -1))\n",
        "    out = xaux.dot(w) + b\n",
        "    ###########################################################################\n",
        "\n",
        "    cache = (x, w, b)\n",
        "    return out, cache\n"
      ],
      "execution_count": null,
      "outputs": []
    },
    {
      "cell_type": "markdown",
      "metadata": {
        "id": "1FKLiK3kXWj4"
      },
      "source": [
        "Em seguida, você pode testar essa implementação utilizando o trecho de código abaixo (lembre-se de executar a célula anterior para que a função seja definida):"
      ]
    },
    {
      "cell_type": "code",
      "metadata": {
        "id": "4zdxn08zDLh2",
        "colab": {
          "base_uri": "https://localhost:8080/"
        },
        "outputId": "ed064e5c-f266-40fe-bd56-38cc13748762"
      },
      "source": [
        "# Teste para a função affine_forward\n",
        "\n",
        "num_inputs = 2\n",
        "input_shape = (4, 5, 6)\n",
        "output_dim = 3\n",
        "\n",
        "input_size = num_inputs * np.prod(input_shape)\n",
        "weight_size = output_dim * np.prod(input_shape)\n",
        "\n",
        "x = np.linspace(-0.1, 0.5, num=input_size).reshape(num_inputs, *input_shape)\n",
        "w = np.linspace(-0.2, 0.3, num=weight_size).reshape(np.prod(input_shape), output_dim)\n",
        "b = np.linspace(-0.3, 0.1, num=output_dim)\n",
        "\n",
        "out, _ = affine_forward(x, w, b)\n",
        "correct_out = np.array([[ 1.49834967,  1.70660132,  1.91485297],\n",
        "                        [ 3.25553199,  3.5141327,   3.77273342]])\n",
        "\n",
        "# Compare seu resultado com o resultado correto que foi fornecido. \n",
        "# O erro deve estar em cerca de 1e-9.\n",
        "print('Testando a funcao affine_forward: ')\n",
        "print('Diferença: ', rel_error(out, correct_out))"
      ],
      "execution_count": null,
      "outputs": [
        {
          "output_type": "stream",
          "name": "stdout",
          "text": [
            "Testando a funcao affine_forward: \n",
            "Diferença:  9.769849468192957e-10\n"
          ]
        }
      ]
    },
    {
      "cell_type": "markdown",
      "metadata": {
        "id": "kWRIQJ1CDLh5"
      },
      "source": [
        "# Camada Afim: *backward pass*\n",
        "\n",
        "Agora, analise a implementação da função `affine_backward` na célula a seguir."
      ]
    },
    {
      "cell_type": "code",
      "metadata": {
        "id": "Enwd-K-hYGVD"
      },
      "source": [
        "def affine_backward(dout, cache):\n",
        "    \"\"\"\n",
        "    Computa o backward pass para a camada afim.\n",
        "\n",
        "    Entradas:\n",
        "    - dout: Derivada \"upstream\", com dimensoes (N, M)\n",
        "    - cache: (x, w, b):\n",
        "      - x: Dados de entrada, com dimensoes (N, d_1, ... d_k)\n",
        "      - w: Pesos, com dimensoes (D, M)\n",
        "      - b: Termos independentes, com dimensao (M,)\n",
        "\n",
        "    Retorna:\n",
        "    - dx: Gradiente em relacao a x, com dimesoes (N, d1, ..., d_k)\n",
        "    - dw: Gradiente em relacao a w, com dimesoes (D, M)\n",
        "    - db: Gradiente em relacao a b, com dimesao (M,)\n",
        "    \"\"\"\n",
        "    x, w, b = cache\n",
        "\n",
        "    ###########################################################################\n",
        "    dx = np.dot(dout, w.T).reshape(x.shape)\n",
        "    dw = np.dot(x.reshape(x.shape[0], -1).T, dout)\n",
        "    db = np.sum(dout, axis=0)\n",
        "    ###########################################################################\n",
        "\n",
        "    return dx, dw, db\n"
      ],
      "execution_count": null,
      "outputs": []
    },
    {
      "cell_type": "markdown",
      "metadata": {
        "id": "q2mtdNEYXrsZ"
      },
      "source": [
        "Em seguida, você pode testar essa implementação utilizando o trecho de código abaixo que faz verificação numérica do gradiente (lembre-se de executar a célula anterior para que a função seja definida):"
      ]
    },
    {
      "cell_type": "code",
      "metadata": {
        "id": "c113e5mkDLh6",
        "colab": {
          "base_uri": "https://localhost:8080/"
        },
        "outputId": "716536b7-d07c-4ae1-909f-75192ee757d0"
      },
      "source": [
        "from __future__ import print_function\n",
        "from builtins import range\n",
        "from past.builtins import xrange\n",
        "\n",
        "import numpy as np\n",
        "from random import randrange\n",
        "\n",
        "def eval_numerical_gradient(f, x, verbose=True, h=0.00001):\n",
        "    \"\"\"\n",
        "    Uma implementacao simples de gradiente numérico de f em x\n",
        "    - f deve ser uma funcao que recebe um unico argumento\n",
        "    - x é um ponto (vetor numpy) onde sera avaliado o gradiente\n",
        "    \"\"\"\n",
        "\n",
        "    fx = f(x) # avalia a funcao no ponto original\n",
        "    grad = np.zeros_like(x)\n",
        "    # realizar iteracoes sobre todos os indices/dimensoes de x\n",
        "    it = np.nditer(x, flags=['multi_index'], op_flags=['readwrite'])\n",
        "    while not it.finished:\n",
        "\n",
        "        # avalia a funcao em x+h\n",
        "        ix = it.multi_index\n",
        "        oldval = x[ix]\n",
        "        x[ix] = oldval + h # incrementa de h\n",
        "        fxph = f(x) # avalia f(x + h)\n",
        "        x[ix] = oldval - h\n",
        "        fxmh = f(x) # avalia f(x - h)\n",
        "        x[ix] = oldval # restaura\n",
        "\n",
        "        # computa a derivada parcial por meio de diferenca central\n",
        "        grad[ix] = (fxph - fxmh) / (2 * h) \n",
        "        if verbose:\n",
        "            print(ix, grad[ix])\n",
        "        it.iternext() # passa para a proxima dimensao\n",
        "\n",
        "    return grad\n",
        "\n",
        "\n",
        "def eval_numerical_gradient_array(f, x, df, h=1e-5):\n",
        "    \"\"\"\n",
        "    Avalia um gradiente numerico para uma funcao que aceita um vetor numpy\n",
        "    como parametro e retorna um vetor numpy.\n",
        "    \"\"\"\n",
        "    grad = np.zeros_like(x)\n",
        "    it = np.nditer(x, flags=['multi_index'], op_flags=['readwrite'])\n",
        "    while not it.finished:\n",
        "        ix = it.multi_index\n",
        "\n",
        "        oldval = x[ix]\n",
        "        x[ix] = oldval + h\n",
        "        pos = f(x).copy()\n",
        "        x[ix] = oldval - h\n",
        "        neg = f(x).copy()\n",
        "        x[ix] = oldval\n",
        "\n",
        "        grad[ix] = np.sum((pos - neg) * df) / (2 * h)\n",
        "        it.iternext()\n",
        "    return grad\n",
        "\n",
        "# Teste para a função affine_backward\n",
        "np.random.seed(231)\n",
        "x = np.random.randn(10, 2, 3)\n",
        "w = np.random.randn(6, 5)\n",
        "b = np.random.randn(5)\n",
        "dout = np.random.randn(10, 5)\n",
        "\n",
        "dx_num = eval_numerical_gradient_array(lambda x: affine_forward(x, w, b)[0], x, dout)\n",
        "dw_num = eval_numerical_gradient_array(lambda w: affine_forward(x, w, b)[0], w, dout)\n",
        "db_num = eval_numerical_gradient_array(lambda b: affine_forward(x, w, b)[0], b, dout)\n",
        "\n",
        "_, cache = affine_forward(x, w, b)\n",
        "dx, dw, db = affine_backward(dout, cache)\n",
        "\n",
        "# Os erros devem estar em torno de 1e-10\n",
        "print('Testando a funcao affine_backward:')\n",
        "print('Erro em dx: ', rel_error(dx_num, dx))\n",
        "print('Erro em dw: ', rel_error(dw_num, dw))\n",
        "print('Erro em db: ', rel_error(db_num, db))"
      ],
      "execution_count": null,
      "outputs": [
        {
          "output_type": "stream",
          "name": "stdout",
          "text": [
            "Testando a funcao affine_backward:\n",
            "Erro em dx:  5.399100368651805e-11\n",
            "Erro em dw:  9.904211865398145e-11\n",
            "Erro em db:  2.4122867568119087e-11\n"
          ]
        }
      ]
    },
    {
      "cell_type": "markdown",
      "metadata": {
        "id": "aDGcX1MxDLh-"
      },
      "source": [
        "# Camada ReLU: *forward pass*\n",
        "\n",
        "Uma camada ReLU utiliza de unidades lineares rectificadas para produzir suas saídas, isto é, $\\max\\{0, \\mathbb{x}\\}$.\n",
        "\n",
        "Analise a implementação da função de ativação (*forward pass*) para camada ReLU codificada pela função  `relu_forward` na célula a seguir."
      ]
    },
    {
      "cell_type": "code",
      "metadata": {
        "id": "H1ysEaBUY7Xk"
      },
      "source": [
        "def relu_forward(x):\n",
        "    \"\"\"\n",
        "    Computa o forward pass para uma camada de unidades lineares retificadas (ReLUs).\n",
        "\n",
        "    Entrada:\n",
        "    - x: Dados de entrada, qualquer dimensionalidade\n",
        "\n",
        "    Returna:\n",
        "    - out: Saida, com a mesma dimensionalidade de x\n",
        "    - cache: x\n",
        "    \"\"\"\n",
        "\n",
        "    ###########################################################################\n",
        "    out = np.maximum(0,x)\n",
        "    ###########################################################################\n",
        "\n",
        "    cache = x\n",
        "    return out, cache\n"
      ],
      "execution_count": null,
      "outputs": []
    },
    {
      "cell_type": "markdown",
      "metadata": {
        "id": "xsHZLRXoYmkZ"
      },
      "source": [
        "Em seguida, você pode testar essa implementação utilizando o trecho de código abaixo (lembre-se de executar a célula anterior para que a função seja definida):"
      ]
    },
    {
      "cell_type": "code",
      "metadata": {
        "id": "L1kHrLRaDLh-",
        "colab": {
          "base_uri": "https://localhost:8080/"
        },
        "outputId": "2eed06de-fd78-4c86-b2ec-fb9f294294e6"
      },
      "source": [
        "# Teste para a função relu_forward\n",
        "\n",
        "x = np.linspace(-0.5, 0.5, num=12).reshape(3, 4)\n",
        "\n",
        "out, _ = relu_forward(x)\n",
        "correct_out = np.array([[ 0.,          0.,          0.,          0.,        ],\n",
        "                        [ 0.,          0.,          0.04545455,  0.13636364,],\n",
        "                        [ 0.22727273,  0.31818182,  0.40909091,  0.5,       ]])\n",
        "\n",
        "# Compare seu resultado com o resultado correto que foi fornecido. \n",
        "# O erro deve estar em cerca de 5e-8.\n",
        "print('Testando a funcao relu_forward:')\n",
        "print('Diferença: ', rel_error(out, correct_out))"
      ],
      "execution_count": null,
      "outputs": [
        {
          "output_type": "stream",
          "name": "stdout",
          "text": [
            "Testando a funcao relu_forward:\n",
            "Diferença:  4.999999798022158e-08\n"
          ]
        }
      ]
    },
    {
      "cell_type": "markdown",
      "metadata": {
        "id": "5WbvLbf8DLiB"
      },
      "source": [
        "# Camada ReLU: *backward pass*\n",
        "\n",
        "Agora, analise a implementação da função `relu_backward` na célula a seguir.\n"
      ]
    },
    {
      "cell_type": "code",
      "metadata": {
        "id": "VMC6XYT0ZNVC"
      },
      "source": [
        "def relu_backward(dout, cache):\n",
        "    \"\"\"\n",
        "    Computa o backward pass para uma camada de unidades lineares retificadas (ReLUs).\n",
        "\n",
        "    Entradas:\n",
        "    - dout: Derivada \"upstream\", de qualquer dimensionalidade\n",
        "    - cache: Entrada x, com a mesma dimensionalidade que  dout\n",
        "\n",
        "    Returna:\n",
        "    - dx: Gradiente em relacao a x\n",
        "    \"\"\"\n",
        "    dx, x = None, cache\n",
        "    \n",
        "    ###########################################################################\n",
        "    dx = np.array(dout, copy=True)\n",
        "    dx[x <= 0] = 0\n",
        "    ###########################################################################\n",
        "\n",
        "    return dx\n"
      ],
      "execution_count": null,
      "outputs": []
    },
    {
      "cell_type": "markdown",
      "metadata": {
        "id": "hsXp-ej_ZMlJ"
      },
      "source": [
        "Em seguida, você pode testar essa implementação utilizando o trecho de código abaixo que faz verificação numérica do gradiente (lembre-se de executar a célula anterior para que a função seja definida):"
      ]
    },
    {
      "cell_type": "code",
      "metadata": {
        "id": "h2TL4d2YDLiC",
        "colab": {
          "base_uri": "https://localhost:8080/"
        },
        "outputId": "0950c905-9e58-4e1b-f164-47177a693bb9"
      },
      "source": [
        "# Teste para a função relu_backward\n",
        "np.random.seed(231)\n",
        "x = np.random.randn(10, 10)\n",
        "dout = np.random.randn(*x.shape)\n",
        "\n",
        "dx_num = eval_numerical_gradient_array(lambda x: relu_forward(x)[0], x, dout)\n",
        "\n",
        "_, cache = relu_forward(x)\n",
        "dx = relu_backward(dout, cache)\n",
        "\n",
        "# O erro deve estar em torno de 3e-12\n",
        "print('Testando a funcao relu_backward:')\n",
        "print('Erro em dx: ', rel_error(dx_num, dx))"
      ],
      "execution_count": null,
      "outputs": [
        {
          "output_type": "stream",
          "name": "stdout",
          "text": [
            "Testando a funcao relu_backward:\n",
            "Erro em dx:  3.2756349136310288e-12\n"
          ]
        }
      ]
    },
    {
      "cell_type": "markdown",
      "metadata": {
        "id": "erAs1HkoDLiF"
      },
      "source": [
        "# \"Sandwich\" de Camadas\n",
        "\n",
        "Existem alguns padrões de combinação de camadas que são frequentemente usados na construção de redes neurais. Por exemplo, camadas afins são frequentemente seguidas por uma não-linearidade fornecida por uma camada ReLU.\n",
        "\n",
        "Nesse momento, você deve examinar as funções `affine_relu_forward` e `affine_relu_backward` na célula a seguir."
      ]
    },
    {
      "cell_type": "code",
      "metadata": {
        "id": "OrV4IKGHaPWK"
      },
      "source": [
        "def affine_relu_forward(x, w, b):\n",
        "    \"\"\"\n",
        "    Calcula o forward pass para a camada combinada que realiza uma transformacao afim seguida de ReLU\n",
        "\n",
        "    Entradas:\n",
        "    - x: Dados de entrada para a camada afim\n",
        "    - w, b: Pesos/vieses para a camada afim\n",
        "\n",
        "    Returna:\n",
        "    - out: Saida final depois da camada ReLU\n",
        "    - cache: Informacao necessaria para realizar o backward pass\n",
        "    \"\"\"\n",
        "    a, fc_cache = affine_forward(x, w, b)\n",
        "    out, relu_cache = relu_forward(a)\n",
        "    cache = (fc_cache, relu_cache)\n",
        "    return out, cache\n",
        "\n",
        "\n",
        "def affine_relu_backward(dout, cache):\n",
        "    \"\"\"\n",
        "    Calcula o backward pass para a camada combinada que realiza uma transformacao afim seguida de ReLU\n",
        "    \"\"\"\n",
        "    fc_cache, relu_cache = cache\n",
        "    da = relu_backward(dout, relu_cache)\n",
        "    dx, dw, db = affine_backward(da, fc_cache)\n",
        "    return dx, dw, db\n"
      ],
      "execution_count": null,
      "outputs": []
    },
    {
      "cell_type": "markdown",
      "metadata": {
        "id": "mVMF7i3mahvn"
      },
      "source": [
        "Agora, execute o seguinte código para realizar a verificação numérica do gradiente obtido pelo *backward pass* (lembre-se de executar a célula anterior para que as funções sejam definidas)."
      ]
    },
    {
      "cell_type": "code",
      "metadata": {
        "id": "ru_p7tUtDLiF",
        "colab": {
          "base_uri": "https://localhost:8080/"
        },
        "outputId": "09fa977a-0cad-431d-a7a5-d21085215094"
      },
      "source": [
        "# Teste para as funções affine_relu_forward e affine_relu_backward\n",
        "\n",
        "np.random.seed(231)\n",
        "x = np.random.randn(2, 3, 4)\n",
        "w = np.random.randn(12, 10)\n",
        "b = np.random.randn(10)\n",
        "dout = np.random.randn(2, 10)\n",
        "\n",
        "out, cache = affine_relu_forward(x, w, b)\n",
        "dx, dw, db = affine_relu_backward(dout, cache)\n",
        "\n",
        "dx_num = eval_numerical_gradient_array(lambda x: affine_relu_forward(x, w, b)[0], x, dout)\n",
        "dw_num = eval_numerical_gradient_array(lambda w: affine_relu_forward(x, w, b)[0], w, dout)\n",
        "db_num = eval_numerical_gradient_array(lambda b: affine_relu_forward(x, w, b)[0], b, dout)\n",
        "\n",
        "print('Testando as funcoes affine_relu_forward e affine_relu_backward:')\n",
        "print('Erro em dx: ', rel_error(dx_num, dx))\n",
        "print('Erro em dw: ', rel_error(dw_num, dw))\n",
        "print('Erro em db: ', rel_error(db_num, db))"
      ],
      "execution_count": null,
      "outputs": [
        {
          "output_type": "stream",
          "name": "stdout",
          "text": [
            "Testando as funcoes affine_relu_forward e affine_relu_backward:\n",
            "Erro em dx:  2.299579177309368e-11\n",
            "Erro em dw:  8.162011105764925e-11\n",
            "Erro em db:  7.826724021458994e-12\n"
          ]
        }
      ]
    },
    {
      "cell_type": "markdown",
      "metadata": {
        "id": "w43eLpEMDLiJ"
      },
      "source": [
        "# Camadas de Perda: Softmax e SVM\n",
        "\n",
        "Você deve ainda entender como as funções de perda `softmax` e `svm` (ou `hinge`) funcionam e, para tanto, sugiro que você deve verificar as implementações fornecidas para cada uma delas na célula a seguir.\n"
      ]
    },
    {
      "cell_type": "code",
      "metadata": {
        "id": "vbEsHmc0b5Nu"
      },
      "source": [
        "def svm_loss(x, y):\n",
        "    \"\"\"\n",
        "    Computa a perda e o gradiente usando a perda por articulacao (hinge loss ou SVM loss).\n",
        "\n",
        "    Entradas:\n",
        "    - x: Dados de entrada, dimensoes (N, C) em que x[i, j] representa o score para  \n",
        "      a i-esima entrada em relacao a j-esima classe .\n",
        "    - y: Vetor de rotulos, dimensao (N,) em que y[i] representa o rotulo para x[i] e\n",
        "      0 <= y[i] < C\n",
        "\n",
        "    Returna:\n",
        "    - loss: Escalar representado o valor da perda\n",
        "    - dx: Gradiente da perda em relacao a x\n",
        "    \"\"\"\n",
        "    N = x.shape[0]\n",
        "    correct_class_scores = x[np.arange(N), y]\n",
        "    margins = np.maximum(0, x - correct_class_scores[:, np.newaxis] + 1.0)\n",
        "    margins[np.arange(N), y] = 0\n",
        "    loss = np.sum(margins) / N\n",
        "    num_pos = np.sum(margins > 0, axis=1)\n",
        "    dx = np.zeros_like(x)\n",
        "    dx[margins > 0] = 1\n",
        "    dx[np.arange(N), y] -= num_pos\n",
        "    dx /= N\n",
        "    return loss, dx\n",
        "\n",
        "\n",
        "def softmax_loss(x, y):\n",
        "    \"\"\"\n",
        "    Computa a perda e o gradiente usando a perda softmax.\n",
        "\n",
        "    Entradas:\n",
        "    - x: Dados de entrada, dimensoes (N, C) em que x[i, j] representa o score para  \n",
        "      a i-esima entrada em relacao a j-esima classe .\n",
        "    - y: Vetor de rotulos, dimensao (N,) em que y[i] representa o rotulo para x[i] e\n",
        "      0 <= y[i] < C\n",
        "\n",
        "    Returna:\n",
        "    - loss: Escalar representado o valor da perda\n",
        "    - dx: Gradiente da perda em relacao a x\n",
        "    \"\"\"\n",
        "    shifted_logits = x - np.max(x, axis=1, keepdims=True)\n",
        "    Z = np.sum(np.exp(shifted_logits), axis=1, keepdims=True)\n",
        "    log_probs = shifted_logits - np.log(Z)\n",
        "    probs = np.exp(log_probs)\n",
        "    N = x.shape[0]\n",
        "    loss = -np.sum(log_probs[np.arange(N), y]) / N\n",
        "    dx = probs.copy()\n",
        "    dx[np.arange(N), y] -= 1\n",
        "    dx /= N\n",
        "    return loss, dx\n",
        "  "
      ],
      "execution_count": null,
      "outputs": []
    },
    {
      "cell_type": "markdown",
      "metadata": {
        "id": "YbzL0UysbxT6"
      },
      "source": [
        "Você pode se assegurar de que essas implementações estão corretas utilizando o seguinte código para teste (lembre-se de executar a célula anterior para que as funções sejam definidas)."
      ]
    },
    {
      "cell_type": "code",
      "metadata": {
        "id": "R_q2EzJlDLiK",
        "colab": {
          "base_uri": "https://localhost:8080/"
        },
        "outputId": "32c0aaf3-beb3-4c6e-c92a-9a9b194e42d0"
      },
      "source": [
        "np.random.seed(231)\n",
        "num_classes, num_inputs = 10, 50\n",
        "x = 0.001 * np.random.randn(num_inputs, num_classes)\n",
        "y = np.random.randint(num_classes, size=num_inputs)\n",
        "\n",
        "dx_num = eval_numerical_gradient(lambda x: svm_loss(x, y)[0], x, verbose=False)\n",
        "loss, dx = svm_loss(x, y)\n",
        "\n",
        "# Teste da função svm_loss. A perda (loss) deve estar em cerda de 9 e 'dx error' em torno de 1e-9\n",
        "print('Testando a funcao svm_loss:')\n",
        "print('Perda: ', loss)\n",
        "print('Erro em dx: ', rel_error(dx_num, dx))\n",
        "\n",
        "dx_num = eval_numerical_gradient(lambda x: softmax_loss(x, y)[0], x, verbose=False)\n",
        "loss, dx = softmax_loss(x, y)\n",
        "\n",
        "# Teste da função softmax_loss. A perda (loss) deve estar em cerda de 2.3 e 'dx error' em torno \n",
        "# de 1e-8\n",
        "print('\\nTestando a fucao softmax_loss:')\n",
        "print('Perda: ', loss)\n",
        "print('Erro em dx: ', rel_error(dx_num, dx))"
      ],
      "execution_count": null,
      "outputs": [
        {
          "output_type": "stream",
          "name": "stdout",
          "text": [
            "Testando a funcao svm_loss:\n",
            "Perda:  8.999602749096233\n",
            "Erro em dx:  1.4021566006651672e-09\n",
            "\n",
            "Testando a fucao softmax_loss:\n",
            "Perda:  2.302545844500738\n",
            "Erro em dx:  9.384673161989355e-09\n"
          ]
        }
      ]
    },
    {
      "cell_type": "markdown",
      "metadata": {
        "id": "vstwrNb1DLiM"
      },
      "source": [
        "# Rede de Duas Camadas\n",
        "\n",
        "Na atividade anterior, você treinou uma rede neural de duas camadas que foi implementada como uma única classe monolítica. \n",
        "\n",
        "Agora que você já estudou as implementações de versões modulares das camadas necessárias, pode-se reimplementar a rede de duas camadas utilizando tais implementações modulares.\n",
        "\n",
        "Examina na célula a seguir a implementação da classe `TwoLayerNet`. \n",
        "\n",
        "Essa classe irá servir como modelo básico para outras redes que você implementará nesta atividade, portanto, leia e estude atentamente o código fornecido para garantir seu entendimento da API.\n"
      ]
    },
    {
      "cell_type": "code",
      "metadata": {
        "id": "Oy7fXP94c_QH"
      },
      "source": [
        "class TwoLayerNet(object):\n",
        "    \"\"\"\n",
        "    A two-layer fully-connected neural network with ReLU nonlinearity and\n",
        "    softmax loss that uses a modular layer design. We assume an input dimension\n",
        "    of D, a hidden dimension of H, and perform classification over C classes.\n",
        "\n",
        "    The architecure should be affine - relu - affine - softmax.\n",
        "\n",
        "    Note that this class does not implement gradient descent; instead, it\n",
        "    will interact with a separate Solver object that is responsible for running\n",
        "    optimization.\n",
        "\n",
        "    The learnable parameters of the model are stored in the dictionary\n",
        "    self.params that maps parameter names to numpy arrays.\n",
        "    \"\"\"\n",
        "\n",
        "    def __init__(self, input_dim=3*32*32, hidden_dim=100, num_classes=10,\n",
        "                 weight_scale=1e-3, reg=0.0):\n",
        "        \"\"\"\n",
        "        Initialize a new network.\n",
        "\n",
        "        Inputs:\n",
        "        - input_dim: An integer giving the size of the input\n",
        "        - hidden_dim: An integer giving the size of the hidden layer\n",
        "        - num_classes: An integer giving the number of classes to classify\n",
        "        - dropout: Scalar between 0 and 1 giving dropout strength.\n",
        "        - weight_scale: Scalar giving the standard deviation for random\n",
        "          initialization of the weights.\n",
        "        - reg: Scalar giving L2 regularization strength.\n",
        "        \"\"\"\n",
        "        self.params = {}\n",
        "        self.reg = reg\n",
        "\n",
        "        ############################################################################\n",
        "\n",
        "        self.D = input_dim\n",
        "        self.M = hidden_dim\n",
        "        self.C = num_classes\n",
        "        self.reg = reg\n",
        "\n",
        "        w1 = weight_scale * np.random.randn(self.D, self.M)\n",
        "        b1 = np.zeros(hidden_dim)\n",
        "        w2 = weight_scale * np.random.randn(self.M, self.C)\n",
        "        b2 = np.zeros(self.C)\n",
        "\n",
        "        \n",
        "        self.params.update({'W1': w1,\n",
        "                            'W2': w2,\n",
        "                            'b1': b1,\n",
        "                            'b2': b2})\n",
        "\n",
        "        ############################################################################\n",
        "\n",
        "\n",
        "    def loss(self, X, y=None):\n",
        "        \"\"\"\n",
        "        Compute loss and gradient for a minibatch of data.\n",
        "\n",
        "        Inputs:\n",
        "        - X: Array of input data of shape (N, d_1, ..., d_k)\n",
        "        - y: Array of labels, of shape (N,). y[i] gives the label for X[i].\n",
        "\n",
        "        Returns:\n",
        "        If y is None, then run a test-time forward pass of the model and return:\n",
        "        - scores: Array of shape (N, C) giving classification scores, where\n",
        "          scores[i, c] is the classification score for X[i] and class c.\n",
        "\n",
        "        If y is not None, then run a training-time forward and backward pass and\n",
        "        return a tuple of:\n",
        "        - loss: Scalar value giving the loss\n",
        "        - grads: Dictionary with the same keys as self.params, mapping parameter\n",
        "          names to gradients of the loss with respect to those parameters.\n",
        "        \"\"\"\n",
        "        scores = None\n",
        "        ############################################################################\n",
        "\n",
        "        W1, b1, W2, b2 = self.params['W1'], self.params[\n",
        "            'b1'], self.params['W2'], self.params['b2']\n",
        "\n",
        "        X = X.reshape(X.shape[0], self.D)\n",
        "        # Forward into first layer\n",
        "        hidden_layer, cache_hidden_layer = affine_relu_forward(X, W1, b1)\n",
        "        # Forward into second layer\n",
        "        scores, cache_scores = affine_forward(hidden_layer, W2, b2)\n",
        "\n",
        "        ############################################################################\n",
        "\n",
        "        # If y is None then we are in test mode so just return scores\n",
        "        if y is None:\n",
        "            return scores\n",
        "\n",
        "        loss, grads = 0, {}\n",
        "\n",
        "        ############################################################################\n",
        "        data_loss, dscores = softmax_loss(scores, y)\n",
        "        reg_loss = 0.5 * self.reg * np.sum(W1**2)\n",
        "        reg_loss += 0.5 * self.reg * np.sum(W2**2)\n",
        "        loss = data_loss + reg_loss\n",
        "\n",
        "        # Backpropagaton\n",
        "        grads = {}\n",
        "        # Backprop into second layer\n",
        "        dx1, dW2, db2 = affine_backward(dscores, cache_scores)\n",
        "        dW2 += self.reg * W2\n",
        "\n",
        "        # Backprop into first layer\n",
        "        dx, dW1, db1 = affine_relu_backward(\n",
        "            dx1, cache_hidden_layer)\n",
        "        dW1 += self.reg * W1\n",
        "\n",
        "        grads.update({'W1': dW1,\n",
        "                      'b1': db1,\n",
        "                      'W2': dW2,\n",
        "                      'b2': db2})\n",
        "\n",
        "        ############################################################################\n",
        "\n",
        "        return loss, grads\n"
      ],
      "execution_count": null,
      "outputs": []
    },
    {
      "cell_type": "markdown",
      "metadata": {
        "id": "adpcS_r6cwu9"
      },
      "source": [
        "\n",
        "Depois que você concluir seu estudo da implementação da classe `TwoLayerNet`, você poderá testá-la usando o seguinte código (lembre-se de executar a célula anterior para que a classe seja definida)."
      ]
    },
    {
      "cell_type": "code",
      "metadata": {
        "id": "-wRAThiPDLiN",
        "colab": {
          "base_uri": "https://localhost:8080/"
        },
        "outputId": "b8e0ab64-a819-47ee-d5d3-cf4d9a84947a"
      },
      "source": [
        "np.random.seed(231)\n",
        "N, D, H, C = 3, 5, 50, 7\n",
        "X = np.random.randn(N, D)\n",
        "y = np.random.randint(C, size=N)\n",
        "\n",
        "std = 1e-3\n",
        "model = TwoLayerNet(input_dim=D, hidden_dim=H, num_classes=C, weight_scale=std)\n",
        "\n",
        "print('Testing initialization ... ')\n",
        "W1_std = abs(model.params['W1'].std() - std)\n",
        "b1 = model.params['b1']\n",
        "W2_std = abs(model.params['W2'].std() - std)\n",
        "b2 = model.params['b2']\n",
        "assert W1_std < std / 10, 'First layer weights do not seem right'\n",
        "assert np.all(b1 == 0), 'First layer biases do not seem right'\n",
        "assert W2_std < std / 10, 'Second layer weights do not seem right'\n",
        "assert np.all(b2 == 0), 'Second layer biases do not seem right'\n",
        "\n",
        "print('Testing test-time forward pass ... ')\n",
        "model.params['W1'] = np.linspace(-0.7, 0.3, num=D*H).reshape(D, H)\n",
        "model.params['b1'] = np.linspace(-0.1, 0.9, num=H)\n",
        "model.params['W2'] = np.linspace(-0.3, 0.4, num=H*C).reshape(H, C)\n",
        "model.params['b2'] = np.linspace(-0.9, 0.1, num=C)\n",
        "X = np.linspace(-5.5, 4.5, num=N*D).reshape(D, N).T\n",
        "scores = model.loss(X)\n",
        "correct_scores = np.asarray(\n",
        "  [[11.53165108,  12.2917344,   13.05181771,  13.81190102,  14.57198434, 15.33206765,  16.09215096],\n",
        "   [12.05769098,  12.74614105,  13.43459113,  14.1230412,   14.81149128, 15.49994135,  16.18839143],\n",
        "   [12.58373087,  13.20054771,  13.81736455,  14.43418138,  15.05099822, 15.66781506,  16.2846319 ]])\n",
        "scores_diff = np.abs(scores - correct_scores).sum()\n",
        "assert scores_diff < 1e-6, 'Problem with test-time forward pass'\n",
        "\n",
        "print('Testing training loss (no regularization)')\n",
        "y = np.asarray([0, 5, 1])\n",
        "loss, grads = model.loss(X, y)\n",
        "correct_loss = 3.4702243556\n",
        "assert abs(loss - correct_loss) < 1e-10, 'Problem with training-time loss'\n",
        "\n",
        "model.reg = 1.0\n",
        "loss, grads = model.loss(X, y)\n",
        "correct_loss = 26.5948426952\n",
        "assert abs(loss - correct_loss) < 1e-10, 'Problem with regularization loss'\n",
        "\n",
        "for reg in [0.0, 0.7]:\n",
        "  print('Running numeric gradient check with reg = ', reg)\n",
        "  model.reg = reg\n",
        "  loss, grads = model.loss(X, y)\n",
        "\n",
        "  for name in sorted(grads):\n",
        "    f = lambda _: model.loss(X, y)[0]\n",
        "    grad_num = eval_numerical_gradient(f, model.params[name], verbose=False)\n",
        "    print('%s relative error: %.2e' % (name, rel_error(grad_num, grads[name])))"
      ],
      "execution_count": null,
      "outputs": [
        {
          "output_type": "stream",
          "name": "stdout",
          "text": [
            "Testing initialization ... \n",
            "Testing test-time forward pass ... \n",
            "Testing training loss (no regularization)\n",
            "Running numeric gradient check with reg =  0.0\n",
            "W1 relative error: 1.83e-08\n",
            "W2 relative error: 3.12e-10\n",
            "b1 relative error: 9.83e-09\n",
            "b2 relative error: 4.33e-10\n",
            "Running numeric gradient check with reg =  0.7\n",
            "W1 relative error: 2.53e-07\n",
            "W2 relative error: 7.98e-08\n",
            "b1 relative error: 1.56e-08\n",
            "b2 relative error: 7.76e-10\n"
          ]
        }
      ]
    },
    {
      "cell_type": "markdown",
      "metadata": {
        "id": "VkvIWmvuDLiS"
      },
      "source": [
        "# Classe *Solver*\n",
        "\n",
        "Nas atividades anteriores, a lógica para treinamento de modelos estava acoplada ao próprio modelo (e codificada junto com ele). Porém, agora, seguindo uma abordagem modular (que é mais comum na atualidade), para esta atividade a lógica de treinamento de modelos será colocada em uma classe denominada `Solver` e colocada de forma separada do modelo propriamente dito.\n",
        "\n",
        "Agora, você deve ler e estudar atentamente o código da classe `Solver` (colocado na célula seguinte) para se familiarizar com a API.\n",
        "\n",
        "Além disso, no início da próxima célula você irá encontrar implementações dos seguintes métodos para atualização de parâmetros: `sgd`, `sgd_momentum`, `rmsprop`, `adam` (que poderão ser utilizados em conjunto com a classe `Solver`).\n",
        "\n"
      ]
    },
    {
      "cell_type": "code",
      "metadata": {
        "id": "AEnXb4E-dnDR"
      },
      "source": [
        "from __future__ import print_function, division\n",
        "from future import standard_library\n",
        "standard_library.install_aliases()\n",
        "from builtins import range\n",
        "from builtins import object\n",
        "import os\n",
        "import pickle as pickle\n",
        "\n",
        "import numpy as np\n",
        "\n",
        "class optim:\n",
        "\n",
        "    def sgd(w, dw, config=None):\n",
        "        \"\"\"\n",
        "        Performs vanilla stochastic gradient descent.\n",
        "\n",
        "        config format:\n",
        "        - learning_rate: Scalar learning rate.\n",
        "        \"\"\"\n",
        "        if config is None: config = {}\n",
        "        config.setdefault('learning_rate', 1e-2)\n",
        "\n",
        "        w -= config['learning_rate'] * dw\n",
        "        return w, config\n",
        "\n",
        "    def sgd_momentum(w, dw, config=None):\n",
        "        \"\"\"\n",
        "        Performs stochastic gradient descent with momentum.\n",
        "\n",
        "        config format:\n",
        "        - learning_rate: Scalar learning rate.\n",
        "        - momentum: Scalar between 0 and 1 giving the momentum value.\n",
        "          Setting momentum = 0 reduces to sgd.\n",
        "        - velocity: A numpy array of the same shape as w and dw used to store a\n",
        "          moving average of the gradients.\n",
        "        \"\"\"\n",
        "        if config is None: config = {}\n",
        "        config.setdefault('learning_rate', 1e-2)\n",
        "        config.setdefault('momentum', 0.9)\n",
        "        v = config.get('velocity', np.zeros_like(w))\n",
        "\n",
        "        next_w = None\n",
        "        ###########################################################################\n",
        "\n",
        "        v = config['momentum'] * v - config['learning_rate'] * dw # integrate velocity\n",
        "        next_w = w + v\n",
        "\n",
        "        ###########################################################################\n",
        "        config['velocity'] = v\n",
        "\n",
        "        return next_w, config\n",
        "\n",
        "    def rmsprop(x, dx, config=None):\n",
        "        \"\"\"\n",
        "        Uses the RMSProp update rule, which uses a moving average of squared\n",
        "        gradient values to set adaptive per-parameter learning rates.\n",
        "\n",
        "        config format:\n",
        "        - learning_rate: Scalar learning rate.\n",
        "        - decay_rate: Scalar between 0 and 1 giving the decay rate for the squared\n",
        "          gradient cache.\n",
        "        - epsilon: Small scalar used for smoothing to avoid dividing by zero.\n",
        "        - cache: Moving average of second moments of gradients.\n",
        "        \"\"\"\n",
        "        if config is None: config = {}\n",
        "        config.setdefault('learning_rate', 1e-2)\n",
        "        config.setdefault('decay_rate', 0.99)\n",
        "        config.setdefault('epsilon', 1e-8)\n",
        "        config.setdefault('cache', np.zeros_like(x))\n",
        "\n",
        "        next_x = None\n",
        "        ###########################################################################\n",
        "    \n",
        "        cache, decay_rate, eps, learning_rate \\\n",
        "            = config['cache'], config['decay_rate'], \\\n",
        "              config['epsilon'], config['learning_rate']\n",
        "        cache = decay_rate * cache + (1 - decay_rate) * dx**2\n",
        "        next_x = -learning_rate * dx / (np.sqrt(cache) + eps) + x\n",
        "        config['cache'] = cache\n",
        "\n",
        "        ###########################################################################\n",
        "\n",
        "        return next_x, config\n",
        "\n",
        "    def adam(x, dx, config=None):\n",
        "        \"\"\"\n",
        "        Uses the Adam update rule, which incorporates moving averages of both the\n",
        "        gradient and its square and a bias correction term.\n",
        "\n",
        "        config format:\n",
        "        - learning_rate: Scalar learning rate.\n",
        "        - beta1: Decay rate for moving average of first moment of gradient.\n",
        "        - beta2: Decay rate for moving average of second moment of gradient.\n",
        "        - epsilon: Small scalar used for smoothing to avoid dividing by zero.\n",
        "        - m: Moving average of gradient.\n",
        "        - v: Moving average of squared gradient.\n",
        "        - t: Iteration number.\n",
        "        \"\"\"\n",
        "        if config is None: config = {}\n",
        "        config.setdefault('learning_rate', 1e-3)\n",
        "        config.setdefault('beta1', 0.9)\n",
        "        config.setdefault('beta2', 0.999)\n",
        "        config.setdefault('epsilon', 1e-8)\n",
        "        config.setdefault('m', np.zeros_like(x))\n",
        "        config.setdefault('v', np.zeros_like(x))\n",
        "        config.setdefault('t', 1)\n",
        "\n",
        "        next_x = None\n",
        "        ###########################################################################\n",
        "\n",
        "        learning_rate, beta1, beta2, eps, m, v, t \\\n",
        "            = config['learning_rate'], config['beta1'], config['beta2'], \\\n",
        "              config['epsilon'], config['m'], config['v'], config['t']\n",
        "\n",
        "        t += 1\n",
        "        m = beta1 * m + (1 - beta1) * dx\n",
        "        v = beta2 * v + (1 - beta2) * (dx**2)\n",
        "\n",
        "        # bias correction:\n",
        "        mb = m / (1 - beta1**t)\n",
        "        vb = v / (1 - beta2**t)\n",
        "\n",
        "        next_x = -learning_rate * mb / (np.sqrt(vb) + eps) + x\n",
        "\n",
        "        config['m'], config['v'], config['t'] = m, v, t\n",
        "\n",
        "        ###########################################################################\n",
        "\n",
        "        return next_x, config\n",
        "\n",
        "\n",
        "class Solver(object):\n",
        "    \"\"\"\n",
        "    A Solver encapsulates all the logic necessary for training classification\n",
        "    models. The Solver performs stochastic gradient descent using different\n",
        "    update rules defined in optim.py.\n",
        "\n",
        "    The solver accepts both training and validataion data and labels so it can\n",
        "    periodically check classification accuracy on both training and validation\n",
        "    data to watch out for overfitting.\n",
        "\n",
        "    To train a model, you will first construct a Solver instance, passing the\n",
        "    model, dataset, and various optoins (learning rate, batch size, etc) to the\n",
        "    constructor. You will then call the train() method to run the optimization\n",
        "    procedure and train the model.\n",
        "\n",
        "    After the train() method returns, model.params will contain the parameters\n",
        "    that performed best on the validation set over the course of training.\n",
        "    In addition, the instance variable solver.loss_history will contain a list\n",
        "    of all losses encountered during training and the instance variables\n",
        "    solver.train_acc_history and solver.val_acc_history will be lists of the\n",
        "    accuracies of the model on the training and validation set at each epoch.\n",
        "\n",
        "    Example usage might look something like this:\n",
        "\n",
        "    data = {\n",
        "      'X_train': # training data\n",
        "      'y_train': # training labels\n",
        "      'X_val': # validation data\n",
        "      'y_val': # validation labels\n",
        "    }\n",
        "    model = MyAwesomeModel(hidden_size=100, reg=10)\n",
        "    solver = Solver(model, data,\n",
        "                    update_rule='sgd',\n",
        "                    optim_config={\n",
        "                      'learning_rate': 1e-3,\n",
        "                    },\n",
        "                    lr_decay=0.95,\n",
        "                    num_epochs=10, batch_size=100,\n",
        "                    print_every=100)\n",
        "    solver.train()\n",
        "\n",
        "  \n",
        "    A Solver works on a model object that must conform to the following API:\n",
        "\n",
        "    - model.params must be a dictionary mapping string parameter names to numpy\n",
        "      arrays containing parameter values.\n",
        "\n",
        "    - model.loss(X, y) must be a function that computes training-time loss and\n",
        "      gradients, and test-time classification scores, with the following inputs\n",
        "      and outputs:\n",
        "\n",
        "      Inputs:\n",
        "      - X: Array giving a minibatch of input data of shape (N, d_1, ..., d_k)\n",
        "      - y: Array of labels, of shape (N,) giving labels for X where y[i] is the\n",
        "        label for X[i].\n",
        "\n",
        "      Returns:\n",
        "      If y is None, run a test-time forward pass and return:\n",
        "      - scores: Array of shape (N, C) giving classification scores for X where\n",
        "        scores[i, c] gives the score of class c for X[i].\n",
        "\n",
        "      If y is not None, run a training time forward and backward pass and\n",
        "      return a tuple of:\n",
        "      - loss: Scalar giving the loss\n",
        "      - grads: Dictionary with the same keys as self.params mapping parameter\n",
        "        names to gradients of the loss with respect to those parameters.\n",
        "    \"\"\"\n",
        "\n",
        "    def __init__(self, model, data, **kwargs):\n",
        "        \"\"\"\n",
        "        Construct a new Solver instance.\n",
        "\n",
        "        Required arguments:\n",
        "        - model: A model object conforming to the API described above\n",
        "        - data: A dictionary of training and validation data containing:\n",
        "          'X_train': Array, shape (N_train, d_1, ..., d_k) of training images\n",
        "          'X_val': Array, shape (N_val, d_1, ..., d_k) of validation images\n",
        "          'y_train': Array, shape (N_train,) of labels for training images\n",
        "          'y_val': Array, shape (N_val,) of labels for validation images\n",
        "\n",
        "        Optional arguments:\n",
        "        - update_rule: A string giving the name of an update rule in optim.py.\n",
        "          Default is 'sgd'.\n",
        "        - optim_config: A dictionary containing hyperparameters that will be\n",
        "          passed to the chosen update rule. Each update rule requires different\n",
        "          hyperparameters (see optim.py) but all update rules require a\n",
        "          'learning_rate' parameter so that should always be present.\n",
        "        - lr_decay: A scalar for learning rate decay; after each epoch the\n",
        "          learning rate is multiplied by this value.\n",
        "        - batch_size: Size of minibatches used to compute loss and gradient\n",
        "          during training.\n",
        "        - num_epochs: The number of epochs to run for during training.\n",
        "        - print_every: Integer; training losses will be printed every\n",
        "          print_every iterations.\n",
        "        - verbose: Boolean; if set to false then no output will be printed\n",
        "          during training.\n",
        "        - num_train_samples: Number of training samples used to check training\n",
        "          accuracy; default is 1000; set to None to use entire training set.\n",
        "        - num_val_samples: Number of validation samples to use to check val\n",
        "          accuracy; default is None, which uses the entire validation set.\n",
        "        - checkpoint_name: If not None, then save model checkpoints here every\n",
        "          epoch.\n",
        "        \"\"\"\n",
        "        self.model = model\n",
        "        self.X_train = data['X_train']\n",
        "        self.y_train = data['y_train']\n",
        "        self.X_val = data['X_val']\n",
        "        self.y_val = data['y_val']\n",
        "\n",
        "        # Unpack keyword arguments\n",
        "        self.update_rule = kwargs.pop('update_rule', 'sgd')\n",
        "        self.optim_config = kwargs.pop('optim_config', {})\n",
        "        self.lr_decay = kwargs.pop('lr_decay', 1.0)\n",
        "        self.batch_size = kwargs.pop('batch_size', 100)\n",
        "        self.num_epochs = kwargs.pop('num_epochs', 10)\n",
        "        self.num_train_samples = kwargs.pop('num_train_samples', 1000)\n",
        "        self.num_val_samples = kwargs.pop('num_val_samples', None)\n",
        "\n",
        "        self.checkpoint_name = kwargs.pop('checkpoint_name', None)\n",
        "        self.print_every = kwargs.pop('print_every', 10)\n",
        "        self.verbose = kwargs.pop('verbose', True)\n",
        "\n",
        "        # Throw an error if there are extra keyword arguments\n",
        "        if len(kwargs) > 0:\n",
        "            extra = ', '.join('\"%s\"' % k for k in list(kwargs.keys()))\n",
        "            raise ValueError('Unrecognized arguments %s' % extra)\n",
        "\n",
        "        # Make sure the update rule exists, then replace the string\n",
        "        # name with the actual function\n",
        "        if not hasattr(optim, self.update_rule):\n",
        "            raise ValueError('Invalid update_rule \"%s\"' % self.update_rule)\n",
        "        self.update_rule = getattr(optim, self.update_rule)\n",
        "\n",
        "        self._reset()\n",
        "\n",
        "\n",
        "    def _reset(self):\n",
        "        \"\"\"\n",
        "        Set up some book-keeping variables for optimization. Don't call this\n",
        "        manually.\n",
        "        \"\"\"\n",
        "        # Set up some variables for book-keeping\n",
        "        self.epoch = 0\n",
        "        self.best_val_acc = 0\n",
        "        self.best_params = {}\n",
        "        self.loss_history = []\n",
        "        self.train_acc_history = []\n",
        "        self.val_acc_history = []\n",
        "\n",
        "        # Make a deep copy of the optim_config for each parameter\n",
        "        self.optim_configs = {}\n",
        "        for p in self.model.params:\n",
        "            d = {k: v for k, v in self.optim_config.items()}\n",
        "            self.optim_configs[p] = d\n",
        "\n",
        "\n",
        "    def _step(self):\n",
        "        \"\"\"\n",
        "        Make a single gradient update. This is called by train() and should not\n",
        "        be called manually.\n",
        "        \"\"\"\n",
        "        # Make a minibatch of training data\n",
        "        num_train = self.X_train.shape[0]\n",
        "        batch_mask = np.random.choice(num_train, self.batch_size)\n",
        "        X_batch = self.X_train[batch_mask]\n",
        "        y_batch = self.y_train[batch_mask]\n",
        "\n",
        "        # Compute loss and gradient\n",
        "        loss, grads = self.model.loss(X_batch, y_batch)\n",
        "        self.loss_history.append(loss)\n",
        "\n",
        "        # Perform a parameter update\n",
        "        for p, w in self.model.params.items():\n",
        "            dw = grads[p]\n",
        "            config = self.optim_configs[p]\n",
        "            next_w, next_config = self.update_rule(w, dw, config)\n",
        "            self.model.params[p] = next_w\n",
        "            self.optim_configs[p] = next_config\n",
        "\n",
        "\n",
        "    def _save_checkpoint(self):\n",
        "        if self.checkpoint_name is None: return\n",
        "        checkpoint = {\n",
        "          'model': self.model,\n",
        "          'update_rule': self.update_rule,\n",
        "          'lr_decay': self.lr_decay,\n",
        "          'optim_config': self.optim_config,\n",
        "          'batch_size': self.batch_size,\n",
        "          'num_train_samples': self.num_train_samples,\n",
        "          'num_val_samples': self.num_val_samples,\n",
        "          'epoch': self.epoch,\n",
        "          'loss_history': self.loss_history,\n",
        "          'train_acc_history': self.train_acc_history,\n",
        "          'val_acc_history': self.val_acc_history,\n",
        "        }\n",
        "        filename = '%s_epoch_%d.pkl' % (self.checkpoint_name, self.epoch)\n",
        "        if self.verbose:\n",
        "            print('Saving checkpoint to \"%s\"' % filename)\n",
        "        with open(filename, 'wb') as f:\n",
        "            pickle.dump(checkpoint, f)\n",
        "\n",
        "\n",
        "    def check_accuracy(self, X, y, num_samples=None, batch_size=100):\n",
        "        \"\"\"\n",
        "        Check accuracy of the model on the provided data.\n",
        "\n",
        "        Inputs:\n",
        "        - X: Array of data, of shape (N, d_1, ..., d_k)\n",
        "        - y: Array of labels, of shape (N,)\n",
        "        - num_samples: If not None, subsample the data and only test the model\n",
        "          on num_samples datapoints.\n",
        "        - batch_size: Split X and y into batches of this size to avoid using\n",
        "          too much memory.\n",
        "\n",
        "        Returns:\n",
        "        - acc: Scalar giving the fraction of instances that were correctly\n",
        "          classified by the model.\n",
        "        \"\"\"\n",
        "\n",
        "        # Maybe subsample the data\n",
        "        N = X.shape[0]\n",
        "        if num_samples is not None and N > num_samples:\n",
        "            mask = np.random.choice(N, num_samples)\n",
        "            N = num_samples\n",
        "            X = X[mask]\n",
        "            y = y[mask]\n",
        "\n",
        "        # Compute predictions in batches\n",
        "        num_batches = N // batch_size\n",
        "        if N % batch_size != 0:\n",
        "            num_batches += 1\n",
        "        y_pred = []\n",
        "        for i in range(num_batches):\n",
        "            start = i * batch_size\n",
        "            end = (i + 1) * batch_size\n",
        "            scores = self.model.loss(X[start:end])\n",
        "            y_pred.append(np.argmax(scores, axis=1))\n",
        "        y_pred = np.hstack(y_pred)\n",
        "        acc = np.mean(y_pred == y)\n",
        "\n",
        "        return acc\n",
        "\n",
        "\n",
        "    def train(self):\n",
        "        \"\"\"\n",
        "        Run optimization to train the model.\n",
        "        \"\"\"\n",
        "        num_train = self.X_train.shape[0]\n",
        "        iterations_per_epoch = max(num_train // self.batch_size, 1)\n",
        "        num_iterations = self.num_epochs * iterations_per_epoch\n",
        "\n",
        "        for t in range(num_iterations):\n",
        "            self._step()\n",
        "\n",
        "            # Maybe print training loss\n",
        "            if self.verbose and t % self.print_every == 0:\n",
        "                print('(Iteration %d / %d) loss: %f' % (\n",
        "                       t + 1, num_iterations, self.loss_history[-1]))\n",
        "\n",
        "            # At the end of every epoch, increment the epoch counter and decay\n",
        "            # the learning rate.\n",
        "            epoch_end = (t + 1) % iterations_per_epoch == 0\n",
        "            if epoch_end:\n",
        "                self.epoch += 1\n",
        "                for k in self.optim_configs:\n",
        "                    self.optim_configs[k]['learning_rate'] *= self.lr_decay\n",
        "\n",
        "            # Check train and val accuracy on the first iteration, the last\n",
        "            # iteration, and at the end of each epoch.\n",
        "            first_it = (t == 0)\n",
        "            last_it = (t == num_iterations - 1)\n",
        "            if first_it or last_it or epoch_end:\n",
        "                train_acc = self.check_accuracy(self.X_train, self.y_train,\n",
        "                    num_samples=self.num_train_samples)\n",
        "                val_acc = self.check_accuracy(self.X_val, self.y_val,\n",
        "                    num_samples=self.num_val_samples)\n",
        "                self.train_acc_history.append(train_acc)\n",
        "                self.val_acc_history.append(val_acc)\n",
        "                self._save_checkpoint()\n",
        "\n",
        "                if self.verbose:\n",
        "                    print('(Epoch %d / %d) train acc: %f; val_acc: %f' % (\n",
        "                           self.epoch, self.num_epochs, train_acc, val_acc))\n",
        "\n",
        "                # Keep track of the best model\n",
        "                if val_acc > self.best_val_acc:\n",
        "                    self.best_val_acc = val_acc\n",
        "                    self.best_params = {}\n",
        "                    for k, v in self.model.params.items():\n",
        "                        self.best_params[k] = v.copy()\n",
        "\n",
        "        # At the end of training swap the best params into the model\n",
        "        self.model.params = self.best_params\n",
        "        "
      ],
      "execution_count": null,
      "outputs": []
    },
    {
      "cell_type": "markdown",
      "metadata": {
        "id": "s9Whx0mcdV1V"
      },
      "source": [
        "Depois disso, você deverá usar uma instância da classe `Solver` para treinar uma instância da classe `TwoLayerNet` sobre os dados da base CIFAR de forma a obter uma acurária de pelo menos `50%` sobre o conjunto de validação  (lembre-se de executar a célula anterior para que a classe seja definida)."
      ]
    },
    {
      "cell_type": "code",
      "metadata": {
        "id": "doczu1FwDLiT",
        "colab": {
          "base_uri": "https://localhost:8080/"
        },
        "outputId": "0e39ecca-49fe-4069-902a-762f3e9c26b2"
      },
      "source": [
        "model = TwoLayerNet()\n",
        "solver = None\n",
        "\n",
        "##############################################################################\n",
        "# TODO: Usar uma instância da classe Solver para treinar um modelo criado    #\n",
        "# usando a classe TwoLayerNet de forma a alcançar uma acurácia de pelo menos #\n",
        "# 50% sobre o conjunto de validação.                                         #\n",
        "##############################################################################\n",
        "\n",
        "solver = Solver(model, data,\n",
        "                  update_rule='sgd',\n",
        "                  optim_config={\n",
        "                    'learning_rate': 1e-3,\n",
        "                  },\n",
        "                  lr_decay=0.95,\n",
        "                  num_epochs=10, batch_size=128,\n",
        "                  print_every=100)\n",
        "solver.train()\n",
        "solver.best_val_acc\n",
        "\n",
        "##############################################################################\n",
        "#                            FIM DE SEU CÓDIGO                               #\n",
        "##############################################################################"
      ],
      "execution_count": null,
      "outputs": [
        {
          "output_type": "stream",
          "name": "stdout",
          "text": [
            "(Iteration 1 / 3820) loss: 2.304067\n",
            "(Epoch 0 / 10) train acc: 0.116000; val_acc: 0.098000\n",
            "(Iteration 101 / 3820) loss: 1.888432\n",
            "(Iteration 201 / 3820) loss: 1.795687\n",
            "(Iteration 301 / 3820) loss: 1.623116\n",
            "(Epoch 1 / 10) train acc: 0.432000; val_acc: 0.444000\n",
            "(Iteration 401 / 3820) loss: 1.544245\n",
            "(Iteration 501 / 3820) loss: 1.490040\n",
            "(Iteration 601 / 3820) loss: 1.540757\n",
            "(Iteration 701 / 3820) loss: 1.361803\n",
            "(Epoch 2 / 10) train acc: 0.500000; val_acc: 0.484000\n",
            "(Iteration 801 / 3820) loss: 1.402788\n",
            "(Iteration 901 / 3820) loss: 1.440921\n",
            "(Iteration 1001 / 3820) loss: 1.539622\n",
            "(Iteration 1101 / 3820) loss: 1.211048\n",
            "(Epoch 3 / 10) train acc: 0.490000; val_acc: 0.483000\n",
            "(Iteration 1201 / 3820) loss: 1.388970\n",
            "(Iteration 1301 / 3820) loss: 1.342081\n",
            "(Iteration 1401 / 3820) loss: 1.423658\n",
            "(Iteration 1501 / 3820) loss: 1.272621\n",
            "(Epoch 4 / 10) train acc: 0.515000; val_acc: 0.472000\n",
            "(Iteration 1601 / 3820) loss: 1.259922\n",
            "(Iteration 1701 / 3820) loss: 1.375741\n",
            "(Iteration 1801 / 3820) loss: 1.324034\n",
            "(Iteration 1901 / 3820) loss: 1.443741\n",
            "(Epoch 5 / 10) train acc: 0.521000; val_acc: 0.481000\n",
            "(Iteration 2001 / 3820) loss: 1.260389\n",
            "(Iteration 2101 / 3820) loss: 1.380867\n",
            "(Iteration 2201 / 3820) loss: 1.089083\n",
            "(Epoch 6 / 10) train acc: 0.565000; val_acc: 0.521000\n",
            "(Iteration 2301 / 3820) loss: 1.230021\n",
            "(Iteration 2401 / 3820) loss: 1.199565\n",
            "(Iteration 2501 / 3820) loss: 1.282024\n",
            "(Iteration 2601 / 3820) loss: 1.086304\n",
            "(Epoch 7 / 10) train acc: 0.562000; val_acc: 0.499000\n",
            "(Iteration 2701 / 3820) loss: 1.163325\n",
            "(Iteration 2801 / 3820) loss: 1.264473\n",
            "(Iteration 2901 / 3820) loss: 1.009734\n",
            "(Iteration 3001 / 3820) loss: 1.181399\n",
            "(Epoch 8 / 10) train acc: 0.571000; val_acc: 0.468000\n",
            "(Iteration 3101 / 3820) loss: 1.059129\n",
            "(Iteration 3201 / 3820) loss: 1.137181\n",
            "(Iteration 3301 / 3820) loss: 0.982768\n",
            "(Iteration 3401 / 3820) loss: 1.095761\n",
            "(Epoch 9 / 10) train acc: 0.600000; val_acc: 0.518000\n",
            "(Iteration 3501 / 3820) loss: 0.942367\n",
            "(Iteration 3601 / 3820) loss: 1.167762\n",
            "(Iteration 3701 / 3820) loss: 1.073043\n",
            "(Iteration 3801 / 3820) loss: 1.194270\n",
            "(Epoch 10 / 10) train acc: 0.579000; val_acc: 0.515000\n"
          ]
        },
        {
          "output_type": "execute_result",
          "data": {
            "text/plain": [
              "0.521"
            ]
          },
          "metadata": {},
          "execution_count": 22
        }
      ]
    },
    {
      "cell_type": "markdown",
      "metadata": {
        "id": "6pfFW4UDeUR-"
      },
      "source": [
        "## Visualizando Perda e Acurácia durante o Treinamento"
      ]
    },
    {
      "cell_type": "code",
      "metadata": {
        "id": "_Z530SodDLiW",
        "colab": {
          "base_uri": "https://localhost:8080/",
          "height": 730
        },
        "outputId": "d1293cb4-6517-4eff-b7bd-56e7c506162b"
      },
      "source": [
        "# Execute esta célula para visualizar a perda durante o treinamento e a acurácia\n",
        "# tanto sobre o conjunto de treinamento quanto sobre o conjunto de validação.\n",
        "\n",
        "plt.subplot(2, 1, 1)\n",
        "plt.title('Training loss')\n",
        "plt.plot(solver.loss_history, 'o')\n",
        "plt.xlabel('Iteration')\n",
        "\n",
        "plt.subplot(2, 1, 2)\n",
        "plt.title('Accuracy')\n",
        "plt.plot(solver.train_acc_history, '-o', label='train')\n",
        "plt.plot(solver.val_acc_history, '-o', label='val')\n",
        "plt.plot([0.5] * len(solver.val_acc_history), 'k--')\n",
        "plt.xlabel('Epoch')\n",
        "plt.legend(loc='lower right')\n",
        "plt.gcf().set_size_inches(15, 12)\n",
        "plt.show()"
      ],
      "execution_count": null,
      "outputs": [
        {
          "output_type": "display_data",
          "data": {
            "image/png": "[encoded data removed]",
            "text/plain": [
              "<Figure size 1080x864 with 2 Axes>"
            ]
          },
          "metadata": {
            "needs_background": "light"
          }
        }
      ]
    },
    {
      "cell_type": "markdown",
      "metadata": {
        "id": "wNDpSBv13RC3"
      },
      "source": [
        "# Batch Normalization\n",
        "\n",
        "Uma forma de tornar redes profundas mais fáceis de treinar é utilizar procedimentos de otimização mais sofisticados como, por exemplo, SGD+momento, RMSProp ou Adam. Uma outra estratégia é modificar a arquitetura da rede de forma a torná-la mais fáceil de treinar. Uma ideia nesse sentido é usar *batch normalization* (ou 'normalização em lote') que foi proposta em [1].\n",
        "\n",
        "A ideia em si é relativamente simples. Métodos de aprendizado de máquina tendem a trabalhar melhor quando sua entrada de dados consiste de características (*features*) não-correlacionadas com média zero e variância unitária. Quando uma rede neural é treinada, pode-se preprocessar os dados antes de utilizá-los no treinamento da rede de forma a explicitamente eliminar qualquer correlação que suas características (*features*) apresentem; isto irá assegurar que a primeira camada da rede receba dados que seguem uma distribuição \"adequada\". \n",
        "\n",
        "Entretanto, mesmo que se preprocessem os dados de entrada, as ativações nas camadas mais profundas da rede provavelmente irão apresentar alguma correlação e não mais terão média nula e/ou variância unitária, uma vez que são produzidas a partir de camadas anteriores da própria rede. Pior ainda, durante o processo de treinamento a distribuição de características (*features*) em cada camada da rede irá se alterar na medida que os pesos de cada camada são atualizados.\n",
        "\n",
        "Os autores de [1] fizeram a hipótese de que a modificação da distribuição de características (*features*) dentro de redes neurais profundas pode tornar seu treinamento mais difícil. Para contornar esse problema, eles propuseram a inserção na rede de camadas de normalização - denominadas de *batch normalization*. Durante o treinamento, uma camada de *batch normalization* utiliza os dados de um *minibatch* para estimar a média e o desvio padrão de cada característica (*feature*). Então, tais estimativas são usadas para se *centralizar* e normalizar as características(*features*)  dos dados do *minibatch*. Médias móveis de tais estimativas são mantidas durante o treinamento, de modo que, durante o período de teste, elas possam ser usadas para *centralizar* e normalizar as características (*features*) dos dados de teste.\n",
        "\n",
        "É possível que esta estratégia de normalização possa reduzir a capacidade de representação de uma rede, uma vez que. em alguns casos, talvez fosse ideal para certas camadas ter características cujas médias não são nula ou que não apresentem variâncias unitárias. Dessa forma, as camadas de *batch normalization* devem incluir parâmetros de deslocamento (*shift*) e escala (*scale*) que devem ser aprendidos para cada dimensão independentemente durante o treinamento.\n",
        "\n",
        "[1] Sergey Ioffe and Christian Szegedy, \"Batch Normalization: Accelerating Deep Network Training by Reducing Internal Covariate Shift\", ICML 2015."
      ]
    },
    {
      "cell_type": "markdown",
      "metadata": {
        "id": "9wPxQUlrJsrl"
      },
      "source": [
        "## Camada de *Batch Normalization*: *Forward pass*\n",
        "\n",
        "Analise a implementação da função de ativação (*forward pass*) para camada *batch normalization* codificada pela função `batchnorm_forward` na célula a seguir.\n"
      ]
    },
    {
      "cell_type": "code",
      "metadata": {
        "id": "3mQLTG4Kg8d9"
      },
      "source": [
        "def batchnorm_forward(x, gamma, beta, bn_param):\n",
        "    \"\"\"\n",
        "    Forward pass for batch normalization.\n",
        "\n",
        "    During training the sample mean and (uncorrected) sample variance are\n",
        "    computed from minibatch statistics and used to normalize the incoming data.\n",
        "    During training we also keep an exponentially decaying running mean of the\n",
        "    mean and variance of each feature, and these averages are used to normalize\n",
        "    data at test-time.\n",
        "\n",
        "    At each timestep we update the running averages for mean and variance using\n",
        "    an exponential decay based on the momentum parameter:\n",
        "\n",
        "    running_mean = momentum * running_mean + (1 - momentum) * sample_mean\n",
        "    running_var = momentum * running_var + (1 - momentum) * sample_var\n",
        "\n",
        "    Note that the batch normalization paper suggests a different test-time\n",
        "    behavior: they compute sample mean and variance for each feature using a\n",
        "    large number of training images rather than using a running average. For\n",
        "    this implementation we have chosen to use running averages instead since\n",
        "    they do not require an additional estimation step; the torch7\n",
        "    implementation of batch normalization also uses running averages.\n",
        "\n",
        "    Input:\n",
        "    - x: Data of shape (N, D)\n",
        "    - gamma: Scale parameter of shape (D,)\n",
        "    - beta: Shift paremeter of shape (D,)\n",
        "    - bn_param: Dictionary with the following keys:\n",
        "      - mode: 'train' or 'test'; required\n",
        "      - eps: Constant for numeric stability\n",
        "      - momentum: Constant for running mean / variance.\n",
        "      - running_mean: Array of shape (D,) giving running mean of features\n",
        "      - running_var Array of shape (D,) giving running variance of features\n",
        "\n",
        "    Returns a tuple of:\n",
        "    - out: of shape (N, D)\n",
        "    - cache: A tuple of values needed in the backward pass\n",
        "    \"\"\"\n",
        "    mode = bn_param['mode']\n",
        "    eps = bn_param.get('eps', 1e-5)\n",
        "    momentum = bn_param.get('momentum', 0.9)\n",
        "\n",
        "    N, D = x.shape\n",
        "    running_mean = bn_param.get('running_mean', np.zeros(D, dtype=x.dtype))\n",
        "    running_var = bn_param.get('running_var', np.zeros(D, dtype=x.dtype))\n",
        "\n",
        "    out, cache = None, None\n",
        "    if mode == 'train':\n",
        "\n",
        "        #######################################################################\n",
        "        # Forward pass\n",
        "        # Step 1 - shape of mu (D,)\n",
        "        mu = 1 / float(N) * np.sum(x, axis=0)\n",
        "\n",
        "        # Step 2 - shape of var (N,D)\n",
        "        xmu = x - mu\n",
        "\n",
        "        # Step 3 - shape of carre (N,D)\n",
        "        carre = xmu**2\n",
        "\n",
        "        # Step 4 - shape of var (D,)\n",
        "        var = 1 / float(N) * np.sum(carre, axis=0)\n",
        "\n",
        "        # Step 5 - Shape sqrtvar (D,)\n",
        "        sqrtvar = np.sqrt(var + eps)\n",
        "\n",
        "        # Step 6 - Shape invvar (D,)\n",
        "        invvar = 1. / sqrtvar\n",
        "\n",
        "        # Step 7 - Shape va2 (N,D)\n",
        "        va2 = xmu * invvar\n",
        "\n",
        "        # Step 8 - Shape va3 (N,D)\n",
        "        va3 = gamma * va2\n",
        "\n",
        "        # Step 9 - Shape out (N,D)\n",
        "        out = va3 + beta\n",
        "\n",
        "        running_mean = momentum * running_mean + (1.0 - momentum) * mu\n",
        "        running_var = momentum * running_var + (1.0 - momentum) * var\n",
        "\n",
        "        cache = (mu, xmu, carre, var, sqrtvar, invvar,\n",
        "                 va2, va3, gamma, beta, x, bn_param)\n",
        "\n",
        "        #######################################################################\n",
        "        \n",
        "    elif mode == 'test':\n",
        "\n",
        "        #######################################################################\n",
        "        mu = running_mean\n",
        "        var = running_var\n",
        "        xhat = (x - mu) / np.sqrt(var + eps)\n",
        "        out = gamma * xhat + beta\n",
        "        cache = (mu, var, gamma, beta, bn_param)    \n",
        "\n",
        "        #######################################################################\n",
        "    else:\n",
        "        raise ValueError('Invalid forward batchnorm mode \"%s\"' % mode)\n",
        "\n",
        "    # Store the updated running means back into bn_param\n",
        "    bn_param['running_mean'] = running_mean\n",
        "    bn_param['running_var'] = running_var\n",
        "\n",
        "    return out, cache\n"
      ],
      "execution_count": null,
      "outputs": []
    },
    {
      "cell_type": "markdown",
      "metadata": {
        "id": "5sBgLrGMg6fF"
      },
      "source": [
        "Em seguida, você pode testar essa implementação utilizando os trechos de código nas células a seguir (lembre-se de executar a célula anterior para que a função seja definida):"
      ]
    },
    {
      "cell_type": "code",
      "metadata": {
        "id": "57DCIeJLJsrm",
        "colab": {
          "base_uri": "https://localhost:8080/"
        },
        "outputId": "4a51ba74-4858-4167-e1a3-9b9cd40ffbdf"
      },
      "source": [
        "# Checa o 'forward pass' durante o treinamento por meio da verificação de médias e variâncias \n",
        "# das características tanto antes quanto depois da camada de 'batch normalization'\n",
        "\n",
        "# Simula o 'forward pass' para uma rede de 2-camadas\n",
        "np.random.seed(231)\n",
        "N, D1, D2, D3 = 200, 50, 60, 3\n",
        "X = np.random.randn(N, D1)\n",
        "W1 = np.random.randn(D1, D2)\n",
        "W2 = np.random.randn(D2, D3)\n",
        "a = np.maximum(0, X.dot(W1)).dot(W2)\n",
        "\n",
        "print('Before batch normalization:')\n",
        "print('  means: ', a.mean(axis=0))\n",
        "print('  stds: ', a.std(axis=0))\n",
        "\n",
        "# Médias devem estar próximas de zero e desvios padrões próximos de um\n",
        "print('After batch normalization (gamma=1, beta=0)')\n",
        "a_norm, _ = batchnorm_forward(a, np.ones(D3), np.zeros(D3), {'mode': 'train'})\n",
        "print('  mean: ', a_norm.mean(axis=0))\n",
        "print('  std: ', a_norm.std(axis=0))\n",
        "\n",
        "# Agora, médias devem estar próximas de 'beta' e desvios padrões próximos de 'gamma'\n",
        "gamma = np.asarray([1.0, 2.0, 3.0])\n",
        "beta = np.asarray([11.0, 12.0, 13.0])\n",
        "a_norm, _ = batchnorm_forward(a, gamma, beta, {'mode': 'train'})\n",
        "print('After batch normalization (nontrivial gamma, beta)')\n",
        "print('  means: ', a_norm.mean(axis=0))\n",
        "print('  stds: ', a_norm.std(axis=0))"
      ],
      "execution_count": null,
      "outputs": [
        {
          "output_type": "stream",
          "name": "stdout",
          "text": [
            "Before batch normalization:\n",
            "  means:  [ -2.3814598  -13.18038246   1.91780462]\n",
            "  stds:  [27.18502186 34.21455511 37.68611762]\n",
            "After batch normalization (gamma=1, beta=0)\n",
            "  mean:  [5.99520433e-17 6.93889390e-17 8.32667268e-19]\n",
            "  std:  [0.99999999 1.         1.        ]\n",
            "After batch normalization (nontrivial gamma, beta)\n",
            "  means:  [11. 12. 13.]\n",
            "  stds:  [0.99999999 1.99999999 2.99999999]\n"
          ]
        }
      ]
    },
    {
      "cell_type": "code",
      "metadata": {
        "id": "kFHytDV_Jsrp",
        "colab": {
          "base_uri": "https://localhost:8080/"
        },
        "outputId": "a09dfc9b-cd08-4fa3-eba1-afda2af9fb73"
      },
      "source": [
        "# Checa o 'forward pass' durante o teste por meio da execução do 'forward pass' em modo de \n",
        "# treinamento por várias vezes de forma a obter médias móveis significativas (aquecimento);\n",
        "# para, em seguida, checar as médias e variâncias das ativações após o 'forward pass' em modo  \n",
        "# de teste.\n",
        "\n",
        "np.random.seed(231)\n",
        "N, D1, D2, D3 = 200, 50, 60, 3\n",
        "W1 = np.random.randn(D1, D2)\n",
        "W2 = np.random.randn(D2, D3)\n",
        "\n",
        "# Realiza \"aquecimento\" para se obter médias móveis significativas\n",
        "bn_param = {'mode': 'train'}\n",
        "gamma = np.ones(D3)\n",
        "beta = np.zeros(D3)\n",
        "for t in range(50):\n",
        "  X = np.random.randn(N, D1)\n",
        "  a = np.maximum(0, X.dot(W1)).dot(W2)\n",
        "  batchnorm_forward(a, gamma, beta, bn_param)\n",
        "\n",
        "# Altera para modo de teste de forma a utilizar as médias móveis obtidas anteriormente\n",
        "bn_param['mode'] = 'test'\n",
        "X = np.random.randn(N, D1)\n",
        "a = np.maximum(0, X.dot(W1)).dot(W2)\n",
        "a_norm, _ = batchnorm_forward(a, gamma, beta, bn_param)\n",
        "\n",
        "# Médias devem estar próximas de zero e desvios padrões próximos de um,\n",
        "# porém devem apresentar um 'ruído' maior que aquele observado durante o treinamento.\n",
        "print('After batch normalization (test-time):')\n",
        "print('  means: ', a_norm.mean(axis=0))\n",
        "print('  stds: ', a_norm.std(axis=0))"
      ],
      "execution_count": null,
      "outputs": [
        {
          "output_type": "stream",
          "name": "stdout",
          "text": [
            "After batch normalization (test-time):\n",
            "  means:  [-0.03927354 -0.04349152 -0.10452688]\n",
            "  stds:  [1.01531428 1.01238373 0.97819988]\n"
          ]
        }
      ]
    },
    {
      "cell_type": "markdown",
      "metadata": {
        "id": "RHJSsOjhJsrt"
      },
      "source": [
        "## Camada de *Batch Normalization*: *Backward pass*\n",
        "\n",
        "Agora, analise a implementação da função `batchnorm_backward` na célula a seguir.\n"
      ]
    },
    {
      "cell_type": "code",
      "metadata": {
        "id": "zagO0f6kimSD"
      },
      "source": [
        "def batchnorm_backward(dout, cache):\n",
        "    \"\"\"\n",
        "    Backward pass for batch normalization.\n",
        "\n",
        "    For this implementation, you should write out a computation graph for\n",
        "    batch normalization on paper and propagate gradients backward through\n",
        "    intermediate nodes.\n",
        "\n",
        "    Inputs:\n",
        "    - dout: Upstream derivatives, of shape (N, D)\n",
        "    - cache: Variable of intermediates from batchnorm_forward.\n",
        "\n",
        "    Returns a tuple of:\n",
        "    - dx: Gradient with respect to inputs x, of shape (N, D)\n",
        "    - dgamma: Gradient with respect to scale parameter gamma, of shape (D,)\n",
        "    - dbeta: Gradient with respect to shift parameter beta, of shape (D,)\n",
        "    \"\"\"\n",
        "    dx, dgamma, dbeta = None, None, None\n",
        "    ###########################################################################\n",
        "\n",
        "    mu, xmu, carre, var, sqrtvar, invvar, va2, va3, gamma, beta, x, bn_param = cache\n",
        "    eps = bn_param.get('eps', 1e-5)\n",
        "    N, D = dout.shape\n",
        "\n",
        "    # Backprop Step 9\n",
        "    dva3 = dout\n",
        "    dbeta = np.sum(dout, axis=0)\n",
        "\n",
        "    # Backprop step 8\n",
        "    dva2 = gamma * dva3\n",
        "    dgamma = np.sum(va2 * dva3, axis=0)\n",
        "\n",
        "    # Backprop step 7\n",
        "    dxmu = invvar * dva2\n",
        "    dinvvar = np.sum(xmu * dva2, axis=0)\n",
        "\n",
        "    # Backprop step 6\n",
        "    dsqrtvar = -1. / (sqrtvar**2) * dinvvar\n",
        "\n",
        "    # Backprop step 5\n",
        "    dvar = 0.5 * (var + eps)**(-0.5) * dsqrtvar\n",
        "\n",
        "    # Backprop step 4\n",
        "    dcarre = 1 / float(N) * np.ones((carre.shape)) * dvar\n",
        "\n",
        "    # Backprop step 3\n",
        "    dxmu += 2 * xmu * dcarre\n",
        "\n",
        "    # Backprop step 2\n",
        "    dx = dxmu\n",
        "    dmu = - np.sum(dxmu, axis=0)\n",
        "\n",
        "    # Basckprop step 1\n",
        "    dx += 1 / float(N) * np.ones((dxmu.shape)) * dmu\n",
        "\n",
        "    ###########################################################################\n",
        "\n",
        "    return dx, dgamma, dbeta\n"
      ],
      "execution_count": null,
      "outputs": []
    },
    {
      "cell_type": "markdown",
      "metadata": {
        "id": "a1gvVJrYimzR"
      },
      "source": [
        "Em seguida, você pode testar essa implementação utilizando o trecho de código abaixo que faz verificação numérica do gradiente (lembre-se de executar a célula anterior para que a função seja definida):"
      ]
    },
    {
      "cell_type": "code",
      "metadata": {
        "id": "OlHx3mXSJsrt",
        "colab": {
          "base_uri": "https://localhost:8080/"
        },
        "outputId": "ffd413e4-dce9-4219-b966-54ebb460f4b7"
      },
      "source": [
        "# Verificação do 'backward pass' da camada de 'batch normalization'\n",
        "np.random.seed(231)\n",
        "N, D = 4, 5\n",
        "x = 5 * np.random.randn(N, D) + 12\n",
        "gamma = np.random.randn(D)\n",
        "beta = np.random.randn(D)\n",
        "dout = np.random.randn(N, D)\n",
        "\n",
        "bn_param = {'mode': 'train'}\n",
        "fx = lambda x: batchnorm_forward(x, gamma, beta, bn_param)[0]\n",
        "fg = lambda a: batchnorm_forward(x, a, beta, bn_param)[0]\n",
        "fb = lambda b: batchnorm_forward(x, gamma, b, bn_param)[0]\n",
        "\n",
        "dx_num = eval_numerical_gradient_array(fx, x, dout)\n",
        "da_num = eval_numerical_gradient_array(fg, gamma.copy(), dout)\n",
        "db_num = eval_numerical_gradient_array(fb, beta.copy(), dout)\n",
        "\n",
        "_, cache = batchnorm_forward(x, gamma, beta, bn_param)\n",
        "dx, dgamma, dbeta = batchnorm_backward(dout, cache)\n",
        "print('dx error: ', rel_error(dx_num, dx))\n",
        "print('dgamma error: ', rel_error(da_num, dgamma))\n",
        "print('dbeta error: ', rel_error(db_num, dbeta))"
      ],
      "execution_count": null,
      "outputs": [
        {
          "output_type": "stream",
          "name": "stdout",
          "text": [
            "dx error:  1.6674604875341426e-09\n",
            "dgamma error:  7.417225040694815e-13\n",
            "dbeta error:  2.379446949959628e-12\n"
          ]
        }
      ]
    },
    {
      "cell_type": "markdown",
      "metadata": {
        "id": "dCQtzYwn3y84"
      },
      "source": [
        "# *Dropout*\n",
        "\n",
        "*Dropout* [1] é uma técnica para regularização de redes neurais por meio da atribuição de zero para algumas características (*features*) de forma aleatória durante o *forward pass*. \n",
        "\n",
        "A seguir, você irá examinar a imeplementação de uma camada de *dropout* e mais adiante sua implementação de rede completamente conectada poderá opcionalmente utilizar essa técnica.\n",
        "\n",
        "[1] Geoffrey E. Hinton et al, \"Improving neural networks by preventing co-adaptation of feature detectors\", arXiv 2012"
      ]
    },
    {
      "cell_type": "markdown",
      "metadata": {
        "id": "AbnX13OMjfZZ"
      },
      "source": [
        "## Camada de *Dropout*: *forward pass*\n",
        "\n",
        "Analise a implementação da função de ativação (*forward pass*) para camada *dropout* codificada pela função `dropout_forward` na célula a seguir.\n",
        "\n",
        "Uma vez que a técnica de *dropout* funciona completamente diferente durante os modos de treino e teste, você deve se assegurar de compreender a implementação a operação para ambos os modos.\n"
      ]
    },
    {
      "cell_type": "code",
      "metadata": {
        "id": "FTfLLqcCj4jB"
      },
      "source": [
        "def dropout_forward(x, dropout_param):\n",
        "    \"\"\"\n",
        "    Performs the forward pass for (inverted) dropout.\n",
        "\n",
        "    Inputs:\n",
        "    - x: Input data, of any shape\n",
        "    - dropout_param: A dictionary with the following keys:\n",
        "      - p: Dropout parameter. We drop each neuron output with probability p.\n",
        "      - mode: 'test' or 'train'. If the mode is train, then perform dropout;\n",
        "        if the mode is test, then just return the input.\n",
        "      - seed: Seed for the random number generator. Passing seed makes this\n",
        "        function deterministic, which is needed for gradient checking but not\n",
        "        in real networks.\n",
        "\n",
        "    Outputs:\n",
        "    - out: Array of the same shape as x.\n",
        "    - cache: tuple (dropout_param, mask). In training mode, mask is the dropout\n",
        "      mask that was used to multiply the input; in test mode, mask is None.\n",
        "    \"\"\"\n",
        "    p, mode = dropout_param['p'], dropout_param['mode']\n",
        "    if 'seed' in dropout_param:\n",
        "        np.random.seed(dropout_param['seed'])\n",
        "\n",
        "    mask = None\n",
        "    out = None\n",
        "\n",
        "    if mode == 'train':\n",
        "      \n",
        "        #######################################################################\n",
        "\n",
        "        mask = (np.random.rand(*x.shape) < p) / p\n",
        "        out = x * mask\n",
        "\n",
        "        #######################################################################\n",
        "        \n",
        "    elif mode == 'test':\n",
        "      \n",
        "        #######################################################################\n",
        "\n",
        "        out = x\n",
        "        \n",
        "        #######################################################################\n",
        "\n",
        "    cache = (dropout_param, mask)\n",
        "    out = out.astype(x.dtype, copy=False)\n",
        "\n",
        "    return out, cache\n",
        "\n"
      ],
      "execution_count": null,
      "outputs": []
    },
    {
      "cell_type": "markdown",
      "metadata": {
        "id": "XJ5N38k1j5l8"
      },
      "source": [
        "Em seguida, você pode testar essa implementação utilizando os trechos de código nas células a seguir (lembre-se de executar a célula anterior para que a função seja definida):"
      ]
    },
    {
      "cell_type": "code",
      "metadata": {
        "id": "HKrgqg8Fjgla",
        "colab": {
          "base_uri": "https://localhost:8080/"
        },
        "outputId": "3a56d6f7-7d82-480e-b8f6-ba4c64af2019"
      },
      "source": [
        "np.random.seed(231)\n",
        "x = np.random.randn(500, 500) + 10\n",
        "\n",
        "for p in [0.3, 0.6, 0.75]:\n",
        "  out, _ = dropout_forward(x, {'mode': 'train', 'p': p})\n",
        "  out_test, _ = dropout_forward(x, {'mode': 'test', 'p': p})\n",
        "\n",
        "  print('Running tests with p = ', p)\n",
        "  print('Mean of input: ', x.mean())\n",
        "  print('Mean of train-time output: ', out.mean())\n",
        "  print('Mean of test-time output: ', out_test.mean())\n",
        "  print('Fraction of train-time output set to zero: ', (out == 0).mean())\n",
        "  print('Fraction of test-time output set to zero: ', (out_test == 0).mean())\n",
        "  print()"
      ],
      "execution_count": null,
      "outputs": [
        {
          "output_type": "stream",
          "name": "stdout",
          "text": [
            "Running tests with p =  0.3\n",
            "Mean of input:  10.000207878477502\n",
            "Mean of train-time output:  10.035072797050494\n",
            "Mean of test-time output:  10.000207878477502\n",
            "Fraction of train-time output set to zero:  0.699124\n",
            "Fraction of test-time output set to zero:  0.0\n",
            "\n",
            "Running tests with p =  0.6\n",
            "Mean of input:  10.000207878477502\n",
            "Mean of train-time output:  9.976910758765856\n",
            "Mean of test-time output:  10.000207878477502\n",
            "Fraction of train-time output set to zero:  0.401368\n",
            "Fraction of test-time output set to zero:  0.0\n",
            "\n",
            "Running tests with p =  0.75\n",
            "Mean of input:  10.000207878477502\n",
            "Mean of train-time output:  9.993068588261146\n",
            "Mean of test-time output:  10.000207878477502\n",
            "Fraction of train-time output set to zero:  0.250496\n",
            "Fraction of test-time output set to zero:  0.0\n",
            "\n"
          ]
        }
      ]
    },
    {
      "cell_type": "markdown",
      "metadata": {
        "id": "MUcdyuJKjo5c"
      },
      "source": [
        "## Camada de *Dropout*: *backward pass*\n",
        "\n",
        "Agora, analise a implementação do *backward pass* da camada de *dropout* na função `dropout_backward` na célula a seguir.\n"
      ]
    },
    {
      "cell_type": "code",
      "metadata": {
        "id": "h8Zjw4fGj-ar"
      },
      "source": [
        "def dropout_backward(dout, cache):\n",
        "    \"\"\"\n",
        "    Perform the backward pass for (inverted) dropout.\n",
        "\n",
        "    Inputs:\n",
        "    - dout: Upstream derivatives, of any shape\n",
        "    - cache: (dropout_param, mask) from dropout_forward.\n",
        "    \"\"\"\n",
        "    dropout_param, mask = cache\n",
        "    mode = dropout_param['mode']\n",
        "\n",
        "    dx = None\n",
        "    if mode == 'train':\n",
        "        #######################################################################\n",
        "        \n",
        "        dx = dout * mask\n",
        "        \n",
        "        #######################################################################\n",
        "    elif mode == 'test':\n",
        "      \n",
        "        dx = dout\n",
        "        \n",
        "    return dx\n"
      ],
      "execution_count": null,
      "outputs": []
    },
    {
      "cell_type": "markdown",
      "metadata": {
        "id": "Y6b0klYlj-Go"
      },
      "source": [
        "Em seguida, você pode testar essa implementação utilizando o trecho de código abaixo que faz verificação numérica do gradiente (lembre-se de executar a célula anterior para que a função seja definida):"
      ]
    },
    {
      "cell_type": "code",
      "metadata": {
        "id": "HLv7HTDFjqXo",
        "colab": {
          "base_uri": "https://localhost:8080/"
        },
        "outputId": "501f7460-669a-4667-87e2-57dcd49c2ae5"
      },
      "source": [
        "np.random.seed(231)\n",
        "x = np.random.randn(10, 10) + 10\n",
        "dout = np.random.randn(*x.shape)\n",
        "\n",
        "dropout_param = {'mode': 'train', 'p': 0.8, 'seed': 123}\n",
        "out, cache = dropout_forward(x, dropout_param)\n",
        "dx = dropout_backward(dout, cache)\n",
        "dx_num = eval_numerical_gradient_array(lambda xx: dropout_forward(xx, dropout_param)[0], x, dout)\n",
        "\n",
        "print('dx relative error: ', rel_error(dx, dx_num))"
      ],
      "execution_count": null,
      "outputs": [
        {
          "output_type": "stream",
          "name": "stdout",
          "text": [
            "dx relative error:  5.445612718272284e-11\n"
          ]
        }
      ]
    },
    {
      "cell_type": "markdown",
      "metadata": {
        "id": "LHsoxmP2DLiZ"
      },
      "source": [
        "# Redes Multicamadas\n",
        "\n",
        "A seguir, você irá implementar e testar uma rede completamente conectada com um número arbitrário de camadas.\n",
        "\n",
        "Leia e estude a implementação da classe `FullyConnectedNet` fornecida na célula a seguir.\n",
        "\n",
        "Você deve se preocupar com a implementação da inicialização, bem como do *forward pass* e do *backward pass*. Por enquanto, não se preocupe com a implementação de *dropout* ou de *batch normalization*, pois você irá explorar essas técnicas em outras atividades mais adiante."
      ]
    },
    {
      "cell_type": "code",
      "metadata": {
        "id": "Jpz1pREjgIm1"
      },
      "source": [
        "class FullyConnectedNet(object):\n",
        "    \"\"\"\n",
        "    A fully-connected neural network with an arbitrary number of hidden layers,\n",
        "    ReLU nonlinearities, and a softmax loss function. This will also implement\n",
        "    dropout and batch normalization as options. For a network with L layers,\n",
        "    the architecture will be\n",
        "\n",
        "    {affine - [batch norm] - relu - [dropout]} x (L - 1) - affine - softmax\n",
        "\n",
        "    where batch normalization and dropout are optional, and the {...} block is\n",
        "    repeated L - 1 times.\n",
        "\n",
        "    Similar to the TwoLayerNet above, learnable parameters are stored in the\n",
        "    self.params dictionary and will be learned using the Solver class.\n",
        "    \"\"\"\n",
        "\n",
        "    def __init__(self, hidden_dims, input_dim=3*32*32, num_classes=10,\n",
        "                 dropout=0, use_batchnorm=False, reg=0.0,\n",
        "                 weight_scale=1e-2, dtype=np.float32, seed=None):\n",
        "        \"\"\"\n",
        "        Initialize a new FullyConnectedNet.\n",
        "\n",
        "        Inputs:\n",
        "        - hidden_dims: A list of integers giving the size of each hidden layer.\n",
        "        - input_dim: An integer giving the size of the input.\n",
        "        - num_classes: An integer giving the number of classes to classify.\n",
        "        - dropout: Scalar between 0 and 1 giving dropout strength. If dropout=0 then\n",
        "          the network should not use dropout at all.\n",
        "        - use_batchnorm: Whether or not the network should use batch normalization.\n",
        "        - reg: Scalar giving L2 regularization strength.\n",
        "        - weight_scale: Scalar giving the standard deviation for random\n",
        "          initialization of the weights.\n",
        "        - dtype: A numpy datatype object; all computations will be performed using\n",
        "          this datatype. float32 is faster but less accurate, so you should use\n",
        "          float64 for numeric gradient checking.\n",
        "        - seed: If not None, then pass this random seed to the dropout layers. This\n",
        "          will make the dropout layers deteriminstic so we can gradient check the\n",
        "          model.\n",
        "        \"\"\"\n",
        "        self.use_batchnorm = use_batchnorm\n",
        "        self.use_dropout = dropout > 0\n",
        "        self.reg = reg\n",
        "        self.num_layers = 1 + len(hidden_dims)\n",
        "        self.dtype = dtype\n",
        "        self.params = {}\n",
        "\n",
        "        ############################################################################\n",
        "        if type(hidden_dims) != list:\n",
        "            raise ValueError('hidden_dim has to be a list')\n",
        "\n",
        "        self.L = len(hidden_dims) + 1\n",
        "        self.N = input_dim\n",
        "        self.C = num_classes\n",
        "        dims = [self.N] + hidden_dims + [self.C]\n",
        "        Ws = {'W' + str(i + 1):\n",
        "              weight_scale * np.random.randn(dims[i], dims[i + 1]) for i in range(len(dims) - 1)}\n",
        "        b = {'b' + str(i + 1): np.zeros(dims[i + 1])\n",
        "             for i in range(len(dims) - 1)}\n",
        "\n",
        "        self.params.update(b)\n",
        "        self.params.update(Ws)\n",
        "\n",
        "        ############################################################################\n",
        "\n",
        "        # When using dropout we need to pass a dropout_param dictionary to each\n",
        "        # dropout layer so that the layer knows the dropout probability and the mode\n",
        "        # (train / test). You can pass the same dropout_param to each dropout layer.\n",
        "        \n",
        "        self.dropout_param = {}\n",
        "        if self.use_dropout:\n",
        "            self.dropout_param = {'mode': 'train', 'p': dropout}\n",
        "            if seed is not None:\n",
        "                self.dropout_param['seed'] = seed\n",
        "\n",
        "        # With batch normalization we need to keep track of running means and\n",
        "        # variances, so we need to pass a special bn_param object to each batch\n",
        "        # normalization layer. You should pass self.bn_params[0] to the forward pass\n",
        "        # of the first batch normalization layer, self.bn_params[1] to the forward\n",
        "        # pass of the second batch normalization layer, etc.\n",
        "        \n",
        "        self.bn_params = []\n",
        "        if self.use_batchnorm:\n",
        "            # self.bn_params = [{'mode': 'train'} for i in range(self.num_layers - 1)]\n",
        "            print('We use batchnorm here')\n",
        "            self.bn_params = {'bn_param' + str(i + 1): {'mode': 'train',\n",
        "                                                        'running_mean': np.zeros(dims[i + 1]),\n",
        "                                                        'running_var': np.zeros(dims[i + 1])}\n",
        "                              for i in iter(range(len(dims) - 2))}\n",
        "            gammas = {'gamma' + str(i + 1):\n",
        "                      np.ones(dims[i + 1]) for i in range(len(dims) - 2)}\n",
        "            betas = {'beta' + str(i + 1): np.zeros(dims[i + 1])\n",
        "                     for i in range(len(dims) - 2)}\n",
        "\n",
        "            self.params.update(betas)\n",
        "            self.params.update(gammas)\n",
        "\n",
        "        # Cast all parameters to the correct datatype\n",
        "        for k, v in self.params.items():\n",
        "            self.params[k] = v.astype(dtype)\n",
        "\n",
        "\n",
        "    def loss(self, X, y=None):\n",
        "        \"\"\"\n",
        "        Compute loss and gradient for the fully-connected net.\n",
        "\n",
        "        Input / output: Same as TwoLayerNet above.\n",
        "        \"\"\"\n",
        "        X = X.astype(self.dtype)\n",
        "        mode = 'test' if y is None else 'train'\n",
        "\n",
        "        # Set train/test mode for batchnorm params and dropout param since they\n",
        "        # behave differently during training and testing.\n",
        "        if self.use_dropout:\n",
        "            self.dropout_param['mode'] = mode\n",
        "        if self.use_batchnorm:\n",
        "            for key, bn_param in self.bn_params.items():\n",
        "                bn_param[mode] = mode\n",
        "\n",
        "        scores = None\n",
        "\n",
        "        ############################################################################\n",
        "        # We are gonna store everythin in a dictionnary hidden\n",
        "        \n",
        "        hidden = {}\n",
        "        hidden['h0'] = X.reshape(X.shape[0], np.prod(X.shape[1:]))\n",
        "        if self.use_dropout:\n",
        "            # dropout on the input layer\n",
        "            hdrop, cache_hdrop = dropout_forward(\n",
        "                hidden['h0'], self.dropout_param)\n",
        "            hidden['hdrop0'], hidden['cache_hdrop0'] = hdrop, cache_hdrop\n",
        "\n",
        "        for i in range(self.L):\n",
        "            idx = i + 1\n",
        "            # Naming of the variable\n",
        "            w = self.params['W' + str(idx)]\n",
        "            b = self.params['b' + str(idx)]\n",
        "            h = hidden['h' + str(idx - 1)]\n",
        "            if self.use_dropout:\n",
        "                h = hidden['hdrop' + str(idx - 1)]\n",
        "            if self.use_batchnorm and idx != self.L:\n",
        "                gamma = self.params['gamma' + str(idx)]\n",
        "                beta = self.params['beta' + str(idx)]\n",
        "                bn_param = self.bn_params['bn_param' + str(idx)]\n",
        "\n",
        "            # Computing of the forward pass.\n",
        "            # Special case of the last layer (output)\n",
        "            \n",
        "            if idx == self.L:\n",
        "                h, cache_h = affine_forward(h, w, b)\n",
        "                hidden['h' + str(idx)] = h\n",
        "                hidden['cache_h' + str(idx)] = cache_h\n",
        "\n",
        "            # For all other layers\n",
        "            else:\n",
        "                if self.use_batchnorm:\n",
        "                    h, cache_h = affine_norm_relu_forward(\n",
        "                        h, w, b, gamma, beta, bn_param)\n",
        "                    hidden['h' + str(idx)] = h\n",
        "                    hidden['cache_h' + str(idx)] = cache_h\n",
        "                else:\n",
        "                    h, cache_h = affine_relu_forward(h, w, b)\n",
        "                    hidden['h' + str(idx)] = h\n",
        "                    hidden['cache_h' + str(idx)] = cache_h\n",
        "\n",
        "                if self.use_dropout:\n",
        "                    h = hidden['h' + str(idx)]\n",
        "                    hdrop, cache_hdrop = dropout_forward(h, self.dropout_param)\n",
        "                    hidden['hdrop' + str(idx)] = hdrop\n",
        "                    hidden['cache_hdrop' + str(idx)] = cache_hdrop\n",
        "\n",
        "        scores = hidden['h' + str(self.L)]\n",
        "\n",
        "        ############################################################################\n",
        "\n",
        "        # If test mode return early\n",
        "        if mode == 'test':\n",
        "            return scores\n",
        "\n",
        "        loss, grads = 0.0, {}\n",
        "\n",
        "        ############################################################################\n",
        "        # Computing of the loss\n",
        "        data_loss, dscores = softmax_loss(scores, y)\n",
        "        reg_loss = 0\n",
        "        for w in [self.params[f] for f in self.params.keys() if f[0] == 'W']:\n",
        "            reg_loss += 0.5 * self.reg * np.sum(w * w)\n",
        "\n",
        "        loss = data_loss + reg_loss\n",
        "\n",
        "        # Backward pass\n",
        "\n",
        "        hidden['dh' + str(self.L)] = dscores\n",
        "        for i in range(self.L)[::-1]:\n",
        "            idx = i + 1\n",
        "            dh = hidden['dh' + str(idx)]\n",
        "            h_cache = hidden['cache_h' + str(idx)]\n",
        "            if idx == self.L:\n",
        "                dh, dw, db = affine_backward(dh, h_cache)\n",
        "                hidden['dh' + str(idx - 1)] = dh\n",
        "                hidden['dW' + str(idx)] = dw\n",
        "                hidden['db' + str(idx)] = db\n",
        "\n",
        "            else:\n",
        "                if self.use_dropout:\n",
        "                    # First backprop in the dropout layer\n",
        "                    cache_hdrop = hidden['cache_hdrop' + str(idx)]\n",
        "                    dh = dropout_backward(dh, cache_hdrop)\n",
        "                if self.use_batchnorm:\n",
        "                    dh, dw, db, dgamma, dbeta = affine_norm_relu_backward(\n",
        "                        dh, h_cache)\n",
        "                    hidden['dh' + str(idx - 1)] = dh\n",
        "                    hidden['dW' + str(idx)] = dw\n",
        "                    hidden['db' + str(idx)] = db\n",
        "                    hidden['dgamma' + str(idx)] = dgamma\n",
        "                    hidden['dbeta' + str(idx)] = dbeta\n",
        "                else:\n",
        "                    dh, dw, db = affine_relu_backward(dh, h_cache)\n",
        "                    hidden['dh' + str(idx - 1)] = dh\n",
        "                    hidden['dW' + str(idx)] = dw\n",
        "                    hidden['db' + str(idx)] = db\n",
        "\n",
        "        # w gradients where we add the regulariation term\n",
        "        list_dw = {key[1:]: val + self.reg * self.params[key[1:]]\n",
        "                   for key, val in hidden.items() if key[:2] == 'dW'}\n",
        "        # Paramerters b\n",
        "        list_db = {key[1:]: val for key, val in hidden.items() if key[:2] ==\n",
        "                   'db'}\n",
        "        # Parameters gamma\n",
        "        list_dgamma = {key[1:]: val for key, val in hidden.items() if key[\n",
        "            :6] == 'dgamma'}\n",
        "        # Paramters beta\n",
        "        list_dbeta = {key[1:]: val for key, val in hidden.items() if key[\n",
        "            :5] == 'dbeta'}\n",
        "\n",
        "        grads = {}\n",
        "        grads.update(list_dw)\n",
        "        grads.update(list_db)\n",
        "        grads.update(list_dgamma)\n",
        "        grads.update(list_dbeta)\n",
        "\n",
        "        ############################################################################\n",
        "\n",
        "        return loss, grads\n",
        "\n",
        "# Auxiliary function\n",
        "\n",
        "\n",
        "def affine_norm_relu_forward(x, w, b, gamma, beta, bn_param):\n",
        "    \"\"\"\n",
        "    Convenience layer that perorms an affine transform followed by a ReLU\n",
        "    Inputs:\n",
        "    - x: Input to the affine layer\n",
        "    - w, b: Weights for the affine layer\n",
        "    - gamma, beta : Weight for the batch norm regularization\n",
        "    - bn_params : Contain variable use to batch norml, running_mean and var\n",
        "    Returns a tuple of:\n",
        "    - out: Output from the ReLU\n",
        "    - cache: Object to give to the backward pass\n",
        "    \"\"\"\n",
        "\n",
        "    h, h_cache = affine_forward(x, w, b)\n",
        "    hnorm, hnorm_cache = batchnorm_forward(h, gamma, beta, bn_param)\n",
        "    hnormrelu, relu_cache = relu_forward(hnorm)\n",
        "    cache = (h_cache, hnorm_cache, relu_cache)\n",
        "\n",
        "    return hnormrelu, cache\n",
        "\n",
        "\n",
        "def affine_norm_relu_backward(dout, cache):\n",
        "    \"\"\"\n",
        "    Backward pass for the affine-relu convenience layer\n",
        "    \"\"\"\n",
        "    h_cache, hnorm_cache, relu_cache = cache\n",
        "\n",
        "    dhnormrelu = relu_backward(dout, relu_cache)\n",
        "    dhnorm, dgamma, dbeta = batchnorm_backward(dhnormrelu, hnorm_cache)\n",
        "    dx, dw, db = affine_backward(dhnorm, h_cache)\n",
        "\n",
        "    return dx, dw, db, dgamma, dbeta\n",
        "  "
      ],
      "execution_count": null,
      "outputs": []
    },
    {
      "cell_type": "markdown",
      "metadata": {
        "id": "NruSO7q5DLiZ"
      },
      "source": [
        "## Perda Inicial e Verificação de Gradiente"
      ]
    },
    {
      "cell_type": "markdown",
      "metadata": {
        "id": "X3yZFza8DLia"
      },
      "source": [
        "Com intuito de realizar uma simples verificação, você deve executar o seguinte código para checar a perda inicial e o gradiente da rede sem e com regularização.\n",
        "\n",
        "Os valores de perda inicial lhe parecem razoáveis?\n",
        "\n",
        "Para a verificação de gradiente, você deve esperar erros em torno de 1e-6 ou menos."
      ]
    },
    {
      "cell_type": "code",
      "metadata": {
        "id": "QHQWbZW4DLia",
        "colab": {
          "base_uri": "https://localhost:8080/"
        },
        "outputId": "8c7aa0a3-9fb7-4f71-f2fb-44e1a7eb4ecd"
      },
      "source": [
        "np.random.seed(231)\n",
        "N, D, H1, H2, C = 2, 15, 20, 30, 10\n",
        "X = np.random.randn(N, D)\n",
        "y = np.random.randint(C, size=(N,))\n",
        "\n",
        "for reg in [0, 3.14]:\n",
        "  print('Running check with reg = ', reg)\n",
        "  model = FullyConnectedNet([H1, H2], input_dim=D, num_classes=C,\n",
        "                            reg=reg, weight_scale=5e-2, dtype=np.float64)\n",
        "\n",
        "  loss, grads = model.loss(X, y)\n",
        "  print('Initial loss: ', loss)\n",
        "\n",
        "  for name in sorted(grads):\n",
        "    f = lambda _: model.loss(X, y)[0]\n",
        "    grad_num = eval_numerical_gradient(f, model.params[name], verbose=False, h=1e-5)\n",
        "    print('%s relative error: %.2e' % (name, rel_error(grad_num, grads[name])))"
      ],
      "execution_count": null,
      "outputs": [
        {
          "output_type": "stream",
          "name": "stdout",
          "text": [
            "Running check with reg =  0\n",
            "Initial loss:  2.3004790897684924\n",
            "W1 relative error: 1.48e-07\n",
            "W2 relative error: 2.21e-05\n",
            "W3 relative error: 3.53e-07\n",
            "b1 relative error: 5.38e-09\n",
            "b2 relative error: 2.09e-09\n",
            "b3 relative error: 5.80e-11\n",
            "Running check with reg =  3.14\n",
            "Initial loss:  7.052114776533016\n",
            "W1 relative error: 1.14e-08\n",
            "W2 relative error: 6.87e-08\n",
            "W3 relative error: 3.48e-08\n",
            "b1 relative error: 1.48e-08\n",
            "b2 relative error: 1.72e-09\n",
            "b3 relative error: 1.80e-10\n"
          ]
        }
      ]
    },
    {
      "cell_type": "markdown",
      "metadata": {
        "id": "62k6-s_2DLid"
      },
      "source": [
        "Para uma outra verificação simples, você deve tentar realizar um \"sobreajuste\" (*overfitting*) de um pequeno conjunto com 50 imagens. Primeiramente, você deve experimentar com uma rede de três camadas com 100 unidades em cada camada escondida. **Você precisará ajustar a taxa de aprendizado e a escala de inicialização**, porém você deve ser capaz de \"sobreajustar\" seu modelo e alcançar 100% de acurácia no treinamento dentro de 20 épocas."
      ]
    },
    {
      "cell_type": "code",
      "metadata": {
        "id": "AjFq152BDLid",
        "colab": {
          "base_uri": "https://localhost:8080/",
          "height": 947
        },
        "outputId": "5fea8bf3-a109-4b71-cebd-a8ccdc0737cf"
      },
      "source": [
        "# TODO: Usar uma rede de 3-camadas para \"sobreajustar\" (overfit) 50 exemplos de treinamento.\n",
        "\n",
        "num_train = 50\n",
        "small_data = {\n",
        "  'X_train': data['X_train'][:num_train],\n",
        "  'y_train': data['y_train'][:num_train],\n",
        "  'X_val': data['X_val'],\n",
        "  'y_val': data['y_val'],\n",
        "}\n",
        "\n",
        "#weight_scale = 1e-2    # experimente variar entre 1e-2 e 5e-2\n",
        "#learning_rate = 1e-4   # experimente variar entre 1e-4 e 5e-4\n",
        "weight_scale = 5e-2\n",
        "learning_rate = 5e-4\n",
        "\n",
        "model = FullyConnectedNet([100, 100],\n",
        "              weight_scale=weight_scale, dtype=np.float64)\n",
        "solver = Solver(model, small_data,\n",
        "                print_every=10, num_epochs=20, batch_size=25,\n",
        "                update_rule='sgd',\n",
        "                optim_config={\n",
        "                  'learning_rate': learning_rate,\n",
        "                }\n",
        "         )\n",
        "solver.train()\n",
        "\n",
        "plt.plot(solver.loss_history, 'o')\n",
        "plt.title('Training loss history')\n",
        "plt.xlabel('Iteration')\n",
        "plt.ylabel('Training loss')\n",
        "plt.show()"
      ],
      "execution_count": null,
      "outputs": [
        {
          "output_type": "stream",
          "name": "stdout",
          "text": [
            "(Iteration 1 / 40) loss: 44.720838\n",
            "(Epoch 0 / 20) train acc: 0.120000; val_acc: 0.120000\n",
            "(Epoch 1 / 20) train acc: 0.200000; val_acc: 0.120000\n",
            "(Epoch 2 / 20) train acc: 0.460000; val_acc: 0.132000\n",
            "(Epoch 3 / 20) train acc: 0.580000; val_acc: 0.151000\n",
            "(Epoch 4 / 20) train acc: 0.580000; val_acc: 0.166000\n",
            "(Epoch 5 / 20) train acc: 0.800000; val_acc: 0.171000\n",
            "(Iteration 11 / 40) loss: 1.046424\n",
            "(Epoch 6 / 20) train acc: 0.860000; val_acc: 0.170000\n",
            "(Epoch 7 / 20) train acc: 0.900000; val_acc: 0.165000\n",
            "(Epoch 8 / 20) train acc: 0.900000; val_acc: 0.161000\n",
            "(Epoch 9 / 20) train acc: 0.960000; val_acc: 0.160000\n",
            "(Epoch 10 / 20) train acc: 0.980000; val_acc: 0.160000\n",
            "(Iteration 21 / 40) loss: 0.550636\n",
            "(Epoch 11 / 20) train acc: 1.000000; val_acc: 0.154000\n",
            "(Epoch 12 / 20) train acc: 1.000000; val_acc: 0.155000\n",
            "(Epoch 13 / 20) train acc: 1.000000; val_acc: 0.156000\n",
            "(Epoch 14 / 20) train acc: 1.000000; val_acc: 0.156000\n",
            "(Epoch 15 / 20) train acc: 1.000000; val_acc: 0.157000\n",
            "(Iteration 31 / 40) loss: 0.005701\n",
            "(Epoch 16 / 20) train acc: 1.000000; val_acc: 0.157000\n",
            "(Epoch 17 / 20) train acc: 1.000000; val_acc: 0.157000\n",
            "(Epoch 18 / 20) train acc: 1.000000; val_acc: 0.158000\n",
            "(Epoch 19 / 20) train acc: 1.000000; val_acc: 0.158000\n",
            "(Epoch 20 / 20) train acc: 1.000000; val_acc: 0.159000\n"
          ]
        },
        {
          "output_type": "display_data",
          "data": {
            "image/png": "[encoded data removed]",
            "text/plain": [
              "<Figure size 720x576 with 1 Axes>"
            ]
          },
          "metadata": {
            "needs_background": "light"
          }
        }
      ]
    },
    {
      "cell_type": "markdown",
      "metadata": {
        "id": "AjRWQBD3DLih"
      },
      "source": [
        "Agora, você deve usar uma rede de cinco camadas com 100 unidades em cada camada para fazer o sobreajuste (*overfitting*) de 50 exemplos de treinamento.\n",
        "**Novamente, você deverá ajustar a taxa de aprendizado e a escala de inicialição de pesos**, porém você deve conseguir alcançar 100% de acurácia dentro de 20 épocas. "
      ]
    },
    {
      "cell_type": "code",
      "metadata": {
        "id": "yYRebuOQDLij",
        "colab": {
          "base_uri": "https://localhost:8080/",
          "height": 947
        },
        "outputId": "7fb1cbbf-f8b3-4278-9b64-cb0f73aaee3d"
      },
      "source": [
        "# TODO: Usar uma rede de 5-camadas para \"sobreajustar\" (overfit) 50 exemplos de treinamento.\n",
        "\n",
        "num_train = 50\n",
        "small_data = {\n",
        "  'X_train': data['X_train'][:num_train],\n",
        "  'y_train': data['y_train'][:num_train],\n",
        "  'X_val': data['X_val'],\n",
        "  'y_val': data['y_val'],\n",
        "}\n",
        "\n",
        "#weight_scale = 1e-2    # experimente variar entre 1e-2 e 1e-1\n",
        "#learning_rate = 1e-5   # experimente variar entre 1e-5 e 1e-3\n",
        "weight_scale = 1e-1\n",
        "learning_rate = 1e-3\n",
        "\n",
        "model = FullyConnectedNet([100, 100, 100, 100],\n",
        "                weight_scale=weight_scale, dtype=np.float64)\n",
        "solver = Solver(model, small_data,\n",
        "                print_every=10, num_epochs=20, batch_size=25,\n",
        "                update_rule='sgd',\n",
        "                optim_config={\n",
        "                  'learning_rate': learning_rate,\n",
        "                }\n",
        "         )\n",
        "solver.train()\n",
        "\n",
        "plt.plot(solver.loss_history, 'o')\n",
        "plt.title('Training loss history')\n",
        "plt.xlabel('Iteration')\n",
        "plt.ylabel('Training loss')\n",
        "plt.show()"
      ],
      "execution_count": null,
      "outputs": [
        {
          "output_type": "stream",
          "name": "stdout",
          "text": [
            "(Iteration 1 / 40) loss: 166.501707\n",
            "(Epoch 0 / 20) train acc: 0.220000; val_acc: 0.116000\n",
            "(Epoch 1 / 20) train acc: 0.240000; val_acc: 0.083000\n",
            "(Epoch 2 / 20) train acc: 0.160000; val_acc: 0.104000\n",
            "(Epoch 3 / 20) train acc: 0.520000; val_acc: 0.106000\n",
            "(Epoch 4 / 20) train acc: 0.700000; val_acc: 0.131000\n",
            "(Epoch 5 / 20) train acc: 0.700000; val_acc: 0.116000\n",
            "(Iteration 11 / 40) loss: 4.414592\n",
            "(Epoch 6 / 20) train acc: 0.840000; val_acc: 0.114000\n",
            "(Epoch 7 / 20) train acc: 0.880000; val_acc: 0.108000\n",
            "(Epoch 8 / 20) train acc: 0.900000; val_acc: 0.109000\n",
            "(Epoch 9 / 20) train acc: 0.960000; val_acc: 0.114000\n",
            "(Epoch 10 / 20) train acc: 0.980000; val_acc: 0.127000\n",
            "(Iteration 21 / 40) loss: 0.261098\n",
            "(Epoch 11 / 20) train acc: 1.000000; val_acc: 0.126000\n",
            "(Epoch 12 / 20) train acc: 1.000000; val_acc: 0.124000\n",
            "(Epoch 13 / 20) train acc: 1.000000; val_acc: 0.124000\n",
            "(Epoch 14 / 20) train acc: 1.000000; val_acc: 0.124000\n",
            "(Epoch 15 / 20) train acc: 1.000000; val_acc: 0.125000\n",
            "(Iteration 31 / 40) loss: 0.000594\n",
            "(Epoch 16 / 20) train acc: 1.000000; val_acc: 0.125000\n",
            "(Epoch 17 / 20) train acc: 1.000000; val_acc: 0.125000\n",
            "(Epoch 18 / 20) train acc: 1.000000; val_acc: 0.125000\n",
            "(Epoch 19 / 20) train acc: 1.000000; val_acc: 0.125000\n",
            "(Epoch 20 / 20) train acc: 1.000000; val_acc: 0.125000\n"
          ]
        },
        {
          "output_type": "display_data",
          "data": {
            "image/png": "[encoded data removed]",
            "text/plain": [
              "<Figure size 720x576 with 1 Axes>"
            ]
          },
          "metadata": {
            "needs_background": "light"
          }
        }
      ]
    },
    {
      "cell_type": "markdown",
      "metadata": {
        "id": "pyFfUdrpDLin"
      },
      "source": [
        "# Regras de Atualização\n",
        "\n",
        "Até então, você tem utilizado apenas o método de descida mais íngreme estocástico (SGD - *stochastic gradient descent*) como regra de atualização. O uso de regras de atualização mais sofisticadas pode facilitar o treinamento de redes profundas. A seguit, você irá implementar outras regras de atualização comuns na atualidade e comparar seus resultados com os obtidos pelo SGD básico."
      ]
    },
    {
      "cell_type": "markdown",
      "metadata": {
        "id": "Tl8ZT0tLDLin"
      },
      "source": [
        "## Regra de Atualização: SGD + Momento\n",
        "\n",
        "SGD com momento é amplamente utilizando como regra de atualização e tende a fazer com que o treinamento de redes profundas obtenha convergência mais rápido do que quando utilizado apenas o SGD. \n",
        "\n",
        "Você pode retornar a célula em que a classe `Solver` foi definida e examinar novamente a implementação da regra de atulização SGD+momento codificada na função `sgd_momentum`.\n",
        "\n",
        "Em seguida, você deve executar o seguinte código para verificar essa implementação. \n",
        "\n",
        "Você deve observer erros menores que 1e-8."
      ]
    },
    {
      "cell_type": "code",
      "metadata": {
        "id": "PsLKBDj0DLio",
        "colab": {
          "base_uri": "https://localhost:8080/"
        },
        "outputId": "405e9e91-4346-4239-cddf-ebcdad797158"
      },
      "source": [
        "# Teste da implementação de SGD+momento; você deve observar erros menores que 1e-8\n",
        "\n",
        "N, D = 4, 5\n",
        "w = np.linspace(-0.4, 0.6, num=N*D).reshape(N, D)\n",
        "dw = np.linspace(-0.6, 0.4, num=N*D).reshape(N, D)\n",
        "v = np.linspace(0.6, 0.9, num=N*D).reshape(N, D)\n",
        "\n",
        "config = {'learning_rate': 1e-3, 'velocity': v}\n",
        "next_w, _ = optim.sgd_momentum(w, dw, config=config)\n",
        "\n",
        "expected_next_w = np.asarray([\n",
        "  [ 0.1406,      0.20738947,  0.27417895,  0.34096842,  0.40775789],\n",
        "  [ 0.47454737,  0.54133684,  0.60812632,  0.67491579,  0.74170526],\n",
        "  [ 0.80849474,  0.87528421,  0.94207368,  1.00886316,  1.07565263],\n",
        "  [ 1.14244211,  1.20923158,  1.27602105,  1.34281053,  1.4096    ]])\n",
        "expected_velocity = np.asarray([\n",
        "  [ 0.5406,      0.55475789,  0.56891579, 0.58307368,  0.59723158],\n",
        "  [ 0.61138947,  0.62554737,  0.63970526,  0.65386316,  0.66802105],\n",
        "  [ 0.68217895,  0.69633684,  0.71049474,  0.72465263,  0.73881053],\n",
        "  [ 0.75296842,  0.76712632,  0.78128421,  0.79544211,  0.8096    ]])\n",
        "\n",
        "print('next_w error: ', rel_error(next_w, expected_next_w))\n",
        "print('velocity error: ', rel_error(expected_velocity, config['velocity']))"
      ],
      "execution_count": null,
      "outputs": [
        {
          "output_type": "stream",
          "name": "stdout",
          "text": [
            "next_w error:  8.882347033505819e-09\n",
            "velocity error:  4.269287743278663e-09\n"
          ]
        }
      ]
    },
    {
      "cell_type": "markdown",
      "metadata": {
        "id": "RzOgOSBYDLir"
      },
      "source": [
        "Uma vez que você testou a implementação dessa regra de atualização, execute o seguinte código para treinamento de uma rede de 6-camadas utilizando tanto a regra básica SGD como a nova SGD+momento.\n",
        "\n",
        "Você deve ver que a regra de atualização SGD+momento consegue obter uma convergência mais rápida. "
      ]
    },
    {
      "cell_type": "code",
      "metadata": {
        "id": "XfriZg-XDLir",
        "colab": {
          "base_uri": "https://localhost:8080/",
          "height": 1000
        },
        "outputId": "63daef2a-c7c2-4ef2-9362-79a19749ed29"
      },
      "source": [
        "num_train = 4000\n",
        "small_data = {\n",
        "  'X_train': data['X_train'][:num_train],\n",
        "  'y_train': data['y_train'][:num_train],\n",
        "  'X_val': data['X_val'],\n",
        "  'y_val': data['y_val'],\n",
        "}\n",
        "\n",
        "solvers = {}\n",
        "\n",
        "for update_rule in ['sgd', 'sgd_momentum']:\n",
        "  print('running with ', update_rule)\n",
        "  model = FullyConnectedNet([100, 100, 100, 100, 100], weight_scale=5e-2)\n",
        "\n",
        "  solver = Solver(model, small_data,\n",
        "                  num_epochs=5, batch_size=100,\n",
        "                  update_rule=update_rule,\n",
        "                  optim_config={\n",
        "                    'learning_rate': 1e-2,\n",
        "                  },\n",
        "                  verbose=True)\n",
        "  solvers[update_rule] = solver\n",
        "  solver.train()\n",
        "  print()\n",
        "\n",
        "plt.subplot(3, 1, 1)\n",
        "plt.title('Training loss')\n",
        "plt.xlabel('Iteration')\n",
        "\n",
        "plt.subplot(3, 1, 2)\n",
        "plt.title('Training accuracy')\n",
        "plt.xlabel('Epoch')\n",
        "\n",
        "plt.subplot(3, 1, 3)\n",
        "plt.title('Validation accuracy')\n",
        "plt.xlabel('Epoch')\n",
        "\n",
        "for update_rule, solver in list(solvers.items()):\n",
        "  plt.subplot(3, 1, 1)\n",
        "  plt.plot(solver.loss_history, 'o', label=update_rule)\n",
        "  \n",
        "  plt.subplot(3, 1, 2)\n",
        "  plt.plot(solver.train_acc_history, '-o', label=update_rule)\n",
        "\n",
        "  plt.subplot(3, 1, 3)\n",
        "  plt.plot(solver.val_acc_history, '-o', label=update_rule)\n",
        "  \n",
        "for i in [1, 2, 3]:\n",
        "  plt.subplot(3, 1, i)\n",
        "  plt.legend(loc='upper center', ncol=4)\n",
        "plt.gcf().set_size_inches(15, 15)\n",
        "plt.show()"
      ],
      "execution_count": null,
      "outputs": [
        {
          "output_type": "stream",
          "name": "stdout",
          "text": [
            "running with  sgd\n",
            "(Iteration 1 / 200) loss: 2.559978\n",
            "(Epoch 0 / 5) train acc: 0.103000; val_acc: 0.108000\n",
            "(Iteration 11 / 200) loss: 2.291086\n",
            "(Iteration 21 / 200) loss: 2.153591\n",
            "(Iteration 31 / 200) loss: 2.082693\n",
            "(Epoch 1 / 5) train acc: 0.277000; val_acc: 0.242000\n",
            "(Iteration 41 / 200) loss: 2.004171\n",
            "(Iteration 51 / 200) loss: 2.010409\n",
            "(Iteration 61 / 200) loss: 2.023753\n",
            "(Iteration 71 / 200) loss: 2.026621\n",
            "(Epoch 2 / 5) train acc: 0.352000; val_acc: 0.312000\n",
            "(Iteration 81 / 200) loss: 1.807163\n",
            "(Iteration 91 / 200) loss: 1.914256\n",
            "(Iteration 101 / 200) loss: 1.917176\n",
            "(Iteration 111 / 200) loss: 1.706193\n",
            "(Epoch 3 / 5) train acc: 0.405000; val_acc: 0.322000\n",
            "(Iteration 121 / 200) loss: 1.697994\n",
            "(Iteration 131 / 200) loss: 1.768837\n",
            "(Iteration 141 / 200) loss: 1.784967\n",
            "(Iteration 151 / 200) loss: 1.823291\n",
            "(Epoch 4 / 5) train acc: 0.431000; val_acc: 0.324000\n",
            "(Iteration 161 / 200) loss: 1.626499\n",
            "(Iteration 171 / 200) loss: 1.901366\n",
            "(Iteration 181 / 200) loss: 1.550534\n",
            "(Iteration 191 / 200) loss: 1.716921\n",
            "(Epoch 5 / 5) train acc: 0.436000; val_acc: 0.330000\n",
            "\n",
            "running with  sgd_momentum\n",
            "(Iteration 1 / 200) loss: 3.153778\n",
            "(Epoch 0 / 5) train acc: 0.105000; val_acc: 0.093000\n",
            "(Iteration 11 / 200) loss: 2.145874\n",
            "(Iteration 21 / 200) loss: 2.032562\n",
            "(Iteration 31 / 200) loss: 1.985848\n",
            "(Epoch 1 / 5) train acc: 0.311000; val_acc: 0.281000\n",
            "(Iteration 41 / 200) loss: 1.882354\n",
            "(Iteration 51 / 200) loss: 1.855372\n",
            "(Iteration 61 / 200) loss: 1.649133\n",
            "(Iteration 71 / 200) loss: 1.806432\n",
            "(Epoch 2 / 5) train acc: 0.415000; val_acc: 0.324000\n",
            "(Iteration 81 / 200) loss: 1.907840\n",
            "(Iteration 91 / 200) loss: 1.510681\n",
            "(Iteration 101 / 200) loss: 1.546872\n",
            "(Iteration 111 / 200) loss: 1.512047\n",
            "(Epoch 3 / 5) train acc: 0.434000; val_acc: 0.321000\n",
            "(Iteration 121 / 200) loss: 1.677301\n",
            "(Iteration 131 / 200) loss: 1.504686\n",
            "(Iteration 141 / 200) loss: 1.633253\n",
            "(Iteration 151 / 200) loss: 1.745081\n",
            "(Epoch 4 / 5) train acc: 0.460000; val_acc: 0.353000\n",
            "(Iteration 161 / 200) loss: 1.485411\n",
            "(Iteration 171 / 200) loss: 1.610417\n",
            "(Iteration 181 / 200) loss: 1.528331\n",
            "(Iteration 191 / 200) loss: 1.449158\n",
            "(Epoch 5 / 5) train acc: 0.507000; val_acc: 0.384000\n",
            "\n"
          ]
        },
        {
          "output_type": "stream",
          "name": "stderr",
          "text": [
            "/usr/local/lib/python3.7/dist-packages/ipykernel_launcher.py:39: MatplotlibDeprecationWarning: Adding an axes using the same arguments as a previous axes currently reuses the earlier instance.  In a future version, a new instance will always be created and returned.  Meanwhile, this warning can be suppressed, and the future behavior ensured, by passing a unique label to each axes instance.\n",
            "/usr/local/lib/python3.7/dist-packages/ipykernel_launcher.py:42: MatplotlibDeprecationWarning: Adding an axes using the same arguments as a previous axes currently reuses the earlier instance.  In a future version, a new instance will always be created and returned.  Meanwhile, this warning can be suppressed, and the future behavior ensured, by passing a unique label to each axes instance.\n",
            "/usr/local/lib/python3.7/dist-packages/ipykernel_launcher.py:45: MatplotlibDeprecationWarning: Adding an axes using the same arguments as a previous axes currently reuses the earlier instance.  In a future version, a new instance will always be created and returned.  Meanwhile, this warning can be suppressed, and the future behavior ensured, by passing a unique label to each axes instance.\n",
            "/usr/local/lib/python3.7/dist-packages/ipykernel_launcher.py:49: MatplotlibDeprecationWarning: Adding an axes using the same arguments as a previous axes currently reuses the earlier instance.  In a future version, a new instance will always be created and returned.  Meanwhile, this warning can be suppressed, and the future behavior ensured, by passing a unique label to each axes instance.\n"
          ]
        },
        {
          "output_type": "display_data",
          "data": {
            "image/png": "[encoded data removed]",
            "text/plain": [
              "<Figure size 1080x1080 with 3 Axes>"
            ]
          },
          "metadata": {
            "needs_background": "light"
          }
        }
      ]
    },
    {
      "cell_type": "markdown",
      "metadata": {
        "id": "sS9wb5lHDLiu"
      },
      "source": [
        "## Outras Regras de Atualização: RMSProp e Adam\n",
        "\n",
        "RMSProp [1] e Adam [2] são regras de atualização que ajustam as taxas de aprendizagem por parâmetros usando uma média móvel dos momentos de segunda ordem dos graduentes.\n",
        "\n",
        "Você pode retornar a célula em que a classe `Solver` foi definida e examinar novamente a implementação da regras RMSProp e Adam codificadas nas funções `rmsprop` e `adam`, respectivamente.\n",
        "\n",
        "Em seguida, você poderá checar essas implementações usando o código abaixo.\n",
        "\n",
        "[1] Tijmen Tieleman and Geoffrey Hinton. \"Lecture 6.5-rmsprop: Divide the gradient by a running average of its recent magnitude.\" COURSERA: Neural Networks for Machine Learning 4 (2012).\n",
        "\n",
        "[2] Diederik Kingma and Jimmy Ba, \"Adam: A Method for Stochastic Optimization\", ICLR 2015."
      ]
    },
    {
      "cell_type": "code",
      "metadata": {
        "id": "xl0JLY0NDLiv",
        "colab": {
          "base_uri": "https://localhost:8080/"
        },
        "outputId": "ed747180-3107-424d-ddf1-d07b43981b1d"
      },
      "source": [
        "# Teste da implementação de RMSProp; você deve observar erros menores que 1e-7\n",
        "\n",
        "N, D = 4, 5\n",
        "w = np.linspace(-0.4, 0.6, num=N*D).reshape(N, D)\n",
        "dw = np.linspace(-0.6, 0.4, num=N*D).reshape(N, D)\n",
        "cache = np.linspace(0.6, 0.9, num=N*D).reshape(N, D)\n",
        "\n",
        "config = {'learning_rate': 1e-2, 'cache': cache}\n",
        "next_w, _ = optim.rmsprop(w, dw, config=config)\n",
        "\n",
        "expected_next_w = np.asarray([\n",
        "  [-0.39223849, -0.34037513, -0.28849239, -0.23659121, -0.18467247],\n",
        "  [-0.132737,   -0.08078555, -0.02881884,  0.02316247,  0.07515774],\n",
        "  [ 0.12716641,  0.17918792,  0.23122175,  0.28326742,  0.33532447],\n",
        "  [ 0.38739248,  0.43947102,  0.49155973,  0.54365823,  0.59576619]])\n",
        "expected_cache = np.asarray([\n",
        "  [ 0.5976,      0.6126277,   0.6277108,   0.64284931,  0.65804321],\n",
        "  [ 0.67329252,  0.68859723,  0.70395734,  0.71937285,  0.73484377],\n",
        "  [ 0.75037008,  0.7659518,   0.78158892,  0.79728144,  0.81302936],\n",
        "  [ 0.82883269,  0.84469141,  0.86060554,  0.87657507,  0.8926    ]])\n",
        "\n",
        "print('next_w error: ', rel_error(expected_next_w, next_w))\n",
        "print('cache error: ', rel_error(expected_cache, config['cache']))"
      ],
      "execution_count": null,
      "outputs": [
        {
          "output_type": "stream",
          "name": "stdout",
          "text": [
            "next_w error:  9.524687511038133e-08\n",
            "cache error:  2.6477955807156126e-09\n"
          ]
        }
      ]
    },
    {
      "cell_type": "code",
      "metadata": {
        "id": "wiexGG78DLix",
        "colab": {
          "base_uri": "https://localhost:8080/"
        },
        "outputId": "8bb781ee-ddcc-435e-c02c-ead30ab45a97"
      },
      "source": [
        "# Teste da implementação de Adam; você deve observar erros em torno de 1e-7 ou menos\n",
        "\n",
        "N, D = 4, 5\n",
        "w = np.linspace(-0.4, 0.6, num=N*D).reshape(N, D)\n",
        "dw = np.linspace(-0.6, 0.4, num=N*D).reshape(N, D)\n",
        "m = np.linspace(0.6, 0.9, num=N*D).reshape(N, D)\n",
        "v = np.linspace(0.7, 0.5, num=N*D).reshape(N, D)\n",
        "\n",
        "config = {'learning_rate': 1e-2, 'm': m, 'v': v, 't': 5}\n",
        "next_w, _ = optim.adam(w, dw, config=config)\n",
        "\n",
        "expected_next_w = np.asarray([\n",
        "  [-0.40094747, -0.34836187, -0.29577703, -0.24319299, -0.19060977],\n",
        "  [-0.1380274,  -0.08544591, -0.03286534,  0.01971428,  0.0722929],\n",
        "  [ 0.1248705,   0.17744702,  0.23002243,  0.28259667,  0.33516969],\n",
        "  [ 0.38774145,  0.44031188,  0.49288093,  0.54544852,  0.59801459]])\n",
        "expected_v = np.asarray([\n",
        "  [ 0.69966,     0.68908382,  0.67851319,  0.66794809,  0.65738853,],\n",
        "  [ 0.64683452,  0.63628604,  0.6257431,   0.61520571,  0.60467385,],\n",
        "  [ 0.59414753,  0.58362676,  0.57311152,  0.56260183,  0.55209767,],\n",
        "  [ 0.54159906,  0.53110598,  0.52061845,  0.51013645,  0.49966,   ]])\n",
        "expected_m = np.asarray([\n",
        "  [ 0.48,        0.49947368,  0.51894737,  0.53842105,  0.55789474],\n",
        "  [ 0.57736842,  0.59684211,  0.61631579,  0.63578947,  0.65526316],\n",
        "  [ 0.67473684,  0.69421053,  0.71368421,  0.73315789,  0.75263158],\n",
        "  [ 0.77210526,  0.79157895,  0.81105263,  0.83052632,  0.85      ]])\n",
        "\n",
        "print('next_w error: ', rel_error(expected_next_w, next_w))\n",
        "print('v error: ', rel_error(expected_v, config['v']))\n",
        "print('m error: ', rel_error(expected_m, config['m']))"
      ],
      "execution_count": null,
      "outputs": [
        {
          "output_type": "stream",
          "name": "stdout",
          "text": [
            "next_w error:  1.1395691798535431e-07\n",
            "v error:  4.208314038113071e-09\n",
            "m error:  4.214963193114416e-09\n"
          ]
        }
      ]
    },
    {
      "cell_type": "markdown",
      "metadata": {
        "id": "ont_VXgJDLiz"
      },
      "source": [
        "Uma vez que você tenha testado essas implementações das regras RMSProp e Adam, execute o seguinte código para treinar redes profundas utilizando tais regras:"
      ]
    },
    {
      "cell_type": "code",
      "metadata": {
        "id": "_R8XB7b_DLi1",
        "colab": {
          "base_uri": "https://localhost:8080/",
          "height": 1000
        },
        "outputId": "22d5e6ba-40a5-4c34-c129-3a458ab0c1dd"
      },
      "source": [
        "learning_rates = {'rmsprop': 1e-4, 'adam': 1e-3}\n",
        "for update_rule in ['adam', 'rmsprop']:\n",
        "  print('running with ', update_rule)\n",
        "  model = FullyConnectedNet([100, 100, 100, 100, 100], weight_scale=5e-2)\n",
        "\n",
        "  solver = Solver(model, small_data,\n",
        "                  num_epochs=5, batch_size=100,\n",
        "                  update_rule=update_rule,\n",
        "                  optim_config={\n",
        "                    'learning_rate': learning_rates[update_rule]\n",
        "                  },\n",
        "                  verbose=True)\n",
        "  solvers[update_rule] = solver\n",
        "  solver.train()\n",
        "  print()\n",
        "\n",
        "plt.subplot(3, 1, 1)\n",
        "plt.title('Training loss')\n",
        "plt.xlabel('Iteration')\n",
        "\n",
        "plt.subplot(3, 1, 2)\n",
        "plt.title('Training accuracy')\n",
        "plt.xlabel('Epoch')\n",
        "\n",
        "plt.subplot(3, 1, 3)\n",
        "plt.title('Validation accuracy')\n",
        "plt.xlabel('Epoch')\n",
        "\n",
        "for update_rule, solver in list(solvers.items()):\n",
        "  plt.subplot(3, 1, 1)\n",
        "  plt.plot(solver.loss_history, 'o', label=update_rule)\n",
        "  \n",
        "  plt.subplot(3, 1, 2)\n",
        "  plt.plot(solver.train_acc_history, '-o', label=update_rule)\n",
        "\n",
        "  plt.subplot(3, 1, 3)\n",
        "  plt.plot(solver.val_acc_history, '-o', label=update_rule)\n",
        "  \n",
        "for i in [1, 2, 3]:\n",
        "  plt.subplot(3, 1, i)\n",
        "  plt.legend(loc='upper center', ncol=4)\n",
        "plt.gcf().set_size_inches(15, 15)\n",
        "plt.show()"
      ],
      "execution_count": null,
      "outputs": [
        {
          "output_type": "stream",
          "name": "stdout",
          "text": [
            "running with  adam\n",
            "(Iteration 1 / 200) loss: 3.476928\n",
            "(Epoch 0 / 5) train acc: 0.143000; val_acc: 0.114000\n",
            "(Iteration 11 / 200) loss: 2.089203\n",
            "(Iteration 21 / 200) loss: 2.211850\n",
            "(Iteration 31 / 200) loss: 1.786014\n",
            "(Epoch 1 / 5) train acc: 0.393000; val_acc: 0.340000\n",
            "(Iteration 41 / 200) loss: 1.743812\n",
            "(Iteration 51 / 200) loss: 1.752165\n",
            "(Iteration 61 / 200) loss: 2.095686\n",
            "(Iteration 71 / 200) loss: 1.489003\n",
            "(Epoch 2 / 5) train acc: 0.411000; val_acc: 0.357000\n",
            "(Iteration 81 / 200) loss: 1.546641\n",
            "(Iteration 91 / 200) loss: 1.412223\n",
            "(Iteration 101 / 200) loss: 1.401821\n",
            "(Iteration 111 / 200) loss: 1.521807\n",
            "(Epoch 3 / 5) train acc: 0.494000; val_acc: 0.368000\n",
            "(Iteration 121 / 200) loss: 1.237183\n",
            "(Iteration 131 / 200) loss: 1.466022\n",
            "(Iteration 141 / 200) loss: 1.284994\n",
            "(Iteration 151 / 200) loss: 1.466689\n",
            "(Epoch 4 / 5) train acc: 0.529000; val_acc: 0.383000\n",
            "(Iteration 161 / 200) loss: 1.405442\n",
            "(Iteration 171 / 200) loss: 1.270982\n",
            "(Iteration 181 / 200) loss: 1.276394\n",
            "(Iteration 191 / 200) loss: 1.170333\n",
            "(Epoch 5 / 5) train acc: 0.588000; val_acc: 0.383000\n",
            "\n",
            "running with  rmsprop\n",
            "(Iteration 1 / 200) loss: 2.589166\n",
            "(Epoch 0 / 5) train acc: 0.119000; val_acc: 0.146000\n",
            "(Iteration 11 / 200) loss: 2.032921\n",
            "(Iteration 21 / 200) loss: 1.897278\n",
            "(Iteration 31 / 200) loss: 1.770793\n",
            "(Epoch 1 / 5) train acc: 0.381000; val_acc: 0.320000\n",
            "(Iteration 41 / 200) loss: 1.895731\n",
            "(Iteration 51 / 200) loss: 1.681091\n",
            "(Iteration 61 / 200) loss: 1.487204\n",
            "(Iteration 71 / 200) loss: 1.629973\n",
            "(Epoch 2 / 5) train acc: 0.429000; val_acc: 0.350000\n",
            "(Iteration 81 / 200) loss: 1.506686\n",
            "(Iteration 91 / 200) loss: 1.610742\n",
            "(Iteration 101 / 200) loss: 1.486124\n",
            "(Iteration 111 / 200) loss: 1.559454\n",
            "(Epoch 3 / 5) train acc: 0.492000; val_acc: 0.361000\n",
            "(Iteration 121 / 200) loss: 1.497406\n",
            "(Iteration 131 / 200) loss: 1.530736\n",
            "(Iteration 141 / 200) loss: 1.550957\n",
            "(Iteration 151 / 200) loss: 1.652046\n",
            "(Epoch 4 / 5) train acc: 0.530000; val_acc: 0.361000\n",
            "(Iteration 161 / 200) loss: 1.599574\n",
            "(Iteration 171 / 200) loss: 1.401073\n",
            "(Iteration 181 / 200) loss: 1.509365\n",
            "(Iteration 191 / 200) loss: 1.365773\n",
            "(Epoch 5 / 5) train acc: 0.531000; val_acc: 0.369000\n",
            "\n"
          ]
        },
        {
          "output_type": "stream",
          "name": "stderr",
          "text": [
            "/usr/local/lib/python3.7/dist-packages/ipykernel_launcher.py:30: MatplotlibDeprecationWarning: Adding an axes using the same arguments as a previous axes currently reuses the earlier instance.  In a future version, a new instance will always be created and returned.  Meanwhile, this warning can be suppressed, and the future behavior ensured, by passing a unique label to each axes instance.\n",
            "/usr/local/lib/python3.7/dist-packages/ipykernel_launcher.py:33: MatplotlibDeprecationWarning: Adding an axes using the same arguments as a previous axes currently reuses the earlier instance.  In a future version, a new instance will always be created and returned.  Meanwhile, this warning can be suppressed, and the future behavior ensured, by passing a unique label to each axes instance.\n",
            "/usr/local/lib/python3.7/dist-packages/ipykernel_launcher.py:36: MatplotlibDeprecationWarning: Adding an axes using the same arguments as a previous axes currently reuses the earlier instance.  In a future version, a new instance will always be created and returned.  Meanwhile, this warning can be suppressed, and the future behavior ensured, by passing a unique label to each axes instance.\n",
            "/usr/local/lib/python3.7/dist-packages/ipykernel_launcher.py:40: MatplotlibDeprecationWarning: Adding an axes using the same arguments as a previous axes currently reuses the earlier instance.  In a future version, a new instance will always be created and returned.  Meanwhile, this warning can be suppressed, and the future behavior ensured, by passing a unique label to each axes instance.\n"
          ]
        },
        {
          "output_type": "display_data",
          "data": {
            "image/png": "[encoded data removed]",
            "text/plain": [
              "<Figure size 1080x1080 with 3 Axes>"
            ]
          },
          "metadata": {
            "needs_background": "light"
          }
        }
      ]
    },
    {
      "cell_type": "markdown",
      "metadata": {
        "id": "6mp0_VCYJsr4"
      },
      "source": [
        "# *Batch normalization* para Redes Profundas\n",
        "\n",
        "Execute agora o seguinte cógido para treinar uma rede de 6-camadas em um subconjunto de 1000 amostras de treinamento tanto com quanto sem usar *batch normalization*. "
      ]
    },
    {
      "cell_type": "code",
      "metadata": {
        "id": "bHyWTJJyJsr5",
        "colab": {
          "base_uri": "https://localhost:8080/"
        },
        "outputId": "5e3fbdec-9501-4ccf-8d7f-5d30a2f58981"
      },
      "source": [
        "np.random.seed(231)\n",
        "# Tentativa de treinamento de uma rede profunda com e sem 'batch normalization'\n",
        "hidden_dims = [100, 100, 100, 100, 100]\n",
        "\n",
        "num_train = 1000\n",
        "small_data = {\n",
        "  'X_train': data['X_train'][:num_train],\n",
        "  'y_train': data['y_train'][:num_train],\n",
        "  'X_val': data['X_val'],\n",
        "  'y_val': data['y_val'],\n",
        "}\n",
        "\n",
        "weight_scale = 2e-2\n",
        "bn_model = FullyConnectedNet(hidden_dims, weight_scale=weight_scale, use_batchnorm=True)\n",
        "model = FullyConnectedNet(hidden_dims, weight_scale=weight_scale, use_batchnorm=False)\n",
        "\n",
        "bn_solver = Solver(bn_model, small_data,\n",
        "                num_epochs=10, batch_size=50,\n",
        "                update_rule='adam',\n",
        "                optim_config={\n",
        "                  'learning_rate': 1e-3,\n",
        "                },\n",
        "                verbose=True, print_every=200)\n",
        "bn_solver.train()\n",
        "\n",
        "solver = Solver(model, small_data,\n",
        "                num_epochs=10, batch_size=50,\n",
        "                update_rule='adam',\n",
        "                optim_config={\n",
        "                  'learning_rate': 1e-3,\n",
        "                },\n",
        "                verbose=True, print_every=200)\n",
        "solver.train()"
      ],
      "execution_count": null,
      "outputs": [
        {
          "output_type": "stream",
          "name": "stdout",
          "text": [
            "We use batchnorm here\n",
            "(Iteration 1 / 200) loss: 2.340974\n",
            "(Epoch 0 / 10) train acc: 0.132000; val_acc: 0.121000\n",
            "(Epoch 1 / 10) train acc: 0.332000; val_acc: 0.277000\n",
            "(Epoch 2 / 10) train acc: 0.432000; val_acc: 0.310000\n",
            "(Epoch 3 / 10) train acc: 0.481000; val_acc: 0.316000\n",
            "(Epoch 4 / 10) train acc: 0.554000; val_acc: 0.321000\n",
            "(Epoch 5 / 10) train acc: 0.600000; val_acc: 0.336000\n",
            "(Epoch 6 / 10) train acc: 0.630000; val_acc: 0.339000\n",
            "(Epoch 7 / 10) train acc: 0.681000; val_acc: 0.338000\n",
            "(Epoch 8 / 10) train acc: 0.712000; val_acc: 0.339000\n",
            "(Epoch 9 / 10) train acc: 0.759000; val_acc: 0.348000\n",
            "(Epoch 10 / 10) train acc: 0.749000; val_acc: 0.335000\n",
            "(Iteration 1 / 200) loss: 2.302332\n",
            "(Epoch 0 / 10) train acc: 0.123000; val_acc: 0.130000\n",
            "(Epoch 1 / 10) train acc: 0.264000; val_acc: 0.212000\n",
            "(Epoch 2 / 10) train acc: 0.320000; val_acc: 0.298000\n",
            "(Epoch 3 / 10) train acc: 0.343000; val_acc: 0.275000\n",
            "(Epoch 4 / 10) train acc: 0.397000; val_acc: 0.318000\n",
            "(Epoch 5 / 10) train acc: 0.445000; val_acc: 0.314000\n",
            "(Epoch 6 / 10) train acc: 0.487000; val_acc: 0.339000\n",
            "(Epoch 7 / 10) train acc: 0.556000; val_acc: 0.305000\n",
            "(Epoch 8 / 10) train acc: 0.608000; val_acc: 0.322000\n",
            "(Epoch 9 / 10) train acc: 0.602000; val_acc: 0.335000\n",
            "(Epoch 10 / 10) train acc: 0.655000; val_acc: 0.298000\n"
          ]
        }
      ]
    },
    {
      "cell_type": "markdown",
      "metadata": {
        "id": "wKMIGajSJsr7"
      },
      "source": [
        "Execute o seguinte código para visualizar os resultados das duas redes treinadas anteriormente. Você deverá notar que a utilização de *batch normalization* ajuda o procedimento de treinamento da rede convergir mais rapidamente."
      ]
    },
    {
      "cell_type": "code",
      "metadata": {
        "id": "l6Nr8oFZJsr8",
        "colab": {
          "base_uri": "https://localhost:8080/",
          "height": 893
        },
        "outputId": "39e25b76-cb25-49a9-9bde-ad1d0f4cd5d3"
      },
      "source": [
        "def plot_training_history(title, label, baseline, bn_solvers, plot_fn, bl_marker='.', bn_marker='.', labels=None):\n",
        "    \"\"\"utility function for plotting training history\"\"\"\n",
        "    plt.title(title)\n",
        "    plt.xlabel(label)\n",
        "    bn_plots = [plot_fn(bn_solver) for bn_solver in bn_solvers]\n",
        "    bl_plot = plot_fn(baseline)\n",
        "    num_bn = len(bn_plots)\n",
        "    for i in range(num_bn):\n",
        "        label='with_norm'\n",
        "        if labels is not None:\n",
        "            label += str(labels[i])\n",
        "        plt.plot(bn_plots[i], bn_marker, label=label)\n",
        "    label='baseline'\n",
        "    if labels is not None:\n",
        "        label += str(labels[0])\n",
        "    plt.plot(bl_plot, bl_marker, label=label)\n",
        "    plt.legend(loc='lower center', ncol=num_bn+1) \n",
        "\n",
        "    \n",
        "plt.subplot(3, 1, 1)\n",
        "plot_training_history('Training loss','Iteration', solver, [bn_solver], \\\n",
        "                      lambda x: x.loss_history, bl_marker='o', bn_marker='o')\n",
        "plt.subplot(3, 1, 2)\n",
        "plot_training_history('Training accuracy','Epoch', solver, [bn_solver], \\\n",
        "                      lambda x: x.train_acc_history, bl_marker='-o', bn_marker='-o')\n",
        "plt.subplot(3, 1, 3)\n",
        "plot_training_history('Validation accuracy','Epoch', solver, [bn_solver], \\\n",
        "                      lambda x: x.val_acc_history, bl_marker='-o', bn_marker='-o')\n",
        "\n",
        "plt.gcf().set_size_inches(15, 15)\n",
        "plt.show()"
      ],
      "execution_count": null,
      "outputs": [
        {
          "output_type": "display_data",
          "data": {
            "image/png": "[encoded data removed]",
            "text/plain": [
              "<Figure size 1080x1080 with 3 Axes>"
            ]
          },
          "metadata": {
            "needs_background": "light"
          }
        }
      ]
    },
    {
      "cell_type": "markdown",
      "metadata": {
        "id": "GAzg34wjJssB"
      },
      "source": [
        "# *Batch normalization* e inicialização\n",
        "\n",
        "Agora, você irá realizar um pequeno experimento para estudar a interação entre *batch normalization* e a inicialização de pesos.\n",
        "\n",
        "Na próxima célula, você irá encontrar código para realizar treinamento de redes de 8-camadas com e sem *batch normalization* utilizando diferentes escalas para inicialização de pesos. \n",
        "\n",
        "Já na célula seguinte, existe código para 'plotar' gráficos sobre: (i) acurácia de treinamento; (ii) acurácia de validação; e (iii) perda durante o treinamento. Tais informações serão exibidas como funções da escala de inicialização de pesos utilizada."
      ]
    },
    {
      "cell_type": "code",
      "metadata": {
        "id": "MYVr8x5kJssC",
        "colab": {
          "base_uri": "https://localhost:8080/"
        },
        "outputId": "8a95c90c-2b91-462b-f509-d8a1268c57ad"
      },
      "source": [
        "np.random.seed(231)\n",
        "# Tentativa de treinamento de uma rede 'bem' profunda com e sem 'batch normalization'\n",
        "hidden_dims = [50, 50, 50, 50, 50, 50, 50]\n",
        "\n",
        "num_train = 1000\n",
        "small_data = {\n",
        "  'X_train': data['X_train'][:num_train],\n",
        "  'y_train': data['y_train'][:num_train],\n",
        "  'X_val': data['X_val'],\n",
        "  'y_val': data['y_val'],\n",
        "}\n",
        "\n",
        "bn_solvers = {}\n",
        "solvers = {}\n",
        "weight_scales = np.logspace(-4, 0, num=20)\n",
        "for i, weight_scale in enumerate(weight_scales):\n",
        "  print('Running weight scale %d / %d' % (i + 1, len(weight_scales)))\n",
        "  bn_model = FullyConnectedNet(hidden_dims, weight_scale=weight_scale, use_batchnorm=True)\n",
        "  model = FullyConnectedNet(hidden_dims, weight_scale=weight_scale, use_batchnorm=False)\n",
        "\n",
        "  bn_solver = Solver(bn_model, small_data,\n",
        "                  num_epochs=10, batch_size=50,\n",
        "                  update_rule='adam',\n",
        "                  optim_config={\n",
        "                    'learning_rate': 1e-3,\n",
        "                  },\n",
        "                  verbose=False, print_every=200)\n",
        "  bn_solver.train()\n",
        "  bn_solvers[weight_scale] = bn_solver\n",
        "\n",
        "  solver = Solver(model, small_data,\n",
        "                  num_epochs=10, batch_size=50,\n",
        "                  update_rule='adam',\n",
        "                  optim_config={\n",
        "                    'learning_rate': 1e-3,\n",
        "                  },\n",
        "                  verbose=False, print_every=200)\n",
        "  solver.train()\n",
        "  solvers[weight_scale] = solver"
      ],
      "execution_count": null,
      "outputs": [
        {
          "output_type": "stream",
          "name": "stdout",
          "text": [
            "Running weight scale 1 / 20\n",
            "We use batchnorm here\n",
            "Running weight scale 2 / 20\n",
            "We use batchnorm here\n",
            "Running weight scale 3 / 20\n",
            "We use batchnorm here\n",
            "Running weight scale 4 / 20\n",
            "We use batchnorm here\n",
            "Running weight scale 5 / 20\n",
            "We use batchnorm here\n",
            "Running weight scale 6 / 20\n",
            "We use batchnorm here\n",
            "Running weight scale 7 / 20\n",
            "We use batchnorm here\n",
            "Running weight scale 8 / 20\n",
            "We use batchnorm here\n",
            "Running weight scale 9 / 20\n",
            "We use batchnorm here\n",
            "Running weight scale 10 / 20\n",
            "We use batchnorm here\n",
            "Running weight scale 11 / 20\n",
            "We use batchnorm here\n",
            "Running weight scale 12 / 20\n",
            "We use batchnorm here\n",
            "Running weight scale 13 / 20\n",
            "We use batchnorm here\n",
            "Running weight scale 14 / 20\n",
            "We use batchnorm here\n",
            "Running weight scale 15 / 20\n",
            "We use batchnorm here\n",
            "Running weight scale 16 / 20\n",
            "We use batchnorm here\n",
            "Running weight scale 17 / 20\n",
            "We use batchnorm here\n",
            "Running weight scale 18 / 20\n",
            "We use batchnorm here\n",
            "Running weight scale 19 / 20\n",
            "We use batchnorm here\n",
            "Running weight scale 20 / 20\n",
            "We use batchnorm here\n"
          ]
        }
      ]
    },
    {
      "cell_type": "code",
      "metadata": {
        "id": "hx8lv1r4JssH",
        "colab": {
          "base_uri": "https://localhost:8080/",
          "height": 897
        },
        "outputId": "8709ff4c-3e0c-4b70-e640-89bcf4326757"
      },
      "source": [
        "# 'Plota' gráficos dos resultados do experimento com diferentes escalas de iniciação de pesos.\n",
        "best_train_accs, bn_best_train_accs = [], []\n",
        "best_val_accs, bn_best_val_accs = [], []\n",
        "final_train_loss, bn_final_train_loss = [], []\n",
        "\n",
        "for ws in weight_scales:\n",
        "  best_train_accs.append(max(solvers[ws].train_acc_history))\n",
        "  bn_best_train_accs.append(max(bn_solvers[ws].train_acc_history))\n",
        "  \n",
        "  best_val_accs.append(max(solvers[ws].val_acc_history))\n",
        "  bn_best_val_accs.append(max(bn_solvers[ws].val_acc_history))\n",
        "  \n",
        "  final_train_loss.append(np.mean(solvers[ws].loss_history[-100:]))\n",
        "  bn_final_train_loss.append(np.mean(bn_solvers[ws].loss_history[-100:]))\n",
        "  \n",
        "plt.subplot(3, 1, 1)\n",
        "plt.title('Best val accuracy vs weight initialization scale')\n",
        "plt.xlabel('Weight initialization scale')\n",
        "plt.ylabel('Best val accuracy')\n",
        "plt.semilogx(weight_scales, best_val_accs, '-o', label='baseline')\n",
        "plt.semilogx(weight_scales, bn_best_val_accs, '-o', label='batchnorm')\n",
        "plt.legend(ncol=2, loc='lower right')\n",
        "\n",
        "plt.subplot(3, 1, 2)\n",
        "plt.title('Best train accuracy vs weight initialization scale')\n",
        "plt.xlabel('Weight initialization scale')\n",
        "plt.ylabel('Best training accuracy')\n",
        "plt.semilogx(weight_scales, best_train_accs, '-o', label='baseline')\n",
        "plt.semilogx(weight_scales, bn_best_train_accs, '-o', label='batchnorm')\n",
        "plt.legend()\n",
        "\n",
        "plt.subplot(3, 1, 3)\n",
        "plt.title('Final training loss vs weight initialization scale')\n",
        "plt.xlabel('Weight initialization scale')\n",
        "plt.ylabel('Final training loss')\n",
        "plt.semilogx(weight_scales, final_train_loss, '-o', label='baseline')\n",
        "plt.semilogx(weight_scales, bn_final_train_loss, '-o', label='batchnorm')\n",
        "plt.legend()\n",
        "plt.gca().set_ylim(1.0, 3.5)\n",
        "\n",
        "plt.gcf().set_size_inches(10, 15)\n",
        "plt.show()"
      ],
      "execution_count": null,
      "outputs": [
        {
          "output_type": "display_data",
          "data": {
            "image/png": "[encoded data removed]",
            "text/plain": [
              "<Figure size 720x1080 with 3 Axes>"
            ]
          },
          "metadata": {
            "needs_background": "light"
          }
        }
      ]
    },
    {
      "cell_type": "markdown",
      "metadata": {
        "id": "ASM2YWlFJssK"
      },
      "source": [
        "# *Batch normalization* e tamanho do *minibatch*\n",
        "\n",
        "Você agora irá realizar um pequeno experimento para estudar a interação entre *batch normalization* e o tamanho do *minibatch*.\n",
        "\n",
        "No próxima célula, você encontrará código para treinar redes de 6 camadas com e sem uso de *batch normalization* utilizando diferentes tamando de *minibatch*.\n"
      ]
    },
    {
      "cell_type": "code",
      "metadata": {
        "id": "TLoKz_xOJssL",
        "colab": {
          "base_uri": "https://localhost:8080/"
        },
        "outputId": "194b5ba3-bd3b-4980-bb9f-65ab117badd7"
      },
      "source": [
        "def run_batchsize_experiments(normalization_mode):\n",
        "    np.random.seed(231)\n",
        "    # Tentativa de treinamento de uma rede 'bem' profunda com e sem 'batch normalization'\n",
        "    hidden_dims = [100, 100, 100, 100, 100]\n",
        "    num_train = 1000\n",
        "    small_data = {\n",
        "      'X_train': data['X_train'][:num_train],\n",
        "      'y_train': data['y_train'][:num_train],\n",
        "      'X_val': data['X_val'],\n",
        "      'y_val': data['y_val'],\n",
        "    }\n",
        "    n_epochs=10\n",
        "    weight_scale = 2e-2\n",
        "    batch_sizes = [5,10,50]\n",
        "    lr = 10**(-3.5)\n",
        "    solver_bsize = batch_sizes[0]\n",
        "\n",
        "    print('No normalization: batch size = ',solver_bsize)\n",
        "    model = FullyConnectedNet(hidden_dims, weight_scale=weight_scale, use_batchnorm=False)\n",
        "    solver = Solver(model, small_data,\n",
        "                    num_epochs=n_epochs, batch_size=solver_bsize,\n",
        "                    update_rule='adam',\n",
        "                    optim_config={\n",
        "                      'learning_rate': lr,\n",
        "                    },\n",
        "                    verbose=False)\n",
        "    solver.train()\n",
        "    \n",
        "    bn_solvers = []\n",
        "    for i in range(len(batch_sizes)):\n",
        "        b_size=batch_sizes[i]\n",
        "        print('Normalization: batch size = ',b_size)\n",
        "        bn_model = FullyConnectedNet(hidden_dims, weight_scale=weight_scale, use_batchnorm=True)\n",
        "        bn_solver = Solver(bn_model, small_data,\n",
        "                        num_epochs=n_epochs, batch_size=b_size,\n",
        "                        update_rule='adam',\n",
        "                        optim_config={\n",
        "                          'learning_rate': lr,\n",
        "                        },\n",
        "                        verbose=False)\n",
        "        bn_solver.train()\n",
        "        bn_solvers.append(bn_solver)\n",
        "        \n",
        "    return bn_solvers, solver, batch_sizes\n",
        "\n",
        "batch_sizes = [5,10,50]\n",
        "bn_solvers_bsize, solver_bsize, batch_sizes = run_batchsize_experiments('batchnorm')"
      ],
      "execution_count": null,
      "outputs": [
        {
          "output_type": "stream",
          "name": "stdout",
          "text": [
            "No normalization: batch size =  5\n",
            "Normalization: batch size =  5\n",
            "We use batchnorm here\n",
            "Normalization: batch size =  10\n",
            "We use batchnorm here\n",
            "Normalization: batch size =  50\n",
            "We use batchnorm here\n"
          ]
        }
      ]
    },
    {
      "cell_type": "markdown",
      "metadata": {
        "id": "SwGL3pyp0L7C"
      },
      "source": [
        "Na célula seguinte, você encontrará código para plotar as acurácias de treinamento e de validação ao longo do tempo."
      ]
    },
    {
      "cell_type": "code",
      "metadata": {
        "id": "yijW1kzxJssO",
        "colab": {
          "base_uri": "https://localhost:8080/",
          "height": 621
        },
        "outputId": "6b3be8ed-d909-49f6-fea7-7e3fc805fe10"
      },
      "source": [
        "plt.subplot(2, 1, 1)\n",
        "plot_training_history('Training accuracy (Batch Normalization)','Epoch', solver_bsize, bn_solvers_bsize, \\\n",
        "                      lambda x: x.train_acc_history, bl_marker='-^', bn_marker='-o', labels=batch_sizes)\n",
        "plt.subplot(2, 1, 2)\n",
        "plot_training_history('Validation accuracy (Batch Normalization)','Epoch', solver_bsize, bn_solvers_bsize, \\\n",
        "                      lambda x: x.val_acc_history, bl_marker='-^', bn_marker='-o', labels=batch_sizes)\n",
        "\n",
        "plt.gcf().set_size_inches(15, 10)\n",
        "plt.show()"
      ],
      "execution_count": null,
      "outputs": [
        {
          "output_type": "display_data",
          "data": {
            "image/png": "[encoded data removed]",
            "text/plain": [
              "<Figure size 1080x720 with 2 Axes>"
            ]
          },
          "metadata": {
            "needs_background": "light"
          }
        }
      ]
    },
    {
      "cell_type": "markdown",
      "metadata": {
        "id": "6aafbmDBG-3g"
      },
      "source": [
        "# Redes Completamente Conectadas com *Dropout*\n",
        "\n",
        "Agora, você deve realizar experimento utilizando *dropout*.\n",
        "\n",
        "Mais especificamente, se o construtor da rede receber um valor não-nulo para o parâmetro `dropout`, então será adicionar uma camada de *dropout* imediatamente depois de cada camada não-linear ReLU.\n",
        "\n",
        "Para verificar esse comportamento, execute o seguinte código para verificar numericamente essa implementação:"
      ]
    },
    {
      "cell_type": "code",
      "metadata": {
        "id": "3umjuL_eG-3h",
        "colab": {
          "base_uri": "https://localhost:8080/"
        },
        "outputId": "b22cf842-0d74-468b-c1d9-39cb12dbbb91"
      },
      "source": [
        "np.random.seed(231)\n",
        "N, D, H1, H2, C = 2, 15, 20, 30, 10\n",
        "X = np.random.randn(N, D)\n",
        "y = np.random.randint(C, size=(N,))\n",
        "\n",
        "for dropout in [0, 0.25, 0.5]:\n",
        "  print('Running check with dropout = ', dropout)\n",
        "  model = FullyConnectedNet([H1, H2], input_dim=D, num_classes=C,\n",
        "                            weight_scale=5e-2, dtype=np.float64,\n",
        "                            dropout=dropout, seed=123)\n",
        "\n",
        "  loss, grads = model.loss(X, y)\n",
        "  print('Initial loss: ', loss)\n",
        "\n",
        "  for name in sorted(grads):\n",
        "    f = lambda _: model.loss(X, y)[0]\n",
        "    grad_num = eval_numerical_gradient(f, model.params[name], verbose=False, h=1e-5)\n",
        "    print('%s relative error: %.2e' % (name, rel_error(grad_num, grads[name])))\n",
        "  print()"
      ],
      "execution_count": null,
      "outputs": [
        {
          "output_type": "stream",
          "name": "stdout",
          "text": [
            "Running check with dropout =  0\n",
            "Initial loss:  2.3004790897684924\n",
            "W1 relative error: 1.48e-07\n",
            "W2 relative error: 2.21e-05\n",
            "W3 relative error: 3.53e-07\n",
            "b1 relative error: 5.38e-09\n",
            "b2 relative error: 2.09e-09\n",
            "b3 relative error: 5.80e-11\n",
            "\n",
            "Running check with dropout =  0.25\n",
            "Initial loss:  2.284540910068713\n",
            "W1 relative error: 1.86e-10\n",
            "W2 relative error: 1.60e-08\n",
            "W3 relative error: 3.04e-09\n",
            "b1 relative error: 1.10e-10\n",
            "b2 relative error: 1.56e-08\n",
            "b3 relative error: 8.58e-11\n",
            "\n",
            "Running check with dropout =  0.5\n",
            "Initial loss:  2.303349343266342\n",
            "W1 relative error: 1.10e-08\n",
            "W2 relative error: 1.92e-08\n",
            "W3 relative error: 3.14e-08\n",
            "b1 relative error: 5.52e-09\n",
            "b2 relative error: 3.32e-09\n",
            "b3 relative error: 1.40e-10\n",
            "\n"
          ]
        }
      ]
    },
    {
      "cell_type": "markdown",
      "metadata": {
        "id": "dPm0DyAFG-3j"
      },
      "source": [
        "# Experimento de Regularização\n",
        "\n",
        "De forma a realizar experimentos com a camada de *dropout* implementada, você irá usar o código na próxima célula para treinar um par de redes de duas camadas sobre 500 amostras de treino: uma não irá usar *dropout*, enquanto a outra irá utilizar *dropout* com uma probabilidade de 0,75. \n"
      ]
    },
    {
      "cell_type": "code",
      "metadata": {
        "id": "qbYr13pzG-3j",
        "colab": {
          "base_uri": "https://localhost:8080/"
        },
        "outputId": "75f1b003-d744-4718-b590-78f01983dbeb"
      },
      "source": [
        "# Treinar duas redes idênticas, uma com 'dropout e outra sem\n",
        "np.random.seed(231)\n",
        "num_train = 500\n",
        "small_data = {\n",
        "  'X_train': data['X_train'][:num_train],\n",
        "  'y_train': data['y_train'][:num_train],\n",
        "  'X_val': data['X_val'],\n",
        "  'y_val': data['y_val'],\n",
        "}\n",
        "\n",
        "solvers = {}\n",
        "dropout_choices = [0, 0.75]\n",
        "for dropout in dropout_choices:\n",
        "  model = FullyConnectedNet([500], dropout=dropout)\n",
        "  print(dropout)\n",
        "\n",
        "  solver = Solver(model, small_data,\n",
        "                  num_epochs=25, batch_size=100,\n",
        "                  update_rule='adam',\n",
        "                  optim_config={\n",
        "                    'learning_rate': 5e-4,\n",
        "                  },\n",
        "                  verbose=True, print_every=100)\n",
        "  solver.train()\n",
        "  solvers[dropout] = solver"
      ],
      "execution_count": null,
      "outputs": [
        {
          "output_type": "stream",
          "name": "stdout",
          "text": [
            "0\n",
            "(Iteration 1 / 125) loss: 7.856643\n",
            "(Epoch 0 / 25) train acc: 0.274000; val_acc: 0.192000\n",
            "(Epoch 1 / 25) train acc: 0.410000; val_acc: 0.263000\n",
            "(Epoch 2 / 25) train acc: 0.518000; val_acc: 0.269000\n",
            "(Epoch 3 / 25) train acc: 0.550000; val_acc: 0.248000\n",
            "(Epoch 4 / 25) train acc: 0.684000; val_acc: 0.296000\n",
            "(Epoch 5 / 25) train acc: 0.758000; val_acc: 0.292000\n",
            "(Epoch 6 / 25) train acc: 0.782000; val_acc: 0.266000\n",
            "(Epoch 7 / 25) train acc: 0.860000; val_acc: 0.241000\n",
            "(Epoch 8 / 25) train acc: 0.866000; val_acc: 0.283000\n",
            "(Epoch 9 / 25) train acc: 0.898000; val_acc: 0.281000\n",
            "(Epoch 10 / 25) train acc: 0.898000; val_acc: 0.265000\n",
            "(Epoch 11 / 25) train acc: 0.950000; val_acc: 0.289000\n",
            "(Epoch 12 / 25) train acc: 0.958000; val_acc: 0.296000\n",
            "(Epoch 13 / 25) train acc: 0.948000; val_acc: 0.283000\n",
            "(Epoch 14 / 25) train acc: 0.978000; val_acc: 0.280000\n",
            "(Epoch 15 / 25) train acc: 0.974000; val_acc: 0.295000\n",
            "(Epoch 16 / 25) train acc: 0.984000; val_acc: 0.309000\n",
            "(Epoch 17 / 25) train acc: 0.976000; val_acc: 0.313000\n",
            "(Epoch 18 / 25) train acc: 0.974000; val_acc: 0.292000\n",
            "(Epoch 19 / 25) train acc: 0.984000; val_acc: 0.289000\n",
            "(Epoch 20 / 25) train acc: 0.972000; val_acc: 0.285000\n",
            "(Iteration 101 / 125) loss: 0.176449\n",
            "(Epoch 21 / 25) train acc: 0.994000; val_acc: 0.301000\n",
            "(Epoch 22 / 25) train acc: 0.984000; val_acc: 0.305000\n",
            "(Epoch 23 / 25) train acc: 0.986000; val_acc: 0.300000\n",
            "(Epoch 24 / 25) train acc: 0.990000; val_acc: 0.305000\n",
            "(Epoch 25 / 25) train acc: 0.996000; val_acc: 0.305000\n",
            "0.75\n",
            "(Iteration 1 / 125) loss: 12.729941\n",
            "(Epoch 0 / 25) train acc: 0.244000; val_acc: 0.196000\n",
            "(Epoch 1 / 25) train acc: 0.402000; val_acc: 0.214000\n",
            "(Epoch 2 / 25) train acc: 0.518000; val_acc: 0.276000\n",
            "(Epoch 3 / 25) train acc: 0.586000; val_acc: 0.279000\n",
            "(Epoch 4 / 25) train acc: 0.668000; val_acc: 0.267000\n",
            "(Epoch 5 / 25) train acc: 0.706000; val_acc: 0.248000\n",
            "(Epoch 6 / 25) train acc: 0.756000; val_acc: 0.272000\n",
            "(Epoch 7 / 25) train acc: 0.732000; val_acc: 0.266000\n",
            "(Epoch 8 / 25) train acc: 0.830000; val_acc: 0.286000\n",
            "(Epoch 9 / 25) train acc: 0.834000; val_acc: 0.241000\n",
            "(Epoch 10 / 25) train acc: 0.872000; val_acc: 0.320000\n",
            "(Epoch 11 / 25) train acc: 0.850000; val_acc: 0.316000\n",
            "(Epoch 12 / 25) train acc: 0.894000; val_acc: 0.309000\n",
            "(Epoch 13 / 25) train acc: 0.874000; val_acc: 0.305000\n",
            "(Epoch 14 / 25) train acc: 0.912000; val_acc: 0.279000\n",
            "(Epoch 15 / 25) train acc: 0.900000; val_acc: 0.278000\n",
            "(Epoch 16 / 25) train acc: 0.940000; val_acc: 0.279000\n",
            "(Epoch 17 / 25) train acc: 0.944000; val_acc: 0.290000\n",
            "(Epoch 18 / 25) train acc: 0.958000; val_acc: 0.317000\n",
            "(Epoch 19 / 25) train acc: 0.976000; val_acc: 0.310000\n",
            "(Epoch 20 / 25) train acc: 0.962000; val_acc: 0.295000\n",
            "(Iteration 101 / 125) loss: 0.531605\n",
            "(Epoch 21 / 25) train acc: 0.984000; val_acc: 0.304000\n",
            "(Epoch 22 / 25) train acc: 0.978000; val_acc: 0.294000\n",
            "(Epoch 23 / 25) train acc: 0.994000; val_acc: 0.303000\n",
            "(Epoch 24 / 25) train acc: 0.970000; val_acc: 0.279000\n",
            "(Epoch 25 / 25) train acc: 0.976000; val_acc: 0.319000\n"
          ]
        }
      ]
    },
    {
      "cell_type": "markdown",
      "metadata": {
        "id": "31whmq-O0XaH"
      },
      "source": [
        "Na célula seguinte, você irá encontrar código para produzir visualizações das acurácias de treinamento e validação das duas redes ao longo do tempo."
      ]
    },
    {
      "cell_type": "code",
      "metadata": {
        "id": "cIE0N8odG-3m",
        "colab": {
          "base_uri": "https://localhost:8080/",
          "height": 606
        },
        "outputId": "1bd3f7f7-bb8d-4d00-e222-82b3fc2a2e36"
      },
      "source": [
        "# 'Plota' acurácias de treinamento e validação para as duas redes\n",
        "\n",
        "train_accs = []\n",
        "val_accs = []\n",
        "for dropout in dropout_choices:\n",
        "  solver = solvers[dropout]\n",
        "  train_accs.append(solver.train_acc_history[-1])\n",
        "  val_accs.append(solver.val_acc_history[-1])\n",
        "\n",
        "plt.subplot(3, 1, 1)\n",
        "for dropout in dropout_choices:\n",
        "  plt.plot(solvers[dropout].train_acc_history, 'o', label='%.2f dropout' % dropout)\n",
        "plt.title('Train accuracy')\n",
        "plt.xlabel('Epoch')\n",
        "plt.ylabel('Accuracy')\n",
        "plt.legend(ncol=2, loc='lower right')\n",
        "  \n",
        "plt.subplot(3, 1, 2)\n",
        "for dropout in dropout_choices:\n",
        "  plt.plot(solvers[dropout].val_acc_history, 'o', label='%.2f dropout' % dropout)\n",
        "plt.title('Val accuracy')\n",
        "plt.xlabel('Epoch')\n",
        "plt.ylabel('Accuracy')\n",
        "plt.legend(ncol=2, loc='lower right')\n",
        "\n",
        "plt.gcf().set_size_inches(15, 15)\n",
        "plt.show()"
      ],
      "execution_count": null,
      "outputs": [
        {
          "output_type": "display_data",
          "data": {
            "image/png": "[encoded data removed]",
            "text/plain": [
              "<Figure size 1080x1080 with 2 Axes>"
            ]
          },
          "metadata": {
            "needs_background": "light"
          }
        }
      ]
    },
    {
      "cell_type": "markdown",
      "metadata": {
        "id": "7Ovsz-dHDLi4"
      },
      "source": [
        "# Treinar um bom modelo!\n",
        "\n",
        "Agora, você deverá treinar o melhor modelo (completamente conectado) que conseguir sobre a base de dados CIFAR-10, armazenando seu melhor modelo na variável `best_model`. Você deverá ser capar de obter pelo menos 50% de acurácia sobre o conjunto de validação utilizando uma rede completamente conectada.\n",
        "\n",
        "Se você for cuidadoso, é possível se obter acurácias acima de 55%, porém isto não é necessário neste momento e você não receberá pontos extras se o fizer. Mais adiante, você será estimulado a treinar a melhor rede convolucional que conseguir sobre a bass de dados CIFAR-10 e, portanto, é melhor que você use seu esforços trabalhando com redes convolucionais do que com redes completamente conectadas.\n"
      ]
    },
    {
      "cell_type": "code",
      "metadata": {
        "id": "puUw8jJLDLi6",
        "colab": {
          "base_uri": "https://localhost:8080/"
        },
        "outputId": "d748be53-01f8-45e2-a255-76be298780e3"
      },
      "source": [
        "best_model = None\n",
        "################################################################################\n",
        "# TODO: Train the best FullyConnectedNet that you can on CIFAR-10. You might   #\n",
        "# find batch/layer normalization and dropout useful. Store your best model in  #\n",
        "# the best_model variable.                                                     #\n",
        "################################################################################\n",
        "# *****START OF YOUR CODE (DO NOT DELETE/MODIFY THIS LINE)*****\n",
        "\n",
        "# generate random combinations of hyperparameters given min-max ranges of hyperparams\n",
        "# using a uniform probability distribution\n",
        "# usage: lr, reg, hidden_dim, epochs = generate_random_hyperparams((-1, 0), (-7, -4), (10, 500), (10, 20))\n",
        "def generate_random_hyperparams(lr, reg, hidden_size, epoch_values):\n",
        "    lr = 10**np.random.uniform(lr[0], lr[1])\n",
        "    reg = 10**np.random.uniform(reg[0], reg[1])\n",
        "    hidden_size = np.random.randint(hidden_size[0], hidden_size[1])\n",
        "    epochs = epoch_values[np.random.randint(0, len(epoch_values))]\n",
        "\n",
        "    return lr, reg, hidden_size, epochs\n",
        "\n",
        "# number of hypercombinations combinations to look for\n",
        "num_hyperparam_configs = 10\n",
        "\n",
        "# form random combinations of learning_rate, regularization_strength, hidden_layer_size and num_training_epochs\n",
        "grid_search = [generate_random_hyperparams((-2, -4), (-7, -3), (50, 100, 200), (10, 20))\n",
        "               for count in range(num_hyperparam_configs)]\n",
        "\n",
        "# get our data\n",
        "# data = get_CIFAR10_data()            \n",
        "\n",
        "best_val = -1   # The highest validation accuracy that we have seen so far.\n",
        "results = {}\n",
        "\n",
        "for config_num, config in enumerate(grid_search):\n",
        "    print(\"Hyperparam config #{} of #{} -> \".format(config_num+1, len(grid_search)), end='')\n",
        "\n",
        "    lr, reg, hidden_size, epochs = config\n",
        "    print(\"lr: {:.2e}, reg: {:.2e}, hidden_size: {:.2e}, epochs: {:.2e}\".format(lr, reg, hidden_size, epochs))\n",
        "\n",
        "    model = TwoLayerNet(hidden_dim=hidden_size, reg=reg)\n",
        "    current_solver = Solver(model, data, update_rule='sgd', optim_config={'learning_rate': lr},\n",
        "                            lr_decay=0.95, num_epochs=epochs, batch_size=100, \n",
        "                            print_every=100, verbose=False)\n",
        "\n",
        "    # train a 2-layer neural net on the training set\n",
        "    current_solver.train()\n",
        "    \n",
        "    # store the best validation accuracy and the TwoLayerNet object\n",
        "    if current_solver.best_val_acc > best_val: \n",
        "        best_val = current_solver.best_val_acc\n",
        "        best_model = model\n",
        "\n",
        "    # print results in-line to avoid saving them\n",
        "    print('Validation accuracy: %.4f' % (current_solver.best_val_acc,))\n",
        "    print() # new line after tending to every hyperparam config\n",
        "    \n",
        "print('Best validation accuracy achieved: %.4f' % best_val)\n",
        "\n",
        "# *****END OF YOUR CODE (DO NOT DELETE/MODIFY THIS LINE)*****\n",
        "################################################################################\n",
        "#                              END OF YOUR CODE                                #\n",
        "################################################################################"
      ],
      "execution_count": null,
      "outputs": [
        {
          "output_type": "stream",
          "name": "stdout",
          "text": [
            "Hyperparam config #1 of #10 -> lr: 1.64e-03, reg: 2.95e-06, hidden_size: 7.20e+01, epochs: 1.00e+01\n",
            "Validation accuracy: 0.4970\n",
            "\n",
            "Hyperparam config #2 of #10 -> lr: 3.64e-03, reg: 1.34e-07, hidden_size: 8.40e+01, epochs: 2.00e+01\n"
          ]
        },
        {
          "output_type": "stream",
          "name": "stderr",
          "text": [
            "/usr/local/lib/python3.7/dist-packages/numpy/core/fromnumeric.py:87: RuntimeWarning: overflow encountered in reduce\n",
            "  return ufunc.reduce(obj, axis, dtype, out, **passkwargs)\n",
            "/usr/local/lib/python3.7/dist-packages/ipykernel_launcher.py:42: RuntimeWarning: overflow encountered in subtract\n",
            "/usr/local/lib/python3.7/dist-packages/ipykernel_launcher.py:42: RuntimeWarning: invalid value encountered in subtract\n"
          ]
        },
        {
          "output_type": "stream",
          "name": "stdout",
          "text": [
            "Validation accuracy: 0.1850\n",
            "\n",
            "Hyperparam config #3 of #10 -> lr: 9.15e-04, reg: 5.66e-04, hidden_size: 9.80e+01, epochs: 1.00e+01\n",
            "Validation accuracy: 0.5260\n",
            "\n",
            "Hyperparam config #4 of #10 -> lr: 1.07e-03, reg: 7.96e-06, hidden_size: 7.90e+01, epochs: 2.00e+01\n",
            "Validation accuracy: 0.5340\n",
            "\n",
            "Hyperparam config #5 of #10 -> lr: 1.98e-03, reg: 1.11e-05, hidden_size: 8.80e+01, epochs: 2.00e+01\n",
            "Validation accuracy: 0.5270\n",
            "\n",
            "Hyperparam config #6 of #10 -> lr: 6.43e-03, reg: 2.71e-06, hidden_size: 5.60e+01, epochs: 2.00e+01\n",
            "Validation accuracy: 0.1570\n",
            "\n",
            "Hyperparam config #7 of #10 -> lr: 1.33e-04, reg: 8.75e-05, hidden_size: 9.70e+01, epochs: 1.00e+01\n",
            "Validation accuracy: 0.4840\n",
            "\n",
            "Hyperparam config #8 of #10 -> lr: 7.24e-03, reg: 5.12e-07, hidden_size: 8.70e+01, epochs: 1.00e+01\n",
            "Validation accuracy: 0.1850\n",
            "\n",
            "Hyperparam config #9 of #10 -> lr: 4.11e-03, reg: 2.23e-07, hidden_size: 8.30e+01, epochs: 2.00e+01\n",
            "Validation accuracy: 0.1500\n",
            "\n",
            "Hyperparam config #10 of #10 -> lr: 1.16e-03, reg: 1.75e-07, hidden_size: 6.10e+01, epochs: 1.00e+01\n",
            "Validation accuracy: 0.5050\n",
            "\n",
            "Best validation accuracy achieved: 0.5340\n"
          ]
        }
      ]
    },
    {
      "cell_type": "markdown",
      "metadata": {
        "id": "Sv6UQNB4DLi8"
      },
      "source": [
        "# Testar seu modelo\n",
        "\n",
        "Executar o melhor modelo obtido anteriormente sobre os conjuntos de validação e de teste.\n",
        "Você deve ter alcançado um resultado acima de 50% de acurácia sobre o conjunto de validação."
      ]
    },
    {
      "cell_type": "code",
      "metadata": {
        "id": "_NiuQp0DDLi9",
        "colab": {
          "base_uri": "https://localhost:8080/"
        },
        "outputId": "2d032cc9-2050-4593-aff1-7442cea410d5"
      },
      "source": [
        "y_test_pred = np.argmax(best_model.loss(data['X_test']), axis=1)\n",
        "y_val_pred = np.argmax(best_model.loss(data['X_val']), axis=1)\n",
        "print('Validation set accuracy: ', (y_val_pred == data['y_val']).mean())\n",
        "print('Test set accuracy: ', (y_test_pred == data['y_test']).mean())"
      ],
      "execution_count": null,
      "outputs": [
        {
          "output_type": "stream",
          "name": "stdout",
          "text": [
            "Validation set accuracy:  0.534\n",
            "Test set accuracy:  0.502\n"
          ]
        }
      ]
    }
  ]
}
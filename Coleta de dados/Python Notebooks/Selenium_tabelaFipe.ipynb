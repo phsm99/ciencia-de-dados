{
 "cells": [
  {
   "cell_type": "code",
   "execution_count": 1,
   "id": "naughty-utilization",
   "metadata": {},
   "outputs": [
    {
     "name": "stdout",
     "output_type": "stream",
     "text": [
      "Collecting selenium==3.141.0\n",
      "  Using cached selenium-3.141.0-py2.py3-none-any.whl (904 kB)\n",
      "Requirement already satisfied: urllib3 in c:\\users\\elaine\\documents\\pedro\\bootcamp igti\\projetos\\env\\coleta_dados\\lib\\site-packages (from selenium==3.141.0) (1.26.4)\n",
      "Installing collected packages: selenium\n",
      "Successfully installed selenium-3.141.0\n"
     ]
    }
   ],
   "source": [
    "!pip install selenium==3.141.0"
   ]
  },
  {
   "cell_type": "code",
   "execution_count": 2,
   "id": "incredible-winner",
   "metadata": {},
   "outputs": [],
   "source": [
    "import selenium"
   ]
  },
  {
   "cell_type": "code",
   "execution_count": 3,
   "id": "beneficial-practitioner",
   "metadata": {},
   "outputs": [],
   "source": [
    "from selenium import webdriver"
   ]
  },
  {
   "cell_type": "code",
   "execution_count": 42,
   "id": "universal-prayer",
   "metadata": {},
   "outputs": [],
   "source": [
    "site = 'https://veiculos.fipe.org.br/'\n",
    "\n",
    "xpath_tipo_consulta = '//*[@id=\"front\"]/div[1]/div[2]/ul/li[3]/a' #motos\n",
    "\n",
    "id_marca_carro = 'selectMarcacarro_chosen'\n",
    "id_modelo_carro = 'selectAnoModelocarro_chosen'\n",
    "id_ano_carro = 'selectAnocarro_chosen'\n",
    "id_tabela_referencia = 'selectTabelaReferenciacarro_chosen'\n",
    "\n",
    "id_botao_limpar = 'buttonLimparPesquisarcarro'\n",
    "id_botao_pesquisa = 'buttonPesquisarcarro'\n",
    "\n",
    "id_resultado_filtros = 'resultadoConsultacarroFiltros'\n",
    "\n",
    "ano_veiculo = '2013'\n",
    "modelo_veiculo = 'Gol (novo) 1.0 Mi Total flex 8V 4p'\n",
    "marca_veiculo = \"VW - VolksWagen\"\n",
    "\n",
    "\n",
    "WEBDRIVER = 'C:\\\\Users\\\\Elaine\\\\Documents\\\\PEDRO\\\\python\\\\chromedriver.exe'\n"
   ]
  },
  {
   "cell_type": "code",
   "execution_count": 5,
   "id": "driven-jumping",
   "metadata": {},
   "outputs": [],
   "source": [
    "def x_path_input(id_elemento):\n",
    "    return '//*[@id=\"{}\"]/div/div/input'.format(id_elemento)"
   ]
  },
  {
   "cell_type": "code",
   "execution_count": 6,
   "id": "mysterious-bishop",
   "metadata": {},
   "outputs": [],
   "source": [
    "import random\n",
    "import time\n",
    "\n",
    "def esperar(segundos=None):\n",
    "    if not segundos:\n",
    "        segundos = random.randrange(2,8)\n",
    "    time.sleep(segundos)"
   ]
  },
  {
   "cell_type": "code",
   "execution_count": 29,
   "id": "sorted-samoa",
   "metadata": {},
   "outputs": [],
   "source": [
    "driver = webdriver.Chrome(WEBDRIVER)\n",
    "driver.get(site)\n",
    "esperar(15)"
   ]
  },
  {
   "cell_type": "code",
   "execution_count": 34,
   "id": "straight-brooks",
   "metadata": {},
   "outputs": [],
   "source": [
    "tipo_consulta = driver.find_element_by_xpath(xpath_tipo_consulta)\n",
    "tipo_consulta.click()"
   ]
  },
  {
   "cell_type": "code",
   "execution_count": 35,
   "id": "fiscal-forwarding",
   "metadata": {},
   "outputs": [],
   "source": [
    "pesquisa = driver.find_element_by_id(id_tabela_referencia)\n",
    "pesquisa.click()"
   ]
  },
  {
   "cell_type": "code",
   "execution_count": 36,
   "id": "included-youth",
   "metadata": {},
   "outputs": [],
   "source": [
    "xpath = x_path_input(id_tabela_referencia)\n",
    "caixa = driver.find_element_by_xpath(xpath)"
   ]
  },
  {
   "cell_type": "code",
   "execution_count": 37,
   "id": "digital-fifteen",
   "metadata": {},
   "outputs": [],
   "source": [
    "from selenium.webdriver.common.keys import Keys\n",
    "\n",
    "caixa.send_keys('fevereiro/2021'+Keys.DOWN + Keys.RETURN)"
   ]
  },
  {
   "cell_type": "code",
   "execution_count": 40,
   "id": "distinguished-agriculture",
   "metadata": {},
   "outputs": [],
   "source": [
    "def preenche_item(id_elemento, texto_pesquisa):\n",
    "    pesquisa = driver.find_element_by_id(id_elemento)\n",
    "    pesquisa.click()\n",
    "    xpath = x_path_input(id_elemento)\n",
    "    caixa = driver.find_element_by_xpath(xpath)\n",
    "    caixa.send_keys(texto_pesquisa+Keys.DOWN + Keys.RETURN)\n",
    "    pesquisa.is_selecteds = False\n",
    "    caixa.is_selecteds = False"
   ]
  },
  {
   "cell_type": "code",
   "execution_count": 41,
   "id": "revolutionary-georgia",
   "metadata": {},
   "outputs": [],
   "source": [
    "esperar()\n",
    "preenche_item(id_tabela_referencia,'fevereiro/2021')"
   ]
  },
  {
   "cell_type": "code",
   "execution_count": 43,
   "id": "chemical-belgium",
   "metadata": {},
   "outputs": [],
   "source": [
    "esperar()\n",
    "preenche_item(id_marca_carro,marca_veiculo)"
   ]
  },
  {
   "cell_type": "code",
   "execution_count": 44,
   "id": "descending-twist",
   "metadata": {},
   "outputs": [],
   "source": [
    "esperar()\n",
    "preenche_item(id_modelo_carro,modelo_veiculo)"
   ]
  },
  {
   "cell_type": "code",
   "execution_count": 45,
   "id": "waiting-comment",
   "metadata": {},
   "outputs": [],
   "source": [
    "esperar()\n",
    "preenche_item(id_ano_carro,ano_veiculo)"
   ]
  },
  {
   "cell_type": "code",
   "execution_count": 46,
   "id": "prospective-drink",
   "metadata": {},
   "outputs": [],
   "source": [
    "esperar()\n",
    "buscar = driver.find_element_by_id(id_botao_pesquisa)\n",
    "buscar.click()"
   ]
  },
  {
   "cell_type": "code",
   "execution_count": 50,
   "id": "mental-sierra",
   "metadata": {},
   "outputs": [
    {
     "data": {
      "text/plain": [
       "<tbody>\n",
       "<tr>\n",
       "<td class=\"noborder\"><p>Mês de referência:</p></td>\n",
       "<td><p>fevereiro de 2021 </p></td>\n",
       "</tr>\n",
       "<tr>\n",
       "<td class=\"noborder\"><p>Código Fipe:</p></td>\n",
       "<td><p>005275-2</p></td>\n",
       "</tr>\n",
       "<tr>\n",
       "<td class=\"noborder\"><p>Marca:</p></td>\n",
       "<td><p>VW - VolksWagen</p></td>\n",
       "</tr>\n",
       "<tr>\n",
       "<td class=\"noborder\"><p>Modelo:</p></td>\n",
       "<td><p>Gol (novo) 1.0 Mi Total Flex 8V 4p</p></td>\n",
       "</tr>\n",
       "<tr>\n",
       "<td class=\"noborder\"><p>Ano Modelo:</p></td>\n",
       "<td><p>2013 Gasolina</p></td>\n",
       "</tr>\n",
       "<tr>\n",
       "<td class=\"noborder\"><p>Autenticação</p></td>\n",
       "<td><p>l7sn2y2ymxnc</p></td>\n",
       "</tr>\n",
       "<tr>\n",
       "<td class=\"noborder\"><p>Data da consulta</p></td>\n",
       "<td><p>sábado, 27 de março de 2021 13:02</p></td>\n",
       "</tr>\n",
       "<tr class=\"last\">\n",
       "<td class=\"noborder\"><p>Preço Médio</p></td>\n",
       "<td><p>R$ 23.579,00</p></td>\n",
       "</tr>\n",
       "</tbody>"
      ]
     },
     "execution_count": 50,
     "metadata": {},
     "output_type": "execute_result"
    }
   ],
   "source": [
    "from bs4 import BeautifulSoup\n",
    "\n",
    "table = driver.find_element_by_id(id_resultado_filtros)\n",
    "html = table.get_attribute('innerHTML')\n",
    "parser = BeautifulSoup(html,'html.parser')\n",
    "table = parser.select_one('tbody')\n",
    "table"
   ]
  },
  {
   "cell_type": "code",
   "execution_count": 53,
   "id": "freelance-yield",
   "metadata": {},
   "outputs": [],
   "source": [
    "import re\n",
    "\n",
    "regex_dados = re.compile('(<td><p>)(.*?)(</p></td>)')"
   ]
  },
  {
   "cell_type": "code",
   "execution_count": 54,
   "id": "concrete-government",
   "metadata": {},
   "outputs": [
    {
     "data": {
      "text/plain": [
       "[('<td><p>', 'fevereiro de 2021 ', '</p></td>'),\n",
       " ('<td><p>', '005275-2', '</p></td>'),\n",
       " ('<td><p>', 'VW - VolksWagen', '</p></td>'),\n",
       " ('<td><p>', 'Gol (novo) 1.0 Mi Total Flex 8V 4p', '</p></td>'),\n",
       " ('<td><p>', '2013 Gasolina', '</p></td>'),\n",
       " ('<td><p>', 'l7sn2y2ymxnc', '</p></td>'),\n",
       " ('<td><p>', 'sábado, 27 de março de 2021 13:02', '</p></td>'),\n",
       " ('<td><p>', 'R$ 23.579,00', '</p></td>')]"
      ]
     },
     "execution_count": 54,
     "metadata": {},
     "output_type": "execute_result"
    }
   ],
   "source": [
    "dados = regex_dados.findall(str(table))\n",
    "dados"
   ]
  },
  {
   "cell_type": "code",
   "execution_count": 56,
   "id": "actual-denmark",
   "metadata": {},
   "outputs": [
    {
     "data": {
      "text/plain": [
       "['fevereiro de 2021 ',\n",
       " '005275-2',\n",
       " 'VW - VolksWagen',\n",
       " 'Gol (novo) 1.0 Mi Total Flex 8V 4p',\n",
       " '2013 Gasolina',\n",
       " 'l7sn2y2ymxnc',\n",
       " 'sábado, 27 de março de 2021 13:02',\n",
       " 'R$ 23.579,00']"
      ]
     },
     "execution_count": 56,
     "metadata": {},
     "output_type": "execute_result"
    }
   ],
   "source": [
    "for i, dado in enumerate(dados):\n",
    "    dados[i] = dado[1]\n",
    "dados"
   ]
  },
  {
   "cell_type": "code",
   "execution_count": 57,
   "id": "voluntary-flash",
   "metadata": {},
   "outputs": [],
   "source": [
    "def lista_dado(dados):\n",
    "    for i, dado in enumerate(dados):\n",
    "        dados[i] = dado[1]\n",
    "    return dados"
   ]
  },
  {
   "cell_type": "code",
   "execution_count": 59,
   "id": "sapphire-ridge",
   "metadata": {},
   "outputs": [
    {
     "data": {
      "text/plain": [
       "['Mês de referência:',\n",
       " 'Código Fipe:',\n",
       " 'Marca:',\n",
       " 'Modelo:',\n",
       " 'Ano Modelo:',\n",
       " 'Autenticação',\n",
       " 'Data da consulta',\n",
       " 'Preço Médio']"
      ]
     },
     "execution_count": 59,
     "metadata": {},
     "output_type": "execute_result"
    }
   ],
   "source": [
    "regex_titulo = re.compile('(<td class=\"noborder\"><p>)(.*?)(</p>)')\n",
    "titulo = regex_titulo.findall(str(table))\n",
    "titulo = lista_dado(titulo)\n",
    "titulo"
   ]
  },
  {
   "cell_type": "code",
   "execution_count": 60,
   "id": "brilliant-package",
   "metadata": {},
   "outputs": [],
   "source": [
    "esperar()\n",
    "buscar = driver.find_element_by_id(id_botao_limpar)\n",
    "buscar.click()"
   ]
  },
  {
   "cell_type": "markdown",
   "id": "supported-moral",
   "metadata": {},
   "source": [
    "# fim"
   ]
  },
  {
   "cell_type": "code",
   "execution_count": 61,
   "id": "infinite-perception",
   "metadata": {},
   "outputs": [],
   "source": [
    "referencia_ano = driver.find_element_by_id(id_tabela_referencia)\n",
    "referencia_ano.click()"
   ]
  },
  {
   "cell_type": "code",
   "execution_count": 62,
   "id": "transsexual-kelly",
   "metadata": {},
   "outputs": [],
   "source": [
    "html_referencia = referencia_ano.get_attribute('innerHTML')"
   ]
  },
  {
   "cell_type": "code",
   "execution_count": 69,
   "id": "played-cannon",
   "metadata": {},
   "outputs": [
    {
     "data": {
      "text/plain": [
       "[('\" style=\"\">', 'março/2021 ', '</li>'),\n",
       " ('\" style=\"\">', 'fevereiro/2021 ', '</li>'),\n",
       " ('\" style=\"\">', 'janeiro/2021 ', '</li>'),\n",
       " ('\" style=\"\">', 'dezembro/2020 ', '</li>'),\n",
       " ('\" style=\"\">', 'novembro/2020 ', '</li>'),\n",
       " ('\" style=\"\">', 'outubro/2020 ', '</li>'),\n",
       " ('\" style=\"\">', 'setembro/2020 ', '</li>'),\n",
       " ('\" style=\"\">', 'agosto/2020 ', '</li>'),\n",
       " ('\" style=\"\">', 'julho/2020 ', '</li>'),\n",
       " ('\" style=\"\">', 'junho/2020 ', '</li>'),\n",
       " ('\" style=\"\">', 'maio/2020 ', '</li>'),\n",
       " ('\" style=\"\">', 'abril/2020 ', '</li>'),\n",
       " ('\" style=\"\">', 'março/2020 ', '</li>'),\n",
       " ('\" style=\"\">', 'fevereiro/2020 ', '</li>'),\n",
       " ('\" style=\"\">', 'janeiro/2020 ', '</li>'),\n",
       " ('\" style=\"\">', 'dezembro/2019 ', '</li>'),\n",
       " ('\" style=\"\">', 'novembro/2019 ', '</li>'),\n",
       " ('\" style=\"\">', 'outubro/2019 ', '</li>'),\n",
       " ('\" style=\"\">', 'setembro/2019 ', '</li>'),\n",
       " ('\" style=\"\">', 'agosto/2019 ', '</li>'),\n",
       " ('\" style=\"\">', 'julho/2019 ', '</li>'),\n",
       " ('\" style=\"\">', 'junho/2019 ', '</li>'),\n",
       " ('\" style=\"\">', 'maio/2019 ', '</li>'),\n",
       " ('\" style=\"\">', 'abril/2019 ', '</li>'),\n",
       " ('\" style=\"\">', 'março/2019 ', '</li>'),\n",
       " ('\" style=\"\">', 'fevereiro/2019 ', '</li>'),\n",
       " ('\" style=\"\">', 'janeiro/2019 ', '</li>'),\n",
       " ('\" style=\"\">', 'dezembro/2018 ', '</li>'),\n",
       " ('\" style=\"\">', 'novembro/2018 ', '</li>'),\n",
       " ('\" style=\"\">', 'outubro/2018 ', '</li>'),\n",
       " ('\" style=\"\">', 'setembro/2018 ', '</li>'),\n",
       " ('\" style=\"\">', 'agosto/2018 ', '</li>'),\n",
       " ('\" style=\"\">', 'julho/2018 ', '</li>'),\n",
       " ('\" style=\"\">', 'junho/2018 ', '</li>'),\n",
       " ('\" style=\"\">', 'maio/2018 ', '</li>'),\n",
       " ('\" style=\"\">', 'abril/2018 ', '</li>'),\n",
       " ('\" style=\"\">', 'março/2018 ', '</li>'),\n",
       " ('\" style=\"\">', 'fevereiro/2018 ', '</li>'),\n",
       " ('\" style=\"\">', 'janeiro/2018 ', '</li>'),\n",
       " ('\" style=\"\">', 'dezembro/2017 ', '</li>'),\n",
       " ('\" style=\"\">', 'novembro/2017 ', '</li>'),\n",
       " ('\" style=\"\">', 'outubro/2017 ', '</li>'),\n",
       " ('\" style=\"\">', 'setembro/2017 ', '</li>'),\n",
       " ('\" style=\"\">', 'agosto/2017 ', '</li>'),\n",
       " ('\" style=\"\">', 'julho/2017 ', '</li>'),\n",
       " ('\" style=\"\">', 'junho/2017 ', '</li>'),\n",
       " ('\" style=\"\">', 'maio/2017 ', '</li>'),\n",
       " ('\" style=\"\">', 'abril/2017 ', '</li>'),\n",
       " ('\" style=\"\">', 'março/2017 ', '</li>'),\n",
       " ('\" style=\"\">', 'fevereiro/2017 ', '</li>'),\n",
       " ('\" style=\"\">', 'janeiro/2017 ', '</li>'),\n",
       " ('\" style=\"\">', 'dezembro/2016 ', '</li>'),\n",
       " ('\" style=\"\">', 'novembro/2016 ', '</li>'),\n",
       " ('\" style=\"\">', 'outubro/2016 ', '</li>'),\n",
       " ('\" style=\"\">', 'setembro/2016 ', '</li>'),\n",
       " ('\" style=\"\">', 'agosto/2016 ', '</li>'),\n",
       " ('\" style=\"\">', 'julho/2016 ', '</li>'),\n",
       " ('\" style=\"\">', 'junho/2016 ', '</li>'),\n",
       " ('\" style=\"\">', 'maio/2016 ', '</li>'),\n",
       " ('\" style=\"\">', 'abril/2016 ', '</li>'),\n",
       " ('\" style=\"\">', 'março/2016 ', '</li>'),\n",
       " ('\" style=\"\">', 'fevereiro/2016 ', '</li>'),\n",
       " ('\" style=\"\">', 'janeiro/2016 ', '</li>'),\n",
       " ('\" style=\"\">', 'dezembro/2015 ', '</li>'),\n",
       " ('\" style=\"\">', 'novembro/2015 ', '</li>'),\n",
       " ('\" style=\"\">', 'outubro/2015 ', '</li>'),\n",
       " ('\" style=\"\">', 'setembro/2015 ', '</li>'),\n",
       " ('\" style=\"\">', 'agosto/2015 ', '</li>'),\n",
       " ('\" style=\"\">', 'julho/2015 ', '</li>'),\n",
       " ('\" style=\"\">', 'junho/2015 ', '</li>'),\n",
       " ('\" style=\"\">', 'maio/2015 ', '</li>'),\n",
       " ('\" style=\"\">', 'abril/2015 ', '</li>'),\n",
       " ('\" style=\"\">', 'março/2015 ', '</li>'),\n",
       " ('\" style=\"\">', 'fevereiro/2015 ', '</li>'),\n",
       " ('\" style=\"\">', 'janeiro/2015 ', '</li>'),\n",
       " ('\" style=\"\">', 'dezembro/2014 ', '</li>'),\n",
       " ('\" style=\"\">', 'novembro/2014 ', '</li>'),\n",
       " ('\" style=\"\">', 'outubro/2014 ', '</li>'),\n",
       " ('\" style=\"\">', 'setembro/2014 ', '</li>'),\n",
       " ('\" style=\"\">', 'agosto/2014 ', '</li>'),\n",
       " ('\" style=\"\">', 'julho/2014 ', '</li>'),\n",
       " ('\" style=\"\">', 'junho/2014 ', '</li>'),\n",
       " ('\" style=\"\">', 'maio/2014 ', '</li>'),\n",
       " ('\" style=\"\">', 'abril/2014 ', '</li>'),\n",
       " ('\" style=\"\">', 'março/2014 ', '</li>'),\n",
       " ('\" style=\"\">', 'fevereiro/2014 ', '</li>'),\n",
       " ('\" style=\"\">', 'janeiro/2014 ', '</li>'),\n",
       " ('\" style=\"\">', 'dezembro/2013 ', '</li>'),\n",
       " ('\" style=\"\">', 'novembro/2013 ', '</li>'),\n",
       " ('\" style=\"\">', 'outubro/2013 ', '</li>'),\n",
       " ('\" style=\"\">', 'setembro/2013 ', '</li>'),\n",
       " ('\" style=\"\">', 'agosto/2013 ', '</li>'),\n",
       " ('\" style=\"\">', 'julho/2013 ', '</li>'),\n",
       " ('\" style=\"\">', 'junho/2013 ', '</li>'),\n",
       " ('\" style=\"\">', 'maio/2013 ', '</li>'),\n",
       " ('\" style=\"\">', 'abril/2013 ', '</li>'),\n",
       " ('\" style=\"\">', 'março/2013 ', '</li>'),\n",
       " ('\" style=\"\">', 'fevereiro/2013 ', '</li>'),\n",
       " ('\" style=\"\">', 'janeiro/2013 ', '</li>'),\n",
       " ('\" style=\"\">', 'dezembro/2012 ', '</li>'),\n",
       " ('\" style=\"\">', 'novembro/2012 ', '</li>'),\n",
       " ('\" style=\"\">', 'outubro/2012 ', '</li>'),\n",
       " ('\" style=\"\">', 'setembro/2012 ', '</li>'),\n",
       " ('\" style=\"\">', 'agosto/2012 ', '</li>'),\n",
       " ('\" style=\"\">', 'julho/2012 ', '</li>'),\n",
       " ('\" style=\"\">', 'junho/2012 ', '</li>'),\n",
       " ('\" style=\"\">', 'maio/2012 ', '</li>'),\n",
       " ('\" style=\"\">', 'abril/2012 ', '</li>'),\n",
       " ('\" style=\"\">', 'março/2012 ', '</li>'),\n",
       " ('\" style=\"\">', 'fevereiro/2012 ', '</li>'),\n",
       " ('\" style=\"\">', 'janeiro/2012 ', '</li>'),\n",
       " ('\" style=\"\">', 'dezembro/2011 ', '</li>'),\n",
       " ('\" style=\"\">', 'novembro/2011 ', '</li>'),\n",
       " ('\" style=\"\">', 'outubro/2011 ', '</li>'),\n",
       " ('\" style=\"\">', 'setembro/2011 ', '</li>'),\n",
       " ('\" style=\"\">', 'agosto/2011 ', '</li>'),\n",
       " ('\" style=\"\">', 'julho/2011 ', '</li>'),\n",
       " ('\" style=\"\">', 'junho/2011 ', '</li>'),\n",
       " ('\" style=\"\">', 'maio/2011 ', '</li>'),\n",
       " ('\" style=\"\">', 'abril/2011 ', '</li>'),\n",
       " ('\" style=\"\">', 'março/2011 ', '</li>'),\n",
       " ('\" style=\"\">', 'fevereiro/2011 ', '</li>'),\n",
       " ('\" style=\"\">', 'janeiro/2011 ', '</li>'),\n",
       " ('\" style=\"\">', 'dezembro/2010 ', '</li>'),\n",
       " ('\" style=\"\">', 'novembro/2010 ', '</li>'),\n",
       " ('\" style=\"\">', 'outubro/2010 ', '</li>'),\n",
       " ('\" style=\"\">', 'setembro/2010 ', '</li>'),\n",
       " ('\" style=\"\">', 'agosto/2010 ', '</li>'),\n",
       " ('\" style=\"\">', 'julho/2010 ', '</li>'),\n",
       " ('\" style=\"\">', 'junho/2010 ', '</li>'),\n",
       " ('\" style=\"\">', 'maio/2010 ', '</li>'),\n",
       " ('\" style=\"\">', 'abril/2010 ', '</li>'),\n",
       " ('\" style=\"\">', 'março/2010 ', '</li>'),\n",
       " ('\" style=\"\">', 'fevereiro/2010 ', '</li>'),\n",
       " ('\" style=\"\">', 'janeiro/2010 ', '</li>'),\n",
       " ('\" style=\"\">', 'dezembro/2009 ', '</li>'),\n",
       " ('\" style=\"\">', 'novembro/2009 ', '</li>'),\n",
       " ('\" style=\"\">', 'outubro/2009 ', '</li>'),\n",
       " ('\" style=\"\">', 'setembro/2009 ', '</li>'),\n",
       " ('\" style=\"\">', 'agosto/2009 ', '</li>'),\n",
       " ('\" style=\"\">', 'julho/2009 ', '</li>'),\n",
       " ('\" style=\"\">', 'junho/2009 ', '</li>'),\n",
       " ('\" style=\"\">', 'maio/2009 ', '</li>'),\n",
       " ('\" style=\"\">', 'abril/2009 ', '</li>'),\n",
       " ('\" style=\"\">', 'março/2009 ', '</li>'),\n",
       " ('\" style=\"\">', 'fevereiro/2009 ', '</li>'),\n",
       " ('\" style=\"\">', 'janeiro/2009 ', '</li>'),\n",
       " ('\" style=\"\">', 'dezembro/2008 ', '</li>'),\n",
       " ('\" style=\"\">', 'novembro/2008 ', '</li>'),\n",
       " ('\" style=\"\">', 'outubro/2008 ', '</li>'),\n",
       " ('\" style=\"\">', 'setembro/2008 ', '</li>'),\n",
       " ('\" style=\"\">', 'agosto/2008 ', '</li>'),\n",
       " ('\" style=\"\">', 'julho/2008 ', '</li>'),\n",
       " ('\" style=\"\">', 'junho/2008 ', '</li>'),\n",
       " ('\" style=\"\">', 'maio/2008 ', '</li>'),\n",
       " ('\" style=\"\">', 'abril/2008 ', '</li>'),\n",
       " ('\" style=\"\">', 'março/2008 ', '</li>'),\n",
       " ('\" style=\"\">', 'fevereiro/2008 ', '</li>'),\n",
       " ('\" style=\"\">', 'janeiro/2008 ', '</li>'),\n",
       " ('\" style=\"\">', 'dezembro/2007 ', '</li>'),\n",
       " ('\" style=\"\">', 'novembro/2007 ', '</li>'),\n",
       " ('\" style=\"\">', 'outubro/2007 ', '</li>'),\n",
       " ('\" style=\"\">', 'setembro/2007 ', '</li>'),\n",
       " ('\" style=\"\">', 'agosto/2007 ', '</li>'),\n",
       " ('\" style=\"\">', 'julho/2007 ', '</li>'),\n",
       " ('\" style=\"\">', 'junho/2007 ', '</li>'),\n",
       " ('\" style=\"\">', 'maio/2007 ', '</li>'),\n",
       " ('\" style=\"\">', 'abril/2007 ', '</li>'),\n",
       " ('\" style=\"\">', 'março/2007 ', '</li>'),\n",
       " ('\" style=\"\">', 'fevereiro/2007 ', '</li>'),\n",
       " ('\" style=\"\">', 'janeiro/2007 ', '</li>'),\n",
       " ('\" style=\"\">', 'dezembro/2006 ', '</li>'),\n",
       " ('\" style=\"\">', 'novembro/2006 ', '</li>'),\n",
       " ('\" style=\"\">', 'outubro/2006 ', '</li>'),\n",
       " ('\" style=\"\">', 'setembro/2006 ', '</li>'),\n",
       " ('\" style=\"\">', 'agosto/2006 ', '</li>'),\n",
       " ('\" style=\"\">', 'julho/2006 ', '</li>'),\n",
       " ('\" style=\"\">', 'junho/2006 ', '</li>'),\n",
       " ('\" style=\"\">', 'maio/2006 ', '</li>'),\n",
       " ('\" style=\"\">', 'abril/2006 ', '</li>'),\n",
       " ('\" style=\"\">', 'março/2006 ', '</li>'),\n",
       " ('\" style=\"\">', 'fevereiro/2006 ', '</li>'),\n",
       " ('\" style=\"\">', 'janeiro/2006 ', '</li>'),\n",
       " ('\" style=\"\">', 'dezembro/2005 ', '</li>'),\n",
       " ('\" style=\"\">', 'novembro/2005 ', '</li>'),\n",
       " ('\" style=\"\">', 'outubro/2005 ', '</li>'),\n",
       " ('\" style=\"\">', 'setembro/2005 ', '</li>'),\n",
       " ('\" style=\"\">', 'agosto/2005 ', '</li>'),\n",
       " ('\" style=\"\">', 'julho/2005 ', '</li>'),\n",
       " ('\" style=\"\">', 'junho/2005 ', '</li>'),\n",
       " ('\" style=\"\">', 'maio/2005 ', '</li>'),\n",
       " ('\" style=\"\">', 'abril/2005 ', '</li>'),\n",
       " ('\" style=\"\">', 'março/2005 ', '</li>'),\n",
       " ('\" style=\"\">', 'fevereiro/2005 ', '</li>'),\n",
       " ('\" style=\"\">', 'janeiro/2005 ', '</li>'),\n",
       " ('\" style=\"\">', 'dezembro/2004 ', '</li>'),\n",
       " ('\" style=\"\">', 'novembro/2004 ', '</li>'),\n",
       " ('\" style=\"\">', 'outubro/2004 ', '</li>'),\n",
       " ('\" style=\"\">', 'setembro/2004 ', '</li>'),\n",
       " ('\" style=\"\">', 'agosto/2004 ', '</li>'),\n",
       " ('\" style=\"\">', 'julho/2004 ', '</li>'),\n",
       " ('\" style=\"\">', 'junho/2004 ', '</li>'),\n",
       " ('\" style=\"\">', 'maio/2004 ', '</li>'),\n",
       " ('\" style=\"\">', 'abril/2004 ', '</li>'),\n",
       " ('\" style=\"\">', 'março/2004 ', '</li>'),\n",
       " ('\" style=\"\">', 'fevereiro/2004 ', '</li>'),\n",
       " ('\" style=\"\">', 'janeiro/2004 ', '</li>'),\n",
       " ('\" style=\"\">', 'dezembro/2003 ', '</li>'),\n",
       " ('\" style=\"\">', 'novembro/2003 ', '</li>'),\n",
       " ('\" style=\"\">', 'outubro/2003 ', '</li>'),\n",
       " ('\" style=\"\">', 'setembro/2003 ', '</li>'),\n",
       " ('\" style=\"\">', 'agosto/2003 ', '</li>'),\n",
       " ('\" style=\"\">', 'julho/2003 ', '</li>'),\n",
       " ('\" style=\"\">', 'junho/2003 ', '</li>'),\n",
       " ('\" style=\"\">', 'maio/2003 ', '</li>'),\n",
       " ('\" style=\"\">', 'abril/2003 ', '</li>'),\n",
       " ('\" style=\"\">', 'março/2003 ', '</li>'),\n",
       " ('\" style=\"\">', 'fevereiro/2003 ', '</li>'),\n",
       " ('\" style=\"\">', 'janeiro/2003 ', '</li>'),\n",
       " ('\" style=\"\">', 'dezembro/2002 ', '</li>'),\n",
       " ('\" style=\"\">', 'novembro/2002 ', '</li>'),\n",
       " ('\" style=\"\">', 'outubro/2002 ', '</li>'),\n",
       " ('\" style=\"\">', 'setembro/2002 ', '</li>'),\n",
       " ('\" style=\"\">', 'agosto/2002 ', '</li>'),\n",
       " ('\" style=\"\">', 'julho/2002 ', '</li>'),\n",
       " ('\" style=\"\">', 'junho/2002 ', '</li>'),\n",
       " ('\" style=\"\">', 'maio/2002 ', '</li>'),\n",
       " ('\" style=\"\">', 'abril/2002 ', '</li>'),\n",
       " ('\" style=\"\">', 'março/2002 ', '</li>'),\n",
       " ('\" style=\"\">', 'fevereiro/2002 ', '</li>'),\n",
       " ('\" style=\"\">', 'janeiro/2002 ', '</li>'),\n",
       " ('\" style=\"\">', 'dezembro/2001 ', '</li>'),\n",
       " ('\" style=\"\">', 'novembro/2001 ', '</li>'),\n",
       " ('\" style=\"\">', 'outubro/2001 ', '</li>'),\n",
       " ('\" style=\"\">', 'setembro/2001 ', '</li>'),\n",
       " ('\" style=\"\">', 'agosto/2001 ', '</li>'),\n",
       " ('\" style=\"\">', 'julho/2001 ', '</li>'),\n",
       " ('\" style=\"\">', 'junho/2001 ', '</li>'),\n",
       " ('\" style=\"\">', 'maio/2001 ', '</li>'),\n",
       " ('\" style=\"\">', 'abril/2001 ', '</li>'),\n",
       " ('\" style=\"\">', 'março/2001 ', '</li>'),\n",
       " ('\" style=\"\">', 'fevereiro/2001 ', '</li>'),\n",
       " ('\" style=\"\">', 'janeiro/2001 ', '</li>')]"
      ]
     },
     "execution_count": 69,
     "metadata": {},
     "output_type": "execute_result"
    }
   ],
   "source": [
    "re_anos = re.compile(r'(\" style=\"\">)(.*?)(</li>)')\n",
    "lista_periodos = re_anos.findall(str(html_referencia))\n",
    "lista_periodos"
   ]
  },
  {
   "cell_type": "code",
   "execution_count": 70,
   "id": "developmental-startup",
   "metadata": {},
   "outputs": [
    {
     "data": {
      "text/plain": [
       "{'periodo': 'março/2021 ', 'mes': 'março', 'ano': '2021 '}"
      ]
     },
     "execution_count": 70,
     "metadata": {},
     "output_type": "execute_result"
    }
   ],
   "source": [
    "periodos =[]\n",
    "for periodo in lista_periodos:\n",
    "    periodo = periodo[1]\n",
    "    mes, ano = periodo.split('/')\n",
    "    periodos.append({'periodo':periodo, 'mes':mes, 'ano':ano})\n",
    "periodos[0]\n",
    "    "
   ]
  },
  {
   "cell_type": "code",
   "execution_count": 66,
   "id": "moving-alignment",
   "metadata": {},
   "outputs": [],
   "source": [
    "def click_item_id(id_item):\n",
    "    item = driver.find_element_by_id(id_item)\n",
    "    item.click()\n",
    "    item.is_selecteds = False"
   ]
  },
  {
   "cell_type": "code",
   "execution_count": 73,
   "id": "polished-typing",
   "metadata": {},
   "outputs": [
    {
     "name": "stdout",
     "output_type": "stream",
     "text": [
      "março/2021 \n",
      "fevereiro/2021 \n",
      "janeiro/2021 \n"
     ]
    }
   ],
   "source": [
    "lista_table = []\n",
    "for periodo in periodos:\n",
    "    if int(periodo['ano'])>=2021:\n",
    "        periodo_referencia = periodo['periodo']\n",
    "        print(periodo_referencia)\n",
    "        esperar()\n",
    "        click_item_id(id_tabela_referencia)\n",
    "        esperar()\n",
    "        preenche_item(id_tabela_referencia,periodo_referencia)\n",
    "        esperar()\n",
    "        preenche_item(id_marca_carro,marca_veiculo)\n",
    "        esperar()\n",
    "        preenche_item(id_modelo_carro,modelo_veiculo)\n",
    "        esperar()\n",
    "        preenche_item(id_ano_carro,ano_veiculo)\n",
    "        esperar()\n",
    "        click_item_id(id_botao_pesquisa)\n",
    "        esperar()\n",
    "        table = driver.find_element_by_id(id_resultado_filtros)\n",
    "        html = table.get_attribute('innerHTML')\n",
    "        parser = BeautifulSoup(html,'html.parser')\n",
    "        table = parser.select_one('tbody')\n",
    "        dados = regex_dados.findall(str(table))\n",
    "        dados = lista_dado(dados)\n",
    "        lista_table.append(dados)\n",
    "        click_item_id(id_botao_limpar)"
   ]
  },
  {
   "cell_type": "code",
   "execution_count": 74,
   "id": "brilliant-accounting",
   "metadata": {},
   "outputs": [
    {
     "data": {
      "text/plain": [
       "['Mês de referência:',\n",
       " 'Código Fipe:',\n",
       " 'Marca:',\n",
       " 'Modelo:',\n",
       " 'Ano Modelo:',\n",
       " 'Autenticação',\n",
       " 'Data da consulta',\n",
       " 'Preço Médio']"
      ]
     },
     "execution_count": 74,
     "metadata": {},
     "output_type": "execute_result"
    }
   ],
   "source": [
    "regex_titulo = re.compile('(<td class=\"noborder\"><p>)(.*?)(</p>)')\n",
    "titulo = regex_titulo.findall(str(table))\n",
    "titulo = lista_dado(titulo)\n",
    "titulo"
   ]
  },
  {
   "cell_type": "code",
   "execution_count": 75,
   "id": "third-tuner",
   "metadata": {},
   "outputs": [],
   "source": [
    "import pandas as pd\n",
    "\n",
    "df = pd.DataFrame(lista_table,columns=titulo)"
   ]
  },
  {
   "cell_type": "code",
   "execution_count": 76,
   "id": "compatible-acrobat",
   "metadata": {},
   "outputs": [
    {
     "data": {
      "text/html": [
       "<div>\n",
       "<style scoped>\n",
       "    .dataframe tbody tr th:only-of-type {\n",
       "        vertical-align: middle;\n",
       "    }\n",
       "\n",
       "    .dataframe tbody tr th {\n",
       "        vertical-align: top;\n",
       "    }\n",
       "\n",
       "    .dataframe thead th {\n",
       "        text-align: right;\n",
       "    }\n",
       "</style>\n",
       "<table border=\"1\" class=\"dataframe\">\n",
       "  <thead>\n",
       "    <tr style=\"text-align: right;\">\n",
       "      <th></th>\n",
       "      <th>Mês de referência:</th>\n",
       "      <th>Código Fipe:</th>\n",
       "      <th>Marca:</th>\n",
       "      <th>Modelo:</th>\n",
       "      <th>Ano Modelo:</th>\n",
       "      <th>Autenticação</th>\n",
       "      <th>Data da consulta</th>\n",
       "      <th>Preço Médio</th>\n",
       "    </tr>\n",
       "  </thead>\n",
       "  <tbody>\n",
       "    <tr>\n",
       "      <th>0</th>\n",
       "      <td>março de 2021</td>\n",
       "      <td>005275-2</td>\n",
       "      <td>VW - VolksWagen</td>\n",
       "      <td>Gol (novo) 1.0 Mi Total Flex 8V 4p</td>\n",
       "      <td>2013 Gasolina</td>\n",
       "      <td>mdc4zpkqnsnc</td>\n",
       "      <td>sábado, 27 de março de 2021 13:30</td>\n",
       "      <td>R$ 23.971,00</td>\n",
       "    </tr>\n",
       "    <tr>\n",
       "      <th>1</th>\n",
       "      <td>fevereiro de 2021</td>\n",
       "      <td>005275-2</td>\n",
       "      <td>VW - VolksWagen</td>\n",
       "      <td>Gol (novo) 1.0 Mi Total Flex 8V 4p</td>\n",
       "      <td>2013 Gasolina</td>\n",
       "      <td>l7sn2y2ymxnc</td>\n",
       "      <td>sábado, 27 de março de 2021 13:31</td>\n",
       "      <td>R$ 23.579,00</td>\n",
       "    </tr>\n",
       "    <tr>\n",
       "      <th>2</th>\n",
       "      <td>janeiro de 2021</td>\n",
       "      <td>005275-2</td>\n",
       "      <td>VW - VolksWagen</td>\n",
       "      <td>Gol (novo) 1.0 Mi Total Flex 8V 4p</td>\n",
       "      <td>2013 Gasolina</td>\n",
       "      <td>l44jl26s9tnc</td>\n",
       "      <td>sábado, 27 de março de 2021 13:32</td>\n",
       "      <td>R$ 23.353,00</td>\n",
       "    </tr>\n",
       "  </tbody>\n",
       "</table>\n",
       "</div>"
      ],
      "text/plain": [
       "   Mês de referência: Código Fipe:           Marca:  ...  Autenticação                   Data da consulta   Preço Médio\n",
       "0      março de 2021      005275-2  VW - VolksWagen  ...  mdc4zpkqnsnc  sábado, 27 de março de 2021 13:30  R$ 23.971,00\n",
       "1  fevereiro de 2021      005275-2  VW - VolksWagen  ...  l7sn2y2ymxnc  sábado, 27 de março de 2021 13:31  R$ 23.579,00\n",
       "2    janeiro de 2021      005275-2  VW - VolksWagen  ...  l44jl26s9tnc  sábado, 27 de março de 2021 13:32  R$ 23.353,00\n",
       "\n",
       "[3 rows x 8 columns]"
      ]
     },
     "execution_count": 76,
     "metadata": {},
     "output_type": "execute_result"
    }
   ],
   "source": [
    "df"
   ]
  },
  {
   "cell_type": "code",
   "execution_count": 77,
   "id": "offshore-syntax",
   "metadata": {},
   "outputs": [],
   "source": [
    "driver.quit()"
   ]
  },
  {
   "cell_type": "code",
   "execution_count": 78,
   "id": "frank-venue",
   "metadata": {},
   "outputs": [],
   "source": [
    "df.to_csv('dados_gol_2021.csv',sep=';',encoding='latin1')"
   ]
  },
  {
   "cell_type": "code",
   "execution_count": 79,
   "id": "trying-valuable",
   "metadata": {},
   "outputs": [
    {
     "data": {
      "text/plain": [
       "[{'periodo': 'março/2021 ', 'mes': 'março', 'ano': '2021 '},\n",
       " {'periodo': 'fevereiro/2021 ', 'mes': 'fevereiro', 'ano': '2021 '},\n",
       " {'periodo': 'janeiro/2021 ', 'mes': 'janeiro', 'ano': '2021 '},\n",
       " {'periodo': 'dezembro/2020 ', 'mes': 'dezembro', 'ano': '2020 '},\n",
       " {'periodo': 'novembro/2020 ', 'mes': 'novembro', 'ano': '2020 '},\n",
       " {'periodo': 'outubro/2020 ', 'mes': 'outubro', 'ano': '2020 '},\n",
       " {'periodo': 'setembro/2020 ', 'mes': 'setembro', 'ano': '2020 '},\n",
       " {'periodo': 'agosto/2020 ', 'mes': 'agosto', 'ano': '2020 '},\n",
       " {'periodo': 'julho/2020 ', 'mes': 'julho', 'ano': '2020 '},\n",
       " {'periodo': 'junho/2020 ', 'mes': 'junho', 'ano': '2020 '},\n",
       " {'periodo': 'maio/2020 ', 'mes': 'maio', 'ano': '2020 '},\n",
       " {'periodo': 'abril/2020 ', 'mes': 'abril', 'ano': '2020 '},\n",
       " {'periodo': 'março/2020 ', 'mes': 'março', 'ano': '2020 '},\n",
       " {'periodo': 'fevereiro/2020 ', 'mes': 'fevereiro', 'ano': '2020 '},\n",
       " {'periodo': 'janeiro/2020 ', 'mes': 'janeiro', 'ano': '2020 '},\n",
       " {'periodo': 'dezembro/2019 ', 'mes': 'dezembro', 'ano': '2019 '},\n",
       " {'periodo': 'novembro/2019 ', 'mes': 'novembro', 'ano': '2019 '},\n",
       " {'periodo': 'outubro/2019 ', 'mes': 'outubro', 'ano': '2019 '},\n",
       " {'periodo': 'setembro/2019 ', 'mes': 'setembro', 'ano': '2019 '},\n",
       " {'periodo': 'agosto/2019 ', 'mes': 'agosto', 'ano': '2019 '},\n",
       " {'periodo': 'julho/2019 ', 'mes': 'julho', 'ano': '2019 '},\n",
       " {'periodo': 'junho/2019 ', 'mes': 'junho', 'ano': '2019 '},\n",
       " {'periodo': 'maio/2019 ', 'mes': 'maio', 'ano': '2019 '},\n",
       " {'periodo': 'abril/2019 ', 'mes': 'abril', 'ano': '2019 '},\n",
       " {'periodo': 'março/2019 ', 'mes': 'março', 'ano': '2019 '},\n",
       " {'periodo': 'fevereiro/2019 ', 'mes': 'fevereiro', 'ano': '2019 '},\n",
       " {'periodo': 'janeiro/2019 ', 'mes': 'janeiro', 'ano': '2019 '},\n",
       " {'periodo': 'dezembro/2018 ', 'mes': 'dezembro', 'ano': '2018 '},\n",
       " {'periodo': 'novembro/2018 ', 'mes': 'novembro', 'ano': '2018 '},\n",
       " {'periodo': 'outubro/2018 ', 'mes': 'outubro', 'ano': '2018 '},\n",
       " {'periodo': 'setembro/2018 ', 'mes': 'setembro', 'ano': '2018 '},\n",
       " {'periodo': 'agosto/2018 ', 'mes': 'agosto', 'ano': '2018 '},\n",
       " {'periodo': 'julho/2018 ', 'mes': 'julho', 'ano': '2018 '},\n",
       " {'periodo': 'junho/2018 ', 'mes': 'junho', 'ano': '2018 '},\n",
       " {'periodo': 'maio/2018 ', 'mes': 'maio', 'ano': '2018 '},\n",
       " {'periodo': 'abril/2018 ', 'mes': 'abril', 'ano': '2018 '},\n",
       " {'periodo': 'março/2018 ', 'mes': 'março', 'ano': '2018 '},\n",
       " {'periodo': 'fevereiro/2018 ', 'mes': 'fevereiro', 'ano': '2018 '},\n",
       " {'periodo': 'janeiro/2018 ', 'mes': 'janeiro', 'ano': '2018 '},\n",
       " {'periodo': 'dezembro/2017 ', 'mes': 'dezembro', 'ano': '2017 '},\n",
       " {'periodo': 'novembro/2017 ', 'mes': 'novembro', 'ano': '2017 '},\n",
       " {'periodo': 'outubro/2017 ', 'mes': 'outubro', 'ano': '2017 '},\n",
       " {'periodo': 'setembro/2017 ', 'mes': 'setembro', 'ano': '2017 '},\n",
       " {'periodo': 'agosto/2017 ', 'mes': 'agosto', 'ano': '2017 '},\n",
       " {'periodo': 'julho/2017 ', 'mes': 'julho', 'ano': '2017 '},\n",
       " {'periodo': 'junho/2017 ', 'mes': 'junho', 'ano': '2017 '},\n",
       " {'periodo': 'maio/2017 ', 'mes': 'maio', 'ano': '2017 '},\n",
       " {'periodo': 'abril/2017 ', 'mes': 'abril', 'ano': '2017 '},\n",
       " {'periodo': 'março/2017 ', 'mes': 'março', 'ano': '2017 '},\n",
       " {'periodo': 'fevereiro/2017 ', 'mes': 'fevereiro', 'ano': '2017 '},\n",
       " {'periodo': 'janeiro/2017 ', 'mes': 'janeiro', 'ano': '2017 '},\n",
       " {'periodo': 'dezembro/2016 ', 'mes': 'dezembro', 'ano': '2016 '},\n",
       " {'periodo': 'novembro/2016 ', 'mes': 'novembro', 'ano': '2016 '},\n",
       " {'periodo': 'outubro/2016 ', 'mes': 'outubro', 'ano': '2016 '},\n",
       " {'periodo': 'setembro/2016 ', 'mes': 'setembro', 'ano': '2016 '},\n",
       " {'periodo': 'agosto/2016 ', 'mes': 'agosto', 'ano': '2016 '},\n",
       " {'periodo': 'julho/2016 ', 'mes': 'julho', 'ano': '2016 '},\n",
       " {'periodo': 'junho/2016 ', 'mes': 'junho', 'ano': '2016 '},\n",
       " {'periodo': 'maio/2016 ', 'mes': 'maio', 'ano': '2016 '},\n",
       " {'periodo': 'abril/2016 ', 'mes': 'abril', 'ano': '2016 '},\n",
       " {'periodo': 'março/2016 ', 'mes': 'março', 'ano': '2016 '},\n",
       " {'periodo': 'fevereiro/2016 ', 'mes': 'fevereiro', 'ano': '2016 '},\n",
       " {'periodo': 'janeiro/2016 ', 'mes': 'janeiro', 'ano': '2016 '},\n",
       " {'periodo': 'dezembro/2015 ', 'mes': 'dezembro', 'ano': '2015 '},\n",
       " {'periodo': 'novembro/2015 ', 'mes': 'novembro', 'ano': '2015 '},\n",
       " {'periodo': 'outubro/2015 ', 'mes': 'outubro', 'ano': '2015 '},\n",
       " {'periodo': 'setembro/2015 ', 'mes': 'setembro', 'ano': '2015 '},\n",
       " {'periodo': 'agosto/2015 ', 'mes': 'agosto', 'ano': '2015 '},\n",
       " {'periodo': 'julho/2015 ', 'mes': 'julho', 'ano': '2015 '},\n",
       " {'periodo': 'junho/2015 ', 'mes': 'junho', 'ano': '2015 '},\n",
       " {'periodo': 'maio/2015 ', 'mes': 'maio', 'ano': '2015 '},\n",
       " {'periodo': 'abril/2015 ', 'mes': 'abril', 'ano': '2015 '},\n",
       " {'periodo': 'março/2015 ', 'mes': 'março', 'ano': '2015 '},\n",
       " {'periodo': 'fevereiro/2015 ', 'mes': 'fevereiro', 'ano': '2015 '},\n",
       " {'periodo': 'janeiro/2015 ', 'mes': 'janeiro', 'ano': '2015 '},\n",
       " {'periodo': 'dezembro/2014 ', 'mes': 'dezembro', 'ano': '2014 '},\n",
       " {'periodo': 'novembro/2014 ', 'mes': 'novembro', 'ano': '2014 '},\n",
       " {'periodo': 'outubro/2014 ', 'mes': 'outubro', 'ano': '2014 '},\n",
       " {'periodo': 'setembro/2014 ', 'mes': 'setembro', 'ano': '2014 '},\n",
       " {'periodo': 'agosto/2014 ', 'mes': 'agosto', 'ano': '2014 '},\n",
       " {'periodo': 'julho/2014 ', 'mes': 'julho', 'ano': '2014 '},\n",
       " {'periodo': 'junho/2014 ', 'mes': 'junho', 'ano': '2014 '},\n",
       " {'periodo': 'maio/2014 ', 'mes': 'maio', 'ano': '2014 '},\n",
       " {'periodo': 'abril/2014 ', 'mes': 'abril', 'ano': '2014 '},\n",
       " {'periodo': 'março/2014 ', 'mes': 'março', 'ano': '2014 '},\n",
       " {'periodo': 'fevereiro/2014 ', 'mes': 'fevereiro', 'ano': '2014 '},\n",
       " {'periodo': 'janeiro/2014 ', 'mes': 'janeiro', 'ano': '2014 '},\n",
       " {'periodo': 'dezembro/2013 ', 'mes': 'dezembro', 'ano': '2013 '},\n",
       " {'periodo': 'novembro/2013 ', 'mes': 'novembro', 'ano': '2013 '},\n",
       " {'periodo': 'outubro/2013 ', 'mes': 'outubro', 'ano': '2013 '},\n",
       " {'periodo': 'setembro/2013 ', 'mes': 'setembro', 'ano': '2013 '},\n",
       " {'periodo': 'agosto/2013 ', 'mes': 'agosto', 'ano': '2013 '},\n",
       " {'periodo': 'julho/2013 ', 'mes': 'julho', 'ano': '2013 '},\n",
       " {'periodo': 'junho/2013 ', 'mes': 'junho', 'ano': '2013 '},\n",
       " {'periodo': 'maio/2013 ', 'mes': 'maio', 'ano': '2013 '},\n",
       " {'periodo': 'abril/2013 ', 'mes': 'abril', 'ano': '2013 '},\n",
       " {'periodo': 'março/2013 ', 'mes': 'março', 'ano': '2013 '},\n",
       " {'periodo': 'fevereiro/2013 ', 'mes': 'fevereiro', 'ano': '2013 '},\n",
       " {'periodo': 'janeiro/2013 ', 'mes': 'janeiro', 'ano': '2013 '},\n",
       " {'periodo': 'dezembro/2012 ', 'mes': 'dezembro', 'ano': '2012 '},\n",
       " {'periodo': 'novembro/2012 ', 'mes': 'novembro', 'ano': '2012 '},\n",
       " {'periodo': 'outubro/2012 ', 'mes': 'outubro', 'ano': '2012 '},\n",
       " {'periodo': 'setembro/2012 ', 'mes': 'setembro', 'ano': '2012 '},\n",
       " {'periodo': 'agosto/2012 ', 'mes': 'agosto', 'ano': '2012 '},\n",
       " {'periodo': 'julho/2012 ', 'mes': 'julho', 'ano': '2012 '},\n",
       " {'periodo': 'junho/2012 ', 'mes': 'junho', 'ano': '2012 '},\n",
       " {'periodo': 'maio/2012 ', 'mes': 'maio', 'ano': '2012 '},\n",
       " {'periodo': 'abril/2012 ', 'mes': 'abril', 'ano': '2012 '},\n",
       " {'periodo': 'março/2012 ', 'mes': 'março', 'ano': '2012 '},\n",
       " {'periodo': 'fevereiro/2012 ', 'mes': 'fevereiro', 'ano': '2012 '},\n",
       " {'periodo': 'janeiro/2012 ', 'mes': 'janeiro', 'ano': '2012 '},\n",
       " {'periodo': 'dezembro/2011 ', 'mes': 'dezembro', 'ano': '2011 '},\n",
       " {'periodo': 'novembro/2011 ', 'mes': 'novembro', 'ano': '2011 '},\n",
       " {'periodo': 'outubro/2011 ', 'mes': 'outubro', 'ano': '2011 '},\n",
       " {'periodo': 'setembro/2011 ', 'mes': 'setembro', 'ano': '2011 '},\n",
       " {'periodo': 'agosto/2011 ', 'mes': 'agosto', 'ano': '2011 '},\n",
       " {'periodo': 'julho/2011 ', 'mes': 'julho', 'ano': '2011 '},\n",
       " {'periodo': 'junho/2011 ', 'mes': 'junho', 'ano': '2011 '},\n",
       " {'periodo': 'maio/2011 ', 'mes': 'maio', 'ano': '2011 '},\n",
       " {'periodo': 'abril/2011 ', 'mes': 'abril', 'ano': '2011 '},\n",
       " {'periodo': 'março/2011 ', 'mes': 'março', 'ano': '2011 '},\n",
       " {'periodo': 'fevereiro/2011 ', 'mes': 'fevereiro', 'ano': '2011 '},\n",
       " {'periodo': 'janeiro/2011 ', 'mes': 'janeiro', 'ano': '2011 '},\n",
       " {'periodo': 'dezembro/2010 ', 'mes': 'dezembro', 'ano': '2010 '},\n",
       " {'periodo': 'novembro/2010 ', 'mes': 'novembro', 'ano': '2010 '},\n",
       " {'periodo': 'outubro/2010 ', 'mes': 'outubro', 'ano': '2010 '},\n",
       " {'periodo': 'setembro/2010 ', 'mes': 'setembro', 'ano': '2010 '},\n",
       " {'periodo': 'agosto/2010 ', 'mes': 'agosto', 'ano': '2010 '},\n",
       " {'periodo': 'julho/2010 ', 'mes': 'julho', 'ano': '2010 '},\n",
       " {'periodo': 'junho/2010 ', 'mes': 'junho', 'ano': '2010 '},\n",
       " {'periodo': 'maio/2010 ', 'mes': 'maio', 'ano': '2010 '},\n",
       " {'periodo': 'abril/2010 ', 'mes': 'abril', 'ano': '2010 '},\n",
       " {'periodo': 'março/2010 ', 'mes': 'março', 'ano': '2010 '},\n",
       " {'periodo': 'fevereiro/2010 ', 'mes': 'fevereiro', 'ano': '2010 '},\n",
       " {'periodo': 'janeiro/2010 ', 'mes': 'janeiro', 'ano': '2010 '},\n",
       " {'periodo': 'dezembro/2009 ', 'mes': 'dezembro', 'ano': '2009 '},\n",
       " {'periodo': 'novembro/2009 ', 'mes': 'novembro', 'ano': '2009 '},\n",
       " {'periodo': 'outubro/2009 ', 'mes': 'outubro', 'ano': '2009 '},\n",
       " {'periodo': 'setembro/2009 ', 'mes': 'setembro', 'ano': '2009 '},\n",
       " {'periodo': 'agosto/2009 ', 'mes': 'agosto', 'ano': '2009 '},\n",
       " {'periodo': 'julho/2009 ', 'mes': 'julho', 'ano': '2009 '},\n",
       " {'periodo': 'junho/2009 ', 'mes': 'junho', 'ano': '2009 '},\n",
       " {'periodo': 'maio/2009 ', 'mes': 'maio', 'ano': '2009 '},\n",
       " {'periodo': 'abril/2009 ', 'mes': 'abril', 'ano': '2009 '},\n",
       " {'periodo': 'março/2009 ', 'mes': 'março', 'ano': '2009 '},\n",
       " {'periodo': 'fevereiro/2009 ', 'mes': 'fevereiro', 'ano': '2009 '},\n",
       " {'periodo': 'janeiro/2009 ', 'mes': 'janeiro', 'ano': '2009 '},\n",
       " {'periodo': 'dezembro/2008 ', 'mes': 'dezembro', 'ano': '2008 '},\n",
       " {'periodo': 'novembro/2008 ', 'mes': 'novembro', 'ano': '2008 '},\n",
       " {'periodo': 'outubro/2008 ', 'mes': 'outubro', 'ano': '2008 '},\n",
       " {'periodo': 'setembro/2008 ', 'mes': 'setembro', 'ano': '2008 '},\n",
       " {'periodo': 'agosto/2008 ', 'mes': 'agosto', 'ano': '2008 '},\n",
       " {'periodo': 'julho/2008 ', 'mes': 'julho', 'ano': '2008 '},\n",
       " {'periodo': 'junho/2008 ', 'mes': 'junho', 'ano': '2008 '},\n",
       " {'periodo': 'maio/2008 ', 'mes': 'maio', 'ano': '2008 '},\n",
       " {'periodo': 'abril/2008 ', 'mes': 'abril', 'ano': '2008 '},\n",
       " {'periodo': 'março/2008 ', 'mes': 'março', 'ano': '2008 '},\n",
       " {'periodo': 'fevereiro/2008 ', 'mes': 'fevereiro', 'ano': '2008 '},\n",
       " {'periodo': 'janeiro/2008 ', 'mes': 'janeiro', 'ano': '2008 '},\n",
       " {'periodo': 'dezembro/2007 ', 'mes': 'dezembro', 'ano': '2007 '},\n",
       " {'periodo': 'novembro/2007 ', 'mes': 'novembro', 'ano': '2007 '},\n",
       " {'periodo': 'outubro/2007 ', 'mes': 'outubro', 'ano': '2007 '},\n",
       " {'periodo': 'setembro/2007 ', 'mes': 'setembro', 'ano': '2007 '},\n",
       " {'periodo': 'agosto/2007 ', 'mes': 'agosto', 'ano': '2007 '},\n",
       " {'periodo': 'julho/2007 ', 'mes': 'julho', 'ano': '2007 '},\n",
       " {'periodo': 'junho/2007 ', 'mes': 'junho', 'ano': '2007 '},\n",
       " {'periodo': 'maio/2007 ', 'mes': 'maio', 'ano': '2007 '},\n",
       " {'periodo': 'abril/2007 ', 'mes': 'abril', 'ano': '2007 '},\n",
       " {'periodo': 'março/2007 ', 'mes': 'março', 'ano': '2007 '},\n",
       " {'periodo': 'fevereiro/2007 ', 'mes': 'fevereiro', 'ano': '2007 '},\n",
       " {'periodo': 'janeiro/2007 ', 'mes': 'janeiro', 'ano': '2007 '},\n",
       " {'periodo': 'dezembro/2006 ', 'mes': 'dezembro', 'ano': '2006 '},\n",
       " {'periodo': 'novembro/2006 ', 'mes': 'novembro', 'ano': '2006 '},\n",
       " {'periodo': 'outubro/2006 ', 'mes': 'outubro', 'ano': '2006 '},\n",
       " {'periodo': 'setembro/2006 ', 'mes': 'setembro', 'ano': '2006 '},\n",
       " {'periodo': 'agosto/2006 ', 'mes': 'agosto', 'ano': '2006 '},\n",
       " {'periodo': 'julho/2006 ', 'mes': 'julho', 'ano': '2006 '},\n",
       " {'periodo': 'junho/2006 ', 'mes': 'junho', 'ano': '2006 '},\n",
       " {'periodo': 'maio/2006 ', 'mes': 'maio', 'ano': '2006 '},\n",
       " {'periodo': 'abril/2006 ', 'mes': 'abril', 'ano': '2006 '},\n",
       " {'periodo': 'março/2006 ', 'mes': 'março', 'ano': '2006 '},\n",
       " {'periodo': 'fevereiro/2006 ', 'mes': 'fevereiro', 'ano': '2006 '},\n",
       " {'periodo': 'janeiro/2006 ', 'mes': 'janeiro', 'ano': '2006 '},\n",
       " {'periodo': 'dezembro/2005 ', 'mes': 'dezembro', 'ano': '2005 '},\n",
       " {'periodo': 'novembro/2005 ', 'mes': 'novembro', 'ano': '2005 '},\n",
       " {'periodo': 'outubro/2005 ', 'mes': 'outubro', 'ano': '2005 '},\n",
       " {'periodo': 'setembro/2005 ', 'mes': 'setembro', 'ano': '2005 '},\n",
       " {'periodo': 'agosto/2005 ', 'mes': 'agosto', 'ano': '2005 '},\n",
       " {'periodo': 'julho/2005 ', 'mes': 'julho', 'ano': '2005 '},\n",
       " {'periodo': 'junho/2005 ', 'mes': 'junho', 'ano': '2005 '},\n",
       " {'periodo': 'maio/2005 ', 'mes': 'maio', 'ano': '2005 '},\n",
       " {'periodo': 'abril/2005 ', 'mes': 'abril', 'ano': '2005 '},\n",
       " {'periodo': 'março/2005 ', 'mes': 'março', 'ano': '2005 '},\n",
       " {'periodo': 'fevereiro/2005 ', 'mes': 'fevereiro', 'ano': '2005 '},\n",
       " {'periodo': 'janeiro/2005 ', 'mes': 'janeiro', 'ano': '2005 '},\n",
       " {'periodo': 'dezembro/2004 ', 'mes': 'dezembro', 'ano': '2004 '},\n",
       " {'periodo': 'novembro/2004 ', 'mes': 'novembro', 'ano': '2004 '},\n",
       " {'periodo': 'outubro/2004 ', 'mes': 'outubro', 'ano': '2004 '},\n",
       " {'periodo': 'setembro/2004 ', 'mes': 'setembro', 'ano': '2004 '},\n",
       " {'periodo': 'agosto/2004 ', 'mes': 'agosto', 'ano': '2004 '},\n",
       " {'periodo': 'julho/2004 ', 'mes': 'julho', 'ano': '2004 '},\n",
       " {'periodo': 'junho/2004 ', 'mes': 'junho', 'ano': '2004 '},\n",
       " {'periodo': 'maio/2004 ', 'mes': 'maio', 'ano': '2004 '},\n",
       " {'periodo': 'abril/2004 ', 'mes': 'abril', 'ano': '2004 '},\n",
       " {'periodo': 'março/2004 ', 'mes': 'março', 'ano': '2004 '},\n",
       " {'periodo': 'fevereiro/2004 ', 'mes': 'fevereiro', 'ano': '2004 '},\n",
       " {'periodo': 'janeiro/2004 ', 'mes': 'janeiro', 'ano': '2004 '},\n",
       " {'periodo': 'dezembro/2003 ', 'mes': 'dezembro', 'ano': '2003 '},\n",
       " {'periodo': 'novembro/2003 ', 'mes': 'novembro', 'ano': '2003 '},\n",
       " {'periodo': 'outubro/2003 ', 'mes': 'outubro', 'ano': '2003 '},\n",
       " {'periodo': 'setembro/2003 ', 'mes': 'setembro', 'ano': '2003 '},\n",
       " {'periodo': 'agosto/2003 ', 'mes': 'agosto', 'ano': '2003 '},\n",
       " {'periodo': 'julho/2003 ', 'mes': 'julho', 'ano': '2003 '},\n",
       " {'periodo': 'junho/2003 ', 'mes': 'junho', 'ano': '2003 '},\n",
       " {'periodo': 'maio/2003 ', 'mes': 'maio', 'ano': '2003 '},\n",
       " {'periodo': 'abril/2003 ', 'mes': 'abril', 'ano': '2003 '},\n",
       " {'periodo': 'março/2003 ', 'mes': 'março', 'ano': '2003 '},\n",
       " {'periodo': 'fevereiro/2003 ', 'mes': 'fevereiro', 'ano': '2003 '},\n",
       " {'periodo': 'janeiro/2003 ', 'mes': 'janeiro', 'ano': '2003 '},\n",
       " {'periodo': 'dezembro/2002 ', 'mes': 'dezembro', 'ano': '2002 '},\n",
       " {'periodo': 'novembro/2002 ', 'mes': 'novembro', 'ano': '2002 '},\n",
       " {'periodo': 'outubro/2002 ', 'mes': 'outubro', 'ano': '2002 '},\n",
       " {'periodo': 'setembro/2002 ', 'mes': 'setembro', 'ano': '2002 '},\n",
       " {'periodo': 'agosto/2002 ', 'mes': 'agosto', 'ano': '2002 '},\n",
       " {'periodo': 'julho/2002 ', 'mes': 'julho', 'ano': '2002 '},\n",
       " {'periodo': 'junho/2002 ', 'mes': 'junho', 'ano': '2002 '},\n",
       " {'periodo': 'maio/2002 ', 'mes': 'maio', 'ano': '2002 '},\n",
       " {'periodo': 'abril/2002 ', 'mes': 'abril', 'ano': '2002 '},\n",
       " {'periodo': 'março/2002 ', 'mes': 'março', 'ano': '2002 '},\n",
       " {'periodo': 'fevereiro/2002 ', 'mes': 'fevereiro', 'ano': '2002 '},\n",
       " {'periodo': 'janeiro/2002 ', 'mes': 'janeiro', 'ano': '2002 '},\n",
       " {'periodo': 'dezembro/2001 ', 'mes': 'dezembro', 'ano': '2001 '},\n",
       " {'periodo': 'novembro/2001 ', 'mes': 'novembro', 'ano': '2001 '},\n",
       " {'periodo': 'outubro/2001 ', 'mes': 'outubro', 'ano': '2001 '},\n",
       " {'periodo': 'setembro/2001 ', 'mes': 'setembro', 'ano': '2001 '},\n",
       " {'periodo': 'agosto/2001 ', 'mes': 'agosto', 'ano': '2001 '},\n",
       " {'periodo': 'julho/2001 ', 'mes': 'julho', 'ano': '2001 '},\n",
       " {'periodo': 'junho/2001 ', 'mes': 'junho', 'ano': '2001 '},\n",
       " {'periodo': 'maio/2001 ', 'mes': 'maio', 'ano': '2001 '},\n",
       " {'periodo': 'abril/2001 ', 'mes': 'abril', 'ano': '2001 '},\n",
       " {'periodo': 'março/2001 ', 'mes': 'março', 'ano': '2001 '},\n",
       " {'periodo': 'fevereiro/2001 ', 'mes': 'fevereiro', 'ano': '2001 '},\n",
       " {'periodo': 'janeiro/2001 ', 'mes': 'janeiro', 'ano': '2001 '}]"
      ]
     },
     "execution_count": 79,
     "metadata": {},
     "output_type": "execute_result"
    }
   ],
   "source": [
    "periodos"
   ]
  },
  {
   "cell_type": "code",
   "execution_count": null,
   "id": "verified-cover",
   "metadata": {},
   "outputs": [],
   "source": []
  }
 ],
 "metadata": {
  "kernelspec": {
   "display_name": "coleta_dados",
   "language": "python",
   "name": "coleta_dados"
  },
  "language_info": {
   "codemirror_mode": {
    "name": "ipython",
    "version": 3
   },
   "file_extension": ".py",
   "mimetype": "text/x-python",
   "name": "python",
   "nbconvert_exporter": "python",
   "pygments_lexer": "ipython3",
   "version": "3.9.0"
  }
 },
 "nbformat": 4,
 "nbformat_minor": 5
}
